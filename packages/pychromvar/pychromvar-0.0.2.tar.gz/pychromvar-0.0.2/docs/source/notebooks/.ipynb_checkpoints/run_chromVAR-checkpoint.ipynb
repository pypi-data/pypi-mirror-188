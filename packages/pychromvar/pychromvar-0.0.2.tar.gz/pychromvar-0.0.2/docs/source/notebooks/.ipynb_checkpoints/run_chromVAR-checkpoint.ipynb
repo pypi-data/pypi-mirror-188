{
 "cells": [
  {
   "cell_type": "markdown",
   "id": "e8b8e7da-4243-4d58-a2f1-4b870ba031c1",
   "metadata": {},
   "source": [
    "# Comparison between pychromVAR and chromVAR: Part I"
   ]
  },
  {
   "cell_type": "markdown",
   "id": "648b47d4-c6d4-4b87-9520-93cb559027fa",
   "metadata": {},
   "source": [
    "Since we completely re-implemented the algorithm proposed in [chromVAR](https://www.nature.com/articles/nmeth.4401) in Python, \n",
    "we may want to confirm that these two packages can produce the similar, if not exactly same, results. So here we test them on a small example data from chromVAR."
   ]
  },
  {
   "cell_type": "markdown",
   "id": "562e8c50-adaa-49ac-a460-a381ac0daa41",
   "metadata": {},
   "source": [
    "## Run chromVAR on example data"
   ]
  },
  {
   "cell_type": "markdown",
   "id": "28012f3c-717e-4229-8345-62629cc77a5b",
   "metadata": {},
   "source": [
    "We first load the packages that we need"
   ]
  },
  {
   "cell_type": "code",
   "execution_count": 1,
   "id": "6936f4a0-b886-4e8a-b6c2-e08e2a5cb536",
   "metadata": {},
   "outputs": [],
   "source": [
    "suppressMessages(library(chromVAR))\n",
    "suppressMessages(library(Repitools))\n",
    "suppressMessages(library(SummarizedExperiment))\n",
    "suppressMessages(library(motifmatchr))\n",
    "suppressMessages(library(Matrix))\n",
    "suppressMessages(library(BiocParallel))\n",
    "suppressMessages(library(BSgenome.Hsapiens.UCSC.hg19))\n",
    "suppressMessages(library(JASPAR2020))\n",
    "suppressMessages(library(TFBSTools))\n",
    "set.seed(2017)"
   ]
  },
  {
   "cell_type": "markdown",
   "id": "e9cef265-97aa-4f55-97fe-32dffc9372ee",
   "metadata": {},
   "source": [
    "Let's get the example count matrix"
   ]
  },
  {
   "cell_type": "code",
   "execution_count": 2,
   "id": "e722f974-9913-4f41-ac85-c15ff618a50f",
   "metadata": {},
   "outputs": [],
   "source": [
    "data(example_counts, package = \"chromVAR\")"
   ]
  },
  {
   "cell_type": "markdown",
   "id": "74a72f2c-fec7-4644-9e1a-d845f1b18740",
   "metadata": {},
   "source": [
    "We can check how the peaks look like:"
   ]
  },
  {
   "cell_type": "code",
   "execution_count": 3,
   "id": "3709c8c1-1734-4a5b-a420-c7c0eb13f9dc",
   "metadata": {},
   "outputs": [
    {
     "data": {
      "text/html": [
       "<table class=\"dataframe\">\n",
       "<caption>A data.frame: 6 × 8</caption>\n",
       "<thead>\n",
       "\t<tr><th></th><th scope=col>chr</th><th scope=col>start</th><th scope=col>end</th><th scope=col>width</th><th scope=col>score</th><th scope=col>qval</th><th scope=col>name</th><th scope=col>peak</th></tr>\n",
       "\t<tr><th></th><th scope=col>&lt;fct&gt;</th><th scope=col>&lt;int&gt;</th><th scope=col>&lt;int&gt;</th><th scope=col>&lt;int&gt;</th><th scope=col>&lt;int&gt;</th><th scope=col>&lt;dbl&gt;</th><th scope=col>&lt;chr&gt;</th><th scope=col>&lt;chr&gt;</th></tr>\n",
       "</thead>\n",
       "<tbody>\n",
       "\t<tr><th scope=row>1</th><td>chr1</td><td>713933</td><td>714432</td><td>500</td><td>259</td><td>25.99629</td><td>GM_peak_6  </td><td>chr1-713933-714432</td></tr>\n",
       "\t<tr><th scope=row>2</th><td>chr1</td><td>856395</td><td>856894</td><td>500</td><td> 82</td><td> 8.21494</td><td>H1_peak_7  </td><td>chr1-856395-856894</td></tr>\n",
       "\t<tr><th scope=row>3</th><td>chr1</td><td>895780</td><td>896279</td><td>500</td><td>156</td><td>15.65456</td><td>GM_peak_17 </td><td>chr1-895780-896279</td></tr>\n",
       "\t<tr><th scope=row>4</th><td>chr1</td><td>911578</td><td>912077</td><td>500</td><td> 82</td><td> 8.21494</td><td>H1_peak_13 </td><td>chr1-911578-912077</td></tr>\n",
       "\t<tr><th scope=row>5</th><td>chr1</td><td>948576</td><td>949075</td><td>500</td><td>140</td><td>14.03065</td><td>GM_peak_27 </td><td>chr1-948576-949075</td></tr>\n",
       "\t<tr><th scope=row>6</th><td>chr1</td><td>954541</td><td>955040</td><td>500</td><td>189</td><td>18.99529</td><td>GM_peak_29a</td><td>chr1-954541-955040</td></tr>\n",
       "</tbody>\n",
       "</table>\n"
      ],
      "text/latex": [
       "A data.frame: 6 × 8\n",
       "\\begin{tabular}{r|llllllll}\n",
       "  & chr & start & end & width & score & qval & name & peak\\\\\n",
       "  & <fct> & <int> & <int> & <int> & <int> & <dbl> & <chr> & <chr>\\\\\n",
       "\\hline\n",
       "\t1 & chr1 & 713933 & 714432 & 500 & 259 & 25.99629 & GM\\_peak\\_6   & chr1-713933-714432\\\\\n",
       "\t2 & chr1 & 856395 & 856894 & 500 &  82 &  8.21494 & H1\\_peak\\_7   & chr1-856395-856894\\\\\n",
       "\t3 & chr1 & 895780 & 896279 & 500 & 156 & 15.65456 & GM\\_peak\\_17  & chr1-895780-896279\\\\\n",
       "\t4 & chr1 & 911578 & 912077 & 500 &  82 &  8.21494 & H1\\_peak\\_13  & chr1-911578-912077\\\\\n",
       "\t5 & chr1 & 948576 & 949075 & 500 & 140 & 14.03065 & GM\\_peak\\_27  & chr1-948576-949075\\\\\n",
       "\t6 & chr1 & 954541 & 955040 & 500 & 189 & 18.99529 & GM\\_peak\\_29a & chr1-954541-955040\\\\\n",
       "\\end{tabular}\n"
      ],
      "text/markdown": [
       "\n",
       "A data.frame: 6 × 8\n",
       "\n",
       "| <!--/--> | chr &lt;fct&gt; | start &lt;int&gt; | end &lt;int&gt; | width &lt;int&gt; | score &lt;int&gt; | qval &lt;dbl&gt; | name &lt;chr&gt; | peak &lt;chr&gt; |\n",
       "|---|---|---|---|---|---|---|---|---|\n",
       "| 1 | chr1 | 713933 | 714432 | 500 | 259 | 25.99629 | GM_peak_6   | chr1-713933-714432 |\n",
       "| 2 | chr1 | 856395 | 856894 | 500 |  82 |  8.21494 | H1_peak_7   | chr1-856395-856894 |\n",
       "| 3 | chr1 | 895780 | 896279 | 500 | 156 | 15.65456 | GM_peak_17  | chr1-895780-896279 |\n",
       "| 4 | chr1 | 911578 | 912077 | 500 |  82 |  8.21494 | H1_peak_13  | chr1-911578-912077 |\n",
       "| 5 | chr1 | 948576 | 949075 | 500 | 140 | 14.03065 | GM_peak_27  | chr1-948576-949075 |\n",
       "| 6 | chr1 | 954541 | 955040 | 500 | 189 | 18.99529 | GM_peak_29a | chr1-954541-955040 |\n",
       "\n"
      ],
      "text/plain": [
       "  chr  start  end    width score qval     name        peak              \n",
       "1 chr1 713933 714432 500   259   25.99629 GM_peak_6   chr1-713933-714432\n",
       "2 chr1 856395 856894 500    82    8.21494 H1_peak_7   chr1-856395-856894\n",
       "3 chr1 895780 896279 500   156   15.65456 GM_peak_17  chr1-895780-896279\n",
       "4 chr1 911578 912077 500    82    8.21494 H1_peak_13  chr1-911578-912077\n",
       "5 chr1 948576 949075 500   140   14.03065 GM_peak_27  chr1-948576-949075\n",
       "6 chr1 954541 955040 500   189   18.99529 GM_peak_29a chr1-954541-955040"
      ]
     },
     "metadata": {},
     "output_type": "display_data"
    }
   ],
   "source": [
    "df_peaks <- annoGR2DF(example_counts@rowRanges)\n",
    "df_peaks$peak <- paste0(df_peaks$chr, \"-\", df_peaks$start, \"-\", df_peaks$end)\n",
    "head(df_peaks)"
   ]
  },
  {
   "cell_type": "markdown",
   "id": "830e5d79-a6ec-4258-ab92-0247dad951e7",
   "metadata": {},
   "source": [
    "Next, we pre-process the data by adding GC bias for each peak and identify the backgrounds"
   ]
  },
  {
   "cell_type": "code",
   "execution_count": 4,
   "id": "5f896f9b-7d70-46c8-b8c9-7b102fd09a7c",
   "metadata": {},
   "outputs": [],
   "source": [
    "example_counts <- addGCBias(example_counts, \n",
    "                            genome = BSgenome.Hsapiens.UCSC.hg19)\n",
    "bg_peaks <- getBackgroundPeaks(example_counts)\n",
    "\n",
    "write.csv(bg_peaks, \"bg_peaks.csv\")"
   ]
  },
  {
   "cell_type": "markdown",
   "id": "7676d13a-38bb-424f-ac78-06dba88ab0f7",
   "metadata": {},
   "source": [
    "Perform motif matching to get TF binding sites"
   ]
  },
  {
   "cell_type": "code",
   "execution_count": 5,
   "id": "67bb38a5-1cda-4124-814e-7fe3d9b30593",
   "metadata": {},
   "outputs": [],
   "source": [
    "opts <- list()\n",
    "opts[[\"collections\"]] = c(\"CORE\")\n",
    "opts[[\"tax_group\"]] = c(\"vertebrates\")\n",
    "motifs <- getMatrixSet(JASPAR2020, opts)\n",
    "\n",
    "names(motifs) <- paste(names(motifs), name(motifs), sep = \".\")\n",
    "\n",
    "motif_ix <- matchMotifs(motifs, example_counts,\n",
    "                         genome = BSgenome.Hsapiens.UCSC.hg19, \n",
    "                        p.cutoff = 5e-05)"
   ]
  },
  {
   "cell_type": "markdown",
   "id": "3db33658-c410-460b-8096-ebab93785590",
   "metadata": {},
   "source": [
    "We here save the motif matching results for later use"
   ]
  },
  {
   "cell_type": "code",
   "execution_count": 6,
   "id": "58037088-c381-449d-b4c4-c7ef96e546fa",
   "metadata": {},
   "outputs": [],
   "source": [
    "df_motifmatch <- as.data.frame(as.matrix(assays(motif_ix)$motifMatches) * 1)\n",
    "write.csv(df_motifmatch, \"chromvar_motif_match.csv\")"
   ]
  },
  {
   "cell_type": "markdown",
   "id": "cded518a-a036-4f4f-a6a3-abd2cf3807b2",
   "metadata": {},
   "source": [
    "We now can estimate the deviations with chromVAR"
   ]
  },
  {
   "cell_type": "code",
   "execution_count": 7,
   "id": "2bcf0c29-14d1-40bd-8088-845a35be6d92",
   "metadata": {},
   "outputs": [
    {
     "data": {
      "text/plain": [
       "class: chromVARDeviations \n",
       "dim: 746 50 \n",
       "metadata(0):\n",
       "assays(2): deviations z\n",
       "rownames(746): MA0004.1.Arnt MA0006.1.Ahr::Arnt ... MA0528.2.ZNF263\n",
       "  MA0609.2.CREM\n",
       "rowData names(3): name fractionMatches fractionBackgroundOverlap\n",
       "colnames(50): singles-GM12878-140905-1 singles-GM12878-140905-2 ...\n",
       "  singles-H1ESC-140820-24 singles-H1ESC-140820-25\n",
       "colData names(2): Cell_Type depth"
      ]
     },
     "metadata": {},
     "output_type": "display_data"
    }
   ],
   "source": [
    "dev <- computeDeviations(object = example_counts, \n",
    "                         annotations = motif_ix)\n",
    "\n",
    "dev"
   ]
  },
  {
   "cell_type": "markdown",
   "id": "10f44082-c5cc-42fd-a0a9-19c4e617ec51",
   "metadata": {},
   "source": [
    "Let's save the final results so we can compare it with pychromVAR"
   ]
  },
  {
   "cell_type": "code",
   "execution_count": 8,
   "id": "b1c1216c-c64e-420a-9d1c-cc81554ef045",
   "metadata": {},
   "outputs": [],
   "source": [
    "df_z <- as.data.frame(t(round(assays(dev)$z, 2)))\n",
    "write.csv(df_z, \"chromvar_z.csv\")"
   ]
  },
  {
   "cell_type": "markdown",
   "id": "d4c6c4b1-650f-4c6c-bc02-b774376cdce4",
   "metadata": {},
   "source": [
    "We also save the count matrix so we can use it as input for pychromVAR"
   ]
  },
  {
   "cell_type": "code",
   "execution_count": 9,
   "id": "be1e234e-5d59-4e99-882e-c746816a0095",
   "metadata": {},
   "outputs": [],
   "source": [
    "counts <- assays(example_counts)$counts\n",
    "rownames(counts) <- df_peaks$peak\n",
    "counts <- as.data.frame(as.matrix(counts))\n",
    "write.csv(counts, \"counts.csv\")"
   ]
  }
 ],
 "metadata": {
  "kernelspec": {
   "display_name": "R",
   "language": "R",
   "name": "ir"
  },
  "language_info": {
   "codemirror_mode": "r",
   "file_extension": ".r",
   "mimetype": "text/x-r-source",
   "name": "R",
   "pygments_lexer": "r",
   "version": "4.1.3"
  }
 },
 "nbformat": 4,
 "nbformat_minor": 5
}
