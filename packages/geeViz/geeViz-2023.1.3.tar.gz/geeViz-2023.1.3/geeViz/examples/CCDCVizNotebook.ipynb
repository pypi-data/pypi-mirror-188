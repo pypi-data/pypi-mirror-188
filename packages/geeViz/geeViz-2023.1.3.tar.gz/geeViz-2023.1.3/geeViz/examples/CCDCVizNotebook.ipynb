{
 "cells": [
  {
   "cell_type": "markdown",
   "id": "15b5b935",
   "metadata": {},
   "source": [
    "\n",
    "   Copyright 2022 Ian Housman\n",
    "\n",
    "   Licensed under the Apache License, Version 2.0 (the \"License\");\n",
    "   you may not use this file except in compliance with the License.\n",
    "   You may obtain a copy of the License at\n",
    "\n",
    "       http://www.apache.org/licenses/LICENSE-2.0\n",
    "\n",
    "   Unless required by applicable law or agreed to in writing, software\n",
    "   distributed under the License is distributed on an \"AS IS\" BASIS,\n",
    "   WITHOUT WARRANTIES OR CONDITIONS OF ANY KIND, either express or implied.\n",
    "   See the License for the specific language governing permissions and\n",
    "   limitations under the License.\n"
   ]
  },
  {
   "cell_type": "code",
   "execution_count": 1,
   "id": "e57ee268",
   "metadata": {},
   "outputs": [
    {
     "name": "stdout",
     "output_type": "stream",
     "text": [
      "Initializing GEE\n",
      "geeViz package folder: c:\\Python310\\lib\\site-packages\\geeViz\n",
      "done\n"
     ]
    }
   ],
   "source": [
    "#Example of how to visualize CCDC outputs using the Python visualization tools\n",
    "#Adds change products and fitted harmonics from CCDC output to the viewer\n",
    "#The general workflow for CCDC is to run the CCDCWrapper.py script, and then either utilize the harmonic model for a given date\n",
    "#or to use the breaks for change detection. All of this is demonstrated in this example\n",
    "####################################################################################################\n",
    "import os,sys\n",
    "sys.path.append(os.getcwd())\n",
    "\n",
    "#Module imports\n",
    "import geeViz.getImagesLib as getImagesLib\n",
    "import geeViz.changeDetectionLib as changeDetectionLib\n",
    "ee = getImagesLib.ee\n",
    "Map = getImagesLib.Map\n",
    "Map.clearMap()\n",
    "####################################################################################################\n",
    "#Bring in ccdc image asset\n",
    "#This is assumed to be an image of arrays that is returned from the ee.Algorithms.TemporalSegmentation.Ccdc method\n",
    "ccdcImg = ee.ImageCollection('projects/lcms-292214/assets/CONUS-LCMS/Base-Learners/CCDC-Collection-1984-2021')\\\n",
    "          .select(['tStart','tEnd','tBreak','changeProb','red.*','nir.*','swir1.*','swir2.*','NDVI.*','NBR.*']).mosaic()\n",
    "\n",
    "\n",
    "#Specify which harmonics to use when predicting the CCDC model\n",
    "#CCDC exports the first 3 harmonics (1 cycle/yr, 2 cycles/yr, and 3 cycles/yr)\n",
    "#If you only want to see yearly patterns, specify [1]\n",
    "#If you would like a tighter fit in the predicted value, include the second or third harmonic as well [1,2,3]\n",
    "whichHarmonics = [1,2,3]\n",
    "\n",
    "#Whether to fill gaps between segments' end year and the subsequent start year to the break date\n",
    "fillGaps = False\n",
    "\n",
    "#Specify which band to use for loss and gain. \n",
    "#This is most important for the loss and gain magnitude since the year of change will be the same for all years\n",
    "changeDetectionBandName = 'NDVI'\n",
    "\n",
    "# Choose whether to show the most recent ('mostRecent') or highest magnitude ('highestMag') CCDC break\n",
    "sortingMethod = 'mostRecent'\n",
    "####################################################################################################\n",
    "#Pull out some info about the ccdc image\n",
    "startJulian = 1\n",
    "endJulian = 365\n",
    "startYear = 1984\n",
    "endYear = 2020\n",
    "print('done')"
   ]
  },
  {
   "cell_type": "code",
   "execution_count": 2,
   "id": "26bdb396",
   "metadata": {},
   "outputs": [
    {
     "name": "stdout",
     "output_type": "stream",
     "text": [
      "Adding layer: Raw CCDC Output\n",
      "Starting webmap\n",
      "Using default refresh token for geeView: C:\\Users\\ihousman/.config/earthengine/credentials\n",
      "Starting local web server at: http://localhost:8001/geeView/\n",
      "HTTP server command: \"c:\\Python310\\python.exe\" -m http.server  8001\n",
      "Done\n",
      "cwd a:\\GEE\\gee_py_modules_package\\geeViz\\examples\n"
     ]
    },
    {
     "data": {
      "text/html": [
       "\n",
       "        <iframe\n",
       "            width=\"100%\"\n",
       "            height=\"525px\"\n",
       "            src=\"http://localhost:8001/geeView/?accessToken=ya29.a0AX9GBdXULpz_HXqAFkjkBFk_Dsn97t2oKnxYdsPU0V9X_v0hnhBxb6cVvGwXUwLj_wQ0wwXeBd8cwA9ju0DbtU2IZtcoEOIVRQ35IhHlaE6x-xNhxHV8k4fzrB-EsU1pJAbDrAHEK-DcXQCf_Gndk3GVE4eqNOoIQhGluAaCgYKAcYSAQASFQHUCsbCI8LP-pZzPJz-DNh0ipKw_g0173\"\n",
       "            frameborder=\"0\"\n",
       "            allowfullscreen\n",
       "            \n",
       "        ></iframe>\n",
       "        "
      ],
      "text/plain": [
       "<IPython.lib.display.IFrame at 0x1f6842c5930>"
      ]
     },
     "execution_count": 2,
     "metadata": {},
     "output_type": "execute_result"
    }
   ],
   "source": [
    "Map.clearMap()\n",
    "#Add the raw array image\n",
    "Map.addLayer(ccdcImg,{},'Raw CCDC Output',True)\n",
    "Map.centerObject(ccdcImg)\n",
    "Map.turnOnInspector()\n",
    "Map.view(open_browser = False, open_iframe = True)\n",
    "Map.IFrame\n",
    "#Double click on map to see raw CCDC output image array values\n",
    "#Notice it is difficult to interpret these values as a time series since only breaks and their respective harmonic models are stored"
   ]
  },
  {
   "cell_type": "code",
   "execution_count": 3,
   "id": "194029e4",
   "metadata": {},
   "outputs": [
    {
     "name": "stdout",
     "output_type": "stream",
     "text": [
      "Adding layer: Loss Year\n",
      "Adding layer: Loss Mag\n",
      "Adding layer: Gain Year\n",
      "Adding layer: Gain Mag\n",
      "Starting webmap\n",
      "Using default refresh token for geeView: C:\\Users\\ihousman/.config/earthengine/credentials\n",
      "Local web server at: http://localhost:8001/geeView/ already serving.\n",
      "cwd a:\\GEE\\gee_py_modules_package\\geeViz\\examples\n"
     ]
    },
    {
     "data": {
      "text/html": [
       "\n",
       "        <iframe\n",
       "            width=\"100%\"\n",
       "            height=\"525px\"\n",
       "            src=\"http://localhost:8001/geeView/?accessToken=ya29.a0AX9GBdWsgiZ-sSf0luMlwgtHXuQFWdtYvhGS28DzX8NGsMh31vK54UP1BQYnXj81bcRb75CWn4J7MYXyNWyzwmk2aGYzsfqo4T10yLBPm9TGMLr2eKWqzZ6oie8INfK_8Na4Wz_pOIkv_rBzOmMyvpcDSFEiQU_Km03JSAaCgYKAX8SAQASFQHUCsbCdny1px8Wm9gg7AR2hZluEQ0173\"\n",
       "            frameborder=\"0\"\n",
       "            allowfullscreen\n",
       "            \n",
       "        ></iframe>\n",
       "        "
      ],
      "text/plain": [
       "<IPython.lib.display.IFrame at 0x1f683f6df00>"
      ]
     },
     "execution_count": 3,
     "metadata": {},
     "output_type": "execute_result"
    }
   ],
   "source": [
    "Map.clearMap()\n",
    "#We will not look at more useful ways of visualizing CCDC outputs\n",
    "#First, we will extract the change years and magnitude\n",
    "changeObj = changeDetectionLib.ccdcChangeDetection(ccdcImg,changeDetectionBandName);\n",
    "Map.addLayer(changeObj[sortingMethod]['loss']['year'],{'min':startYear,'max':endYear,'palette':changeDetectionLib.lossYearPalette},'Loss Year')\n",
    "Map.addLayer(changeObj[sortingMethod]['loss']['mag'],{'min':-0.5,'max':-0.1,'palette':changeDetectionLib.lossMagPalette},'Loss Mag',False);\n",
    "Map.addLayer(changeObj[sortingMethod]['gain']['year'],{'min':startYear,'max':endYear,'palette':changeDetectionLib.gainYearPalette},'Gain Year');\n",
    "Map.addLayer(changeObj[sortingMethod]['gain']['mag'],{'min':0.05,'max':0.2,'palette':changeDetectionLib.gainMagPalette},'Gain Mag',False);\n",
    "\n",
    "Map.turnOnInspector()\n",
    "Map.view(open_browser = False, open_iframe = True)\n",
    "Map.IFrame\n",
    "#Double click on map to see raw years of loss and gain breaks\n",
    "#Notice as you zoom in the layers change since GEE is processing outputs at a given pyramid level"
   ]
  },
  {
   "cell_type": "code",
   "execution_count": 4,
   "id": "4a8031fe",
   "metadata": {},
   "outputs": [
    {
     "name": "stdout",
     "output_type": "stream",
     "text": [
      "Adding layer: Fitted CCDC\n",
      "Starting webmap\n",
      "Using default refresh token for geeView: C:\\Users\\ihousman/.config/earthengine/credentials\n",
      "Local web server at: http://localhost:8001/geeView/ already serving.\n",
      "cwd a:\\GEE\\gee_py_modules_package\\geeViz\\examples\n"
     ]
    },
    {
     "data": {
      "text/html": [
       "\n",
       "        <iframe\n",
       "            width=\"100%\"\n",
       "            height=\"525px\"\n",
       "            src=\"http://localhost:8001/geeView/?accessToken=ya29.a0AX9GBdWjWcX4YFG4HBr4LX210Vos-yNj8vfXx3430IVHu2FQbRAVJU2mGIaJ3FIPl0g8aYwcf1YZJU3a0q536ko8pTYN6ouNVU4o3v_WiEPU9lct1KE6DNz9gbevBROsa9W7U0Begy-MP_PfcvW6CcmNHZxigW5Dzn911gaCgYKAVESAQASFQHUCsbCAcShyw8YPmwkiBj1zV3QOg0173\"\n",
       "            frameborder=\"0\"\n",
       "            allowfullscreen\n",
       "            \n",
       "        ></iframe>\n",
       "        "
      ],
      "text/plain": [
       "<IPython.lib.display.IFrame at 0x1f6863771c0>"
      ]
     },
     "execution_count": 4,
     "metadata": {},
     "output_type": "execute_result"
    }
   ],
   "source": [
    "Map.clearMap()\n",
    "#Apply the CCDC harmonic model across a time series\n",
    "#First get a time series of time images \n",
    "yearImages = changeDetectionLib.getTimeImageCollection(startYear,endYear,startJulian,endJulian,0.1);\n",
    "\n",
    "#Then predict the CCDC models\n",
    "fitted = changeDetectionLib.predictCCDC(ccdcImg,yearImages,fillGaps,whichHarmonics)\n",
    "Map.addLayer(fitted.select(['.*_predicted']),{'opacity':0},'Fitted CCDC',True);\n",
    "\n",
    "Map.turnOnInspector()\n",
    "Map.view(open_browser = False, open_iframe = True)\n",
    "Map.IFrame\n",
    "\n",
    "#No layers will draw, but you can double click on map to see the fitted CCDC time series"
   ]
  },
  {
   "cell_type": "code",
   "execution_count": null,
   "id": "83684512",
   "metadata": {},
   "outputs": [],
   "source": []
  }
 ],
 "metadata": {
  "kernelspec": {
   "display_name": "Python 3.10.0 64-bit",
   "language": "python",
   "name": "python3"
  },
  "language_info": {
   "codemirror_mode": {
    "name": "ipython",
    "version": 3
   },
   "file_extension": ".py",
   "mimetype": "text/x-python",
   "name": "python",
   "nbconvert_exporter": "python",
   "pygments_lexer": "ipython3",
   "version": "3.10.0"
  },
  "vscode": {
   "interpreter": {
    "hash": "369f2c481f4da34e4445cda3fffd2e751bd1c4d706f27375911949ba6bb62e1c"
   }
  }
 },
 "nbformat": 4,
 "nbformat_minor": 5
}
