{
 "cells": [
  {
   "cell_type": "markdown",
   "id": "884438f5",
   "metadata": {},
   "source": [
    "Copyright 2022 Ian Housman\n",
    "\n",
    "Licensed under the Apache License, Version 2.0 (the \"License\");\n",
    "you may not use this file except in compliance with the License.\n",
    "You may obtain a copy of the License at\n",
    "\n",
    "   http://www.apache.org/licenses/LICENSE-2.0\n",
    "\n",
    "Unless required by applicable law or agreed to in writing, software\n",
    "distributed under the License is distributed on an \"AS IS\" BASIS,\n",
    "WITHOUT WARRANTIES OR CONDITIONS OF ANY KIND, either express or implied.\n",
    "See the License for the specific language governing permissions and\n",
    "limitations under the License."
   ]
  },
  {
   "cell_type": "code",
   "execution_count": 1,
   "id": "26c53654",
   "metadata": {
    "scrolled": true
   },
   "outputs": [
    {
     "name": "stdout",
     "output_type": "stream",
     "text": [
      "Initializing GEE\n",
      "geeViz package folder: c:\\python38\\lib\\site-packages\\geeViz\n",
      "done\n"
     ]
    }
   ],
   "source": [
    "#Example of how to get Landsat data using the getImagesLib, create median composites, run LandTrendr and then filter \n",
    "#LandTrendr output into usable data depicting where, when, and the magnitude of loss and gain\n",
    "####################################################################################################\n",
    "import os,sys\n",
    "sys.path.append(os.getcwd())\n",
    "\n",
    "#Module imports\n",
    "import geeViz.getImagesLib as getImagesLib\n",
    "import geeViz.changeDetectionLib as changeDetectionLib\n",
    "ee = getImagesLib.ee\n",
    "\n",
    "#Set up to mapper objects to use\n",
    "#Can use the default one first\n",
    "Map1 = getImagesLib.Map\n",
    "\n",
    "#Set up another\n",
    "Map2 = getImagesLib.mapper()\n",
    "\n",
    "print('done')"
   ]
  },
  {
   "cell_type": "code",
   "execution_count": 2,
   "id": "62534162",
   "metadata": {
    "scrolled": true
   },
   "outputs": [
    {
     "name": "stdout",
     "output_type": "stream",
     "text": [
      "Done\n"
     ]
    }
   ],
   "source": [
    "# Define user parameters:\n",
    "\n",
    "# Specify study area: Study area\n",
    "# Can be a featureCollection, feature, or geometry\n",
    "studyArea = getImagesLib.testAreas['CA']\n",
    "\n",
    "# Update the startJulian and endJulian variables to indicate your seasonal \n",
    "# constraints. This supports wrapping for tropics and southern hemisphere.\n",
    "# If using wrapping and the majority of the days occur in the second year, the system:time_start will default \n",
    "# to June 1 of that year.Otherwise, all system:time_starts will default to June 1 of the given year\n",
    "# startJulian: Starting Julian date \n",
    "# endJulian: Ending Julian date\n",
    "startJulian = 152\n",
    "endJulian = 273\n",
    "\n",
    "# Specify start and end years for all analyses\n",
    "# More than a 3 year span should be provided for time series methods to work \n",
    "# well. If using Fmask as the cloud/cloud shadow masking method, or providing\n",
    "# pre-computed stats for cloudScore and TDOM, this does not \n",
    "# matter\n",
    "startYear = 1990  \n",
    "endYear = 2022\n",
    "\n",
    "\n",
    "\n",
    "#Choose band or index\n",
    "#NBR, NDMI, and NDVI tend to work best\n",
    "#Other good options are wetness and tcAngleBG\n",
    "indexName = 'NBR'\n",
    "\n",
    "#How many significant loss and/or gain segments to include\n",
    "#Do not make less than 1\n",
    "#If you only want the first loss and/or gain, choose 1\n",
    "#Generally any past 2 are noise\n",
    "howManyToPull = 1\n",
    "\n",
    "#Parameters to identify suitable LANDTRENDR segments\n",
    "\n",
    "#Thresholds to identify loss in vegetation\n",
    "#Any segment that has a change magnitude or slope less than both of these thresholds is omitted\n",
    "lossMagThresh = -0.15\n",
    "lossSlopeThresh = -0.05\n",
    "\n",
    "\n",
    "#Thresholds to identify gain in vegetation\n",
    "#Any segment that has a change magnitude or slope greater than both of these thresholds is omitted\n",
    "gainMagThresh = 0.1\n",
    "gainSlopeThresh = 0.05\n",
    "\n",
    "slowLossDurationThresh = 3\n",
    "\n",
    "#Choose from: 'newest','oldest','largest','smallest','steepest','mostGradual','shortest','longest'\n",
    "chooseWhichLoss = 'largest'\n",
    "chooseWhichGain = 'largest'\n",
    "\n",
    "#Define landtrendr params\n",
    "run_params = { \\\n",
    "  'maxSegments':            6,\\\n",
    "  'spikeThreshold':         0.9,\\\n",
    "  'vertexCountOvershoot':   3,\\\n",
    "  'preventOneYearRecovery': True,\\\n",
    "  'recoveryThreshold':      0.25,\\\n",
    "  'pvalThreshold':          0.05,\\\n",
    "  'bestModelProportion':    0.75,\\\n",
    "  'minObservationsNeeded':  6\\\n",
    "}\n",
    "\n",
    "#Whether to add outputs to map\n",
    "addToMap = True\n",
    "\n",
    "#Export params\n",
    "#Whether to export LANDTRENDR outputs\n",
    "exportLTStack = False\n",
    "\n",
    "#Set up Names for the export\n",
    "outputName = 'LT_Test'\n",
    "\n",
    "#Provide location composites will be exported to\n",
    "#This should be an asset folder, or more ideally, an asset imageCollection\n",
    "exportPathRoot = 'users/iwhousman/test/ChangeCollection'\n",
    "\n",
    "\n",
    "\n",
    "#CRS- must be provided.  \n",
    "#Common crs codes: Web mercator is EPSG:4326, USGS Albers is EPSG:5070, \n",
    "#WGS84 UTM N hemisphere is EPSG:326+ zone number (zone 12 N would be EPSG:32612) and S hemisphere is EPSG:327+ zone number\n",
    "crs = 'EPSG:5070'\n",
    "\n",
    "#Specify transform if scale is None and snapping to known grid is needed\n",
    "transform = [30,0,-2361915.0,0,-30,3177735.0]\n",
    "\n",
    "#Specify scale if transform is None\n",
    "scale = None\n",
    "####################################################################################################\n",
    "#End user parameters\n",
    "####################################################################################################\n",
    "print('Done')"
   ]
  },
  {
   "cell_type": "code",
   "execution_count": 3,
   "id": "b09edad2",
   "metadata": {
    "scrolled": false
   },
   "outputs": [
    {
     "name": "stdout",
     "output_type": "stream",
     "text": [
      "Adding layer: Hansen Loss Year\n",
      "Starting webmap\n",
      "Local web server at: http://localhost:8001/geeView/ already serving.\n",
      "cwd A:\\GEE\\gee_py_modules_package\\geeViz\\examples\n"
     ]
    },
    {
     "data": {
      "text/html": [
       "\n",
       "        <iframe\n",
       "            width=\"100%\"\n",
       "            height=\"525px\"\n",
       "            src=\"http://localhost:8001/geeView/\"\n",
       "            frameborder=\"0\"\n",
       "            allowfullscreen\n",
       "        ></iframe>\n",
       "        "
      ],
      "text/plain": [
       "<IPython.lib.display.IFrame at 0x29bd0f38fd0>"
      ]
     },
     "execution_count": 3,
     "metadata": {},
     "output_type": "execute_result"
    }
   ],
   "source": [
    "####################################################################################################\n",
    "#Start function calls\n",
    "####################################################################################################\n",
    "#First, let's look at the Hansen Global Forest Change output\n",
    "#This is a great product to get an idea of where loss has occurred \n",
    "\n",
    "#First clear the map in case it has been populated with layers/commands earlier\n",
    "Map1.clearMap()\n",
    "\n",
    "#Bring in Hansen data and add it to the map\n",
    "hansen = ee.Image(\"UMD/hansen/global_forest_change_2020_v1_8\").select(['lossyear']).add(2000).int16()\n",
    "hansen = hansen.updateMask(hansen.neq(2000).And(hansen.gte(startYear)).And(hansen.lte(endYear)))\n",
    "Map1.addLayer(hansen,{'min':startYear,'max':endYear,'palette':changeDetectionLib.lossYearPalette},'Hansen Loss Year',True)\n",
    "\n",
    "#Bring in map\n",
    "Map1.turnOnInspector()\n",
    "Map1.centerObject(studyArea)\n",
    "Map1.view(open_browser = False, open_iframe = True,iframe_height='525')\n",
    "Map1.IFrame\n"
   ]
  },
  {
   "cell_type": "code",
   "execution_count": 4,
   "id": "8a49bd8c",
   "metadata": {
    "scrolled": true
   },
   "outputs": [
    {
     "name": "stdout",
     "output_type": "stream",
     "text": [
      "Get Processed Landsat: \n",
      "Only including SLC On Landsat 7\n",
      "Applying Fmask Cloud Mask\n",
      "Applying Fmask Shadow Mask\n",
      "Adding layer: Composite Time Series\n",
      "Starting webmap\n",
      "Local web server at: http://localhost:8001/geeView/ already serving.\n",
      "cwd A:\\GEE\\gee_py_modules_package\\geeViz\\examples\n"
     ]
    },
    {
     "data": {
      "text/html": [
       "\n",
       "        <iframe\n",
       "            width=\"100%\"\n",
       "            height=\"525px\"\n",
       "            src=\"http://localhost:8001/geeView/\"\n",
       "            frameborder=\"0\"\n",
       "            allowfullscreen\n",
       "        ></iframe>\n",
       "        "
      ],
      "text/plain": [
       "<IPython.lib.display.IFrame at 0x29bd0f97b20>"
      ]
     },
     "execution_count": 4,
     "metadata": {},
     "output_type": "execute_result"
    }
   ],
   "source": [
    "####################################################################################################\n",
    "#Clear the map in case it has been populated with layers/commands earlier\n",
    "Map2.clearMap()\n",
    "\n",
    "#Get images and then create median composites\n",
    "allImages = getImagesLib.getProcessedLandsatScenes(studyArea,startYear,endYear,startJulian,endJulian)\n",
    "dummyImage = allImages.first()\n",
    "composites = ee.ImageCollection(ee.List.sequence(startYear,endYear)\n",
    "                                .map(lambda yr: \n",
    "                                     getImagesLib.fillEmptyCollections(\n",
    "                                         allImages.filter(ee.Filter.calendarRange(yr,yr,'year')),\n",
    "                                         dummyImage)\n",
    "                                     .median()\n",
    "                                     .set('system:time_start',ee.Date.fromYMD(yr,6,1).millis())\n",
    "                                    ))\n",
    "Map2.addTimeLapse(composites,getImagesLib.vizParamsFalse,'Composite Time Series')\n",
    "\n",
    "\n",
    "#Bring in map\n",
    "Map2.centerObject(studyArea)\n",
    "Map2.view(open_browser = False, open_iframe = True,iframe_height = 525)\n",
    "Map2.IFrame"
   ]
  },
  {
   "cell_type": "code",
   "execution_count": 5,
   "id": "149fca54",
   "metadata": {
    "scrolled": false
   },
   "outputs": [
    {
     "name": "stdout",
     "output_type": "stream",
     "text": [
      "Converting LandTrendr from raw output to Gain & Loss\n",
      "Adding layer: Time Series\n",
      "Adding layer: 1 NBR Loss Year\n",
      "Adding layer: 1 NBR Loss Magnitude\n",
      "Adding layer: 1 NBR Loss Duration\n",
      "Adding layer: 1 NBR Gain Year\n",
      "Adding layer: 1 NBR Gain Magnitude\n",
      "Adding layer: 1 NBR Gain Duration\n",
      "Adding layer: Study Area\n",
      "Starting webmap\n",
      "Local web server at: http://localhost:8001/geeView/ already serving.\n",
      "cwd A:\\GEE\\gee_py_modules_package\\geeViz\\examples\n"
     ]
    },
    {
     "data": {
      "text/html": [
       "\n",
       "        <iframe\n",
       "            width=\"100%\"\n",
       "            height=\"525px\"\n",
       "            src=\"http://localhost:8001/geeView/\"\n",
       "            frameborder=\"0\"\n",
       "            allowfullscreen\n",
       "        ></iframe>\n",
       "        "
      ],
      "text/plain": [
       "<IPython.lib.display.IFrame at 0x29bd0f7b5e0>"
      ]
     },
     "execution_count": 5,
     "metadata": {},
     "output_type": "execute_result"
    }
   ],
   "source": [
    "#Clear the map in case it has been populated with layers/commands earlier\n",
    "Map1.clearMap()\n",
    "#Run LANDTRENDR\n",
    "ltOut = changeDetectionLib.simpleLANDTRENDR(composites.select([indexName]),startYear,endYear,indexName, run_params,lossMagThresh,lossSlopeThresh,\\\n",
    "                                                gainMagThresh,gainSlopeThresh,slowLossDurationThresh,chooseWhichLoss,\\\n",
    "                                                chooseWhichGain,addToMap,howManyToPull)\n",
    "\n",
    "#Bring in map\n",
    "Map1.turnOnInspector()\n",
    "Map1.centerObject(studyArea)\n",
    "Map1.addLayer(studyArea, {'strokeColor': '0000FF'}, \"Study Area\", False)\n",
    "Map1.view(open_browser = False, open_iframe = True)\n",
    "Map1.IFrame"
   ]
  },
  {
   "cell_type": "code",
   "execution_count": null,
   "id": "b652ec18",
   "metadata": {
    "scrolled": true
   },
   "outputs": [],
   "source": []
  }
 ],
 "metadata": {
  "kernelspec": {
   "display_name": "Python 3",
   "language": "python",
   "name": "python3"
  },
  "language_info": {
   "codemirror_mode": {
    "name": "ipython",
    "version": 3
   },
   "file_extension": ".py",
   "mimetype": "text/x-python",
   "name": "python",
   "nbconvert_exporter": "python",
   "pygments_lexer": "ipython3",
   "version": "3.8.3"
  }
 },
 "nbformat": 4,
 "nbformat_minor": 5
}
