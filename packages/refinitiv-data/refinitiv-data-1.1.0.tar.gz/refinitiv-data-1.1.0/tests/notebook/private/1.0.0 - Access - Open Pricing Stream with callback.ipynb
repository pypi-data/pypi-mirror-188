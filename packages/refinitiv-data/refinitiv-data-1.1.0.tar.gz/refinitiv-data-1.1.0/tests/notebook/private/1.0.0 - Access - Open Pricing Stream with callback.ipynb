{
 "cells": [
  {
   "cell_type": "markdown",
   "id": "52e96e04",
   "metadata": {},
   "source": [
    "# Refinitiv Data Library for Python"
   ]
  },
  {
   "cell_type": "markdown",
   "id": "17817c14",
   "metadata": {},
   "source": [
    "## Access layer - Open Pricing Stream with callback\n",
    "This notebook demonstrates how create stream to retrieve pricing data using the open_pricing_stream() function."
   ]
  },
  {
   "cell_type": "markdown",
   "id": "f85f8428",
   "metadata": {},
   "source": [
    "#### Learn more\n",
    "\n",
    "To learn more about the Refinitiv Data Library for Python please join the Refinitiv Developer Community. By [registering](https://developers.refinitiv.com/iam/register) and [logging](https://developers.refinitiv.com/content/devportal/en_us/initCookie.html) into the Refinitiv Developer Community portal you will have free access to a number of learning materials like \n",
    " [Quick Start guides](https://developers.refinitiv.com/en/api-catalog/refinitiv-data-platform/refinitiv-data-library-for-python/quick-start), \n",
    " [Tutorials](https://developers.refinitiv.com/en/api-catalog/refinitiv-data-platform/refinitiv-data-library-for-python/learning), \n",
    " [Documentation](https://developers.refinitiv.com/en/api-catalog/refinitiv-data-platform/refinitiv-data-library-for-python/docs)\n",
    " and much more.\n",
    "\n",
    "#### Getting Help and Support\n",
    "\n",
    "If you have any questions regarding using the API, please post them on \n",
    "the [Refinitiv Data Q&A Forum](https://community.developers.refinitiv.com/spaces/321/index.html). \n",
    "The Refinitiv Developer Community will be happy to help. "
   ]
  },
  {
   "cell_type": "markdown",
   "id": "1b6adcd0",
   "metadata": {},
   "source": [
    "## open_pricing_stream\n",
    "The **open_pricing_stream()** function allows you create pricing stream to retrieve pricing data using via a single function call.\n",
    "\n",
    "\n",
    "***open_pricing_stream()*** parameters: \n",
    "- ***universe***: Single instrument or list of instruments to request\n",
    "    - Type: String or list\n",
    "    - Optional: No  \n",
    "- ***fields***: Single field or list of fields to request\n",
    "    - Type: String or list\n",
    "    - Optional: Yes  \n",
    "- ***service***: Name of the streaming service publishing the instruments\n",
    "    - Type: String\n",
    "    - Optional: Yes  \n",
    "- ***on_data***: Callback function for on_update and on_refresh events\n",
    "    - Type: Function\n",
    "    - Optional: Yes  \n",
    "\n",
    "**open_pricing_stream()** returns a PricingStream object."
   ]
  },
  {
   "cell_type": "markdown",
   "id": "72be3e12",
   "metadata": {},
   "source": [
    "## Some Imports to start with"
   ]
  },
  {
   "cell_type": "code",
   "execution_count": 1,
   "id": "e6b6475e",
   "metadata": {},
   "outputs": [],
   "source": [
    "import refinitiv.data as rd"
   ]
  },
  {
   "cell_type": "markdown",
   "id": "f233a88d",
   "metadata": {},
   "source": [
    "## Open the data session\n",
    "\n",
    "The open_session() function creates and open sessions based on the information contained in the refinitiv-data.config.json configuration file. Please edit this file to set the session type and other parameters required for the session you want to open."
   ]
  },
  {
   "cell_type": "code",
   "execution_count": 2,
   "id": "3482529f",
   "metadata": {},
   "outputs": [
    {
     "data": {
      "text/plain": [
       "<refinitiv.data.session.Definition object at 0x24ec92318c8 {name='default'}>"
      ]
     },
     "execution_count": 2,
     "metadata": {},
     "output_type": "execute_result"
    }
   ],
   "source": [
    "rd.open_session()"
   ]
  },
  {
   "cell_type": "markdown",
   "id": "f15ee0b4",
   "metadata": {},
   "source": [
    "### Define callback to receive streaming data"
   ]
  },
  {
   "cell_type": "code",
   "execution_count": 3,
   "id": "095f0d8e",
   "metadata": {},
   "outputs": [],
   "source": [
    "def callback(updated_data, ric, stream):\n",
    "    print(f\"Updated data: {updated_data}\")"
   ]
  },
  {
   "cell_type": "markdown",
   "id": "752f9f80",
   "metadata": {},
   "source": [
    "## open_pricing_stream"
   ]
  },
  {
   "cell_type": "code",
   "execution_count": 4,
   "id": "6984d9a2",
   "metadata": {},
   "outputs": [
    {
     "name": "stdout",
     "output_type": "stream",
     "text": [
      "Updated data:          BID     ASK\n",
      "EUR=  1.1219  1.1221\n"
     ]
    }
   ],
   "source": [
    "pricing_stream = rd.open_pricing_stream(\n",
    "    universe=['EUR='],\n",
    "    fields=['BID', 'ASK'],\n",
    "    on_data=callback\n",
    ")"
   ]
  },
  {
   "cell_type": "markdown",
   "id": "c8059742",
   "metadata": {},
   "source": [
    "## Close pricing stream"
   ]
  },
  {
   "cell_type": "code",
   "execution_count": 5,
   "id": "ba1c3547",
   "metadata": {},
   "outputs": [
    {
     "data": {
      "text/plain": [
       "<OpenState.Closed: 3>"
      ]
     },
     "execution_count": 5,
     "metadata": {},
     "output_type": "execute_result"
    }
   ],
   "source": [
    "pricing_stream.close()"
   ]
  },
  {
   "cell_type": "markdown",
   "id": "d7580ec6",
   "metadata": {},
   "source": [
    "## Close the session"
   ]
  },
  {
   "cell_type": "code",
   "execution_count": 6,
   "id": "d6bfe9a7",
   "metadata": {},
   "outputs": [],
   "source": [
    "rd.close_session()"
   ]
  }
 ],
 "metadata": {
  "kernelspec": {
   "display_name": "Python 3 (ipykernel)",
   "language": "python",
   "name": "python3"
  },
  "language_info": {
   "codemirror_mode": {
    "name": "ipython",
    "version": 3
   },
   "file_extension": ".py",
   "mimetype": "text/x-python",
   "name": "python",
   "nbconvert_exporter": "python",
   "pygments_lexer": "ipython3",
   "version": "3.7.9"
  }
 },
 "nbformat": 4,
 "nbformat_minor": 5
}
