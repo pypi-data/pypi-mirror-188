{
 "cells": [
  {
   "cell_type": "markdown",
   "metadata": {},
   "source": [
    "# Refinitiv Data Platform Library for Python\n",
    "## Content - Historical Pricing - Synchronous calls"
   ]
  },
  {
   "cell_type": "markdown",
   "metadata": {},
   "source": [
    "This notebook demonstrates how to retrieve Historical Pricing data from the Refinitiv Data Platform via Eikon or Refinitiv Workspace.\n",
    "\n",
    "#### Learn more\n",
    "\n",
    "To learn more about the Refinitiv Data Platform Data Libraries just connect to the Refinitiv Developer Community. By [registering](https://developers.refinitiv.com/iam/register) and [login](https://developers.refinitiv.com/iam/login) to the Refinitiv Developer Community portal you will get free access to a number of learning materials like [Quick Start guides](https://developers.refinitiv.com/refinitiv-data-platform/refinitiv-data-platform-libraries/quick-start), [Tutorials](https://developers.refinitiv.com/refinitiv-data-platform/refinitiv-data-platform-libraries/learning), [Documentation](https://developers.refinitiv.com/refinitiv-data-platform/refinitiv-data-platform-libraries/docs) and much more.  \n",
    "\n",
    "#### Getting Help and Support\n",
    "\n",
    "If you have any questions regarding the API usage, please post them on the [Refinitiv Data Platform Q&A Forum](https://community.developers.thomsonreuters.com/spaces/231/index.html). The Refinitiv Developer Community will be very pleased to help you. \n"
   ]
  },
  {
   "cell_type": "markdown",
   "metadata": {},
   "source": [
    "## Import the library and load credentials\n",
    "\n",
    "Credentials used by this notebook are stored in the **./credentials.ipynb**. Please edit **./credentials.ipynb** to set your credentials and run the next cell to continue with this scripts"
   ]
  },
  {
   "cell_type": "code",
   "execution_count": null,
   "metadata": {},
   "outputs": [],
   "source": [
    "import refinitiv.data as rd\n",
    "from refinitiv.data.content import historical_pricing"
   ]
  },
  {
   "cell_type": "markdown",
   "metadata": {},
   "source": [
    "## Open the session of your choice\n",
    "\n",
    "Create and open a session to connect to the Refinitiv Data Platform via Eikon 4 or the Refinitiv Workspace."
   ]
  },
  {
   "cell_type": "code",
   "execution_count": null,
   "metadata": {},
   "outputs": [],
   "source": [
    "rd.open_session()"
   ]
  },
  {
   "cell_type": "markdown",
   "metadata": {},
   "source": [
    "# Example"
   ]
  },
  {
   "cell_type": "markdown",
   "metadata": {},
   "source": [
    "### Historical Price Events"
   ]
  },
  {
   "cell_type": "code",
   "execution_count": null,
   "metadata": {},
   "outputs": [],
   "source": [
    "response = historical_pricing.events.Definition(\"VOD.L\").get_data()\n",
    "\n",
    "display(response.data.df)"
   ]
  },
  {
   "cell_type": "markdown",
   "metadata": {},
   "source": [
    "#### Historical Price events with more universes"
   ]
  },
  {
   "cell_type": "code",
   "execution_count": null,
   "metadata": {},
   "outputs": [],
   "source": [
    "response = historical_pricing.events.Definition([\"VOD.L\", \"AAPL.O\"]).get_data()\n",
    "\n",
    "display(response.data.df)"
   ]
  },
  {
   "cell_type": "markdown",
   "metadata": {},
   "source": [
    "#### Historical Price events with more parameters"
   ]
  },
  {
   "cell_type": "code",
   "execution_count": null,
   "metadata": {},
   "outputs": [],
   "source": [
    "response = historical_pricing.events.Definition(\n",
    "    universe = \"AAPL.O\", \n",
    "    start = \"2021-07-26\", \n",
    "    end = \"2021-07-28\",\n",
    "    adjustments = [\n",
    "        historical_pricing.Adjustments.EXCHANGE_CORRECTION,\n",
    "        historical_pricing.Adjustments.MANUAL_CORRECTION\n",
    "    ]).get_data()\n",
    "\n",
    "display(response.data.df)"
   ]
  },
  {
   "cell_type": "markdown",
   "metadata": {},
   "source": [
    "### Historical Price Intraday Summaries"
   ]
  },
  {
   "cell_type": "code",
   "execution_count": null,
   "metadata": {},
   "outputs": [],
   "source": [
    "response = historical_pricing.summaries.Definition(\n",
    "    \"VOD.L\", \n",
    "    interval=historical_pricing.Intervals.TEN_MINUTES).get_data()\n",
    "\n",
    "display(response.data.df)"
   ]
  },
  {
   "cell_type": "markdown",
   "metadata": {},
   "source": [
    "#### Historical Price summaries with more universes"
   ]
  },
  {
   "cell_type": "code",
   "execution_count": null,
   "metadata": {},
   "outputs": [],
   "source": [
    "response = historical_pricing.summaries.Definition([\"VOD.L\", \"AAPL.O\"]).get_data()\n",
    "\n",
    "display(response.data.df)"
   ]
  },
  {
   "cell_type": "markdown",
   "metadata": {},
   "source": [
    "#### Historical Price Intraday Summaries with more parameters"
   ]
  },
  {
   "cell_type": "code",
   "execution_count": null,
   "metadata": {},
   "outputs": [],
   "source": [
    "response = historical_pricing.summaries.Definition(\n",
    "    universe = \"IBM.N\", \n",
    "    interval = rd.content.historical_pricing.Intervals.ONE_MINUTE,     # Supported intervals: ONE_MINUTE, FIVE_MINUTES, TEN_MINUTES, THIRTY_MINUTES, ONE_HOUR\n",
    "    count = 500,\n",
    "    sessions = [\n",
    "        historical_pricing.MarketSession.PRE, \n",
    "        historical_pricing.MarketSession.NORMAL, \n",
    "        historical_pricing.MarketSession.POST\n",
    "    ]).get_data()\n",
    "\n",
    "display(response.data.df)"
   ]
  },
  {
   "cell_type": "markdown",
   "metadata": {},
   "source": [
    "### Historical Price Interday Summaries"
   ]
  },
  {
   "cell_type": "code",
   "execution_count": null,
   "metadata": {},
   "outputs": [],
   "source": [
    "definition = historical_pricing.summaries.Definition(\"VOD.L\")\n",
    "response = definition.get_data()\n",
    "\n",
    "display(response.data.df)"
   ]
  },
  {
   "cell_type": "markdown",
   "metadata": {},
   "source": [
    "#### Historical Price Interday Summaries with more parameters"
   ]
  },
  {
   "cell_type": "code",
   "execution_count": null,
   "metadata": {},
   "outputs": [],
   "source": [
    "definition = historical_pricing.summaries.Definition(\n",
    "    universe = \"VOD.L\",\n",
    "    interval = historical_pricing.Intervals.DAILY,          # Supported intervals: DAILY, WEEKLY, MONTHLY, QUARTERLY, YEARLY.\n",
    "    count = 20,\n",
    "    fields = [\"BID\", \"ASK\", \"OPEN_PRC\", \"HIGH_1\", \"LOW_1\", \"TRDPRC_1\", \"NUM_MOVES\", \"TRNOVR_UNS\"]\n",
    ")\n",
    "\n",
    "response = definition.get_data()\n",
    "display(response.data.df)"
   ]
  },
  {
   "cell_type": "markdown",
   "metadata": {},
   "source": [
    "### Close the session"
   ]
  },
  {
   "cell_type": "code",
   "execution_count": null,
   "metadata": {},
   "outputs": [],
   "source": [
    "rd.close_session()"
   ]
  },
  {
   "cell_type": "code",
   "execution_count": null,
   "metadata": {},
   "outputs": [],
   "source": []
  }
 ],
 "metadata": {
  "kernelspec": {
   "display_name": "Python 3 (ipykernel)",
   "language": "python",
   "name": "python3"
  },
  "language_info": {
   "codemirror_mode": {
    "name": "ipython",
    "version": 3
   },
   "file_extension": ".py",
   "mimetype": "text/x-python",
   "name": "python",
   "nbconvert_exporter": "python",
   "pygments_lexer": "ipython3",
   "version": "3.8.2"
  }
 },
 "nbformat": 4,
 "nbformat_minor": 4
}
