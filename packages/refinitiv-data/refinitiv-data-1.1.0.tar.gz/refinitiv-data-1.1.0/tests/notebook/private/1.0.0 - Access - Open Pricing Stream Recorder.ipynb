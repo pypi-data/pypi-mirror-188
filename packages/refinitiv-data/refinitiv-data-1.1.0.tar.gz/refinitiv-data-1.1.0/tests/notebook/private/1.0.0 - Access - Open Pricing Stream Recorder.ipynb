{
 "cells": [
  {
   "cell_type": "markdown",
   "id": "52e96e04",
   "metadata": {},
   "source": [
    "# Refinitiv Data Library for Python"
   ]
  },
  {
   "cell_type": "markdown",
   "id": "17817c14",
   "metadata": {},
   "source": [
    "## Access layer - Open Pricing Stream Recorder\n",
    "This notebook demonstrates how create stream to retrieve pricing data using the open_pricing_stream() and record updates by using recorder method."
   ]
  },
  {
   "cell_type": "markdown",
   "id": "f85f8428",
   "metadata": {},
   "source": [
    "#### Learn more\n",
    "\n",
    "To learn more about the Refinitiv Data Library for Python please join the Refinitiv Developer Community. By [registering](https://developers.refinitiv.com/iam/register) and [logging](https://developers.refinitiv.com/content/devportal/en_us/initCookie.html) into the Refinitiv Developer Community portal you will have free access to a number of learning materials like \n",
    " [Quick Start guides](https://developers.refinitiv.com/en/api-catalog/refinitiv-data-platform/refinitiv-data-library-for-python/quick-start), \n",
    " [Tutorials](https://developers.refinitiv.com/en/api-catalog/refinitiv-data-platform/refinitiv-data-library-for-python/learning), \n",
    " [Documentation](https://developers.refinitiv.com/en/api-catalog/refinitiv-data-platform/refinitiv-data-library-for-python/docs)\n",
    " and much more.\n",
    "\n",
    "#### Getting Help and Support\n",
    "\n",
    "If you have any questions regarding using the API, please post them on \n",
    "the [Refinitiv Data Q&A Forum](https://community.developers.refinitiv.com/spaces/321/index.html). \n",
    "The Refinitiv Developer Community will be happy to help. "
   ]
  },
  {
   "cell_type": "markdown",
   "id": "1b6adcd0",
   "metadata": {},
   "source": [
    "## record\n",
    "The **record()** method allows you record updates from server, save updates and create ohlc based on received data via a single function call.\n",
    "\n",
    "\n",
    "***record()*** parameters: \n",
    "- ***frequency***: Using to calculate ohlc based on received updates during period that was provided\n",
    "    - Type: String\n",
    "    - Optional: Yes  \n",
    "- ***duration***: Duration of recording data. Could be provided in seconds, minutes, hours\n",
    "    - Type: String\n",
    "    - Optional: Yes  \n",
    "- ***ticks_per_bar***: Count of ticks to record\n",
    "    - Type: String\n",
    "    - Optional: Yes  \n",
    "- ***on_data***: Callback which is calling with 'frequency' or 'count' and receive dataframe with calculated ohlc from last updates and recorder object\n",
    "    - Type: Function\n",
    "    - Optional: Yes  \n",
    "\n"
   ]
  },
  {
   "cell_type": "markdown",
   "id": "72be3e12",
   "metadata": {},
   "source": [
    "## Some Imports to start with"
   ]
  },
  {
   "cell_type": "code",
   "execution_count": 1,
   "id": "e6b6475e",
   "metadata": {},
   "outputs": [],
   "source": [
    "import refinitiv.data as rd"
   ]
  },
  {
   "cell_type": "markdown",
   "id": "f233a88d",
   "metadata": {},
   "source": [
    "## Open the data session\n",
    "\n",
    "The open_session() function creates and open sessions based on the information contained in the refinitiv-data.config.json configuration file. Please edit this file to set the session type and other parameters required for the session you want to open."
   ]
  },
  {
   "cell_type": "code",
   "execution_count": 2,
   "id": "3482529f",
   "metadata": {},
   "outputs": [
    {
     "data": {
      "text/plain": [
       "<refinitiv.data.session.Definition object at 0x227a5cb6808 {name='default'}>"
      ]
     },
     "execution_count": 2,
     "metadata": {},
     "output_type": "execute_result"
    }
   ],
   "source": [
    "rd.open_session()"
   ]
  },
  {
   "cell_type": "markdown",
   "id": "752f9f80",
   "metadata": {},
   "source": [
    "## Open pricing stream"
   ]
  },
  {
   "cell_type": "code",
   "execution_count": 4,
   "id": "6984d9a2",
   "metadata": {},
   "outputs": [],
   "source": [
    "stream = rd.open_pricing_stream(\n",
    "    universe=['EUR=', 'GBP='],\n",
    "    fields=['BID', 'ASK']\n",
    ")"
   ]
  },
  {
   "cell_type": "markdown",
   "id": "19fe31a1",
   "metadata": {},
   "source": [
    "### Start recording all updates"
   ]
  },
  {
   "cell_type": "markdown",
   "id": "e7d2b728",
   "metadata": {},
   "source": [
    "Asynchronous call. Recording every update, if user is not specifing anything then by default frequency='tick' and ticks_per_bar='1'."
   ]
  },
  {
   "cell_type": "code",
   "execution_count": 5,
   "id": "8cc3f530",
   "metadata": {},
   "outputs": [],
   "source": [
    "stream.recorder.record()"
   ]
  },
  {
   "cell_type": "markdown",
   "id": "83bbd4a4",
   "metadata": {},
   "source": [
    "### Stop the recorder"
   ]
  },
  {
   "cell_type": "code",
   "execution_count": 6,
   "id": "a2e60abe",
   "metadata": {},
   "outputs": [],
   "source": [
    "stream.recorder.stop()"
   ]
  },
  {
   "cell_type": "markdown",
   "id": "6eb9826d",
   "metadata": {},
   "source": [
    "### Close stream"
   ]
  },
  {
   "cell_type": "code",
   "execution_count": 7,
   "id": "f4883e92",
   "metadata": {},
   "outputs": [
    {
     "data": {
      "text/plain": [
       "<OpenState.Closed: 3>"
      ]
     },
     "execution_count": 7,
     "metadata": {},
     "output_type": "execute_result"
    }
   ],
   "source": [
    "stream.close()"
   ]
  },
  {
   "cell_type": "markdown",
   "id": "83f99c50",
   "metadata": {},
   "source": [
    "### Get recorded history"
   ]
  },
  {
   "cell_type": "markdown",
   "id": "cc3ed9d5",
   "metadata": {},
   "source": [
    "Returns a DataFrame with all recorded history"
   ]
  },
  {
   "cell_type": "code",
   "execution_count": 8,
   "id": "1780b642",
   "metadata": {},
   "outputs": [],
   "source": [
    "history = stream.recorder.get_history()"
   ]
  },
  {
   "cell_type": "markdown",
   "id": "5c723f99",
   "metadata": {},
   "source": [
    "### Calculate ohlc based on received updates."
   ]
  },
  {
   "cell_type": "markdown",
   "id": "9984121b",
   "metadata": {},
   "source": [
    "Returns a DataFrame with 5 seconds candles, only works when frequency='tick' and count='1'"
   ]
  },
  {
   "cell_type": "code",
   "execution_count": 9,
   "id": "b94bafa6",
   "metadata": {},
   "outputs": [
    {
     "name": "stdout",
     "output_type": "stream",
     "text": [
      "                       EUR=                                                  \\\n",
      "                        BID                             ASK                   \n",
      "                       open    high     low   close    open    high     low   \n",
      "Timestamp                                                                     \n",
      "2022-02-28 22:48:10  1.1214  1.1214  1.1214  1.1214  1.1218  1.1218  1.1218   \n",
      "2022-02-28 22:48:15  1.1214  1.1215  1.1213  1.1213  1.1218  1.1218  1.1216   \n",
      "2022-02-28 22:48:20  1.1213  1.1213  1.1213  1.1213  1.1217  1.1217  1.1217   \n",
      "\n",
      "                               GBP=                                          \\\n",
      "                                BID                             ASK           \n",
      "                      close    open    high     low   close    open    high   \n",
      "Timestamp                                                                     \n",
      "2022-02-28 22:48:10  1.1218  1.3410  1.3410  1.3408  1.3410  1.3411  1.3413   \n",
      "2022-02-28 22:48:15  1.1217  1.3410  1.3410  1.3408  1.3409  1.3411  1.3412   \n",
      "2022-02-28 22:48:20  1.1217  1.3406  1.3406  1.3406  1.3406  1.3414  1.3414   \n",
      "\n",
      "                                     \n",
      "                                     \n",
      "                        low   close  \n",
      "Timestamp                            \n",
      "2022-02-28 22:48:10  1.3411  1.3411  \n",
      "2022-02-28 22:48:15  1.3410  1.3410  \n",
      "2022-02-28 22:48:20  1.3414  1.3414  \n"
     ]
    }
   ],
   "source": [
    "print(history.ohlc('5s'))"
   ]
  },
  {
   "cell_type": "markdown",
   "id": "d7580ec6",
   "metadata": {},
   "source": [
    "## Close the session"
   ]
  },
  {
   "cell_type": "code",
   "execution_count": 12,
   "id": "d6bfe9a7",
   "metadata": {},
   "outputs": [],
   "source": [
    "rd.close_session()"
   ]
  }
 ],
 "metadata": {
  "kernelspec": {
   "display_name": "Python 3 (ipykernel)",
   "language": "python",
   "name": "python3"
  },
  "language_info": {
   "codemirror_mode": {
    "name": "ipython",
    "version": 3
   },
   "file_extension": ".py",
   "mimetype": "text/x-python",
   "name": "python",
   "nbconvert_exporter": "python",
   "pygments_lexer": "ipython3",
   "version": "3.7.9"
  }
 },
 "nbformat": 4,
 "nbformat_minor": 5
}
