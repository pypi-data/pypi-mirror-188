{
 "cells": [
  {
   "cell_type": "markdown",
   "id": "52e96e04",
   "metadata": {},
   "source": [
    "# Refinitiv Data Library for Python"
   ]
  },
  {
   "cell_type": "markdown",
   "id": "17817c14",
   "metadata": {},
   "source": [
    "## Access layer - Open Pricing Stream Recorder with ticks\n",
    "This notebook demonstrates how create stream to retrieve pricing data using the open_pricing_stream() and record updates by using recorder method."
   ]
  },
  {
   "cell_type": "markdown",
   "id": "f85f8428",
   "metadata": {},
   "source": [
    "#### Learn more\n",
    "\n",
    "To learn more about the Refinitiv Data Library for Python please join the Refinitiv Developer Community. By [registering](https://developers.refinitiv.com/iam/register) and [logging](https://developers.refinitiv.com/content/devportal/en_us/initCookie.html) into the Refinitiv Developer Community portal you will have free access to a number of learning materials like \n",
    " [Quick Start guides](https://developers.refinitiv.com/en/api-catalog/refinitiv-data-platform/refinitiv-data-library-for-python/quick-start), \n",
    " [Tutorials](https://developers.refinitiv.com/en/api-catalog/refinitiv-data-platform/refinitiv-data-library-for-python/learning), \n",
    " [Documentation](https://developers.refinitiv.com/en/api-catalog/refinitiv-data-platform/refinitiv-data-library-for-python/docs)\n",
    " and much more.\n",
    "\n",
    "#### Getting Help and Support\n",
    "\n",
    "If you have any questions regarding using the API, please post them on \n",
    "the [Refinitiv Data Q&A Forum](https://community.developers.refinitiv.com/spaces/321/index.html). \n",
    "The Refinitiv Developer Community will be happy to help. "
   ]
  },
  {
   "cell_type": "markdown",
   "id": "1b6adcd0",
   "metadata": {},
   "source": [
    "## record\n",
    "The **record()** method allows you record updates from server, save updates and create ohlc based on received data via a single function call.\n",
    "\n",
    "\n",
    "***record()*** parameters: \n",
    "- ***frequency***: Using to calculate ohlc based on received updates during period that was provided\n",
    "    - Type: String\n",
    "    - Optional: Yes  \n",
    "- ***duration***: Duration of recording data. Could be provided in seconds, minutes, hours\n",
    "    - Type: String\n",
    "    - Optional: Yes  \n",
    "- ***ticks_per_bar***: Count of ticks to record\n",
    "    - Type: String\n",
    "    - Optional: Yes  \n",
    "- ***on_data***: Callback which is calling with 'frequency' or 'count' and receive dataframe with calculated ohlc from last updates and recorder object\n",
    "    - Type: Function\n",
    "    - Optional: Yes  \n",
    "\n"
   ]
  },
  {
   "cell_type": "markdown",
   "id": "72be3e12",
   "metadata": {},
   "source": [
    "## Some Imports to start with"
   ]
  },
  {
   "cell_type": "code",
   "execution_count": 1,
   "id": "e6b6475e",
   "metadata": {},
   "outputs": [],
   "source": [
    "import refinitiv.data as rd"
   ]
  },
  {
   "cell_type": "markdown",
   "id": "f233a88d",
   "metadata": {},
   "source": [
    "## Open the data session\n",
    "\n",
    "The open_session() function creates and open sessions based on the information contained in the refinitiv-data.config.json configuration file. Please edit this file to set the session type and other parameters required for the session you want to open."
   ]
  },
  {
   "cell_type": "code",
   "execution_count": 3,
   "id": "3482529f",
   "metadata": {},
   "outputs": [
    {
     "name": "stderr",
     "output_type": "stream",
     "text": [
      "[Error 401 - invalid_client] Invalid Application Credential.\n"
     ]
    },
    {
     "data": {
      "text/plain": [
       "<refinitiv.data.session.platform.Definition object at 0x29ec1dc8bc8 {session_name='default'}>"
      ]
     },
     "execution_count": 3,
     "metadata": {},
     "output_type": "execute_result"
    }
   ],
   "source": [
    "rd.open_session()"
   ]
  },
  {
   "cell_type": "markdown",
   "id": "752f9f80",
   "metadata": {},
   "source": [
    "## Open pricing stream"
   ]
  },
  {
   "cell_type": "code",
   "execution_count": 3,
   "id": "6984d9a2",
   "metadata": {},
   "outputs": [],
   "source": [
    "stream = rd.open_pricing_stream(\n",
    "    universe=['EUR=', 'GBP='],\n",
    "    fields=['BID', 'ASK']\n",
    ")"
   ]
  },
  {
   "cell_type": "markdown",
   "id": "19fe31a1",
   "metadata": {},
   "source": [
    "### Start recording all updates"
   ]
  },
  {
   "cell_type": "markdown",
   "id": "e7d2b728",
   "metadata": {},
   "source": [
    "Recording every update, ohlc should be calculated every 10 ticks_per_bar, till user calls 'stop()' on the recorder if duration is not provided. If user provide 'duration' argument then recording will be stopped when the 'duration' time is up."
   ]
  },
  {
   "cell_type": "code",
   "execution_count": 4,
   "id": "8cc3f530",
   "metadata": {},
   "outputs": [],
   "source": [
    "stream.recorder.record(frequency='tick', ticks_per_bar='10', duration='30s')"
   ]
  },
  {
   "cell_type": "markdown",
   "id": "6eb9826d",
   "metadata": {},
   "source": [
    "### Close stream"
   ]
  },
  {
   "cell_type": "code",
   "execution_count": 6,
   "id": "f4883e92",
   "metadata": {},
   "outputs": [
    {
     "data": {
      "text/plain": [
       "<OpenState.Closed: 3>"
      ]
     },
     "execution_count": 6,
     "metadata": {},
     "output_type": "execute_result"
    }
   ],
   "source": [
    "stream.close()"
   ]
  },
  {
   "cell_type": "markdown",
   "id": "83f99c50",
   "metadata": {},
   "source": [
    "### Get recorded history"
   ]
  },
  {
   "cell_type": "markdown",
   "id": "cc3ed9d5",
   "metadata": {},
   "source": [
    "Returns a DataFrame with recorded ohlc history for each 10 updates."
   ]
  },
  {
   "cell_type": "code",
   "execution_count": 7,
   "id": "1780b642",
   "metadata": {},
   "outputs": [
    {
     "name": "stdout",
     "output_type": "stream",
     "text": [
      "                              GBP=                                          \\\n",
      "                               BID                             ASK           \n",
      "                              open    high     low   close    open    high   \n",
      "Timestamp                                                                    \n",
      "2022-02-28 22:50:34.211788  1.3411  1.3411  1.3408  1.3408  1.3412  1.3416   \n",
      "2022-02-28 22:50:40.310277  1.3411  1.3412  1.3410  1.3411  1.3415  1.3415   \n",
      "2022-02-28 22:50:46.166678  1.3408  1.3412  1.3408  1.3412  1.3416  1.3416   \n",
      "2022-02-28 22:50:52.173230  1.3412  1.3412  1.3408  1.3412  1.3413  1.3416   \n",
      "2022-02-28 22:50:56.335778  1.3410  1.3411  1.3410  1.3411  1.3414  1.3414   \n",
      "2022-02-28 22:51:01.758992  1.3410  1.3412  1.3408  1.3410  1.3414  1.3416   \n",
      "\n",
      "                                              EUR=                          \\\n",
      "                                               BID                           \n",
      "                               low   close    open    high     low   close   \n",
      "Timestamp                                                                    \n",
      "2022-02-28 22:50:34.211788  1.3412  1.3416  1.1215  1.1215  1.1213  1.1213   \n",
      "2022-02-28 22:50:40.310277  1.3412  1.3412  1.1214  1.1214  1.1214  1.1214   \n",
      "2022-02-28 22:50:46.166678  1.3413  1.3413  1.1214  1.1214  1.1214  1.1214   \n",
      "2022-02-28 22:50:52.173230  1.3412  1.3413  1.1215  1.1215  1.1213  1.1214   \n",
      "2022-02-28 22:50:56.335778  1.3412  1.3412  1.1214  1.1214  1.1213  1.1214   \n",
      "2022-02-28 22:51:01.758992  1.3413  1.3414  1.1215  1.1215  1.1213  1.1213   \n",
      "\n",
      "                                                            \n",
      "                               ASK                          \n",
      "                              open    high     low   close  \n",
      "Timestamp                                                   \n",
      "2022-02-28 22:50:34.211788  1.1216  1.1218  1.1216  1.1217  \n",
      "2022-02-28 22:50:40.310277  1.1218  1.1218  1.1218  1.1218  \n",
      "2022-02-28 22:50:46.166678  1.1218  1.1218  1.1218  1.1218  \n",
      "2022-02-28 22:50:52.173230  1.1216  1.1218  1.1216  1.1218  \n",
      "2022-02-28 22:50:56.335778  1.1218  1.1218  1.1217  1.1218  \n",
      "2022-02-28 22:51:01.758992  1.1216  1.1218  1.1216  1.1217  \n"
     ]
    }
   ],
   "source": [
    "history = stream.recorder.get_history()\n",
    "print(history)"
   ]
  },
  {
   "cell_type": "markdown",
   "id": "d7580ec6",
   "metadata": {},
   "source": [
    "## Close the session"
   ]
  },
  {
   "cell_type": "code",
   "execution_count": 10,
   "id": "d6bfe9a7",
   "metadata": {},
   "outputs": [],
   "source": [
    "rd.close_session()"
   ]
  }
 ],
 "metadata": {
  "kernelspec": {
   "display_name": "Python 3 (ipykernel)",
   "language": "python",
   "name": "python3"
  },
  "language_info": {
   "codemirror_mode": {
    "name": "ipython",
    "version": 3
   },
   "file_extension": ".py",
   "mimetype": "text/x-python",
   "name": "python",
   "nbconvert_exporter": "python",
   "pygments_lexer": "ipython3",
   "version": "3.7.9"
  }
 },
 "nbformat": 4,
 "nbformat_minor": 5
}
