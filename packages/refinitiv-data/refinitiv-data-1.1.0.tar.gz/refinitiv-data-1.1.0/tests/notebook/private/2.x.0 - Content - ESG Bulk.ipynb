{
 "cells": [
  {
   "cell_type": "markdown",
   "id": "stopped-trout",
   "metadata": {},
   "source": [
    "# Refinitiv Data Library for Python\n",
    "## Content - ESG - Bulk"
   ]
  },
  {
   "cell_type": "markdown",
   "id": "6dc0d01c",
   "metadata": {},
   "source": [
    "This notebook demonstrates how to work with ESG Bulk db from Refinitiv Data Library.\n",
    "\n",
    "#### Learn more\n",
    "\n",
    "To learn more about the Refinitiv Data Libraries just connect to the Refinitiv Developer Community. By [registering](https://developers.refinitiv.com/iam/register) and [login](https://developers.refinitiv.com/iam/login) to the Refinitiv Developer Community portal you will get free access to a number of learning materials like [Quick Start guides](https://developers.refinitiv.com/refinitiv-data-platform/refinitiv-data-platform-libraries/quick-start), [Tutorials](https://developers.refinitiv.com/refinitiv-data-platform/refinitiv-data-platform-libraries/learning), [Documentation](https://developers.refinitiv.com/refinitiv-data-platform/refinitiv-data-platform-libraries/docs) and much more.\n",
    "\n",
    "#### Getting Help and Support\n",
    "\n",
    "If you have any questions regarding the API usage, please post them on the [Refinitiv Data Q&A Forum](https://community.developers.thomsonreuters.com/spaces/231/index.html). The Refinitiv Developer Community will be very pleased to help you.\n"
   ]
  },
  {
   "cell_type": "markdown",
   "id": "fc7d61fc",
   "metadata": {
    "pycharm": {
     "name": "#%% md\n"
    }
   },
   "source": [
    "# Import the library\n",
    "Import the library and required modules"
   ]
  },
  {
   "cell_type": "code",
   "execution_count": 1,
   "id": "91cced84",
   "metadata": {
    "collapsed": false,
    "jupyter": {
     "outputs_hidden": false
    },
    "pycharm": {
     "name": "#%%\n"
    }
   },
   "outputs": [],
   "source": [
    "from refinitiv.data import load_config\n",
    "import refinitiv.data as rd\n",
    "import refinitiv.data.content.esg as esg\n",
    "import refinitiv.data.content.esg.bulk as bulk"
   ]
  },
  {
   "cell_type": "markdown",
   "id": "split-highland",
   "metadata": {
    "pycharm": {
     "name": "#%% md\n"
    }
   },
   "source": [
    "# Open session\n",
    "Create and open a session to connect to the Refinitiv Data via Eikon 4 or the Refinitiv Workspace."
   ]
  },
  {
   "cell_type": "code",
   "execution_count": 2,
   "id": "magnetic-constitutional",
   "metadata": {
    "pycharm": {
     "name": "#%%\n"
    }
   },
   "outputs": [
    {
     "data": {
      "text/plain": "<refinitiv.data.session.platform.Definition object at 0x1e34ad43eb0 {session_name='default'}>"
     },
     "execution_count": 2,
     "metadata": {},
     "output_type": "execute_result"
    }
   ],
   "source": [
    "rd.open_session(name=\"platform.default\")"
   ]
  },
  {
   "cell_type": "markdown",
   "id": "corresponding-plane",
   "metadata": {
    "pycharm": {
     "name": "#%% md\n"
    }
   },
   "source": [
    "# Example"
   ]
  },
  {
   "cell_type": "markdown",
   "id": "minimal-visiting",
   "metadata": {},
   "source": [
    "## Get file manager\n",
    "Get a file manager with your desired endpoint and load config"
   ]
  },
  {
   "cell_type": "code",
   "execution_count": 3,
   "id": "genetic-martin",
   "metadata": {},
   "outputs": [
    {
     "data": {
      "text/plain": "<ConfigurationSet: 0x1e33ba1e5e0>"
     },
     "execution_count": 3,
     "metadata": {},
     "output_type": "execute_result"
    }
   ],
   "source": [
    "file_manager = bulk.PackageManager('esg.standard_scores')\n",
    "load_config(\"bulk-config-sqlite.json\")"
   ]
  },
  {
   "cell_type": "markdown",
   "id": "collected-sewing",
   "metadata": {},
   "source": [
    "## update_files()\n",
    "Download new files.\n",
    "\n",
    "If there is no init file, the newest init file and delta files with a date equal to or greater than the date of the init file will be loaded.\n",
    "\n",
    "When the init file has already been loaded and the user calls update_files (), then only delta files with a date equal to or greater than the date of the init file will be downloaded."
   ]
  },
  {
   "cell_type": "code",
   "execution_count": 4,
   "id": "third-citizenship",
   "metadata": {},
   "outputs": [
    {
     "name": "stdout",
     "output_type": "stream",
     "text": [
      "[2022-04-27 17:23:11,847] - [INFO] - [rd.bulk.package_manager.1.console] - [32380] | MainThread\n",
      "download file Bulk-ESG-Global-Scores-Wealth-Standard-v1-Init-2022-04-24T172107.722Z.jsonl.gz to ./downloads/esg/standard_scores\n",
      "[2022-04-27 17:26:28,069] - [INFO] - [rd.bulk.package_manager.1.console] - [32380] | MainThread\n",
      "extract file Bulk-ESG-Global-Scores-Wealth-Standard-v1-Init-2022-04-24T172107.722Z.jsonl.gz to ./downloads/esg/standard_scores\n",
      "[2022-04-27 17:26:29,771] - [INFO] - [rd.bulk.package_manager.1.console] - [32380] | MainThread\n",
      "download file Bulk-ESG-Global-Scores-Wealth-Standard-v1-Delta-2022-04-24T172110.942Z.jsonl.gz to ./downloads/esg/standard_scores\n",
      "[2022-04-27 17:28:05,341] - [ERROR] - [sessions.platform.default.0] - [17268] | AuthManager-Thread\n",
      "[Error 400 - invalid_grant] empty error description\n",
      "[2022-04-27 17:29:33,582] - [INFO] - [rd.bulk.package_manager.1.console] - [32380] | MainThread\n",
      "extract file Bulk-ESG-Global-Scores-Wealth-Standard-v1-Delta-2022-04-24T172110.942Z.jsonl.gz to ./downloads/esg/standard_scores\n"
     ]
    }
   ],
   "source": [
    "file_manager.update_files()"
   ]
  },
  {
   "cell_type": "markdown",
   "id": "normal-sleep",
   "metadata": {},
   "source": [
    "## update_db()\n",
    "Loads data from files to database. If the database is empty will create tables according to config."
   ]
  },
  {
   "cell_type": "code",
   "execution_count": 5,
   "id": "micro-algorithm",
   "metadata": {},
   "outputs": [
    {
     "name": "stdout",
     "output_type": "stream",
     "text": [
      "[2022-04-27 17:29:38,235] - [INFO] - [rd.bulk.package_manager.1.console] - [32380] | MainThread\n",
      "executing the \"CREATE TABLE\" query, table_name=MY_STANDARD_SCORES_TABLE \n"
     ]
    }
   ],
   "source": [
    "file_manager.update_db()"
   ]
  },
  {
   "cell_type": "markdown",
   "id": "linear-shield",
   "metadata": {},
   "source": [
    "## Getting data from db\n",
    "Get data from database accordingly to config file."
   ]
  },
  {
   "cell_type": "code",
   "execution_count": 6,
   "id": "given-watts",
   "metadata": {},
   "outputs": [],
   "source": [
    "response = bulk.Definition(\"esg.standard_scores\", \"4295865175\").get_db_data()"
   ]
  },
  {
   "cell_type": "code",
   "execution_count": 7,
   "id": "together-vacation",
   "metadata": {},
   "outputs": [
    {
     "data": {
      "text/plain": "  ORGANIZATION INSERT_DATE  instrument             periodenddate  \\\n0         null  2022-04-24  4295865175  2018-12-31T00:00:00.000Z   \n1         null  2022-04-24  4295865175  2019-12-31T00:00:00.000Z   \n2         null  2022-04-24  4295865175  2020-12-31T00:00:00.000Z   \n\n        TR.TRESGCScore        TR.TRESGScore TR.EnvironmentPillarScore  \\\n0   0.3468755803443543   0.3468755803443543      0.017336485421591788   \n1  0.29530709944901445  0.29530709944901445      0.017000607164541572   \n2   0.2661717831757612   0.2661717831757612      0.019367991845056047   \n\n  TR.SocialPillarScore TR.GovernancePillarScore  \n0  0.11923662461939981        0.637965760322256  \n1  0.18270285087719315       0.4738870792616723  \n2  0.23895899053627767      0.36319261213720333  ",
      "text/html": "<div>\n<style scoped>\n    .dataframe tbody tr th:only-of-type {\n        vertical-align: middle;\n    }\n\n    .dataframe tbody tr th {\n        vertical-align: top;\n    }\n\n    .dataframe thead th {\n        text-align: right;\n    }\n</style>\n<table border=\"1\" class=\"dataframe\">\n  <thead>\n    <tr style=\"text-align: right;\">\n      <th></th>\n      <th>ORGANIZATION</th>\n      <th>INSERT_DATE</th>\n      <th>instrument</th>\n      <th>periodenddate</th>\n      <th>TR.TRESGCScore</th>\n      <th>TR.TRESGScore</th>\n      <th>TR.EnvironmentPillarScore</th>\n      <th>TR.SocialPillarScore</th>\n      <th>TR.GovernancePillarScore</th>\n    </tr>\n  </thead>\n  <tbody>\n    <tr>\n      <th>0</th>\n      <td>null</td>\n      <td>2022-04-24</td>\n      <td>4295865175</td>\n      <td>2018-12-31T00:00:00.000Z</td>\n      <td>0.3468755803443543</td>\n      <td>0.3468755803443543</td>\n      <td>0.017336485421591788</td>\n      <td>0.11923662461939981</td>\n      <td>0.637965760322256</td>\n    </tr>\n    <tr>\n      <th>1</th>\n      <td>null</td>\n      <td>2022-04-24</td>\n      <td>4295865175</td>\n      <td>2019-12-31T00:00:00.000Z</td>\n      <td>0.29530709944901445</td>\n      <td>0.29530709944901445</td>\n      <td>0.017000607164541572</td>\n      <td>0.18270285087719315</td>\n      <td>0.4738870792616723</td>\n    </tr>\n    <tr>\n      <th>2</th>\n      <td>null</td>\n      <td>2022-04-24</td>\n      <td>4295865175</td>\n      <td>2020-12-31T00:00:00.000Z</td>\n      <td>0.2661717831757612</td>\n      <td>0.2661717831757612</td>\n      <td>0.019367991845056047</td>\n      <td>0.23895899053627767</td>\n      <td>0.36319261213720333</td>\n    </tr>\n  </tbody>\n</table>\n</div>"
     },
     "execution_count": 7,
     "metadata": {},
     "output_type": "execute_result"
    }
   ],
   "source": [
    "response.data.df"
   ]
  },
  {
   "cell_type": "markdown",
   "id": "plastic-cartoon",
   "metadata": {},
   "source": [
    "## Getting data from server\n",
    "For comparison, we will receive data from the server"
   ]
  },
  {
   "cell_type": "code",
   "execution_count": 8,
   "id": "legitimate-certificate",
   "metadata": {},
   "outputs": [],
   "source": [
    "response = esg.standard_scores.Definition(\"4295865175\").get_data()"
   ]
  },
  {
   "cell_type": "code",
   "execution_count": 9,
   "id": "imposed-geography",
   "metadata": {},
   "outputs": [
    {
     "data": {
      "text/plain": "   Instrument      Period End Date  ESG Combined Score  ESG Score  \\\n0  4295865175  1609372800000000000           26.617178  26.617178   \n1  4295865175  1577750400000000000            29.53071   29.53071   \n2  4295865175  1546214400000000000           34.687558  34.687558   \n\n   ESG Controversies Score  Environment Pillar Score  Social Pillar Score  \\\n0                      100                  1.936799            23.895899   \n1                      100                  1.700061            18.270285   \n2                      100                  1.733649            11.923662   \n\n   Governance Pillar Score  Resource Use Score  Emissions Score  \\\n0                36.319261            8.715596                0   \n1                47.388708            7.650273                0   \n2                63.796576            7.801418                0   \n\n   Innovation Score  Workforce Score  Human Rights Score  Community Score  \\\n0                 0        25.394322                   0         40.22082   \n1                 0        39.409722                   0        14.756944   \n2                 0         18.38843                   0        15.495868   \n\n   Product Responsibility Score  Management Score  Shareholders Score  \\\n0                             0         50.461741           13.390501   \n1                             0         66.368078           15.716612   \n2                             0         93.202417            8.308157   \n\n   CSR Strategy Score  ESG Period Last Update Date  \n0                   0          1650499200000000000  \n1                   0          1650499200000000000  \n2                   0          1650499200000000000  ",
      "text/html": "<div>\n<style scoped>\n    .dataframe tbody tr th:only-of-type {\n        vertical-align: middle;\n    }\n\n    .dataframe tbody tr th {\n        vertical-align: top;\n    }\n\n    .dataframe thead th {\n        text-align: right;\n    }\n</style>\n<table border=\"1\" class=\"dataframe\">\n  <thead>\n    <tr style=\"text-align: right;\">\n      <th></th>\n      <th>Instrument</th>\n      <th>Period End Date</th>\n      <th>ESG Combined Score</th>\n      <th>ESG Score</th>\n      <th>ESG Controversies Score</th>\n      <th>Environment Pillar Score</th>\n      <th>Social Pillar Score</th>\n      <th>Governance Pillar Score</th>\n      <th>Resource Use Score</th>\n      <th>Emissions Score</th>\n      <th>Innovation Score</th>\n      <th>Workforce Score</th>\n      <th>Human Rights Score</th>\n      <th>Community Score</th>\n      <th>Product Responsibility Score</th>\n      <th>Management Score</th>\n      <th>Shareholders Score</th>\n      <th>CSR Strategy Score</th>\n      <th>ESG Period Last Update Date</th>\n    </tr>\n  </thead>\n  <tbody>\n    <tr>\n      <th>0</th>\n      <td>4295865175</td>\n      <td>1609372800000000000</td>\n      <td>26.617178</td>\n      <td>26.617178</td>\n      <td>100</td>\n      <td>1.936799</td>\n      <td>23.895899</td>\n      <td>36.319261</td>\n      <td>8.715596</td>\n      <td>0</td>\n      <td>0</td>\n      <td>25.394322</td>\n      <td>0</td>\n      <td>40.22082</td>\n      <td>0</td>\n      <td>50.461741</td>\n      <td>13.390501</td>\n      <td>0</td>\n      <td>1650499200000000000</td>\n    </tr>\n    <tr>\n      <th>1</th>\n      <td>4295865175</td>\n      <td>1577750400000000000</td>\n      <td>29.53071</td>\n      <td>29.53071</td>\n      <td>100</td>\n      <td>1.700061</td>\n      <td>18.270285</td>\n      <td>47.388708</td>\n      <td>7.650273</td>\n      <td>0</td>\n      <td>0</td>\n      <td>39.409722</td>\n      <td>0</td>\n      <td>14.756944</td>\n      <td>0</td>\n      <td>66.368078</td>\n      <td>15.716612</td>\n      <td>0</td>\n      <td>1650499200000000000</td>\n    </tr>\n    <tr>\n      <th>2</th>\n      <td>4295865175</td>\n      <td>1546214400000000000</td>\n      <td>34.687558</td>\n      <td>34.687558</td>\n      <td>100</td>\n      <td>1.733649</td>\n      <td>11.923662</td>\n      <td>63.796576</td>\n      <td>7.801418</td>\n      <td>0</td>\n      <td>0</td>\n      <td>18.38843</td>\n      <td>0</td>\n      <td>15.495868</td>\n      <td>0</td>\n      <td>93.202417</td>\n      <td>8.308157</td>\n      <td>0</td>\n      <td>1650499200000000000</td>\n    </tr>\n  </tbody>\n</table>\n</div>"
     },
     "execution_count": 9,
     "metadata": {},
     "output_type": "execute_result"
    }
   ],
   "source": [
    "response.data.df"
   ]
  },
  {
   "cell_type": "markdown",
   "id": "structural-carpet",
   "metadata": {},
   "source": [
    "## cleanup_db()\n",
    "Cleans up the db accordingly to config file"
   ]
  },
  {
   "cell_type": "code",
   "execution_count": 10,
   "id": "frozen-peninsula",
   "metadata": {},
   "outputs": [
    {
     "name": "stdout",
     "output_type": "stream",
     "text": [
      "[2022-04-27 17:29:46,736] - [INFO] - [rd.bulk.package_manager.1.console] - [32380] | MainThread\n",
      "clean up database\n"
     ]
    }
   ],
   "source": [
    "file_manager.cleanup_db()"
   ]
  },
  {
   "cell_type": "markdown",
   "id": "based-english",
   "metadata": {},
   "source": [
    "## reset_files()\n",
    "Cleans-up files and force the download of the latest init update files and all subsequent update files\n",
    "A call to reset_files() is equivalent to a call to cleanup_files() followed by update_files()"
   ]
  },
  {
   "cell_type": "code",
   "execution_count": 11,
   "id": "shaped-holly",
   "metadata": {},
   "outputs": [
    {
     "name": "stdout",
     "output_type": "stream",
     "text": [
      "[2022-04-27 17:29:51,747] - [INFO] - [rd.bulk.package_manager.1.console] - [32380] | MainThread\n",
      "download file Bulk-ESG-Global-Scores-Wealth-Standard-v1-Init-2022-04-24T172107.722Z.jsonl.gz to ./downloads/esg/standard_scores\n",
      "[2022-04-27 17:32:56,555] - [INFO] - [rd.bulk.package_manager.1.console] - [32380] | MainThread\n",
      "extract file Bulk-ESG-Global-Scores-Wealth-Standard-v1-Init-2022-04-24T172107.722Z.jsonl.gz to ./downloads/esg/standard_scores\n",
      "[2022-04-27 17:32:58,657] - [INFO] - [rd.bulk.package_manager.1.console] - [32380] | MainThread\n",
      "download file Bulk-ESG-Global-Scores-Wealth-Standard-v1-Delta-2022-04-24T172110.942Z.jsonl.gz to ./downloads/esg/standard_scores\n",
      "[2022-04-27 17:36:15,911] - [INFO] - [rd.bulk.package_manager.1.console] - [32380] | MainThread\n",
      "extract file Bulk-ESG-Global-Scores-Wealth-Standard-v1-Delta-2022-04-24T172110.942Z.jsonl.gz to ./downloads/esg/standard_scores\n"
     ]
    }
   ],
   "source": [
    "file_manager.reset_files()"
   ]
  },
  {
   "cell_type": "markdown",
   "id": "adjacent-aircraft",
   "metadata": {},
   "source": [
    "## cleanup_files()\n",
    "This removes all previously downloaded files"
   ]
  },
  {
   "cell_type": "code",
   "execution_count": 12,
   "id": "textile-determination",
   "metadata": {},
   "outputs": [],
   "source": [
    "file_manager.cleanup_files()\n"
   ]
  },
  {
   "cell_type": "markdown",
   "id": "aae6226c",
   "metadata": {},
   "source": [
    "### Close the session"
   ]
  },
  {
   "cell_type": "code",
   "execution_count": 13,
   "id": "ambient-booking",
   "metadata": {},
   "outputs": [
    {
     "name": "stdout",
     "output_type": "stream",
     "text": [
      "[2022-04-27 17:36:15,951] - [INFO] - [sessions.platform.default.0] - [32380] | MainThread\n",
      "Closing session\n",
      "[2022-04-27 17:36:15,953] - [INFO] - [sessions.platform.default.0] - [32380] | MainThread\n",
      "Session is closed\n"
     ]
    }
   ],
   "source": [
    "rd.close_session()"
   ]
  },
  {
   "cell_type": "code",
   "execution_count": 13,
   "id": "2140a305-838e-472d-be82-0818d8b9daa9",
   "metadata": {},
   "outputs": [],
   "source": []
  }
 ],
 "metadata": {
  "kernelspec": {
   "display_name": "Python 3 (ipykernel)",
   "language": "python",
   "name": "python3"
  },
  "language_info": {
   "codemirror_mode": {
    "name": "ipython",
    "version": 3
   },
   "file_extension": ".py",
   "mimetype": "text/x-python",
   "name": "python",
   "nbconvert_exporter": "python",
   "pygments_lexer": "ipython3",
   "version": "3.8.2"
  }
 },
 "nbformat": 4,
 "nbformat_minor": 5
}