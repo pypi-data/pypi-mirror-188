{
 "cells": [
  {
   "cell_type": "markdown",
   "metadata": {},
   "source": [
    "# Refinitiv Data Platform Library for Python\n",
    "## Content - IPA - Bond Pricing"
   ]
  },
  {
   "cell_type": "markdown",
   "metadata": {},
   "source": [
    "This notebook demonstrates how to retrieve Bond pricing data from the Refinitiv Data Platform.\n",
    "\n",
    "#### Learn more\n",
    "\n",
    "To learn more about the Refinitiv Data Platform Data Libraries just connect to the Refinitiv Developer Community. By [registering](https://developers.refinitiv.com/iam/register) and [login](https://developers.refinitiv.com/iam/login) to the Refinitiv Developer Community portal you will get free access to a number of learning materials like [Quick Start guides](https://developers.refinitiv.com/refinitiv-data-platform/refinitiv-data-platform-libraries/quick-start), [Tutorials](https://developers.refinitiv.com/refinitiv-data-platform/refinitiv-data-platform-libraries/learning), [Documentation](https://developers.refinitiv.com/refinitiv-data-platform/refinitiv-data-platform-libraries/docs) and much more.  \n",
    "\n",
    "#### Getting Help and Support\n",
    "\n",
    "If you have any questions regarding the API usage, please post them on the [Refinitiv Data Platform Q&A Forum](https://community.developers.thomsonreuters.com/spaces/231/index.html). The Refinitiv Developer Community will be very pleased to help you. \n"
   ]
  },
  {
   "cell_type": "markdown",
   "metadata": {},
   "source": [
    "## Import the library\n"
   ]
  },
  {
   "cell_type": "code",
   "execution_count": null,
   "metadata": {},
   "outputs": [],
   "source": [
    "import refinitiv.data as rd\n",
    "import refinitiv.data.content.ipa.financial_contracts as rdf"
   ]
  },
  {
   "cell_type": "markdown",
   "metadata": {},
   "source": [
    "## Open the session of your choice\n",
    "\n",
    "Create and open a Desktop session to connect to the Refinitiv Data Platform via Eikon 4 or the Refinitiv Workspace."
   ]
  },
  {
   "cell_type": "code",
   "execution_count": null,
   "metadata": {},
   "outputs": [],
   "source": [
    "rd.open_session()"
   ]
  },
  {
   "cell_type": "markdown",
   "metadata": {},
   "source": [
    "# Examples"
   ]
  },
  {
   "cell_type": "markdown",
   "metadata": {},
   "source": [
    "### Single Bond"
   ]
  },
  {
   "cell_type": "code",
   "execution_count": null,
   "metadata": {},
   "outputs": [],
   "source": [
    "response = rdf.bond.Definition(\"US10YT=RR\").get_data()\n",
    "\n",
    "response.data.df"
   ]
  },
  {
   "cell_type": "markdown",
   "metadata": {},
   "source": [
    "### User defined Bond"
   ]
  },
  {
   "cell_type": "code",
   "execution_count": null,
   "metadata": {},
   "outputs": [],
   "source": [
    "response = rdf.bond.Definition(\n",
    "            issue_date = \"2002-02-28\",\n",
    "            end_date = \"2032-02-28\",\n",
    "            notional_ccy = \"USD\",\n",
    "            interest_payment_frequency = \"Annual\",\n",
    "            fixed_rate_percent = 7,\n",
    "            interest_calculation_method = \"Dcb_Actual_Actual\"\n",
    "        ).get_data()\n",
    "\n",
    "display(response.data.df)\n"
   ]
  },
  {
   "cell_type": "markdown",
   "metadata": {},
   "source": [
    "### Fields selection"
   ]
  },
  {
   "cell_type": "code",
   "execution_count": null,
   "metadata": {},
   "outputs": [],
   "source": [
    "response = rdf.bond.Definition(\n",
    "    \"US1YT=RR\",\n",
    "    fields = [\n",
    "        \"InstrumentCode\",\n",
    "        \"MarketDataDate\",\n",
    "        \"YieldPercent\",\n",
    "        \"GovernmentSpreadBp\",\n",
    "        \"GovCountrySpreadBp\",\n",
    "        \"RatingSpreadBp\",\n",
    "        \"SectorRatingSpreadBp\",\n",
    "        \"EdsfSpreadBp\",\n",
    "        \"IssuerSpreadBp\"\n",
    "    ]\n",
    ").get_data()\n",
    "\n",
    "display(response.data.df)"
   ]
  },
  {
   "cell_type": "markdown",
   "metadata": {},
   "source": [
    "### Pricing parameters"
   ]
  },
  {
   "cell_type": "code",
   "execution_count": null,
   "metadata": {},
   "outputs": [],
   "source": [
    "response = rdf.bond.Definition(\n",
    "    \"US1YT=RR\",\n",
    "    fields = [\n",
    "        \"InstrumentCode\",\n",
    "        \"MarketDataDate\",\n",
    "        \"YieldPercent\",\n",
    "        \"GovernmentSpreadBp\",\n",
    "        \"GovCountrySpreadBp\",\n",
    "        \"RatingSpreadBp\",\n",
    "        \"SectorRatingSpreadBp\",\n",
    "        \"EdsfSpreadBp\",\n",
    "        \"IssuerSpreadBp\"\n",
    "    ],\n",
    "    pricing_parameters = rd.content.ipa.financial_contracts.bond.PricingParameters(\n",
    "        market_data_date=\"2019-07-05\",\n",
    "        price_side = rd.content.ipa.financial_contracts.bond.PriceSide.BID\n",
    "    )\n",
    ").get_data()\n",
    "\n",
    "display(response.data.df)\n"
   ]
  },
  {
   "cell_type": "markdown",
   "metadata": {},
   "source": [
    "## Close the session"
   ]
  },
  {
   "cell_type": "code",
   "execution_count": null,
   "metadata": {
    "pycharm": {
     "name": "#%%\n"
    }
   },
   "outputs": [],
   "source": [
    "rd.close_session()"
   ]
  },
  {
   "cell_type": "code",
   "execution_count": null,
   "metadata": {},
   "outputs": [],
   "source": []
  }
 ],
 "metadata": {
  "kernelspec": {
   "display_name": "Python 3 (ipykernel)",
   "language": "python",
   "name": "python3"
  },
  "language_info": {
   "codemirror_mode": {
    "name": "ipython",
    "version": 3
   },
   "file_extension": ".py",
   "mimetype": "text/x-python",
   "name": "python",
   "nbconvert_exporter": "python",
   "pygments_lexer": "ipython3",
   "version": "3.8.2"
  }
 },
 "nbformat": 4,
 "nbformat_minor": 4
}
