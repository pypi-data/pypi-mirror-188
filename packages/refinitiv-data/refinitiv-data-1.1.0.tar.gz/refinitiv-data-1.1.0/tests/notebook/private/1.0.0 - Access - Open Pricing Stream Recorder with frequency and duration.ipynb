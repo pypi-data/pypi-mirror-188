{
 "cells": [
  {
   "cell_type": "markdown",
   "id": "52e96e04",
   "metadata": {},
   "source": [
    "# Refinitiv Data Library for Python"
   ]
  },
  {
   "cell_type": "markdown",
   "id": "17817c14",
   "metadata": {},
   "source": [
    "## Access layer - Open Pricing Stream Recorder with frequency and duration\n",
    "This notebook demonstrates how create stream to retrieve pricing data using the open_pricing_stream() and record updates by using recorder method."
   ]
  },
  {
   "cell_type": "markdown",
   "id": "f85f8428",
   "metadata": {},
   "source": [
    "#### Learn more\n",
    "\n",
    "To learn more about the Refinitiv Data Library for Python please join the Refinitiv Developer Community. By [registering](https://developers.refinitiv.com/iam/register) and [logging](https://developers.refinitiv.com/content/devportal/en_us/initCookie.html) into the Refinitiv Developer Community portal you will have free access to a number of learning materials like \n",
    " [Quick Start guides](https://developers.refinitiv.com/en/api-catalog/refinitiv-data-platform/refinitiv-data-library-for-python/quick-start), \n",
    " [Tutorials](https://developers.refinitiv.com/en/api-catalog/refinitiv-data-platform/refinitiv-data-library-for-python/learning), \n",
    " [Documentation](https://developers.refinitiv.com/en/api-catalog/refinitiv-data-platform/refinitiv-data-library-for-python/docs)\n",
    " and much more.\n",
    "\n",
    "#### Getting Help and Support\n",
    "\n",
    "If you have any questions regarding using the API, please post them on \n",
    "the [Refinitiv Data Q&A Forum](https://community.developers.refinitiv.com/spaces/321/index.html). \n",
    "The Refinitiv Developer Community will be happy to help. "
   ]
  },
  {
   "cell_type": "markdown",
   "id": "1b6adcd0",
   "metadata": {},
   "source": [
    "## record\n",
    "The **record()** method allows you record updates from server, save updates and create ohlc based on received data via a single function call.\n",
    "\n",
    "\n",
    "***record()*** parameters: \n",
    "- ***frequency***: Using to calculate ohlc based on received updates during period that was provided\n",
    "    - Type: String\n",
    "    - Optional: Yes  \n",
    "- ***duration***: Duration of recording data. Could be provided in seconds, minutes, hours\n",
    "    - Type: String\n",
    "    - Optional: Yes  \n",
    "- ***ticks_per_bar***: Count of ticks to record\n",
    "    - Type: String\n",
    "    - Optional: Yes  \n",
    "- ***on_data***: Callback which is calling with 'frequency' or 'count' and receive dataframe with calculated ohlc from last updates and recorder object\n",
    "    - Type: Function\n",
    "    - Optional: Yes  \n"
   ]
  },
  {
   "cell_type": "markdown",
   "id": "72be3e12",
   "metadata": {},
   "source": [
    "## Some Imports to start with"
   ]
  },
  {
   "cell_type": "code",
   "execution_count": 10,
   "id": "e6b6475e",
   "metadata": {},
   "outputs": [],
   "source": [
    "import refinitiv.data as rd"
   ]
  },
  {
   "cell_type": "markdown",
   "id": "f233a88d",
   "metadata": {},
   "source": [
    "## Open the data session\n",
    "\n",
    "The open_session() function creates and open sessions based on the information contained in the refinitiv-data.config.json configuration file. Please edit this file to set the session type and other parameters required for the session you want to open."
   ]
  },
  {
   "cell_type": "code",
   "execution_count": 11,
   "id": "3482529f",
   "metadata": {},
   "outputs": [
    {
     "data": {
      "text/plain": [
       "<refinitiv.data.session.Definition object at 0x21db6549e48 {name='default'}>"
      ]
     },
     "execution_count": 11,
     "metadata": {},
     "output_type": "execute_result"
    }
   ],
   "source": [
    "rd.open_session()"
   ]
  },
  {
   "cell_type": "markdown",
   "id": "752f9f80",
   "metadata": {},
   "source": [
    "## Open pricing stream"
   ]
  },
  {
   "cell_type": "code",
   "execution_count": 12,
   "id": "6984d9a2",
   "metadata": {},
   "outputs": [],
   "source": [
    "stream = rd.open_pricing_stream(\n",
    "    universe=['EUR=', 'GBP='],\n",
    "    fields=['BID', 'ASK']\n",
    ")"
   ]
  },
  {
   "cell_type": "markdown",
   "id": "19fe31a1",
   "metadata": {},
   "source": [
    "### Start recording all updates"
   ]
  },
  {
   "cell_type": "markdown",
   "id": "e7d2b728",
   "metadata": {},
   "source": [
    "This is a blocking call. Recording every update, ohlc should be calculated every 5 seconds based on received updates, till user calls 'stop()' on the recorder if duration is not provided. If user provide 'duration' argument then recording will be stopped when the 'duration' time is up."
   ]
  },
  {
   "cell_type": "code",
   "execution_count": 13,
   "id": "8cc3f530",
   "metadata": {},
   "outputs": [],
   "source": [
    "stream.recorder.record(frequency='5s', duration='15s')"
   ]
  },
  {
   "cell_type": "markdown",
   "id": "6eb9826d",
   "metadata": {},
   "source": [
    "### Close stream"
   ]
  },
  {
   "cell_type": "code",
   "execution_count": 15,
   "id": "f4883e92",
   "metadata": {},
   "outputs": [
    {
     "data": {
      "text/plain": [
       "<OpenState.Closed: 3>"
      ]
     },
     "execution_count": 15,
     "metadata": {},
     "output_type": "execute_result"
    }
   ],
   "source": [
    "stream.close()"
   ]
  },
  {
   "cell_type": "markdown",
   "id": "83f99c50",
   "metadata": {},
   "source": [
    "### Get recorded history"
   ]
  },
  {
   "cell_type": "markdown",
   "id": "cc3ed9d5",
   "metadata": {},
   "source": [
    "Returns a DataFrame with recorded ohlc history each 5 seconds based on received updates."
   ]
  },
  {
   "cell_type": "code",
   "execution_count": 16,
   "id": "1780b642",
   "metadata": {},
   "outputs": [
    {
     "name": "stdout",
     "output_type": "stream",
     "text": [
      "                              EUR=                                          \\\n",
      "                               BID                             ASK           \n",
      "                              open    high     low   close    open    high   \n",
      "2022-02-28 23:25:02.553911  1.1213  1.1213  1.1213  1.1213  1.1217  1.1217   \n",
      "2022-02-28 23:25:07.589993    <NA>    <NA>    <NA>    <NA>    <NA>    <NA>   \n",
      "2022-02-28 23:25:12.560826  1.1214  1.1214  1.1214  1.1214  1.1215  1.1215   \n",
      "\n",
      "                                              GBP=                          \\\n",
      "                                               BID                           \n",
      "                               low   close    open    high     low   close   \n",
      "2022-02-28 23:25:02.553911  1.1217  1.1217  1.3416  1.3416  1.3413  1.3413   \n",
      "2022-02-28 23:25:07.589993    <NA>    <NA>    <NA>    <NA>    <NA>    <NA>   \n",
      "2022-02-28 23:25:12.560826  1.1215  1.1215  1.3416  1.3417  1.3413  1.3417   \n",
      "\n",
      "                                                            \n",
      "                               ASK                          \n",
      "                              open    high     low   close  \n",
      "2022-02-28 23:25:02.553911  1.3417  1.3421  1.3417  1.3421  \n",
      "2022-02-28 23:25:07.589993    <NA>    <NA>    <NA>    <NA>  \n",
      "2022-02-28 23:25:12.560826  1.3417  1.3421  1.3417  1.3418  \n"
     ]
    }
   ],
   "source": [
    "history = stream.recorder.get_history()\n",
    "print(history)"
   ]
  },
  {
   "cell_type": "markdown",
   "id": "5868ae1e",
   "metadata": {},
   "source": [
    "### Delete recorded history"
   ]
  },
  {
   "cell_type": "code",
   "execution_count": null,
   "id": "e0f27302",
   "metadata": {},
   "outputs": [],
   "source": [
    "stream.recorder.delete()"
   ]
  },
  {
   "cell_type": "markdown",
   "id": "d7580ec6",
   "metadata": {},
   "source": [
    "## Close the session"
   ]
  },
  {
   "cell_type": "code",
   "execution_count": 19,
   "id": "d6bfe9a7",
   "metadata": {},
   "outputs": [],
   "source": [
    "rd.close_session()"
   ]
  }
 ],
 "metadata": {
  "kernelspec": {
   "display_name": "Python 3 (ipykernel)",
   "language": "python",
   "name": "python3"
  },
  "language_info": {
   "codemirror_mode": {
    "name": "ipython",
    "version": 3
   },
   "file_extension": ".py",
   "mimetype": "text/x-python",
   "name": "python",
   "nbconvert_exporter": "python",
   "pygments_lexer": "ipython3",
   "version": "3.7.9"
  }
 },
 "nbformat": 4,
 "nbformat_minor": 5
}
