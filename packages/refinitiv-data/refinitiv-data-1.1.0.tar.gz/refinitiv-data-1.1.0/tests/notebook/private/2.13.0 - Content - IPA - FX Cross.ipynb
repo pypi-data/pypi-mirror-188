{
 "cells": [
  {
   "cell_type": "markdown",
   "metadata": {},
   "source": [
    "# Refinitiv Data Platform Library for Python\n",
    "## Content - IPA - FX Cross"
   ]
  },
  {
   "cell_type": "markdown",
   "metadata": {},
   "source": [
    "This notebook demonstrates how to retrieve FX Cross Pricing data from the Refinitiv Data Platform.\n",
    "\n",
    "#### Learn more\n",
    "\n",
    "To learn more about the Refinitiv Data Platform Data Libraries just connect to the Refinitiv Developer Community. By [registering](https://developers.refinitiv.com/iam/register) and [login](https://developers.refinitiv.com/iam/login) to the Refinitiv Developer Community portal you will get free access to a number of learning materials like [Quick Start guides](https://developers.refinitiv.com/refinitiv-data-platform/refinitiv-data-platform-libraries/quick-start), [Tutorials](https://developers.refinitiv.com/refinitiv-data-platform/refinitiv-data-platform-libraries/learning), [Documentation](https://developers.refinitiv.com/refinitiv-data-platform/refinitiv-data-platform-libraries/docs) and much more.  \n",
    "\n",
    "#### Getting Help and Support\n",
    "\n",
    "If you have any questions regarding the API usage, please post them on the [Refinitiv Data Platform Q&A Forum](https://community.developers.thomsonreuters.com/spaces/231/index.html). The Refinitiv Developer Community will be very pleased to help you. \n"
   ]
  },
  {
   "cell_type": "markdown",
   "metadata": {},
   "source": [
    "## Import the library"
   ]
  },
  {
   "cell_type": "code",
   "execution_count": 1,
   "metadata": {},
   "outputs": [],
   "source": [
    "import refinitiv.data as rd\n",
    "import refinitiv.data.content.ipa.financial_contracts as rdf"
   ]
  },
  {
   "cell_type": "markdown",
   "metadata": {},
   "source": [
    "## Open the session of your choice\n",
    "\n",
    "Call **open_session(session_type)** to create and open a session to connect to the Refinitiv Data Platform directly (session_type=\"platform\") or via Eikon 4 or Refinitiv Workspace (session_type=\"desktop\") or via a local realtime infrastructure (session_type=\"deployed\").\n",
    "\n",
    "session_type can be:\n",
    "- \"desktop\" (Default value)\n",
    "- \"platform\"\n",
    "- \"deployed\""
   ]
  },
  {
   "cell_type": "code",
   "execution_count": 2,
   "metadata": {},
   "outputs": [
    {
     "data": {
      "text/plain": "<refinitiv.data.session._desktop_session.Definition object at 0x234328a0370 {name='default'}>"
     },
     "execution_count": 2,
     "metadata": {},
     "output_type": "execute_result"
    }
   ],
   "source": [
    "rd.open_session()"
   ]
  },
  {
   "cell_type": "markdown",
   "metadata": {},
   "source": [
    "# Example"
   ]
  },
  {
   "cell_type": "code",
   "execution_count": 3,
   "metadata": {},
   "outputs": [
    {
     "data": {
      "text/plain": "  InstrumentTag         ValuationDate InstrumentDescription  \\\n0     1Y-CHFJPY  2018-02-17T00:00:00Z   FxSwap CHFJPY 1M/1Y   \n\n                EndDate  FxSwapsCcy1  FxSwapsCcy2  FxSwapsCcy1Ccy2  \\\n0  2019-02-20T00:00:00Z      -278.97      -269.56        62.627801   \n\n   FxOutrightCcy1Ccy2  \n0          115.314842  ",
      "text/html": "<div>\n<style scoped>\n    .dataframe tbody tr th:only-of-type {\n        vertical-align: middle;\n    }\n\n    .dataframe tbody tr th {\n        vertical-align: top;\n    }\n\n    .dataframe thead th {\n        text-align: right;\n    }\n</style>\n<table border=\"1\" class=\"dataframe\">\n  <thead>\n    <tr style=\"text-align: right;\">\n      <th></th>\n      <th>InstrumentTag</th>\n      <th>ValuationDate</th>\n      <th>InstrumentDescription</th>\n      <th>EndDate</th>\n      <th>FxSwapsCcy1</th>\n      <th>FxSwapsCcy2</th>\n      <th>FxSwapsCcy1Ccy2</th>\n      <th>FxOutrightCcy1Ccy2</th>\n    </tr>\n  </thead>\n  <tbody>\n    <tr>\n      <th>0</th>\n      <td>1Y-CHFJPY</td>\n      <td>2018-02-17T00:00:00Z</td>\n      <td>FxSwap CHFJPY 1M/1Y</td>\n      <td>2019-02-20T00:00:00Z</td>\n      <td>-278.97</td>\n      <td>-269.56</td>\n      <td>62.627801</td>\n      <td>115.314842</td>\n    </tr>\n  </tbody>\n</table>\n</div>"
     },
     "execution_count": 3,
     "metadata": {},
     "output_type": "execute_result"
    }
   ],
   "source": [
    "response = rdf.cross.Definition(\n",
    "    instrument_tag=\"1Y-CHFJPY\",\n",
    "    fx_cross_type=rdf.cross.FxCrossType.FX_SWAP,\n",
    "    fx_cross_code=\"CHFJPY\",\n",
    "    legs=[\n",
    "        rdf.cross.LegDefinition(\n",
    "            deal_ccy_buy_sell=rdf.cross.BuySell.BUY,\n",
    "            fx_leg_type=rdf.cross.FxLegType.SWAP_NEAR,\n",
    "            deal_amount=1000000,\n",
    "            contra_amount=897008.3,\n",
    "            tenor=\"1M\",\n",
    "        ),\n",
    "        rdf.cross.LegDefinition(\n",
    "            deal_ccy_buy_sell=rdf.cross.BuySell.SELL,\n",
    "            fx_leg_type=rdf.cross.FxLegType.SWAP_FAR,\n",
    "            deal_amount=1000000,\n",
    "            contra_amount=900000,\n",
    "            tenor=\"1Y\",\n",
    "        ),\n",
    "    ],\n",
    "    pricing_parameters=rdf.cross.PricingParameters(\n",
    "        valuation_date=\"2018-02-17T00:00:00Z\",\n",
    "        price_side=rdf.cross.PriceSide.ASK,\n",
    "    ),\n",
    "    fields=[\n",
    "        \"InstrumentTag\",\n",
    "        \"ValuationDate\",\n",
    "        \"InstrumentDescription\",\n",
    "        \"EndDate\",\n",
    "        \"FxSwapsCcy1\",\n",
    "        \"FxSwapsCcy2\",\n",
    "        \"FxSwapsCcy1Ccy2\",\n",
    "        \"FxOutrightCcy1Ccy2\",\n",
    "    ],\n",
    ").get_data()\n",
    "\n",
    "response.data.df"
   ]
  },
  {
   "cell_type": "code",
   "execution_count": 4,
   "metadata": {},
   "outputs": [
    {
     "data": {
      "text/plain": "              StartDate               EndDate  \\\n0  2021-01-04T00:00:00Z  2021-02-05T00:00:00Z   \n\n                        FxOutrightCcy1Ccy2_BidMidAsk  \\\n0  {'bid': 0.8930078950868735, 'ask': 0.894068949...   \n\n                           FxSwapsCcy1Ccy2_BidMidAsk  \n0  {'bid': -0.08558295210625566, 'ask': 4.9861801...  ",
      "text/html": "<div>\n<style scoped>\n    .dataframe tbody tr th:only-of-type {\n        vertical-align: middle;\n    }\n\n    .dataframe tbody tr th {\n        vertical-align: top;\n    }\n\n    .dataframe thead th {\n        text-align: right;\n    }\n</style>\n<table border=\"1\" class=\"dataframe\">\n  <thead>\n    <tr style=\"text-align: right;\">\n      <th></th>\n      <th>StartDate</th>\n      <th>EndDate</th>\n      <th>FxOutrightCcy1Ccy2_BidMidAsk</th>\n      <th>FxSwapsCcy1Ccy2_BidMidAsk</th>\n    </tr>\n  </thead>\n  <tbody>\n    <tr>\n      <th>0</th>\n      <td>2021-01-04T00:00:00Z</td>\n      <td>2021-02-05T00:00:00Z</td>\n      <td>{'bid': 0.8930078950868735, 'ask': 0.894068949...</td>\n      <td>{'bid': -0.08558295210625566, 'ask': 4.9861801...</td>\n    </tr>\n  </tbody>\n</table>\n</div>"
     },
     "execution_count": 4,
     "metadata": {},
     "output_type": "execute_result"
    }
   ],
   "source": [
    "response = rdf.cross.Definition(\n",
    "        fx_cross_type=rdf.cross.FxCrossType.FX_TIME_OPTION_FORWARD,\n",
    "        fx_cross_code=\"EURGBP\",\n",
    "        legs=[\n",
    "            rdf.cross.LegDefinition(tenor=\"1M\", start_date=\"2021-01-01\"),\n",
    "        ],\n",
    "        pricing_parameters=rdf.cross.PricingParameters(valuation_date=\"2021-01-01\"),\n",
    "        fields=[\n",
    "            \"StartDate\",\n",
    "            \"EndDate\",\n",
    "            \"FxOutrightCcy1Ccy2_BidMidAsk\",\n",
    "            \"FxSwapsCcy1Ccy2_BidMidAsk\",\n",
    "        ],\n",
    "    ).get_data()\n",
    "\n",
    "response.data.df"
   ]
  },
  {
   "cell_type": "markdown",
   "metadata": {},
   "source": [
    "## Close the session"
   ]
  },
  {
   "cell_type": "code",
   "execution_count": 5,
   "metadata": {
    "pycharm": {
     "name": "#%%\n"
    }
   },
   "outputs": [
    {
     "name": "stdout",
     "output_type": "stream",
     "text": [
      "[2021-11-05 11:44:33,826] - [INFO] - [sessions.desktop.default.0] - [25836] | MainThread\n",
      "Closing session\n",
      "[2021-11-05 11:44:33,829] - [INFO] - [sessions.desktop.default.0] - [25836] | MainThread\n",
      "Session is closed\n"
     ]
    }
   ],
   "source": [
    "rd.close_session()"
   ]
  }
 ],
 "metadata": {
  "kernelspec": {
   "display_name": "Python 3 (ipykernel)",
   "language": "python",
   "name": "python3"
  },
  "language_info": {
   "codemirror_mode": {
    "name": "ipython",
    "version": 3
   },
   "file_extension": ".py",
   "mimetype": "text/x-python",
   "name": "python",
   "nbconvert_exporter": "python",
   "pygments_lexer": "ipython3",
   "version": "3.8.2"
  }
 },
 "nbformat": 4,
 "nbformat_minor": 4
}