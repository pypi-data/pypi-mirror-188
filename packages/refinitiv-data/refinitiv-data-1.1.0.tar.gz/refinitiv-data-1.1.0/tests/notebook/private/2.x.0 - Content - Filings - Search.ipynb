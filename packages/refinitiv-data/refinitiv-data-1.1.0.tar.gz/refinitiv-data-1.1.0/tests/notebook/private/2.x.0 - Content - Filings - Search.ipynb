{
 "cells": [
  {
   "cell_type": "markdown",
   "metadata": {
    "pycharm": {
     "name": "#%% md\n"
    }
   },
   "source": [
    "# Refinitiv Data Library for Python\n",
    "## Content - Filings - Search"
   ]
  },
  {
   "cell_type": "markdown",
   "metadata": {},
   "source": [
    "This notebook demonstrates how to work with Filings API from Refinitiv Data Library."
   ]
  },
  {
   "cell_type": "markdown",
   "metadata": {},
   "source": [
    "#### Learn more\n",
    "\n",
    "To learn more about the Refinitiv Data Library for Python please join the Refinitiv Developer Community. By [registering](https://developers.refinitiv.com/iam/register) and [logging](https://developers.refinitiv.com/content/devportal/en_us/initCookie.html) into the Refinitiv Developer Community portal you will have free access to a number of learning materials like\n",
    " [Quick Start guides](https://developers.refinitiv.com/en/api-catalog/refinitiv-data-platform/refinitiv-data-library-for-python/quick-start),\n",
    " [Tutorials](https://developers.refinitiv.com/en/api-catalog/refinitiv-data-platform/refinitiv-data-library-for-python/learning),\n",
    " [Documentation](https://developers.refinitiv.com/en/api-catalog/refinitiv-data-platform/refinitiv-data-library-for-python/docs)\n",
    " and much more.\n",
    "\n",
    "#### Getting Help and Support\n",
    "\n",
    "If you have any questions regarding using the API, please post them on\n",
    "the [Refinitiv Data Q&A Forum](https://community.developers.refinitiv.com/spaces/321/index.html).\n",
    "The Refinitiv Developer Community will be happy to help."
   ]
  },
  {
   "cell_type": "markdown",
   "metadata": {},
   "source": [
    "## Set the configuration file location\n",
    "For a better ease of use, you have the option to set initialization parameters of the Refinitiv Data Library in the _refinitiv-data.config.json_ configuration file. This file must be located beside your notebook, in your user folder or in a folder defined by the _RD_LIB_CONFIG_PATH_ environment variable. The _RD_LIB_CONFIG_PATH_ environment variable is the option used by this series of examples. The following code sets this environment variable."
   ]
  },
  {
   "cell_type": "code",
   "execution_count": 1,
   "metadata": {
    "pycharm": {
     "name": "#%%\n"
    }
   },
   "outputs": [],
   "source": [
    "import os\n",
    "os.environ[\"RD_LIB_CONFIG_PATH\"] = \"../../../Configuration\""
   ]
  },
  {
   "cell_type": "markdown",
   "metadata": {},
   "source": [
    "## Some Imports to start with"
   ]
  },
  {
   "cell_type": "code",
   "execution_count": 5,
   "metadata": {
    "pycharm": {
     "is_executing": true,
     "name": "#%%\n"
    }
   },
   "outputs": [],
   "source": [
    "import refinitiv.data as rd"
   ]
  },
  {
   "cell_type": "markdown",
   "metadata": {},
   "source": [
    "## Open the data session\n",
    "\n",
    "The open_session() function creates and open sessions based on the information contained in the refinitiv-data.config.json configuration file. Please edit this file to set the session type and other parameters required for the session you want to open."
   ]
  },
  {
   "cell_type": "code",
   "execution_count": 6,
   "metadata": {
    "pycharm": {
     "name": "#%%\n"
    }
   },
   "outputs": [
    {
     "data": {
      "text/plain": [
       "<refinitiv.data.session.platform.Definition object at 0x295de5565b0 {session_name='rdp'}>"
      ]
     },
     "execution_count": 6,
     "metadata": {},
     "output_type": "execute_result"
    }
   ],
   "source": [
    "rd.open_session(\"platform.rdp\")"
   ]
  },
  {
   "cell_type": "markdown",
   "metadata": {
    "pycharm": {
     "name": "#%% md\n"
    }
   },
   "source": [
    "#### Search"
   ]
  },
  {
   "cell_type": "markdown",
   "metadata": {},
   "source": [
    "##### Search by Query string"
   ]
  },
  {
   "cell_type": "code",
   "execution_count": 7,
   "metadata": {
    "pycharm": {
     "name": "#%%\n"
    }
   },
   "outputs": [
    {
     "data": {
      "text/html": [
       "<div>\n",
       "<style scoped>\n",
       "    .dataframe tbody tr th:only-of-type {\n",
       "        vertical-align: middle;\n",
       "    }\n",
       "\n",
       "    .dataframe tbody tr th {\n",
       "        vertical-align: top;\n",
       "    }\n",
       "\n",
       "    .dataframe thead th {\n",
       "        text-align: right;\n",
       "    }\n",
       "</style>\n",
       "<table border=\"1\" class=\"dataframe\">\n",
       "  <thead>\n",
       "    <tr style=\"text-align: right;\">\n",
       "      <th></th>\n",
       "      <th>DocumentTitle</th>\n",
       "      <th>Filename</th>\n",
       "      <th>MimeType</th>\n",
       "      <th>Dcn</th>\n",
       "      <th>DocId</th>\n",
       "      <th>FinancialFilingId</th>\n",
       "    </tr>\n",
       "  </thead>\n",
       "  <tbody>\n",
       "    <tr>\n",
       "      <th>0</th>\n",
       "      <td>Mirage Energy Corp 10-Q</td>\n",
       "      <td>ecpfilings_97661034572_xbrl.zip</td>\n",
       "      <td>application/zip</td>\n",
       "      <td>[201426949]</td>\n",
       "      <td>56355949</td>\n",
       "      <td>97661034572</td>\n",
       "    </tr>\n",
       "    <tr>\n",
       "      <th>1</th>\n",
       "      <td>Mirage Energy Corp 10-Q</td>\n",
       "      <td>ecpfilings_97661034572_pdf</td>\n",
       "      <td>application/pdf</td>\n",
       "      <td>[201426949]</td>\n",
       "      <td>56355949</td>\n",
       "      <td>97661034572</td>\n",
       "    </tr>\n",
       "    <tr>\n",
       "      <th>2</th>\n",
       "      <td>Mirage Energy Corp 10-Q</td>\n",
       "      <td>ecpfilings_97661034572_dissemination_txt</td>\n",
       "      <td>text/plain</td>\n",
       "      <td>[201426949]</td>\n",
       "      <td>56355949</td>\n",
       "      <td>97661034572</td>\n",
       "    </tr>\n",
       "    <tr>\n",
       "      <th>3</th>\n",
       "      <td>GLOBAL HEALTHCARE REIT, INC. 10-Q</td>\n",
       "      <td>ecpfilings_97661034674_xbrl.zip</td>\n",
       "      <td>application/zip</td>\n",
       "      <td>[201427067]</td>\n",
       "      <td>56356051</td>\n",
       "      <td>97661034674</td>\n",
       "    </tr>\n",
       "    <tr>\n",
       "      <th>4</th>\n",
       "      <td>GLOBAL HEALTHCARE REIT, INC. 10-Q</td>\n",
       "      <td>ecpfilings_97661034674_pdf</td>\n",
       "      <td>application/pdf</td>\n",
       "      <td>[201427067]</td>\n",
       "      <td>56356051</td>\n",
       "      <td>97661034674</td>\n",
       "    </tr>\n",
       "    <tr>\n",
       "      <th>5</th>\n",
       "      <td>GLOBAL HEALTHCARE REIT, INC. 10-Q</td>\n",
       "      <td>ecpfilings_97661034674_dissemination_txt</td>\n",
       "      <td>text/plain</td>\n",
       "      <td>[201427067]</td>\n",
       "      <td>56356051</td>\n",
       "      <td>97661034674</td>\n",
       "    </tr>\n",
       "    <tr>\n",
       "      <th>6</th>\n",
       "      <td>Azar International Corp. 10-Q</td>\n",
       "      <td>ecpfilings_97661034702_xbrl.zip</td>\n",
       "      <td>application/zip</td>\n",
       "      <td>[201427311]</td>\n",
       "      <td>56356079</td>\n",
       "      <td>97661034702</td>\n",
       "    </tr>\n",
       "    <tr>\n",
       "      <th>7</th>\n",
       "      <td>Azar International Corp. 10-Q</td>\n",
       "      <td>ecpfilings_97661034702_pdf</td>\n",
       "      <td>application/pdf</td>\n",
       "      <td>[201427311]</td>\n",
       "      <td>56356079</td>\n",
       "      <td>97661034702</td>\n",
       "    </tr>\n",
       "    <tr>\n",
       "      <th>8</th>\n",
       "      <td>Azar International Corp. 10-Q</td>\n",
       "      <td>ecpfilings_97661034702_dissemination_txt</td>\n",
       "      <td>text/plain</td>\n",
       "      <td>[201427311]</td>\n",
       "      <td>56356079</td>\n",
       "      <td>97661034702</td>\n",
       "    </tr>\n",
       "    <tr>\n",
       "      <th>9</th>\n",
       "      <td>UNIVERSAL SOLAR TECHNOLOGY, INC. 10-Q</td>\n",
       "      <td>ecpfilings_97661034734_dissemination_txt</td>\n",
       "      <td>text/plain</td>\n",
       "      <td>[201427393]</td>\n",
       "      <td>56356111</td>\n",
       "      <td>97661034734</td>\n",
       "    </tr>\n",
       "    <tr>\n",
       "      <th>10</th>\n",
       "      <td>UNIVERSAL SOLAR TECHNOLOGY, INC. 10-Q</td>\n",
       "      <td>ecpfilings_97661034855_dissemination_txt</td>\n",
       "      <td>text/plain</td>\n",
       "      <td>[201427345]</td>\n",
       "      <td>56356232</td>\n",
       "      <td>97661034855</td>\n",
       "    </tr>\n",
       "    <tr>\n",
       "      <th>11</th>\n",
       "      <td>CPI AEROSTRUCTURES INC 10-Q</td>\n",
       "      <td>ecpfilings_97661034904_delta_pdf</td>\n",
       "      <td>application/pdf</td>\n",
       "      <td>[201427444]</td>\n",
       "      <td>56356281</td>\n",
       "      <td>97661034904</td>\n",
       "    </tr>\n",
       "    <tr>\n",
       "      <th>12</th>\n",
       "      <td>CPI AEROSTRUCTURES INC 10-Q</td>\n",
       "      <td>ecpfilings_97661034904_dissemination_txt</td>\n",
       "      <td>text/plain</td>\n",
       "      <td>[201427444]</td>\n",
       "      <td>56356281</td>\n",
       "      <td>97661034904</td>\n",
       "    </tr>\n",
       "    <tr>\n",
       "      <th>13</th>\n",
       "      <td>CPI AEROSTRUCTURES INC 10-Q</td>\n",
       "      <td>ecpfilings_97661034904_pdf</td>\n",
       "      <td>application/pdf</td>\n",
       "      <td>[201427444]</td>\n",
       "      <td>56356281</td>\n",
       "      <td>97661034904</td>\n",
       "    </tr>\n",
       "    <tr>\n",
       "      <th>14</th>\n",
       "      <td>CPI AEROSTRUCTURES INC 10-Q</td>\n",
       "      <td>ecpfilings_97661034904_xbrl.zip</td>\n",
       "      <td>application/zip</td>\n",
       "      <td>[201427444]</td>\n",
       "      <td>56356281</td>\n",
       "      <td>97661034904</td>\n",
       "    </tr>\n",
       "    <tr>\n",
       "      <th>15</th>\n",
       "      <td>TAYLOR DEVICES INC 10-Q</td>\n",
       "      <td>ecpfilings_97661036317_dissemination_txt</td>\n",
       "      <td>text/plain</td>\n",
       "      <td>[201427609]</td>\n",
       "      <td>56357694</td>\n",
       "      <td>97661036317</td>\n",
       "    </tr>\n",
       "    <tr>\n",
       "      <th>16</th>\n",
       "      <td>TAYLOR DEVICES INC 10-Q</td>\n",
       "      <td>ecpfilings_97661036317_xbrl.zip</td>\n",
       "      <td>application/zip</td>\n",
       "      <td>[201427609]</td>\n",
       "      <td>56357694</td>\n",
       "      <td>97661036317</td>\n",
       "    </tr>\n",
       "    <tr>\n",
       "      <th>17</th>\n",
       "      <td>TAYLOR DEVICES INC 10-Q</td>\n",
       "      <td>ecpfilings_97661036317_pdf</td>\n",
       "      <td>application/pdf</td>\n",
       "      <td>[201427609]</td>\n",
       "      <td>56357694</td>\n",
       "      <td>97661036317</td>\n",
       "    </tr>\n",
       "    <tr>\n",
       "      <th>18</th>\n",
       "      <td>Teligent, Inc. 10-Q</td>\n",
       "      <td>ecpfilings_97661038122_dissemination_txt</td>\n",
       "      <td>text/plain</td>\n",
       "      <td>[201428813]</td>\n",
       "      <td>56359499</td>\n",
       "      <td>97661038122</td>\n",
       "    </tr>\n",
       "    <tr>\n",
       "      <th>19</th>\n",
       "      <td>Teligent, Inc. 10-Q</td>\n",
       "      <td>ecpfilings_97661038122_xbrl.zip</td>\n",
       "      <td>application/zip</td>\n",
       "      <td>[201428813]</td>\n",
       "      <td>56359499</td>\n",
       "      <td>97661038122</td>\n",
       "    </tr>\n",
       "    <tr>\n",
       "      <th>20</th>\n",
       "      <td>Teligent, Inc. 10-Q</td>\n",
       "      <td>ecpfilings_97661038122_pdf</td>\n",
       "      <td>application/pdf</td>\n",
       "      <td>[201428813]</td>\n",
       "      <td>56359499</td>\n",
       "      <td>97661038122</td>\n",
       "    </tr>\n",
       "    <tr>\n",
       "      <th>21</th>\n",
       "      <td>Blue Line Protection Group, Inc. 10-Q</td>\n",
       "      <td>ecpfilings_97661038124_pdf</td>\n",
       "      <td>application/pdf</td>\n",
       "      <td>[201428814]</td>\n",
       "      <td>56359501</td>\n",
       "      <td>97661038124</td>\n",
       "    </tr>\n",
       "    <tr>\n",
       "      <th>22</th>\n",
       "      <td>Blue Line Protection Group, Inc. 10-Q</td>\n",
       "      <td>ecpfilings_97661038124_exhibit_0001493152-20-0...</td>\n",
       "      <td>application/pdf</td>\n",
       "      <td>[201428814]</td>\n",
       "      <td>56359501</td>\n",
       "      <td>97661038124</td>\n",
       "    </tr>\n",
       "    <tr>\n",
       "      <th>23</th>\n",
       "      <td>Blue Line Protection Group, Inc. 10-Q</td>\n",
       "      <td>ecpfilings_97661038124_exhibit_0001493152-20-0...</td>\n",
       "      <td>text/html</td>\n",
       "      <td>[201428814]</td>\n",
       "      <td>56359501</td>\n",
       "      <td>97661038124</td>\n",
       "    </tr>\n",
       "    <tr>\n",
       "      <th>24</th>\n",
       "      <td>Blue Line Protection Group, Inc. 10-Q</td>\n",
       "      <td>ecpfilings_97661038124_dissemination_txt</td>\n",
       "      <td>text/plain</td>\n",
       "      <td>[201428814]</td>\n",
       "      <td>56359501</td>\n",
       "      <td>97661038124</td>\n",
       "    </tr>\n",
       "    <tr>\n",
       "      <th>25</th>\n",
       "      <td>Blue Line Protection Group, Inc. 10-Q</td>\n",
       "      <td>ecpfilings_97661038124_with_exhibits_html</td>\n",
       "      <td>text/html</td>\n",
       "      <td>[201428814]</td>\n",
       "      <td>56359501</td>\n",
       "      <td>97661038124</td>\n",
       "    </tr>\n",
       "    <tr>\n",
       "      <th>26</th>\n",
       "      <td>Blue Line Protection Group, Inc. 10-Q</td>\n",
       "      <td>ecpfilings_97661038124_exhibit_0001493152-20-0...</td>\n",
       "      <td>text/html</td>\n",
       "      <td>[201428814]</td>\n",
       "      <td>56359501</td>\n",
       "      <td>97661038124</td>\n",
       "    </tr>\n",
       "    <tr>\n",
       "      <th>27</th>\n",
       "      <td>Blue Line Protection Group, Inc. 10-Q</td>\n",
       "      <td>ecpfilings_97661038124_exhibit_0001493152-20-0...</td>\n",
       "      <td>text/html</td>\n",
       "      <td>[201428814]</td>\n",
       "      <td>56359501</td>\n",
       "      <td>97661038124</td>\n",
       "    </tr>\n",
       "    <tr>\n",
       "      <th>28</th>\n",
       "      <td>Blue Line Protection Group, Inc. 10-Q</td>\n",
       "      <td>ecpfilings_97661038124_exhibit_0001493152-20-0...</td>\n",
       "      <td>application/pdf</td>\n",
       "      <td>[201428814]</td>\n",
       "      <td>56359501</td>\n",
       "      <td>97661038124</td>\n",
       "    </tr>\n",
       "    <tr>\n",
       "      <th>29</th>\n",
       "      <td>Blue Line Protection Group, Inc. 10-Q</td>\n",
       "      <td>ecpfilings_97661038124_xbrl.zip</td>\n",
       "      <td>application/zip</td>\n",
       "      <td>[201428814]</td>\n",
       "      <td>56359501</td>\n",
       "      <td>97661038124</td>\n",
       "    </tr>\n",
       "    <tr>\n",
       "      <th>30</th>\n",
       "      <td>Blue Line Protection Group, Inc. 10-Q</td>\n",
       "      <td>ecpfilings_97661038124_html</td>\n",
       "      <td>text/html</td>\n",
       "      <td>[201428814]</td>\n",
       "      <td>56359501</td>\n",
       "      <td>97661038124</td>\n",
       "    </tr>\n",
       "    <tr>\n",
       "      <th>31</th>\n",
       "      <td>Blue Line Protection Group, Inc. 10-Q</td>\n",
       "      <td>ecpfilings_97661038124_exhibit_0001493152-20-0...</td>\n",
       "      <td>application/pdf</td>\n",
       "      <td>[201428814]</td>\n",
       "      <td>56359501</td>\n",
       "      <td>97661038124</td>\n",
       "    </tr>\n",
       "    <tr>\n",
       "      <th>32</th>\n",
       "      <td>Blue Line Protection Group, Inc. 10-Q</td>\n",
       "      <td>ecpfilings_97661038124_with_exhibits_pdf</td>\n",
       "      <td>application/pdf</td>\n",
       "      <td>[201428814]</td>\n",
       "      <td>56359501</td>\n",
       "      <td>97661038124</td>\n",
       "    </tr>\n",
       "    <tr>\n",
       "      <th>33</th>\n",
       "      <td>LegacyXChange, Inc. 10-Q</td>\n",
       "      <td>ecpfilings_97661038383_dissemination_txt</td>\n",
       "      <td>text/plain</td>\n",
       "      <td>[201429028]</td>\n",
       "      <td>56359760</td>\n",
       "      <td>97661038383</td>\n",
       "    </tr>\n",
       "    <tr>\n",
       "      <th>34</th>\n",
       "      <td>LegacyXChange, Inc. 10-Q</td>\n",
       "      <td>ecpfilings_97661038383_xbrl.zip</td>\n",
       "      <td>application/zip</td>\n",
       "      <td>[201429028]</td>\n",
       "      <td>56359760</td>\n",
       "      <td>97661038383</td>\n",
       "    </tr>\n",
       "    <tr>\n",
       "      <th>35</th>\n",
       "      <td>LegacyXChange, Inc. 10-Q</td>\n",
       "      <td>ecpfilings_97661038383_pdf</td>\n",
       "      <td>application/pdf</td>\n",
       "      <td>[201429028]</td>\n",
       "      <td>56359760</td>\n",
       "      <td>97661038383</td>\n",
       "    </tr>\n",
       "  </tbody>\n",
       "</table>\n",
       "</div>"
      ],
      "text/plain": [
       "                            DocumentTitle  \\\n",
       "0                 Mirage Energy Corp 10-Q   \n",
       "1                 Mirage Energy Corp 10-Q   \n",
       "2                 Mirage Energy Corp 10-Q   \n",
       "3       GLOBAL HEALTHCARE REIT, INC. 10-Q   \n",
       "4       GLOBAL HEALTHCARE REIT, INC. 10-Q   \n",
       "5       GLOBAL HEALTHCARE REIT, INC. 10-Q   \n",
       "6           Azar International Corp. 10-Q   \n",
       "7           Azar International Corp. 10-Q   \n",
       "8           Azar International Corp. 10-Q   \n",
       "9   UNIVERSAL SOLAR TECHNOLOGY, INC. 10-Q   \n",
       "10  UNIVERSAL SOLAR TECHNOLOGY, INC. 10-Q   \n",
       "11            CPI AEROSTRUCTURES INC 10-Q   \n",
       "12            CPI AEROSTRUCTURES INC 10-Q   \n",
       "13            CPI AEROSTRUCTURES INC 10-Q   \n",
       "14            CPI AEROSTRUCTURES INC 10-Q   \n",
       "15                TAYLOR DEVICES INC 10-Q   \n",
       "16                TAYLOR DEVICES INC 10-Q   \n",
       "17                TAYLOR DEVICES INC 10-Q   \n",
       "18                    Teligent, Inc. 10-Q   \n",
       "19                    Teligent, Inc. 10-Q   \n",
       "20                    Teligent, Inc. 10-Q   \n",
       "21  Blue Line Protection Group, Inc. 10-Q   \n",
       "22  Blue Line Protection Group, Inc. 10-Q   \n",
       "23  Blue Line Protection Group, Inc. 10-Q   \n",
       "24  Blue Line Protection Group, Inc. 10-Q   \n",
       "25  Blue Line Protection Group, Inc. 10-Q   \n",
       "26  Blue Line Protection Group, Inc. 10-Q   \n",
       "27  Blue Line Protection Group, Inc. 10-Q   \n",
       "28  Blue Line Protection Group, Inc. 10-Q   \n",
       "29  Blue Line Protection Group, Inc. 10-Q   \n",
       "30  Blue Line Protection Group, Inc. 10-Q   \n",
       "31  Blue Line Protection Group, Inc. 10-Q   \n",
       "32  Blue Line Protection Group, Inc. 10-Q   \n",
       "33               LegacyXChange, Inc. 10-Q   \n",
       "34               LegacyXChange, Inc. 10-Q   \n",
       "35               LegacyXChange, Inc. 10-Q   \n",
       "\n",
       "                                             Filename         MimeType  \\\n",
       "0                     ecpfilings_97661034572_xbrl.zip  application/zip   \n",
       "1                          ecpfilings_97661034572_pdf  application/pdf   \n",
       "2            ecpfilings_97661034572_dissemination_txt       text/plain   \n",
       "3                     ecpfilings_97661034674_xbrl.zip  application/zip   \n",
       "4                          ecpfilings_97661034674_pdf  application/pdf   \n",
       "5            ecpfilings_97661034674_dissemination_txt       text/plain   \n",
       "6                     ecpfilings_97661034702_xbrl.zip  application/zip   \n",
       "7                          ecpfilings_97661034702_pdf  application/pdf   \n",
       "8            ecpfilings_97661034702_dissemination_txt       text/plain   \n",
       "9            ecpfilings_97661034734_dissemination_txt       text/plain   \n",
       "10           ecpfilings_97661034855_dissemination_txt       text/plain   \n",
       "11                   ecpfilings_97661034904_delta_pdf  application/pdf   \n",
       "12           ecpfilings_97661034904_dissemination_txt       text/plain   \n",
       "13                         ecpfilings_97661034904_pdf  application/pdf   \n",
       "14                    ecpfilings_97661034904_xbrl.zip  application/zip   \n",
       "15           ecpfilings_97661036317_dissemination_txt       text/plain   \n",
       "16                    ecpfilings_97661036317_xbrl.zip  application/zip   \n",
       "17                         ecpfilings_97661036317_pdf  application/pdf   \n",
       "18           ecpfilings_97661038122_dissemination_txt       text/plain   \n",
       "19                    ecpfilings_97661038122_xbrl.zip  application/zip   \n",
       "20                         ecpfilings_97661038122_pdf  application/pdf   \n",
       "21                         ecpfilings_97661038124_pdf  application/pdf   \n",
       "22  ecpfilings_97661038124_exhibit_0001493152-20-0...  application/pdf   \n",
       "23  ecpfilings_97661038124_exhibit_0001493152-20-0...        text/html   \n",
       "24           ecpfilings_97661038124_dissemination_txt       text/plain   \n",
       "25          ecpfilings_97661038124_with_exhibits_html        text/html   \n",
       "26  ecpfilings_97661038124_exhibit_0001493152-20-0...        text/html   \n",
       "27  ecpfilings_97661038124_exhibit_0001493152-20-0...        text/html   \n",
       "28  ecpfilings_97661038124_exhibit_0001493152-20-0...  application/pdf   \n",
       "29                    ecpfilings_97661038124_xbrl.zip  application/zip   \n",
       "30                        ecpfilings_97661038124_html        text/html   \n",
       "31  ecpfilings_97661038124_exhibit_0001493152-20-0...  application/pdf   \n",
       "32           ecpfilings_97661038124_with_exhibits_pdf  application/pdf   \n",
       "33           ecpfilings_97661038383_dissemination_txt       text/plain   \n",
       "34                    ecpfilings_97661038383_xbrl.zip  application/zip   \n",
       "35                         ecpfilings_97661038383_pdf  application/pdf   \n",
       "\n",
       "            Dcn     DocId  FinancialFilingId  \n",
       "0   [201426949]  56355949        97661034572  \n",
       "1   [201426949]  56355949        97661034572  \n",
       "2   [201426949]  56355949        97661034572  \n",
       "3   [201427067]  56356051        97661034674  \n",
       "4   [201427067]  56356051        97661034674  \n",
       "5   [201427067]  56356051        97661034674  \n",
       "6   [201427311]  56356079        97661034702  \n",
       "7   [201427311]  56356079        97661034702  \n",
       "8   [201427311]  56356079        97661034702  \n",
       "9   [201427393]  56356111        97661034734  \n",
       "10  [201427345]  56356232        97661034855  \n",
       "11  [201427444]  56356281        97661034904  \n",
       "12  [201427444]  56356281        97661034904  \n",
       "13  [201427444]  56356281        97661034904  \n",
       "14  [201427444]  56356281        97661034904  \n",
       "15  [201427609]  56357694        97661036317  \n",
       "16  [201427609]  56357694        97661036317  \n",
       "17  [201427609]  56357694        97661036317  \n",
       "18  [201428813]  56359499        97661038122  \n",
       "19  [201428813]  56359499        97661038122  \n",
       "20  [201428813]  56359499        97661038122  \n",
       "21  [201428814]  56359501        97661038124  \n",
       "22  [201428814]  56359501        97661038124  \n",
       "23  [201428814]  56359501        97661038124  \n",
       "24  [201428814]  56359501        97661038124  \n",
       "25  [201428814]  56359501        97661038124  \n",
       "26  [201428814]  56359501        97661038124  \n",
       "27  [201428814]  56359501        97661038124  \n",
       "28  [201428814]  56359501        97661038124  \n",
       "29  [201428814]  56359501        97661038124  \n",
       "30  [201428814]  56359501        97661038124  \n",
       "31  [201428814]  56359501        97661038124  \n",
       "32  [201428814]  56359501        97661038124  \n",
       "33  [201429028]  56359760        97661038383  \n",
       "34  [201429028]  56359760        97661038383  \n",
       "35  [201429028]  56359760        97661038383  "
      ]
     },
     "execution_count": 7,
     "metadata": {},
     "output_type": "execute_result"
    }
   ],
   "source": [
    "query = '{  FinancialFiling(filter: {AND: [{FilingDocument: {DocumentSummary: {FeedName: {EQ: \"Edgar\"}}}}, {FilingDocument: {DocumentSummary: {FormType: {EQ: \"10-Q\"}}}}, {FilingDocument: {DocumentSummary: {FilingDate: {BETWN: {FROM: \"2020-01-01T00:00:00Z\", TO: \"2020-12-31T00:00:00Z\"}}}}}]}, sort: {FilingDocument: {DocumentSummary: {FilingDate: DESC}}}, limit: 10) {    _metadata {      totalCount    }    FilingDocument {      Identifiers {        Dcn      }      DocId      FinancialFilingId      DocumentSummary {        DocumentTitle        FeedName        FormType        HighLevelCategory        MidLevelCategory        FilingDate        SecAccessionNumber        SizeInBytes          }  FilesMetaData {        FileName        MimeType      }    }  }}'\n",
    "\n",
    "response = rd.content.filings.search.Definition(\n",
    "        query=query\n",
    "    ).get_data()\n",
    "response.data.df"
   ]
  },
  {
   "cell_type": "markdown",
   "metadata": {},
   "source": [
    "Retrieve a file in list of search result"
   ]
  },
  {
   "cell_type": "code",
   "execution_count": 8,
   "metadata": {
    "pycharm": {
     "name": "#%%\n"
    }
   },
   "outputs": [
    {
     "data": {
      "text/plain": [
       "<refinitiv.data.content.filings._retrieval_data_provider.DownloadAllFileResponse at 0x295de545040>"
      ]
     },
     "execution_count": 8,
     "metadata": {},
     "output_type": "execute_result"
    }
   ],
   "source": [
    "response.data.files[0].download()"
   ]
  },
  {
   "cell_type": "markdown",
   "metadata": {},
   "source": [
    "Retrieve the file with directory to save file"
   ]
  },
  {
   "cell_type": "code",
   "execution_count": 9,
   "metadata": {
    "pycharm": {
     "name": "#%%\n"
    }
   },
   "outputs": [
    {
     "data": {
      "text/plain": [
       "<refinitiv.data.content.filings._retrieval_data_provider.DownloadAllFileResponse at 0x295de582e20>"
      ]
     },
     "execution_count": 9,
     "metadata": {},
     "output_type": "execute_result"
    }
   ],
   "source": [
    "response.data.files[0].download(path=\"test_file\")"
   ]
  },
  {
   "cell_type": "markdown",
   "metadata": {},
   "source": [
    "##### Download file asynchronously"
   ]
  },
  {
   "cell_type": "code",
   "execution_count": 10,
   "metadata": {
    "collapsed": false,
    "jupyter": {
     "outputs_hidden": false
    },
    "pycharm": {
     "name": "#%%\n"
    }
   },
   "outputs": [
    {
     "name": "stdout",
     "output_type": "stream",
     "text": [
      "errors: []\n",
      "response from download: <refinitiv.data.content.filings._retrieval_data_provider.DownloadFileData object at 0x00000295DE58F8E0>\n"
     ]
    },
    {
     "data": {
      "text/plain": [
       "<refinitiv.data.content.filings._retrieval_data_provider.DownloadAllFileResponse at 0x295de578880>"
      ]
     },
     "execution_count": 10,
     "metadata": {},
     "output_type": "execute_result"
    }
   ],
   "source": [
    "def get_callback(callback_response):\n",
    "    print(f\"errors: {callback_response.errors}\")\n",
    "    print(f\"response from download: {callback_response.data.files[0]}\")\n",
    "\n",
    "await response.data.files[0].download_async(callback=get_callback)"
   ]
  },
  {
   "cell_type": "markdown",
   "metadata": {},
   "source": [
    "##### Download all file"
   ]
  },
  {
   "cell_type": "code",
   "execution_count": null,
   "metadata": {},
   "outputs": [],
   "source": [
    "response.data.files.download()"
   ]
  },
  {
   "cell_type": "markdown",
   "metadata": {},
   "source": [
    "##### Download all file asynchronously"
   ]
  },
  {
   "cell_type": "code",
   "execution_count": null,
   "metadata": {},
   "outputs": [],
   "source": [
    "await response.data.files.download_async()"
   ]
  },
  {
   "cell_type": "markdown",
   "metadata": {},
   "source": [
    "### Close the session"
   ]
  },
  {
   "cell_type": "code",
   "execution_count": 10,
   "metadata": {
    "pycharm": {
     "name": "#%%\n"
    }
   },
   "outputs": [],
   "source": [
    "rd.close_session()"
   ]
  }
 ],
 "metadata": {
  "kernelspec": {
   "display_name": "Python 3 (ipykernel)",
   "language": "python",
   "name": "python3"
  },
  "language_info": {
   "codemirror_mode": {
    "name": "ipython",
    "version": 3
   },
   "file_extension": ".py",
   "mimetype": "text/x-python",
   "name": "python",
   "nbconvert_exporter": "python",
   "pygments_lexer": "ipython3",
   "version": "3.8.10"
  }
 },
 "nbformat": 4,
 "nbformat_minor": 4
}