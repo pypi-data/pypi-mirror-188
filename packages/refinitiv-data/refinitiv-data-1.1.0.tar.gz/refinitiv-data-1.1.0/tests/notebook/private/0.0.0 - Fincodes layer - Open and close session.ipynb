{
 "cells": [
  {
   "cell_type": "markdown",
   "metadata": {
    "jupyter": {
     "outputs_hidden": true
    }
   },
   "source": [
    "# Refinitiv Data  Library for Python\n",
    "## Fincoders layer - How to open and close sessions\n",
    "\n",
    "Fincoders layer represents a bunch of easy-to-use tools on a root level of a library.  "
   ]
  },
  {
   "cell_type": "markdown",
   "metadata": {},
   "source": [
    "## Import the library"
   ]
  },
  {
   "cell_type": "code",
   "execution_count": null,
   "metadata": {},
   "outputs": [],
   "source": [
    "import refinitiv.data as rd"
   ]
  },
  {
   "cell_type": "markdown",
   "metadata": {},
   "source": [
    "## Open session\n",
    "The fasters way to start working with a session is to use ***open_session()*** method without any arguments.  \n",
    "In this case the session marked as dafaul in default config file would be opened and returned.\n",
    "\n",
    "***open_session()*** has 3 not required arguments that can be used independently or combined with each other:  \n",
    "- ***name***: str, session name from config, should be in format 'session_type.session_name'\n",
    "- ***app_key***: str,\n",
    "    overrides app_key for session  \n",
    "    (if config_name not provided default config is used)\n",
    "- ***config_name***: str,\n",
    "    overrides config and set it as default\n",
    "    \n",
    "**open_session()** returns opened default session or rises Exception if a problem occurs."
   ]
  },
  {
   "cell_type": "markdown",
   "metadata": {},
   "source": [
    "### Example #1\n",
    "Open session marked as default in default config file."
   ]
  },
  {
   "cell_type": "code",
   "execution_count": null,
   "metadata": {},
   "outputs": [],
   "source": [
    "session_1 = rd.open_session()"
   ]
  },
  {
   "cell_type": "code",
   "execution_count": null,
   "metadata": {},
   "outputs": [],
   "source": [
    "default_session = rd.session.get_default()\n",
    "session_1.open_state, session_1 is default_session"
   ]
  },
  {
   "cell_type": "markdown",
   "metadata": {},
   "source": [
    "### Example #2\n",
    "Open session marked as default in default config file.\n",
    "and override app_key"
   ]
  },
  {
   "cell_type": "code",
   "execution_count": null,
   "metadata": {},
   "outputs": [],
   "source": [
    "app_key_2 = \"...\" # Set other app_key"
   ]
  },
  {
   "cell_type": "code",
   "execution_count": null,
   "metadata": {},
   "outputs": [],
   "source": [
    "import os\n",
    "\n",
    "session_2 = rd.open_session(app_key = app_key_2)\n",
    "default_session = rd.session.get_default()\n",
    "session_2.open_state, session_2 is default_session, session_1 is default_session"
   ]
  },
  {
   "cell_type": "markdown",
   "metadata": {},
   "source": [
    "### Example #3\n",
    "Open named session from custom config file,\n",
    "and override app_key"
   ]
  },
  {
   "cell_type": "code",
   "execution_count": null,
   "metadata": {},
   "outputs": [],
   "source": [
    "session_3 = rd.open_session(\n",
    "    name=\"desktop.my_session\",\n",
    "    app_key=app_key_2,\n",
    "    config_name=\"refinitiv-data.config.json\",\n",
    ")\n",
    "\n",
    "\n",
    "default_session = rd.session.get_default()\n",
    "session_3.open_state, session_3 is default_session"
   ]
  },
  {
   "cell_type": "markdown",
   "metadata": {},
   "source": [
    "## Close session\n",
    "For closing default session use ***close_session()*** method. It used without arguments."
   ]
  },
  {
   "cell_type": "markdown",
   "metadata": {},
   "source": [
    "### Example"
   ]
  },
  {
   "cell_type": "code",
   "execution_count": null,
   "metadata": {},
   "outputs": [],
   "source": [
    "default_session = rd.session.get_default()\n",
    "session_1 is default_session, session_2 is default_session, session_3 is default_session"
   ]
  },
  {
   "cell_type": "code",
   "execution_count": null,
   "metadata": {},
   "outputs": [],
   "source": [
    "session_1.open_state, session_2.open_state, session_3.open_state"
   ]
  },
  {
   "cell_type": "code",
   "execution_count": null,
   "metadata": {},
   "outputs": [],
   "source": [
    "rd.close_session()\n",
    "session_1.open_state, session_2.open_state, session_3.open_state"
   ]
  },
  {
   "cell_type": "code",
   "execution_count": null,
   "metadata": {},
   "outputs": [],
   "source": [
    "session_1.close(), session_2.close()"
   ]
  },
  {
   "cell_type": "code",
   "execution_count": null,
   "metadata": {},
   "outputs": [],
   "source": []
  }
 ],
 "metadata": {
  "kernelspec": {
   "display_name": "Python 3",
   "language": "python",
   "name": "python3"
  },
  "language_info": {
   "codemirror_mode": {
    "name": "ipython",
    "version": 3
   },
   "file_extension": ".py",
   "mimetype": "text/x-python",
   "name": "python",
   "nbconvert_exporter": "python",
   "pygments_lexer": "ipython3",
   "version": "3.8.6"
  }
 },
 "nbformat": 4,
 "nbformat_minor": 4
}