{
 "cells": [
  {
   "cell_type": "markdown",
   "metadata": {},
   "source": [
    "# Refinitiv Data Library for Python\n",
    "## Content - IPA - Cross and Credit Curves"
   ]
  },
  {
   "cell_type": "markdown",
   "metadata": {},
   "source": [
    "This notebook demonstrates how to work with Cross and Credit Curves API from Refinitiv Data Library.\n",
    "\n",
    "#### Learn more\n",
    "\n",
    "To learn more about the Refinitiv Data Libraries just connect to the Refinitiv Developer Community. By [registering](https://developers.refinitiv.com/iam/register) and [login](https://developers.refinitiv.com/iam/login) to the Refinitiv Developer Community portal you will get free access to a number of learning materials like [Quick Start guides](https://developers.refinitiv.com/refinitiv-data-platform/refinitiv-data-platform-libraries/quick-start), [Tutorials](https://developers.refinitiv.com/refinitiv-data-platform/refinitiv-data-platform-libraries/learning), [Documentation](https://developers.refinitiv.com/refinitiv-data-platform/refinitiv-data-platform-libraries/docs) and much more.\n",
    "\n",
    "#### Getting Help and Support\n",
    "\n",
    "If you have any questions regarding the API usage, please post them on the [Refinitiv Data Q&A Forum](https://community.developers.thomsonreuters.com/spaces/231/index.html). The Refinitiv Developer Community will be very pleased to help you.\n"
   ]
  },
  {
   "cell_type": "markdown",
   "metadata": {},
   "source": [
    "# Import the library\n",
    "Import the library and required modules"
   ]
  },
  {
   "cell_type": "code",
   "execution_count": 3,
   "metadata": {
    "pycharm": {
     "name": "#%%\n"
    }
   },
   "outputs": [],
   "source": [
    "import refinitiv.data as rd"
   ]
  },
  {
   "cell_type": "markdown",
   "metadata": {},
   "source": [
    "# Open session\n",
    "Create and open a session to connect to the Refinitiv Data via Eikon 4 or the Refinitiv Workspace."
   ]
  },
  {
   "cell_type": "code",
   "execution_count": 4,
   "metadata": {
    "pycharm": {
     "name": "#%%\n"
    }
   },
   "outputs": [
    {
     "data": {
      "text/plain": [
       "<refinitiv.data.session.Definition object at 0x2169e003048 {name='default'}>"
      ]
     },
     "execution_count": 4,
     "metadata": {},
     "output_type": "execute_result"
    }
   ],
   "source": [
    "rd.open_session(name=\"platform.default\")"
   ]
  },
  {
   "cell_type": "markdown",
   "metadata": {},
   "source": [
    "# Example"
   ]
  },
  {
   "cell_type": "markdown",
   "metadata": {},
   "source": [
    "## BondCurves"
   ]
  },
  {
   "cell_type": "code",
   "execution_count": 5,
   "metadata": {},
   "outputs": [],
   "source": [
    "from refinitiv.data.content.ipa.curves._bond_curves import curves\n",
    "\n",
    "definition = curves.Definition(\n",
    "    curve_definition=curves.CreditCurveDefinition(\n",
    "        reference_entity=\"0#EUGOVPBMK=R\",\n",
    "        reference_entity_type=curves.ReferenceEntityType.CHAIN_RIC\n",
    "    ))\n",
    "\n",
    "response = definition.get_data()"
   ]
  },
  {
   "cell_type": "code",
   "execution_count": 6,
   "metadata": {},
   "outputs": [
    {
     "data": {
      "text/html": [
       "<div>\n",
       "<style scoped>\n",
       "    .dataframe tbody tr th:only-of-type {\n",
       "        vertical-align: middle;\n",
       "    }\n",
       "\n",
       "    .dataframe tbody tr th {\n",
       "        vertical-align: top;\n",
       "    }\n",
       "\n",
       "    .dataframe thead th {\n",
       "        text-align: right;\n",
       "    }\n",
       "</style>\n",
       "<table border=\"1\" class=\"dataframe\">\n",
       "  <thead>\n",
       "    <tr style=\"text-align: right;\">\n",
       "      <th></th>\n",
       "      <th>endDate</th>\n",
       "      <th>startDate</th>\n",
       "      <th>discountFactor</th>\n",
       "      <th>ratePercent</th>\n",
       "      <th>tenor</th>\n",
       "    </tr>\n",
       "  </thead>\n",
       "  <tbody>\n",
       "    <tr>\n",
       "      <th>0</th>\n",
       "      <td>2023-03-21</td>\n",
       "      <td>2022-12-21</td>\n",
       "      <td>0.99594</td>\n",
       "      <td>1.663503</td>\n",
       "      <td>3M</td>\n",
       "    </tr>\n",
       "    <tr>\n",
       "      <th>1</th>\n",
       "      <td>2023-06-21</td>\n",
       "      <td>2022-12-21</td>\n",
       "      <td>0.991156</td>\n",
       "      <td>1.797462</td>\n",
       "      <td>6M</td>\n",
       "    </tr>\n",
       "    <tr>\n",
       "      <th>2</th>\n",
       "      <td>2023-12-21</td>\n",
       "      <td>2022-12-21</td>\n",
       "      <td>0.98072</td>\n",
       "      <td>1.965935</td>\n",
       "      <td>1Y</td>\n",
       "    </tr>\n",
       "    <tr>\n",
       "      <th>3</th>\n",
       "      <td>2024-12-21</td>\n",
       "      <td>2022-12-21</td>\n",
       "      <td>0.958453</td>\n",
       "      <td>2.144397</td>\n",
       "      <td>2Y</td>\n",
       "    </tr>\n",
       "    <tr>\n",
       "      <th>4</th>\n",
       "      <td>2025-12-21</td>\n",
       "      <td>2022-12-21</td>\n",
       "      <td>0.936338</td>\n",
       "      <td>2.216848</td>\n",
       "      <td>3Y</td>\n",
       "    </tr>\n",
       "    <tr>\n",
       "      <th>5</th>\n",
       "      <td>2026-12-21</td>\n",
       "      <td>2022-12-21</td>\n",
       "      <td>0.915707</td>\n",
       "      <td>2.225888</td>\n",
       "      <td>4Y</td>\n",
       "    </tr>\n",
       "    <tr>\n",
       "      <th>6</th>\n",
       "      <td>2027-12-21</td>\n",
       "      <td>2022-12-21</td>\n",
       "      <td>0.895782</td>\n",
       "      <td>2.22558</td>\n",
       "      <td>5Y</td>\n",
       "    </tr>\n",
       "    <tr>\n",
       "      <th>7</th>\n",
       "      <td>2028-12-21</td>\n",
       "      <td>2022-12-21</td>\n",
       "      <td>0.876553</td>\n",
       "      <td>2.220251</td>\n",
       "      <td>6Y</td>\n",
       "    </tr>\n",
       "    <tr>\n",
       "      <th>8</th>\n",
       "      <td>2029-12-21</td>\n",
       "      <td>2022-12-21</td>\n",
       "      <td>0.857171</td>\n",
       "      <td>2.226108</td>\n",
       "      <td>7Y</td>\n",
       "    </tr>\n",
       "    <tr>\n",
       "      <th>9</th>\n",
       "      <td>2030-12-21</td>\n",
       "      <td>2022-12-21</td>\n",
       "      <td>0.838519</td>\n",
       "      <td>2.225888</td>\n",
       "      <td>8Y</td>\n",
       "    </tr>\n",
       "    <tr>\n",
       "      <th>10</th>\n",
       "      <td>2031-12-21</td>\n",
       "      <td>2022-12-21</td>\n",
       "      <td>0.820273</td>\n",
       "      <td>2.225717</td>\n",
       "      <td>9Y</td>\n",
       "    </tr>\n",
       "    <tr>\n",
       "      <th>11</th>\n",
       "      <td>2032-12-21</td>\n",
       "      <td>2022-12-21</td>\n",
       "      <td>0.802859</td>\n",
       "      <td>2.220046</td>\n",
       "      <td>10Y</td>\n",
       "    </tr>\n",
       "    <tr>\n",
       "      <th>12</th>\n",
       "      <td>2034-12-21</td>\n",
       "      <td>2022-12-21</td>\n",
       "      <td>0.767837</td>\n",
       "      <td>2.225888</td>\n",
       "      <td>12Y</td>\n",
       "    </tr>\n",
       "    <tr>\n",
       "      <th>13</th>\n",
       "      <td>2037-12-21</td>\n",
       "      <td>2022-12-21</td>\n",
       "      <td>0.718754</td>\n",
       "      <td>2.22599</td>\n",
       "      <td>15Y</td>\n",
       "    </tr>\n",
       "    <tr>\n",
       "      <th>14</th>\n",
       "      <td>2042-12-21</td>\n",
       "      <td>2022-12-21</td>\n",
       "      <td>0.643846</td>\n",
       "      <td>2.225888</td>\n",
       "      <td>20Y</td>\n",
       "    </tr>\n",
       "    <tr>\n",
       "      <th>15</th>\n",
       "      <td>2047-12-21</td>\n",
       "      <td>2022-12-21</td>\n",
       "      <td>0.576746</td>\n",
       "      <td>2.225826</td>\n",
       "      <td>25Y</td>\n",
       "    </tr>\n",
       "    <tr>\n",
       "      <th>16</th>\n",
       "      <td>2052-12-21</td>\n",
       "      <td>2022-12-21</td>\n",
       "      <td>0.51754</td>\n",
       "      <td>2.219842</td>\n",
       "      <td>30Y</td>\n",
       "    </tr>\n",
       "  </tbody>\n",
       "</table>\n",
       "</div>"
      ],
      "text/plain": [
       "      endDate  startDate  discountFactor  ratePercent tenor\n",
       "0  2023-03-21 2022-12-21         0.99594     1.663503    3M\n",
       "1  2023-06-21 2022-12-21        0.991156     1.797462    6M\n",
       "2  2023-12-21 2022-12-21         0.98072     1.965935    1Y\n",
       "3  2024-12-21 2022-12-21        0.958453     2.144397    2Y\n",
       "4  2025-12-21 2022-12-21        0.936338     2.216848    3Y\n",
       "5  2026-12-21 2022-12-21        0.915707     2.225888    4Y\n",
       "6  2027-12-21 2022-12-21        0.895782      2.22558    5Y\n",
       "7  2028-12-21 2022-12-21        0.876553     2.220251    6Y\n",
       "8  2029-12-21 2022-12-21        0.857171     2.226108    7Y\n",
       "9  2030-12-21 2022-12-21        0.838519     2.225888    8Y\n",
       "10 2031-12-21 2022-12-21        0.820273     2.225717    9Y\n",
       "11 2032-12-21 2022-12-21        0.802859     2.220046   10Y\n",
       "12 2034-12-21 2022-12-21        0.767837     2.225888   12Y\n",
       "13 2037-12-21 2022-12-21        0.718754      2.22599   15Y\n",
       "14 2042-12-21 2022-12-21        0.643846     2.225888   20Y\n",
       "15 2047-12-21 2022-12-21        0.576746     2.225826   25Y\n",
       "16 2052-12-21 2022-12-21         0.51754     2.219842   30Y"
      ]
     },
     "execution_count": 6,
     "metadata": {},
     "output_type": "execute_result"
    }
   ],
   "source": [
    "response.data.df"
   ]
  },
  {
   "cell_type": "markdown",
   "metadata": {},
   "source": [
    "## CrossCurrencyCurves - Curves"
   ]
  },
  {
   "cell_type": "code",
   "execution_count": null,
   "metadata": {},
   "outputs": [],
   "source": [
    "import refinitiv.data.content.ipa.curves._cross_currency_curves as crs_currency\n",
    "\n",
    "definition = crs_currency.curves.Definition(\n",
    "    curve_definition=crs_currency.curves.FxForwardCurveDefinition(\n",
    "        base_currency=\"EUR\",\n",
    "        base_index_name=\"ESTR\",\n",
    "        quoted_currency=\"USD\",\n",
    "        quoted_index_name=\"SOFR\"\n",
    "    ),\n",
    "    curve_parameters=crs_currency.curves.FxForwardCurveParameters(\n",
    "        valuation_date=\"2021-10-06\"\n",
    "    )\n",
    ")\n",
    "response = definition.get_data()"
   ]
  },
  {
   "cell_type": "code",
   "execution_count": null,
   "metadata": {},
   "outputs": [],
   "source": [
    "response.data.df"
   ]
  },
  {
   "cell_type": "markdown",
   "metadata": {},
   "source": [
    "## CrossCurrencyCurves - TriangulateDefinitions"
   ]
  },
  {
   "cell_type": "code",
   "execution_count": 8,
   "metadata": {},
   "outputs": [],
   "source": [
    "from refinitiv.data.content.ipa.curves._cross_currency_curves import triangulate_definitions\n",
    "\n",
    "definition = triangulate_definitions.search.Definition(\n",
    "    base_currency=\"EUR\",\n",
    "    quoted_currency=\"CHF\"\n",
    ")\n",
    "response = definition.get_data()"
   ]
  },
  {
   "cell_type": "code",
   "execution_count": 10,
   "metadata": {
    "scrolled": true
   },
   "outputs": [
    {
     "name": "stdout",
     "output_type": "stream",
     "text": [
      "[<refinitiv.data.content.ipa.curves._cross_currency_curves.triangulate_definitions._data_provider.CurveDefinitionTriangulate object at 0x000002169E0A4908>, <refinitiv.data.content.ipa.curves._cross_currency_curves.triangulate_definitions._data_provider.CurveDefinitionTriangulate object at 0x000002169E0A4948>]\n",
      "<refinitiv.data.content.ipa.curves._cross_currency_curves.triangulate_definitions._data_provider.CurveDefinitionTriangulate object at 0x000002169E0A48C8>\n"
     ]
    }
   ],
   "source": [
    "print(response.data.curve_definitions[0].indirect_curve_definitions[0])\n",
    "print(response.data.curve_definitions[0].direct_curve_definitions[0])"
   ]
  },
  {
   "cell_type": "markdown",
   "metadata": {},
   "source": [
    "## CrossCurrencyCurves - Search"
   ]
  },
  {
   "cell_type": "code",
   "execution_count": 12,
   "metadata": {},
   "outputs": [],
   "source": [
    "from refinitiv.data.content.ipa.curves._cross_currency_curves import definitions\n",
    "\n",
    "definition = definitions.search.Definition(\n",
    "    base_currency=\"EUR\",\n",
    "    quoted_currency=\"CHF\"\n",
    ")\n",
    "response = definition.get_data()"
   ]
  },
  {
   "cell_type": "code",
   "execution_count": 13,
   "metadata": {
    "scrolled": true
   },
   "outputs": [
    {
     "data": {
      "text/html": [
       "<div>\n",
       "<style scoped>\n",
       "    .dataframe tbody tr th:only-of-type {\n",
       "        vertical-align: middle;\n",
       "    }\n",
       "\n",
       "    .dataframe tbody tr th {\n",
       "        vertical-align: top;\n",
       "    }\n",
       "\n",
       "    .dataframe thead th {\n",
       "        text-align: right;\n",
       "    }\n",
       "</style>\n",
       "<table border=\"1\" class=\"dataframe\">\n",
       "  <thead>\n",
       "    <tr style=\"text-align: right;\">\n",
       "      <th></th>\n",
       "      <th>baseCurrency</th>\n",
       "      <th>baseIndexName</th>\n",
       "      <th>name</th>\n",
       "      <th>quotedCurrency</th>\n",
       "      <th>quotedIndexName</th>\n",
       "      <th>source</th>\n",
       "      <th>isNonDeliverable</th>\n",
       "      <th>mainConstituentAssetClass</th>\n",
       "      <th>riskType</th>\n",
       "      <th>isFallbackForFxCurveDefinition</th>\n",
       "      <th>firstHistoricalAvailabilityDate</th>\n",
       "      <th>id</th>\n",
       "    </tr>\n",
       "  </thead>\n",
       "  <tbody>\n",
       "    <tr>\n",
       "      <th>0</th>\n",
       "      <td>EUR</td>\n",
       "      <td>EURIBOR</td>\n",
       "      <td>EUR CHF FxForward</td>\n",
       "      <td>CHF</td>\n",
       "      <td>LIBOR</td>\n",
       "      <td>Refinitiv</td>\n",
       "      <td>False</td>\n",
       "      <td>FxForward</td>\n",
       "      <td>CrossCurrency</td>\n",
       "      <td>False</td>\n",
       "      <td>2010-11-22</td>\n",
       "      <td>f28dcfa9-527b-47e1-b912-2047f34d2ce5</td>\n",
       "    </tr>\n",
       "    <tr>\n",
       "      <th>1</th>\n",
       "      <td>EUR</td>\n",
       "      <td>EURIBOR</td>\n",
       "      <td>EUR CHF FxCross</td>\n",
       "      <td>CHF</td>\n",
       "      <td>LIBOR</td>\n",
       "      <td>Refinitiv</td>\n",
       "      <td>False</td>\n",
       "      <td>Swap</td>\n",
       "      <td>CrossCurrency</td>\n",
       "      <td>True</td>\n",
       "      <td>2017-01-10</td>\n",
       "      <td>1146241a-e32f-45f5-9309-02c959e97b96</td>\n",
       "    </tr>\n",
       "  </tbody>\n",
       "</table>\n",
       "</div>"
      ],
      "text/plain": [
       "  baseCurrency baseIndexName               name quotedCurrency  \\\n",
       "0          EUR       EURIBOR  EUR CHF FxForward            CHF   \n",
       "1          EUR       EURIBOR    EUR CHF FxCross            CHF   \n",
       "\n",
       "  quotedIndexName     source  isNonDeliverable mainConstituentAssetClass  \\\n",
       "0           LIBOR  Refinitiv             False                 FxForward   \n",
       "1           LIBOR  Refinitiv             False                      Swap   \n",
       "\n",
       "        riskType  isFallbackForFxCurveDefinition  \\\n",
       "0  CrossCurrency                           False   \n",
       "1  CrossCurrency                            True   \n",
       "\n",
       "  firstHistoricalAvailabilityDate                                    id  \n",
       "0                      2010-11-22  f28dcfa9-527b-47e1-b912-2047f34d2ce5  \n",
       "1                      2017-01-10  1146241a-e32f-45f5-9309-02c959e97b96  "
      ]
     },
     "execution_count": 13,
     "metadata": {},
     "output_type": "execute_result"
    }
   ],
   "source": [
    "response.data.df"
   ]
  },
  {
   "cell_type": "markdown",
   "metadata": {},
   "source": [
    "## CrossCurrencyCurves - Create"
   ]
  },
  {
   "cell_type": "code",
   "execution_count": 15,
   "metadata": {},
   "outputs": [],
   "source": [
    "from refinitiv.data.content.ipa.curves._cross_currency_curves import definitions\n",
    "\n",
    "\n",
    "response = definitions.manage.create(\n",
    "    curve_definition=definitions.CrossCurrencyCurveDefinitionDescription(\n",
    "        source=\"SourceName\",\n",
    "        name=\"Name of the Curve002\",\n",
    "        base_currency=\"EUR\",\n",
    "        base_index_name=\"ESTR\",\n",
    "        quoted_currency=\"USD\",\n",
    "        quoted_index_name=\"SOFR\",\n",
    "        is_non_deliverable=False\n",
    "    ),\n",
    "    segments=[\n",
    "        definitions.CrossCurrencyInstrumentsSegment(\n",
    "            start_date=\"2021-01-01\",\n",
    "            constituents=definitions.CrossCurrencyConstituentsDescription(\n",
    "                fx_forwards=[\n",
    "                    definitions.FxForwardInstrumentDescription(\n",
    "                        instrument_definition=definitions.FxForwardInstrumentDefinition(\n",
    "                            instrument_code=\"EUR1M=\",\n",
    "                            tenor=\"1M\",\n",
    "                            is_non_deliverable=False,\n",
    "                            quotation_mode=definitions.QuotationMode.OUTRIGHT\n",
    "                        )\n",
    "                    )\n",
    "                ]\n",
    "            ),\n",
    "        )\n",
    "    ]\n",
    ")"
   ]
  },
  {
   "cell_type": "code",
   "execution_count": 17,
   "metadata": {},
   "outputs": [
    {
     "data": {
      "text/plain": [
       "<refinitiv.data.content.ipa.curves._cross_currency_curves.definitions._data_classes.CurveDefinition at 0x2169e120a08>"
      ]
     },
     "execution_count": 17,
     "metadata": {},
     "output_type": "execute_result"
    }
   ],
   "source": [
    "response.data.curve_definition"
   ]
  },
  {
   "cell_type": "code",
   "execution_count": 19,
   "metadata": {},
   "outputs": [
    {
     "data": {
      "text/plain": [
       "<refinitiv.data.content.ipa.curves._cross_currency_curves.definitions._data_classes.CurveInfo at 0x2169e12b748>"
      ]
     },
     "execution_count": 19,
     "metadata": {},
     "output_type": "execute_result"
    }
   ],
   "source": [
    "response.data.curve_info"
   ]
  },
  {
   "cell_type": "code",
   "execution_count": 23,
   "metadata": {},
   "outputs": [
    {
     "data": {
      "text/plain": [
       "{'curveDefinition': {'baseCurrency': 'EUR',\n",
       "  'baseIndexName': 'ESTR',\n",
       "  'name': 'Name of the Curve002',\n",
       "  'quotedCurrency': 'USD',\n",
       "  'quotedIndexName': 'SOFR',\n",
       "  'source': 'SourceName',\n",
       "  'isNonDeliverable': False,\n",
       "  'mainConstituentAssetClass': 'FxForward',\n",
       "  'riskType': 'CrossCurrency',\n",
       "  'isFallbackForFxCurveDefinition': False,\n",
       "  'firstHistoricalAvailabilityDate': '2021-01-01',\n",
       "  'id': '2d0e71f0-e78c-4bbc-94ff-aa8945a0ae74'},\n",
       " 'curveInfo': {'creationDateTime': '2022-12-19T11:02:03.413599Z',\n",
       "  'creationUserId': 'GESG1-111923',\n",
       "  'updateDateTime': '2022-12-19T11:02:03.413599Z',\n",
       "  'updateUserId': 'GESG1-111923'},\n",
       " 'segments': [{'constituents': {'fxForwards': [{'instrumentDefinition': {'instrumentCode': 'EUR1M=',\n",
       "       'tenor': '1M',\n",
       "       'isNonDeliverable': False,\n",
       "       'quotationMode': 'Outright'}}]},\n",
       "   'startDate': '2021-01-01'}]}"
      ]
     },
     "execution_count": 23,
     "metadata": {},
     "output_type": "execute_result"
    }
   ],
   "source": [
    "response.data.raw"
   ]
  },
  {
   "cell_type": "markdown",
   "metadata": {},
   "source": [
    "## CrossCurrencyCurves - Get"
   ]
  },
  {
   "cell_type": "code",
   "execution_count": 24,
   "metadata": {},
   "outputs": [],
   "source": [
    "from refinitiv.data.content.ipa.curves._cross_currency_curves import definitions\n",
    "\n",
    "response = definitions.manage.get(\n",
    "    id=\"2d0e71f0-e78c-4bbc-94ff-aa8945a0ae74\",\n",
    ")"
   ]
  },
  {
   "cell_type": "code",
   "execution_count": 25,
   "metadata": {},
   "outputs": [
    {
     "data": {
      "text/plain": [
       "<refinitiv.data.content.ipa.curves._cross_currency_curves.definitions._data_classes.CurveDefinition at 0x2169e12b308>"
      ]
     },
     "execution_count": 25,
     "metadata": {},
     "output_type": "execute_result"
    }
   ],
   "source": [
    "response.data.curve_definition"
   ]
  },
  {
   "cell_type": "code",
   "execution_count": 26,
   "metadata": {},
   "outputs": [
    {
     "data": {
      "text/plain": [
       "<refinitiv.data.content.ipa.curves._cross_currency_curves.definitions._data_classes.CurveInfo at 0x2169e12bfc8>"
      ]
     },
     "execution_count": 26,
     "metadata": {},
     "output_type": "execute_result"
    }
   ],
   "source": [
    "response.data.curve_info"
   ]
  },
  {
   "cell_type": "code",
   "execution_count": 27,
   "metadata": {},
   "outputs": [
    {
     "data": {
      "text/plain": [
       "{'curveDefinition': {'baseCurrency': 'EUR',\n",
       "  'baseIndexName': 'ESTR',\n",
       "  'name': 'Name of the Curve002',\n",
       "  'quotedCurrency': 'USD',\n",
       "  'quotedIndexName': 'SOFR',\n",
       "  'source': 'SourceName',\n",
       "  'isNonDeliverable': False,\n",
       "  'mainConstituentAssetClass': 'FxForward',\n",
       "  'riskType': 'CrossCurrency',\n",
       "  'isFallbackForFxCurveDefinition': False,\n",
       "  'firstHistoricalAvailabilityDate': '2021-01-01',\n",
       "  'id': '2d0e71f0-e78c-4bbc-94ff-aa8945a0ae74'},\n",
       " 'curveInfo': {'creationDateTime': '2022-12-19T11:02:03.413599Z',\n",
       "  'creationUserId': 'GESG1-111923',\n",
       "  'updateDateTime': '2022-12-19T11:02:03.413599Z',\n",
       "  'updateUserId': 'GESG1-111923'},\n",
       " 'segments': [{'constituents': {'fxForwards': [{'instrumentDefinition': {'instrumentCode': 'EUR1M=',\n",
       "       'tenor': '1M',\n",
       "       'isNonDeliverable': False,\n",
       "       'quotationMode': 'Outright'}}]},\n",
       "   'startDate': '2021-01-01'}]}"
      ]
     },
     "execution_count": 27,
     "metadata": {},
     "output_type": "execute_result"
    }
   ],
   "source": [
    "response.data.raw"
   ]
  },
  {
   "cell_type": "markdown",
   "metadata": {},
   "source": [
    "## CrossCurrencyCurves - Update"
   ]
  },
  {
   "cell_type": "code",
   "execution_count": 30,
   "metadata": {},
   "outputs": [],
   "source": [
    "from refinitiv.data.content.ipa.curves._cross_currency_curves import definitions\n",
    "\n",
    "response = definitions.manage.update(\n",
    "    curve_definition=definitions.CrossCurrencyCurveUpdateDefinition(\n",
    "        id=\"2d0e71f0-e78c-4bbc-94ff-aa8945a0ae74\",\n",
    "        source=\"SourceName\",\n",
    "        name=\"rename curve name\",\n",
    "        base_currency=\"EUR\",\n",
    "        base_index_name=\"ESTR\",\n",
    "        quoted_currency=\"USD\",\n",
    "        quoted_index_name=\"SOFR\",\n",
    "        is_non_deliverable=False\n",
    "    ),\n",
    "    segments=[\n",
    "        definitions.CrossCurrencyInstrumentsSegment(\n",
    "            start_date=\"2021-01-01\",\n",
    "            constituents=definitions.CrossCurrencyConstituentsDescription(\n",
    "                fx_forwards=[\n",
    "                    definitions.FxForwardInstrumentDescription(\n",
    "                        instrument_definition=definitions.FxForwardInstrumentDefinition(\n",
    "                            instrument_code=\"EUR1M=\",\n",
    "                            tenor=\"1M\",\n",
    "                            is_non_deliverable=False,\n",
    "                            quotation_mode=definitions.QuotationMode.OUTRIGHT\n",
    "                        )\n",
    "                    )\n",
    "                ]\n",
    "            ),\n",
    "        )\n",
    "    ]\n",
    ")\n"
   ]
  },
  {
   "cell_type": "code",
   "execution_count": 31,
   "metadata": {},
   "outputs": [
    {
     "data": {
      "text/plain": [
       "<refinitiv.data.content.ipa.curves._cross_currency_curves.definitions._data_classes.CurveDefinition at 0x2169e10b208>"
      ]
     },
     "execution_count": 31,
     "metadata": {},
     "output_type": "execute_result"
    }
   ],
   "source": [
    "response.data.curve_definition"
   ]
  },
  {
   "cell_type": "code",
   "execution_count": 32,
   "metadata": {},
   "outputs": [
    {
     "data": {
      "text/plain": [
       "<refinitiv.data.content.ipa.curves._cross_currency_curves.definitions._data_classes.CurveInfo at 0x2169e152788>"
      ]
     },
     "execution_count": 32,
     "metadata": {},
     "output_type": "execute_result"
    }
   ],
   "source": [
    "response.data.curve_info"
   ]
  },
  {
   "cell_type": "code",
   "execution_count": 33,
   "metadata": {},
   "outputs": [
    {
     "data": {
      "text/plain": [
       "{'curveDefinition': {'baseCurrency': 'EUR',\n",
       "  'baseIndexName': 'ESTR',\n",
       "  'name': 'rename curve name',\n",
       "  'quotedCurrency': 'USD',\n",
       "  'quotedIndexName': 'SOFR',\n",
       "  'source': 'SourceName',\n",
       "  'isNonDeliverable': False,\n",
       "  'mainConstituentAssetClass': 'FxForward',\n",
       "  'riskType': 'CrossCurrency',\n",
       "  'isFallbackForFxCurveDefinition': False,\n",
       "  'firstHistoricalAvailabilityDate': '2021-01-01',\n",
       "  'id': '2d0e71f0-e78c-4bbc-94ff-aa8945a0ae74'},\n",
       " 'curveInfo': {'creationDateTime': '2022-12-19T11:02:03.413599Z',\n",
       "  'creationUserId': 'GESG1-111923',\n",
       "  'updateDateTime': '2022-12-19T11:09:36.685205Z',\n",
       "  'updateUserId': 'GESG1-111923'},\n",
       " 'segments': [{'constituents': {'fxForwards': [{'instrumentDefinition': {'instrumentCode': 'EUR1M=',\n",
       "       'tenor': '1M',\n",
       "       'isNonDeliverable': False,\n",
       "       'quotationMode': 'Outright'}}]},\n",
       "   'startDate': '2021-01-01'}]}"
      ]
     },
     "execution_count": 33,
     "metadata": {},
     "output_type": "execute_result"
    }
   ],
   "source": [
    "response.data.raw"
   ]
  },
  {
   "cell_type": "markdown",
   "metadata": {},
   "source": [
    "## CrossCurrencyCurves - Delete"
   ]
  },
  {
   "cell_type": "code",
   "execution_count": 34,
   "metadata": {},
   "outputs": [],
   "source": [
    "from refinitiv.data.content.ipa.curves._cross_currency_curves import definitions\n",
    "\n",
    "response = definitions.manage.delete(id=\"2d0e71f0-e78c-4bbc-94ff-aa8945a0ae74\")"
   ]
  },
  {
   "cell_type": "code",
   "execution_count": 35,
   "metadata": {},
   "outputs": [
    {
     "data": {
      "text/plain": [
       "<refinitiv.data.delivery._data._content_data.Data at 0x2169e158048>"
      ]
     },
     "execution_count": 35,
     "metadata": {},
     "output_type": "execute_result"
    }
   ],
   "source": [
    "response.data"
   ]
  },
  {
   "cell_type": "code",
   "execution_count": 36,
   "metadata": {},
   "outputs": [
    {
     "data": {
      "text/plain": [
       "{'status': '200'}"
      ]
     },
     "execution_count": 36,
     "metadata": {},
     "output_type": "execute_result"
    },
    {
     "name": "stdout",
     "output_type": "stream",
     "text": [
      "[2022-12-19T13:30:32.971745+02:00] - [ERROR] - [sessions.platform.default.0] - [37376] | AuthManager-Thread\n",
      "[Error 400 - invalid_grant] empty error description\n"
     ]
    }
   ],
   "source": [
    "response.data.raw"
   ]
  },
  {
   "cell_type": "markdown",
   "metadata": {},
   "source": [
    "### Close the session"
   ]
  },
  {
   "cell_type": "code",
   "execution_count": null,
   "metadata": {},
   "outputs": [],
   "source": []
  },
  {
   "cell_type": "code",
   "execution_count": null,
   "metadata": {
    "pycharm": {
     "name": "#%%\n"
    }
   },
   "outputs": [],
   "source": [
    "rd.close_session()"
   ]
  }
 ],
 "metadata": {
  "kernelspec": {
   "display_name": "Python 3 (ipykernel)",
   "language": "python",
   "name": "python3"
  },
  "language_info": {
   "codemirror_mode": {
    "name": "ipython",
    "version": 3
   },
   "file_extension": ".py",
   "mimetype": "text/x-python",
   "name": "python",
   "nbconvert_exporter": "python",
   "pygments_lexer": "ipython3",
   "version": "3.7.9"
  }
 },
 "nbformat": 4,
 "nbformat_minor": 1
}
