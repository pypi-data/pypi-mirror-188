{
 "cells": [
  {
   "cell_type": "markdown",
   "metadata": {},
   "source": [
    "# Refinitiv Data Library for Python"
   ]
  },
  {
   "cell_type": "markdown",
   "metadata": {},
   "source": [
    "## Access layer - Get history\n",
    "This notebook demonstrates how to retrieve Pricing history and Fundamental & Reference history using the get_history() function."
   ]
  },
  {
   "cell_type": "markdown",
   "metadata": {},
   "source": [
    "#### Learn more\n",
    "\n",
    "To learn more about the Refinitiv Data Library for Python please join the Refinitiv Developer Community. By [registering](https://developers.refinitiv.com/iam/register) and [logging](https://developers.refinitiv.com/content/devportal/en_us/initCookie.html) into the Refinitiv Developer Community portal you will have free access to a number of learning materials like \n",
    " [Quick Start guides](https://developers.refinitiv.com/en/api-catalog/refinitiv-data-platform/refinitiv-data-library-for-python/quick-start), \n",
    " [Tutorials](https://developers.refinitiv.com/en/api-catalog/refinitiv-data-platform/refinitiv-data-library-for-python/learning), \n",
    " [Documentation](https://developers.refinitiv.com/en/api-catalog/refinitiv-data-platform/refinitiv-data-library-for-python/docs)\n",
    " and much more.\n",
    "\n",
    "#### Getting Help and Support\n",
    "\n",
    "If you have any questions regarding using the API, please post them on \n",
    "the [Refinitiv Data Q&A Forum](https://community.developers.refinitiv.com/spaces/321/index.html). \n",
    "The Refinitiv Developer Community will be happy to help. "
   ]
  },
  {
   "cell_type": "markdown",
   "metadata": {},
   "source": [
    "## Get history\n",
    "The get_history() function allows you to retrieve pricing history as well as Fundamental & Reference data history via a single function call.\n",
    "\n",
    "\n",
    "***get_history()*** parameters: \n",
    "- ***universe***: Single instrument or list of instruments to request\n",
    "    - Type: String or list\n",
    "    - Optionnal: No  \n",
    "- ***fields***: Single field or list of fields to request\n",
    "    - Type: String or list\n",
    "    - Optionnal: Yes  \n",
    "-  ***interval***: Dat interval  \n",
    "    - Type: String\n",
    "    - Supported values: *tick, tas, taq, minute, 1min, 5min, 10min, 30min, 60min, hourly, 1h, daily, 1d, 1D, 7D, 7d, weekly, 1W, monthly, 1M, quarterly, 3M, 6M, yearly, 1Y*       \n",
    "    - Optionnal: Yes  \n",
    "-  ***start***: The start date and timestamp of the requested history\n",
    "    - Type: String expressed in ISO8601 with UTC only\n",
    "    - Optionnal: Yes  \n",
    "-  ***end***: The end date and timestamp of the requested history  \n",
    "    - Type: String expressed in ISO8601 with UTC only\n",
    "    - Optionnal: Yes  \n",
    "-  ***adjustments*** : Tells the system whether to apply or not apply CORAX (Corporate Actions) events or exchange/manual corrections or price and volume adjustment according to trade/quote qualifier summarization actions to historical time series data. \n",
    "    - Type: String expressed in ISO8601 with UTC only\n",
    "    - Optionnal: Yes  \n",
    "    - Supported values:\n",
    "        - exchangeCorrection - Apply exchange correction adjustment to historical pricing\n",
    "        - manualCorrection - Apply manual correction adjustment to historical pricing i.e. annotations made by content analysts\n",
    "        - CCH - Apply Capital Change adjustment to historical Pricing due to Corporate Actions e.g. stock split\n",
    "        - CRE - Apply Currency Redenomination adjustment when there is redenomination of currency\n",
    "        - RTS - Apply Refinitiv TimeSeries adjustment to adjust both historical price and volume\n",
    "        - RPO - Apply Refinitiv Price Only adjustment to adjust historical price only not volume\n",
    "        - unadjusted - Not apply both exchange/manual correct and CORAX\n",
    "        - qualifiers - For tick, tas and taq intervals only. Apply price or volume adjustment to historical pricing according to trade/quote qualifier summarization actions e.g. noPrice, noVolume, noPriceAndVolume, noBid, noAsk, noBidAndAsk, outOfSessionIntraday, outOfSessionInterday.\n",
    "-  ***count*** : The maximum number of data points returned. \n",
    "Values range: 1 - 10000\n",
    "    \n",
    "**get_history()** returns a pandas.DataFrame. It raises exceptions on error and when no data is available."
   ]
  },
  {
   "cell_type": "markdown",
   "metadata": {},
   "source": [
    "## Some Imports to start with"
   ]
  },
  {
   "cell_type": "code",
   "execution_count": 1,
   "metadata": {},
   "outputs": [],
   "source": [
    "import refinitiv.data as rd\n",
    "from datetime import datetime, timedelta"
   ]
  },
  {
   "cell_type": "markdown",
   "metadata": {},
   "source": [
    "## Open the data session\n",
    "\n",
    "The open_session() function creates and open sessions based on the information contained in the refinitiv-data.config.json configuration file. Please edit this file to set the session type and other parameters required for the session you want to open."
   ]
  },
  {
   "cell_type": "code",
   "execution_count": null,
   "metadata": {
    "pycharm": {
     "is_executing": true
    }
   },
   "outputs": [],
   "source": [
    "rd.open_session()"
   ]
  },
  {
   "cell_type": "markdown",
   "metadata": {},
   "source": [
    "## Retrieve data"
   ]
  },
  {
   "cell_type": "markdown",
   "metadata": {},
   "source": [
    "### Pricing history"
   ]
  },
  {
   "cell_type": "code",
   "execution_count": null,
   "metadata": {
    "pycharm": {
     "is_executing": true
    }
   },
   "outputs": [],
   "source": [
    "rd.get_history(universe=\"GOOG.O\")"
   ]
  },
  {
   "cell_type": "code",
   "execution_count": null,
   "metadata": {
    "tags": [],
    "pycharm": {
     "is_executing": true
    }
   },
   "outputs": [],
   "source": [
    "rd.get_history(universe=\"GOOG.O\", fields=['BID', 'ASK'], interval=\"1Y\")"
   ]
  },
  {
   "cell_type": "code",
   "execution_count": null,
   "metadata": {
    "tags": [],
    "pycharm": {
     "is_executing": true
    }
   },
   "outputs": [],
   "source": [
    "rd.get_history(universe=[\"IBM.N\", \"VOD.L\"], fields=\"BID\", interval=\"1Y\")"
   ]
  },
  {
   "cell_type": "code",
   "execution_count": null,
   "metadata": {
    "pycharm": {
     "is_executing": true
    }
   },
   "outputs": [],
   "source": [
    "rd.get_history(universe=[\"IBM.N\", \"VOD.L\"], fields=[\"BID\", \"ASK\"], interval=\"1Y\")"
   ]
  },
  {
   "cell_type": "markdown",
   "metadata": {},
   "source": [
    "### Fundamental data"
   ]
  },
  {
   "cell_type": "code",
   "execution_count": null,
   "metadata": {
    "tags": [],
    "pycharm": {
     "is_executing": true
    }
   },
   "outputs": [],
   "source": [
    "rd.get_history(universe=\"GOOG.O\", fields=\"TR.Revenue\", interval=\"1Y\", start=\"2015-01-01\", end=\"2020-10-01\")"
   ]
  },
  {
   "cell_type": "code",
   "execution_count": null,
   "metadata": {
    "pycharm": {
     "is_executing": true
    }
   },
   "outputs": [],
   "source": [
    "rd.get_history(universe=[\"IBM.N\", \"VOD.L\"], fields=\"TR.Revenue\", interval=\"1Y\", start=\"2015-01-01\", end=\"2020-10-01\")"
   ]
  },
  {
   "cell_type": "markdown",
   "source": [],
   "metadata": {
    "collapsed": false,
    "pycharm": {
     "name": "#%% md\n"
    }
   }
  },
  {
   "cell_type": "code",
   "execution_count": null,
   "outputs": [],
   "source": [
    "end_date = datetime.utcnow().replace(year=2021, month=1, day=1, minute=0, second=0, microsecond=0)\n",
    "start_date = end_date - timedelta(days=30)"
   ],
   "metadata": {
    "collapsed": false,
    "pycharm": {
     "name": "#%%\n"
    }
   }
  },
  {
   "cell_type": "code",
   "execution_count": null,
   "outputs": [],
   "source": [
    "rd.get_history(\n",
    "    universe=\"GOOG.O\",\n",
    "    fields=[\"BID\", \"ASK\", \"TR.Revenue\", \"TR.Revenue.date\"],\n",
    "    interval=\"1D\",\n",
    "    start=start_date,\n",
    "    end=end_date,\n",
    "    use_field_names_in_headers=True\n",
    ")"
   ],
   "metadata": {
    "collapsed": false,
    "pycharm": {
     "name": "#%%\n"
    }
   }
  },
  {
   "cell_type": "markdown",
   "metadata": {
    "tags": []
   },
   "source": [
    "### Fundamental and pricing"
   ]
  },
  {
   "cell_type": "code",
   "execution_count": null,
   "metadata": {
    "tags": [],
    "pycharm": {
     "is_executing": true
    }
   },
   "outputs": [],
   "source": [
    "rd.get_history(\n",
    "    universe=\"GOOG.O\",\n",
    "    fields=[\"BID\", \"ASK\", \"TR.Revenue\"],\n",
    "    interval=\"1Y\",\n",
    "    start=\"2015-01-01\",\n",
    "    end=\"2019-10-01\",\n",
    ")"
   ]
  },
  {
   "cell_type": "code",
   "execution_count": null,
   "metadata": {
    "tags": [],
    "pycharm": {
     "is_executing": true
    }
   },
   "outputs": [],
   "source": [
    "rd.get_history(\n",
    "    universe=[\"IBM.N\", \"VOD.L\"],\n",
    "    fields=[\"BID\", \"ASK\", \"TR.Revenue\"],\n",
    "    interval=\"1Y\",\n",
    "    start=\"2015-01-01\",\n",
    "    end=\"2020-10-01\",\n",
    ")"
   ]
  },
  {
   "cell_type": "code",
   "execution_count": null,
   "metadata": {
    "pycharm": {
     "is_executing": true
    }
   },
   "outputs": [],
   "source": [
    "rd.get_history(\n",
    "    universe=[\"IBM.N\", \"VOD.L\"],\n",
    "    fields=[\"BID\", \"ASK\", 'TR.F.NetIncAfterTax', 'TR.RevenueMean'],\n",
    "    interval=\"tick\"\n",
    ")"
   ]
  },
  {
   "cell_type": "code",
   "execution_count": null,
   "outputs": [],
   "source": [
    "rd.get_history(\n",
    "    universe=\"EUR=\",\n",
    "    fields=[\"DATE\", \"MKT_OPEN\", \"BID\", \"ASK\", \"TR.Revenue.date\"],\n",
    "    interval=\"1h\",\n",
    "    count=10)"
   ],
   "metadata": {
    "collapsed": false,
    "pycharm": {
     "name": "#%%\n"
    }
   }
  },
  {
   "cell_type": "markdown",
   "metadata": {
    "tags": []
   },
   "source": [
    "### Open High Low Close"
   ]
  },
  {
   "cell_type": "code",
   "execution_count": null,
   "metadata": {
    "tags": [],
    "pycharm": {
     "is_executing": true
    }
   },
   "outputs": [],
   "source": [
    "df=rd.get_history(universe=\"GOOG.O\", fields=['BID','ASK'], interval=\"tick\", count=2000)\n",
    "df.drop('EVENT_TYPE', axis=1, inplace=True)\n",
    "df.ohlc(\"1min\")"
   ]
  },
  {
   "cell_type": "markdown",
   "metadata": {},
   "source": [
    "### Close the session"
   ]
  },
  {
   "cell_type": "code",
   "execution_count": 15,
   "metadata": {},
   "outputs": [],
   "source": [
    "rd.close_session()"
   ]
  },
  {
   "cell_type": "code",
   "execution_count": null,
   "metadata": {},
   "outputs": [],
   "source": []
  }
 ],
 "metadata": {
  "kernelspec": {
   "display_name": "Python 3",
   "language": "python",
   "name": "python3"
  },
  "language_info": {
   "codemirror_mode": {
    "name": "ipython",
    "version": 3
   },
   "file_extension": ".py",
   "mimetype": "text/x-python",
   "name": "python",
   "nbconvert_exporter": "python",
   "pygments_lexer": "ipython3",
   "version": "3.7.6"
  }
 },
 "nbformat": 4,
 "nbformat_minor": 4
}