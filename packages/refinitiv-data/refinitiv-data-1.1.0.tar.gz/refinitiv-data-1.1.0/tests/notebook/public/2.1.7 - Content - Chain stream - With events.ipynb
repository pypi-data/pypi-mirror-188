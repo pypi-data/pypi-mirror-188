{
 "cells": [
  {
   "cell_type": "markdown",
   "metadata": {},
   "source": [
    "# Refinitiv Data Library for Python"
   ]
  },
  {
   "cell_type": "markdown",
   "metadata": {},
   "source": [
    "## Content layer - Chain stream - How to use streaming events\n",
    "The following example demonstrates how to use a chain stream to be notified in realtime of any chain constituent change. The example will show how to create a Chain stream object with registered callbacks so that your application is notified whenever the list of chain constituents changes.\n",
    "\n",
    "Using a Chain stream that way prevents your application from sending too many requests to RDP. This is particularly useful if your application needs to retrieve chain constituents at regular and short intervals."
   ]
  },
  {
   "cell_type": "markdown",
   "metadata": {},
   "source": [
    "## About events"
   ]
  },
  {
   "cell_type": "markdown",
   "metadata": {},
   "source": [
    "\n",
    "To use a Chain stream object with events, you need to define callback functions that are called by a background execution thread when new events are received for the chain you requested. There are 5 different types of callback functions you can use depending on the type of events you are interrested in. These callback functions are optionnal meaning that you do not have to use all of them.\n",
    "\n",
    "### The 5 events types and their related callback functions:\n",
    " - **add events:** add events happen when a new constituent is added to a chain. When several Add events are received for the same index, only the the last received constituent is kept in memory. Other constituents received from the same index are discarded. Chain stream objects automatically manage this logic for their internal cache, meaning that when you call get_constituent you always get the latest list of constituents.\n",
    " \n",
    " Callback functions used to receive Add events take 3 parameters: \n",
    "  - The Chain stream that received the event\n",
    "  - The index the constituent added to the chain\n",
    "  - The name of the constituent\n",
    " \n",
    " - **remove events:** remove events happen when a constituent is removed from a chain. Chain stream objects automatically manage this logic for their internal cache, meaning that when you call get_constituent you always get the latest values.\n",
    " \n",
    " Callback functions used to receive Remove events take 3 parameters: \n",
    "  - The Chain streaml that received the event\n",
    "  - The index of the constituent removed from the chain\n",
    "  - The name of the removed constituent\n",
    " \n",
    " \n",
    " - **update events:** Update events are received the name of a chain constituent is updated. When several Update events are received for the same index, only the the last received constituent is kept in memory. Other constituents received from the same index are discarded. Chain stream objects automatically manage this logic for their internal cache, meaning that when you call get_constituent you always get the latest list of constituents.\n",
    " \n",
    " Callback functions used to receive Update events take 3 parameters \n",
    "  - The Chains that received the event\n",
    "  - The name of the concerned chain record\n",
    "  - The updated fields with their new values\n",
    " \n",
    " - **complete events:** A Complete event is received once all constituents of the chain have been received. \n",
    "\n",
    " Callback functions used to receive Complete events take 1 parameter\n",
    "  - The Chains that received the event\n",
    "  - The constituents of the chain\n",
    "\n",
    "- **error events:** An Error event is received if the Chain failed to decode the chain completely.\n",
    "\n",
    "Callback functions used to receive Error events take 2 parameters\n",
    "  - The Chains that received the event\n",
    "  - The Received error\n",
    "\n",
    "\n",
    "### Typical events flow\n",
    "\n",
    "As an example, if you use a Chains stream with event for '0#.DJI'\n",
    "\n",
    "You may receive a flow of events like one:\n",
    " 1. **Add** event for 0#.DJI : 0 - TNXP.O\n",
    " 1. **Add** event for 0#.DJI : 1 - TQQQ.O\n",
    " 1. **Add** event for 0#.DJI : 2 - QQQ.O\n",
    " 1. **Add** event for 0#.DJI : 3 - AAPL.O\n",
    " 1. **Add** event for ...\n",
    " 1. **Add** event for ...\n",
    " 1. **Add** event for ...\n",
    " 1. **Complete** event 0#.DJI => Indicating that data (or status) has been received for all requested chain records\n",
    "\n",
    "  \n",
    "\n"
   ]
  },
  {
   "cell_type": "markdown",
   "metadata": {},
   "source": [
    "## Some Imports to start with"
   ]
  },
  {
   "cell_type": "code",
   "execution_count": 1,
   "metadata": {},
   "outputs": [],
   "source": [
    "import refinitiv.data as rd\n",
    "from refinitiv.data.content import pricing\n",
    "import datetime"
   ]
  },
  {
   "cell_type": "markdown",
   "metadata": {},
   "source": [
    "## Open the data session\n",
    "\n",
    "The open_session() function creates and open sessions based on the information contained in the refinitiv-data.config.json configuration file. Please edit this file to set the session type and other parameters required for the session you want to open."
   ]
  },
  {
   "cell_type": "code",
   "execution_count": 2,
   "metadata": {},
   "outputs": [
    {
     "data": {
      "text/plain": [
       "<refinitiv.data.session._desktop_session.Definition object at 0x7f926605eb90 {name='default'}>"
      ]
     },
     "execution_count": 2,
     "metadata": {},
     "output_type": "execute_result"
    }
   ],
   "source": [
    "rd.open_session()"
   ]
  },
  {
   "cell_type": "markdown",
   "metadata": {},
   "source": [
    "## Retrieve data"
   ]
  },
  {
   "cell_type": "markdown",
   "metadata": {},
   "source": [
    "### Define callbacks to capture incoming events"
   ]
  },
  {
   "cell_type": "markdown",
   "metadata": {},
   "source": [
    "The following function will be used to capture Add events. It displays the name of the added constituent in the chain record."
   ]
  },
  {
   "cell_type": "code",
   "execution_count": 3,
   "metadata": {},
   "outputs": [],
   "source": [
    "def display_add(chain_stream, index, constituent):\n",
    "    time_now = datetime.datetime.now().time()\n",
    "    print(f\"{time_now}- Add event received for {chain_stream.name}. {index}: {constituent}\")"
   ]
  },
  {
   "cell_type": "markdown",
   "metadata": {},
   "source": [
    "The following function will be used to capture Remove events. It displays the name of the removed constituent from the chain record."
   ]
  },
  {
   "cell_type": "code",
   "execution_count": 4,
   "metadata": {},
   "outputs": [],
   "source": [
    "def display_remove(chain_stream, index, constituent):\n",
    "    current_time = datetime.datetime.now().time()\n",
    "    print(f\"{time_now}- Remove event received for {chain_stream.name}. {index}: {constituent}\")"
   ]
  },
  {
   "cell_type": "markdown",
   "metadata": {},
   "source": [
    "The following function will be used to capture Update events. It displays the name of the updated constituent on the chain record."
   ]
  },
  {
   "cell_type": "code",
   "execution_count": 5,
   "metadata": {},
   "outputs": [],
   "source": [
    "def display_update(chain_stream, index, old_constituent, new_constituent):\n",
    "    time_now = datetime.datetime.now().time()\n",
    "    print(\n",
    "        f\"{time_now}- Update event received for {chain_stream.name}.\"\n",
    "        f\"{index}: {old_constituent} => {new_constituent}\"\n",
    "    )"
   ]
  },
  {
   "cell_type": "markdown",
   "metadata": {},
   "source": [
    "The following function will be used to capture a complete decoded events. It calls get_constituents to pull out the memory cache of the Chain as a list of constituents and displays it. As a result, the latest values of all constituents of this chain record is displayed in a list."
   ]
  },
  {
   "cell_type": "code",
   "execution_count": 6,
   "metadata": {},
   "outputs": [],
   "source": [
    "def display_complete(chain_stream, constituents):\n",
    "    time_now = datetime.datetime.now().time()\n",
    "    print(\n",
    "        f\"{time_now}- Chain {chain_stream.name}\"\n",
    "        f\" is completely decoded.\\nconstituents:\\n{constituents}\"\n",
    "    )"
   ]
  },
  {
   "cell_type": "markdown",
   "metadata": {},
   "source": [
    "The following function will be used to capture Error events. It displays the name of the chain and the received error."
   ]
  },
  {
   "cell_type": "code",
   "execution_count": 7,
   "metadata": {},
   "outputs": [],
   "source": [
    "def display_error(chain_stream, chain_record, error):\n",
    "    time_now = datetime.datetime.now().time()\n",
    "    print(f\"{time_now}- Error received for Chain {chain_stream.name}. Chain Record: {chain_record}. Error: {error}\")   "
   ]
  },
  {
   "cell_type": "markdown",
   "metadata": {},
   "source": [
    "### Create and open a Chain stream\n",
    "\n",
    "A Chain stream object is created for a specific list of chain record. Note that skip_summary_links and skip_empty are optionals default are True. The override_summary_links is an opional argument, it is used for override the number of summary links for given chain record when the skip_summary_links is True."
   ]
  },
  {
   "cell_type": "code",
   "execution_count": 8,
   "metadata": {},
   "outputs": [
    {
     "data": {
      "text/plain": [
       "<refinitiv.data.content.pricing.chain.Stream object at 0x7f92662f13d0 {name='0#.FTSE'}>"
      ]
     },
     "execution_count": 8,
     "metadata": {},
     "output_type": "execute_result"
    }
   ],
   "source": [
    "ftse = pricing.chain.Definition(\"0#.FTSE\").get_stream()\n",
    "\n",
    "ftse.on_add(display_add)\n",
    "ftse.on_remove(display_remove)\n",
    "ftse.on_update(display_update)\n",
    "ftse.on_complete(display_complete)\n",
    "ftse.on_error(display_error)"
   ]
  },
  {
   "cell_type": "markdown",
   "metadata": {},
   "source": [
    "The open method tells the Chain object to subscribe to the streams of the related chain elements."
   ]
  },
  {
   "cell_type": "markdown",
   "metadata": {},
   "source": [
    "### Open the chain stream and wait for events"
   ]
  },
  {
   "cell_type": "code",
   "execution_count": 9,
   "metadata": {},
   "outputs": [
    {
     "name": "stdout",
     "output_type": "stream",
     "text": [
      "17:03:29.583600- Chain 0#.FTSE is completely decoded.\n",
      "constituents:\n",
      "{'ID': 1, 'Type': 'Refresh', 'Key': {'Service': 'IDN_RDFNTS_CF', 'Name': '0#.FTSE'}, 'State': {'Stream': 'Open', 'Data': 'Ok', 'Text': 'All is well'}, 'Qos': {'Timeliness': 'Realtime', 'Rate': 'JitConflated'}, 'PermData': 'AwD+WATA', 'SeqNumber': 12112, 'Fields': {'PROD_PERM': 5804, 'RDNDISPLAY': 205, 'DSPLY_NAME': 'FTSE 100 INDEX', 'RDN_EXCHID': 64, 'TIMACT': None, 'CURRENCY': None, 'ACTIV_DATE': None, 'NUM_MOVES': None, 'REF_COUNT': 14, 'RECORDTYPE': 120, 'BCAST_REF': None, 'LONGLINK1': '.FTSE', 'LONGLINK2': '.AD.FTSE', 'LONGLINK3': 'AAL.L', 'LONGLINK4': 'ABDN.L', 'LONGLINK5': 'ABF.L', 'LONGLINK6': 'ADML.L', 'LONGLINK7': 'AHT.L', 'LONGLINK8': 'ANTO.L', 'LONGLINK9': 'AUTOA.L', 'LONGLINK10': 'AV.L', 'LONGLINK11': 'AVST.L', 'LONGLINK12': 'AVV.L', 'LONGLINK13': 'AZN.L', 'LONGLINK14': 'BAES.L', 'LONGPREVLR': None, 'LONGNEXTLR': '1#.FTSE', 'PREF_DISP': 205, 'PREF_LINK': '1#.FTSE', 'DSPLY_NMLL': None, 'SEG_FORW17': None, 'SEG_BACK17': None, 'RDN_EXCHD2': 209, 'INSTU_NAME': None, 'TILE_DESC': None, 'ALIAS': None, 'PREV_DISP': None, 'MSG_VER': None, 'CONTEXT_ID': 6700, 'CF_DATE': None, 'CF_EXCHNG': 64, 'CF_SOURCE': 'LSE', 'CF_TIME': None, 'CF_NAME': 'FTSE 100 INDEX', 'DDS_DSO_ID': 12488, 'CF_CURR': None, 'SPS_SP_RIC': '.[SPSFTSEVAE3'}}\n",
      "17:03:29.583881- Add event received for 0#.FTSE. 0: .FTSE\n",
      "17:03:29.583918- Add event received for 0#.FTSE. 1: .AD.FTSE\n",
      "17:03:29.583947- Add event received for 0#.FTSE. 2: AAL.L\n",
      "17:03:29.583974- Add event received for 0#.FTSE. 3: ABDN.L\n",
      "17:03:29.584001- Add event received for 0#.FTSE. 4: ABF.L\n",
      "17:03:29.584028- Add event received for 0#.FTSE. 5: ADML.L\n",
      "17:03:29.584054- Add event received for 0#.FTSE. 6: AHT.L\n",
      "17:03:29.584081- Add event received for 0#.FTSE. 7: ANTO.L\n",
      "17:03:29.584107- Add event received for 0#.FTSE. 8: AUTOA.L\n",
      "17:03:29.584130- Add event received for 0#.FTSE. 9: AV.L\n",
      "17:03:29.584155- Add event received for 0#.FTSE. 10: AVST.L\n",
      "17:03:29.584178- Add event received for 0#.FTSE. 11: AVV.L\n",
      "17:03:29.584201- Add event received for 0#.FTSE. 12: AZN.L\n",
      "17:03:29.584224- Add event received for 0#.FTSE. 13: BAES.L\n",
      "17:03:29.656738- Chain 0#.FTSE is completely decoded.\n",
      "constituents:\n",
      "{'ID': 3, 'Type': 'Refresh', 'Key': {'Service': 'IDN_RDFNTS_CF', 'Name': '1#.FTSE'}, 'State': {'Stream': 'Open', 'Data': 'Ok', 'Text': 'All is well'}, 'Qos': {'Timeliness': 'Realtime', 'Rate': 'JitConflated'}, 'PermData': 'AwD+WATA', 'SeqNumber': 12112, 'Fields': {'PROD_PERM': 5804, 'RDNDISPLAY': 205, 'DSPLY_NAME': 'FTSE 100 INDEX', 'RDN_EXCHID': 64, 'TIMACT': None, 'CURRENCY': None, 'ACTIV_DATE': None, 'NUM_MOVES': None, 'REF_COUNT': 14, 'RECORDTYPE': 120, 'BCAST_REF': None, 'LONGLINK1': 'BARC.L', 'LONGLINK2': 'BATS.L', 'LONGLINK3': 'BDEV.L', 'LONGLINK4': 'BHPB.L', 'LONGLINK5': 'BKGH.L', 'LONGLINK6': 'BLND.L', 'LONGLINK7': 'BMEB.L', 'LONGLINK8': 'BNZL.L', 'LONGLINK9': 'BP.L', 'LONGLINK10': 'BRBY.L', 'LONGLINK11': 'BT.L', 'LONGLINK12': 'CCH.L', 'LONGLINK13': 'CPG.L', 'LONGLINK14': 'CRDA.L', 'LONGPREVLR': '0#.FTSE', 'LONGNEXTLR': '2#.FTSE', 'PREF_DISP': 205, 'PREF_LINK': None, 'DSPLY_NMLL': None, 'SEG_FORW17': None, 'SEG_BACK17': None, 'RDN_EXCHD2': 209, 'INSTU_NAME': None, 'TILE_DESC': None, 'ALIAS': None, 'PREV_DISP': None, 'MSG_VER': None, 'CONTEXT_ID': 6700, 'CF_DATE': None, 'CF_EXCHNG': 64, 'CF_SOURCE': 'LSE', 'CF_TIME': None, 'CF_NAME': 'FTSE 100 INDEX', 'DDS_DSO_ID': 12488, 'CF_CURR': None, 'SPS_SP_RIC': '.[SPSFTSEVAE3'}}\n",
      "17:03:29.656880- Add event received for 0#.FTSE. 14: BARC.L\n",
      "17:03:29.656920- Add event received for 0#.FTSE. 15: BATS.L\n",
      "17:03:29.656949- Add event received for 0#.FTSE. 16: BDEV.L\n",
      "17:03:29.656973- Add event received for 0#.FTSE. 17: BHPB.L\n",
      "17:03:29.657001- Add event received for 0#.FTSE. 18: BKGH.L\n",
      "17:03:29.657024- Add event received for 0#.FTSE. 19: BLND.L\n",
      "17:03:29.657059- Add event received for 0#.FTSE. 20: BMEB.L\n",
      "17:03:29.657086- Add event received for 0#.FTSE. 21: BNZL.L\n",
      "17:03:29.657109- Add event received for 0#.FTSE. 22: BP.L\n",
      "17:03:29.657131- Add event received for 0#.FTSE. 23: BRBY.L\n",
      "17:03:29.657163- Add event received for 0#.FTSE. 24: BT.L\n",
      "17:03:29.657187- Add event received for 0#.FTSE. 25: CCH.L\n",
      "17:03:29.657216- Add event received for 0#.FTSE. 26: CPG.L\n",
      "17:03:29.657242- Add event received for 0#.FTSE. 27: CRDA.L\n",
      "17:03:29.736484- Chain 0#.FTSE is completely decoded.\n",
      "constituents:\n",
      "{'ID': 4, 'Type': 'Refresh', 'Key': {'Service': 'IDN_RDFNTS_CF', 'Name': '2#.FTSE'}, 'State': {'Stream': 'Open', 'Data': 'Ok', 'Text': 'All is well'}, 'Qos': {'Timeliness': 'Realtime', 'Rate': 'JitConflated'}, 'PermData': 'AwD+WATA', 'SeqNumber': 12112, 'Fields': {'PROD_PERM': 5804, 'RDNDISPLAY': 205, 'DSPLY_NAME': 'FTSE 100 INDEX', 'RDN_EXCHID': 64, 'TIMACT': None, 'CURRENCY': None, 'ACTIV_DATE': None, 'NUM_MOVES': None, 'REF_COUNT': 14, 'RECORDTYPE': 120, 'BCAST_REF': None, 'LONGLINK1': 'CRH.L', 'LONGLINK2': 'DARK.L', 'LONGLINK3': 'DCC.L', 'LONGLINK4': 'DGE.L', 'LONGLINK5': 'ENT.L', 'LONGLINK6': 'EVRE.L', 'LONGLINK7': 'EXPN.L', 'LONGLINK8': 'FERG.L', 'LONGLINK9': 'FLTRF.L', 'LONGLINK10': 'FRES.L', 'LONGLINK11': 'GLEN.L', 'LONGLINK12': 'GSK.L', 'LONGLINK13': 'HIK.L', 'LONGLINK14': 'HLMA.L', 'LONGPREVLR': '1#.FTSE', 'LONGNEXTLR': '3#.FTSE', 'PREF_DISP': 205, 'PREF_LINK': None, 'DSPLY_NMLL': None, 'SEG_FORW17': None, 'SEG_BACK17': None, 'RDN_EXCHD2': 209, 'INSTU_NAME': None, 'TILE_DESC': None, 'ALIAS': None, 'PREV_DISP': None, 'MSG_VER': None, 'CONTEXT_ID': 6700, 'CF_DATE': None, 'CF_EXCHNG': 64, 'CF_SOURCE': 'LSE', 'CF_TIME': None, 'CF_NAME': 'FTSE 100 INDEX', 'DDS_DSO_ID': 12488, 'CF_CURR': None, 'SPS_SP_RIC': '.[SPSFTSEVAE3'}}\n",
      "17:03:29.736657- Add event received for 0#.FTSE. 28: CRH.L\n",
      "17:03:29.736706- Add event received for 0#.FTSE. 29: DARK.L\n",
      "17:03:29.736744- Add event received for 0#.FTSE. 30: DCC.L\n",
      "17:03:29.736773- Add event received for 0#.FTSE. 31: DGE.L\n",
      "17:03:29.736796- Add event received for 0#.FTSE. 32: ENT.L\n",
      "17:03:29.736820- Add event received for 0#.FTSE. 33: EVRE.L\n",
      "17:03:29.736846- Add event received for 0#.FTSE. 34: EXPN.L\n",
      "17:03:29.736874- Add event received for 0#.FTSE. 35: FERG.L\n",
      "17:03:29.736901- Add event received for 0#.FTSE. 36: FLTRF.L\n",
      "17:03:29.736923- Add event received for 0#.FTSE. 37: FRES.L\n",
      "17:03:29.736969- Add event received for 0#.FTSE. 38: GLEN.L\n",
      "17:03:29.736996- Add event received for 0#.FTSE. 39: GSK.L\n",
      "17:03:29.737018- Add event received for 0#.FTSE. 40: HIK.L\n",
      "17:03:29.737048- Add event received for 0#.FTSE. 41: HLMA.L\n",
      "17:03:29.837619- Chain 0#.FTSE is completely decoded.\n",
      "constituents:\n",
      "{'ID': 5, 'Type': 'Refresh', 'Key': {'Service': 'IDN_RDFNTS_CF', 'Name': '3#.FTSE'}, 'State': {'Stream': 'Open', 'Data': 'Ok', 'Text': 'All is well'}, 'Qos': {'Timeliness': 'Realtime', 'Rate': 'JitConflated'}, 'PermData': 'AwD+WATA', 'SeqNumber': 12112, 'Fields': {'PROD_PERM': 5804, 'RDNDISPLAY': 205, 'DSPLY_NAME': 'FTSE 100 INDEX', 'RDN_EXCHID': 64, 'TIMACT': None, 'CURRENCY': None, 'ACTIV_DATE': None, 'NUM_MOVES': None, 'REF_COUNT': 14, 'RECORDTYPE': 120, 'BCAST_REF': None, 'LONGLINK1': 'HRGV.L', 'LONGLINK2': 'HSBA.L', 'LONGLINK3': 'ICAG.L', 'LONGLINK4': 'ICP.L', 'LONGLINK5': 'IHG.L', 'LONGLINK6': 'III.L', 'LONGLINK7': 'IMB.L', 'LONGLINK8': 'INF.L', 'LONGLINK9': 'ITRK.L', 'LONGLINK10': 'ITV.L', 'LONGLINK11': 'JD.L', 'LONGLINK12': 'JMAT.L', 'LONGLINK13': 'KGF.L', 'LONGLINK14': 'LAND.L', 'LONGPREVLR': '2#.FTSE', 'LONGNEXTLR': '4#.FTSE', 'PREF_DISP': 205, 'PREF_LINK': None, 'DSPLY_NMLL': None, 'SEG_FORW17': None, 'SEG_BACK17': None, 'RDN_EXCHD2': 209, 'INSTU_NAME': None, 'TILE_DESC': None, 'ALIAS': None, 'PREV_DISP': None, 'MSG_VER': None, 'CONTEXT_ID': 6700, 'CF_DATE': None, 'CF_EXCHNG': 64, 'CF_SOURCE': 'LSE', 'CF_TIME': None, 'CF_NAME': 'FTSE 100 INDEX', 'DDS_DSO_ID': 12488, 'CF_CURR': None, 'SPS_SP_RIC': '.[SPSFTSEVAE3'}}\n",
      "17:03:29.838066- Add event received for 0#.FTSE. 42: HRGV.L\n",
      "17:03:29.838125- Add event received for 0#.FTSE. 43: HSBA.L\n",
      "17:03:29.838185- Add event received for 0#.FTSE. 44: ICAG.L\n",
      "17:03:29.838223- Add event received for 0#.FTSE. 45: ICP.L\n",
      "17:03:29.838258- Add event received for 0#.FTSE. 46: IHG.L\n",
      "17:03:29.838302- Add event received for 0#.FTSE. 47: III.L\n",
      "17:03:29.838326- Add event received for 0#.FTSE. 48: IMB.L\n",
      "17:03:29.838515- Add event received for 0#.FTSE. 49: INF.L\n",
      "17:03:29.838552- Add event received for 0#.FTSE. 50: ITRK.L\n",
      "17:03:29.841303- Add event received for 0#.FTSE. 51: ITV.L\n",
      "17:03:29.841404- Add event received for 0#.FTSE. 52: JD.L\n",
      "17:03:29.841878- Add event received for 0#.FTSE. 53: JMAT.L\n",
      "17:03:29.841932- Add event received for 0#.FTSE. 54: KGF.L\n",
      "17:03:29.841968- Add event received for 0#.FTSE. 55: LAND.L\n",
      "17:03:29.921364- Chain 0#.FTSE is completely decoded.\n",
      "constituents:\n",
      "{'ID': 6, 'Type': 'Refresh', 'Key': {'Service': 'IDN_RDFNTS_CF', 'Name': '4#.FTSE'}, 'State': {'Stream': 'Open', 'Data': 'Ok', 'Text': 'All is well'}, 'Qos': {'Timeliness': 'Realtime', 'Rate': 'JitConflated'}, 'PermData': 'AwD+WATA', 'SeqNumber': 12112, 'Fields': {'PROD_PERM': 5804, 'RDNDISPLAY': 205, 'DSPLY_NAME': 'FTSE 100 INDEX', 'RDN_EXCHID': 64, 'TIMACT': None, 'CURRENCY': None, 'ACTIV_DATE': None, 'NUM_MOVES': None, 'REF_COUNT': 14, 'RECORDTYPE': 120, 'BCAST_REF': None, 'LONGLINK1': 'LGEN.L', 'LONGLINK2': 'LLOY.L', 'LONGLINK3': 'LSEG.L', 'LONGLINK4': 'MGGT.L', 'LONGLINK5': 'MNDI.L', 'LONGLINK6': 'MNG.L', 'LONGLINK7': 'MRON.L', 'LONGLINK8': 'NG.L', 'LONGLINK9': 'NWG.L', 'LONGLINK10': 'NXT.L', 'LONGLINK11': 'OCDO.L', 'LONGLINK12': 'PHNX.L', 'LONGLINK13': 'POLYP.L', 'LONGLINK14': 'PRU.L', 'LONGPREVLR': '3#.FTSE', 'LONGNEXTLR': '5#.FTSE', 'PREF_DISP': 205, 'PREF_LINK': None, 'DSPLY_NMLL': None, 'SEG_FORW17': None, 'SEG_BACK17': None, 'RDN_EXCHD2': 209, 'INSTU_NAME': None, 'TILE_DESC': None, 'ALIAS': None, 'PREV_DISP': None, 'MSG_VER': None, 'CONTEXT_ID': 6700, 'CF_DATE': None, 'CF_EXCHNG': 64, 'CF_SOURCE': 'LSE', 'CF_TIME': None, 'CF_NAME': 'FTSE 100 INDEX', 'DDS_DSO_ID': 12488, 'CF_CURR': None, 'SPS_SP_RIC': '.[SPSFTSEVAE3'}}\n",
      "17:03:29.921568- Add event received for 0#.FTSE. 56: LGEN.L\n",
      "17:03:29.921632- Add event received for 0#.FTSE. 57: LLOY.L\n",
      "17:03:29.921678- Add event received for 0#.FTSE. 58: LSEG.L\n",
      "17:03:29.921716- Add event received for 0#.FTSE. 59: MGGT.L\n",
      "17:03:29.921750- Add event received for 0#.FTSE. 60: MNDI.L\n",
      "17:03:29.921786- Add event received for 0#.FTSE. 61: MNG.L\n",
      "17:03:29.921822- Add event received for 0#.FTSE. 62: MRON.L\n",
      "17:03:29.921864- Add event received for 0#.FTSE. 63: NG.L\n",
      "17:03:29.921929- Add event received for 0#.FTSE. 64: NWG.L\n",
      "17:03:29.921969- Add event received for 0#.FTSE. 65: NXT.L\n",
      "17:03:29.921999- Add event received for 0#.FTSE. 66: OCDO.L\n",
      "17:03:29.922032- Add event received for 0#.FTSE. 67: PHNX.L\n",
      "17:03:29.922066- Add event received for 0#.FTSE. 68: POLYP.L\n",
      "17:03:29.922100- Add event received for 0#.FTSE. 69: PRU.L\n",
      "17:03:30.012214- Chain 0#.FTSE is completely decoded.\n",
      "constituents:\n",
      "{'ID': 7, 'Type': 'Refresh', 'Key': {'Service': 'IDN_RDFNTS_CF', 'Name': '5#.FTSE'}, 'State': {'Stream': 'Open', 'Data': 'Ok', 'Text': 'All is well'}, 'Qos': {'Timeliness': 'Realtime', 'Rate': 'JitConflated'}, 'PermData': 'AwD+WATA', 'SeqNumber': 12112, 'Fields': {'PROD_PERM': 5804, 'RDNDISPLAY': 205, 'DSPLY_NAME': 'FTSE 100 INDEX', 'RDN_EXCHID': 64, 'TIMACT': None, 'CURRENCY': None, 'ACTIV_DATE': None, 'NUM_MOVES': None, 'REF_COUNT': 14, 'RECORDTYPE': 120, 'BCAST_REF': None, 'LONGLINK1': 'PSHP.L', 'LONGLINK2': 'PSN.L', 'LONGLINK3': 'PSON.L', 'LONGLINK4': 'RDSa.L', 'LONGLINK5': 'RDSb.L', 'LONGLINK6': 'REL.L', 'LONGLINK7': 'RIO.L', 'LONGLINK8': 'RKT.L', 'LONGLINK9': 'RMG.L', 'LONGLINK10': 'RMV.L', 'LONGLINK11': 'RR.L', 'LONGLINK12': 'RTO.L', 'LONGLINK13': 'SBRY.L', 'LONGLINK14': 'SDR.L', 'LONGPREVLR': '4#.FTSE', 'LONGNEXTLR': '6#.FTSE', 'PREF_DISP': 205, 'PREF_LINK': None, 'DSPLY_NMLL': None, 'SEG_FORW17': None, 'SEG_BACK17': None, 'RDN_EXCHD2': 209, 'INSTU_NAME': None, 'TILE_DESC': None, 'ALIAS': None, 'PREV_DISP': None, 'MSG_VER': None, 'CONTEXT_ID': 6700, 'CF_DATE': None, 'CF_EXCHNG': 64, 'CF_SOURCE': 'LSE', 'CF_TIME': None, 'CF_NAME': 'FTSE 100 INDEX', 'DDS_DSO_ID': 12488, 'CF_CURR': None, 'SPS_SP_RIC': '.[SPSFTSEVAE3'}}\n",
      "17:03:30.012415- Add event received for 0#.FTSE. 70: PSHP.L\n",
      "17:03:30.012461- Add event received for 0#.FTSE. 71: PSN.L\n",
      "17:03:30.012489- Add event received for 0#.FTSE. 72: PSON.L\n",
      "17:03:30.012518- Add event received for 0#.FTSE. 73: RDSa.L\n",
      "17:03:30.012545- Add event received for 0#.FTSE. 74: RDSb.L\n",
      "17:03:30.012572- Add event received for 0#.FTSE. 75: REL.L\n",
      "17:03:30.012600- Add event received for 0#.FTSE. 76: RIO.L\n",
      "17:03:30.012629- Add event received for 0#.FTSE. 77: RKT.L\n",
      "17:03:30.012657- Add event received for 0#.FTSE. 78: RMG.L\n",
      "17:03:30.012680- Add event received for 0#.FTSE. 79: RMV.L\n",
      "17:03:30.012706- Add event received for 0#.FTSE. 80: RR.L\n",
      "17:03:30.012729- Add event received for 0#.FTSE. 81: RTO.L\n",
      "17:03:30.012759- Add event received for 0#.FTSE. 82: SBRY.L\n",
      "17:03:30.012789- Add event received for 0#.FTSE. 83: SDR.L\n",
      "17:03:30.103820- Chain 0#.FTSE is completely decoded.\n",
      "constituents:\n",
      "{'ID': 8, 'Type': 'Refresh', 'Key': {'Service': 'IDN_RDFNTS_CF', 'Name': '6#.FTSE'}, 'State': {'Stream': 'Open', 'Data': 'Ok', 'Text': 'All is well'}, 'Qos': {'Timeliness': 'Realtime', 'Rate': 'JitConflated'}, 'PermData': 'AwD+WATA', 'SeqNumber': 12112, 'Fields': {'PROD_PERM': 5804, 'RDNDISPLAY': 205, 'DSPLY_NAME': 'FTSE 100 INDEX', 'RDN_EXCHID': 64, 'TIMACT': None, 'CURRENCY': None, 'ACTIV_DATE': None, 'NUM_MOVES': None, 'REF_COUNT': 14, 'RECORDTYPE': 120, 'BCAST_REF': None, 'LONGLINK1': 'SGE.L', 'LONGLINK2': 'SGRO.L', 'LONGLINK3': 'SJP.L', 'LONGLINK4': 'SKG.L', 'LONGLINK5': 'SMDS.L', 'LONGLINK6': 'SMIN.L', 'LONGLINK7': 'SMT.L', 'LONGLINK8': 'SN.L', 'LONGLINK9': 'SPX.L', 'LONGLINK10': 'SSE.L', 'LONGLINK11': 'STAN.L', 'LONGLINK12': 'SVT.L', 'LONGLINK13': 'TSCO.L', 'LONGLINK14': 'TW.L', 'LONGPREVLR': '5#.FTSE', 'LONGNEXTLR': '7#.FTSE', 'PREF_DISP': 205, 'PREF_LINK': None, 'DSPLY_NMLL': None, 'SEG_FORW17': None, 'SEG_BACK17': None, 'RDN_EXCHD2': 209, 'INSTU_NAME': None, 'TILE_DESC': None, 'ALIAS': None, 'PREV_DISP': None, 'MSG_VER': None, 'CONTEXT_ID': 6700, 'CF_DATE': None, 'CF_EXCHNG': 64, 'CF_SOURCE': 'LSE', 'CF_TIME': None, 'CF_NAME': 'FTSE 100 INDEX', 'DDS_DSO_ID': 12488, 'CF_CURR': None, 'SPS_SP_RIC': '.[SPSFTSEVAE3'}}\n",
      "17:03:30.104012- Add event received for 0#.FTSE. 84: SGE.L\n",
      "17:03:30.104062- Add event received for 0#.FTSE. 85: SGRO.L\n",
      "17:03:30.104100- Add event received for 0#.FTSE. 86: SJP.L\n",
      "17:03:30.104135- Add event received for 0#.FTSE. 87: SKG.L\n",
      "17:03:30.104170- Add event received for 0#.FTSE. 88: SMDS.L\n",
      "17:03:30.104205- Add event received for 0#.FTSE. 89: SMIN.L\n",
      "17:03:30.104276- Add event received for 0#.FTSE. 90: SMT.L\n",
      "17:03:30.104304- Add event received for 0#.FTSE. 91: SN.L\n",
      "17:03:30.104334- Add event received for 0#.FTSE. 92: SPX.L\n",
      "17:03:30.104361- Add event received for 0#.FTSE. 93: SSE.L\n",
      "17:03:30.104384- Add event received for 0#.FTSE. 94: STAN.L\n",
      "17:03:30.104410- Add event received for 0#.FTSE. 95: SVT.L\n",
      "17:03:30.104458- Add event received for 0#.FTSE. 96: TSCO.L\n",
      "17:03:30.104528- Add event received for 0#.FTSE. 97: TW.L\n",
      "17:03:30.187976- Chain 0#.FTSE is completely decoded.\n",
      "constituents:\n",
      "{'ID': 9, 'Type': 'Refresh', 'Key': {'Service': 'IDN_RDFNTS_CF', 'Name': '7#.FTSE'}, 'State': {'Stream': 'Open', 'Data': 'Ok', 'Text': 'All is well'}, 'Qos': {'Timeliness': 'Realtime', 'Rate': 'JitConflated'}, 'PermData': 'AwD+WATA', 'SeqNumber': 12112, 'Fields': {'PROD_PERM': 5804, 'RDNDISPLAY': 205, 'DSPLY_NAME': 'FTSE 100 INDEX', 'RDN_EXCHID': 64, 'TIMACT': None, 'CURRENCY': None, 'ACTIV_DATE': None, 'NUM_MOVES': None, 'REF_COUNT': 5, 'RECORDTYPE': 120, 'BCAST_REF': None, 'LONGLINK1': 'ULVR.L', 'LONGLINK2': 'UU.L', 'LONGLINK3': 'VOD.L', 'LONGLINK4': 'WPP.L', 'LONGLINK5': 'WTB.L', 'LONGLINK6': None, 'LONGLINK7': None, 'LONGLINK8': None, 'LONGLINK9': None, 'LONGLINK10': None, 'LONGLINK11': None, 'LONGLINK12': None, 'LONGLINK13': None, 'LONGLINK14': None, 'LONGPREVLR': '6#.FTSE', 'LONGNEXTLR': None, 'PREF_DISP': 205, 'PREF_LINK': None, 'DSPLY_NMLL': None, 'SEG_FORW17': None, 'SEG_BACK17': None, 'RDN_EXCHD2': 209, 'INSTU_NAME': None, 'TILE_DESC': None, 'ALIAS': None, 'PREV_DISP': None, 'MSG_VER': None, 'CONTEXT_ID': 6700, 'CF_DATE': None, 'CF_EXCHNG': 64, 'CF_SOURCE': 'LSE', 'CF_TIME': None, 'CF_NAME': 'FTSE 100 INDEX', 'DDS_DSO_ID': 12488, 'CF_CURR': None, 'SPS_SP_RIC': '.[SPSFTSEVAE3'}}\n",
      "17:03:30.188182- Add event received for 0#.FTSE. 98: ULVR.L\n",
      "17:03:30.188234- Add event received for 0#.FTSE. 99: UU.L\n",
      "17:03:30.188286- Add event received for 0#.FTSE. 100: VOD.L\n",
      "17:03:30.188324- Add event received for 0#.FTSE. 101: WPP.L\n",
      "17:03:30.188355- Add event received for 0#.FTSE. 102: WTB.L\n",
      "17:03:30.188389- Chain 0#.FTSE is completely decoded.\n",
      "constituents:\n",
      "['AAL.L', 'ABDN.L', 'ABF.L', 'ADML.L', 'AHT.L', 'ANTO.L', 'AUTOA.L', 'AV.L', 'AVST.L', 'AVV.L', 'AZN.L', 'BAES.L', 'BARC.L', 'BATS.L', 'BDEV.L', 'BHPB.L', 'BKGH.L', 'BLND.L', 'BMEB.L', 'BNZL.L', 'BP.L', 'BRBY.L', 'BT.L', 'CCH.L', 'CPG.L', 'CRDA.L', 'CRH.L', 'DARK.L', 'DCC.L', 'DGE.L', 'ENT.L', 'EVRE.L', 'EXPN.L', 'FERG.L', 'FLTRF.L', 'FRES.L', 'GLEN.L', 'GSK.L', 'HIK.L', 'HLMA.L', 'HRGV.L', 'HSBA.L', 'ICAG.L', 'ICP.L', 'IHG.L', 'III.L', 'IMB.L', 'INF.L', 'ITRK.L', 'ITV.L', 'JD.L', 'JMAT.L', 'KGF.L', 'LAND.L', 'LGEN.L', 'LLOY.L', 'LSEG.L', 'MGGT.L', 'MNDI.L', 'MNG.L', 'MRON.L', 'NG.L', 'NWG.L', 'NXT.L', 'OCDO.L', 'PHNX.L', 'POLYP.L', 'PRU.L', 'PSHP.L', 'PSN.L', 'PSON.L', 'RDSa.L', 'RDSb.L', 'REL.L', 'RIO.L', 'RKT.L', 'RMG.L', 'RMV.L', 'RR.L', 'RTO.L', 'SBRY.L', 'SDR.L', 'SGE.L', 'SGRO.L', 'SJP.L', 'SKG.L', 'SMDS.L', 'SMIN.L', 'SMT.L', 'SN.L', 'SPX.L', 'SSE.L', 'STAN.L', 'SVT.L', 'TSCO.L', 'TW.L', 'ULVR.L', 'UU.L', 'VOD.L', 'WPP.L', 'WTB.L']\n"
     ]
    },
    {
     "data": {
      "text/plain": [
       "<OpenState.Opened: 1>"
      ]
     },
     "execution_count": 9,
     "metadata": {},
     "output_type": "execute_result"
    }
   ],
   "source": [
    "ftse.open()"
   ]
  },
  {
   "cell_type": "markdown",
   "metadata": {},
   "source": [
    "As soon as the open method returns, the stream object is ready to be used. Its internal cache is constantly kept updated with the latest streaming information received from he platform. All this happens behind the scene, waiting for your application to pull out data from the cache.  "
   ]
  },
  {
   "cell_type": "markdown",
   "metadata": {},
   "source": [
    "### Close the stream"
   ]
  },
  {
   "cell_type": "code",
   "execution_count": 10,
   "metadata": {},
   "outputs": [
    {
     "data": {
      "text/plain": [
       "<OpenState.Closed: 3>"
      ]
     },
     "execution_count": 10,
     "metadata": {},
     "output_type": "execute_result"
    }
   ],
   "source": [
    "ftse.close()"
   ]
  },
  {
   "cell_type": "markdown",
   "metadata": {},
   "source": [
    "## Close the session"
   ]
  },
  {
   "cell_type": "code",
   "execution_count": 11,
   "metadata": {},
   "outputs": [],
   "source": [
    "rd.close_session()"
   ]
  },
  {
   "cell_type": "code",
   "execution_count": null,
   "metadata": {},
   "outputs": [],
   "source": []
  }
 ],
 "metadata": {
  "kernelspec": {
   "display_name": "Python 3",
   "language": "python",
   "name": "python3"
  },
  "language_info": {
   "codemirror_mode": {
    "name": "ipython",
    "version": 3
   },
   "file_extension": ".py",
   "mimetype": "text/x-python",
   "name": "python",
   "nbconvert_exporter": "python",
   "pygments_lexer": "ipython3",
   "version": "3.7.6"
  }
 },
 "nbformat": 4,
 "nbformat_minor": 4
}
