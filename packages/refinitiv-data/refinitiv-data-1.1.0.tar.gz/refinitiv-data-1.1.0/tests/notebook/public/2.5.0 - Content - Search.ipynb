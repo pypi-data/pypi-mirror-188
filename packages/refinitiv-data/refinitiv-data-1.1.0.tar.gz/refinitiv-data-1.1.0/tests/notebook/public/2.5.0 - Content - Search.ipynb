{
 "cells": [
  {
   "cell_type": "markdown",
   "metadata": {},
   "source": [
    "# Refinitiv Data Library for Python"
   ]
  },
  {
   "cell_type": "markdown",
   "metadata": {},
   "source": [
    "## Content layer - Search \n",
    "This notebook demonstrates how to retrieve the Search service either directly from the Refinitiv Data Platform or via Refinitiv Workspace or CodeBook."
   ]
  },
  {
   "cell_type": "markdown",
   "metadata": {},
   "source": [
    "#### Learn more\n",
    "\n",
    "To learn more about the Refinitiv Data Library for Python please join the Refinitiv Developer Community. By [registering](https://developers.refinitiv.com/iam/register) and [logging](https://developers.refinitiv.com/content/devportal/en_us/initCookie.html) into the Refinitiv Developer Community portal you will have free access to a number of learning materials like \n",
    " [Quick Start guides](https://developers.refinitiv.com/en/api-catalog/refinitiv-data-platform/refinitiv-data-library-for-python/quick-start), \n",
    " [Tutorials](https://developers.refinitiv.com/en/api-catalog/refinitiv-data-platform/refinitiv-data-library-for-python/learning), \n",
    " [Documentation](https://developers.refinitiv.com/en/api-catalog/refinitiv-data-platform/refinitiv-data-library-for-python/docs)\n",
    " and much more.\n",
    "\n",
    "#### Getting Help and Support\n",
    "\n",
    "If you have any questions regarding using the API, please post them on \n",
    "the [Refinitiv Data Q&A Forum](https://community.developers.refinitiv.com/spaces/321/index.html). \n",
    "The Refinitiv Developer Community will be happy to help. "
   ]
  },
  {
   "cell_type": "markdown",
   "metadata": {},
   "source": [
    "## Some Imports to start with"
   ]
  },
  {
   "cell_type": "code",
   "execution_count": 1,
   "metadata": {},
   "outputs": [],
   "source": [
    "import refinitiv.data as rd\n",
    "from refinitiv.data.content import search\n",
    "import pandas as pd"
   ]
  },
  {
   "cell_type": "markdown",
   "metadata": {},
   "source": [
    "## Open the data session\n",
    "\n",
    "The open_session() function creates and open sessions based on the information contained in the refinitiv-data.config.json configuration file. Please edit this file to set the session type and other parameters required for the session you want to open."
   ]
  },
  {
   "cell_type": "code",
   "execution_count": null,
   "metadata": {
    "pycharm": {
     "is_executing": true
    }
   },
   "outputs": [],
   "source": [
    "rd.open_session()"
   ]
  },
  {
   "cell_type": "markdown",
   "metadata": {},
   "source": [
    "## Retrieve data"
   ]
  },
  {
   "cell_type": "markdown",
   "metadata": {},
   "source": [
    "### Search"
   ]
  },
  {
   "cell_type": "code",
   "execution_count": null,
   "metadata": {
    "pycharm": {
     "is_executing": true
    }
   },
   "outputs": [],
   "source": [
    "response = search.Definition(\"IBM\").get_data()\n",
    "response.data.df"
   ]
  },
  {
   "cell_type": "code",
   "execution_count": null,
   "outputs": [],
   "source": [
    "response = search.Definition(\n",
    "    query=\"IBM Bonds\",\n",
    "    select=\"ISIN,RIC,IssueDate,Currency,FaceIssuedTotal,CouponRate,MaturityDate\",\n",
    ").get_data()\n",
    "\n",
    "response.data.df"
   ],
   "metadata": {
    "collapsed": false,
    "pycharm": {
     "name": "#%%\n"
    }
   }
  },
  {
   "cell_type": "markdown",
   "metadata": {},
   "source": [
    "#### Search people"
   ]
  },
  {
   "cell_type": "code",
   "execution_count": null,
   "metadata": {},
   "outputs": [],
   "source": [
    "response = search.Definition(\n",
    "    query=\"cfo\",\n",
    "    view=search.Views.PEOPLE\n",
    ").get_data()\n",
    "\n",
    "response.data.df"
   ]
  },
  {
   "cell_type": "markdown",
   "metadata": {},
   "source": [
    "#### Search with Navigator option"
   ]
  },
  {
   "cell_type": "code",
   "execution_count": null,
   "metadata": {},
   "outputs": [],
   "source": [
    "response = search.Definition(\n",
    "    view=search.Views.COMMODITY_QUOTES,\n",
    "    query=\"cheese\",\n",
    "    navigators=\"ExchangeName\"\n",
    ").get_data()\n",
    "\n",
    "response.data.df"
   ]
  },
  {
   "cell_type": "code",
   "execution_count": null,
   "metadata": {},
   "outputs": [],
   "source": [
    "response.data.raw[\"Navigators\"][\"ExchangeName\"]"
   ]
  },
  {
   "cell_type": "code",
   "execution_count": null,
   "outputs": [],
   "source": [
    "response = search.Definition(\n",
    "    view=search.Views.EQUITY_QUOTES,\n",
    "    filter=\"AssetState eq 'AC' and RCSExchangeCountryLeaf eq 'Canada'\",\n",
    "    top=20,\n",
    "    navigators=\"RCSAssetCategoryLeaf(buckets:3, sub:ExchangeName(buckets:2))\"\n",
    "    # For the top 3 categories, show the top 2 exchanges\n",
    ").get_data()\n",
    "\n",
    "response.data.df"
   ],
   "metadata": {
    "collapsed": false,
    "pycharm": {
     "name": "#%%\n"
    }
   }
  },
  {
   "cell_type": "code",
   "execution_count": null,
   "metadata": {},
   "outputs": [],
   "source": [
    "response = search.Definition(\n",
    "    view=search.Views.GOV_CORP_INSTRUMENTS,\n",
    "    top=0,\n",
    "    navigators=\"Currency(buckets:10,desc:sum_FaceOutstandingUSD,calc:max_CouponRate)\"\n",
    ").get_data()\n",
    "\n",
    "response.data.df"
   ]
  },
  {
   "cell_type": "code",
   "execution_count": null,
   "metadata": {},
   "outputs": [],
   "source": [
    "response.data.raw[\"Navigators\"]"
   ]
  },
  {
   "cell_type": "markdown",
   "metadata": {},
   "source": [
    "#### sub-navigator"
   ]
  },
  {
   "cell_type": "code",
   "execution_count": null,
   "metadata": {},
   "outputs": [],
   "source": [
    "response = search.Definition(\n",
    "    view=search.Views.PEOPLE,\n",
    "    top=0,\n",
    "    navigators=\"FirstName(buckets:3,sub:LastName(buckets:2))\"\n",
    ").get_data()\n",
    "\n",
    "response.data.raw[\"Navigators\"][\"FirstName\"][\"Buckets\"], columns = [\"Label\", \"Count\"]"
   ]
  },
  {
   "cell_type": "markdown",
   "metadata": {},
   "source": [
    "#### Search with order_by option"
   ]
  },
  {
   "cell_type": "code",
   "execution_count": null,
   "metadata": {
    "scrolled": true
   },
   "outputs": [],
   "source": [
    "response = search.Definition(\n",
    "    view=search.Views.PEOPLE,\n",
    "    query=\"ceo\",\n",
    "    order_by=\"YearOfBirth desc,LastName,FirstName\",\n",
    "    select=\"YearOfBirth,DocumentTitle\"\n",
    ").get_data()\n",
    "\n",
    "response.data.df"
   ]
  },
  {
   "cell_type": "markdown",
   "metadata": {},
   "source": [
    "#### Search with group_by option"
   ]
  },
  {
   "cell_type": "code",
   "execution_count": null,
   "metadata": {
    "pycharm": {
     "is_executing": true
    }
   },
   "outputs": [],
   "source": [
    "response = search.Definition(\n",
    "    view=search.Views.INDICATOR_QUOTES,\n",
    "    query=\"rate\",\n",
    "    group_by=\"CentralBankName\",\n",
    "    group_count=2,\n",
    "    select=\"CentralBankName,DocumentTitle,RIC\"\n",
    ").get_data()\n",
    "\n",
    "response.data.df"
   ]
  },
  {
   "cell_type": "markdown",
   "source": [
    "#### Search with filtering"
   ],
   "metadata": {
    "collapsed": false,
    "pycharm": {
     "name": "#%% md\n"
    }
   }
  },
  {
   "cell_type": "code",
   "execution_count": null,
   "outputs": [],
   "source": [
    "response = search.Definition(\n",
    "    view=search.Views.GOV_CORP_INSTRUMENTS,\n",
    "    select=\"ISIN,RIC,IssueDate,Currency,FaceIssuedTotal,CouponRate,MaturityDate\",\n",
    "    filter=\"IssuerTicker eq 'IBM' and IsActive eq true and AssetStatus ne 'MAT'\"\n",
    ").get_data()\n",
    "response.data.df"
   ],
   "metadata": {
    "collapsed": false,
    "pycharm": {
     "name": "#%%\n"
    }
   }
  },
  {
   "cell_type": "markdown",
   "metadata": {},
   "source": [
    "### Lookup"
   ]
  },
  {
   "cell_type": "code",
   "execution_count": null,
   "metadata": {},
   "outputs": [],
   "source": [
    "response = search.lookup.Definition(\n",
    "    view=search.Views.INSTRUMENTS,                               # Required parameter\n",
    "    scope=\"RIC\",                                                       # Required parameter\n",
    "    terms=\"MSFT.O,AAPL.O,GOOG.O,IBM.N,KBANK.BK,SCC.BK\",                # Required parameter\n",
    "    select=\"BusinessEntity,DocumentTitle,CUSIP,SEDOL\",                 # Required parameter\n",
    ").get_data()\n",
    "\n",
    "response.data.df"
   ]
  },
  {
   "cell_type": "code",
   "execution_count": null,
   "metadata": {
    "scrolled": true
   },
   "outputs": [],
   "source": [
    "response = search.lookup.Definition(\n",
    "    view=search.Views.SEARCH_ALL,                              # Required parameter\n",
    "    scope=\"RIC\",                                                     # Required parameter\n",
    "    terms=\"A,B,NOSUCHRIC,C,D\",                                       # Required parameter\n",
    "    select=\"BusinessEntity,DocumentTitle\",                           # Required parameter\n",
    ").get_data()\n",
    "\n",
    "response.data.df"
   ]
  },
  {
   "cell_type": "markdown",
   "metadata": {},
   "source": [
    "### Get Metadata"
   ]
  },
  {
   "cell_type": "code",
   "execution_count": null,
   "metadata": {},
   "outputs": [],
   "source": [
    "response = search.metadata.Definition(\n",
    "    view = search.Views.PEOPLE  # Required parameterc\n",
    ").get_data()\n",
    "\n",
    "pd.set_option(\"display.max_columns\", None)  # or 1000\n",
    "pd.set_option(\"display.max_rows\", None)  # or 1000\n",
    "pd.set_option(\"display.max_colwidth\", 1)  # or 199\n",
    "\n",
    "response.data.df"
   ]
  },
  {
   "cell_type": "markdown",
   "metadata": {},
   "source": [
    "#### viewmeta with nested type"
   ]
  },
  {
   "cell_type": "code",
   "execution_count": null,
   "metadata": {},
   "outputs": [],
   "source": [
    "response = search.metadata.Definition(\n",
    "    view = search.Views.INSTRUMENTS\n",
    ").get_data()\n",
    "\n",
    "pd.set_option(\"display.max_columns\", None)  # or 1000\n",
    "pd.set_option(\"display.max_rows\", None)  # or 1000\n",
    "pd.set_option(\"display.max_colwidth\", None)  # or 199\n",
    "\n",
    "response.data.df"
   ]
  },
  {
   "cell_type": "markdown",
   "metadata": {},
   "source": [
    "## Close the session"
   ]
  },
  {
   "cell_type": "code",
   "execution_count": null,
   "metadata": {},
   "outputs": [],
   "source": [
    "rd.close_session()"
   ]
  },
  {
   "cell_type": "code",
   "execution_count": null,
   "metadata": {},
   "outputs": [],
   "source": []
  }
 ],
 "metadata": {
  "kernelspec": {
   "display_name": "Python 3",
   "language": "python",
   "name": "python3"
  },
  "language_info": {
   "codemirror_mode": {
    "name": "ipython",
    "version": 3
   },
   "file_extension": ".py",
   "mimetype": "text/x-python",
   "name": "python",
   "nbconvert_exporter": "python",
   "pygments_lexer": "ipython3",
   "version": "3.7.6"
  }
 },
 "nbformat": 4,
 "nbformat_minor": 4
}