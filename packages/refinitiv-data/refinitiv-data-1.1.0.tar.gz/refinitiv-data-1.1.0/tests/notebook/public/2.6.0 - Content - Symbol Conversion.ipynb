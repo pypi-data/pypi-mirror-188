{
 "cells": [
  {
   "cell_type": "markdown",
   "id": "ecf6b271-918b-49f0-aba5-2251c7b1f3ae",
   "metadata": {},
   "source": [
    "# Refinitiv Data Library for Python"
   ]
  },
  {
   "cell_type": "markdown",
   "id": "caff9256-856b-44ff-a709-84f037c43032",
   "metadata": {},
   "source": [
    "## Content layer - Symbol Conversion\n",
    "This notebook demonstrates how convert symbols from one type to another."
   ]
  },
  {
   "cell_type": "markdown",
   "id": "0ceb21e2-221d-4dbd-b65e-b852e7ae5605",
   "metadata": {},
   "source": [
    "#### Learn more\n",
    "\n",
    "To learn more about the Refinitiv Data Library for Python please join the Refinitiv Developer Community. By [registering](https://developers.refinitiv.com/iam/register) and [logging](https://developers.refinitiv.com/content/devportal/en_us/initCookie.html) into the Refinitiv Developer Community portal you will have free access to a number of learning materials like \n",
    " [Quick Start guides](https://developers.refinitiv.com/en/api-catalog/refinitiv-data-platform/refinitiv-data-library-for-python/quick-start), \n",
    " [Tutorials](https://developers.refinitiv.com/en/api-catalog/refinitiv-data-platform/refinitiv-data-library-for-python/learning), \n",
    " [Documentation](https://developers.refinitiv.com/en/api-catalog/refinitiv-data-platform/refinitiv-data-library-for-python/docs)\n",
    " and much more.\n",
    "\n",
    "#### Getting Help and Support\n",
    "\n",
    "If you have any questions regarding using the API, please post them on \n",
    "the [Refinitiv Data Q&A Forum](https://community.developers.refinitiv.com/spaces/321/index.html). \n",
    "The Refinitiv Developer Community will be happy to help. "
   ]
  },
  {
   "cell_type": "markdown",
   "id": "12a6cdea-ced2-4307-8de3-41901171bf20",
   "metadata": {},
   "source": [
    "## Some Imports to start with"
   ]
  },
  {
   "cell_type": "code",
   "execution_count": 1,
   "id": "4b137624-0cc1-4ec5-bb90-e4db25f9736c",
   "metadata": {},
   "outputs": [],
   "source": [
    "import refinitiv.data as rd\n",
    "from refinitiv.data.content import symbol_conversion"
   ]
  },
  {
   "cell_type": "markdown",
   "id": "422e90dd-e2f8-4eb8-bd22-4f13ca5a9de6",
   "metadata": {},
   "source": [
    "## Open the data session\n",
    "\n",
    "The open_session() function creates and open sessions based on the information contained in the refinitiv-data.config.json configuration file. Please edit this file to set the session type and other parameters required for the session you want to open."
   ]
  },
  {
   "cell_type": "code",
   "execution_count": 2,
   "id": "20a79da7-ea51-43de-99c2-d476a7011103",
   "metadata": {},
   "outputs": [
    {
     "data": {
      "text/plain": [
       "<refinitiv.data.session._desktop_session.Definition object at 0x7ff77605eb10 {name='default'}>"
      ]
     },
     "execution_count": 2,
     "metadata": {},
     "output_type": "execute_result"
    }
   ],
   "source": [
    "rd.open_session()"
   ]
  },
  {
   "cell_type": "markdown",
   "id": "ad9c32bd-b808-442c-a0bc-4efe8a8bb3aa",
   "metadata": {},
   "source": [
    "## Retrieve data"
   ]
  },
  {
   "cell_type": "markdown",
   "id": "grateful-nigeria",
   "metadata": {},
   "source": [
    "### Default conversion of one symbol (default input symbol type is RIC)"
   ]
  },
  {
   "cell_type": "code",
   "execution_count": 3,
   "id": "atlantic-coating",
   "metadata": {},
   "outputs": [
    {
     "data": {
      "text/html": [
       "<div>\n",
       "<style scoped>\n",
       "    .dataframe tbody tr th:only-of-type {\n",
       "        vertical-align: middle;\n",
       "    }\n",
       "\n",
       "    .dataframe tbody tr th {\n",
       "        vertical-align: top;\n",
       "    }\n",
       "\n",
       "    .dataframe thead th {\n",
       "        text-align: right;\n",
       "    }\n",
       "</style>\n",
       "<table border=\"1\" class=\"dataframe\">\n",
       "  <thead>\n",
       "    <tr style=\"text-align: right;\">\n",
       "      <th></th>\n",
       "      <th>RIC</th>\n",
       "      <th>DocumentTitle</th>\n",
       "      <th>TickerSymbol</th>\n",
       "      <th>IssueISIN</th>\n",
       "      <th>IssuerOAPermID</th>\n",
       "      <th>CUSIP</th>\n",
       "    </tr>\n",
       "  </thead>\n",
       "  <tbody>\n",
       "    <tr>\n",
       "      <th>MSFT.O</th>\n",
       "      <td>MSFT.O</td>\n",
       "      <td>Microsoft Corp, Ordinary Share, NASDAQ Global ...</td>\n",
       "      <td>MSFT</td>\n",
       "      <td>US5949181045</td>\n",
       "      <td>4295907168</td>\n",
       "      <td>594918104</td>\n",
       "    </tr>\n",
       "  </tbody>\n",
       "</table>\n",
       "</div>"
      ],
      "text/plain": [
       "           RIC                                      DocumentTitle  \\\n",
       "MSFT.O  MSFT.O  Microsoft Corp, Ordinary Share, NASDAQ Global ...   \n",
       "\n",
       "       TickerSymbol     IssueISIN IssuerOAPermID      CUSIP  \n",
       "MSFT.O         MSFT  US5949181045     4295907168  594918104  "
      ]
     },
     "execution_count": 3,
     "metadata": {},
     "output_type": "execute_result"
    }
   ],
   "source": [
    "response = symbol_conversion.Definition(\"MSFT.O\").get_data()\n",
    "response.data.df"
   ]
  },
  {
   "cell_type": "markdown",
   "id": "dominant-screen",
   "metadata": {},
   "source": [
    "### Conversion of multiple symbols "
   ]
  },
  {
   "cell_type": "code",
   "execution_count": 4,
   "id": "dominant-matthew",
   "metadata": {},
   "outputs": [
    {
     "data": {
      "text/html": [
       "<div>\n",
       "<style scoped>\n",
       "    .dataframe tbody tr th:only-of-type {\n",
       "        vertical-align: middle;\n",
       "    }\n",
       "\n",
       "    .dataframe tbody tr th {\n",
       "        vertical-align: top;\n",
       "    }\n",
       "\n",
       "    .dataframe thead th {\n",
       "        text-align: right;\n",
       "    }\n",
       "</style>\n",
       "<table border=\"1\" class=\"dataframe\">\n",
       "  <thead>\n",
       "    <tr style=\"text-align: right;\">\n",
       "      <th></th>\n",
       "      <th>RIC</th>\n",
       "      <th>SEDOL</th>\n",
       "      <th>DocumentTitle</th>\n",
       "      <th>TickerSymbol</th>\n",
       "      <th>IssueISIN</th>\n",
       "      <th>IssuerOAPermID</th>\n",
       "      <th>CUSIP</th>\n",
       "    </tr>\n",
       "  </thead>\n",
       "  <tbody>\n",
       "    <tr>\n",
       "      <th>MSFT.O</th>\n",
       "      <td>MSFT.O</td>\n",
       "      <td>&lt;NA&gt;</td>\n",
       "      <td>Microsoft Corp, Ordinary Share, NASDAQ Global ...</td>\n",
       "      <td>MSFT</td>\n",
       "      <td>US5949181045</td>\n",
       "      <td>4295907168</td>\n",
       "      <td>594918104</td>\n",
       "    </tr>\n",
       "    <tr>\n",
       "      <th>AAPL.O</th>\n",
       "      <td>AAPL.O</td>\n",
       "      <td>&lt;NA&gt;</td>\n",
       "      <td>Apple Inc, Ordinary Share, NASDAQ Global Selec...</td>\n",
       "      <td>AAPL</td>\n",
       "      <td>US0378331005</td>\n",
       "      <td>4295905573</td>\n",
       "      <td>037833100</td>\n",
       "    </tr>\n",
       "    <tr>\n",
       "      <th>GOOG.O</th>\n",
       "      <td>GOOG.O</td>\n",
       "      <td>&lt;NA&gt;</td>\n",
       "      <td>Alphabet Inc, Ordinary Share, Class C, NASDAQ ...</td>\n",
       "      <td>GOOG</td>\n",
       "      <td>US02079K1079</td>\n",
       "      <td>5030853586</td>\n",
       "      <td>02079K107</td>\n",
       "    </tr>\n",
       "    <tr>\n",
       "      <th>IBM.N</th>\n",
       "      <td>IBM.N</td>\n",
       "      <td>2005973</td>\n",
       "      <td>International Business Machines Corp, Ordinary...</td>\n",
       "      <td>IBM</td>\n",
       "      <td>US4592001014</td>\n",
       "      <td>4295904307</td>\n",
       "      <td>459200101</td>\n",
       "    </tr>\n",
       "  </tbody>\n",
       "</table>\n",
       "</div>"
      ],
      "text/plain": [
       "           RIC    SEDOL                                      DocumentTitle  \\\n",
       "MSFT.O  MSFT.O     <NA>  Microsoft Corp, Ordinary Share, NASDAQ Global ...   \n",
       "AAPL.O  AAPL.O     <NA>  Apple Inc, Ordinary Share, NASDAQ Global Selec...   \n",
       "GOOG.O  GOOG.O     <NA>  Alphabet Inc, Ordinary Share, Class C, NASDAQ ...   \n",
       "IBM.N    IBM.N  2005973  International Business Machines Corp, Ordinary...   \n",
       "\n",
       "       TickerSymbol     IssueISIN IssuerOAPermID      CUSIP  \n",
       "MSFT.O         MSFT  US5949181045     4295907168  594918104  \n",
       "AAPL.O         AAPL  US0378331005     4295905573  037833100  \n",
       "GOOG.O         GOOG  US02079K1079     5030853586  02079K107  \n",
       "IBM.N           IBM  US4592001014     4295904307  459200101  "
      ]
     },
     "execution_count": 4,
     "metadata": {},
     "output_type": "execute_result"
    }
   ],
   "source": [
    "response = symbol_conversion.Definition(symbols=[\"MSFT.O\", \"AAPL.O\", \"GOOG.O\", \"IBM.N\"]).get_data()\n",
    "response.data.df"
   ]
  },
  {
   "cell_type": "markdown",
   "id": "rational-morgan",
   "metadata": {},
   "source": [
    "### Conversion using symbol types"
   ]
  },
  {
   "cell_type": "code",
   "execution_count": 5,
   "id": "pretty-lesson",
   "metadata": {},
   "outputs": [
    {
     "data": {
      "text/html": [
       "<div>\n",
       "<style scoped>\n",
       "    .dataframe tbody tr th:only-of-type {\n",
       "        vertical-align: middle;\n",
       "    }\n",
       "\n",
       "    .dataframe tbody tr th {\n",
       "        vertical-align: top;\n",
       "    }\n",
       "\n",
       "    .dataframe thead th {\n",
       "        text-align: right;\n",
       "    }\n",
       "</style>\n",
       "<table border=\"1\" class=\"dataframe\">\n",
       "  <thead>\n",
       "    <tr style=\"text-align: right;\">\n",
       "      <th></th>\n",
       "      <th>RIC</th>\n",
       "      <th>IssuerOAPermID</th>\n",
       "    </tr>\n",
       "  </thead>\n",
       "  <tbody>\n",
       "    <tr>\n",
       "      <th>US5949181045</th>\n",
       "      <td>MSFT.O</td>\n",
       "      <td>4295907168</td>\n",
       "    </tr>\n",
       "    <tr>\n",
       "      <th>US02079K1079</th>\n",
       "      <td>GOOG.O</td>\n",
       "      <td>5030853586</td>\n",
       "    </tr>\n",
       "  </tbody>\n",
       "</table>\n",
       "</div>"
      ],
      "text/plain": [
       "                 RIC IssuerOAPermID\n",
       "US5949181045  MSFT.O     4295907168\n",
       "US02079K1079  GOOG.O     5030853586"
      ]
     },
     "execution_count": 5,
     "metadata": {},
     "output_type": "execute_result"
    }
   ],
   "source": [
    "# Symbol types:\n",
    "# - symbol_conversion.RIC => RIC\n",
    "# - symbol_conversion.ISIN => IssueISIN\n",
    "# - symbol_conversion.CUSIP => CUSIP\n",
    "# - symbol_conversion.SEDOL => SEDOL\n",
    "# - symbol_conversion.TICKER_SYMBOL => TickerSymbol\n",
    "# - symbol_conversion.OA_PERM_ID => IssuerOAPermID\n",
    "# - symbol_conversion.LIPPER_ID => FundClassLipperID\n",
    "\n",
    "response = symbol_conversion.Definition(\n",
    "    symbols=[\"US5949181045\", \"US02079K1079\"],\n",
    "    from_symbol_type=symbol_conversion.SymbolTypes.ISIN,\n",
    "    to_symbol_types=[\n",
    "        symbol_conversion.SymbolTypes.RIC,\n",
    "        symbol_conversion.SymbolTypes.OA_PERM_ID\n",
    "    ],\n",
    ").get_data()\n",
    "\n",
    "response.data.df"
   ]
  },
  {
   "cell_type": "code",
   "execution_count": 6,
   "id": "proof-brunswick",
   "metadata": {},
   "outputs": [
    {
     "data": {
      "text/html": [
       "<div>\n",
       "<style scoped>\n",
       "    .dataframe tbody tr th:only-of-type {\n",
       "        vertical-align: middle;\n",
       "    }\n",
       "\n",
       "    .dataframe tbody tr th {\n",
       "        vertical-align: top;\n",
       "    }\n",
       "\n",
       "    .dataframe thead th {\n",
       "        text-align: right;\n",
       "    }\n",
       "</style>\n",
       "<table border=\"1\" class=\"dataframe\">\n",
       "  <thead>\n",
       "    <tr style=\"text-align: right;\">\n",
       "      <th></th>\n",
       "      <th>RIC</th>\n",
       "      <th>FundClassLipperID</th>\n",
       "      <th>DocumentTitle</th>\n",
       "      <th>IssueISIN</th>\n",
       "      <th>SEDOL</th>\n",
       "    </tr>\n",
       "  </thead>\n",
       "  <tbody>\n",
       "    <tr>\n",
       "      <th>60000008</th>\n",
       "      <td>LP60000008</td>\n",
       "      <td>60000008</td>\n",
       "      <td>AS SICAV I - American Focused Equity A Acc USD...</td>\n",
       "      <td>LU0011963831</td>\n",
       "      <td>4008817</td>\n",
       "    </tr>\n",
       "    <tr>\n",
       "      <th>60003513</th>\n",
       "      <td>LP60003513</td>\n",
       "      <td>60003513</td>\n",
       "      <td>JPM Japan Sustainable Equity A Acc JPY, Open-E...</td>\n",
       "      <td>LU0070214613</td>\n",
       "      <td>5408364</td>\n",
       "    </tr>\n",
       "  </tbody>\n",
       "</table>\n",
       "</div>"
      ],
      "text/plain": [
       "                 RIC FundClassLipperID  \\\n",
       "60000008  LP60000008          60000008   \n",
       "60003513  LP60003513          60003513   \n",
       "\n",
       "                                              DocumentTitle     IssueISIN  \\\n",
       "60000008  AS SICAV I - American Focused Equity A Acc USD...  LU0011963831   \n",
       "60003513  JPM Japan Sustainable Equity A Acc JPY, Open-E...  LU0070214613   \n",
       "\n",
       "            SEDOL  \n",
       "60000008  4008817  \n",
       "60003513  5408364  "
      ]
     },
     "execution_count": 6,
     "metadata": {},
     "output_type": "execute_result"
    }
   ],
   "source": [
    "response = symbol_conversion.Definition(\n",
    "    symbols = [\"60000008\", \"60003513\"],\n",
    "    from_symbol_type = symbol_conversion.SymbolTypes.LIPPER_ID\n",
    ").get_data()\n",
    "\n",
    "response.data.df"
   ]
  },
  {
   "cell_type": "markdown",
   "id": "acquired-sender",
   "metadata": {},
   "source": [
    "## Close the session"
   ]
  },
  {
   "cell_type": "code",
   "execution_count": 7,
   "id": "early-expense",
   "metadata": {},
   "outputs": [],
   "source": [
    "rd.close_session()"
   ]
  },
  {
   "cell_type": "code",
   "execution_count": null,
   "id": "70ffb56d-7843-4bd0-9967-5cba6c60f437",
   "metadata": {},
   "outputs": [],
   "source": []
  },
  {
   "cell_type": "code",
   "execution_count": null,
   "id": "5166e6ae-abb9-493b-b136-b57c098dfea0",
   "metadata": {},
   "outputs": [],
   "source": []
  }
 ],
 "metadata": {
  "kernelspec": {
   "display_name": "Python 3",
   "language": "python",
   "name": "python3"
  },
  "language_info": {
   "codemirror_mode": {
    "name": "ipython",
    "version": 3
   },
   "file_extension": ".py",
   "mimetype": "text/x-python",
   "name": "python",
   "nbconvert_exporter": "python",
   "pygments_lexer": "ipython3",
   "version": "3.7.6"
  }
 },
 "nbformat": 4,
 "nbformat_minor": 5
}
