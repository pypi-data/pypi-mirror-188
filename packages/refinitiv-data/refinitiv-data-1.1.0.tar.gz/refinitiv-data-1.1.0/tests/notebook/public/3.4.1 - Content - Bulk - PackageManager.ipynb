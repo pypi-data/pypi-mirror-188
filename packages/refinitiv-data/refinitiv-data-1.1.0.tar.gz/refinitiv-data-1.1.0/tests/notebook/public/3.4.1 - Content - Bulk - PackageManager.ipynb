{
 "cells": [
  {
   "cell_type": "markdown",
   "metadata": {},
   "source": [
    "# Refinitiv Data Library for Python"
   ]
  },
  {
   "cell_type": "markdown",
   "metadata": {},
   "source": [
    "## Content layer - Bulk - Package Manager\n",
    "This notebook demonstrates how to use the Refinitiv Data Library to retrieve data from Refinitiv Data Platform bulk feeds. In this example you will see how to use the bulk Package Manager of the Delivery layer to:\n",
    " - Download ESG bulk files\n",
    " - Populate a database with their content\n",
    " - Query the database to extract this content as a dataframe\n",
    " \n",
    "These operations that can be used in isolation are controled by the Refinitiv Data Library and made extremely flexible thanks to the configuration file of the library. This allows you to adapt this 3 steps process to most relational databases and any database model.    \n",
    "\n",
    "**Important note: This example requires a license with access to Refinitiv Data Platform ESG Bulk files**"
   ]
  },
  {
   "cell_type": "markdown",
   "metadata": {},
   "source": [
    "#### Learn more\n",
    "\n",
    "To learn more about the Refinitiv Data Library for Python please join the Refinitiv Developer Community. By [registering](https://developers.refinitiv.com/iam/register) and [logging](https://developers.refinitiv.com/content/devportal/en_us/initCookie.html) into the Refinitiv Developer Community portal you will have free access to a number of learning materials like \n",
    " [Quick Start guides](https://developers.refinitiv.com/en/api-catalog/refinitiv-data-platform/refinitiv-data-library-for-python/quick-start), \n",
    " [Tutorials](https://developers.refinitiv.com/en/api-catalog/refinitiv-data-platform/refinitiv-data-library-for-python/learning), \n",
    " [Documentation](https://developers.refinitiv.com/en/api-catalog/refinitiv-data-platform/refinitiv-data-library-for-python/docs)\n",
    " and much more.\n",
    "\n",
    "#### Getting Help and Support\n",
    "\n",
    "If you have any questions regarding using the API, please post them on \n",
    "the [Refinitiv Data Q&A Forum](https://community.developers.refinitiv.com/spaces/321/index.html). \n",
    "The Refinitiv Developer Community will be happy to help. "
   ]
  },
  {
   "cell_type": "markdown",
   "metadata": {},
   "source": [
    "## Some Imports to start with"
   ]
  },
  {
   "cell_type": "code",
   "execution_count": 1,
   "metadata": {},
   "outputs": [],
   "source": [
    "import refinitiv.data as rd\n",
    "from refinitiv.data.content import bulk"
   ]
  },
  {
   "cell_type": "markdown",
   "metadata": {},
   "source": [
    "## Open the data session\n",
    "\n",
    "The open_session() function creates and open sessions based on the information contained in the refinitiv-data.config.json configuration file. Please edit this file to set the session type and other parameters required for the session you want to open."
   ]
  },
  {
   "cell_type": "code",
   "execution_count": 2,
   "metadata": {},
   "outputs": [
    {
     "data": {
      "text/plain": "<refinitiv.data.session.platform.Definition object at 0x1d9eb427e80 {session_name='default'}>"
     },
     "execution_count": 2,
     "metadata": {},
     "output_type": "execute_result"
    }
   ],
   "source": [
    "rd.open_session('platform.default')"
   ]
  },
  {
   "cell_type": "markdown",
   "metadata": {},
   "source": [
    "## Retrieve data"
   ]
  },
  {
   "cell_type": "markdown",
   "metadata": {},
   "source": [
    "### Load the ESG Bulk configuration file"
   ]
  },
  {
   "cell_type": "code",
   "execution_count": 3,
   "metadata": {
    "tags": []
   },
   "outputs": [
    {
     "data": {
      "text/plain": "<ConfigurationSet: 0x1d9dc0ff430>"
     },
     "execution_count": 3,
     "metadata": {},
     "output_type": "execute_result"
    }
   ],
   "source": [
    "rd.load_config(\"refinitiv-data.bulk.config.json\")"
   ]
  },
  {
   "cell_type": "markdown",
   "metadata": {},
   "source": [
    "### Create a PackageManager for bulk standard scores\n",
    "All details related to this package are defined in the config (Bucket, Package name...) under the \"standard_scores\" section"
   ]
  },
  {
   "cell_type": "code",
   "execution_count": 4,
   "metadata": {
    "tags": []
   },
   "outputs": [],
   "source": [
    "pkg_manager = bulk.PackageManager('esg.standard_scores')"
   ]
  },
  {
   "cell_type": "markdown",
   "metadata": {},
   "source": [
    "### Step 1 - Update local ESG Bulk files\n",
    "Download the latest init & delta files and uncompress them"
   ]
  },
  {
   "cell_type": "code",
   "execution_count": 5,
   "metadata": {},
   "outputs": [],
   "source": [
    "pkg_manager.update_files()"
   ]
  },
  {
   "cell_type": "markdown",
   "metadata": {},
   "source": [
    "### Step 2 - Update the database\n",
    "\n",
    "Update a local in-memory data base with the latest downloaded files"
   ]
  },
  {
   "cell_type": "code",
   "execution_count": 6,
   "metadata": {
    "pycharm": {
     "name": "#%%\n"
    }
   },
   "outputs": [],
   "source": [
    "pkg_manager.update_db()"
   ]
  },
  {
   "cell_type": "markdown",
   "metadata": {},
   "source": [
    "### Step 3 - Retrieve ESG data from the database"
   ]
  },
  {
   "cell_type": "code",
   "execution_count": 7,
   "metadata": {},
   "outputs": [
    {
     "data": {
      "text/plain": "  OrganizationName  InsertDate  Instrument             PeriodEndDate  \\\n0             null  2022-04-24  4295865175  2018-12-31T00:00:00.000Z   \n1             null  2022-04-24  4295865175  2019-12-31T00:00:00.000Z   \n2             null  2022-04-24  4295865175  2020-12-31T00:00:00.000Z   \n\n        TR.TRESGCScore        TR.TRESGScore TR.EnvironmentPillarScore  \\\n0   0.3468755803443543   0.3468755803443543      0.017336485421591788   \n1  0.29530709944901445  0.29530709944901445      0.017000607164541572   \n2   0.2661717831757612   0.2661717831757612      0.019367991845056047   \n\n  TR.SocialPillarScore TR.GovernancePillarScore  \n0  0.11923662461939981        0.637965760322256  \n1  0.18270285087719315       0.4738870792616723  \n2  0.23895899053627767      0.36319261213720333  ",
      "text/html": "<div>\n<style scoped>\n    .dataframe tbody tr th:only-of-type {\n        vertical-align: middle;\n    }\n\n    .dataframe tbody tr th {\n        vertical-align: top;\n    }\n\n    .dataframe thead th {\n        text-align: right;\n    }\n</style>\n<table border=\"1\" class=\"dataframe\">\n  <thead>\n    <tr style=\"text-align: right;\">\n      <th></th>\n      <th>OrganizationName</th>\n      <th>InsertDate</th>\n      <th>Instrument</th>\n      <th>PeriodEndDate</th>\n      <th>TR.TRESGCScore</th>\n      <th>TR.TRESGScore</th>\n      <th>TR.EnvironmentPillarScore</th>\n      <th>TR.SocialPillarScore</th>\n      <th>TR.GovernancePillarScore</th>\n    </tr>\n  </thead>\n  <tbody>\n    <tr>\n      <th>0</th>\n      <td>null</td>\n      <td>2022-04-24</td>\n      <td>4295865175</td>\n      <td>2018-12-31T00:00:00.000Z</td>\n      <td>0.3468755803443543</td>\n      <td>0.3468755803443543</td>\n      <td>0.017336485421591788</td>\n      <td>0.11923662461939981</td>\n      <td>0.637965760322256</td>\n    </tr>\n    <tr>\n      <th>1</th>\n      <td>null</td>\n      <td>2022-04-24</td>\n      <td>4295865175</td>\n      <td>2019-12-31T00:00:00.000Z</td>\n      <td>0.29530709944901445</td>\n      <td>0.29530709944901445</td>\n      <td>0.017000607164541572</td>\n      <td>0.18270285087719315</td>\n      <td>0.4738870792616723</td>\n    </tr>\n    <tr>\n      <th>2</th>\n      <td>null</td>\n      <td>2022-04-24</td>\n      <td>4295865175</td>\n      <td>2020-12-31T00:00:00.000Z</td>\n      <td>0.2661717831757612</td>\n      <td>0.2661717831757612</td>\n      <td>0.019367991845056047</td>\n      <td>0.23895899053627767</td>\n      <td>0.36319261213720333</td>\n    </tr>\n  </tbody>\n</table>\n</div>"
     },
     "execution_count": 7,
     "metadata": {},
     "output_type": "execute_result"
    }
   ],
   "source": [
    "response = bulk.Definition(\"esg.standard_scores\", universe = \"4295865175\").get_db_data()\n",
    "response.data.df"
   ]
  },
  {
   "cell_type": "markdown",
   "metadata": {},
   "source": [
    "## Other operations"
   ]
  },
  {
   "cell_type": "markdown",
   "metadata": {},
   "source": [
    "### Cleanup local files "
   ]
  },
  {
   "cell_type": "code",
   "execution_count": 8,
   "metadata": {
    "pycharm": {
     "name": "#%%\n"
    }
   },
   "outputs": [],
   "source": [
    "pkg_manager.cleanup_files()"
   ]
  },
  {
   "cell_type": "markdown",
   "metadata": {},
   "source": [
    "### Reset local files "
   ]
  },
  {
   "cell_type": "code",
   "execution_count": 9,
   "metadata": {
    "pycharm": {
     "name": "#%%\n"
    }
   },
   "outputs": [],
   "source": [
    "pkg_manager.reset_files()"
   ]
  },
  {
   "cell_type": "markdown",
   "metadata": {},
   "source": [
    "### Cleanup the database"
   ]
  },
  {
   "cell_type": "code",
   "execution_count": 10,
   "metadata": {},
   "outputs": [],
   "source": [
    "pkg_manager.cleanup_db()"
   ]
  },
  {
   "cell_type": "markdown",
   "metadata": {},
   "source": [
    "## Close the session"
   ]
  },
  {
   "cell_type": "code",
   "execution_count": 11,
   "metadata": {
    "pycharm": {
     "name": "#%%\n"
    }
   },
   "outputs": [],
   "source": [
    "rd.close_session()"
   ]
  },
  {
   "cell_type": "code",
   "execution_count": 11,
   "metadata": {},
   "outputs": [],
   "source": []
  }
 ],
 "metadata": {
  "kernelspec": {
   "display_name": "Python 3",
   "language": "python",
   "name": "python3"
  },
  "language_info": {
   "codemirror_mode": {
    "name": "ipython",
    "version": 3
   },
   "file_extension": ".py",
   "mimetype": "text/x-python",
   "name": "python",
   "nbconvert_exporter": "python",
   "pygments_lexer": "ipython3",
   "version": "3.7.6"
  }
 },
 "nbformat": 4,
 "nbformat_minor": 4
}