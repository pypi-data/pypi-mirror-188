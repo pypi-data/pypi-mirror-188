{
 "cells": [
  {
   "cell_type": "markdown",
   "metadata": {},
   "source": [
    "# Refinitiv Data Library for Python"
   ]
  },
  {
   "cell_type": "markdown",
   "metadata": {},
   "source": [
    "## Content layer - IPA - Swaption\n",
    "This notebook demonstrates how to retrieve Swaption pricing analytics data either directly from the Refinitiv Data Platform or via Refinitiv Workspace or CodeBook."
   ]
  },
  {
   "cell_type": "markdown",
   "metadata": {},
   "source": [
    "#### Learn more\n",
    "\n",
    "To learn more about the Refinitiv Data Library for Python please join the Refinitiv Developer Community. By [registering](https://developers.refinitiv.com/iam/register) and [logging](https://developers.refinitiv.com/content/devportal/en_us/initCookie.html) into the Refinitiv Developer Community portal you will have free access to a number of learning materials like \n",
    " [Quick Start guides](https://developers.refinitiv.com/en/api-catalog/refinitiv-data-platform/refinitiv-data-library-for-python/quick-start), \n",
    " [Tutorials](https://developers.refinitiv.com/en/api-catalog/refinitiv-data-platform/refinitiv-data-library-for-python/learning), \n",
    " [Documentation](https://developers.refinitiv.com/en/api-catalog/refinitiv-data-platform/refinitiv-data-library-for-python/docs)\n",
    " and much more.\n",
    "\n",
    "#### Getting Help and Support\n",
    "\n",
    "If you have any questions regarding using the API, please post them on \n",
    "the [Refinitiv Data Q&A Forum](https://community.developers.refinitiv.com/spaces/321/index.html). \n",
    "The Refinitiv Developer Community will be happy to help. "
   ]
  },
  {
   "cell_type": "markdown",
   "metadata": {},
   "source": [
    "## Some Imports to start with"
   ]
  },
  {
   "cell_type": "code",
   "execution_count": 1,
   "metadata": {},
   "outputs": [],
   "source": [
    "import refinitiv.data as rd\n",
    "from refinitiv.data.content.ipa.financial_contracts import swaption\n",
    "from refinitiv.data.content.ipa.financial_contracts import swap"
   ]
  },
  {
   "cell_type": "markdown",
   "metadata": {},
   "source": [
    "## Open the data session\n",
    "\n",
    "The open_session() function creates and open sessions based on the information contained in the refinitiv-data.config.json configuration file. Please edit this file to set the session type and other parameters required for the session you want to open."
   ]
  },
  {
   "cell_type": "code",
   "execution_count": 2,
   "metadata": {},
   "outputs": [
    {
     "data": {
      "text/plain": [
       "<refinitiv.data.session._desktop_session.Definition object at 0x7fc79215af10 {name='default'}>"
      ]
     },
     "execution_count": 2,
     "metadata": {},
     "output_type": "execute_result"
    }
   ],
   "source": [
    "rd.open_session()"
   ]
  },
  {
   "cell_type": "markdown",
   "metadata": {},
   "source": [
    "## Retrieve data"
   ]
  },
  {
   "cell_type": "code",
   "execution_count": 3,
   "metadata": {},
   "outputs": [
    {
     "data": {
      "text/html": [
       "<div>\n",
       "<style scoped>\n",
       "    .dataframe tbody tr th:only-of-type {\n",
       "        vertical-align: middle;\n",
       "    }\n",
       "\n",
       "    .dataframe tbody tr th {\n",
       "        vertical-align: top;\n",
       "    }\n",
       "\n",
       "    .dataframe thead th {\n",
       "        text-align: right;\n",
       "    }\n",
       "</style>\n",
       "<table border=\"1\" class=\"dataframe\">\n",
       "  <thead>\n",
       "    <tr style=\"text-align: right;\">\n",
       "      <th></th>\n",
       "      <th>InstrumentTag</th>\n",
       "      <th>InstrumentDescription</th>\n",
       "      <th>ValuationDate</th>\n",
       "      <th>ExpiryDate</th>\n",
       "      <th>OptionType</th>\n",
       "      <th>ExerciseStyle</th>\n",
       "      <th>NotionalAmount</th>\n",
       "      <th>NotionalCcy</th>\n",
       "      <th>SettlementType</th>\n",
       "      <th>SettlementCcy</th>\n",
       "      <th>Tenor</th>\n",
       "      <th>UnderlyingTenor</th>\n",
       "      <th>StrikePercent</th>\n",
       "      <th>MarketValueInDealCcy</th>\n",
       "      <th>PremiumPercent</th>\n",
       "      <th>DeltaPercent</th>\n",
       "      <th>DeltaAmountInDealCcy</th>\n",
       "      <th>ThetaAmountInDealCcy</th>\n",
       "      <th>VegaAmountInDealCcy</th>\n",
       "      <th>GammaAmountInDealCcy</th>\n",
       "    </tr>\n",
       "  </thead>\n",
       "  <tbody>\n",
       "    <tr>\n",
       "      <th>0</th>\n",
       "      <td>BermudanEURswaption</td>\n",
       "      <td>Long payer BERM 7Y x 3Y Swaption</td>\n",
       "      <td>2020-04-24T00:00:00Z</td>\n",
       "      <td>2027-04-26T00:00:00Z</td>\n",
       "      <td>CALL</td>\n",
       "      <td>BERM</td>\n",
       "      <td>1000000</td>\n",
       "      <td>EUR</td>\n",
       "      <td>Cash</td>\n",
       "      <td>EUR</td>\n",
       "      <td>7Y</td>\n",
       "      <td>3Y</td>\n",
       "      <td>2.75</td>\n",
       "      <td>1305.731161</td>\n",
       "      <td>0.130573</td>\n",
       "      <td>0.04749</td>\n",
       "      <td>4.748952</td>\n",
       "      <td>0.504835</td>\n",
       "      <td>30.925251</td>\n",
       "      <td>0.011186</td>\n",
       "    </tr>\n",
       "  </tbody>\n",
       "</table>\n",
       "</div>"
      ],
      "text/plain": [
       "         InstrumentTag             InstrumentDescription  \\\n",
       "0  BermudanEURswaption  Long payer BERM 7Y x 3Y Swaption   \n",
       "\n",
       "          ValuationDate            ExpiryDate OptionType ExerciseStyle  \\\n",
       "0  2020-04-24T00:00:00Z  2027-04-26T00:00:00Z       CALL          BERM   \n",
       "\n",
       "   NotionalAmount NotionalCcy SettlementType SettlementCcy Tenor  \\\n",
       "0         1000000         EUR           Cash           EUR    7Y   \n",
       "\n",
       "  UnderlyingTenor  StrikePercent  MarketValueInDealCcy  PremiumPercent  \\\n",
       "0              3Y           2.75           1305.731161        0.130573   \n",
       "\n",
       "   DeltaPercent  DeltaAmountInDealCcy  ThetaAmountInDealCcy  \\\n",
       "0       0.04749              4.748952              0.504835   \n",
       "\n",
       "   VegaAmountInDealCcy  GammaAmountInDealCcy  \n",
       "0            30.925251              0.011186  "
      ]
     },
     "execution_count": 3,
     "metadata": {},
     "output_type": "execute_result"
    }
   ],
   "source": [
    "response = swaption.Definition(\n",
    "    instrument_tag=\"BermudanEURswaption\",\n",
    "    settlement_type=swaption.SwaptionSettlementType.CASH,\n",
    "    tenor=\"7Y\",\n",
    "    strike_percent=2.75,\n",
    "    # \"notionalAmount\": 1000000,\n",
    "    buy_sell=swaption.BuySell.BUY,\n",
    "    call_put=swaption.CallPut.CALL,\n",
    "    exercise_style=swaption.ExerciseStyle.BERM,\n",
    "    bermudan_swaption_definition=swaption.BermudanSwaptionDefinition(\n",
    "        exercise_schedule_type=swaption.ExerciseScheduleType.FLOAT_LEG,\n",
    "        notification_days=0,\n",
    "    ),\n",
    "    underlying_definition=swap.Definition(tenor=\"3Y\", template=\"EUR_AB6E\"),\n",
    "    pricing_parameters=swaption.PricingParameters(\n",
    "        valuation_date=\"2020-04-24\", nb_iterations=80\n",
    "    ),\n",
    "    fields=[\n",
    "        \"InstrumentTag\",\n",
    "        \"InstrumentDescription\",\n",
    "        \"ValuationDate\",\n",
    "        \"ExpiryDate\",\n",
    "        \"OptionType\",\n",
    "        \"ExerciseStyle\",\n",
    "        \"NotionalAmount\",\n",
    "        \"NotionalCcy\",\n",
    "        \"SettlementType\",\n",
    "        \"SettlementCcy\",\n",
    "        \"Tenor\",\n",
    "        \"UnderlyingTenor\",\n",
    "        \"StrikePercent\",\n",
    "        \"MarketValueInDealCcy\",\n",
    "        \"PremiumPercent\",\n",
    "        \"DeltaPercent\",\n",
    "        \"DeltaAmountInDealCcy\",\n",
    "        \"ThetaAmountInDealCcy\",\n",
    "        \"VegaAmountInDealCcy\",\n",
    "        \"GammaAmountInDealCcy\",\n",
    "    ],\n",
    ").get_data()\n",
    "\n",
    "response.data.df"
   ]
  },
  {
   "cell_type": "markdown",
   "metadata": {},
   "source": [
    "## Close the session"
   ]
  },
  {
   "cell_type": "code",
   "execution_count": 4,
   "metadata": {
    "pycharm": {
     "name": "#%%\n"
    }
   },
   "outputs": [],
   "source": [
    "rd.close_session()"
   ]
  },
  {
   "cell_type": "code",
   "execution_count": null,
   "metadata": {},
   "outputs": [],
   "source": []
  }
 ],
 "metadata": {
  "kernelspec": {
   "display_name": "Python 3",
   "language": "python",
   "name": "python3"
  },
  "language_info": {
   "codemirror_mode": {
    "name": "ipython",
    "version": 3
   },
   "file_extension": ".py",
   "mimetype": "text/x-python",
   "name": "python",
   "nbconvert_exporter": "python",
   "pygments_lexer": "ipython3",
   "version": "3.7.6"
  }
 },
 "nbformat": 4,
 "nbformat_minor": 4
}
