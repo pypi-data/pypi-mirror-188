{
 "cells": [
  {
   "cell_type": "markdown",
   "metadata": {},
   "source": [
    "# Refinitiv Data Library for Python"
   ]
  },
  {
   "cell_type": "markdown",
   "metadata": {},
   "source": [
    "## Delivery layer - Client File Store\n",
    "This notebook demonstrates how to browse the Client File Store (CFS) of the Refinitiv Data Platform (RDP) using the Refintiv Data Library. The delivery.bulk.cfs module used in this example gives you an fine control on CFS operations. Unless you have a specific need, it is recommended to use the delivery.bulk.PackageManager instead. The Package manager provides you with a higher level API that manages for you the 3 types of activities generally invoved with bulk files (downloading files, populating databases, querying databases)."
   ]
  },
  {
   "cell_type": "markdown",
   "metadata": {},
   "source": [
    "#### Learn more\n",
    "\n",
    "To learn more about the Refinitiv Data Library for Python please join the Refinitiv Developer Community. By [registering](https://developers.refinitiv.com/iam/register) and [logging](https://developers.refinitiv.com/content/devportal/en_us/initCookie.html) into the Refinitiv Developer Community portal you will have free access to a number of learning materials like \n",
    " [Quick Start guides](https://developers.refinitiv.com/en/api-catalog/refinitiv-data-platform/refinitiv-data-library-for-python/quick-start), \n",
    " [Tutorials](https://developers.refinitiv.com/en/api-catalog/refinitiv-data-platform/refinitiv-data-library-for-python/learning), \n",
    " [Documentation](https://developers.refinitiv.com/en/api-catalog/refinitiv-data-platform/refinitiv-data-library-for-python/docs)\n",
    " and much more.\n",
    "\n",
    "#### Getting Help and Support\n",
    "\n",
    "If you have any questions regarding using the API, please post them on \n",
    "the [Refinitiv Data Q&A Forum](https://community.developers.refinitiv.com/spaces/321/index.html). \n",
    "The Refinitiv Developer Community will be happy to help. "
   ]
  },
  {
   "cell_type": "markdown",
   "metadata": {},
   "source": [
    "## Some Imports to start with"
   ]
  },
  {
   "cell_type": "code",
   "execution_count": 20,
   "metadata": {},
   "outputs": [],
   "source": [
    "import refinitiv.data as rd\n",
    "from refinitiv.data.delivery import cfs\n",
    "from datetime import timedelta"
   ]
  },
  {
   "cell_type": "markdown",
   "metadata": {},
   "source": [
    "## Open the data session\n",
    "\n",
    "The open_session() function creates and open sessions based on the information contained in the refinitiv-data.config.json configuration file. Please edit this file to set the session type and other parameters required for the session you want to open."
   ]
  },
  {
   "cell_type": "code",
   "execution_count": 21,
   "metadata": {},
   "outputs": [
    {
     "data": {
      "text/plain": "<refinitiv.data.session.platform.Definition object at 0x16a961ba850 {session_name='default'}>"
     },
     "execution_count": 21,
     "metadata": {},
     "output_type": "execute_result"
    }
   ],
   "source": [
    "rd.open_session('platform.default')"
   ]
  },
  {
   "cell_type": "markdown",
   "metadata": {},
   "source": [
    "## Retrieve data"
   ]
  },
  {
   "cell_type": "markdown",
   "metadata": {},
   "source": [
    "### Buckets"
   ]
  },
  {
   "cell_type": "markdown",
   "metadata": {},
   "source": [
    "#### Get all buckets"
   ]
  },
  {
   "cell_type": "code",
   "execution_count": 22,
   "metadata": {},
   "outputs": [
    {
     "data": {
      "text/plain": "    private            publisherName         availableFrom  restricted  \\\n0     False                Refinitiv  2022-01-08T08:14:07Z       False   \n1     False  SM_predictive_analytics  2020-10-23T12:17:11Z       False   \n2     False                     test  2020-06-01T10:45:11Z       False   \n3     False  SM_predictive_analytics  2021-08-27T10:00:00Z       False   \n4     False                     test  2022-02-01T08:03:31Z       False   \n5     False  SM_predictive_analytics  2021-12-09T09:39:25Z       False   \n6     False                     LSEG  2021-05-28T10:18:26Z       False   \n7     False  SM_predictive_analytics  2021-06-18T14:02:41Z       False   \n8     False  SM_predictive_analytics  2021-06-07T09:52:55Z       False   \n9     False                Refinitiv  2021-10-14T08:35:43Z       False   \n10    False              TickHistory  2000-01-01T01:00:00Z       False   \n11    False                      ESG  2020-08-18T08:49:02Z       False   \n12    False  SM_predictive_analytics  2021-08-27T10:00:00Z       False   \n13    False                  GE-4459  2021-06-11T15:13:13Z       False   \n14    False  SM_predictive_analytics  2021-06-07T09:52:56Z       False   \n15    False                      DSP  2021-04-06T10:29:20Z       False   \n16    False  SM_predictive_analytics  2020-07-15T10:08:11Z       False   \n17    False  SM_predictive_analytics  2021-08-27T10:00:00Z       False   \n18    False  SM_predictive_analytics  2021-06-07T09:52:56Z       False   \n19    False                Refinitiv  2019-10-18T07:57:30Z       False   \n20    False  SM_predictive_analytics  2021-06-07T09:52:55Z       False   \n21    False  SM_predictive_analytics  2020-02-10T18:10:38Z       False   \n22    False        BattleFin Link up  2020-04-03T03:00:44Z       False   \n23    False  SM_predictive_analytics  2020-03-04T12:00:00Z       False   \n24    False      CTP Derived Content  2021-01-26T10:07:42Z       False   \n\n                modified                                         attributes  \\\n0   2022-01-08T08:14:07Z                                               None   \n1   2020-10-23T12:17:11Z                                               None   \n2   2020-09-11T04:53:13Z                                               None   \n3   2021-08-27T07:29:56Z                                               None   \n4   2022-02-01T08:03:31Z                                             [test]   \n5   2021-12-09T09:39:25Z                                               None   \n6   2021-05-28T10:18:27Z                                               None   \n7   2021-06-18T14:02:41Z                                               None   \n8   2021-06-07T09:52:55Z                                               None   \n9   2021-10-14T08:35:43Z                        [DomainName, SubDomainName]   \n10  2019-10-03T16:44:24Z  [releaseTime, md5, size, message_id, depth, ve...   \n11  2020-08-18T08:49:02Z                         [ResultCount, ContentType]   \n12  2021-08-27T07:29:56Z                                               None   \n13  2021-06-11T15:13:13Z                                               None   \n14  2021-06-07T09:52:56Z                                               None   \n15  2021-04-06T10:29:20Z                         [ContentType, ResultCount]   \n16  2020-07-15T10:08:11Z                                               None   \n17  2021-08-27T07:29:57Z                                               None   \n18  2021-06-07T09:52:56Z                                               None   \n19  2019-10-18T07:57:30Z                             [product, fitca_jobid]   \n20  2021-06-07T09:52:55Z                                               None   \n21  2020-02-10T18:10:38Z                                               None   \n22  2020-04-10T03:00:17Z                                               None   \n23  2020-03-04T09:44:29Z                                               None   \n24  2021-01-26T10:07:42Z                                               None   \n\n                 created                                        description  \\\n0   2022-01-08T08:14:07Z                      Bucket for Research bulk prod   \n1   2020-10-23T12:17:11Z                                               None   \n2   2020-05-20T07:47:59Z                             Test bucket for CFS UI   \n3   2021-08-27T07:29:56Z                                               None   \n4   2022-01-11T10:32:00Z                                               test   \n5   2021-12-09T09:39:25Z  Starmine Symbology Daily Research Pack CUSIP a...   \n6   2021-05-28T10:18:27Z  Bulk feeds containing Revenue Synergies data f...   \n7   2021-06-18T14:02:41Z                      Starmine MA Target EMEA files   \n8   2021-06-07T09:52:55Z  starmine predictive analytics symbology hourly...   \n9   2021-10-14T08:35:43Z                                               test   \n10  2019-06-18T09:48:14Z                                               None   \n11  2020-08-18T08:49:02Z                     Bulk feeds containing ESG data   \n12  2021-08-27T07:29:56Z                                               None   \n13  2021-06-11T15:13:13Z                            RDP Usage Reporting API   \n14  2021-06-07T09:52:56Z  starmine predictive analytics symbology hourly...   \n15  2021-04-06T10:29:20Z                     Bulk feeds containing DSP data   \n16  2020-07-15T10:08:11Z                                               None   \n17  2021-08-27T07:29:57Z                                               None   \n18  2021-06-07T09:52:56Z  starmine predictive analytics symbology daily ...   \n19  2019-10-18T07:57:30Z                                               None   \n20  2021-06-07T09:52:55Z  starmine predictive analytics symbology daily ...   \n21  2020-02-10T18:10:38Z                                               None   \n22  2020-04-03T03:00:44Z                                               None   \n23  2020-03-04T09:44:29Z                                               None   \n24  2021-01-26T10:07:42Z                                CTP Derived Content   \n\n             availableTo                                               name  \n0                   None                                 research-bulk-prod  \n1                   None       STARMINE_PREDICTIVE_ANALYTICS_SMARTECON_LIVE  \n2   9999-12-30T00:00:00Z                               TestCFSBucketConcept  \n3                   None  STARMINE_PREDICTIVE_ANALYTICS_SMARTECON_POLLS_...  \n4                   None                              Test_CFS_BucketTiming  \n5                   None  STARMINE_PREDICTIVE_ANALYTICS_SYMBOLOGY_DAILY_...  \n6                   None                                      rft-bulk-lseg  \n7                   None        STARMINE_PREDICTIVE_ANALYTICS_MATARGET_EMEA  \n8                   None  STARMINE_PREDICTIVE_ANALYTICS_SYMBOLOGY_HOURLY...  \n9                   None                             daniel_demo_bucket_100  \n10  2038-01-19T03:14:07Z                         TICKHISTORY_VBD_NO_EMBARGO  \n11                  None                                                ESG  \n12                  None  STARMINE_PREDICTIVE_ANALYTICS_SMARTECON_POLLS_...  \n13                  None                           a250269-prod-rdp-reports  \n14                  None  STARMINE_PREDICTIVE_ANALYTICS_SYMBOLOGY_HOURLY...  \n15                  None                                 rft-bulk-dsp-corax  \n16                  None  STARMINE_PREDICTIVE_ANALYTICS_SYMBOLOGY_HOURLY_RP  \n17                  None   STARMINE_PREDICTIVE_ANALYTICS_SMARTECON_POLLS_RP  \n18                  None  STARMINE_PREDICTIVE_ANALYTICS_SYMBOLOGY_DAILY_...  \n19                  None                           a205843-fitca-production  \n20                  None  STARMINE_PREDICTIVE_ANALYTICS_SYMBOLOGY_DAILY_...  \n21                  None            STARMINE_PREDICTIVE_ANALYTICS_ARM_AMERS  \n22                  None                                    linkUp-cfs-test  \n23                  None        STARMINE_PREDICTIVE_ANALYTICS_ARM_SYMBOLOGY  \n24                  None                                        Commodities  ",
      "text/html": "<div>\n<style scoped>\n    .dataframe tbody tr th:only-of-type {\n        vertical-align: middle;\n    }\n\n    .dataframe tbody tr th {\n        vertical-align: top;\n    }\n\n    .dataframe thead th {\n        text-align: right;\n    }\n</style>\n<table border=\"1\" class=\"dataframe\">\n  <thead>\n    <tr style=\"text-align: right;\">\n      <th></th>\n      <th>private</th>\n      <th>publisherName</th>\n      <th>availableFrom</th>\n      <th>restricted</th>\n      <th>modified</th>\n      <th>attributes</th>\n      <th>created</th>\n      <th>description</th>\n      <th>availableTo</th>\n      <th>name</th>\n    </tr>\n  </thead>\n  <tbody>\n    <tr>\n      <th>0</th>\n      <td>False</td>\n      <td>Refinitiv</td>\n      <td>2022-01-08T08:14:07Z</td>\n      <td>False</td>\n      <td>2022-01-08T08:14:07Z</td>\n      <td>None</td>\n      <td>2022-01-08T08:14:07Z</td>\n      <td>Bucket for Research bulk prod</td>\n      <td>None</td>\n      <td>research-bulk-prod</td>\n    </tr>\n    <tr>\n      <th>1</th>\n      <td>False</td>\n      <td>SM_predictive_analytics</td>\n      <td>2020-10-23T12:17:11Z</td>\n      <td>False</td>\n      <td>2020-10-23T12:17:11Z</td>\n      <td>None</td>\n      <td>2020-10-23T12:17:11Z</td>\n      <td>None</td>\n      <td>None</td>\n      <td>STARMINE_PREDICTIVE_ANALYTICS_SMARTECON_LIVE</td>\n    </tr>\n    <tr>\n      <th>2</th>\n      <td>False</td>\n      <td>test</td>\n      <td>2020-06-01T10:45:11Z</td>\n      <td>False</td>\n      <td>2020-09-11T04:53:13Z</td>\n      <td>None</td>\n      <td>2020-05-20T07:47:59Z</td>\n      <td>Test bucket for CFS UI</td>\n      <td>9999-12-30T00:00:00Z</td>\n      <td>TestCFSBucketConcept</td>\n    </tr>\n    <tr>\n      <th>3</th>\n      <td>False</td>\n      <td>SM_predictive_analytics</td>\n      <td>2021-08-27T10:00:00Z</td>\n      <td>False</td>\n      <td>2021-08-27T07:29:56Z</td>\n      <td>None</td>\n      <td>2021-08-27T07:29:56Z</td>\n      <td>None</td>\n      <td>None</td>\n      <td>STARMINE_PREDICTIVE_ANALYTICS_SMARTECON_POLLS_...</td>\n    </tr>\n    <tr>\n      <th>4</th>\n      <td>False</td>\n      <td>test</td>\n      <td>2022-02-01T08:03:31Z</td>\n      <td>False</td>\n      <td>2022-02-01T08:03:31Z</td>\n      <td>[test]</td>\n      <td>2022-01-11T10:32:00Z</td>\n      <td>test</td>\n      <td>None</td>\n      <td>Test_CFS_BucketTiming</td>\n    </tr>\n    <tr>\n      <th>5</th>\n      <td>False</td>\n      <td>SM_predictive_analytics</td>\n      <td>2021-12-09T09:39:25Z</td>\n      <td>False</td>\n      <td>2021-12-09T09:39:25Z</td>\n      <td>None</td>\n      <td>2021-12-09T09:39:25Z</td>\n      <td>Starmine Symbology Daily Research Pack CUSIP a...</td>\n      <td>None</td>\n      <td>STARMINE_PREDICTIVE_ANALYTICS_SYMBOLOGY_DAILY_...</td>\n    </tr>\n    <tr>\n      <th>6</th>\n      <td>False</td>\n      <td>LSEG</td>\n      <td>2021-05-28T10:18:26Z</td>\n      <td>False</td>\n      <td>2021-05-28T10:18:27Z</td>\n      <td>None</td>\n      <td>2021-05-28T10:18:27Z</td>\n      <td>Bulk feeds containing Revenue Synergies data f...</td>\n      <td>None</td>\n      <td>rft-bulk-lseg</td>\n    </tr>\n    <tr>\n      <th>7</th>\n      <td>False</td>\n      <td>SM_predictive_analytics</td>\n      <td>2021-06-18T14:02:41Z</td>\n      <td>False</td>\n      <td>2021-06-18T14:02:41Z</td>\n      <td>None</td>\n      <td>2021-06-18T14:02:41Z</td>\n      <td>Starmine MA Target EMEA files</td>\n      <td>None</td>\n      <td>STARMINE_PREDICTIVE_ANALYTICS_MATARGET_EMEA</td>\n    </tr>\n    <tr>\n      <th>8</th>\n      <td>False</td>\n      <td>SM_predictive_analytics</td>\n      <td>2021-06-07T09:52:55Z</td>\n      <td>False</td>\n      <td>2021-06-07T09:52:55Z</td>\n      <td>None</td>\n      <td>2021-06-07T09:52:55Z</td>\n      <td>starmine predictive analytics symbology hourly...</td>\n      <td>None</td>\n      <td>STARMINE_PREDICTIVE_ANALYTICS_SYMBOLOGY_HOURLY...</td>\n    </tr>\n    <tr>\n      <th>9</th>\n      <td>False</td>\n      <td>Refinitiv</td>\n      <td>2021-10-14T08:35:43Z</td>\n      <td>False</td>\n      <td>2021-10-14T08:35:43Z</td>\n      <td>[DomainName, SubDomainName]</td>\n      <td>2021-10-14T08:35:43Z</td>\n      <td>test</td>\n      <td>None</td>\n      <td>daniel_demo_bucket_100</td>\n    </tr>\n    <tr>\n      <th>10</th>\n      <td>False</td>\n      <td>TickHistory</td>\n      <td>2000-01-01T01:00:00Z</td>\n      <td>False</td>\n      <td>2019-10-03T16:44:24Z</td>\n      <td>[releaseTime, md5, size, message_id, depth, ve...</td>\n      <td>2019-06-18T09:48:14Z</td>\n      <td>None</td>\n      <td>2038-01-19T03:14:07Z</td>\n      <td>TICKHISTORY_VBD_NO_EMBARGO</td>\n    </tr>\n    <tr>\n      <th>11</th>\n      <td>False</td>\n      <td>ESG</td>\n      <td>2020-08-18T08:49:02Z</td>\n      <td>False</td>\n      <td>2020-08-18T08:49:02Z</td>\n      <td>[ResultCount, ContentType]</td>\n      <td>2020-08-18T08:49:02Z</td>\n      <td>Bulk feeds containing ESG data</td>\n      <td>None</td>\n      <td>ESG</td>\n    </tr>\n    <tr>\n      <th>12</th>\n      <td>False</td>\n      <td>SM_predictive_analytics</td>\n      <td>2021-08-27T10:00:00Z</td>\n      <td>False</td>\n      <td>2021-08-27T07:29:56Z</td>\n      <td>None</td>\n      <td>2021-08-27T07:29:56Z</td>\n      <td>None</td>\n      <td>None</td>\n      <td>STARMINE_PREDICTIVE_ANALYTICS_SMARTECON_POLLS_...</td>\n    </tr>\n    <tr>\n      <th>13</th>\n      <td>False</td>\n      <td>GE-4459</td>\n      <td>2021-06-11T15:13:13Z</td>\n      <td>False</td>\n      <td>2021-06-11T15:13:13Z</td>\n      <td>None</td>\n      <td>2021-06-11T15:13:13Z</td>\n      <td>RDP Usage Reporting API</td>\n      <td>None</td>\n      <td>a250269-prod-rdp-reports</td>\n    </tr>\n    <tr>\n      <th>14</th>\n      <td>False</td>\n      <td>SM_predictive_analytics</td>\n      <td>2021-06-07T09:52:56Z</td>\n      <td>False</td>\n      <td>2021-06-07T09:52:56Z</td>\n      <td>None</td>\n      <td>2021-06-07T09:52:56Z</td>\n      <td>starmine predictive analytics symbology hourly...</td>\n      <td>None</td>\n      <td>STARMINE_PREDICTIVE_ANALYTICS_SYMBOLOGY_HOURLY...</td>\n    </tr>\n    <tr>\n      <th>15</th>\n      <td>False</td>\n      <td>DSP</td>\n      <td>2021-04-06T10:29:20Z</td>\n      <td>False</td>\n      <td>2021-04-06T10:29:20Z</td>\n      <td>[ContentType, ResultCount]</td>\n      <td>2021-04-06T10:29:20Z</td>\n      <td>Bulk feeds containing DSP data</td>\n      <td>None</td>\n      <td>rft-bulk-dsp-corax</td>\n    </tr>\n    <tr>\n      <th>16</th>\n      <td>False</td>\n      <td>SM_predictive_analytics</td>\n      <td>2020-07-15T10:08:11Z</td>\n      <td>False</td>\n      <td>2020-07-15T10:08:11Z</td>\n      <td>None</td>\n      <td>2020-07-15T10:08:11Z</td>\n      <td>None</td>\n      <td>None</td>\n      <td>STARMINE_PREDICTIVE_ANALYTICS_SYMBOLOGY_HOURLY_RP</td>\n    </tr>\n    <tr>\n      <th>17</th>\n      <td>False</td>\n      <td>SM_predictive_analytics</td>\n      <td>2021-08-27T10:00:00Z</td>\n      <td>False</td>\n      <td>2021-08-27T07:29:57Z</td>\n      <td>None</td>\n      <td>2021-08-27T07:29:57Z</td>\n      <td>None</td>\n      <td>None</td>\n      <td>STARMINE_PREDICTIVE_ANALYTICS_SMARTECON_POLLS_RP</td>\n    </tr>\n    <tr>\n      <th>18</th>\n      <td>False</td>\n      <td>SM_predictive_analytics</td>\n      <td>2021-06-07T09:52:56Z</td>\n      <td>False</td>\n      <td>2021-06-07T09:52:56Z</td>\n      <td>None</td>\n      <td>2021-06-07T09:52:56Z</td>\n      <td>starmine predictive analytics symbology daily ...</td>\n      <td>None</td>\n      <td>STARMINE_PREDICTIVE_ANALYTICS_SYMBOLOGY_DAILY_...</td>\n    </tr>\n    <tr>\n      <th>19</th>\n      <td>False</td>\n      <td>Refinitiv</td>\n      <td>2019-10-18T07:57:30Z</td>\n      <td>False</td>\n      <td>2019-10-18T07:57:30Z</td>\n      <td>[product, fitca_jobid]</td>\n      <td>2019-10-18T07:57:30Z</td>\n      <td>None</td>\n      <td>None</td>\n      <td>a205843-fitca-production</td>\n    </tr>\n    <tr>\n      <th>20</th>\n      <td>False</td>\n      <td>SM_predictive_analytics</td>\n      <td>2021-06-07T09:52:55Z</td>\n      <td>False</td>\n      <td>2021-06-07T09:52:55Z</td>\n      <td>None</td>\n      <td>2021-06-07T09:52:55Z</td>\n      <td>starmine predictive analytics symbology daily ...</td>\n      <td>None</td>\n      <td>STARMINE_PREDICTIVE_ANALYTICS_SYMBOLOGY_DAILY_...</td>\n    </tr>\n    <tr>\n      <th>21</th>\n      <td>False</td>\n      <td>SM_predictive_analytics</td>\n      <td>2020-02-10T18:10:38Z</td>\n      <td>False</td>\n      <td>2020-02-10T18:10:38Z</td>\n      <td>None</td>\n      <td>2020-02-10T18:10:38Z</td>\n      <td>None</td>\n      <td>None</td>\n      <td>STARMINE_PREDICTIVE_ANALYTICS_ARM_AMERS</td>\n    </tr>\n    <tr>\n      <th>22</th>\n      <td>False</td>\n      <td>BattleFin Link up</td>\n      <td>2020-04-03T03:00:44Z</td>\n      <td>False</td>\n      <td>2020-04-10T03:00:17Z</td>\n      <td>None</td>\n      <td>2020-04-03T03:00:44Z</td>\n      <td>None</td>\n      <td>None</td>\n      <td>linkUp-cfs-test</td>\n    </tr>\n    <tr>\n      <th>23</th>\n      <td>False</td>\n      <td>SM_predictive_analytics</td>\n      <td>2020-03-04T12:00:00Z</td>\n      <td>False</td>\n      <td>2020-03-04T09:44:29Z</td>\n      <td>None</td>\n      <td>2020-03-04T09:44:29Z</td>\n      <td>None</td>\n      <td>None</td>\n      <td>STARMINE_PREDICTIVE_ANALYTICS_ARM_SYMBOLOGY</td>\n    </tr>\n    <tr>\n      <th>24</th>\n      <td>False</td>\n      <td>CTP Derived Content</td>\n      <td>2021-01-26T10:07:42Z</td>\n      <td>False</td>\n      <td>2021-01-26T10:07:42Z</td>\n      <td>None</td>\n      <td>2021-01-26T10:07:42Z</td>\n      <td>CTP Derived Content</td>\n      <td>None</td>\n      <td>Commodities</td>\n    </tr>\n  </tbody>\n</table>\n</div>"
     },
     "execution_count": 22,
     "metadata": {},
     "output_type": "execute_result"
    }
   ],
   "source": [
    "response = cfs.buckets.Definition().get_data()\n",
    "response.data.df"
   ]
  },
  {
   "cell_type": "markdown",
   "metadata": {},
   "source": [
    "#### Get buckets by name"
   ]
  },
  {
   "cell_type": "code",
   "execution_count": 23,
   "metadata": {
    "tags": []
   },
   "outputs": [
    {
     "data": {
      "text/plain": "   private             publisherName         availableFrom  restricted  \\\n0    False                       ESG  2020-08-18T08:49:02Z       False   \n1    False                       ESG  2021-06-15T15:24:09Z       False   \n2    False  edpbulkdev@refinitiv.com  2021-11-14T10:30:05Z       False   \n\n               modified                  attributes               created  \\\n0  2020-08-18T08:49:02Z  [ResultCount, ContentType]  2020-08-18T08:49:02Z   \n1  2021-06-15T15:24:09Z  [ResultCount, ContentType]  2021-06-15T15:24:09Z   \n2  2021-11-14T10:30:05Z  [ContentType, ResultCount]  2021-11-14T10:30:05Z   \n\n                                     description          name  \n0                 Bulk feeds containing ESG data           ESG  \n1                 Bulk feeds containing ESG data  rft-bulk-esg  \n2  CFS bucket created automatically in bulk core      bulk-ESG  ",
      "text/html": "<div>\n<style scoped>\n    .dataframe tbody tr th:only-of-type {\n        vertical-align: middle;\n    }\n\n    .dataframe tbody tr th {\n        vertical-align: top;\n    }\n\n    .dataframe thead th {\n        text-align: right;\n    }\n</style>\n<table border=\"1\" class=\"dataframe\">\n  <thead>\n    <tr style=\"text-align: right;\">\n      <th></th>\n      <th>private</th>\n      <th>publisherName</th>\n      <th>availableFrom</th>\n      <th>restricted</th>\n      <th>modified</th>\n      <th>attributes</th>\n      <th>created</th>\n      <th>description</th>\n      <th>name</th>\n    </tr>\n  </thead>\n  <tbody>\n    <tr>\n      <th>0</th>\n      <td>False</td>\n      <td>ESG</td>\n      <td>2020-08-18T08:49:02Z</td>\n      <td>False</td>\n      <td>2020-08-18T08:49:02Z</td>\n      <td>[ResultCount, ContentType]</td>\n      <td>2020-08-18T08:49:02Z</td>\n      <td>Bulk feeds containing ESG data</td>\n      <td>ESG</td>\n    </tr>\n    <tr>\n      <th>1</th>\n      <td>False</td>\n      <td>ESG</td>\n      <td>2021-06-15T15:24:09Z</td>\n      <td>False</td>\n      <td>2021-06-15T15:24:09Z</td>\n      <td>[ResultCount, ContentType]</td>\n      <td>2021-06-15T15:24:09Z</td>\n      <td>Bulk feeds containing ESG data</td>\n      <td>rft-bulk-esg</td>\n    </tr>\n    <tr>\n      <th>2</th>\n      <td>False</td>\n      <td>edpbulkdev@refinitiv.com</td>\n      <td>2021-11-14T10:30:05Z</td>\n      <td>False</td>\n      <td>2021-11-14T10:30:05Z</td>\n      <td>[ContentType, ResultCount]</td>\n      <td>2021-11-14T10:30:05Z</td>\n      <td>CFS bucket created automatically in bulk core</td>\n      <td>bulk-ESG</td>\n    </tr>\n  </tbody>\n</table>\n</div>"
     },
     "execution_count": 23,
     "metadata": {},
     "output_type": "execute_result"
    }
   ],
   "source": [
    "response = cfs.buckets.Definition('esg').get_data()\n",
    "response.data.df"
   ]
  },
  {
   "cell_type": "markdown",
   "metadata": {},
   "source": [
    "#### Iterate buckets"
   ]
  },
  {
   "cell_type": "code",
   "execution_count": 24,
   "metadata": {},
   "outputs": [],
   "source": [
    "response = cfs.buckets.Definition('esg').get_data()\n",
    "\n",
    "for bucket in response.data.buckets:\n",
    "    print(bucket)\n",
    "    for fileset in bucket:\n",
    "        print(\"\\t\", fileset)\n",
    "        for file in fileset:\n",
    "            print(\"\\t\\t\", file)\n"
   ]
  },
  {
   "cell_type": "markdown",
   "metadata": {},
   "source": [
    "### FileSets"
   ]
  },
  {
   "cell_type": "markdown",
   "metadata": {},
   "source": [
    "#### Get FileSets of a bucket"
   ]
  },
  {
   "cell_type": "code",
   "execution_count": 25,
   "metadata": {},
   "outputs": [
    {
     "data": {
      "text/plain": "           availableFrom bucketName                             packageId  \\\n0   2022-04-24T17:43:06Z        ESG  4cbb-e27e-318835e3-bad7-dee7a0ebc3b0   \n1   2022-04-24T16:19:55Z        ESG  4b6c-def9-dd1c991c-8535-6f9a61df9fc8   \n2   2022-04-24T16:15:21Z        ESG  4b6c-def9-dd1c991c-8535-6f9a61df9fc8   \n3   2022-04-17T16:44:08Z        ESG  4f77-627a-c467ff19-9a21-8028baeeb2f4   \n4   2022-04-10T17:43:22Z        ESG  4cbb-e27e-318835e3-bad7-dee7a0ebc3b0   \n5   2022-04-10T17:33:33Z        ESG  4c62-b05c-2a529a9d-81b3-224eacd50379   \n6   2022-04-24T17:12:28Z        ESG  4157-5865-69f2417d-8b77-21a75f7f12ad   \n7   2022-04-17T16:53:38Z        ESG  4308-bc80-2054dc20-83db-6224911311d0   \n8   2022-04-21T10:47:55Z        ESG  4b75-7bb9-7e73ca6a-b61e-855c6335a6b6   \n9   2022-04-24T17:33:23Z        ESG  4c62-b05c-2a529a9d-81b3-224eacd50379   \n10  2022-04-24T17:43:10Z        ESG  4cbb-e27e-318835e3-bad7-dee7a0ebc3b0   \n11  2022-04-17T17:33:07Z        ESG  4c62-b05c-2a529a9d-81b3-224eacd50379   \n12  2022-04-10T17:22:43Z        ESG  4bcc-4602-0a57ebb2-baf0-1fc9825e76b6   \n13  2022-04-17T17:53:39Z        ESG  4c3a-aca4-0cc88a33-b599-9647b1fb65ac   \n14  2022-04-10T17:12:16Z        ESG  4157-5865-69f2417d-8b77-21a75f7f12ad   \n15  2022-04-24T17:22:51Z        ESG  4bcc-4602-0a57ebb2-baf0-1fc9825e76b6   \n16  2022-04-17T17:44:18Z        ESG  4cbb-e27e-318835e3-bad7-dee7a0ebc3b0   \n17  2022-04-24T17:44:24Z        ESG  4cbb-e27e-318835e3-bad7-dee7a0ebc3b0   \n18  2022-03-31T10:33:37Z        ESG  48f0-8bdd-28d8432a-aae3-928067b0f64e   \n19  2022-03-27T17:42:58Z        ESG  4cbb-e27e-318835e3-bad7-dee7a0ebc3b0   \n20  2022-04-24T16:05:20Z        ESG  4e6a-ca79-af368ff5-931d-d2781b1cdb85   \n21  2022-04-24T17:23:07Z        ESG  4bcc-4602-0a57ebb2-baf0-1fc9825e76b6   \n22  2022-03-27T17:22:37Z        ESG  4bcc-4602-0a57ebb2-baf0-1fc9825e76b6   \n23  2022-04-17T17:12:40Z        ESG  4157-5865-69f2417d-8b77-21a75f7f12ad   \n24  2022-04-03T17:53:00Z        ESG  4c3a-aca4-0cc88a33-b599-9647b1fb65ac   \n\n                modified                                    id  \\\n0   2022-04-24T17:44:38Z  401c-77c6-5138c5dc-bcd2-574dc57149fe   \n1   2022-04-24T16:23:03Z  401f-e870-2a782517-bf69-a887c7894fb9   \n2   2022-04-24T16:23:02Z  402c-936d-fa331586-80d2-93364d4ee733   \n3   2022-04-17T16:44:22Z  402f-be0c-b6e80b7a-8da7-e653c2ac8a81   \n4   2022-04-10T17:43:47Z  4041-e5b8-092489da-a61c-4b22b9678691   \n5   2022-04-10T17:34:05Z  4048-2385-9f32da98-910b-a78aba5b8a80   \n6   2022-04-24T17:12:32Z  40ff-8971-2ed23ff1-b760-8707418aa010   \n7   2022-04-17T16:53:43Z  4152-cb80-36301124-bafa-ace196e2f6d4   \n8   2022-04-21T10:48:03Z  41de-6520-76cf0a2a-892c-b99eb9329a6d   \n9   2022-04-24T17:33:55Z  41e3-e4c1-cae2600b-b8ca-0566e9cb9215   \n10  2022-04-24T17:44:54Z  421b-ca99-6b8b0b3e-b154-0cf3bb876d9d   \n11  2022-04-17T17:33:42Z  421d-62f2-6799470f-b6e3-2b3b32e0ef31   \n12  2022-04-10T17:22:49Z  4233-2ab4-839f956f-9d7f-64d836c864b9   \n13  2022-04-17T17:54:44Z  424d-ac72-b82a3e97-a56e-d4485260808f   \n14  2022-04-10T17:12:20Z  424e-af0f-4ee9982c-8e14-74c1ad6cecf0   \n15  2022-04-24T17:22:57Z  42b6-0938-e939678c-8774-447bcd407bf0   \n16  2022-04-17T17:44:46Z  4312-9683-c30af41f-985b-51bf694a84ba   \n17  2022-04-24T17:44:55Z  431a-5c3f-75fbf548-852b-fcb4319a78ec   \n18  2022-03-31T10:33:40Z  43d3-ed57-d5cf7f5c-a32a-491aae1ea697   \n19  2022-03-27T17:44:29Z  440a-2de5-108f5816-8527-b3f5a174d13a   \n20  2022-04-24T16:07:03Z  4429-c004-bcb42c69-80a5-24ec3a6be07f   \n21  2022-04-24T17:23:13Z  443b-fb14-579a962b-97e2-dc93ed9aa96b   \n22  2022-03-27T17:22:44Z  4445-e0e0-12d2b35b-aae3-e57e37d80a19   \n23  2022-04-17T17:12:44Z  4474-23d1-7d15d4fe-a26c-6630856065f5   \n24  2022-04-03T17:53:59Z  449d-5694-346a2a5f-9c99-38813f8c43e1   \n\n                                                files  numFiles  \\\n0              [4b17-870f-a540b6ca-b09e-7f700b3a449f]         1   \n1   [4414-c8a4-c919cc5e-9c72-1d8e158750e2, 47b7-52...         3   \n2   [4430-82fb-fbcc624c-93a2-980077c13ec8, 47e4-77...         2   \n3              [48d1-9c8c-07785108-a790-c8ad9e356133]         1   \n4              [4032-7a75-27f2f8d9-9e3c-ddb565d5987e]         1   \n5              [4d52-4465-45b25d23-9f60-4171ddb4c130]         1   \n6              [44f0-bf5c-322803cf-a1bc-9ee753e11c27]         1   \n7              [4d6c-5178-6ef5c944-9dd9-417ac7fc5bd5]         1   \n8              [4092-3fb8-250843ec-aa3e-bf136f276f49]         1   \n9              [4acf-25d9-63534ec9-aa9c-b8df74e1c844]         1   \n10             [472e-cf52-be39ba2e-b99d-b2b10dd3caa9]         1   \n11             [48c7-cd96-8b1db913-bdab-49614ff17a44]         1   \n12             [480b-3ef0-d2dd680e-be89-dfdbca4cbfa9]         1   \n13  [4339-c3c8-ade98aa7-b6a9-92d799a4857c, 451c-57...         3   \n14             [4837-2b0f-fc94f5ce-aaae-1dd2979cdff0]         1   \n15             [4736-2f4e-8f285b77-8c36-64a26ebd5769]         1   \n16             [48c9-da62-aee4ad4e-90e7-70e0f163608b]         1   \n17             [4903-2dfa-a0b676a9-a4ee-7c819f481152]         1   \n18             [4d98-90eb-23213387-a968-10d40d349e78]         1   \n19             [41bd-2fdb-3ca38799-8a75-69bdb888ffd5]         1   \n20  [4424-9000-ee8c34dd-a668-fb1e80c3fbee, 49ad-51...         3   \n21             [4b37-6f39-c4a2202a-8bd5-d9e35c78ed84]         1   \n22             [4b54-e5e7-5e1037de-9112-0dd69f04d4c9]         1   \n23             [406b-15d0-339ebe78-ab38-b56cfd7ae8f2]         1   \n24  [428a-a405-5d2d165f-9c05-80dc2f3308ed, 48e0-07...         2   \n\n                                           attributes           contentFrom  \\\n0   [{'name': 'ResultCount', 'value': '10886'}, {'...  2022-04-17T17:35:00Z   \n1   [{'name': 'ContentType', 'value': 'ESG Raw Ful...  1970-01-01T00:00:00Z   \n2   [{'name': 'ResultCount', 'value': '110470'}, {...  1970-01-01T00:00:00Z   \n3   [{'name': 'ResultCount', 'value': '89610'}, {'...  1970-01-01T00:00:00Z   \n4   [{'name': 'ResultCount', 'value': '10854'}, {'...  2022-04-03T17:35:00Z   \n5   [{'name': 'ResultCount', 'value': '10854'}, {'...  2022-04-03T17:25:00Z   \n6   [{'name': 'ResultCount', 'value': '12294'}, {'...  1970-01-01T00:00:00Z   \n7   [{'name': 'ContentType', 'value': 'ESG Sources...  2022-04-10T16:45:00Z   \n8   [{'name': 'ContentType', 'value': 'Symbology S...  1970-01-01T00:00:00Z   \n9   [{'name': 'ContentType', 'value': 'ESG Raw Cur...  2022-04-17T17:25:00Z   \n10  [{'name': 'ContentType', 'value': 'ESG Raw Cur...  1970-01-01T00:00:00Z   \n11  [{'name': 'ContentType', 'value': 'ESG Raw Cur...  1970-01-01T00:00:00Z   \n12  [{'name': 'ResultCount', 'value': '28341'}, {'...  2022-04-03T17:15:00Z   \n13  [{'name': 'ContentType', 'value': 'ESG Raw Wea...  1970-01-01T00:00:00Z   \n14  [{'name': 'ContentType', 'value': 'ESG Scores'...  1970-01-01T00:00:00Z   \n15  [{'name': 'ResultCount', 'value': '33016'}, {'...  1970-01-01T00:00:00Z   \n16  [{'name': 'ContentType', 'value': 'ESG Raw Cur...  1970-01-01T00:00:00Z   \n17  [{'name': 'ContentType', 'value': 'ESG Raw Cur...  1970-01-01T00:00:00Z   \n18  [{'name': 'ContentType', 'value': 'Symbology I...  1970-01-01T00:00:00Z   \n19  [{'name': 'ResultCount', 'value': '10810'}, {'...  2022-03-20T17:35:00Z   \n20  [{'name': 'ResultCount', 'value': '42860'}, {'...  2022-04-17T15:55:00Z   \n21  [{'name': 'ContentType', 'value': 'ESG Scores'...  2022-04-17T17:15:00Z   \n22  [{'name': 'ResultCount', 'value': '32763'}, {'...  1970-01-01T00:00:00Z   \n23  [{'name': 'ResultCount', 'value': '10871'}, {'...  2022-04-10T17:05:00Z   \n24  [{'name': 'ResultCount', 'value': '28272'}, {'...  2022-03-27T17:45:00Z   \n\n               contentTo           availableTo  \\\n0   2022-04-24T17:35:00Z  2022-05-24T17:43:06Z   \n1   2022-04-24T16:05:00Z  2022-05-08T16:19:55Z   \n2   2022-04-24T16:05:00Z  2022-05-08T16:15:20Z   \n3   2022-04-17T16:35:00Z  2022-05-01T16:44:08Z   \n4   2022-04-10T17:35:00Z  2022-05-10T17:43:22Z   \n5   2022-04-10T17:25:00Z  2022-05-10T17:33:33Z   \n6   2022-04-24T17:05:00Z  2022-05-24T17:12:28Z   \n7   2022-04-17T16:45:00Z  2022-05-01T16:53:38Z   \n8   2022-04-21T10:30:00Z  2022-05-05T10:47:55Z   \n9   2022-04-24T17:25:00Z  2022-05-24T17:33:23Z   \n10  2022-04-24T17:35:00Z  2022-05-24T17:43:10Z   \n11  2022-04-17T17:25:00Z  2022-05-17T17:33:06Z   \n12  2022-04-10T17:15:00Z  2022-05-10T17:22:43Z   \n13  2022-04-17T17:45:00Z  2022-05-17T17:53:39Z   \n14  2022-04-10T17:05:00Z  2022-05-10T17:12:16Z   \n15  2022-04-24T17:15:00Z  2022-05-24T17:22:51Z   \n16  2022-04-17T17:35:00Z  2022-05-17T17:44:18Z   \n17  2022-04-24T17:35:00Z  2022-05-24T17:44:23Z   \n18  2022-03-31T10:25:00Z  2022-04-30T10:33:37Z   \n19  2022-03-27T17:35:00Z  2022-04-27T17:42:58Z   \n20  2022-04-24T15:55:00Z  2022-05-08T16:05:20Z   \n21  2022-04-24T17:15:00Z  2022-05-24T17:23:07Z   \n22  2022-03-27T17:15:00Z  2022-04-27T17:22:37Z   \n23  2022-04-17T17:05:00Z  2022-05-17T17:12:40Z   \n24  2022-04-03T17:45:00Z  2022-05-03T17:52:59Z   \n\n                                                 name status  \\\n0   RFT-ESG-Raw-Current-SchemeB-Social-Delta-2022-...  READY   \n1        RFT-ESG-Raw-Full-SchemeB-Env-Init-2022-04-24  READY   \n2     RFT-ESG-Raw-Full-SchemeB-Social-Init-2022-04-24  READY   \n3          RFT-ESG-Scores-Wealth-Full-Init-2022-04-17  READY   \n4    RFT-ESG-Raw-Current-SchemeB-Env-Delta-2022-04-10  READY   \n5        RFT-ESG-Raw-Current-SchemeA-Delta-2022-04-10  READY   \n6              RFT-ESG-Scores-Current-init-2022-04-24  READY   \n7               RFT-ESG-Sources-Full-Delta-2022-04-17  READY   \n8             RFT-ESG-Symbology-SEDOL-Init-2022-04-21  READY   \n9        RFT-ESG-Raw-Current-SchemeA-Delta-2022-04-24  READY   \n10  RFT-ESG-Raw-Current-SchemeB-Social-Init-2022-0...  READY   \n11        RFT-ESG-Raw-Current-SchemeA-init-2022-04-17  READY   \n12    RFT-ESG-Scores-Wealth-Standard-delta-2022-04-10  READY   \n13        RFT-ESG-Raw-Wealth-Standard-init-2022-04-17  READY   \n14             RFT-ESG-Scores-Current-init-2022-04-10  READY   \n15     RFT-ESG-Scores-Wealth-Standard-init-2022-04-24  READY   \n16    RFT-ESG-Raw-Current-SchemeB-Env-Init-2022-04-17  READY   \n17    RFT-ESG-Raw-Current-SchemeB-Env-Init-2022-04-24  READY   \n18             RFT-ESG-Symbology-ISIN-Init-2022-03-31  READY   \n19  RFT-ESG-Raw-Current-SchemeB-Social-Delta-2022-...  READY   \n20          RFT-ESG-Raw-Full-SchemeA-Delta-2022-04-24  READY   \n21    RFT-ESG-Scores-Wealth-Standard-delta-2022-04-24  READY   \n22     RFT-ESG-Scores-Wealth-Standard-init-2022-03-27  READY   \n23            RFT-ESG-Scores-Current-delta-2022-04-17  READY   \n24       RFT-ESG-Raw-Wealth-Standard-delta-2022-04-03  READY   \n\n                 created  \n0   2022-04-24T17:43:06Z  \n1   2022-04-24T16:19:55Z  \n2   2022-04-24T16:15:21Z  \n3   2022-04-17T16:44:08Z  \n4   2022-04-10T17:43:22Z  \n5   2022-04-10T17:33:33Z  \n6   2022-04-24T17:12:28Z  \n7   2022-04-17T16:53:38Z  \n8   2022-04-21T10:47:55Z  \n9   2022-04-24T17:33:23Z  \n10  2022-04-24T17:43:10Z  \n11  2022-04-17T17:33:07Z  \n12  2022-04-10T17:22:43Z  \n13  2022-04-17T17:53:39Z  \n14  2022-04-10T17:12:16Z  \n15  2022-04-24T17:22:51Z  \n16  2022-04-17T17:44:18Z  \n17  2022-04-24T17:44:24Z  \n18  2022-03-31T10:33:37Z  \n19  2022-03-27T17:42:58Z  \n20  2022-04-24T16:05:21Z  \n21  2022-04-24T17:23:07Z  \n22  2022-03-27T17:22:37Z  \n23  2022-04-17T17:12:40Z  \n24  2022-04-03T17:53:00Z  ",
      "text/html": "<div>\n<style scoped>\n    .dataframe tbody tr th:only-of-type {\n        vertical-align: middle;\n    }\n\n    .dataframe tbody tr th {\n        vertical-align: top;\n    }\n\n    .dataframe thead th {\n        text-align: right;\n    }\n</style>\n<table border=\"1\" class=\"dataframe\">\n  <thead>\n    <tr style=\"text-align: right;\">\n      <th></th>\n      <th>availableFrom</th>\n      <th>bucketName</th>\n      <th>packageId</th>\n      <th>modified</th>\n      <th>id</th>\n      <th>files</th>\n      <th>numFiles</th>\n      <th>attributes</th>\n      <th>contentFrom</th>\n      <th>contentTo</th>\n      <th>availableTo</th>\n      <th>name</th>\n      <th>status</th>\n      <th>created</th>\n    </tr>\n  </thead>\n  <tbody>\n    <tr>\n      <th>0</th>\n      <td>2022-04-24T17:43:06Z</td>\n      <td>ESG</td>\n      <td>4cbb-e27e-318835e3-bad7-dee7a0ebc3b0</td>\n      <td>2022-04-24T17:44:38Z</td>\n      <td>401c-77c6-5138c5dc-bcd2-574dc57149fe</td>\n      <td>[4b17-870f-a540b6ca-b09e-7f700b3a449f]</td>\n      <td>1</td>\n      <td>[{'name': 'ResultCount', 'value': '10886'}, {'...</td>\n      <td>2022-04-17T17:35:00Z</td>\n      <td>2022-04-24T17:35:00Z</td>\n      <td>2022-05-24T17:43:06Z</td>\n      <td>RFT-ESG-Raw-Current-SchemeB-Social-Delta-2022-...</td>\n      <td>READY</td>\n      <td>2022-04-24T17:43:06Z</td>\n    </tr>\n    <tr>\n      <th>1</th>\n      <td>2022-04-24T16:19:55Z</td>\n      <td>ESG</td>\n      <td>4b6c-def9-dd1c991c-8535-6f9a61df9fc8</td>\n      <td>2022-04-24T16:23:03Z</td>\n      <td>401f-e870-2a782517-bf69-a887c7894fb9</td>\n      <td>[4414-c8a4-c919cc5e-9c72-1d8e158750e2, 47b7-52...</td>\n      <td>3</td>\n      <td>[{'name': 'ContentType', 'value': 'ESG Raw Ful...</td>\n      <td>1970-01-01T00:00:00Z</td>\n      <td>2022-04-24T16:05:00Z</td>\n      <td>2022-05-08T16:19:55Z</td>\n      <td>RFT-ESG-Raw-Full-SchemeB-Env-Init-2022-04-24</td>\n      <td>READY</td>\n      <td>2022-04-24T16:19:55Z</td>\n    </tr>\n    <tr>\n      <th>2</th>\n      <td>2022-04-24T16:15:21Z</td>\n      <td>ESG</td>\n      <td>4b6c-def9-dd1c991c-8535-6f9a61df9fc8</td>\n      <td>2022-04-24T16:23:02Z</td>\n      <td>402c-936d-fa331586-80d2-93364d4ee733</td>\n      <td>[4430-82fb-fbcc624c-93a2-980077c13ec8, 47e4-77...</td>\n      <td>2</td>\n      <td>[{'name': 'ResultCount', 'value': '110470'}, {...</td>\n      <td>1970-01-01T00:00:00Z</td>\n      <td>2022-04-24T16:05:00Z</td>\n      <td>2022-05-08T16:15:20Z</td>\n      <td>RFT-ESG-Raw-Full-SchemeB-Social-Init-2022-04-24</td>\n      <td>READY</td>\n      <td>2022-04-24T16:15:21Z</td>\n    </tr>\n    <tr>\n      <th>3</th>\n      <td>2022-04-17T16:44:08Z</td>\n      <td>ESG</td>\n      <td>4f77-627a-c467ff19-9a21-8028baeeb2f4</td>\n      <td>2022-04-17T16:44:22Z</td>\n      <td>402f-be0c-b6e80b7a-8da7-e653c2ac8a81</td>\n      <td>[48d1-9c8c-07785108-a790-c8ad9e356133]</td>\n      <td>1</td>\n      <td>[{'name': 'ResultCount', 'value': '89610'}, {'...</td>\n      <td>1970-01-01T00:00:00Z</td>\n      <td>2022-04-17T16:35:00Z</td>\n      <td>2022-05-01T16:44:08Z</td>\n      <td>RFT-ESG-Scores-Wealth-Full-Init-2022-04-17</td>\n      <td>READY</td>\n      <td>2022-04-17T16:44:08Z</td>\n    </tr>\n    <tr>\n      <th>4</th>\n      <td>2022-04-10T17:43:22Z</td>\n      <td>ESG</td>\n      <td>4cbb-e27e-318835e3-bad7-dee7a0ebc3b0</td>\n      <td>2022-04-10T17:43:47Z</td>\n      <td>4041-e5b8-092489da-a61c-4b22b9678691</td>\n      <td>[4032-7a75-27f2f8d9-9e3c-ddb565d5987e]</td>\n      <td>1</td>\n      <td>[{'name': 'ResultCount', 'value': '10854'}, {'...</td>\n      <td>2022-04-03T17:35:00Z</td>\n      <td>2022-04-10T17:35:00Z</td>\n      <td>2022-05-10T17:43:22Z</td>\n      <td>RFT-ESG-Raw-Current-SchemeB-Env-Delta-2022-04-10</td>\n      <td>READY</td>\n      <td>2022-04-10T17:43:22Z</td>\n    </tr>\n    <tr>\n      <th>5</th>\n      <td>2022-04-10T17:33:33Z</td>\n      <td>ESG</td>\n      <td>4c62-b05c-2a529a9d-81b3-224eacd50379</td>\n      <td>2022-04-10T17:34:05Z</td>\n      <td>4048-2385-9f32da98-910b-a78aba5b8a80</td>\n      <td>[4d52-4465-45b25d23-9f60-4171ddb4c130]</td>\n      <td>1</td>\n      <td>[{'name': 'ResultCount', 'value': '10854'}, {'...</td>\n      <td>2022-04-03T17:25:00Z</td>\n      <td>2022-04-10T17:25:00Z</td>\n      <td>2022-05-10T17:33:33Z</td>\n      <td>RFT-ESG-Raw-Current-SchemeA-Delta-2022-04-10</td>\n      <td>READY</td>\n      <td>2022-04-10T17:33:33Z</td>\n    </tr>\n    <tr>\n      <th>6</th>\n      <td>2022-04-24T17:12:28Z</td>\n      <td>ESG</td>\n      <td>4157-5865-69f2417d-8b77-21a75f7f12ad</td>\n      <td>2022-04-24T17:12:32Z</td>\n      <td>40ff-8971-2ed23ff1-b760-8707418aa010</td>\n      <td>[44f0-bf5c-322803cf-a1bc-9ee753e11c27]</td>\n      <td>1</td>\n      <td>[{'name': 'ResultCount', 'value': '12294'}, {'...</td>\n      <td>1970-01-01T00:00:00Z</td>\n      <td>2022-04-24T17:05:00Z</td>\n      <td>2022-05-24T17:12:28Z</td>\n      <td>RFT-ESG-Scores-Current-init-2022-04-24</td>\n      <td>READY</td>\n      <td>2022-04-24T17:12:28Z</td>\n    </tr>\n    <tr>\n      <th>7</th>\n      <td>2022-04-17T16:53:38Z</td>\n      <td>ESG</td>\n      <td>4308-bc80-2054dc20-83db-6224911311d0</td>\n      <td>2022-04-17T16:53:43Z</td>\n      <td>4152-cb80-36301124-bafa-ace196e2f6d4</td>\n      <td>[4d6c-5178-6ef5c944-9dd9-417ac7fc5bd5]</td>\n      <td>1</td>\n      <td>[{'name': 'ContentType', 'value': 'ESG Sources...</td>\n      <td>2022-04-10T16:45:00Z</td>\n      <td>2022-04-17T16:45:00Z</td>\n      <td>2022-05-01T16:53:38Z</td>\n      <td>RFT-ESG-Sources-Full-Delta-2022-04-17</td>\n      <td>READY</td>\n      <td>2022-04-17T16:53:38Z</td>\n    </tr>\n    <tr>\n      <th>8</th>\n      <td>2022-04-21T10:47:55Z</td>\n      <td>ESG</td>\n      <td>4b75-7bb9-7e73ca6a-b61e-855c6335a6b6</td>\n      <td>2022-04-21T10:48:03Z</td>\n      <td>41de-6520-76cf0a2a-892c-b99eb9329a6d</td>\n      <td>[4092-3fb8-250843ec-aa3e-bf136f276f49]</td>\n      <td>1</td>\n      <td>[{'name': 'ContentType', 'value': 'Symbology S...</td>\n      <td>1970-01-01T00:00:00Z</td>\n      <td>2022-04-21T10:30:00Z</td>\n      <td>2022-05-05T10:47:55Z</td>\n      <td>RFT-ESG-Symbology-SEDOL-Init-2022-04-21</td>\n      <td>READY</td>\n      <td>2022-04-21T10:47:55Z</td>\n    </tr>\n    <tr>\n      <th>9</th>\n      <td>2022-04-24T17:33:23Z</td>\n      <td>ESG</td>\n      <td>4c62-b05c-2a529a9d-81b3-224eacd50379</td>\n      <td>2022-04-24T17:33:55Z</td>\n      <td>41e3-e4c1-cae2600b-b8ca-0566e9cb9215</td>\n      <td>[4acf-25d9-63534ec9-aa9c-b8df74e1c844]</td>\n      <td>1</td>\n      <td>[{'name': 'ContentType', 'value': 'ESG Raw Cur...</td>\n      <td>2022-04-17T17:25:00Z</td>\n      <td>2022-04-24T17:25:00Z</td>\n      <td>2022-05-24T17:33:23Z</td>\n      <td>RFT-ESG-Raw-Current-SchemeA-Delta-2022-04-24</td>\n      <td>READY</td>\n      <td>2022-04-24T17:33:23Z</td>\n    </tr>\n    <tr>\n      <th>10</th>\n      <td>2022-04-24T17:43:10Z</td>\n      <td>ESG</td>\n      <td>4cbb-e27e-318835e3-bad7-dee7a0ebc3b0</td>\n      <td>2022-04-24T17:44:54Z</td>\n      <td>421b-ca99-6b8b0b3e-b154-0cf3bb876d9d</td>\n      <td>[472e-cf52-be39ba2e-b99d-b2b10dd3caa9]</td>\n      <td>1</td>\n      <td>[{'name': 'ContentType', 'value': 'ESG Raw Cur...</td>\n      <td>1970-01-01T00:00:00Z</td>\n      <td>2022-04-24T17:35:00Z</td>\n      <td>2022-05-24T17:43:10Z</td>\n      <td>RFT-ESG-Raw-Current-SchemeB-Social-Init-2022-0...</td>\n      <td>READY</td>\n      <td>2022-04-24T17:43:10Z</td>\n    </tr>\n    <tr>\n      <th>11</th>\n      <td>2022-04-17T17:33:07Z</td>\n      <td>ESG</td>\n      <td>4c62-b05c-2a529a9d-81b3-224eacd50379</td>\n      <td>2022-04-17T17:33:42Z</td>\n      <td>421d-62f2-6799470f-b6e3-2b3b32e0ef31</td>\n      <td>[48c7-cd96-8b1db913-bdab-49614ff17a44]</td>\n      <td>1</td>\n      <td>[{'name': 'ContentType', 'value': 'ESG Raw Cur...</td>\n      <td>1970-01-01T00:00:00Z</td>\n      <td>2022-04-17T17:25:00Z</td>\n      <td>2022-05-17T17:33:06Z</td>\n      <td>RFT-ESG-Raw-Current-SchemeA-init-2022-04-17</td>\n      <td>READY</td>\n      <td>2022-04-17T17:33:07Z</td>\n    </tr>\n    <tr>\n      <th>12</th>\n      <td>2022-04-10T17:22:43Z</td>\n      <td>ESG</td>\n      <td>4bcc-4602-0a57ebb2-baf0-1fc9825e76b6</td>\n      <td>2022-04-10T17:22:49Z</td>\n      <td>4233-2ab4-839f956f-9d7f-64d836c864b9</td>\n      <td>[480b-3ef0-d2dd680e-be89-dfdbca4cbfa9]</td>\n      <td>1</td>\n      <td>[{'name': 'ResultCount', 'value': '28341'}, {'...</td>\n      <td>2022-04-03T17:15:00Z</td>\n      <td>2022-04-10T17:15:00Z</td>\n      <td>2022-05-10T17:22:43Z</td>\n      <td>RFT-ESG-Scores-Wealth-Standard-delta-2022-04-10</td>\n      <td>READY</td>\n      <td>2022-04-10T17:22:43Z</td>\n    </tr>\n    <tr>\n      <th>13</th>\n      <td>2022-04-17T17:53:39Z</td>\n      <td>ESG</td>\n      <td>4c3a-aca4-0cc88a33-b599-9647b1fb65ac</td>\n      <td>2022-04-17T17:54:44Z</td>\n      <td>424d-ac72-b82a3e97-a56e-d4485260808f</td>\n      <td>[4339-c3c8-ade98aa7-b6a9-92d799a4857c, 451c-57...</td>\n      <td>3</td>\n      <td>[{'name': 'ContentType', 'value': 'ESG Raw Wea...</td>\n      <td>1970-01-01T00:00:00Z</td>\n      <td>2022-04-17T17:45:00Z</td>\n      <td>2022-05-17T17:53:39Z</td>\n      <td>RFT-ESG-Raw-Wealth-Standard-init-2022-04-17</td>\n      <td>READY</td>\n      <td>2022-04-17T17:53:39Z</td>\n    </tr>\n    <tr>\n      <th>14</th>\n      <td>2022-04-10T17:12:16Z</td>\n      <td>ESG</td>\n      <td>4157-5865-69f2417d-8b77-21a75f7f12ad</td>\n      <td>2022-04-10T17:12:20Z</td>\n      <td>424e-af0f-4ee9982c-8e14-74c1ad6cecf0</td>\n      <td>[4837-2b0f-fc94f5ce-aaae-1dd2979cdff0]</td>\n      <td>1</td>\n      <td>[{'name': 'ContentType', 'value': 'ESG Scores'...</td>\n      <td>1970-01-01T00:00:00Z</td>\n      <td>2022-04-10T17:05:00Z</td>\n      <td>2022-05-10T17:12:16Z</td>\n      <td>RFT-ESG-Scores-Current-init-2022-04-10</td>\n      <td>READY</td>\n      <td>2022-04-10T17:12:16Z</td>\n    </tr>\n    <tr>\n      <th>15</th>\n      <td>2022-04-24T17:22:51Z</td>\n      <td>ESG</td>\n      <td>4bcc-4602-0a57ebb2-baf0-1fc9825e76b6</td>\n      <td>2022-04-24T17:22:57Z</td>\n      <td>42b6-0938-e939678c-8774-447bcd407bf0</td>\n      <td>[4736-2f4e-8f285b77-8c36-64a26ebd5769]</td>\n      <td>1</td>\n      <td>[{'name': 'ResultCount', 'value': '33016'}, {'...</td>\n      <td>1970-01-01T00:00:00Z</td>\n      <td>2022-04-24T17:15:00Z</td>\n      <td>2022-05-24T17:22:51Z</td>\n      <td>RFT-ESG-Scores-Wealth-Standard-init-2022-04-24</td>\n      <td>READY</td>\n      <td>2022-04-24T17:22:51Z</td>\n    </tr>\n    <tr>\n      <th>16</th>\n      <td>2022-04-17T17:44:18Z</td>\n      <td>ESG</td>\n      <td>4cbb-e27e-318835e3-bad7-dee7a0ebc3b0</td>\n      <td>2022-04-17T17:44:46Z</td>\n      <td>4312-9683-c30af41f-985b-51bf694a84ba</td>\n      <td>[48c9-da62-aee4ad4e-90e7-70e0f163608b]</td>\n      <td>1</td>\n      <td>[{'name': 'ContentType', 'value': 'ESG Raw Cur...</td>\n      <td>1970-01-01T00:00:00Z</td>\n      <td>2022-04-17T17:35:00Z</td>\n      <td>2022-05-17T17:44:18Z</td>\n      <td>RFT-ESG-Raw-Current-SchemeB-Env-Init-2022-04-17</td>\n      <td>READY</td>\n      <td>2022-04-17T17:44:18Z</td>\n    </tr>\n    <tr>\n      <th>17</th>\n      <td>2022-04-24T17:44:24Z</td>\n      <td>ESG</td>\n      <td>4cbb-e27e-318835e3-bad7-dee7a0ebc3b0</td>\n      <td>2022-04-24T17:44:55Z</td>\n      <td>431a-5c3f-75fbf548-852b-fcb4319a78ec</td>\n      <td>[4903-2dfa-a0b676a9-a4ee-7c819f481152]</td>\n      <td>1</td>\n      <td>[{'name': 'ContentType', 'value': 'ESG Raw Cur...</td>\n      <td>1970-01-01T00:00:00Z</td>\n      <td>2022-04-24T17:35:00Z</td>\n      <td>2022-05-24T17:44:23Z</td>\n      <td>RFT-ESG-Raw-Current-SchemeB-Env-Init-2022-04-24</td>\n      <td>READY</td>\n      <td>2022-04-24T17:44:24Z</td>\n    </tr>\n    <tr>\n      <th>18</th>\n      <td>2022-03-31T10:33:37Z</td>\n      <td>ESG</td>\n      <td>48f0-8bdd-28d8432a-aae3-928067b0f64e</td>\n      <td>2022-03-31T10:33:40Z</td>\n      <td>43d3-ed57-d5cf7f5c-a32a-491aae1ea697</td>\n      <td>[4d98-90eb-23213387-a968-10d40d349e78]</td>\n      <td>1</td>\n      <td>[{'name': 'ContentType', 'value': 'Symbology I...</td>\n      <td>1970-01-01T00:00:00Z</td>\n      <td>2022-03-31T10:25:00Z</td>\n      <td>2022-04-30T10:33:37Z</td>\n      <td>RFT-ESG-Symbology-ISIN-Init-2022-03-31</td>\n      <td>READY</td>\n      <td>2022-03-31T10:33:37Z</td>\n    </tr>\n    <tr>\n      <th>19</th>\n      <td>2022-03-27T17:42:58Z</td>\n      <td>ESG</td>\n      <td>4cbb-e27e-318835e3-bad7-dee7a0ebc3b0</td>\n      <td>2022-03-27T17:44:29Z</td>\n      <td>440a-2de5-108f5816-8527-b3f5a174d13a</td>\n      <td>[41bd-2fdb-3ca38799-8a75-69bdb888ffd5]</td>\n      <td>1</td>\n      <td>[{'name': 'ResultCount', 'value': '10810'}, {'...</td>\n      <td>2022-03-20T17:35:00Z</td>\n      <td>2022-03-27T17:35:00Z</td>\n      <td>2022-04-27T17:42:58Z</td>\n      <td>RFT-ESG-Raw-Current-SchemeB-Social-Delta-2022-...</td>\n      <td>READY</td>\n      <td>2022-03-27T17:42:58Z</td>\n    </tr>\n    <tr>\n      <th>20</th>\n      <td>2022-04-24T16:05:20Z</td>\n      <td>ESG</td>\n      <td>4e6a-ca79-af368ff5-931d-d2781b1cdb85</td>\n      <td>2022-04-24T16:07:03Z</td>\n      <td>4429-c004-bcb42c69-80a5-24ec3a6be07f</td>\n      <td>[4424-9000-ee8c34dd-a668-fb1e80c3fbee, 49ad-51...</td>\n      <td>3</td>\n      <td>[{'name': 'ResultCount', 'value': '42860'}, {'...</td>\n      <td>2022-04-17T15:55:00Z</td>\n      <td>2022-04-24T15:55:00Z</td>\n      <td>2022-05-08T16:05:20Z</td>\n      <td>RFT-ESG-Raw-Full-SchemeA-Delta-2022-04-24</td>\n      <td>READY</td>\n      <td>2022-04-24T16:05:21Z</td>\n    </tr>\n    <tr>\n      <th>21</th>\n      <td>2022-04-24T17:23:07Z</td>\n      <td>ESG</td>\n      <td>4bcc-4602-0a57ebb2-baf0-1fc9825e76b6</td>\n      <td>2022-04-24T17:23:13Z</td>\n      <td>443b-fb14-579a962b-97e2-dc93ed9aa96b</td>\n      <td>[4b37-6f39-c4a2202a-8bd5-d9e35c78ed84]</td>\n      <td>1</td>\n      <td>[{'name': 'ContentType', 'value': 'ESG Scores'...</td>\n      <td>2022-04-17T17:15:00Z</td>\n      <td>2022-04-24T17:15:00Z</td>\n      <td>2022-05-24T17:23:07Z</td>\n      <td>RFT-ESG-Scores-Wealth-Standard-delta-2022-04-24</td>\n      <td>READY</td>\n      <td>2022-04-24T17:23:07Z</td>\n    </tr>\n    <tr>\n      <th>22</th>\n      <td>2022-03-27T17:22:37Z</td>\n      <td>ESG</td>\n      <td>4bcc-4602-0a57ebb2-baf0-1fc9825e76b6</td>\n      <td>2022-03-27T17:22:44Z</td>\n      <td>4445-e0e0-12d2b35b-aae3-e57e37d80a19</td>\n      <td>[4b54-e5e7-5e1037de-9112-0dd69f04d4c9]</td>\n      <td>1</td>\n      <td>[{'name': 'ResultCount', 'value': '32763'}, {'...</td>\n      <td>1970-01-01T00:00:00Z</td>\n      <td>2022-03-27T17:15:00Z</td>\n      <td>2022-04-27T17:22:37Z</td>\n      <td>RFT-ESG-Scores-Wealth-Standard-init-2022-03-27</td>\n      <td>READY</td>\n      <td>2022-03-27T17:22:37Z</td>\n    </tr>\n    <tr>\n      <th>23</th>\n      <td>2022-04-17T17:12:40Z</td>\n      <td>ESG</td>\n      <td>4157-5865-69f2417d-8b77-21a75f7f12ad</td>\n      <td>2022-04-17T17:12:44Z</td>\n      <td>4474-23d1-7d15d4fe-a26c-6630856065f5</td>\n      <td>[406b-15d0-339ebe78-ab38-b56cfd7ae8f2]</td>\n      <td>1</td>\n      <td>[{'name': 'ResultCount', 'value': '10871'}, {'...</td>\n      <td>2022-04-10T17:05:00Z</td>\n      <td>2022-04-17T17:05:00Z</td>\n      <td>2022-05-17T17:12:40Z</td>\n      <td>RFT-ESG-Scores-Current-delta-2022-04-17</td>\n      <td>READY</td>\n      <td>2022-04-17T17:12:40Z</td>\n    </tr>\n    <tr>\n      <th>24</th>\n      <td>2022-04-03T17:53:00Z</td>\n      <td>ESG</td>\n      <td>4c3a-aca4-0cc88a33-b599-9647b1fb65ac</td>\n      <td>2022-04-03T17:53:59Z</td>\n      <td>449d-5694-346a2a5f-9c99-38813f8c43e1</td>\n      <td>[428a-a405-5d2d165f-9c05-80dc2f3308ed, 48e0-07...</td>\n      <td>2</td>\n      <td>[{'name': 'ResultCount', 'value': '28272'}, {'...</td>\n      <td>2022-03-27T17:45:00Z</td>\n      <td>2022-04-03T17:45:00Z</td>\n      <td>2022-05-03T17:52:59Z</td>\n      <td>RFT-ESG-Raw-Wealth-Standard-delta-2022-04-03</td>\n      <td>READY</td>\n      <td>2022-04-03T17:53:00Z</td>\n    </tr>\n  </tbody>\n</table>\n</div>"
     },
     "execution_count": 25,
     "metadata": {},
     "output_type": "execute_result"
    }
   ],
   "source": [
    "response = cfs.file_sets.Definition('esg').get_data()\n",
    "response.data.df"
   ]
  },
  {
   "cell_type": "markdown",
   "metadata": {},
   "source": [
    "#### Get FileSets with more filters"
   ]
  },
  {
   "cell_type": "code",
   "execution_count": 26,
   "metadata": {},
   "outputs": [
    {
     "data": {
      "text/plain": "          availableFrom bucketName                             packageId  \\\n0  2022-04-17T16:05:05Z        ESG  4e6a-ca79-af368ff5-931d-d2781b1cdb85   \n1  2022-04-17T16:05:57Z        ESG  4e6a-ca79-af368ff5-931d-d2781b1cdb85   \n2  2022-04-17T16:14:01Z        ESG  4b6c-def9-dd1c991c-8535-6f9a61df9fc8   \n3  2022-04-17T16:14:45Z        ESG  4b6c-def9-dd1c991c-8535-6f9a61df9fc8   \n4  2022-04-17T16:16:35Z        ESG  4b6c-def9-dd1c991c-8535-6f9a61df9fc8   \n5  2022-04-17T16:19:43Z        ESG  4b6c-def9-dd1c991c-8535-6f9a61df9fc8   \n6  2022-04-17T16:23:46Z        ESG  4d38-df6b-e910e242-b920-333284fc66e3   \n7  2022-04-17T16:25:39Z        ESG  4d38-df6b-e910e242-b920-333284fc66e3   \n8  2022-04-17T16:33:43Z        ESG  42de-14b7-37470ec8-9087-ccd1a1bae75d   \n9  2022-04-17T16:34:05Z        ESG  42de-14b7-37470ec8-9087-ccd1a1bae75d   \n\n               modified                                    id  \\\n0  2022-04-17T16:06:39Z  4516-28d8-1f980767-adea-ab425fc7f45e   \n1  2022-04-17T16:09:52Z  4612-52b4-7a69d9b3-abe3-b6bbc8fc82b6   \n2  2022-04-17T16:17:52Z  4f0d-90f2-aae2e307-bc5e-4c5dbfca9e83   \n3  2022-04-17T16:22:47Z  4e81-031e-9d4e1ac4-ba9c-46452c6a9114   \n4  2022-04-17T16:17:52Z  474f-d994-27f3a512-812b-44eb180c58b0   \n5  2022-04-17T16:22:47Z  49f4-2e45-c055f443-ac6a-ab749547fcff   \n6  2022-04-17T16:25:11Z  4fc7-53c8-ed89dcc6-82de-2e4cfac2f672   \n7  2022-04-17T16:28:55Z  4d13-401c-31090da7-84a1-0cce9b07a013   \n8  2022-04-17T16:33:50Z  489d-3bd7-3dc47fb7-b9f8-39b60389ccf0   \n9  2022-04-17T16:34:19Z  4f93-d048-9cf3278b-acaf-a18bcd149697   \n\n                                               files  numFiles  \\\n0  [44b0-d6b4-9df79bfd-9e9a-7ff4d26de7ac, 462f-b4...         3   \n1  [425e-8d2b-9789c39f-9c02-3fd493cf23aa, 4411-ab...         7   \n2             [4c5f-c025-df72856c-9221-abac7f012c73]         1   \n3  [438a-ff31-9475f225-ad9b-f61bd81332aa, 4ab8-c7...         2   \n4  [432d-8a78-52193f79-8947-42417bc51879, 4acf-0a...         2   \n5  [4075-002f-255623f5-a1d4-d6b1edd8404c, 49cf-a1...         3   \n6  [4723-e247-c22ab7f5-b29b-c0fef19aea52, 4854-67...         3   \n7  [4408-d4b5-5c1463b0-ad02-34be2119c386, 4615-50...         6   \n8             [40dc-4245-6b81efd4-bfca-bb580ec6be59]         1   \n9             [4b51-a0be-a336d551-ad6f-081fe945bb6b]         1   \n\n                                          attributes           contentFrom  \\\n0  [{'name': 'ContentType', 'value': 'ESG Raw Ful...  2022-04-10T15:55:00Z   \n1  [{'name': 'ContentType', 'value': 'ESG Raw Ful...  1970-01-01T00:00:00Z   \n2  [{'name': 'ContentType', 'value': 'ESG Raw Ful...  2022-04-10T16:05:00Z   \n3  [{'name': 'ContentType', 'value': 'ESG Raw Ful...  1970-01-01T00:00:00Z   \n4  [{'name': 'ResultCount', 'value': '41726'}, {'...  2022-04-10T16:05:00Z   \n5  [{'name': 'ResultCount', 'value': '110239'}, {...  1970-01-01T00:00:00Z   \n6  [{'name': 'ResultCount', 'value': '41264'}, {'...  2022-04-10T16:15:00Z   \n7  [{'name': 'ResultCount', 'value': '89707'}, {'...  1970-01-01T00:00:00Z   \n8  [{'name': 'ResultCount', 'value': '37721'}, {'...  2022-04-10T16:25:00Z   \n9  [{'name': 'ContentType', 'value': 'ESG Scores'...  1970-01-01T00:00:00Z   \n\n              contentTo           availableTo  \\\n0  2022-04-17T15:55:00Z  2022-05-01T16:05:05Z   \n1  2022-04-17T15:55:00Z  2022-05-01T16:05:57Z   \n2  2022-04-17T16:05:00Z  2022-05-01T16:14:01Z   \n3  2022-04-17T16:05:00Z  2022-05-01T16:14:45Z   \n4  2022-04-17T16:05:00Z  2022-05-01T16:16:35Z   \n5  2022-04-17T16:05:00Z  2022-05-01T16:19:43Z   \n6  2022-04-17T16:15:00Z  2022-05-01T16:23:46Z   \n7  2022-04-17T16:15:00Z  2022-05-01T16:25:39Z   \n8  2022-04-17T16:25:00Z  2022-05-01T16:33:43Z   \n9  2022-04-17T16:25:00Z  2022-05-01T16:34:05Z   \n\n                                               name status  \\\n0         RFT-ESG-Raw-Full-SchemeA-Delta-2022-04-17  READY   \n1          RFT-ESG-Raw-Full-SchemeA-Init-2022-04-17  READY   \n2  RFT-ESG-Raw-Full-SchemeB-Social-Delta-2022-04-17  READY   \n3   RFT-ESG-Raw-Full-SchemeB-Social-Init-2022-04-17  READY   \n4     RFT-ESG-Raw-Full-SchemeB-Env-Delta-2022-04-17  READY   \n5      RFT-ESG-Raw-Full-SchemeB-Env-Init-2022-04-17  READY   \n6          RFT-ESG-Raw-Wealth-Full-Delta-2022-04-17  READY   \n7           RFT-ESG-Raw-Wealth-Full-Init-2022-04-17  READY   \n8              RFT-ESG-Scores-Full-Delta-2022-04-17  READY   \n9               RFT-ESG-Scores-Full-Init-2022-04-17  READY   \n\n                created  \n0  2022-04-17T16:05:05Z  \n1  2022-04-17T16:05:57Z  \n2  2022-04-17T16:14:01Z  \n3  2022-04-17T16:14:45Z  \n4  2022-04-17T16:16:35Z  \n5  2022-04-17T16:19:43Z  \n6  2022-04-17T16:23:46Z  \n7  2022-04-17T16:25:39Z  \n8  2022-04-17T16:33:43Z  \n9  2022-04-17T16:34:05Z  ",
      "text/html": "<div>\n<style scoped>\n    .dataframe tbody tr th:only-of-type {\n        vertical-align: middle;\n    }\n\n    .dataframe tbody tr th {\n        vertical-align: top;\n    }\n\n    .dataframe thead th {\n        text-align: right;\n    }\n</style>\n<table border=\"1\" class=\"dataframe\">\n  <thead>\n    <tr style=\"text-align: right;\">\n      <th></th>\n      <th>availableFrom</th>\n      <th>bucketName</th>\n      <th>packageId</th>\n      <th>modified</th>\n      <th>id</th>\n      <th>files</th>\n      <th>numFiles</th>\n      <th>attributes</th>\n      <th>contentFrom</th>\n      <th>contentTo</th>\n      <th>availableTo</th>\n      <th>name</th>\n      <th>status</th>\n      <th>created</th>\n    </tr>\n  </thead>\n  <tbody>\n    <tr>\n      <th>0</th>\n      <td>2022-04-17T16:05:05Z</td>\n      <td>ESG</td>\n      <td>4e6a-ca79-af368ff5-931d-d2781b1cdb85</td>\n      <td>2022-04-17T16:06:39Z</td>\n      <td>4516-28d8-1f980767-adea-ab425fc7f45e</td>\n      <td>[44b0-d6b4-9df79bfd-9e9a-7ff4d26de7ac, 462f-b4...</td>\n      <td>3</td>\n      <td>[{'name': 'ContentType', 'value': 'ESG Raw Ful...</td>\n      <td>2022-04-10T15:55:00Z</td>\n      <td>2022-04-17T15:55:00Z</td>\n      <td>2022-05-01T16:05:05Z</td>\n      <td>RFT-ESG-Raw-Full-SchemeA-Delta-2022-04-17</td>\n      <td>READY</td>\n      <td>2022-04-17T16:05:05Z</td>\n    </tr>\n    <tr>\n      <th>1</th>\n      <td>2022-04-17T16:05:57Z</td>\n      <td>ESG</td>\n      <td>4e6a-ca79-af368ff5-931d-d2781b1cdb85</td>\n      <td>2022-04-17T16:09:52Z</td>\n      <td>4612-52b4-7a69d9b3-abe3-b6bbc8fc82b6</td>\n      <td>[425e-8d2b-9789c39f-9c02-3fd493cf23aa, 4411-ab...</td>\n      <td>7</td>\n      <td>[{'name': 'ContentType', 'value': 'ESG Raw Ful...</td>\n      <td>1970-01-01T00:00:00Z</td>\n      <td>2022-04-17T15:55:00Z</td>\n      <td>2022-05-01T16:05:57Z</td>\n      <td>RFT-ESG-Raw-Full-SchemeA-Init-2022-04-17</td>\n      <td>READY</td>\n      <td>2022-04-17T16:05:57Z</td>\n    </tr>\n    <tr>\n      <th>2</th>\n      <td>2022-04-17T16:14:01Z</td>\n      <td>ESG</td>\n      <td>4b6c-def9-dd1c991c-8535-6f9a61df9fc8</td>\n      <td>2022-04-17T16:17:52Z</td>\n      <td>4f0d-90f2-aae2e307-bc5e-4c5dbfca9e83</td>\n      <td>[4c5f-c025-df72856c-9221-abac7f012c73]</td>\n      <td>1</td>\n      <td>[{'name': 'ContentType', 'value': 'ESG Raw Ful...</td>\n      <td>2022-04-10T16:05:00Z</td>\n      <td>2022-04-17T16:05:00Z</td>\n      <td>2022-05-01T16:14:01Z</td>\n      <td>RFT-ESG-Raw-Full-SchemeB-Social-Delta-2022-04-17</td>\n      <td>READY</td>\n      <td>2022-04-17T16:14:01Z</td>\n    </tr>\n    <tr>\n      <th>3</th>\n      <td>2022-04-17T16:14:45Z</td>\n      <td>ESG</td>\n      <td>4b6c-def9-dd1c991c-8535-6f9a61df9fc8</td>\n      <td>2022-04-17T16:22:47Z</td>\n      <td>4e81-031e-9d4e1ac4-ba9c-46452c6a9114</td>\n      <td>[438a-ff31-9475f225-ad9b-f61bd81332aa, 4ab8-c7...</td>\n      <td>2</td>\n      <td>[{'name': 'ContentType', 'value': 'ESG Raw Ful...</td>\n      <td>1970-01-01T00:00:00Z</td>\n      <td>2022-04-17T16:05:00Z</td>\n      <td>2022-05-01T16:14:45Z</td>\n      <td>RFT-ESG-Raw-Full-SchemeB-Social-Init-2022-04-17</td>\n      <td>READY</td>\n      <td>2022-04-17T16:14:45Z</td>\n    </tr>\n    <tr>\n      <th>4</th>\n      <td>2022-04-17T16:16:35Z</td>\n      <td>ESG</td>\n      <td>4b6c-def9-dd1c991c-8535-6f9a61df9fc8</td>\n      <td>2022-04-17T16:17:52Z</td>\n      <td>474f-d994-27f3a512-812b-44eb180c58b0</td>\n      <td>[432d-8a78-52193f79-8947-42417bc51879, 4acf-0a...</td>\n      <td>2</td>\n      <td>[{'name': 'ResultCount', 'value': '41726'}, {'...</td>\n      <td>2022-04-10T16:05:00Z</td>\n      <td>2022-04-17T16:05:00Z</td>\n      <td>2022-05-01T16:16:35Z</td>\n      <td>RFT-ESG-Raw-Full-SchemeB-Env-Delta-2022-04-17</td>\n      <td>READY</td>\n      <td>2022-04-17T16:16:35Z</td>\n    </tr>\n    <tr>\n      <th>5</th>\n      <td>2022-04-17T16:19:43Z</td>\n      <td>ESG</td>\n      <td>4b6c-def9-dd1c991c-8535-6f9a61df9fc8</td>\n      <td>2022-04-17T16:22:47Z</td>\n      <td>49f4-2e45-c055f443-ac6a-ab749547fcff</td>\n      <td>[4075-002f-255623f5-a1d4-d6b1edd8404c, 49cf-a1...</td>\n      <td>3</td>\n      <td>[{'name': 'ResultCount', 'value': '110239'}, {...</td>\n      <td>1970-01-01T00:00:00Z</td>\n      <td>2022-04-17T16:05:00Z</td>\n      <td>2022-05-01T16:19:43Z</td>\n      <td>RFT-ESG-Raw-Full-SchemeB-Env-Init-2022-04-17</td>\n      <td>READY</td>\n      <td>2022-04-17T16:19:43Z</td>\n    </tr>\n    <tr>\n      <th>6</th>\n      <td>2022-04-17T16:23:46Z</td>\n      <td>ESG</td>\n      <td>4d38-df6b-e910e242-b920-333284fc66e3</td>\n      <td>2022-04-17T16:25:11Z</td>\n      <td>4fc7-53c8-ed89dcc6-82de-2e4cfac2f672</td>\n      <td>[4723-e247-c22ab7f5-b29b-c0fef19aea52, 4854-67...</td>\n      <td>3</td>\n      <td>[{'name': 'ResultCount', 'value': '41264'}, {'...</td>\n      <td>2022-04-10T16:15:00Z</td>\n      <td>2022-04-17T16:15:00Z</td>\n      <td>2022-05-01T16:23:46Z</td>\n      <td>RFT-ESG-Raw-Wealth-Full-Delta-2022-04-17</td>\n      <td>READY</td>\n      <td>2022-04-17T16:23:46Z</td>\n    </tr>\n    <tr>\n      <th>7</th>\n      <td>2022-04-17T16:25:39Z</td>\n      <td>ESG</td>\n      <td>4d38-df6b-e910e242-b920-333284fc66e3</td>\n      <td>2022-04-17T16:28:55Z</td>\n      <td>4d13-401c-31090da7-84a1-0cce9b07a013</td>\n      <td>[4408-d4b5-5c1463b0-ad02-34be2119c386, 4615-50...</td>\n      <td>6</td>\n      <td>[{'name': 'ResultCount', 'value': '89707'}, {'...</td>\n      <td>1970-01-01T00:00:00Z</td>\n      <td>2022-04-17T16:15:00Z</td>\n      <td>2022-05-01T16:25:39Z</td>\n      <td>RFT-ESG-Raw-Wealth-Full-Init-2022-04-17</td>\n      <td>READY</td>\n      <td>2022-04-17T16:25:39Z</td>\n    </tr>\n    <tr>\n      <th>8</th>\n      <td>2022-04-17T16:33:43Z</td>\n      <td>ESG</td>\n      <td>42de-14b7-37470ec8-9087-ccd1a1bae75d</td>\n      <td>2022-04-17T16:33:50Z</td>\n      <td>489d-3bd7-3dc47fb7-b9f8-39b60389ccf0</td>\n      <td>[40dc-4245-6b81efd4-bfca-bb580ec6be59]</td>\n      <td>1</td>\n      <td>[{'name': 'ResultCount', 'value': '37721'}, {'...</td>\n      <td>2022-04-10T16:25:00Z</td>\n      <td>2022-04-17T16:25:00Z</td>\n      <td>2022-05-01T16:33:43Z</td>\n      <td>RFT-ESG-Scores-Full-Delta-2022-04-17</td>\n      <td>READY</td>\n      <td>2022-04-17T16:33:43Z</td>\n    </tr>\n    <tr>\n      <th>9</th>\n      <td>2022-04-17T16:34:05Z</td>\n      <td>ESG</td>\n      <td>42de-14b7-37470ec8-9087-ccd1a1bae75d</td>\n      <td>2022-04-17T16:34:19Z</td>\n      <td>4f93-d048-9cf3278b-acaf-a18bcd149697</td>\n      <td>[4b51-a0be-a336d551-ad6f-081fe945bb6b]</td>\n      <td>1</td>\n      <td>[{'name': 'ContentType', 'value': 'ESG Scores'...</td>\n      <td>1970-01-01T00:00:00Z</td>\n      <td>2022-04-17T16:25:00Z</td>\n      <td>2022-05-01T16:34:05Z</td>\n      <td>RFT-ESG-Scores-Full-Init-2022-04-17</td>\n      <td>READY</td>\n      <td>2022-04-17T16:34:05Z</td>\n    </tr>\n  </tbody>\n</table>\n</div>"
     },
     "execution_count": 26,
     "metadata": {},
     "output_type": "execute_result"
    }
   ],
   "source": [
    "response = cfs.file_sets.Definition(\n",
    "    bucket='esg',\n",
    "    page_size=10,\n",
    "    available_from=timedelta(days=-10),\n",
    "    created_since=\"2020-10-02T12:00:00Z\"\n",
    ").get_data()\n",
    "response.data.df"
   ]
  },
  {
   "cell_type": "markdown",
   "metadata": {},
   "source": [
    "#### Get FileSets with pagination"
   ]
  },
  {
   "cell_type": "code",
   "execution_count": 27,
   "metadata": {},
   "outputs": [
    {
     "data": {
      "text/plain": "          availableFrom bucketName                             packageId  \\\n0  2022-04-24T17:43:06Z        ESG  4cbb-e27e-318835e3-bad7-dee7a0ebc3b0   \n1  2022-04-24T16:19:55Z        ESG  4b6c-def9-dd1c991c-8535-6f9a61df9fc8   \n2  2022-04-24T16:15:21Z        ESG  4b6c-def9-dd1c991c-8535-6f9a61df9fc8   \n3  2022-04-17T16:44:08Z        ESG  4f77-627a-c467ff19-9a21-8028baeeb2f4   \n4  2022-04-10T17:43:22Z        ESG  4cbb-e27e-318835e3-bad7-dee7a0ebc3b0   \n\n               modified                                    id  \\\n0  2022-04-24T17:44:38Z  401c-77c6-5138c5dc-bcd2-574dc57149fe   \n1  2022-04-24T16:23:03Z  401f-e870-2a782517-bf69-a887c7894fb9   \n2  2022-04-24T16:23:02Z  402c-936d-fa331586-80d2-93364d4ee733   \n3  2022-04-17T16:44:22Z  402f-be0c-b6e80b7a-8da7-e653c2ac8a81   \n4  2022-04-10T17:43:47Z  4041-e5b8-092489da-a61c-4b22b9678691   \n\n                                               files  numFiles  \\\n0             [4b17-870f-a540b6ca-b09e-7f700b3a449f]         1   \n1  [4414-c8a4-c919cc5e-9c72-1d8e158750e2, 47b7-52...         3   \n2  [4430-82fb-fbcc624c-93a2-980077c13ec8, 47e4-77...         2   \n3             [48d1-9c8c-07785108-a790-c8ad9e356133]         1   \n4             [4032-7a75-27f2f8d9-9e3c-ddb565d5987e]         1   \n\n                                          attributes           contentFrom  \\\n0  [{'name': 'ResultCount', 'value': '10886'}, {'...  2022-04-17T17:35:00Z   \n1  [{'name': 'ContentType', 'value': 'ESG Raw Ful...  1970-01-01T00:00:00Z   \n2  [{'name': 'ResultCount', 'value': '110470'}, {...  1970-01-01T00:00:00Z   \n3  [{'name': 'ResultCount', 'value': '89610'}, {'...  1970-01-01T00:00:00Z   \n4  [{'name': 'ResultCount', 'value': '10854'}, {'...  2022-04-03T17:35:00Z   \n\n              contentTo           availableTo  \\\n0  2022-04-24T17:35:00Z  2022-05-24T17:43:06Z   \n1  2022-04-24T16:05:00Z  2022-05-08T16:19:55Z   \n2  2022-04-24T16:05:00Z  2022-05-08T16:15:20Z   \n3  2022-04-17T16:35:00Z  2022-05-01T16:44:08Z   \n4  2022-04-10T17:35:00Z  2022-05-10T17:43:22Z   \n\n                                                name status  \\\n0  RFT-ESG-Raw-Current-SchemeB-Social-Delta-2022-...  READY   \n1       RFT-ESG-Raw-Full-SchemeB-Env-Init-2022-04-24  READY   \n2    RFT-ESG-Raw-Full-SchemeB-Social-Init-2022-04-24  READY   \n3         RFT-ESG-Scores-Wealth-Full-Init-2022-04-17  READY   \n4   RFT-ESG-Raw-Current-SchemeB-Env-Delta-2022-04-10  READY   \n\n                created  \n0  2022-04-24T17:43:06Z  \n1  2022-04-24T16:19:55Z  \n2  2022-04-24T16:15:21Z  \n3  2022-04-17T16:44:08Z  \n4  2022-04-10T17:43:22Z  ",
      "text/html": "<div>\n<style scoped>\n    .dataframe tbody tr th:only-of-type {\n        vertical-align: middle;\n    }\n\n    .dataframe tbody tr th {\n        vertical-align: top;\n    }\n\n    .dataframe thead th {\n        text-align: right;\n    }\n</style>\n<table border=\"1\" class=\"dataframe\">\n  <thead>\n    <tr style=\"text-align: right;\">\n      <th></th>\n      <th>availableFrom</th>\n      <th>bucketName</th>\n      <th>packageId</th>\n      <th>modified</th>\n      <th>id</th>\n      <th>files</th>\n      <th>numFiles</th>\n      <th>attributes</th>\n      <th>contentFrom</th>\n      <th>contentTo</th>\n      <th>availableTo</th>\n      <th>name</th>\n      <th>status</th>\n      <th>created</th>\n    </tr>\n  </thead>\n  <tbody>\n    <tr>\n      <th>0</th>\n      <td>2022-04-24T17:43:06Z</td>\n      <td>ESG</td>\n      <td>4cbb-e27e-318835e3-bad7-dee7a0ebc3b0</td>\n      <td>2022-04-24T17:44:38Z</td>\n      <td>401c-77c6-5138c5dc-bcd2-574dc57149fe</td>\n      <td>[4b17-870f-a540b6ca-b09e-7f700b3a449f]</td>\n      <td>1</td>\n      <td>[{'name': 'ResultCount', 'value': '10886'}, {'...</td>\n      <td>2022-04-17T17:35:00Z</td>\n      <td>2022-04-24T17:35:00Z</td>\n      <td>2022-05-24T17:43:06Z</td>\n      <td>RFT-ESG-Raw-Current-SchemeB-Social-Delta-2022-...</td>\n      <td>READY</td>\n      <td>2022-04-24T17:43:06Z</td>\n    </tr>\n    <tr>\n      <th>1</th>\n      <td>2022-04-24T16:19:55Z</td>\n      <td>ESG</td>\n      <td>4b6c-def9-dd1c991c-8535-6f9a61df9fc8</td>\n      <td>2022-04-24T16:23:03Z</td>\n      <td>401f-e870-2a782517-bf69-a887c7894fb9</td>\n      <td>[4414-c8a4-c919cc5e-9c72-1d8e158750e2, 47b7-52...</td>\n      <td>3</td>\n      <td>[{'name': 'ContentType', 'value': 'ESG Raw Ful...</td>\n      <td>1970-01-01T00:00:00Z</td>\n      <td>2022-04-24T16:05:00Z</td>\n      <td>2022-05-08T16:19:55Z</td>\n      <td>RFT-ESG-Raw-Full-SchemeB-Env-Init-2022-04-24</td>\n      <td>READY</td>\n      <td>2022-04-24T16:19:55Z</td>\n    </tr>\n    <tr>\n      <th>2</th>\n      <td>2022-04-24T16:15:21Z</td>\n      <td>ESG</td>\n      <td>4b6c-def9-dd1c991c-8535-6f9a61df9fc8</td>\n      <td>2022-04-24T16:23:02Z</td>\n      <td>402c-936d-fa331586-80d2-93364d4ee733</td>\n      <td>[4430-82fb-fbcc624c-93a2-980077c13ec8, 47e4-77...</td>\n      <td>2</td>\n      <td>[{'name': 'ResultCount', 'value': '110470'}, {...</td>\n      <td>1970-01-01T00:00:00Z</td>\n      <td>2022-04-24T16:05:00Z</td>\n      <td>2022-05-08T16:15:20Z</td>\n      <td>RFT-ESG-Raw-Full-SchemeB-Social-Init-2022-04-24</td>\n      <td>READY</td>\n      <td>2022-04-24T16:15:21Z</td>\n    </tr>\n    <tr>\n      <th>3</th>\n      <td>2022-04-17T16:44:08Z</td>\n      <td>ESG</td>\n      <td>4f77-627a-c467ff19-9a21-8028baeeb2f4</td>\n      <td>2022-04-17T16:44:22Z</td>\n      <td>402f-be0c-b6e80b7a-8da7-e653c2ac8a81</td>\n      <td>[48d1-9c8c-07785108-a790-c8ad9e356133]</td>\n      <td>1</td>\n      <td>[{'name': 'ResultCount', 'value': '89610'}, {'...</td>\n      <td>1970-01-01T00:00:00Z</td>\n      <td>2022-04-17T16:35:00Z</td>\n      <td>2022-05-01T16:44:08Z</td>\n      <td>RFT-ESG-Scores-Wealth-Full-Init-2022-04-17</td>\n      <td>READY</td>\n      <td>2022-04-17T16:44:08Z</td>\n    </tr>\n    <tr>\n      <th>4</th>\n      <td>2022-04-10T17:43:22Z</td>\n      <td>ESG</td>\n      <td>4cbb-e27e-318835e3-bad7-dee7a0ebc3b0</td>\n      <td>2022-04-10T17:43:47Z</td>\n      <td>4041-e5b8-092489da-a61c-4b22b9678691</td>\n      <td>[4032-7a75-27f2f8d9-9e3c-ddb565d5987e]</td>\n      <td>1</td>\n      <td>[{'name': 'ResultCount', 'value': '10854'}, {'...</td>\n      <td>2022-04-03T17:35:00Z</td>\n      <td>2022-04-10T17:35:00Z</td>\n      <td>2022-05-10T17:43:22Z</td>\n      <td>RFT-ESG-Raw-Current-SchemeB-Env-Delta-2022-04-10</td>\n      <td>READY</td>\n      <td>2022-04-10T17:43:22Z</td>\n    </tr>\n  </tbody>\n</table>\n</div>"
     },
     "metadata": {},
     "output_type": "display_data"
    },
    {
     "data": {
      "text/plain": "          availableFrom bucketName                             packageId  \\\n0  2022-04-10T17:33:33Z        ESG  4c62-b05c-2a529a9d-81b3-224eacd50379   \n1  2022-04-24T17:12:28Z        ESG  4157-5865-69f2417d-8b77-21a75f7f12ad   \n2  2022-04-17T16:53:38Z        ESG  4308-bc80-2054dc20-83db-6224911311d0   \n3  2022-04-21T10:47:55Z        ESG  4b75-7bb9-7e73ca6a-b61e-855c6335a6b6   \n4  2022-04-24T17:33:23Z        ESG  4c62-b05c-2a529a9d-81b3-224eacd50379   \n\n               modified                                    id  \\\n0  2022-04-10T17:34:05Z  4048-2385-9f32da98-910b-a78aba5b8a80   \n1  2022-04-24T17:12:32Z  40ff-8971-2ed23ff1-b760-8707418aa010   \n2  2022-04-17T16:53:43Z  4152-cb80-36301124-bafa-ace196e2f6d4   \n3  2022-04-21T10:48:03Z  41de-6520-76cf0a2a-892c-b99eb9329a6d   \n4  2022-04-24T17:33:55Z  41e3-e4c1-cae2600b-b8ca-0566e9cb9215   \n\n                                    files  numFiles  \\\n0  [4d52-4465-45b25d23-9f60-4171ddb4c130]         1   \n1  [44f0-bf5c-322803cf-a1bc-9ee753e11c27]         1   \n2  [4d6c-5178-6ef5c944-9dd9-417ac7fc5bd5]         1   \n3  [4092-3fb8-250843ec-aa3e-bf136f276f49]         1   \n4  [4acf-25d9-63534ec9-aa9c-b8df74e1c844]         1   \n\n                                          attributes           contentFrom  \\\n0  [{'name': 'ResultCount', 'value': '10854'}, {'...  2022-04-03T17:25:00Z   \n1  [{'name': 'ResultCount', 'value': '12294'}, {'...  1970-01-01T00:00:00Z   \n2  [{'name': 'ContentType', 'value': 'ESG Sources...  2022-04-10T16:45:00Z   \n3  [{'name': 'ContentType', 'value': 'Symbology S...  1970-01-01T00:00:00Z   \n4  [{'name': 'ContentType', 'value': 'ESG Raw Cur...  2022-04-17T17:25:00Z   \n\n              contentTo           availableTo  \\\n0  2022-04-10T17:25:00Z  2022-05-10T17:33:33Z   \n1  2022-04-24T17:05:00Z  2022-05-24T17:12:28Z   \n2  2022-04-17T16:45:00Z  2022-05-01T16:53:38Z   \n3  2022-04-21T10:30:00Z  2022-05-05T10:47:55Z   \n4  2022-04-24T17:25:00Z  2022-05-24T17:33:23Z   \n\n                                           name status               created  \n0  RFT-ESG-Raw-Current-SchemeA-Delta-2022-04-10  READY  2022-04-10T17:33:33Z  \n1        RFT-ESG-Scores-Current-init-2022-04-24  READY  2022-04-24T17:12:28Z  \n2         RFT-ESG-Sources-Full-Delta-2022-04-17  READY  2022-04-17T16:53:38Z  \n3       RFT-ESG-Symbology-SEDOL-Init-2022-04-21  READY  2022-04-21T10:47:55Z  \n4  RFT-ESG-Raw-Current-SchemeA-Delta-2022-04-24  READY  2022-04-24T17:33:23Z  ",
      "text/html": "<div>\n<style scoped>\n    .dataframe tbody tr th:only-of-type {\n        vertical-align: middle;\n    }\n\n    .dataframe tbody tr th {\n        vertical-align: top;\n    }\n\n    .dataframe thead th {\n        text-align: right;\n    }\n</style>\n<table border=\"1\" class=\"dataframe\">\n  <thead>\n    <tr style=\"text-align: right;\">\n      <th></th>\n      <th>availableFrom</th>\n      <th>bucketName</th>\n      <th>packageId</th>\n      <th>modified</th>\n      <th>id</th>\n      <th>files</th>\n      <th>numFiles</th>\n      <th>attributes</th>\n      <th>contentFrom</th>\n      <th>contentTo</th>\n      <th>availableTo</th>\n      <th>name</th>\n      <th>status</th>\n      <th>created</th>\n    </tr>\n  </thead>\n  <tbody>\n    <tr>\n      <th>0</th>\n      <td>2022-04-10T17:33:33Z</td>\n      <td>ESG</td>\n      <td>4c62-b05c-2a529a9d-81b3-224eacd50379</td>\n      <td>2022-04-10T17:34:05Z</td>\n      <td>4048-2385-9f32da98-910b-a78aba5b8a80</td>\n      <td>[4d52-4465-45b25d23-9f60-4171ddb4c130]</td>\n      <td>1</td>\n      <td>[{'name': 'ResultCount', 'value': '10854'}, {'...</td>\n      <td>2022-04-03T17:25:00Z</td>\n      <td>2022-04-10T17:25:00Z</td>\n      <td>2022-05-10T17:33:33Z</td>\n      <td>RFT-ESG-Raw-Current-SchemeA-Delta-2022-04-10</td>\n      <td>READY</td>\n      <td>2022-04-10T17:33:33Z</td>\n    </tr>\n    <tr>\n      <th>1</th>\n      <td>2022-04-24T17:12:28Z</td>\n      <td>ESG</td>\n      <td>4157-5865-69f2417d-8b77-21a75f7f12ad</td>\n      <td>2022-04-24T17:12:32Z</td>\n      <td>40ff-8971-2ed23ff1-b760-8707418aa010</td>\n      <td>[44f0-bf5c-322803cf-a1bc-9ee753e11c27]</td>\n      <td>1</td>\n      <td>[{'name': 'ResultCount', 'value': '12294'}, {'...</td>\n      <td>1970-01-01T00:00:00Z</td>\n      <td>2022-04-24T17:05:00Z</td>\n      <td>2022-05-24T17:12:28Z</td>\n      <td>RFT-ESG-Scores-Current-init-2022-04-24</td>\n      <td>READY</td>\n      <td>2022-04-24T17:12:28Z</td>\n    </tr>\n    <tr>\n      <th>2</th>\n      <td>2022-04-17T16:53:38Z</td>\n      <td>ESG</td>\n      <td>4308-bc80-2054dc20-83db-6224911311d0</td>\n      <td>2022-04-17T16:53:43Z</td>\n      <td>4152-cb80-36301124-bafa-ace196e2f6d4</td>\n      <td>[4d6c-5178-6ef5c944-9dd9-417ac7fc5bd5]</td>\n      <td>1</td>\n      <td>[{'name': 'ContentType', 'value': 'ESG Sources...</td>\n      <td>2022-04-10T16:45:00Z</td>\n      <td>2022-04-17T16:45:00Z</td>\n      <td>2022-05-01T16:53:38Z</td>\n      <td>RFT-ESG-Sources-Full-Delta-2022-04-17</td>\n      <td>READY</td>\n      <td>2022-04-17T16:53:38Z</td>\n    </tr>\n    <tr>\n      <th>3</th>\n      <td>2022-04-21T10:47:55Z</td>\n      <td>ESG</td>\n      <td>4b75-7bb9-7e73ca6a-b61e-855c6335a6b6</td>\n      <td>2022-04-21T10:48:03Z</td>\n      <td>41de-6520-76cf0a2a-892c-b99eb9329a6d</td>\n      <td>[4092-3fb8-250843ec-aa3e-bf136f276f49]</td>\n      <td>1</td>\n      <td>[{'name': 'ContentType', 'value': 'Symbology S...</td>\n      <td>1970-01-01T00:00:00Z</td>\n      <td>2022-04-21T10:30:00Z</td>\n      <td>2022-05-05T10:47:55Z</td>\n      <td>RFT-ESG-Symbology-SEDOL-Init-2022-04-21</td>\n      <td>READY</td>\n      <td>2022-04-21T10:47:55Z</td>\n    </tr>\n    <tr>\n      <th>4</th>\n      <td>2022-04-24T17:33:23Z</td>\n      <td>ESG</td>\n      <td>4c62-b05c-2a529a9d-81b3-224eacd50379</td>\n      <td>2022-04-24T17:33:55Z</td>\n      <td>41e3-e4c1-cae2600b-b8ca-0566e9cb9215</td>\n      <td>[4acf-25d9-63534ec9-aa9c-b8df74e1c844]</td>\n      <td>1</td>\n      <td>[{'name': 'ContentType', 'value': 'ESG Raw Cur...</td>\n      <td>2022-04-17T17:25:00Z</td>\n      <td>2022-04-24T17:25:00Z</td>\n      <td>2022-05-24T17:33:23Z</td>\n      <td>RFT-ESG-Raw-Current-SchemeA-Delta-2022-04-24</td>\n      <td>READY</td>\n      <td>2022-04-24T17:33:23Z</td>\n    </tr>\n  </tbody>\n</table>\n</div>"
     },
     "metadata": {},
     "output_type": "display_data"
    }
   ],
   "source": [
    "page1_response = cfs.file_sets.Definition(\n",
    "    bucket='esg', \n",
    "    page_size=5\n",
    ").get_data()\n",
    "display(page1_response.data.df)\n",
    "\n",
    "token = page1_response.data.raw[\"skip_token\"]\n",
    "\n",
    "page2_response = cfs.file_sets.Definition(\n",
    "    bucket='esg',\n",
    "    page_size=5,\n",
    "    skip_token=token,\n",
    ").get_data()\n",
    "display(page2_response.data.df)"
   ]
  },
  {
   "cell_type": "markdown",
   "metadata": {},
   "source": [
    "### Files"
   ]
  },
  {
   "cell_type": "markdown",
   "metadata": {},
   "source": [
    "#### Get Files of a FileSet"
   ]
  },
  {
   "cell_type": "code",
   "execution_count": 28,
   "metadata": {},
   "outputs": [
    {
     "data": {
      "text/plain": "               modified                                    storageLocation  \\\n0  2022-04-24T17:43:22Z  {'url': 'https://a206464-prod-esg.s3.amazonaws...   \n\n                                     id               created  \\\n0  4b17-870f-a540b6ca-b09e-7f700b3a449f  2022-04-24T17:43:22Z   \n\n                              filesetId  \\\n0  401c-77c6-5138c5dc-bcd2-574dc57149fe   \n\n                                                href  \\\n0  https://api.refinitiv.com/file-store/v1/files/...   \n\n                                            filename  fileSizeInBytes  \n0  RFT-ESG-Raw-Current-SchemeB-Social-Delta-2022-...         11618318  ",
      "text/html": "<div>\n<style scoped>\n    .dataframe tbody tr th:only-of-type {\n        vertical-align: middle;\n    }\n\n    .dataframe tbody tr th {\n        vertical-align: top;\n    }\n\n    .dataframe thead th {\n        text-align: right;\n    }\n</style>\n<table border=\"1\" class=\"dataframe\">\n  <thead>\n    <tr style=\"text-align: right;\">\n      <th></th>\n      <th>modified</th>\n      <th>storageLocation</th>\n      <th>id</th>\n      <th>created</th>\n      <th>filesetId</th>\n      <th>href</th>\n      <th>filename</th>\n      <th>fileSizeInBytes</th>\n    </tr>\n  </thead>\n  <tbody>\n    <tr>\n      <th>0</th>\n      <td>2022-04-24T17:43:22Z</td>\n      <td>{'url': 'https://a206464-prod-esg.s3.amazonaws...</td>\n      <td>4b17-870f-a540b6ca-b09e-7f700b3a449f</td>\n      <td>2022-04-24T17:43:22Z</td>\n      <td>401c-77c6-5138c5dc-bcd2-574dc57149fe</td>\n      <td>https://api.refinitiv.com/file-store/v1/files/...</td>\n      <td>RFT-ESG-Raw-Current-SchemeB-Social-Delta-2022-...</td>\n      <td>11618318</td>\n    </tr>\n  </tbody>\n</table>\n</div>"
     },
     "execution_count": 28,
     "metadata": {},
     "output_type": "execute_result"
    }
   ],
   "source": [
    "first_file_set_id = page1_response.data.df.at[0,'id']\n",
    "\n",
    "response = cfs.files.Definition(first_file_set_id).get_data()\n",
    "response.data.df"
   ]
  },
  {
   "cell_type": "markdown",
   "metadata": {},
   "source": [
    "### FileDownloader"
   ]
  },
  {
   "cell_type": "code",
   "execution_count": 29,
   "metadata": {},
   "outputs": [
    {
     "data": {
      "text/plain": "'RFT-ESG-Raw-Current-SchemeB-Social-Delta-2022-04-24.jsonl'"
     },
     "execution_count": 29,
     "metadata": {},
     "output_type": "execute_result"
    }
   ],
   "source": [
    "first_file = response.data.files[0]\n",
    "file_downloader = cfs.file_downloader.Definition(first_file).retrieve()\n",
    "file_downloader.download()\n",
    "file_downloader.extract()"
   ]
  },
  {
   "cell_type": "markdown",
   "metadata": {},
   "source": [
    "### Packages"
   ]
  },
  {
   "cell_type": "markdown",
   "metadata": {},
   "source": [
    "#### Get Packages"
   ]
  },
  {
   "cell_type": "code",
   "execution_count": 30,
   "metadata": {
    "tags": []
   },
   "outputs": [
    {
     "data": {
      "text/plain": "  packageType               contactEmail               created  \\\n0        bulk  anita.varma@refinitiv.com  2021-07-12T06:45:37Z   \n1        bulk  anita.varma@refinitiv.com  2020-10-09T13:55:14Z   \n\n                         packageName                             packageId  \\\n0  RFT-ESG-Scores-Wealth-Standard-v1  411f-f1a0-b6869167-a819-30c04e554fc6   \n1     RFT-ESG-Scores-Wealth-Standard  4bcc-4602-0a57ebb2-baf0-1fc9825e76b6   \n\n      bucketNames              modified  \n0  [rft-bulk-esg]  2021-07-12T06:45:37Z  \n1           [ESG]  2021-05-06T10:02:11Z  ",
      "text/html": "<div>\n<style scoped>\n    .dataframe tbody tr th:only-of-type {\n        vertical-align: middle;\n    }\n\n    .dataframe tbody tr th {\n        vertical-align: top;\n    }\n\n    .dataframe thead th {\n        text-align: right;\n    }\n</style>\n<table border=\"1\" class=\"dataframe\">\n  <thead>\n    <tr style=\"text-align: right;\">\n      <th></th>\n      <th>packageType</th>\n      <th>contactEmail</th>\n      <th>created</th>\n      <th>packageName</th>\n      <th>packageId</th>\n      <th>bucketNames</th>\n      <th>modified</th>\n    </tr>\n  </thead>\n  <tbody>\n    <tr>\n      <th>0</th>\n      <td>bulk</td>\n      <td>anita.varma@refinitiv.com</td>\n      <td>2021-07-12T06:45:37Z</td>\n      <td>RFT-ESG-Scores-Wealth-Standard-v1</td>\n      <td>411f-f1a0-b6869167-a819-30c04e554fc6</td>\n      <td>[rft-bulk-esg]</td>\n      <td>2021-07-12T06:45:37Z</td>\n    </tr>\n    <tr>\n      <th>1</th>\n      <td>bulk</td>\n      <td>anita.varma@refinitiv.com</td>\n      <td>2020-10-09T13:55:14Z</td>\n      <td>RFT-ESG-Scores-Wealth-Standard</td>\n      <td>4bcc-4602-0a57ebb2-baf0-1fc9825e76b6</td>\n      <td>[ESG]</td>\n      <td>2021-05-06T10:02:11Z</td>\n    </tr>\n  </tbody>\n</table>\n</div>"
     },
     "execution_count": 30,
     "metadata": {},
     "output_type": "execute_result"
    }
   ],
   "source": [
    "response = cfs.packages.Definition('RFT-ESG-Scores-Wealth-Standard').get_data()\n",
    "response.data.df"
   ]
  },
  {
   "cell_type": "markdown",
   "metadata": {},
   "source": [
    "#### Get Packages with more filters"
   ]
  },
  {
   "cell_type": "code",
   "execution_count": 31,
   "metadata": {},
   "outputs": [
    {
     "data": {
      "text/plain": "  packageType          contactEmail                      packageName  \\\n0        core  kraken@refinitiv.com                   VBD_MEX_SYM_5Y   \n1        core  kraken@refinitiv.com   VBD_BRU_REF_DATA_CUSIP_GICS_5Y   \n2        core  kraken@refinitiv.com        VBD_PTX_NORMALISED_MBO_5Y   \n3        core  kraken@refinitiv.com  VBD_DMX_SYM_CUSIP_SEDOL_GICS_5Y   \n4        core  kraken@refinitiv.com        VBD_SCZ_REF_INIT_SEDOL_5Y   \n5        core  kraken@refinitiv.com              VBD_TBE_SYM_GICS_5Y   \n6        core  kraken@refinitiv.com   VBD_TWA_TREU_SYM_SEDOL_GICS_5Y   \n7        core  kraken@refinitiv.com  VBD_BCU_REF_INIT_CUSIP_SEDOL_5Y   \n8        core  kraken@refinitiv.com   VBD_TAI_REF_DATA_CUSIP_GICS_5Y   \n9        core  kraken@refinitiv.com        VBD_CSI_SYM_SEDOL_GICS_5Y   \n\n                              packageId                bucketNames  \\\n0  4020-6002-8a707342-be53-88aa6c7e0537  [TICKHISTORY_VBD_LIMITED]   \n1  4020-ccb5-5e51d1af-bd94-bc99948046d2  [TICKHISTORY_VBD_LIMITED]   \n2  4021-71c8-0b7bb5f8-9d8a-37b8e6be645f  [TICKHISTORY_VBD_LIMITED]   \n3  4021-791d-6acc1987-9802-1ac35bf99d10  [TICKHISTORY_VBD_LIMITED]   \n4  4022-4ea0-7a90068e-a137-5b833c9d87d3  [TICKHISTORY_VBD_LIMITED]   \n5  4022-99ba-13b70471-acf4-a75383927f01  [TICKHISTORY_VBD_LIMITED]   \n6  4022-f047-35cea0f8-9254-f14f034959bf  [TICKHISTORY_VBD_LIMITED]   \n7  4023-67b0-e62e5d64-a88f-1db47a9f8a85  [TICKHISTORY_VBD_LIMITED]   \n8  4024-2b55-8e247668-b1db-1e6994e2d0bd  [TICKHISTORY_VBD_LIMITED]   \n9  4024-e861-bcb8e12f-b4f1-7cff4cbcf76c  [TICKHISTORY_VBD_LIMITED]   \n\n               modified               created  \\\n0  2020-11-23T06:01:11Z  2020-08-29T16:16:54Z   \n1  2020-11-23T04:15:58Z  2020-08-29T15:08:24Z   \n2  2021-12-05T04:10:03Z  2021-12-05T04:10:03Z   \n3  2020-11-23T06:51:39Z  2020-08-29T16:52:56Z   \n4  2020-11-23T06:36:03Z  2020-08-29T16:42:08Z   \n5  2020-11-23T06:53:20Z  2020-08-29T16:54:04Z   \n6  2020-11-23T05:15:54Z  2020-08-29T15:47:22Z   \n7  2020-11-23T05:17:33Z  2020-08-29T15:48:26Z   \n8  2020-11-23T07:14:10Z  2020-08-29T17:07:56Z   \n9  2020-11-23T04:33:06Z  2020-08-29T15:19:16Z   \n\n                                         description  \n0  Package for venue MEX with view sym and depth ...  \n1  Package for venue BRU with view ref-data-cusip...  \n2  Package for venue PTX with view normalisedMBO ...  \n3  Package for venue DMX with view sym-cusip-sedo...  \n4  Package for venue SCZ with view ref-init-sedol...  \n5  Package for venue TBE with view sym-gics and d...  \n6  Package for venue TWA_TREU with view sym-sedol...  \n7  Package for venue BCU with view ref-init-cusip...  \n8  Package for venue TAI with view ref-data-cusip...  \n9  Package for venue CSI with view sym-sedol-gics...  ",
      "text/html": "<div>\n<style scoped>\n    .dataframe tbody tr th:only-of-type {\n        vertical-align: middle;\n    }\n\n    .dataframe tbody tr th {\n        vertical-align: top;\n    }\n\n    .dataframe thead th {\n        text-align: right;\n    }\n</style>\n<table border=\"1\" class=\"dataframe\">\n  <thead>\n    <tr style=\"text-align: right;\">\n      <th></th>\n      <th>packageType</th>\n      <th>contactEmail</th>\n      <th>packageName</th>\n      <th>packageId</th>\n      <th>bucketNames</th>\n      <th>modified</th>\n      <th>created</th>\n      <th>description</th>\n    </tr>\n  </thead>\n  <tbody>\n    <tr>\n      <th>0</th>\n      <td>core</td>\n      <td>kraken@refinitiv.com</td>\n      <td>VBD_MEX_SYM_5Y</td>\n      <td>4020-6002-8a707342-be53-88aa6c7e0537</td>\n      <td>[TICKHISTORY_VBD_LIMITED]</td>\n      <td>2020-11-23T06:01:11Z</td>\n      <td>2020-08-29T16:16:54Z</td>\n      <td>Package for venue MEX with view sym and depth ...</td>\n    </tr>\n    <tr>\n      <th>1</th>\n      <td>core</td>\n      <td>kraken@refinitiv.com</td>\n      <td>VBD_BRU_REF_DATA_CUSIP_GICS_5Y</td>\n      <td>4020-ccb5-5e51d1af-bd94-bc99948046d2</td>\n      <td>[TICKHISTORY_VBD_LIMITED]</td>\n      <td>2020-11-23T04:15:58Z</td>\n      <td>2020-08-29T15:08:24Z</td>\n      <td>Package for venue BRU with view ref-data-cusip...</td>\n    </tr>\n    <tr>\n      <th>2</th>\n      <td>core</td>\n      <td>kraken@refinitiv.com</td>\n      <td>VBD_PTX_NORMALISED_MBO_5Y</td>\n      <td>4021-71c8-0b7bb5f8-9d8a-37b8e6be645f</td>\n      <td>[TICKHISTORY_VBD_LIMITED]</td>\n      <td>2021-12-05T04:10:03Z</td>\n      <td>2021-12-05T04:10:03Z</td>\n      <td>Package for venue PTX with view normalisedMBO ...</td>\n    </tr>\n    <tr>\n      <th>3</th>\n      <td>core</td>\n      <td>kraken@refinitiv.com</td>\n      <td>VBD_DMX_SYM_CUSIP_SEDOL_GICS_5Y</td>\n      <td>4021-791d-6acc1987-9802-1ac35bf99d10</td>\n      <td>[TICKHISTORY_VBD_LIMITED]</td>\n      <td>2020-11-23T06:51:39Z</td>\n      <td>2020-08-29T16:52:56Z</td>\n      <td>Package for venue DMX with view sym-cusip-sedo...</td>\n    </tr>\n    <tr>\n      <th>4</th>\n      <td>core</td>\n      <td>kraken@refinitiv.com</td>\n      <td>VBD_SCZ_REF_INIT_SEDOL_5Y</td>\n      <td>4022-4ea0-7a90068e-a137-5b833c9d87d3</td>\n      <td>[TICKHISTORY_VBD_LIMITED]</td>\n      <td>2020-11-23T06:36:03Z</td>\n      <td>2020-08-29T16:42:08Z</td>\n      <td>Package for venue SCZ with view ref-init-sedol...</td>\n    </tr>\n    <tr>\n      <th>5</th>\n      <td>core</td>\n      <td>kraken@refinitiv.com</td>\n      <td>VBD_TBE_SYM_GICS_5Y</td>\n      <td>4022-99ba-13b70471-acf4-a75383927f01</td>\n      <td>[TICKHISTORY_VBD_LIMITED]</td>\n      <td>2020-11-23T06:53:20Z</td>\n      <td>2020-08-29T16:54:04Z</td>\n      <td>Package for venue TBE with view sym-gics and d...</td>\n    </tr>\n    <tr>\n      <th>6</th>\n      <td>core</td>\n      <td>kraken@refinitiv.com</td>\n      <td>VBD_TWA_TREU_SYM_SEDOL_GICS_5Y</td>\n      <td>4022-f047-35cea0f8-9254-f14f034959bf</td>\n      <td>[TICKHISTORY_VBD_LIMITED]</td>\n      <td>2020-11-23T05:15:54Z</td>\n      <td>2020-08-29T15:47:22Z</td>\n      <td>Package for venue TWA_TREU with view sym-sedol...</td>\n    </tr>\n    <tr>\n      <th>7</th>\n      <td>core</td>\n      <td>kraken@refinitiv.com</td>\n      <td>VBD_BCU_REF_INIT_CUSIP_SEDOL_5Y</td>\n      <td>4023-67b0-e62e5d64-a88f-1db47a9f8a85</td>\n      <td>[TICKHISTORY_VBD_LIMITED]</td>\n      <td>2020-11-23T05:17:33Z</td>\n      <td>2020-08-29T15:48:26Z</td>\n      <td>Package for venue BCU with view ref-init-cusip...</td>\n    </tr>\n    <tr>\n      <th>8</th>\n      <td>core</td>\n      <td>kraken@refinitiv.com</td>\n      <td>VBD_TAI_REF_DATA_CUSIP_GICS_5Y</td>\n      <td>4024-2b55-8e247668-b1db-1e6994e2d0bd</td>\n      <td>[TICKHISTORY_VBD_LIMITED]</td>\n      <td>2020-11-23T07:14:10Z</td>\n      <td>2020-08-29T17:07:56Z</td>\n      <td>Package for venue TAI with view ref-data-cusip...</td>\n    </tr>\n    <tr>\n      <th>9</th>\n      <td>core</td>\n      <td>kraken@refinitiv.com</td>\n      <td>VBD_CSI_SYM_SEDOL_GICS_5Y</td>\n      <td>4024-e861-bcb8e12f-b4f1-7cff4cbcf76c</td>\n      <td>[TICKHISTORY_VBD_LIMITED]</td>\n      <td>2020-11-23T04:33:06Z</td>\n      <td>2020-08-29T15:19:16Z</td>\n      <td>Package for venue CSI with view sym-sedol-gics...</td>\n    </tr>\n  </tbody>\n</table>\n</div>"
     },
     "execution_count": 31,
     "metadata": {},
     "output_type": "execute_result"
    }
   ],
   "source": [
    "response = cfs.packages.Definition(\n",
    "    package_name=\"VBD\",\n",
    "    package_type=\"core\",\n",
    "    bucket_name=\"TICKHISTORY_VBD_LIMITED\",\n",
    "    page=10,\n",
    "    page_size=10,\n",
    ").get_data()\n",
    "response.data.df"
   ]
  },
  {
   "cell_type": "markdown",
   "metadata": {},
   "source": [
    "## Close the session"
   ]
  },
  {
   "cell_type": "code",
   "execution_count": 32,
   "metadata": {
    "pycharm": {
     "name": "#%%\n"
    }
   },
   "outputs": [],
   "source": [
    "rd.close_session()"
   ]
  },
  {
   "cell_type": "code",
   "execution_count": 32,
   "metadata": {},
   "outputs": [],
   "source": []
  }
 ],
 "metadata": {
  "kernelspec": {
   "display_name": "Python 3",
   "language": "python",
   "name": "python3"
  },
  "language_info": {
   "codemirror_mode": {
    "name": "ipython",
    "version": 3
   },
   "file_extension": ".py",
   "mimetype": "text/x-python",
   "name": "python",
   "nbconvert_exporter": "python",
   "pygments_lexer": "ipython3",
   "version": "3.7.6"
  }
 },
 "nbformat": 4,
 "nbformat_minor": 4
}