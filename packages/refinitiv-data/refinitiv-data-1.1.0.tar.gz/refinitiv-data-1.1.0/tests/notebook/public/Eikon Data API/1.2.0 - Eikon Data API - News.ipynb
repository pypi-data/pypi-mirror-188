{
 "cells": [
  {
   "cell_type": "markdown",
   "metadata": {},
   "source": [
    "# Eikon Data API - News examples\n",
    "This notebook demonstrates how to retrieve News Headlines and News Stories from Eikon or Refinitiv Workspace.\n",
    "\n",
    "#### Learn more\n",
    "To learn more about the Data API just connect to the Refinitiv Developer Community. By [registering](https://developers.refinitiv.com/iam/register) and [login](https://developers.refinitiv.com/iam/login) to the Refinitiv Developer Community portal you will get free access to a number of learning materials like [Quick Start guides](https://developers.refinitiv.com/eikon-apis/eikon-data-api/quick-start), [Tutorials](https://developers.refinitiv.com/eikon-apis/eikon-data-api/learning), [Documentation](https://developers.refinitiv.com/eikon-apis/eikon-data-api/docs) and much more.  \n",
    "\n",
    "#### About the \"eikon\" module of the Refinitiv Data Platform Library\n",
    "The \"eikon\" module of the Refinitiv Data Platform Library for Python embeds all functions of the classical Eikon Data API (\"eikon\" python library). This module works the same as the Eikon Data API and can be used by applications that need the best of the Eikon Data API while taking advantage of the latest features offered by the Refinitiv Data Platform Library for Python. \n",
    "\n",
    "#### Getting Help and Support\n",
    "If you have any questions regarding the API usage, please post them on the [Eikon Data API Q&A Forum](https://community.developers.thomsonreuters.com/spaces/92/index.html). The Refinitiv Developer Community will be very pleased to help you. \n"
   ]
  },
  {
   "cell_type": "markdown",
   "metadata": {},
   "source": [
    "## Import the library and connect to Eikon or Refinitiv Workspace"
   ]
  },
  {
   "cell_type": "code",
   "execution_count": 1,
   "metadata": {},
   "outputs": [],
   "source": [
    "import refinitiv.data.eikon as ek\n",
    "from IPython.display import HTML\n",
    "\n",
    "ek.set_app_key('YOUR APP KEY GOES HERE!')"
   ]
  },
  {
   "cell_type": "markdown",
   "metadata": {},
   "source": [
    "## Get News HeadLines"
   ]
  },
  {
   "cell_type": "code",
   "execution_count": 2,
   "metadata": {},
   "outputs": [
    {
     "data": {
      "text/html": [
       "<div>\n",
       "<style scoped>\n",
       "    .dataframe tbody tr th:only-of-type {\n",
       "        vertical-align: middle;\n",
       "    }\n",
       "\n",
       "    .dataframe tbody tr th {\n",
       "        vertical-align: top;\n",
       "    }\n",
       "\n",
       "    .dataframe thead th {\n",
       "        text-align: right;\n",
       "    }\n",
       "</style>\n",
       "<table border=\"1\" class=\"dataframe\">\n",
       "  <thead>\n",
       "    <tr style=\"text-align: right;\">\n",
       "      <th></th>\n",
       "      <th>versionCreated</th>\n",
       "      <th>text</th>\n",
       "      <th>storyId</th>\n",
       "      <th>sourceCode</th>\n",
       "    </tr>\n",
       "  </thead>\n",
       "  <tbody>\n",
       "    <tr>\n",
       "      <th>2021-11-03 15:55:34.844</th>\n",
       "      <td>2021-11-03 15:55:34.844000+00:00</td>\n",
       "      <td>Amazon, Apple warn supply-chain woes, labor sh...</td>\n",
       "      <td>urn:newsml:reuters.com:20211103:nNRAh85gpq:1</td>\n",
       "      <td>NS:WASHPO</td>\n",
       "    </tr>\n",
       "    <tr>\n",
       "      <th>2021-11-03 15:52:12.564</th>\n",
       "      <td>2021-11-03 15:54:43.184000+00:00</td>\n",
       "      <td>META CEO SAYS LAUNCHING BONUS PROGRAM THAT PAY...</td>\n",
       "      <td>urn:newsml:reuters.com:20211103:nFWN2RU1DJ:4</td>\n",
       "      <td>NS:RTRS</td>\n",
       "    </tr>\n",
       "    <tr>\n",
       "      <th>2021-11-03 15:52:12.564</th>\n",
       "      <td>2021-11-03 15:54:26.412000+00:00</td>\n",
       "      <td>META CEO - LAUNCHING PROMOTIONAL LINK FOR CREA...</td>\n",
       "      <td>urn:newsml:reuters.com:20211103:nFWN2RU1DJ:3</td>\n",
       "      <td>NS:RTRS</td>\n",
       "    </tr>\n",
       "    <tr>\n",
       "      <th>2021-11-03 15:52:12.564</th>\n",
       "      <td>2021-11-03 15:52:44.187000+00:00</td>\n",
       "      <td>META CEO ZUCKERBERG SAYS UPDATING ITS SUBSCRIP...</td>\n",
       "      <td>urn:newsml:reuters.com:20211103:nFWN2RU1DJ:2</td>\n",
       "      <td>NS:RTRS</td>\n",
       "    </tr>\n",
       "    <tr>\n",
       "      <th>2021-11-03 15:52:12.564</th>\n",
       "      <td>2021-11-03 15:52:12.564000+00:00</td>\n",
       "      <td>META CEO ZUCKERBERG SAYS 30% FEES THAT APPLE T...</td>\n",
       "      <td>urn:newsml:reuters.com:20211103:nFWN2RU1DJ:1</td>\n",
       "      <td>NS:RTRS</td>\n",
       "    </tr>\n",
       "    <tr>\n",
       "      <th>2021-11-03 14:56:35.000</th>\n",
       "      <td>2021-11-03 14:56:35+00:00</td>\n",
       "      <td>Funcionária demitida da Apple registra queixa ...</td>\n",
       "      <td>urn:newsml:reuters.com:20211103:nL1N2RU1CY:1</td>\n",
       "      <td>NS:RTRS</td>\n",
       "    </tr>\n",
       "    <tr>\n",
       "      <th>2021-11-03 14:32:04.605</th>\n",
       "      <td>2021-11-03 14:32:04.605000+00:00</td>\n",
       "      <td>Employee fired by Apple files NLRB charge alle...</td>\n",
       "      <td>urn:newsml:reuters.com:20211103:nNRAhaahqe:1</td>\n",
       "      <td>NS:WASHPO</td>\n",
       "    </tr>\n",
       "    <tr>\n",
       "      <th>2021-11-03 14:17:38.000</th>\n",
       "      <td>2021-11-03 14:17:38+00:00</td>\n",
       "      <td>Apple GmbH - Apple Fitness+ ab heute in Deutsc...</td>\n",
       "      <td>urn:newsml:reuters.com:20211103:nNDL1yRg88:1</td>\n",
       "      <td>NS:PUBT</td>\n",
       "    </tr>\n",
       "    <tr>\n",
       "      <th>2021-11-03 14:02:54.837</th>\n",
       "      <td>2021-11-03 14:02:54.837000+00:00</td>\n",
       "      <td>Apple's new AirPods Pro are the lowest price w...</td>\n",
       "      <td>urn:newsml:reuters.com:20211103:nNRAhb0cny:1</td>\n",
       "      <td>NS:USADAY</td>\n",
       "    </tr>\n",
       "    <tr>\n",
       "      <th>2021-11-03 12:00:02.008</th>\n",
       "      <td>2021-11-03 12:00:02.008000+00:00</td>\n",
       "      <td>Perception Point Researchers Discover Two MacO...</td>\n",
       "      <td>urn:newsml:reuters.com:20211103:nBwbbFGrHa:1</td>\n",
       "      <td>NS:BSW</td>\n",
       "    </tr>\n",
       "  </tbody>\n",
       "</table>\n",
       "</div>"
      ],
      "text/plain": [
       "                                          versionCreated  \\\n",
       "2021-11-03 15:55:34.844 2021-11-03 15:55:34.844000+00:00   \n",
       "2021-11-03 15:52:12.564 2021-11-03 15:54:43.184000+00:00   \n",
       "2021-11-03 15:52:12.564 2021-11-03 15:54:26.412000+00:00   \n",
       "2021-11-03 15:52:12.564 2021-11-03 15:52:44.187000+00:00   \n",
       "2021-11-03 15:52:12.564 2021-11-03 15:52:12.564000+00:00   \n",
       "2021-11-03 14:56:35.000        2021-11-03 14:56:35+00:00   \n",
       "2021-11-03 14:32:04.605 2021-11-03 14:32:04.605000+00:00   \n",
       "2021-11-03 14:17:38.000        2021-11-03 14:17:38+00:00   \n",
       "2021-11-03 14:02:54.837 2021-11-03 14:02:54.837000+00:00   \n",
       "2021-11-03 12:00:02.008 2021-11-03 12:00:02.008000+00:00   \n",
       "\n",
       "                                                                      text  \\\n",
       "2021-11-03 15:55:34.844  Amazon, Apple warn supply-chain woes, labor sh...   \n",
       "2021-11-03 15:52:12.564  META CEO SAYS LAUNCHING BONUS PROGRAM THAT PAY...   \n",
       "2021-11-03 15:52:12.564  META CEO - LAUNCHING PROMOTIONAL LINK FOR CREA...   \n",
       "2021-11-03 15:52:12.564  META CEO ZUCKERBERG SAYS UPDATING ITS SUBSCRIP...   \n",
       "2021-11-03 15:52:12.564  META CEO ZUCKERBERG SAYS 30% FEES THAT APPLE T...   \n",
       "2021-11-03 14:56:35.000  Funcionária demitida da Apple registra queixa ...   \n",
       "2021-11-03 14:32:04.605  Employee fired by Apple files NLRB charge alle...   \n",
       "2021-11-03 14:17:38.000  Apple GmbH - Apple Fitness+ ab heute in Deutsc...   \n",
       "2021-11-03 14:02:54.837  Apple's new AirPods Pro are the lowest price w...   \n",
       "2021-11-03 12:00:02.008  Perception Point Researchers Discover Two MacO...   \n",
       "\n",
       "                                                              storyId  \\\n",
       "2021-11-03 15:55:34.844  urn:newsml:reuters.com:20211103:nNRAh85gpq:1   \n",
       "2021-11-03 15:52:12.564  urn:newsml:reuters.com:20211103:nFWN2RU1DJ:4   \n",
       "2021-11-03 15:52:12.564  urn:newsml:reuters.com:20211103:nFWN2RU1DJ:3   \n",
       "2021-11-03 15:52:12.564  urn:newsml:reuters.com:20211103:nFWN2RU1DJ:2   \n",
       "2021-11-03 15:52:12.564  urn:newsml:reuters.com:20211103:nFWN2RU1DJ:1   \n",
       "2021-11-03 14:56:35.000  urn:newsml:reuters.com:20211103:nL1N2RU1CY:1   \n",
       "2021-11-03 14:32:04.605  urn:newsml:reuters.com:20211103:nNRAhaahqe:1   \n",
       "2021-11-03 14:17:38.000  urn:newsml:reuters.com:20211103:nNDL1yRg88:1   \n",
       "2021-11-03 14:02:54.837  urn:newsml:reuters.com:20211103:nNRAhb0cny:1   \n",
       "2021-11-03 12:00:02.008  urn:newsml:reuters.com:20211103:nBwbbFGrHa:1   \n",
       "\n",
       "                        sourceCode  \n",
       "2021-11-03 15:55:34.844  NS:WASHPO  \n",
       "2021-11-03 15:52:12.564    NS:RTRS  \n",
       "2021-11-03 15:52:12.564    NS:RTRS  \n",
       "2021-11-03 15:52:12.564    NS:RTRS  \n",
       "2021-11-03 15:52:12.564    NS:RTRS  \n",
       "2021-11-03 14:56:35.000    NS:RTRS  \n",
       "2021-11-03 14:32:04.605  NS:WASHPO  \n",
       "2021-11-03 14:17:38.000    NS:PUBT  \n",
       "2021-11-03 14:02:54.837  NS:USADAY  \n",
       "2021-11-03 12:00:02.008     NS:BSW  "
      ]
     },
     "execution_count": 2,
     "metadata": {},
     "output_type": "execute_result"
    }
   ],
   "source": [
    "ek.get_news_headlines(query = 'AAPL.O', count=10)"
   ]
  },
  {
   "cell_type": "markdown",
   "metadata": {},
   "source": [
    "## Get News Story"
   ]
  },
  {
   "cell_type": "markdown",
   "metadata": {},
   "source": [
    "#### Get the Story ID of the first headline for Apple"
   ]
  },
  {
   "cell_type": "code",
   "execution_count": 3,
   "metadata": {},
   "outputs": [
    {
     "data": {
      "text/plain": [
       "'urn:newsml:reuters.com:20211103:nNRAh85gpq:1'"
      ]
     },
     "execution_count": 3,
     "metadata": {},
     "output_type": "execute_result"
    }
   ],
   "source": [
    "headlines = ek.get_news_headlines('AAPL.O',1)\n",
    "story_id = headlines.iat[0,2]\n",
    "story_id"
   ]
  },
  {
   "cell_type": "markdown",
   "metadata": {},
   "source": [
    "#### Get the News story for this Story ID"
   ]
  },
  {
   "cell_type": "code",
   "execution_count": 4,
   "metadata": {},
   "outputs": [
    {
     "data": {
      "text/html": [
       "<div class=\"storyContent\" lang=\"en\"><style type=\"text/css\">.storyContent * {border-color:inherit !important;outline-color:inherit !important;}</style><div class=\"tr-npp-lead\"><p>Tech giants Apple and Amazon warned Thursday that the global supply-chain crunch and a domestic labor shortage are likely to wallop their bottom lines this holiday season, a sign that the head winds battering the U.S. economy will persist for some time to come.</p><p>To address the challenges, Amazon plans to spend an extra $4 billion to lure seasonal workers with richer paychecks and benefits, and to ensure that packages arrive at its warehouses and on customer's doorsteps, in part by shipping goods via less-crowded ports, said finance chief Brian Olsavsky.</p></div><div class=\"tr-npp-body\"><p>\"We're doing everything we can,\" said Olsavsky, whose company previously announced plans to hire 150,000 temporary workers this holiday season. \"The issue is, it's costly.\"</p><p>(Amazon founder Jeff Bezos owns The Washington Post.)</p><p>Apple CEO Tim Cook, speaking on a conference call with analysts, blamed silicon shortages and manufacturing issues related to the coronavirus pandemic for his company's revenue failing to meet expectations in its fiscal fourth quarter. Though Apple's overall revenue was up 29 percent, Cook said the company lost an estimated $6 billion to shortages and pandemic disruptions — a figure that could be even higher next quarter if the troubles affect crucial holiday-season sales.</p><p>\"While we are still living through unprecedented times, we are encouraged by progress around the world,\" he told analysts. \"We are optimistic about the future.\"</p><p>Investors soured on Amazon in after-hours trading, pushing shares down more than 4 percent. Apple shares were down 3.5 percent, nearly wiping out the gains it made this week.</p><p>Both companies are powerhouses in the global economy, and both have the financial wherewithal to weather the continuing, pandemic-related storm. Amazon chief executive Andy Jassy, who replaced Bezos in that role in July, highlighted that capacity in the company's earnings release, arguing that Amazon has the ability to spend on wages and warehouses and withstand losses to expand its market.</p><p>\"We've always said that when confronted with the choice between optimizing for short-term profits versus what's best for customers over the long term, we will choose the latter — and you can see that during every phase of this pandemic,\" Jassy said in a statement.</p><p>When the tech giants warn of economic challenges, however, it suggests that companies without their leverage could face even more severe head winds. Cook, for instance, pointed out that the worst chip shortages have not occurred in the smaller, faster \"leading-edge\" chips that Apple puts in its new smartphones, iPads and laptops. Instead, he said, the worst shortages have affected older \"legacy\" chips — the kind used by automakers, for example.</p><p>Companies like Apple can also leverage their manufacturing prowess and relationships with suppliers to lessen the blow of the chip-related turmoil. Cook said the company's operations teams have been reducing Apple's \"yield times,\" effectively shortening the time it takes to make a product so that any chip-related delays are less likely to irk customers.</p><p>\"When you get a chip off a [fabrication facility], it's as quickly as possible [put] in a product we ship,\" Cook said, referring to facilities that make the company's semiconductors, or chips.</p><p>Cook said Apple also has coordinated with manufacturing partners to help increase their yields, or the amount of product they can produce and ship to Apple. \"We're working with our partners in making sure they have supply that we need,\" Cook said.</p><p>Meanwhile, Amazon's economic difficulties are so brutal that it might not turn an operating profit in the fourth quarter. It said Thursday it expects to earn between $0 and $3 billion in operating income for the period, compared to $6.9 billion a year ago.</p><p>Even as consumers aggressively filled their pandemic shopping carts, Amazon's profits fell by nearly half to $3.2 billion in the third quarter as it hired workers, wrestled with supply-chain challenges and built out its warehouse operations. The company now employs 1.47 million workers — up from 1.34 million workers just three months ago — making it the nation's second-largest private employer after Walmart.</p><p>To add those workers, Amazon has raised wages and doled out sign-on incentives, Olsavsky said. The company's average starting pay for warehouse jobs is now $18 an hour, and new employees can expect signing bonuses of up to $3,000 — expenses that added about $1 billion in unexpected costs in the third quarter.</p><p>Amazon incurred another $1 billion in lost productivity costs tied to challenges getting goods to its warehouses. And the company spent more money redirecting inventory to warehouses \"that had labor to receive the product,\" Olsavsky said, adding that both categories of expenses are likely to double during the holiday period.</p><p>The struggle to hire comes as Amazon continues to battle unions trying to organize its warehouse workforce. On Monday, warehouse workers at an Amazon facility in New York filed a petition to hold a unionization vote.</p><p>In April, Amazon fended off an organizing drive at a Bessemer, Ala., warehouse, where workers rejected unionization by a more than 2-to-1 margin, though a National Labor Relations Board hearing officer recommended in August that the results be scrapped because of alleged improprieties, and a new election held. The agency has yet to rule on those recommendations.</p><p>Apple's executives didn't get any questions about worker shortages at its retail stores. Cook said on the call that the company recently opened three stores in China, Turkey and the Bronx, giving it at least one store in all of New York City's five boroughs.</p><p>Apple was affected by coronavirus-related manufacturing hiccups, he said, particularly in Southeast Asia, where the company has increased its manufacturing footprint, though Cook said the manufacturing disruptions were few and far between in October.</p><p>\"I'm not going to predict where it goes, but I can tell you that ensure we're in a materially better position than we were,\" he said.</p><p>Cook said Apple has seen a significant increase in the cost of shipping its products, which could eat into its margins. \"I would assume that is pretty consistent across different companies, so we're seeing some inflation there,\" he said.</p><p>But unlike Apple, most companies do not have nearly $200 billion in cash reserves to cover the higher costs.</p></div><p class=\"line-break\"><br/></p><p class=\"tr-copyright\">Copyright (c) 2021 The Washington Post</p></div>"
      ],
      "text/plain": [
       "<IPython.core.display.HTML object>"
      ]
     },
     "execution_count": 4,
     "metadata": {},
     "output_type": "execute_result"
    }
   ],
   "source": [
    "story = ek.get_news_story(story_id)\n",
    "HTML(story)"
   ]
  },
  {
   "cell_type": "code",
   "execution_count": null,
   "metadata": {},
   "outputs": [],
   "source": []
  },
  {
   "cell_type": "code",
   "execution_count": null,
   "metadata": {},
   "outputs": [],
   "source": []
  }
 ],
 "metadata": {
  "kernelspec": {
   "display_name": "Python 3",
   "language": "python",
   "name": "python3"
  },
  "language_info": {
   "codemirror_mode": {
    "name": "ipython",
    "version": 3
   },
   "file_extension": ".py",
   "mimetype": "text/x-python",
   "name": "python",
   "nbconvert_exporter": "python",
   "pygments_lexer": "ipython3",
   "version": "3.7.6"
  }
 },
 "nbformat": 4,
 "nbformat_minor": 4
}
