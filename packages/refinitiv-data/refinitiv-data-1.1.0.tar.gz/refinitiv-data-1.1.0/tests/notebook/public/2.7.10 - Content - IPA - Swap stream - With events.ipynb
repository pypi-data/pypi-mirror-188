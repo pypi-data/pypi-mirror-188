{
 "cells": [
  {
   "cell_type": "markdown",
   "metadata": {},
   "source": [
    "# Refinitiv Data Library for Python"
   ]
  },
  {
   "cell_type": "markdown",
   "metadata": {},
   "source": [
    "## Content layer - IPA - Swap stream - With events\n",
    "This notebook demonstrates how to use a Swap pricing analytics stream either directly from the Refinitiv Data Platform or via Refinitiv Workspace or CodeBook."
   ]
  },
  {
   "cell_type": "markdown",
   "metadata": {},
   "source": [
    "#### Learn more\n",
    "\n",
    "To learn more about the Refinitiv Data Library for Python please join the Refinitiv Developer Community. By [registering](https://developers.refinitiv.com/iam/register) and [logging](https://developers.refinitiv.com/content/devportal/en_us/initCookie.html) into the Refinitiv Developer Community portal you will have free access to a number of learning materials like \n",
    " [Quick Start guides](https://developers.refinitiv.com/en/api-catalog/refinitiv-data-platform/refinitiv-data-library-for-python/quick-start), \n",
    " [Tutorials](https://developers.refinitiv.com/en/api-catalog/refinitiv-data-platform/refinitiv-data-library-for-python/learning), \n",
    " [Documentation](https://developers.refinitiv.com/en/api-catalog/refinitiv-data-platform/refinitiv-data-library-for-python/docs)\n",
    " and much more.\n",
    "\n",
    "#### Getting Help and Support\n",
    "\n",
    "If you have any questions regarding using the API, please post them on \n",
    "the [Refinitiv Data Q&A Forum](https://community.developers.refinitiv.com/spaces/321/index.html). \n",
    "The Refinitiv Developer Community will be happy to help. "
   ]
  },
  {
   "cell_type": "markdown",
   "metadata": {},
   "source": [
    "## Some Imports to start with"
   ]
  },
  {
   "cell_type": "code",
   "execution_count": 1,
   "metadata": {},
   "outputs": [],
   "source": [
    "import refinitiv.data as rd\n",
    "from refinitiv.data.content.ipa.financial_contracts import swap\n",
    "import datetime"
   ]
  },
  {
   "cell_type": "markdown",
   "metadata": {},
   "source": [
    "## Open the data session\n",
    "\n",
    "The open_session() function creates and open sessions based on the information contained in the refinitiv-data.config.json configuration file. Please edit this file to set the session type and other parameters required for the session you want to open."
   ]
  },
  {
   "cell_type": "code",
   "execution_count": 2,
   "metadata": {},
   "outputs": [
    {
     "data": {
      "text/plain": [
       "<refinitiv.data.session._desktop_session.Definition object at 0x7fd27895ea90 {name='default'}>"
      ]
     },
     "execution_count": 2,
     "metadata": {},
     "output_type": "execute_result"
    }
   ],
   "source": [
    "rd.open_session()"
   ]
  },
  {
   "cell_type": "markdown",
   "metadata": {},
   "source": [
    "## About events\n",
    "When you use a QuantitativeDataStream object to open streaming instruments with events, you need to define callback functions that are called by a background execution thread when new events are received for the instruments you requested. There are 3 different types of functions you can use depending on the type of events you are interrested in. These callback functions are optionnal meaning that you do not have to use all of them. \n",
    "\n",
    "### The 3 event types and their related callback functions:\n",
    " - **Response events:** \n",
    " \n",
    " Callback functions used to receive Response events take 3 parameters: \n",
    "  - The QuantitativeDataStream that received the event.\n",
    "  - The data of the concerned instrument.\n",
    "  - The field names of the data.\n",
    " \n",
    " \n",
    " - **Update events:** \n",
    " \n",
    " Callback functions used to receive Update events take 3 parameters \n",
    "  - The QuantitativeDataStream that received the event.\n",
    "  - The data of the concerned instrument.\n",
    "  - The field names of the data.\n",
    " \n",
    " \n",
    " - **State events:** \n",
    " \n",
    " Callback functions used to receive Update events take 3 parameters \n",
    "  - The QuantitativeDataStream that received the event.\n",
    "  - The state of the stream."
   ]
  },
  {
   "cell_type": "markdown",
   "metadata": {},
   "source": [
    "## Retrieve data"
   ]
  },
  {
   "cell_type": "markdown",
   "metadata": {},
   "source": [
    "### Define the Swap"
   ]
  },
  {
   "cell_type": "code",
   "execution_count": 3,
   "metadata": {},
   "outputs": [],
   "source": [
    "swap = swap.Definition(\n",
    "        tenor=\"3Y\",\n",
    "        instrument_code=\"EURAB6E3Y=\",\n",
    "        pricing_parameters=swap.PricingParameters(\n",
    "            index_convexity_adjustment_integration_method=swap.IndexConvexityAdjustmentIntegrationMethod.RIEMANN_SUM,\n",
    "            index_convexity_adjustment_method=swap.IndexConvexityAdjustmentMethod.BLACK_SCHOLES,\n",
    "            valuation_date=\"2021-03-09\",\n",
    "        ),\n",
    "        fields=[\n",
    "            \"InstrumentDescription\",\n",
    "            \"ValuationDate\",\n",
    "            \"StartDate\",\n",
    "            \"FixedRate\",\n",
    "        ],\n",
    "    )"
   ]
  },
  {
   "cell_type": "markdown",
   "metadata": {},
   "source": [
    "### Get the stream and register callbacks to receive events"
   ]
  },
  {
   "cell_type": "code",
   "execution_count": 4,
   "metadata": {},
   "outputs": [],
   "source": [
    "def display_event(eventType, data, headers):\n",
    "    currentTime = datetime.datetime.now().time()\n",
    "    print(\"----------------------------------------------------------\")\n",
    "    print(\">>> {} event received at {}\".format(eventType, currentTime))\n",
    "    print(data)\n",
    "    print(headers)\n",
    "    \n",
    "stream = (\n",
    "        swap.get_stream()\n",
    "        .on_response(lambda stream, data, headers: display_event(\"response\", data, headers))\n",
    "        .on_update(lambda stream, data, headers: display_event(\"update\", data, headers))\n",
    "        .on_state(lambda stream, data: display_event(\"state\", data, None))\n",
    "    )"
   ]
  },
  {
   "cell_type": "markdown",
   "metadata": {},
   "source": [
    "### Open the stream"
   ]
  },
  {
   "cell_type": "code",
   "execution_count": 6,
   "metadata": {},
   "outputs": [
    {
     "name": "stdout",
     "output_type": "stream",
     "text": [
      "----------------------------------------------------------\n",
      ">>> response event received at 17:12:50.332236\n",
      "[[\"PaidLeg[Curr:'EUR' Type:'Fixed']\", '2021-03-09T00:00:00Z', '2021-03-11T00:00:00Z', -0.00436499989985321], [\"ReceivedLeg[Curr:'EUR' Type:'Float']\", '2021-03-09T00:00:00Z', '2021-03-11T00:00:00Z', None]]\n",
      "['InstrumentDescription', 'ValuationDate', 'StartDate', 'FixedRate']\n"
     ]
    },
    {
     "data": {
      "text/plain": [
       "<OpenState.Opened: 1>"
      ]
     },
     "execution_count": 6,
     "metadata": {},
     "output_type": "execute_result"
    }
   ],
   "source": [
    "stream.open()"
   ]
  },
  {
   "cell_type": "markdown",
   "metadata": {},
   "source": [
    "### Close the stream"
   ]
  },
  {
   "cell_type": "code",
   "execution_count": 7,
   "metadata": {},
   "outputs": [
    {
     "data": {
      "text/plain": [
       "<OpenState.Closed: 3>"
      ]
     },
     "execution_count": 7,
     "metadata": {},
     "output_type": "execute_result"
    }
   ],
   "source": [
    "stream.close()"
   ]
  },
  {
   "cell_type": "markdown",
   "metadata": {},
   "source": [
    "## Close the session"
   ]
  },
  {
   "cell_type": "code",
   "execution_count": 8,
   "metadata": {
    "pycharm": {
     "name": "#%%\n"
    }
   },
   "outputs": [],
   "source": [
    "rd.close_session()"
   ]
  },
  {
   "cell_type": "code",
   "execution_count": null,
   "metadata": {},
   "outputs": [],
   "source": []
  }
 ],
 "metadata": {
  "kernelspec": {
   "display_name": "Python 3",
   "language": "python",
   "name": "python3"
  },
  "language_info": {
   "codemirror_mode": {
    "name": "ipython",
    "version": 3
   },
   "file_extension": ".py",
   "mimetype": "text/x-python",
   "name": "python",
   "nbconvert_exporter": "python",
   "pygments_lexer": "ipython3",
   "version": "3.7.6"
  }
 },
 "nbformat": 4,
 "nbformat_minor": 4
}
