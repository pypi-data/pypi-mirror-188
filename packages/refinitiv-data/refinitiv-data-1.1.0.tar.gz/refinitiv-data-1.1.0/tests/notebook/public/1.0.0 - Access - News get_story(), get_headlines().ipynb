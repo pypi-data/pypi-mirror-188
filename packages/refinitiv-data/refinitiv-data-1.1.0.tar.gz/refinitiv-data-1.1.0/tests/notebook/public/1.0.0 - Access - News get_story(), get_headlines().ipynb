{
 "cells": [
  {
   "cell_type": "markdown",
   "id": "df16bd5c",
   "metadata": {},
   "source": [
    "# Refinitiv Data Library for Python"
   ]
  },
  {
   "cell_type": "markdown",
   "id": "21de9fed",
   "metadata": {},
   "source": [
    "## Access layer - News\n",
    "This notebook demonstrates how to retrieve News story and headlines data using the get_story() and get_story() functions."
   ]
  },
  {
   "cell_type": "markdown",
   "id": "fa15fbd3",
   "metadata": {},
   "source": [
    "#### Learn more\n",
    "\n",
    "To learn more about the Refinitiv Data Library for Python please join the Refinitiv Developer Community. By [registering](https://developers.refinitiv.com/iam/register) and [logging](https://developers.refinitiv.com/content/devportal/en_us/initCookie.html) into the Refinitiv Developer Community portal you will have free access to a number of learning materials like \n",
    " [Quick Start guides](https://developers.refinitiv.com/en/api-catalog/refinitiv-data-platform/refinitiv-data-library-for-python/quick-start), \n",
    " [Tutorials](https://developers.refinitiv.com/en/api-catalog/refinitiv-data-platform/refinitiv-data-library-for-python/learning), \n",
    " [Documentation](https://developers.refinitiv.com/en/api-catalog/refinitiv-data-platform/refinitiv-data-library-for-python/docs)\n",
    " and much more.\n",
    "\n",
    "#### Getting Help and Support\n",
    "\n",
    "If you have any questions regarding using the API, please post them on \n",
    "the [Refinitiv Data Q&A Forum](https://community.developers.refinitiv.com/spaces/321/index.html). \n",
    "The Refinitiv Developer Community will be happy to help. "
   ]
  },
  {
   "cell_type": "markdown",
   "id": "26c93555",
   "metadata": {},
   "source": [
    "## Get story\n",
    "The get_story() function allows you to retrieve news story data.\n",
    "\n",
    "\n",
    "***get_story()*** parameters: \n",
    "- ***story_id***: News Story ID\n",
    "    - Type: String\n",
    "    - Optionnal: No  \n",
    "- ***format***: Specifies the type of response. If parameter Format.TEXT return text string, otherwise returns HTML response\n",
    "    - Type: String or Format enum\n",
    "    - Optionnal: Yes  \n",
    "    \n",
    "**get_story()** returns a story html or text response\n",
    "\n",
    "## Get headlines\n",
    "The get_headlines() function allows you to retrieve news headlines data.\n",
    "\n",
    "\n",
    "***get_headlines()*** parameters: \n",
    "- ***query***: The user search query.\n",
    "    - Type: String\n",
    "    - Optionnal: No  \n",
    "- ***count***: Count to limit number of headlines. Min value is 0. Default: 10\n",
    "    - Type: int\n",
    "    - Optionnal: Yes  \n",
    "- ***start***: Beginning of date range. String format is: '%Y-%m-%dT%H:%M:%S'. e.g. '2016-01-20T15:04:05'.\n",
    "    - Type: str or timedelta, optional\n",
    "    - Optionnal: Yes  \n",
    "- ***end***: End of date range. String format is: '%Y-%m-%dT%H:%M:%S'. e.g. '2016-01-20T15:04:05'.\n",
    "    - Type: str or timedelta, optional\n",
    "    - Optionnal: Yes  \n",
    "- ***order_by***: Value from SortOrder enum. Default: SortOrder.new_to_old\n",
    "    - Type: SortOrder\n",
    "    - Optionnal: Yes  \n",
    "\n",
    "    \n",
    "**get_headlines()** pd.DataFrame. Headlines dataframe."
   ]
  },
  {
   "cell_type": "markdown",
   "id": "1dd95573",
   "metadata": {},
   "source": [
    "## Some Imports to start with"
   ]
  },
  {
   "cell_type": "code",
   "execution_count": 1,
   "id": "3e6d79fd",
   "metadata": {},
   "outputs": [
    {
     "name": "stderr",
     "output_type": "stream",
     "text": [
      "c:\\users\\ux501764\\work\\refinitiv-data\\venv38\\lib\\site-packages\\refinitiv\\data\\_config_defaults.py:333: UserWarning: Default library config was changed. This may cause unexpected errors. Please use user config to introduce new changes. You can reinstall refinitiv-data to revert changes back.\n",
      "  warnings.warn(\n"
     ]
    }
   ],
   "source": [
    "import refinitiv.data as rd\n",
    "from refinitiv.data import news\n",
    "from datetime import timedelta"
   ]
  },
  {
   "cell_type": "markdown",
   "id": "a34e7d8a",
   "metadata": {},
   "source": [
    "## Open the data session\n",
    "\n",
    "The open_session() function creates and open sessions based on the information contained in the refinitiv-data.config.json configuration file. Please edit this file to set the session type and other parameters required for the session you want to open."
   ]
  },
  {
   "cell_type": "code",
   "execution_count": 2,
   "id": "90d94f7d",
   "metadata": {},
   "outputs": [
    {
     "name": "stderr",
     "output_type": "stream",
     "text": [
      "[Error 401 - invalid_client] Invalid Application Credential.\n"
     ]
    },
    {
     "data": {
      "text/plain": [
       "<refinitiv.data.session.Definition object at 0x12bffe20a90 {name='default'}>"
      ]
     },
     "execution_count": 2,
     "metadata": {},
     "output_type": "execute_result"
    }
   ],
   "source": [
    "rd.open_session()"
   ]
  },
  {
   "cell_type": "markdown",
   "id": "442e6240",
   "metadata": {},
   "source": [
    "## Retrieve data"
   ]
  },
  {
   "cell_type": "markdown",
   "id": "5507075a",
   "metadata": {},
   "source": [
    "### Get story"
   ]
  },
  {
   "cell_type": "code",
   "execution_count": null,
   "id": "4ca8f820",
   "metadata": {},
   "outputs": [],
   "source": [
    "text = rd.news.get_story(\"urn:newsml:reuters.com:20220713:nL1N2YU10J\")\n",
    "print(text)"
   ]
  },
  {
   "cell_type": "code",
   "execution_count": null,
   "id": "2153c3f6",
   "metadata": {},
   "outputs": [],
   "source": [
    "html = rd.news.get_story(\"urn:newsml:reuters.com:20220713:nL1N2YU10J\", format=news.Format.HTML)\n",
    "print(html)"
   ]
  },
  {
   "cell_type": "markdown",
   "id": "be22920a",
   "metadata": {},
   "source": [
    "### Get headlines"
   ]
  },
  {
   "cell_type": "code",
   "execution_count": null,
   "id": "06e87273",
   "metadata": {},
   "outputs": [],
   "source": [
    "rd.news.get_headlines(\"Refinitiv\", start=\"20.03.2021\", end=timedelta(days=-4), count=3)"
   ]
  },
  {
   "cell_type": "markdown",
   "id": "5927b518",
   "metadata": {},
   "source": [
    "### Close the session"
   ]
  },
  {
   "cell_type": "code",
   "execution_count": null,
   "id": "a3284410",
   "metadata": {},
   "outputs": [],
   "source": [
    "rd.close_session()"
   ]
  }
 ],
 "metadata": {
  "kernelspec": {
   "display_name": "Python 3 (ipykernel)",
   "language": "python",
   "name": "python3"
  },
  "language_info": {
   "codemirror_mode": {
    "name": "ipython",
    "version": 3
   },
   "file_extension": ".py",
   "mimetype": "text/x-python",
   "name": "python",
   "nbconvert_exporter": "python",
   "pygments_lexer": "ipython3",
   "version": "3.8.10"
  }
 },
 "nbformat": 4,
 "nbformat_minor": 5
}
