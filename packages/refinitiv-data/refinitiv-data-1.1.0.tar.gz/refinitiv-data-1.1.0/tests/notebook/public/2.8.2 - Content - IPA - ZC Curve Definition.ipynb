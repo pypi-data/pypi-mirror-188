{
 "cells": [
  {
   "cell_type": "markdown",
   "metadata": {},
   "source": [
    "# Refinitiv Data Library for Python"
   ]
  },
  {
   "cell_type": "markdown",
   "metadata": {},
   "source": [
    "## Content layer - IPA - ZC Curve Definition\n",
    "This notebook demonstrates how to retrieve Zero Coupon Curve Definition data either directly from the Refinitiv Data Platform or via Refinitiv Workspace or CodeBook."
   ]
  },
  {
   "cell_type": "markdown",
   "metadata": {},
   "source": [
    "#### Learn more\n",
    "\n",
    "To learn more about the Refinitiv Data Library for Python please join the Refinitiv Developer Community. By [registering](https://developers.refinitiv.com/iam/register) and [logging](https://developers.refinitiv.com/content/devportal/en_us/initCookie.html) into the Refinitiv Developer Community portal you will have free access to a number of learning materials like \n",
    " [Quick Start guides](https://developers.refinitiv.com/en/api-catalog/refinitiv-data-platform/refinitiv-data-library-for-python/quick-start), \n",
    " [Tutorials](https://developers.refinitiv.com/en/api-catalog/refinitiv-data-platform/refinitiv-data-library-for-python/learning), \n",
    " [Documentation](https://developers.refinitiv.com/en/api-catalog/refinitiv-data-platform/refinitiv-data-library-for-python/docs)\n",
    " and much more.\n",
    "\n",
    "#### Getting Help and Support\n",
    "\n",
    "If you have any questions regarding using the API, please post them on \n",
    "the [Refinitiv Data Q&A Forum](https://community.developers.refinitiv.com/spaces/321/index.html). \n",
    "The Refinitiv Developer Community will be happy to help. "
   ]
  },
  {
   "cell_type": "markdown",
   "metadata": {},
   "source": [
    "## Some Imports to start with"
   ]
  },
  {
   "cell_type": "code",
   "execution_count": 1,
   "metadata": {},
   "outputs": [],
   "source": [
    "import refinitiv.data as rd\n",
    "from refinitiv.data.content.ipa.curves import zc_curve_definitions"
   ]
  },
  {
   "cell_type": "markdown",
   "metadata": {},
   "source": [
    "## Open the data session\n",
    "\n",
    "The open_session() function creates and open sessions based on the information contained in the refinitiv-data.config.json configuration file. Please edit this file to set the session type and other parameters required for the session you want to open."
   ]
  },
  {
   "cell_type": "code",
   "execution_count": 2,
   "metadata": {},
   "outputs": [
    {
     "data": {
      "text/plain": [
       "<refinitiv.data.session._desktop_session.Definition object at 0x7fe89a746d10 {name='default'}>"
      ]
     },
     "execution_count": 2,
     "metadata": {},
     "output_type": "execute_result"
    }
   ],
   "source": [
    "rd.open_session()"
   ]
  },
  {
   "cell_type": "markdown",
   "metadata": {},
   "source": [
    "## Retrieve data"
   ]
  },
  {
   "cell_type": "code",
   "execution_count": 3,
   "metadata": {},
   "outputs": [
    {
     "data": {
      "text/html": [
       "<div>\n",
       "<style scoped>\n",
       "    .dataframe tbody tr th:only-of-type {\n",
       "        vertical-align: middle;\n",
       "    }\n",
       "\n",
       "    .dataframe tbody tr th {\n",
       "        vertical-align: top;\n",
       "    }\n",
       "\n",
       "    .dataframe thead th {\n",
       "        text-align: right;\n",
       "    }\n",
       "</style>\n",
       "<table border=\"1\" class=\"dataframe\">\n",
       "  <thead>\n",
       "    <tr style=\"text-align: right;\">\n",
       "      <th></th>\n",
       "      <th>currency</th>\n",
       "      <th>mainConstituentAssetClass</th>\n",
       "      <th>riskType</th>\n",
       "      <th>indexName</th>\n",
       "      <th>source</th>\n",
       "      <th>name</th>\n",
       "      <th>firstHistoricalAvailabilityDate</th>\n",
       "      <th>id</th>\n",
       "      <th>availableTenors</th>\n",
       "      <th>availableDiscountingTenors</th>\n",
       "      <th>marketDataLocation</th>\n",
       "    </tr>\n",
       "  </thead>\n",
       "  <tbody>\n",
       "    <tr>\n",
       "      <th>0</th>\n",
       "      <td>BRL</td>\n",
       "      <td>Swap</td>\n",
       "      <td>InterestRate</td>\n",
       "      <td>DICLOSE</td>\n",
       "      <td>Refinitiv</td>\n",
       "      <td>BRL DI Swap ZC Curve</td>\n",
       "      <td>2011-01-05</td>\n",
       "      <td>0aa32067-d7d9-48f0-908b-4a12281207f8</td>\n",
       "      <td>[1D]</td>\n",
       "      <td>[1D]</td>\n",
       "      <td>&lt;NA&gt;</td>\n",
       "    </tr>\n",
       "    <tr>\n",
       "      <th>1</th>\n",
       "      <td>INR</td>\n",
       "      <td>Swap</td>\n",
       "      <td>InterestRate</td>\n",
       "      <td>MIFOR</td>\n",
       "      <td>Refinitiv</td>\n",
       "      <td>INR MIFOR Swap ZC Curve</td>\n",
       "      <td>2013-07-29</td>\n",
       "      <td>15b962cd-078d-43ec-809b-a51a120cd3ac</td>\n",
       "      <td>[6M, OIS]</td>\n",
       "      <td>[6M, OIS]</td>\n",
       "      <td>&lt;NA&gt;</td>\n",
       "    </tr>\n",
       "    <tr>\n",
       "      <th>2</th>\n",
       "      <td>AUD</td>\n",
       "      <td>Swap</td>\n",
       "      <td>InterestRate</td>\n",
       "      <td>BBSW</td>\n",
       "      <td>Refinitiv</td>\n",
       "      <td>AUD BBSW Swap ZC Curve</td>\n",
       "      <td>2016-11-07</td>\n",
       "      <td>a69788a8-114a-476a-998e-48404dab43ee</td>\n",
       "      <td>[6M, OIS, 3M, 1M]</td>\n",
       "      <td>[6M, OIS, 3M, 1M]</td>\n",
       "      <td>&lt;NA&gt;</td>\n",
       "    </tr>\n",
       "    <tr>\n",
       "      <th>3</th>\n",
       "      <td>BHD</td>\n",
       "      <td>Swap</td>\n",
       "      <td>InterestRate</td>\n",
       "      <td>BHIBOR</td>\n",
       "      <td>Refinitiv</td>\n",
       "      <td>BHD BHIBOR Swap ZC Curve</td>\n",
       "      <td>2016-02-08</td>\n",
       "      <td>6463b459-8c98-40a5-a779-a58967f22435</td>\n",
       "      <td>[3M]</td>\n",
       "      <td>[3M]</td>\n",
       "      <td>&lt;NA&gt;</td>\n",
       "    </tr>\n",
       "    <tr>\n",
       "      <th>4</th>\n",
       "      <td>CHF</td>\n",
       "      <td>Swap</td>\n",
       "      <td>InterestRate</td>\n",
       "      <td>LIBOR</td>\n",
       "      <td>Refinitiv</td>\n",
       "      <td>CHF LIBOR Swap ZC Curve</td>\n",
       "      <td>2015-02-26</td>\n",
       "      <td>8bf899eb-ab35-484e-86d4-83dabe0d7f51</td>\n",
       "      <td>[6M, OIS, 3M, 1M]</td>\n",
       "      <td>[6M, OIS, 3M, 1M]</td>\n",
       "      <td>&lt;NA&gt;</td>\n",
       "    </tr>\n",
       "    <tr>\n",
       "      <th>...</th>\n",
       "      <td>...</td>\n",
       "      <td>...</td>\n",
       "      <td>...</td>\n",
       "      <td>...</td>\n",
       "      <td>...</td>\n",
       "      <td>...</td>\n",
       "      <td>...</td>\n",
       "      <td>...</td>\n",
       "      <td>...</td>\n",
       "      <td>...</td>\n",
       "      <td>...</td>\n",
       "    </tr>\n",
       "    <tr>\n",
       "      <th>70</th>\n",
       "      <td>HKD</td>\n",
       "      <td>Swap</td>\n",
       "      <td>InterestRate</td>\n",
       "      <td>HONIA</td>\n",
       "      <td>Refinitiv</td>\n",
       "      <td>HKD HONIA Swap ZC Curve</td>\n",
       "      <td>2021-09-24</td>\n",
       "      <td>1f09e77f-d3ba-4013-870a-3f7e5675ed82</td>\n",
       "      <td>[OIS]</td>\n",
       "      <td>[OIS]</td>\n",
       "      <td>&lt;NA&gt;</td>\n",
       "    </tr>\n",
       "    <tr>\n",
       "      <th>71</th>\n",
       "      <td>GBP</td>\n",
       "      <td>Swap</td>\n",
       "      <td>InterestRate</td>\n",
       "      <td>LIBOR</td>\n",
       "      <td>Refinitiv</td>\n",
       "      <td>GBP LIBOR Swap ZC Curve</td>\n",
       "      <td>2011-02-09</td>\n",
       "      <td>69348bb7-d0b3-49b3-b2b2-782ab4ad29f8</td>\n",
       "      <td>[6M, 1Y, OIS, 3M, 1M]</td>\n",
       "      <td>[6M, 1Y, OIS, 3M, 1M]</td>\n",
       "      <td>&lt;NA&gt;</td>\n",
       "    </tr>\n",
       "    <tr>\n",
       "      <th>72</th>\n",
       "      <td>SGD</td>\n",
       "      <td>Swap</td>\n",
       "      <td>InterestRate</td>\n",
       "      <td>SORA</td>\n",
       "      <td>Refinitiv</td>\n",
       "      <td>SGD SORA Swap ZC Curve</td>\n",
       "      <td>2020-06-22</td>\n",
       "      <td>59840b09-4bb0-49c8-90b6-3c5849404e82</td>\n",
       "      <td>[OIS]</td>\n",
       "      <td>[OIS]</td>\n",
       "      <td>&lt;NA&gt;</td>\n",
       "    </tr>\n",
       "    <tr>\n",
       "      <th>73</th>\n",
       "      <td>CAD</td>\n",
       "      <td>Futures</td>\n",
       "      <td>InterestRate</td>\n",
       "      <td>CORRA</td>\n",
       "      <td>Refinitiv</td>\n",
       "      <td>CAD CRA Future ZC Curve</td>\n",
       "      <td>2020-06-11</td>\n",
       "      <td>edde349e-d933-478e-b4bd-e1c536d35ada</td>\n",
       "      <td>[OIS]</td>\n",
       "      <td>[OIS]</td>\n",
       "      <td>&lt;NA&gt;</td>\n",
       "    </tr>\n",
       "    <tr>\n",
       "      <th>74</th>\n",
       "      <td>USD</td>\n",
       "      <td>Futures</td>\n",
       "      <td>InterestRate</td>\n",
       "      <td>SOFR</td>\n",
       "      <td>Refinitiv</td>\n",
       "      <td>USD S1R Future ZC Curve</td>\n",
       "      <td>2020-07-24</td>\n",
       "      <td>8bf242f2-10a4-4d57-baa8-72a3d538b469</td>\n",
       "      <td>[OIS, 1M]</td>\n",
       "      <td>[OIS, 1M]</td>\n",
       "      <td>&lt;NA&gt;</td>\n",
       "    </tr>\n",
       "  </tbody>\n",
       "</table>\n",
       "<p>75 rows × 11 columns</p>\n",
       "</div>"
      ],
      "text/plain": [
       "   currency mainConstituentAssetClass      riskType indexName     source  \\\n",
       "0       BRL                      Swap  InterestRate   DICLOSE  Refinitiv   \n",
       "1       INR                      Swap  InterestRate     MIFOR  Refinitiv   \n",
       "2       AUD                      Swap  InterestRate      BBSW  Refinitiv   \n",
       "3       BHD                      Swap  InterestRate    BHIBOR  Refinitiv   \n",
       "4       CHF                      Swap  InterestRate     LIBOR  Refinitiv   \n",
       "..      ...                       ...           ...       ...        ...   \n",
       "70      HKD                      Swap  InterestRate     HONIA  Refinitiv   \n",
       "71      GBP                      Swap  InterestRate     LIBOR  Refinitiv   \n",
       "72      SGD                      Swap  InterestRate      SORA  Refinitiv   \n",
       "73      CAD                   Futures  InterestRate     CORRA  Refinitiv   \n",
       "74      USD                   Futures  InterestRate      SOFR  Refinitiv   \n",
       "\n",
       "                        name firstHistoricalAvailabilityDate  \\\n",
       "0       BRL DI Swap ZC Curve                      2011-01-05   \n",
       "1    INR MIFOR Swap ZC Curve                      2013-07-29   \n",
       "2     AUD BBSW Swap ZC Curve                      2016-11-07   \n",
       "3   BHD BHIBOR Swap ZC Curve                      2016-02-08   \n",
       "4    CHF LIBOR Swap ZC Curve                      2015-02-26   \n",
       "..                       ...                             ...   \n",
       "70   HKD HONIA Swap ZC Curve                      2021-09-24   \n",
       "71   GBP LIBOR Swap ZC Curve                      2011-02-09   \n",
       "72    SGD SORA Swap ZC Curve                      2020-06-22   \n",
       "73   CAD CRA Future ZC Curve                      2020-06-11   \n",
       "74   USD S1R Future ZC Curve                      2020-07-24   \n",
       "\n",
       "                                      id        availableTenors  \\\n",
       "0   0aa32067-d7d9-48f0-908b-4a12281207f8                   [1D]   \n",
       "1   15b962cd-078d-43ec-809b-a51a120cd3ac              [6M, OIS]   \n",
       "2   a69788a8-114a-476a-998e-48404dab43ee      [6M, OIS, 3M, 1M]   \n",
       "3   6463b459-8c98-40a5-a779-a58967f22435                   [3M]   \n",
       "4   8bf899eb-ab35-484e-86d4-83dabe0d7f51      [6M, OIS, 3M, 1M]   \n",
       "..                                   ...                    ...   \n",
       "70  1f09e77f-d3ba-4013-870a-3f7e5675ed82                  [OIS]   \n",
       "71  69348bb7-d0b3-49b3-b2b2-782ab4ad29f8  [6M, 1Y, OIS, 3M, 1M]   \n",
       "72  59840b09-4bb0-49c8-90b6-3c5849404e82                  [OIS]   \n",
       "73  edde349e-d933-478e-b4bd-e1c536d35ada                  [OIS]   \n",
       "74  8bf242f2-10a4-4d57-baa8-72a3d538b469              [OIS, 1M]   \n",
       "\n",
       "   availableDiscountingTenors marketDataLocation  \n",
       "0                        [1D]               <NA>  \n",
       "1                   [6M, OIS]               <NA>  \n",
       "2           [6M, OIS, 3M, 1M]               <NA>  \n",
       "3                        [3M]               <NA>  \n",
       "4           [6M, OIS, 3M, 1M]               <NA>  \n",
       "..                        ...                ...  \n",
       "70                      [OIS]               <NA>  \n",
       "71      [6M, 1Y, OIS, 3M, 1M]               <NA>  \n",
       "72                      [OIS]               <NA>  \n",
       "73                      [OIS]               <NA>  \n",
       "74                  [OIS, 1M]               <NA>  \n",
       "\n",
       "[75 rows x 11 columns]"
      ]
     },
     "execution_count": 3,
     "metadata": {},
     "output_type": "execute_result"
    }
   ],
   "source": [
    "response = zc_curve_definitions.Definition(source=\"Refinitiv\").get_data()\n",
    "response.data.df"
   ]
  },
  {
   "cell_type": "markdown",
   "metadata": {},
   "source": [
    "## Close the session"
   ]
  },
  {
   "cell_type": "code",
   "execution_count": 4,
   "metadata": {
    "pycharm": {
     "name": "#%%\n"
    }
   },
   "outputs": [],
   "source": [
    "rd.close_session()"
   ]
  },
  {
   "cell_type": "code",
   "execution_count": null,
   "metadata": {},
   "outputs": [],
   "source": []
  }
 ],
 "metadata": {
  "kernelspec": {
   "display_name": "Python 3",
   "language": "python",
   "name": "python3"
  },
  "language_info": {
   "codemirror_mode": {
    "name": "ipython",
    "version": 3
   },
   "file_extension": ".py",
   "mimetype": "text/x-python",
   "name": "python",
   "nbconvert_exporter": "python",
   "pygments_lexer": "ipython3",
   "version": "3.7.6"
  }
 },
 "nbformat": 4,
 "nbformat_minor": 4
}