{
 "cells": [
  {
   "cell_type": "code",
   "execution_count": 33,
   "metadata": {},
   "outputs": [
    {
     "name": "stdout",
     "output_type": "stream",
     "text": [
      "Collecting huble==0.2.22\n",
      "  Downloading huble-0.2.22-py3-none-any.whl (49 kB)\n",
      "\u001b[K     |████████████████████████████████| 49 kB 5.6 MB/s eta 0:00:011\n",
      "\u001b[?25hRequirement already satisfied: py-AutoClean<2.0.0,>=1.1.3 in /home/rugved/anaconda3/lib/python3.8/site-packages (from huble==0.2.22) (1.1.3)\n",
      "Requirement already satisfied: scipy<1.8.0,>=1.7.0 in /home/rugved/anaconda3/lib/python3.8/site-packages (from huble==0.2.22) (1.7.3)\n",
      "Requirement already satisfied: xgboost<2.0.0,>=1.7.3 in /home/rugved/anaconda3/lib/python3.8/site-packages (from huble==0.2.22) (1.7.3)\n",
      "Requirement already satisfied: catboost<2.0.0,>=1.1.1 in /home/rugved/anaconda3/lib/python3.8/site-packages (from huble==0.2.22) (1.1.1)\n",
      "Requirement already satisfied: pandas<2.0.0,>=1.3.5 in /home/rugved/anaconda3/lib/python3.8/site-packages (from huble==0.2.22) (1.5.3)\n",
      "Requirement already satisfied: woodwork<0.22.0,>=0.21.1 in /home/rugved/anaconda3/lib/python3.8/site-packages (from huble==0.2.22) (0.21.2)\n",
      "Requirement already satisfied: Jinja2<4.0.0,>=3.1.2 in /home/rugved/anaconda3/lib/python3.8/site-packages (from huble==0.2.22) (3.1.2)\n",
      "Requirement already satisfied: black<23.0.0,>=22.8.0 in /home/rugved/anaconda3/lib/python3.8/site-packages (from huble==0.2.22) (22.12.0)\n",
      "Requirement already satisfied: lightgbm<4.0.0,>=3.3.5 in /home/rugved/anaconda3/lib/python3.8/site-packages (from huble==0.2.22) (3.3.5)\n",
      "Requirement already satisfied: auto-sklearn==0.14.7 in /home/rugved/anaconda3/lib/python3.8/site-packages (from huble==0.2.22) (0.14.7)\n",
      "Requirement already satisfied: scikit-learn==0.24.2 in /home/rugved/anaconda3/lib/python3.8/site-packages (from huble==0.2.22) (0.24.2)\n",
      "Requirement already satisfied: joblib in /home/rugved/anaconda3/lib/python3.8/site-packages (from auto-sklearn==0.14.7->huble==0.2.22) (1.0.1)\n",
      "Requirement already satisfied: pynisher<0.7,>=0.6.3 in /home/rugved/anaconda3/lib/python3.8/site-packages (from auto-sklearn==0.14.7->huble==0.2.22) (0.6.4)\n",
      "Requirement already satisfied: liac-arff in /home/rugved/anaconda3/lib/python3.8/site-packages (from auto-sklearn==0.14.7->huble==0.2.22) (2.5.0)\n",
      "Requirement already satisfied: setuptools in /home/rugved/anaconda3/lib/python3.8/site-packages (from auto-sklearn==0.14.7->huble==0.2.22) (52.0.0.post20210125)\n",
      "Requirement already satisfied: threadpoolctl in /home/rugved/anaconda3/lib/python3.8/site-packages (from auto-sklearn==0.14.7->huble==0.2.22) (2.1.0)\n",
      "Requirement already satisfied: distro in /home/rugved/anaconda3/lib/python3.8/site-packages (from auto-sklearn==0.14.7->huble==0.2.22) (1.8.0)\n",
      "Requirement already satisfied: distributed>=2012.12 in /home/rugved/anaconda3/lib/python3.8/site-packages (from auto-sklearn==0.14.7->huble==0.2.22) (2021.4.1)\n",
      "Requirement already satisfied: pyrfr<0.9,>=0.8.1 in /home/rugved/anaconda3/lib/python3.8/site-packages (from auto-sklearn==0.14.7->huble==0.2.22) (0.8.3)\n",
      "Requirement already satisfied: dask>=2021.12 in /home/rugved/anaconda3/lib/python3.8/site-packages (from auto-sklearn==0.14.7->huble==0.2.22) (2023.1.1)\n",
      "Requirement already satisfied: typing-extensions in /home/rugved/anaconda3/lib/python3.8/site-packages (from auto-sklearn==0.14.7->huble==0.2.22) (4.4.0)\n",
      "Requirement already satisfied: pyyaml in /home/rugved/anaconda3/lib/python3.8/site-packages (from auto-sklearn==0.14.7->huble==0.2.22) (5.4.1)\n",
      "Requirement already satisfied: smac<1.3,>=1.2 in /home/rugved/anaconda3/lib/python3.8/site-packages (from auto-sklearn==0.14.7->huble==0.2.22) (1.2)\n",
      "Requirement already satisfied: ConfigSpace<0.5,>=0.4.21 in /home/rugved/anaconda3/lib/python3.8/site-packages (from auto-sklearn==0.14.7->huble==0.2.22) (0.4.21)\n",
      "Requirement already satisfied: numpy>=1.9.0 in /home/rugved/anaconda3/lib/python3.8/site-packages (from auto-sklearn==0.14.7->huble==0.2.22) (1.22.4)\n",
      "Requirement already satisfied: tomli>=1.1.0 in /home/rugved/anaconda3/lib/python3.8/site-packages (from black<23.0.0,>=22.8.0->huble==0.2.22) (2.0.1)\n",
      "Requirement already satisfied: mypy-extensions>=0.4.3 in /home/rugved/anaconda3/lib/python3.8/site-packages (from black<23.0.0,>=22.8.0->huble==0.2.22) (0.4.3)\n",
      "Requirement already satisfied: pathspec>=0.9.0 in /home/rugved/anaconda3/lib/python3.8/site-packages (from black<23.0.0,>=22.8.0->huble==0.2.22) (0.11.0)\n",
      "Requirement already satisfied: platformdirs>=2 in /home/rugved/anaconda3/lib/python3.8/site-packages (from black<23.0.0,>=22.8.0->huble==0.2.22) (2.6.2)\n",
      "Requirement already satisfied: click>=8.0.0 in /home/rugved/anaconda3/lib/python3.8/site-packages (from black<23.0.0,>=22.8.0->huble==0.2.22) (8.1.3)\n",
      "Requirement already satisfied: plotly in /home/rugved/anaconda3/lib/python3.8/site-packages (from catboost<2.0.0,>=1.1.1->huble==0.2.22) (5.13.0)\n",
      "Requirement already satisfied: matplotlib in /home/rugved/anaconda3/lib/python3.8/site-packages (from catboost<2.0.0,>=1.1.1->huble==0.2.22) (3.3.4)\n",
      "Requirement already satisfied: graphviz in /home/rugved/anaconda3/lib/python3.8/site-packages (from catboost<2.0.0,>=1.1.1->huble==0.2.22) (0.20.1)\n",
      "Requirement already satisfied: six in /home/rugved/anaconda3/lib/python3.8/site-packages (from catboost<2.0.0,>=1.1.1->huble==0.2.22) (1.15.0)\n",
      "Requirement already satisfied: pyparsing in /home/rugved/anaconda3/lib/python3.8/site-packages (from ConfigSpace<0.5,>=0.4.21->auto-sklearn==0.14.7->huble==0.2.22) (2.4.7)\n",
      "Requirement already satisfied: cython in /home/rugved/anaconda3/lib/python3.8/site-packages (from ConfigSpace<0.5,>=0.4.21->auto-sklearn==0.14.7->huble==0.2.22) (0.29.23)\n",
      "Requirement already satisfied: partd>=0.3.10 in /home/rugved/anaconda3/lib/python3.8/site-packages (from dask>=2021.12->auto-sklearn==0.14.7->huble==0.2.22) (1.2.0)\n",
      "Requirement already satisfied: cloudpickle>=1.1.1 in /home/rugved/anaconda3/lib/python3.8/site-packages (from dask>=2021.12->auto-sklearn==0.14.7->huble==0.2.22) (1.6.0)\n",
      "Requirement already satisfied: packaging>=20.0 in /home/rugved/anaconda3/lib/python3.8/site-packages (from dask>=2021.12->auto-sklearn==0.14.7->huble==0.2.22) (21.3)\n",
      "Requirement already satisfied: fsspec>=0.6.0 in /home/rugved/anaconda3/lib/python3.8/site-packages (from dask>=2021.12->auto-sklearn==0.14.7->huble==0.2.22) (0.9.0)\n",
      "Requirement already satisfied: toolz>=0.8.2 in /home/rugved/anaconda3/lib/python3.8/site-packages (from dask>=2021.12->auto-sklearn==0.14.7->huble==0.2.22) (0.11.1)\n",
      "Requirement already satisfied: msgpack>=0.6.0 in /home/rugved/anaconda3/lib/python3.8/site-packages (from distributed>=2012.12->auto-sklearn==0.14.7->huble==0.2.22) (1.0.2)\n",
      "Requirement already satisfied: tblib>=1.6.0 in /home/rugved/anaconda3/lib/python3.8/site-packages (from distributed>=2012.12->auto-sklearn==0.14.7->huble==0.2.22) (1.7.0)\n",
      "Requirement already satisfied: sortedcontainers!=2.0.0,!=2.0.1 in /home/rugved/anaconda3/lib/python3.8/site-packages (from distributed>=2012.12->auto-sklearn==0.14.7->huble==0.2.22) (2.3.0)\n",
      "Requirement already satisfied: tornado>=6.0.3 in /home/rugved/anaconda3/lib/python3.8/site-packages (from distributed>=2012.12->auto-sklearn==0.14.7->huble==0.2.22) (6.1)\n",
      "Requirement already satisfied: zict>=0.1.3 in /home/rugved/anaconda3/lib/python3.8/site-packages (from distributed>=2012.12->auto-sklearn==0.14.7->huble==0.2.22) (2.0.0)\n",
      "Requirement already satisfied: psutil>=5.0 in /home/rugved/anaconda3/lib/python3.8/site-packages (from distributed>=2012.12->auto-sklearn==0.14.7->huble==0.2.22) (5.8.0)\n",
      "Requirement already satisfied: MarkupSafe>=2.0 in /home/rugved/anaconda3/lib/python3.8/site-packages (from Jinja2<4.0.0,>=3.1.2->huble==0.2.22) (2.1.2)\n",
      "Requirement already satisfied: wheel in /home/rugved/anaconda3/lib/python3.8/site-packages (from lightgbm<4.0.0,>=3.3.5->huble==0.2.22) (0.36.2)\n",
      "Requirement already satisfied: pytz>=2020.1 in /home/rugved/anaconda3/lib/python3.8/site-packages (from pandas<2.0.0,>=1.3.5->huble==0.2.22) (2021.1)\n",
      "Requirement already satisfied: python-dateutil>=2.8.1 in /home/rugved/anaconda3/lib/python3.8/site-packages (from pandas<2.0.0,>=1.3.5->huble==0.2.22) (2.8.1)\n",
      "Requirement already satisfied: locket in /home/rugved/anaconda3/lib/python3.8/site-packages/locket-0.2.1-py3.8.egg (from partd>=0.3.10->dask>=2021.12->auto-sklearn==0.14.7->huble==0.2.22) (0.2.1)\n",
      "Requirement already satisfied: loguru in /home/rugved/anaconda3/lib/python3.8/site-packages (from py-AutoClean<2.0.0,>=1.1.3->huble==0.2.22) (0.6.0)\n",
      "Requirement already satisfied: emcee>=3.0.0 in /home/rugved/anaconda3/lib/python3.8/site-packages (from smac<1.3,>=1.2->auto-sklearn==0.14.7->huble==0.2.22) (3.1.4)\n",
      "Requirement already satisfied: importlib-resources>=5.10.0 in /home/rugved/anaconda3/lib/python3.8/site-packages (from woodwork<0.22.0,>=0.21.1->huble==0.2.22) (5.10.1)\n",
      "Requirement already satisfied: zipp>=3.1.0 in /home/rugved/anaconda3/lib/python3.8/site-packages (from importlib-resources>=5.10.0->woodwork<0.22.0,>=0.21.1->huble==0.2.22) (3.4.1)\n",
      "Requirement already satisfied: heapdict in /home/rugved/anaconda3/lib/python3.8/site-packages (from zict>=0.1.3->distributed>=2012.12->auto-sklearn==0.14.7->huble==0.2.22) (1.0.1)\n",
      "Requirement already satisfied: cycler>=0.10 in /home/rugved/anaconda3/lib/python3.8/site-packages (from matplotlib->catboost<2.0.0,>=1.1.1->huble==0.2.22) (0.10.0)\n",
      "Requirement already satisfied: pillow>=6.2.0 in /home/rugved/anaconda3/lib/python3.8/site-packages (from matplotlib->catboost<2.0.0,>=1.1.1->huble==0.2.22) (8.2.0)\n",
      "Requirement already satisfied: kiwisolver>=1.0.1 in /home/rugved/anaconda3/lib/python3.8/site-packages (from matplotlib->catboost<2.0.0,>=1.1.1->huble==0.2.22) (1.3.1)\n",
      "Requirement already satisfied: tenacity>=6.2.0 in /home/rugved/anaconda3/lib/python3.8/site-packages (from plotly->catboost<2.0.0,>=1.1.1->huble==0.2.22) (8.1.0)\n",
      "Installing collected packages: huble\n",
      "  Attempting uninstall: huble\n",
      "    Found existing installation: huble 0.2.21\n",
      "    Uninstalling huble-0.2.21:\n",
      "      Successfully uninstalled huble-0.2.21\n",
      "Successfully installed huble-0.2.22\n"
     ]
    }
   ],
   "source": [
    "!pip install huble==0.2.22"
   ]
  },
  {
   "cell_type": "code",
   "execution_count": 2,
   "metadata": {},
   "outputs": [
    {
     "name": "stdout",
     "output_type": "stream",
     "text": [
      "{'id': 'b9c36c0e-5a1c-4ce2-86cd-f146dd2a5e58', 'title': 'antsy-advantage', 'resultsJSON': None, 'verifiedJSON': None, 'nodeLatestID': 10, 'pipelineJSON': {'nodes': [{'id': '999', 'type': 'custom', 'position': {'x': 40, 'y': 132}, 'data': {'name': 'titanic.csv', 'value': 'QmRspeqXi9J2PVTmXYwMaBif9dYWVkNhM8EFomUAfajnT1', 'color': 'pink.400', 'isInput': True, 'parameters': {'url': 'https://ipfs.filebase.io/ipfs/QmRspeqXi9J2PVTmXYwMaBif9dYWVkNhM8EFomUAfajnT1'}, 'outputParameters': {'types': ['Dataframe'], 'isCustomizable': False}, 'node_type': 'primary_dataset'}, 'width': 240, 'height': 101, 'selected': False, 'positionAbsolute': {'x': 40, 'y': 132}, 'dragging': False, 'target': '2'}, {'id': '998', 'type': 'custom', 'position': {'x': 1253.4412542690281, 'y': 284.8689164432816}, 'data': {'name': 'Evaluate Model', 'value': 'Evaluate Model', 'color': 'green.400', 'isOutput': True, 'parameters': {}, 'inputParameters': {'types': ['Testing Dataset', 'Trained Model'], 'isCustomizable': False}, 'node_type': 'evaluate_model'}, 'width': 240, 'height': 129, 'selected': False, 'positionAbsolute': {'x': 1253.4412542690281, 'y': 284.8689164432816}, 'dragging': False, 'source': '6'}, {'id': '1', 'type': 'custom', 'position': {'x': 1035.6469874982502, 'y': 134.81677124228122}, 'data': {'name': 'Remove Outliers', 'value': 'Remove Outliers', 'parameters': {'columns': [{'value': 'Ticket', 'label': 'Ticket'}]}, 'inputParameters': {'types': ['Dataframe'], 'isCustomizable': False}, 'outputParameters': {'types': ['Dataframe'], 'isCustomizable': False}, 'node_type': 'preprocess'}, 'width': 240, 'height': 135, 'selected': False, 'positionAbsolute': {'x': 1035.6469874982502, 'y': 134.81677124228122}, 'dragging': False, 'source': '3', 'target': '5'}, {'id': '2', 'type': 'custom', 'position': {'x': 394.7547379639063, 'y': 122.830518412375}, 'data': {'name': 'Drop Duplicates', 'value': 'Drop Duplicates', 'parameters': {'subset': [], 'keep': 'first', 'inplace': False, 'ignore_index': False}, 'inputParameters': {'types': ['Dataframe'], 'isCustomizable': False}, 'outputParameters': {'types': ['Dataframe'], 'isCustomizable': False}, 'node_type': 'preprocess'}, 'width': 240, 'height': 135, 'source': '999', 'selected': False, 'positionAbsolute': {'x': 394.7547379639063, 'y': 122.830518412375}, 'dragging': False, 'target': '3'}, {'id': '3', 'type': 'custom', 'position': {'x': 720.2183411305626, 'y': 117.32364482732805}, 'data': {'name': 'Remove Mismatch Data', 'value': 'Remove Mismatch Data', 'parameters': {'exceptions': []}, 'inputParameters': {'types': ['Dataframe'], 'isCustomizable': False}, 'outputParameters': {'types': ['Dataframe'], 'isCustomizable': False}, 'node_type': 'preprocess'}, 'width': 240, 'height': 153, 'selected': False, 'positionAbsolute': {'x': 720.2183411305626, 'y': 117.32364482732805}, 'dragging': False, 'source': '2', 'target': '1'}, {'id': '4', 'type': 'custom', 'position': {'x': 380.8790057380804, 'y': 301.3345027506273}, 'data': {'name': 'Clean Dataset', 'value': 'Clean Dataset', 'parameters': {}, 'inputParameters': {'types': ['Dataframe'], 'isCustomizable': False}, 'outputParameters': {'types': ['Dataframe'], 'isCustomizable': False}, 'node_type': 'preprocess'}, 'width': 240, 'height': 135, 'selected': False, 'positionAbsolute': {'x': 380.8790057380804, 'y': 301.3345027506273}, 'dragging': False, 'source': '5', 'target': '7'}, {'id': '5', 'type': 'custom', 'position': {'x': 39.51160403525756, 'y': 286.53433029269536}, 'data': {'name': 'Dropping rows or columns', 'value': 'Dropping rows or columns', 'parameters': {'labels': [{'value': 'PassengerId', 'label': 'PassengerId'}, {'value': 'Pclass', 'label': 'Pclass'}, {'value': 'Name', 'label': 'Name'}], 'axis': 0, 'inplace': False, 'errors': 'raise'}, 'inputParameters': {'types': ['Dataframe'], 'isCustomizable': False}, 'outputParameters': {'types': ['Dataframe'], 'isCustomizable': False}, 'node_type': 'preprocess'}, 'width': 254, 'height': 154, 'selected': False, 'positionAbsolute': {'x': 39.51160403525756, 'y': 286.53433029269536}, 'dragging': False, 'source': '1', 'target': '4'}, {'id': '6', 'type': 'custom', 'position': {'x': 1002.8948773386579, 'y': 495.45335756602935}, 'data': {'name': 'Train Model', 'value': 'Train Model', 'parameters': {}, 'inputParameters': {'types': ['Training Dataset', 'Model'], 'isCustomizable': False}, 'outputParameters': {'types': ['Trained Model'], 'isCustomizable': False}, 'node_type': 'essential'}, 'width': 240, 'height': 158, 'selected': False, 'positionAbsolute': {'x': 1002.8948773386579, 'y': 495.45335756602935}, 'dragging': False, 'source': '8', 'target': '998'}, {'id': '7', 'type': 'custom', 'position': {'x': 703.2006173477529, 'y': 303.74729714129774}, 'data': {'name': 'Train-Test Split', 'value': 'Train-Test Split', 'parameters': {}, 'inputParameters': {'types': ['Dataframe'], 'isCustomizable': False}, 'outputParameters': {'types': ['Testing Dataset', 'Training Dataset'], 'isCustomizable': False}, 'node_type': 'essential'}, 'width': 240, 'height': 158, 'selected': False, 'positionAbsolute': {'x': 703.2006173477529, 'y': 303.74729714129774}, 'dragging': False, 'source': '4', 'target': '998'}, {'id': '8', 'type': 'custom', 'position': {'x': 546.4213248772855, 'y': 504.93812826990893}, 'data': {'name': 'Stochastic Gradient Descent Classifier', 'value': 'Stochastic Gradient Descent Classifier', 'parameters': {'loss': 'hinge', 'penalty': 'l2', 'fit_intercept': True, 'alpha': 0.0001, 'max_iter': 1000, 'tol': 0.001, 'shuffle': True, 'random_state': 'None', 'learning_rate': 'optimal', 'initial_learning_rate': 0, 'early_stopping': False, 'validation_fraction': 1}, 'outputParameters': {'types': ['Model'], 'isCustomizable': False}, 'node_type': 'model'}, 'width': 349, 'height': 135, 'selected': True, 'positionAbsolute': {'x': 546.4213248772855, 'y': 504.93812826990893}, 'dragging': False, 'target': '6'}], 'edges': [{'source': '999', 'sourceHandle': 'output_0_Dataframe', 'target': '2', 'targetHandle': 'input_0_Dataframe', 'type': 'custom', 'data': {'sourceColor': 'pink.400', 'targetColor': '#805AD5', 'target': '2_input_0_Dataframe', 'source': '999_output_0_Dataframe'}, 'id': 'reactflow__edge-999output_0_Dataframe-2input_0_Dataframe'}, {'source': '2', 'sourceHandle': 'output_0_Dataframe', 'target': '3', 'targetHandle': 'input_0_Dataframe', 'type': 'custom', 'data': {'sourceColor': '#805AD5', 'targetColor': '#805AD5', 'target': '3_input_0_Dataframe', 'source': '2_output_0_Dataframe'}, 'id': 'reactflow__edge-2output_0_Dataframe-3input_0_Dataframe'}, {'source': '3', 'sourceHandle': 'output_0_Dataframe', 'target': '1', 'targetHandle': 'input_0_Dataframe', 'type': 'custom', 'data': {'sourceColor': '#805AD5', 'targetColor': '#805AD5', 'target': '1_input_0_Dataframe', 'source': '3_output_0_Dataframe'}, 'id': 'reactflow__edge-3output_0_Dataframe-1input_0_Dataframe'}, {'source': '1', 'sourceHandle': 'output_0_Dataframe', 'target': '5', 'targetHandle': 'input_0_Dataframe', 'type': 'custom', 'data': {'sourceColor': '#805AD5', 'targetColor': '#805AD5', 'target': '5_input_0_Dataframe', 'source': '1_output_0_Dataframe'}, 'id': 'reactflow__edge-1output_0_Dataframe-5input_0_Dataframe'}, {'source': '5', 'sourceHandle': 'output_0_Dataframe', 'target': '4', 'targetHandle': 'input_0_Dataframe', 'type': 'custom', 'data': {'sourceColor': '#805AD5', 'targetColor': '#805AD5', 'target': '4_input_0_Dataframe', 'source': '5_output_0_Dataframe'}, 'id': 'reactflow__edge-5output_0_Dataframe-4input_0_Dataframe'}, {'source': '4', 'sourceHandle': 'output_0_Dataframe', 'target': '7', 'targetHandle': 'input_0_Dataframe', 'type': 'custom', 'data': {'sourceColor': '#805AD5', 'targetColor': '#805AD5', 'target': '7_input_0_Dataframe', 'source': '4_output_0_Dataframe'}, 'id': 'reactflow__edge-4output_0_Dataframe-7input_0_Dataframe'}, {'source': '7', 'sourceHandle': 'output_1_Training Dataset', 'target': '6', 'targetHandle': 'input_0_Training Dataset', 'type': 'custom', 'data': {'sourceColor': '#805AD5', 'targetColor': '#805AD5', 'target': '6_input_0_Training Dataset', 'source': '7_output_1_Training Dataset'}, 'id': 'reactflow__edge-7output_1_Training Dataset-6input_0_Training Dataset'}, {'source': '8', 'sourceHandle': 'output_0_Model', 'target': '6', 'targetHandle': 'input_1_Model', 'type': 'custom', 'data': {'sourceColor': '#805AD5', 'targetColor': '#805AD5', 'target': '6_input_1_Model', 'source': '8_output_0_Model'}, 'id': 'reactflow__edge-8output_0_Model-6input_1_Model'}, {'source': '7', 'sourceHandle': 'output_0_Testing Dataset', 'target': '998', 'targetHandle': 'input_0_Testing Dataset', 'type': 'custom', 'data': {'sourceColor': '#805AD5', 'targetColor': 'green.400', 'target': '998_input_0_Testing Dataset', 'source': '7_output_0_Testing Dataset'}, 'id': 'reactflow__edge-7output_0_Testing Dataset-998input_0_Testing Dataset'}, {'source': '6', 'sourceHandle': 'output_0_Trained Model', 'target': '998', 'targetHandle': 'input_1_Trained Model', 'type': 'custom', 'data': {'sourceColor': '#805AD5', 'targetColor': 'green.400', 'target': '998_input_1_Trained Model', 'source': '6_output_0_Trained Model'}, 'id': 'reactflow__edge-6output_0_Trained Model-998input_1_Trained Model'}]}, 'cid': None, 'createdAt': '2023-01-29T11:58:34.803Z', 'updatedAt': '2023-01-29T12:06:13.515Z', 'project': {'id': 'c058d237-df24-457c-a160-995f01a21242', 'title': 'test', 'description': 'test', 'createdAt': '2022-12-30T16:03:10.122Z', 'updatedAt': '2022-12-30T16:03:10.122Z', 'targetColumn': 'Survived', 'taskType': 'classification', 'usedAutoML': False, 'primaryDataset': {'id': '958516da-7a6a-409c-9493-7bc038c63223', 'title': 'titanic.csv', 'createdAt': '2022-12-30T16:02:40.417Z', 'updatedAt': '2022-12-30T16:02:40.417Z', 'filePath': 'QmRspeqXi9J2PVTmXYwMaBif9dYWVkNhM8EFomUAfajnT1', 'size': '29474', 'metadata': {'rows': 418, 'columns': [{'name': 'PassengerId', 'type': 'numeric'}, {'name': 'Survived', 'type': 'numeric'}, {'name': 'Pclass', 'type': 'numeric'}, {'name': 'Name', 'type': 'text'}, {'name': 'Sex', 'type': 'categorical'}, {'name': 'Age', 'type': 'numeric'}, {'name': 'SibSp', 'type': 'numeric'}, {'name': 'Parch', 'type': 'numeric'}, {'name': 'Ticket', 'type': 'text'}, {'name': 'Fare', 'type': 'numeric'}, {'name': 'Cabin', 'type': 'text'}, {'name': 'Embarked', 'type': 'categorical'}]}}, 'workspace': {'id': '263c9e4a-0083-43da-91ae-2059267c20ba', 'title': 'Test', 'description': '', 'color': 'yellow.600', 'createdAt': '2022-12-30T16:02:44.795Z', 'updatedAt': '2022-12-30T16:02:44.795Z'}}}\n"
     ]
    },
    {
     "ename": "FileNotFoundError",
     "evalue": "[Errno 2] No such file or directory: '/content/output.py'",
     "output_type": "error",
     "traceback": [
      "\u001b[0;31m---------------------------------------------------------------------------\u001b[0m",
      "\u001b[0;31mFileNotFoundError\u001b[0m                         Traceback (most recent call last)",
      "\u001b[0;32m<ipython-input-2-80f61f956127>\u001b[0m in \u001b[0;36m<module>\u001b[0;34m\u001b[0m\n\u001b[1;32m      1\u001b[0m \u001b[0;32mfrom\u001b[0m \u001b[0mhuble\u001b[0m\u001b[0;34m.\u001b[0m\u001b[0mmain\u001b[0m \u001b[0;32mimport\u001b[0m \u001b[0mrun_experiment\u001b[0m\u001b[0;34m\u001b[0m\u001b[0;34m\u001b[0m\u001b[0m\n\u001b[0;32m----> 2\u001b[0;31m \u001b[0mrun_experiment\u001b[0m\u001b[0;34m(\u001b[0m\u001b[0;34m'b9c36c0e-5a1c-4ce2-86cd-f146dd2a5e58'\u001b[0m\u001b[0;34m)\u001b[0m\u001b[0;34m\u001b[0m\u001b[0;34m\u001b[0m\u001b[0m\n\u001b[0m",
      "\u001b[0;32m~/anaconda3/lib/python3.8/site-packages/huble/main.py\u001b[0m in \u001b[0;36mrun_experiment\u001b[0;34m(experiment_id, auth_key)\u001b[0m\n\u001b[1;32m     21\u001b[0m   \u001b[0mtarget_column\u001b[0m \u001b[0;34m=\u001b[0m \u001b[0mproject\u001b[0m\u001b[0;34m[\u001b[0m\u001b[0;34m'targetColumn'\u001b[0m\u001b[0;34m]\u001b[0m\u001b[0;34m\u001b[0m\u001b[0;34m\u001b[0m\u001b[0m\n\u001b[1;32m     22\u001b[0m   \u001b[0mtask_type\u001b[0m \u001b[0;34m=\u001b[0m \u001b[0mproject\u001b[0m\u001b[0;34m[\u001b[0m\u001b[0;34m'taskType'\u001b[0m\u001b[0;34m]\u001b[0m\u001b[0;34m\u001b[0m\u001b[0;34m\u001b[0m\u001b[0m\n\u001b[0;32m---> 23\u001b[0;31m   \u001b[0mgenerate_file\u001b[0m\u001b[0;34m(\u001b[0m\u001b[0mpipeline\u001b[0m\u001b[0;34m,\u001b[0m\u001b[0mtask_type\u001b[0m\u001b[0;34m=\u001b[0m\u001b[0mtask_type\u001b[0m\u001b[0;34m,\u001b[0m\u001b[0mtarget_column\u001b[0m\u001b[0;34m=\u001b[0m\u001b[0mtarget_column\u001b[0m\u001b[0;34m)\u001b[0m\u001b[0;34m\u001b[0m\u001b[0;34m\u001b[0m\u001b[0m\n\u001b[0m",
      "\u001b[0;32m~/anaconda3/lib/python3.8/site-packages/huble/sklearn/generate.py\u001b[0m in \u001b[0;36mgenerate_file\u001b[0;34m(graph, target_column, task_type, colab)\u001b[0m\n\u001b[1;32m     50\u001b[0m                 \u001b[0msteps_list\u001b[0m\u001b[0;34m[\u001b[0m\u001b[0;34m(\u001b[0m\u001b[0mgraph\u001b[0m\u001b[0;34m[\u001b[0m\u001b[0;34m'nodes'\u001b[0m\u001b[0;34m]\u001b[0m\u001b[0;34m[\u001b[0m\u001b[0mj\u001b[0m\u001b[0;34m]\u001b[0m\u001b[0;34m[\u001b[0m\u001b[0;34m'data'\u001b[0m\u001b[0;34m]\u001b[0m\u001b[0;34m[\u001b[0m\u001b[0;34m'name'\u001b[0m\u001b[0;34m]\u001b[0m\u001b[0;34m)\u001b[0m\u001b[0;34m]\u001b[0m\u001b[0;34m=\u001b[0m\u001b[0mgraph\u001b[0m\u001b[0;34m[\u001b[0m\u001b[0;34m'nodes'\u001b[0m\u001b[0;34m]\u001b[0m\u001b[0;34m[\u001b[0m\u001b[0mj\u001b[0m\u001b[0;34m]\u001b[0m\u001b[0;34m[\u001b[0m\u001b[0;34m'data'\u001b[0m\u001b[0;34m]\u001b[0m\u001b[0;34m[\u001b[0m\u001b[0;34m'node_type'\u001b[0m\u001b[0;34m]\u001b[0m\u001b[0;34m\u001b[0m\u001b[0;34m\u001b[0m\u001b[0m\n\u001b[1;32m     51\u001b[0m \u001b[0;34m\u001b[0m\u001b[0m\n\u001b[0;32m---> 52\u001b[0;31m     \u001b[0;32mwith\u001b[0m \u001b[0mopen\u001b[0m\u001b[0;34m(\u001b[0m\u001b[0;34m\"/content/output.py\"\u001b[0m\u001b[0;34m,\u001b[0m \u001b[0;34m\"w\"\u001b[0m\u001b[0;34m)\u001b[0m \u001b[0;32mas\u001b[0m \u001b[0mf\u001b[0m\u001b[0;34m:\u001b[0m\u001b[0;34m\u001b[0m\u001b[0;34m\u001b[0m\u001b[0m\n\u001b[0m\u001b[1;32m     53\u001b[0m         \u001b[0mf\u001b[0m\u001b[0;34m.\u001b[0m\u001b[0mwrite\u001b[0m\u001b[0;34m(\u001b[0m\u001b[0;34m\"import huble\\n\"\u001b[0m\u001b[0;34m)\u001b[0m\u001b[0;34m\u001b[0m\u001b[0;34m\u001b[0m\u001b[0m\n\u001b[1;32m     54\u001b[0m \u001b[0;34m\u001b[0m\u001b[0m\n",
      "\u001b[0;31mFileNotFoundError\u001b[0m: [Errno 2] No such file or directory: '/content/output.py'"
     ]
    }
   ],
   "source": [
    "from huble.main import run_experiment\n",
    "run_experiment('b9c36c0e-5a1c-4ce2-86cd-f146dd2a5e58')"
   ]
  },
  {
   "cell_type": "code",
   "execution_count": null,
   "metadata": {},
   "outputs": [],
   "source": []
  },
  {
   "cell_type": "code",
   "execution_count": null,
   "metadata": {},
   "outputs": [],
   "source": []
  }
 ],
 "metadata": {
  "kernelspec": {
   "display_name": "Python 3.8.8 ('base')",
   "language": "python",
   "name": "python3"
  },
  "language_info": {
   "codemirror_mode": {
    "name": "ipython",
    "version": 3
   },
   "file_extension": ".py",
   "mimetype": "text/x-python",
   "name": "python",
   "nbconvert_exporter": "python",
   "pygments_lexer": "ipython3",
   "version": "3.8.8"
  },
  "orig_nbformat": 4,
  "vscode": {
   "interpreter": {
    "hash": "2c3fa0e868eab2096311d304aba03b24c1009ced47713f6fdb48c22da7ae2065"
   }
  }
 },
 "nbformat": 4,
 "nbformat_minor": 2
}
