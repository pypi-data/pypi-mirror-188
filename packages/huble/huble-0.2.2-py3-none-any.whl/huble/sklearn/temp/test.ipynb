{
 "cells": [
  {
   "cell_type": "code",
   "execution_count": 16,
   "metadata": {},
   "outputs": [
    {
     "name": "stdout",
     "output_type": "stream",
     "text": [
      "Collecting huble==0.2.1\n",
      "  Downloading huble-0.2.1-py3-none-any.whl (49 kB)\n",
      "\u001b[K     |████████████████████████████████| 49 kB 4.7 MB/s eta 0:00:011\n",
      "\u001b[?25hRequirement already satisfied: scipy<1.8.0,>=1.7.0 in /home/rugved/anaconda3/lib/python3.8/site-packages (from huble==0.2.1) (1.7.3)\n",
      "Requirement already satisfied: pandas<2.0.0,>=1.3.5 in /home/rugved/anaconda3/lib/python3.8/site-packages (from huble==0.2.1) (1.5.3)\n",
      "Requirement already satisfied: auto-sklearn==0.14.7 in /home/rugved/anaconda3/lib/python3.8/site-packages (from huble==0.2.1) (0.14.7)\n",
      "Requirement already satisfied: woodwork<0.22.0,>=0.21.1 in /home/rugved/anaconda3/lib/python3.8/site-packages (from huble==0.2.1) (0.21.2)\n",
      "Requirement already satisfied: black<23.0.0,>=22.8.0 in /home/rugved/anaconda3/lib/python3.8/site-packages (from huble==0.2.1) (22.12.0)\n",
      "Requirement already satisfied: scikit-learn==0.24.2 in /home/rugved/anaconda3/lib/python3.8/site-packages (from huble==0.2.1) (0.24.2)\n",
      "Requirement already satisfied: Jinja2<4.0.0,>=3.1.2 in /home/rugved/anaconda3/lib/python3.8/site-packages (from huble==0.2.1) (3.1.2)\n",
      "Requirement already satisfied: typing-extensions in /home/rugved/anaconda3/lib/python3.8/site-packages (from auto-sklearn==0.14.7->huble==0.2.1) (4.4.0)\n",
      "Requirement already satisfied: joblib in /home/rugved/anaconda3/lib/python3.8/site-packages (from auto-sklearn==0.14.7->huble==0.2.1) (1.0.1)\n",
      "Requirement already satisfied: setuptools in /home/rugved/anaconda3/lib/python3.8/site-packages (from auto-sklearn==0.14.7->huble==0.2.1) (52.0.0.post20210125)\n",
      "Requirement already satisfied: distributed>=2012.12 in /home/rugved/anaconda3/lib/python3.8/site-packages (from auto-sklearn==0.14.7->huble==0.2.1) (2021.4.1)\n",
      "Requirement already satisfied: liac-arff in /home/rugved/anaconda3/lib/python3.8/site-packages (from auto-sklearn==0.14.7->huble==0.2.1) (2.5.0)\n",
      "Requirement already satisfied: pyrfr<0.9,>=0.8.1 in /home/rugved/anaconda3/lib/python3.8/site-packages (from auto-sklearn==0.14.7->huble==0.2.1) (0.8.3)\n",
      "Requirement already satisfied: dask>=2021.12 in /home/rugved/anaconda3/lib/python3.8/site-packages (from auto-sklearn==0.14.7->huble==0.2.1) (2023.1.1)\n",
      "Requirement already satisfied: distro in /home/rugved/anaconda3/lib/python3.8/site-packages (from auto-sklearn==0.14.7->huble==0.2.1) (1.8.0)\n",
      "Requirement already satisfied: smac<1.3,>=1.2 in /home/rugved/anaconda3/lib/python3.8/site-packages (from auto-sklearn==0.14.7->huble==0.2.1) (1.2)\n",
      "Requirement already satisfied: numpy>=1.9.0 in /home/rugved/anaconda3/lib/python3.8/site-packages (from auto-sklearn==0.14.7->huble==0.2.1) (1.22.4)\n",
      "Requirement already satisfied: pynisher<0.7,>=0.6.3 in /home/rugved/anaconda3/lib/python3.8/site-packages (from auto-sklearn==0.14.7->huble==0.2.1) (0.6.4)\n",
      "Requirement already satisfied: threadpoolctl in /home/rugved/anaconda3/lib/python3.8/site-packages (from auto-sklearn==0.14.7->huble==0.2.1) (2.1.0)\n",
      "Requirement already satisfied: ConfigSpace<0.5,>=0.4.21 in /home/rugved/anaconda3/lib/python3.8/site-packages (from auto-sklearn==0.14.7->huble==0.2.1) (0.4.21)\n",
      "Requirement already satisfied: pyyaml in /home/rugved/anaconda3/lib/python3.8/site-packages (from auto-sklearn==0.14.7->huble==0.2.1) (5.4.1)\n",
      "Requirement already satisfied: mypy-extensions>=0.4.3 in /home/rugved/anaconda3/lib/python3.8/site-packages (from black<23.0.0,>=22.8.0->huble==0.2.1) (0.4.3)\n",
      "Requirement already satisfied: platformdirs>=2 in /home/rugved/anaconda3/lib/python3.8/site-packages (from black<23.0.0,>=22.8.0->huble==0.2.1) (2.6.2)\n",
      "Requirement already satisfied: tomli>=1.1.0 in /home/rugved/anaconda3/lib/python3.8/site-packages (from black<23.0.0,>=22.8.0->huble==0.2.1) (2.0.1)\n",
      "Requirement already satisfied: pathspec>=0.9.0 in /home/rugved/anaconda3/lib/python3.8/site-packages (from black<23.0.0,>=22.8.0->huble==0.2.1) (0.11.0)\n",
      "Requirement already satisfied: click>=8.0.0 in /home/rugved/anaconda3/lib/python3.8/site-packages (from black<23.0.0,>=22.8.0->huble==0.2.1) (8.1.3)\n",
      "Requirement already satisfied: cython in /home/rugved/anaconda3/lib/python3.8/site-packages (from ConfigSpace<0.5,>=0.4.21->auto-sklearn==0.14.7->huble==0.2.1) (0.29.23)\n",
      "Requirement already satisfied: pyparsing in /home/rugved/anaconda3/lib/python3.8/site-packages (from ConfigSpace<0.5,>=0.4.21->auto-sklearn==0.14.7->huble==0.2.1) (2.4.7)\n",
      "Requirement already satisfied: partd>=0.3.10 in /home/rugved/anaconda3/lib/python3.8/site-packages (from dask>=2021.12->auto-sklearn==0.14.7->huble==0.2.1) (1.2.0)\n",
      "Requirement already satisfied: packaging>=20.0 in /home/rugved/anaconda3/lib/python3.8/site-packages (from dask>=2021.12->auto-sklearn==0.14.7->huble==0.2.1) (21.3)\n",
      "Requirement already satisfied: toolz>=0.8.2 in /home/rugved/anaconda3/lib/python3.8/site-packages (from dask>=2021.12->auto-sklearn==0.14.7->huble==0.2.1) (0.11.1)\n",
      "Requirement already satisfied: cloudpickle>=1.1.1 in /home/rugved/anaconda3/lib/python3.8/site-packages (from dask>=2021.12->auto-sklearn==0.14.7->huble==0.2.1) (1.6.0)\n",
      "Requirement already satisfied: fsspec>=0.6.0 in /home/rugved/anaconda3/lib/python3.8/site-packages (from dask>=2021.12->auto-sklearn==0.14.7->huble==0.2.1) (0.9.0)\n",
      "Requirement already satisfied: zict>=0.1.3 in /home/rugved/anaconda3/lib/python3.8/site-packages (from distributed>=2012.12->auto-sklearn==0.14.7->huble==0.2.1) (2.0.0)\n",
      "Requirement already satisfied: tblib>=1.6.0 in /home/rugved/anaconda3/lib/python3.8/site-packages (from distributed>=2012.12->auto-sklearn==0.14.7->huble==0.2.1) (1.7.0)\n",
      "Requirement already satisfied: tornado>=6.0.3 in /home/rugved/anaconda3/lib/python3.8/site-packages (from distributed>=2012.12->auto-sklearn==0.14.7->huble==0.2.1) (6.1)\n",
      "Requirement already satisfied: sortedcontainers!=2.0.0,!=2.0.1 in /home/rugved/anaconda3/lib/python3.8/site-packages (from distributed>=2012.12->auto-sklearn==0.14.7->huble==0.2.1) (2.3.0)\n",
      "Requirement already satisfied: psutil>=5.0 in /home/rugved/anaconda3/lib/python3.8/site-packages (from distributed>=2012.12->auto-sklearn==0.14.7->huble==0.2.1) (5.8.0)\n",
      "Requirement already satisfied: msgpack>=0.6.0 in /home/rugved/anaconda3/lib/python3.8/site-packages (from distributed>=2012.12->auto-sklearn==0.14.7->huble==0.2.1) (1.0.2)\n",
      "Requirement already satisfied: MarkupSafe>=2.0 in /home/rugved/anaconda3/lib/python3.8/site-packages (from Jinja2<4.0.0,>=3.1.2->huble==0.2.1) (2.1.2)\n",
      "Requirement already satisfied: python-dateutil>=2.8.1 in /home/rugved/anaconda3/lib/python3.8/site-packages (from pandas<2.0.0,>=1.3.5->huble==0.2.1) (2.8.1)\n",
      "Requirement already satisfied: pytz>=2020.1 in /home/rugved/anaconda3/lib/python3.8/site-packages (from pandas<2.0.0,>=1.3.5->huble==0.2.1) (2021.1)\n",
      "Requirement already satisfied: locket in /home/rugved/anaconda3/lib/python3.8/site-packages/locket-0.2.1-py3.8.egg (from partd>=0.3.10->dask>=2021.12->auto-sklearn==0.14.7->huble==0.2.1) (0.2.1)\n",
      "Requirement already satisfied: six>=1.5 in /home/rugved/anaconda3/lib/python3.8/site-packages (from python-dateutil>=2.8.1->pandas<2.0.0,>=1.3.5->huble==0.2.1) (1.15.0)\n",
      "Requirement already satisfied: emcee>=3.0.0 in /home/rugved/anaconda3/lib/python3.8/site-packages (from smac<1.3,>=1.2->auto-sklearn==0.14.7->huble==0.2.1) (3.1.4)\n",
      "Requirement already satisfied: importlib-resources>=5.10.0 in /home/rugved/anaconda3/lib/python3.8/site-packages (from woodwork<0.22.0,>=0.21.1->huble==0.2.1) (5.10.1)\n",
      "Requirement already satisfied: zipp>=3.1.0 in /home/rugved/anaconda3/lib/python3.8/site-packages (from importlib-resources>=5.10.0->woodwork<0.22.0,>=0.21.1->huble==0.2.1) (3.4.1)\n",
      "Requirement already satisfied: heapdict in /home/rugved/anaconda3/lib/python3.8/site-packages (from zict>=0.1.3->distributed>=2012.12->auto-sklearn==0.14.7->huble==0.2.1) (1.0.1)\n",
      "Installing collected packages: huble\n",
      "  Attempting uninstall: huble\n",
      "    Found existing installation: huble 0.2.0\n",
      "    Uninstalling huble-0.2.0:\n",
      "      Successfully uninstalled huble-0.2.0\n",
      "Successfully installed huble-0.2.1\n"
     ]
    }
   ],
   "source": [
    "!pip install huble==0.2.1"
   ]
  },
  {
   "cell_type": "code",
   "execution_count": 19,
   "metadata": {},
   "outputs": [
    {
     "ename": "ImportError",
     "evalue": "cannot import name 'run_experiment' from 'huble' (/home/rugved/anaconda3/lib/python3.8/site-packages/huble/__init__.py)",
     "output_type": "error",
     "traceback": [
      "\u001b[0;31m---------------------------------------------------------------------------\u001b[0m",
      "\u001b[0;31mImportError\u001b[0m                               Traceback (most recent call last)",
      "\u001b[0;32m<ipython-input-19-1c7b6985e9ad>\u001b[0m in \u001b[0;36m<module>\u001b[0;34m\u001b[0m\n\u001b[1;32m      1\u001b[0m \u001b[0;32mimport\u001b[0m \u001b[0mhuble\u001b[0m\u001b[0;34m\u001b[0m\u001b[0;34m\u001b[0m\u001b[0m\n\u001b[0;32m----> 2\u001b[0;31m \u001b[0;32mfrom\u001b[0m \u001b[0mhuble\u001b[0m \u001b[0;32mimport\u001b[0m \u001b[0mrun_experiment\u001b[0m\u001b[0;34m\u001b[0m\u001b[0;34m\u001b[0m\u001b[0m\n\u001b[0m\u001b[1;32m      3\u001b[0m \u001b[0mrun_experiment\u001b[0m\u001b[0;34m(\u001b[0m\u001b[0;34m'b9c36c0e-5a1c-4ce2-86cd-f146dd2a5e58'\u001b[0m\u001b[0;34m)\u001b[0m\u001b[0;34m\u001b[0m\u001b[0;34m\u001b[0m\u001b[0m\n",
      "\u001b[0;31mImportError\u001b[0m: cannot import name 'run_experiment' from 'huble' (/home/rugved/anaconda3/lib/python3.8/site-packages/huble/__init__.py)"
     ]
    }
   ],
   "source": [
    "import huble\n",
    "from huble import run_experiment\n",
    "run_experiment('b9c36c0e-5a1c-4ce2-86cd-f146dd2a5e58')"
   ]
  },
  {
   "cell_type": "code",
   "execution_count": 18,
   "metadata": {},
   "outputs": [
    {
     "name": "stdout",
     "output_type": "stream",
     "text": [
      "Collecting lightgbm\n",
      "  Downloading lightgbm-3.3.5-py3-none-manylinux1_x86_64.whl (2.0 MB)\n",
      "\u001b[K     |████████████████████████████████| 2.0 MB 2.2 MB/s eta 0:00:01\n",
      "\u001b[?25hRequirement already satisfied: scipy in /home/rugved/anaconda3/lib/python3.8/site-packages (from lightgbm) (1.7.3)\n",
      "Requirement already satisfied: scikit-learn!=0.22.0 in /home/rugved/anaconda3/lib/python3.8/site-packages (from lightgbm) (0.24.2)\n",
      "Requirement already satisfied: wheel in /home/rugved/anaconda3/lib/python3.8/site-packages (from lightgbm) (0.36.2)\n",
      "Requirement already satisfied: numpy in /home/rugved/anaconda3/lib/python3.8/site-packages (from lightgbm) (1.22.4)\n",
      "Requirement already satisfied: joblib>=0.11 in /home/rugved/anaconda3/lib/python3.8/site-packages (from scikit-learn!=0.22.0->lightgbm) (1.0.1)\n",
      "Requirement already satisfied: threadpoolctl>=2.0.0 in /home/rugved/anaconda3/lib/python3.8/site-packages (from scikit-learn!=0.22.0->lightgbm) (2.1.0)\n",
      "Installing collected packages: lightgbm\n",
      "Successfully installed lightgbm-3.3.5\n",
      "Collecting xgboost\n",
      "  Downloading xgboost-1.7.3-py3-none-manylinux2014_x86_64.whl (193.6 MB)\n",
      "\u001b[K     |████████████████████████████████| 193.6 MB 1.9 MB/s eta 0:00:01\n",
      "\u001b[?25hRequirement already satisfied: scipy in /home/rugved/anaconda3/lib/python3.8/site-packages (from xgboost) (1.7.3)\n",
      "Requirement already satisfied: numpy in /home/rugved/anaconda3/lib/python3.8/site-packages (from xgboost) (1.22.4)\n",
      "Installing collected packages: xgboost\n",
      "Successfully installed xgboost-1.7.3\n",
      "Collecting catboost\n",
      "  Downloading catboost-1.1.1-cp38-none-manylinux1_x86_64.whl (76.6 MB)\n",
      "\u001b[K     |████████████████████████████████| 76.6 MB 97 kB/s s eta 0:00:01\n",
      "\u001b[?25hRequirement already satisfied: pandas>=0.24.0 in /home/rugved/anaconda3/lib/python3.8/site-packages (from catboost) (1.5.3)\n",
      "Collecting plotly\n",
      "  Downloading plotly-5.13.0-py2.py3-none-any.whl (15.2 MB)\n",
      "\u001b[K     |████████████████████████████████| 15.2 MB 10.0 MB/s eta 0:00:01\n",
      "\u001b[?25hCollecting graphviz\n",
      "  Using cached graphviz-0.20.1-py3-none-any.whl (47 kB)\n",
      "Requirement already satisfied: matplotlib in /home/rugved/anaconda3/lib/python3.8/site-packages (from catboost) (3.3.4)\n",
      "Requirement already satisfied: numpy>=1.16.0 in /home/rugved/anaconda3/lib/python3.8/site-packages (from catboost) (1.22.4)\n",
      "Requirement already satisfied: scipy in /home/rugved/anaconda3/lib/python3.8/site-packages (from catboost) (1.7.3)\n",
      "Requirement already satisfied: six in /home/rugved/anaconda3/lib/python3.8/site-packages (from catboost) (1.15.0)\n",
      "Requirement already satisfied: pytz>=2020.1 in /home/rugved/anaconda3/lib/python3.8/site-packages (from pandas>=0.24.0->catboost) (2021.1)\n",
      "Requirement already satisfied: python-dateutil>=2.8.1 in /home/rugved/anaconda3/lib/python3.8/site-packages (from pandas>=0.24.0->catboost) (2.8.1)\n",
      "Requirement already satisfied: cycler>=0.10 in /home/rugved/anaconda3/lib/python3.8/site-packages (from matplotlib->catboost) (0.10.0)\n",
      "Requirement already satisfied: pyparsing!=2.0.4,!=2.1.2,!=2.1.6,>=2.0.3 in /home/rugved/anaconda3/lib/python3.8/site-packages (from matplotlib->catboost) (2.4.7)\n",
      "Requirement already satisfied: kiwisolver>=1.0.1 in /home/rugved/anaconda3/lib/python3.8/site-packages (from matplotlib->catboost) (1.3.1)\n",
      "Requirement already satisfied: pillow>=6.2.0 in /home/rugved/anaconda3/lib/python3.8/site-packages (from matplotlib->catboost) (8.2.0)\n",
      "Collecting tenacity>=6.2.0\n",
      "  Downloading tenacity-8.1.0-py3-none-any.whl (23 kB)\n",
      "Installing collected packages: tenacity, plotly, graphviz, catboost\n",
      "Successfully installed catboost-1.1.1 graphviz-0.20.1 plotly-5.13.0 tenacity-8.1.0\n"
     ]
    }
   ],
   "source": [
    "!pip install lightgbm\n",
    "!pip install xgboost\n",
    "!pip install catboost"
   ]
  },
  {
   "cell_type": "code",
   "execution_count": null,
   "metadata": {},
   "outputs": [],
   "source": []
  },
  {
   "cell_type": "code",
   "execution_count": null,
   "metadata": {},
   "outputs": [],
   "source": []
  }
 ],
 "metadata": {
  "kernelspec": {
   "display_name": "Python 3.8.8 ('base')",
   "language": "python",
   "name": "python3"
  },
  "language_info": {
   "codemirror_mode": {
    "name": "ipython",
    "version": 3
   },
   "file_extension": ".py",
   "mimetype": "text/x-python",
   "name": "python",
   "nbconvert_exporter": "python",
   "pygments_lexer": "ipython3",
   "version": "3.8.8"
  },
  "orig_nbformat": 4,
  "vscode": {
   "interpreter": {
    "hash": "2c3fa0e868eab2096311d304aba03b24c1009ced47713f6fdb48c22da7ae2065"
   }
  }
 },
 "nbformat": 4,
 "nbformat_minor": 2
}
