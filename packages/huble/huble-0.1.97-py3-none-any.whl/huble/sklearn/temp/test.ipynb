{
 "cells": [
  {
   "cell_type": "code",
   "execution_count": 14,
   "metadata": {},
   "outputs": [],
   "source": [
    "from huble.sklearn.process.generate import convert_graph,generate_script,generate_steps"
   ]
  },
  {
   "cell_type": "code",
   "execution_count": 15,
   "metadata": {},
   "outputs": [],
   "source": [
    "test = \"\"\"{\"nodes\":[{\"id\":\"999\",\"type\":\"custom\",\"position\":{\"x\":633.4002817498528,\"y\":186.5000289469027},\"data\":{\"name\":\"Raw Data\",\"value\":\"Raw Data\",\"color\":\"green.400\",\"isInput\":true,\"parameters\":{\"Dataset\":\"Test\"},\"node_type\":\"preprocess\"},\"width\":400,\"height\":76,\"selected\":false,\"positionAbsolute\":{\"x\":633.4002817498528,\"y\":186.5000289469027},\"dragging\":false},{\"id\":\"998\",\"type\":\"custom\",\"position\":{\"x\":634.8003512224192,\"y\":719.1997645651916},\"data\":{\"name\":\"Clean Data\",\"value\":\"Clean Data\",\"color\":\"pink.400\",\"isOutput\":true,\"parameters\":{\"Dataset\":\"Test\"},\"node_type\":\"preprocess\"},\"width\":400,\"height\":76,\"selected\":false,\"positionAbsolute\":{\"x\":634.8003512224192,\"y\":719.1997645651916},\"dragging\":false},{\"id\":\"1\",\"type\":\"custom\",\"position\":{\"x\":546,\"y\":341},\"data\":{\"name\":\"Remove NAN values\",\"value\":\"Remove NAN values\",\"parameters\":{\"axis\":0,\"how\":\"all\",\"subset\":[],\"inplace\":false},\"node_type\":\"preprocess\",\"color\":\"yellow.400\"},\"width\":400,\"height\":76,\"selected\":false,\"positionAbsolute\":{\"x\":546,\"y\":341},\"dragging\":false},{\"id\":\"3\",\"type\":\"custom\",\"position\":{\"x\":554,\"y\":535},\"data\":{\"name\":\"Dropping rows or columns\",\"value\":\"Dropping rows or columns\",\"parameters\":{\"labels\":[{\"value\":\"Sex\",\"label\":\"Sex\"},{\"value\":\"Pclass\",\"label\":\"Pclass\"},{\"value\":\"Parch\",\"label\":\"Parch\"}],\"axis\":0,\"index\":[],\"columns\":[],\"inplace\":false,\"errors\":\"raise\"},\"node_type\":\"preprocess\",\"columnList\":{\"labels\":[[{\"value\":\"Survived\",\"label\":\"Survived\"},{\"value\":\"Sex\",\"label\":\"Sex\"}]],\"axis\":0,\"index\":[],\"columns\":[],\"inplace\":false,\"errors\":\"raise\"},\"color\":\"teal.400\"},\"width\":400,\"height\":76,\"selected\":true,\"positionAbsolute\":{\"x\":554,\"y\":535},\"dragging\":false}],\"edges\":[{\"source\":\"999\",\"sourceHandle\":null,\"target\":\"1\",\"targetHandle\":null,\"type\":\"custom\",\"data\":{\"sourceColor\":\"green.400\",\"targetColor\":\"yellow.400\"},\"id\":\"reactflow__edge-999-1\"},{\"source\":\"1\",\"sourceHandle\":null,\"target\":\"2\",\"targetHandle\":null,\"type\":\"custom\",\"data\":{\"sourceColor\":\"yellow.400\",\"targetColor\":\"#805AD5\"},\"id\":\"reactflow__edge-1-2\"},{\"source\":\"2\",\"sourceHandle\":null,\"target\":\"998\",\"targetHandle\":null,\"type\":\"custom\",\"data\":{\"sourceColor\":\"#805AD5\",\"targetColor\":\"pink.400\"},\"id\":\"reactflow__edge-2-998\"},{\"source\":\"3\",\"sourceHandle\":null,\"target\":\"998\",\"targetHandle\":null,\"type\":\"custom\",\"data\":{\"sourceColor\":\"teal.400\",\"targetColor\":\"pink.400\"},\"id\":\"reactflow__edge-3-998\"},{\"source\":\"1\",\"sourceHandle\":null,\"target\":\"3\",\"targetHandle\":null,\"type\":\"custom\",\"data\":{\"sourceColor\":\"yellow.400\",\"targetColor\":\"teal.400\"},\"id\":\"reactflow__edge-1-3\"}]}\"\"\""
   ]
  },
  {
   "cell_type": "code",
   "execution_count": 16,
   "metadata": {},
   "outputs": [
    {
     "data": {
      "text/plain": [
       "{'nodes': [{'id': '999',\n",
       "   'type': 'custom',\n",
       "   'position': {'x': 633.4002817498528, 'y': 186.5000289469027},\n",
       "   'data': {'name': 'Raw Data',\n",
       "    'value': 'Raw Data',\n",
       "    'color': 'green.400',\n",
       "    'isInput': True,\n",
       "    'parameters': {'Dataset': 'Test'},\n",
       "    'node_type': 'preprocess'},\n",
       "   'width': 400,\n",
       "   'height': 76,\n",
       "   'selected': False,\n",
       "   'positionAbsolute': {'x': 633.4002817498528, 'y': 186.5000289469027},\n",
       "   'dragging': False},\n",
       "  {'id': '998',\n",
       "   'type': 'custom',\n",
       "   'position': {'x': 634.8003512224192, 'y': 719.1997645651916},\n",
       "   'data': {'name': 'Clean Data',\n",
       "    'value': 'Clean Data',\n",
       "    'color': 'pink.400',\n",
       "    'isOutput': True,\n",
       "    'parameters': {'Dataset': 'Test'},\n",
       "    'node_type': 'preprocess'},\n",
       "   'width': 400,\n",
       "   'height': 76,\n",
       "   'selected': False,\n",
       "   'positionAbsolute': {'x': 634.8003512224192, 'y': 719.1997645651916},\n",
       "   'dragging': False},\n",
       "  {'id': '1',\n",
       "   'type': 'custom',\n",
       "   'position': {'x': 546, 'y': 341},\n",
       "   'data': {'name': 'Remove NAN values',\n",
       "    'value': 'Remove NAN values',\n",
       "    'parameters': {'axis': 0, 'how': 'all', 'subset': [], 'inplace': False},\n",
       "    'node_type': 'preprocess',\n",
       "    'color': 'yellow.400'},\n",
       "   'width': 400,\n",
       "   'height': 76,\n",
       "   'selected': False,\n",
       "   'positionAbsolute': {'x': 546, 'y': 341},\n",
       "   'dragging': False},\n",
       "  {'id': '3',\n",
       "   'type': 'custom',\n",
       "   'position': {'x': 554, 'y': 535},\n",
       "   'data': {'name': 'Dropping rows or columns',\n",
       "    'value': 'Dropping rows or columns',\n",
       "    'parameters': {'labels': [{'value': 'Sex', 'label': 'Sex'},\n",
       "      {'value': 'Pclass', 'label': 'Pclass'},\n",
       "      {'value': 'Parch', 'label': 'Parch'}],\n",
       "     'axis': 0,\n",
       "     'index': [],\n",
       "     'columns': [],\n",
       "     'inplace': False,\n",
       "     'errors': 'raise'},\n",
       "    'node_type': 'preprocess',\n",
       "    'columnList': {'labels': [[{'value': 'Survived', 'label': 'Survived'},\n",
       "       {'value': 'Sex', 'label': 'Sex'}]],\n",
       "     'axis': 0,\n",
       "     'index': [],\n",
       "     'columns': [],\n",
       "     'inplace': False,\n",
       "     'errors': 'raise'},\n",
       "    'color': 'teal.400'},\n",
       "   'width': 400,\n",
       "   'height': 76,\n",
       "   'selected': True,\n",
       "   'positionAbsolute': {'x': 554, 'y': 535},\n",
       "   'dragging': False}],\n",
       " 'edges': [{'source': '999',\n",
       "   'sourceHandle': None,\n",
       "   'target': '1',\n",
       "   'targetHandle': None,\n",
       "   'type': 'custom',\n",
       "   'data': {'sourceColor': 'green.400', 'targetColor': 'yellow.400'},\n",
       "   'id': 'reactflow__edge-999-1'},\n",
       "  {'source': '1',\n",
       "   'sourceHandle': None,\n",
       "   'target': '2',\n",
       "   'targetHandle': None,\n",
       "   'type': 'custom',\n",
       "   'data': {'sourceColor': 'yellow.400', 'targetColor': '#805AD5'},\n",
       "   'id': 'reactflow__edge-1-2'},\n",
       "  {'source': '2',\n",
       "   'sourceHandle': None,\n",
       "   'target': '998',\n",
       "   'targetHandle': None,\n",
       "   'type': 'custom',\n",
       "   'data': {'sourceColor': '#805AD5', 'targetColor': 'pink.400'},\n",
       "   'id': 'reactflow__edge-2-998'},\n",
       "  {'source': '3',\n",
       "   'sourceHandle': None,\n",
       "   'target': '998',\n",
       "   'targetHandle': None,\n",
       "   'type': 'custom',\n",
       "   'data': {'sourceColor': 'teal.400', 'targetColor': 'pink.400'},\n",
       "   'id': 'reactflow__edge-3-998'},\n",
       "  {'source': '1',\n",
       "   'sourceHandle': None,\n",
       "   'target': '3',\n",
       "   'targetHandle': None,\n",
       "   'type': 'custom',\n",
       "   'data': {'sourceColor': 'yellow.400', 'targetColor': 'teal.400'},\n",
       "   'id': 'reactflow__edge-1-3'}]}"
      ]
     },
     "execution_count": 16,
     "metadata": {},
     "output_type": "execute_result"
    }
   ],
   "source": [
    "import json\n",
    "graph = json.loads(test)\n",
    "graph"
   ]
  },
  {
   "cell_type": "code",
   "execution_count": 17,
   "metadata": {},
   "outputs": [
    {
     "name": "stdout",
     "output_type": "stream",
     "text": [
      "/home/rugved/Projects/huble/src/huble/sklearn/process\n",
      "['Remove NAN values']\n",
      "\n",
      "data = huble.sklearn.remove_nan_values(data=data,parameters={'axis': 0, 'how': 'all', 'inplace': False, 'subset': []})\n",
      "\n",
      "data = huble.sklearn.drop_rows_columns(data=data,parameters={'labels': [{'value': 'Sex', 'label': 'Sex'}, {'value': 'Pclass', 'label': 'Pclass'}, {'value': 'Parch', 'label': 'Parch'}], 'axis': 0, 'index': [], 'columns': [], 'inplace': False, 'errors': 'raise'})\n",
      "\n"
     ]
    }
   ],
   "source": [
    "generate_script(graph)"
   ]
  },
  {
   "cell_type": "code",
   "execution_count": 35,
   "metadata": {},
   "outputs": [],
   "source": [
    "import pandas as pd\n",
    "import requests\n",
    "\n",
    "\n",
    "def load_dataset(url) -> pd.DataFrame:\n",
    "    local_filename = \"test.csv\"  # url.split('/')[-1]\n",
    "    # NOTE the stream=True parameter below\n",
    "    with requests.get(url, stream=True) as r:\n",
    "        r.raise_for_status()\n",
    "        with open(local_filename, \"wb\") as f:\n",
    "            for chunk in r.iter_content(chunk_size=8192):\n",
    "                f.write(chunk)\n",
    "    return pd.read_csv(local_filename)\n"
   ]
  },
  {
   "cell_type": "code",
   "execution_count": 43,
   "metadata": {},
   "outputs": [
    {
     "name": "stdout",
     "output_type": "stream",
     "text": [
      "<class 'pandas.core.frame.DataFrame'>\n",
      "RangeIndex: 418 entries, 0 to 417\n",
      "Data columns (total 12 columns):\n",
      " #   Column       Non-Null Count  Dtype  \n",
      "---  ------       --------------  -----  \n",
      " 0   PassengerId  418 non-null    int64  \n",
      " 1   Survived     418 non-null    int64  \n",
      " 2   Pclass       418 non-null    int64  \n",
      " 3   Name         418 non-null    object \n",
      " 4   Sex          418 non-null    object \n",
      " 5   Age          332 non-null    float64\n",
      " 6   SibSp        418 non-null    int64  \n",
      " 7   Parch        418 non-null    int64  \n",
      " 8   Ticket       418 non-null    object \n",
      " 9   Fare         417 non-null    float64\n",
      " 10  Cabin        91 non-null     object \n",
      " 11  Embarked     418 non-null    object \n",
      "dtypes: float64(2), int64(5), object(5)\n",
      "memory usage: 39.3+ KB\n"
     ]
    }
   ],
   "source": [
    "import huble\n",
    "\n",
    "data = load_dataset(\"https://ipfs.filebase.io/ipfs/QmRspeqXi9J2PVTmXYwMaBif9dYWVkNhM8EFomUAfajnT1\")\n",
    "#data.info()\n",
    "data = huble.sklearn.remove_nan_values(data=data, parameters={ \"how\": \"all\", \"inplace\": False})\n",
    "data.info()\n",
    "# data = huble.sklearn.drop_rows_columns(\n",
    "#     data=data,\n",
    "#     parameters={\n",
    "#         \"labels\": [\"Sex\", \"Pclass\", \"Parch\"],\n",
    "#         \"axis\": 1,\n",
    "#         \"inplace\": False,\n",
    "#         \"errors\": \"raise\",\n",
    "#     },\n",
    "# )"
   ]
  },
  {
   "cell_type": "code",
   "execution_count": null,
   "metadata": {},
   "outputs": [],
   "source": []
  },
  {
   "cell_type": "code",
   "execution_count": null,
   "metadata": {},
   "outputs": [],
   "source": []
  }
 ],
 "metadata": {
  "kernelspec": {
   "display_name": "Python 3.8.8 ('huble-jmRcOqbb-py3.8')",
   "language": "python",
   "name": "python3"
  },
  "language_info": {
   "codemirror_mode": {
    "name": "ipython",
    "version": 3
   },
   "file_extension": ".py",
   "mimetype": "text/x-python",
   "name": "python",
   "nbconvert_exporter": "python",
   "pygments_lexer": "ipython3",
   "version": "3.8.8"
  },
  "orig_nbformat": 4,
  "vscode": {
   "interpreter": {
    "hash": "2bd4402ae2af66a9b9715c78fa165f8547e33a1d62e8b49e18e8b2170d5f09d4"
   }
  }
 },
 "nbformat": 4,
 "nbformat_minor": 2
}
