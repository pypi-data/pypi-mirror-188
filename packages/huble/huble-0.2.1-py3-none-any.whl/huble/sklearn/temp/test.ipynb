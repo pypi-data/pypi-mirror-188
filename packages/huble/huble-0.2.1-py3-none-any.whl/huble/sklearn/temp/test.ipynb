{
 "cells": [
  {
   "cell_type": "code",
   "execution_count": 10,
   "metadata": {},
   "outputs": [
    {
     "name": "stdout",
     "output_type": "stream",
     "text": [
      "Collecting huble==0.2.0\n",
      "  Downloading huble-0.2.0-py3-none-any.whl (50 kB)\n",
      "\u001b[K     |████████████████████████████████| 50 kB 4.9 MB/s eta 0:00:01\n",
      "\u001b[?25hRequirement already satisfied: pandas<2.0.0,>=1.3.5 in /home/rugved/anaconda3/lib/python3.8/site-packages (from huble==0.2.0) (1.5.3)\n",
      "Requirement already satisfied: Jinja2<4.0.0,>=3.1.2 in /home/rugved/anaconda3/lib/python3.8/site-packages (from huble==0.2.0) (3.1.2)\n",
      "Requirement already satisfied: black<23.0.0,>=22.8.0 in /home/rugved/anaconda3/lib/python3.8/site-packages (from huble==0.2.0) (22.12.0)\n",
      "Requirement already satisfied: auto-sklearn==0.14.7 in /home/rugved/anaconda3/lib/python3.8/site-packages (from huble==0.2.0) (0.14.7)\n",
      "Requirement already satisfied: scipy<1.8.0,>=1.7.0 in /home/rugved/anaconda3/lib/python3.8/site-packages (from huble==0.2.0) (1.7.3)\n",
      "Requirement already satisfied: scikit-learn==0.24.2 in /home/rugved/anaconda3/lib/python3.8/site-packages (from huble==0.2.0) (0.24.2)\n",
      "Requirement already satisfied: woodwork<0.22.0,>=0.21.1 in /home/rugved/anaconda3/lib/python3.8/site-packages (from huble==0.2.0) (0.21.2)\n",
      "Requirement already satisfied: smac<1.3,>=1.2 in /home/rugved/anaconda3/lib/python3.8/site-packages (from auto-sklearn==0.14.7->huble==0.2.0) (1.2)\n",
      "Requirement already satisfied: distro in /home/rugved/anaconda3/lib/python3.8/site-packages (from auto-sklearn==0.14.7->huble==0.2.0) (1.8.0)\n",
      "Requirement already satisfied: typing-extensions in /home/rugved/anaconda3/lib/python3.8/site-packages (from auto-sklearn==0.14.7->huble==0.2.0) (4.4.0)\n",
      "Requirement already satisfied: joblib in /home/rugved/anaconda3/lib/python3.8/site-packages (from auto-sklearn==0.14.7->huble==0.2.0) (1.0.1)\n",
      "Requirement already satisfied: distributed>=2012.12 in /home/rugved/anaconda3/lib/python3.8/site-packages (from auto-sklearn==0.14.7->huble==0.2.0) (2021.4.1)\n",
      "Requirement already satisfied: pynisher<0.7,>=0.6.3 in /home/rugved/anaconda3/lib/python3.8/site-packages (from auto-sklearn==0.14.7->huble==0.2.0) (0.6.4)\n",
      "Requirement already satisfied: pyyaml in /home/rugved/anaconda3/lib/python3.8/site-packages (from auto-sklearn==0.14.7->huble==0.2.0) (5.4.1)\n",
      "Requirement already satisfied: liac-arff in /home/rugved/anaconda3/lib/python3.8/site-packages (from auto-sklearn==0.14.7->huble==0.2.0) (2.5.0)\n",
      "Requirement already satisfied: dask>=2021.12 in /home/rugved/anaconda3/lib/python3.8/site-packages (from auto-sklearn==0.14.7->huble==0.2.0) (2023.1.1)\n",
      "Requirement already satisfied: numpy>=1.9.0 in /home/rugved/anaconda3/lib/python3.8/site-packages (from auto-sklearn==0.14.7->huble==0.2.0) (1.22.4)\n",
      "Requirement already satisfied: threadpoolctl in /home/rugved/anaconda3/lib/python3.8/site-packages (from auto-sklearn==0.14.7->huble==0.2.0) (2.1.0)\n",
      "Requirement already satisfied: setuptools in /home/rugved/anaconda3/lib/python3.8/site-packages (from auto-sklearn==0.14.7->huble==0.2.0) (52.0.0.post20210125)\n",
      "Requirement already satisfied: pyrfr<0.9,>=0.8.1 in /home/rugved/anaconda3/lib/python3.8/site-packages (from auto-sklearn==0.14.7->huble==0.2.0) (0.8.3)\n",
      "Requirement already satisfied: ConfigSpace<0.5,>=0.4.21 in /home/rugved/anaconda3/lib/python3.8/site-packages (from auto-sklearn==0.14.7->huble==0.2.0) (0.4.21)\n",
      "Requirement already satisfied: platformdirs>=2 in /home/rugved/anaconda3/lib/python3.8/site-packages (from black<23.0.0,>=22.8.0->huble==0.2.0) (2.6.2)\n",
      "Requirement already satisfied: mypy-extensions>=0.4.3 in /home/rugved/anaconda3/lib/python3.8/site-packages (from black<23.0.0,>=22.8.0->huble==0.2.0) (0.4.3)\n",
      "Requirement already satisfied: click>=8.0.0 in /home/rugved/anaconda3/lib/python3.8/site-packages (from black<23.0.0,>=22.8.0->huble==0.2.0) (8.1.3)\n",
      "Requirement already satisfied: pathspec>=0.9.0 in /home/rugved/anaconda3/lib/python3.8/site-packages (from black<23.0.0,>=22.8.0->huble==0.2.0) (0.11.0)\n",
      "Requirement already satisfied: tomli>=1.1.0 in /home/rugved/anaconda3/lib/python3.8/site-packages (from black<23.0.0,>=22.8.0->huble==0.2.0) (2.0.1)\n",
      "Requirement already satisfied: pyparsing in /home/rugved/anaconda3/lib/python3.8/site-packages (from ConfigSpace<0.5,>=0.4.21->auto-sklearn==0.14.7->huble==0.2.0) (2.4.7)\n",
      "Requirement already satisfied: cython in /home/rugved/anaconda3/lib/python3.8/site-packages (from ConfigSpace<0.5,>=0.4.21->auto-sklearn==0.14.7->huble==0.2.0) (0.29.23)\n",
      "Requirement already satisfied: cloudpickle>=1.1.1 in /home/rugved/anaconda3/lib/python3.8/site-packages (from dask>=2021.12->auto-sklearn==0.14.7->huble==0.2.0) (1.6.0)\n",
      "Requirement already satisfied: packaging>=20.0 in /home/rugved/anaconda3/lib/python3.8/site-packages (from dask>=2021.12->auto-sklearn==0.14.7->huble==0.2.0) (21.3)\n",
      "Requirement already satisfied: toolz>=0.8.2 in /home/rugved/anaconda3/lib/python3.8/site-packages (from dask>=2021.12->auto-sklearn==0.14.7->huble==0.2.0) (0.11.1)\n",
      "Requirement already satisfied: partd>=0.3.10 in /home/rugved/anaconda3/lib/python3.8/site-packages (from dask>=2021.12->auto-sklearn==0.14.7->huble==0.2.0) (1.2.0)\n",
      "Requirement already satisfied: fsspec>=0.6.0 in /home/rugved/anaconda3/lib/python3.8/site-packages (from dask>=2021.12->auto-sklearn==0.14.7->huble==0.2.0) (0.9.0)\n",
      "Requirement already satisfied: zict>=0.1.3 in /home/rugved/anaconda3/lib/python3.8/site-packages (from distributed>=2012.12->auto-sklearn==0.14.7->huble==0.2.0) (2.0.0)\n",
      "Requirement already satisfied: sortedcontainers!=2.0.0,!=2.0.1 in /home/rugved/anaconda3/lib/python3.8/site-packages (from distributed>=2012.12->auto-sklearn==0.14.7->huble==0.2.0) (2.3.0)\n",
      "Requirement already satisfied: msgpack>=0.6.0 in /home/rugved/anaconda3/lib/python3.8/site-packages (from distributed>=2012.12->auto-sklearn==0.14.7->huble==0.2.0) (1.0.2)\n",
      "Requirement already satisfied: tornado>=6.0.3 in /home/rugved/anaconda3/lib/python3.8/site-packages (from distributed>=2012.12->auto-sklearn==0.14.7->huble==0.2.0) (6.1)\n",
      "Requirement already satisfied: psutil>=5.0 in /home/rugved/anaconda3/lib/python3.8/site-packages (from distributed>=2012.12->auto-sklearn==0.14.7->huble==0.2.0) (5.8.0)\n",
      "Requirement already satisfied: tblib>=1.6.0 in /home/rugved/anaconda3/lib/python3.8/site-packages (from distributed>=2012.12->auto-sklearn==0.14.7->huble==0.2.0) (1.7.0)\n",
      "Requirement already satisfied: MarkupSafe>=2.0 in /home/rugved/anaconda3/lib/python3.8/site-packages (from Jinja2<4.0.0,>=3.1.2->huble==0.2.0) (2.1.2)\n",
      "Requirement already satisfied: pytz>=2020.1 in /home/rugved/anaconda3/lib/python3.8/site-packages (from pandas<2.0.0,>=1.3.5->huble==0.2.0) (2021.1)\n",
      "Requirement already satisfied: python-dateutil>=2.8.1 in /home/rugved/anaconda3/lib/python3.8/site-packages (from pandas<2.0.0,>=1.3.5->huble==0.2.0) (2.8.1)\n",
      "Requirement already satisfied: locket in /home/rugved/anaconda3/lib/python3.8/site-packages/locket-0.2.1-py3.8.egg (from partd>=0.3.10->dask>=2021.12->auto-sklearn==0.14.7->huble==0.2.0) (0.2.1)\n",
      "Requirement already satisfied: six>=1.5 in /home/rugved/anaconda3/lib/python3.8/site-packages (from python-dateutil>=2.8.1->pandas<2.0.0,>=1.3.5->huble==0.2.0) (1.15.0)\n",
      "Requirement already satisfied: emcee>=3.0.0 in /home/rugved/anaconda3/lib/python3.8/site-packages (from smac<1.3,>=1.2->auto-sklearn==0.14.7->huble==0.2.0) (3.1.4)\n",
      "Requirement already satisfied: importlib-resources>=5.10.0 in /home/rugved/anaconda3/lib/python3.8/site-packages (from woodwork<0.22.0,>=0.21.1->huble==0.2.0) (5.10.1)\n",
      "Requirement already satisfied: zipp>=3.1.0 in /home/rugved/anaconda3/lib/python3.8/site-packages (from importlib-resources>=5.10.0->woodwork<0.22.0,>=0.21.1->huble==0.2.0) (3.4.1)\n",
      "Requirement already satisfied: heapdict in /home/rugved/anaconda3/lib/python3.8/site-packages (from zict>=0.1.3->distributed>=2012.12->auto-sklearn==0.14.7->huble==0.2.0) (1.0.1)\n",
      "Installing collected packages: huble\n",
      "  Attempting uninstall: huble\n",
      "    Found existing installation: huble 0.1.99\n",
      "    Uninstalling huble-0.1.99:\n",
      "      Successfully uninstalled huble-0.1.99\n",
      "Successfully installed huble-0.2.0\n"
     ]
    }
   ],
   "source": [
    "!pip install huble==0.2.0"
   ]
  },
  {
   "cell_type": "code",
   "execution_count": 13,
   "metadata": {},
   "outputs": [
    {
     "ename": "ModuleNotFoundError",
     "evalue": "No module named 'huble.sklearn.train.generate'",
     "output_type": "error",
     "traceback": [
      "\u001b[0;31m---------------------------------------------------------------------------\u001b[0m",
      "\u001b[0;31mModuleNotFoundError\u001b[0m                       Traceback (most recent call last)",
      "\u001b[0;32m<ipython-input-13-1c7b6985e9ad>\u001b[0m in \u001b[0;36m<module>\u001b[0;34m\u001b[0m\n\u001b[0;32m----> 1\u001b[0;31m \u001b[0;32mimport\u001b[0m \u001b[0mhuble\u001b[0m\u001b[0;34m\u001b[0m\u001b[0;34m\u001b[0m\u001b[0m\n\u001b[0m\u001b[1;32m      2\u001b[0m \u001b[0;32mfrom\u001b[0m \u001b[0mhuble\u001b[0m \u001b[0;32mimport\u001b[0m \u001b[0mrun_experiment\u001b[0m\u001b[0;34m\u001b[0m\u001b[0;34m\u001b[0m\u001b[0m\n\u001b[1;32m      3\u001b[0m \u001b[0mrun_experiment\u001b[0m\u001b[0;34m(\u001b[0m\u001b[0;34m'b9c36c0e-5a1c-4ce2-86cd-f146dd2a5e58'\u001b[0m\u001b[0;34m)\u001b[0m\u001b[0;34m\u001b[0m\u001b[0;34m\u001b[0m\u001b[0m\n",
      "\u001b[0;32m~/anaconda3/lib/python3.8/site-packages/huble/__init__.py\u001b[0m in \u001b[0;36m<module>\u001b[0;34m\u001b[0m\n\u001b[0;32m----> 1\u001b[0;31m \u001b[0;32mfrom\u001b[0m \u001b[0;34m.\u001b[0m \u001b[0;32mimport\u001b[0m \u001b[0msklearn\u001b[0m\u001b[0;34m\u001b[0m\u001b[0;34m\u001b[0m\u001b[0m\n\u001b[0m",
      "\u001b[0;32m~/anaconda3/lib/python3.8/site-packages/huble/sklearn/__init__.py\u001b[0m in \u001b[0;36m<module>\u001b[0;34m\u001b[0m\n\u001b[1;32m      2\u001b[0m \u001b[0;32mfrom\u001b[0m \u001b[0;34m.\u001b[0m\u001b[0mprocess\u001b[0m \u001b[0;32mimport\u001b[0m \u001b[0mround_data\u001b[0m\u001b[0;34m,\u001b[0m \u001b[0mfilter_dataframe\u001b[0m\u001b[0;34m,\u001b[0m \u001b[0mtruncate_dataframe\u001b[0m\u001b[0;34m,\u001b[0m \u001b[0msort_values\u001b[0m\u001b[0;34m,\u001b[0m \u001b[0mtranspose\u001b[0m\u001b[0;34m\u001b[0m\u001b[0;34m\u001b[0m\u001b[0m\n\u001b[1;32m      3\u001b[0m \u001b[0;32mfrom\u001b[0m \u001b[0;34m.\u001b[0m\u001b[0mprocess\u001b[0m \u001b[0;32mimport\u001b[0m \u001b[0mmin_max_scale\u001b[0m\u001b[0;34m,\u001b[0m \u001b[0mmax_abs_scale\u001b[0m\u001b[0;34m,\u001b[0m \u001b[0mrobust_scale\u001b[0m\u001b[0;34m,\u001b[0m \u001b[0mstandard_scale\u001b[0m\u001b[0;34m,\u001b[0m \u001b[0mnormalize\u001b[0m\u001b[0;34m,\u001b[0m \u001b[0mordinal_encode\u001b[0m\u001b[0;34m,\u001b[0m \u001b[0mone_hot_encode\u001b[0m\u001b[0;34m\u001b[0m\u001b[0;34m\u001b[0m\u001b[0m\n\u001b[0;32m----> 4\u001b[0;31m \u001b[0;32mfrom\u001b[0m \u001b[0;34m.\u001b[0m\u001b[0mtrain\u001b[0m \u001b[0;32mimport\u001b[0m \u001b[0;34m*\u001b[0m\u001b[0;34m\u001b[0m\u001b[0;34m\u001b[0m\u001b[0m\n\u001b[0m",
      "\u001b[0;32m~/anaconda3/lib/python3.8/site-packages/huble/sklearn/train/__init__.py\u001b[0m in \u001b[0;36m<module>\u001b[0;34m\u001b[0m\n\u001b[0;32m----> 1\u001b[0;31m \u001b[0;32mfrom\u001b[0m \u001b[0;34m.\u001b[0m\u001b[0mgenerate\u001b[0m \u001b[0;32mimport\u001b[0m \u001b[0mgenerate_script\u001b[0m \u001b[0;32mas\u001b[0m \u001b[0mtrain_generate\u001b[0m\u001b[0;34m\u001b[0m\u001b[0;34m\u001b[0m\u001b[0m\n\u001b[0m\u001b[1;32m      2\u001b[0m \u001b[0;32mfrom\u001b[0m \u001b[0;34m.\u001b[0m\u001b[0mfunctions\u001b[0m \u001b[0;32mimport\u001b[0m \u001b[0;34m*\u001b[0m\u001b[0;34m\u001b[0m\u001b[0;34m\u001b[0m\u001b[0m\n\u001b[1;32m      3\u001b[0m \u001b[0;32mfrom\u001b[0m \u001b[0;34m.\u001b[0m\u001b[0mtemplates\u001b[0m \u001b[0;32mimport\u001b[0m \u001b[0;34m*\u001b[0m\u001b[0;34m\u001b[0m\u001b[0;34m\u001b[0m\u001b[0m\n",
      "\u001b[0;31mModuleNotFoundError\u001b[0m: No module named 'huble.sklearn.train.generate'"
     ]
    }
   ],
   "source": [
    "import huble\n",
    "from huble import run_experiment\n",
    "run_experiment('b9c36c0e-5a1c-4ce2-86cd-f146dd2a5e58')"
   ]
  },
  {
   "cell_type": "code",
   "execution_count": null,
   "metadata": {},
   "outputs": [],
   "source": []
  },
  {
   "cell_type": "code",
   "execution_count": null,
   "metadata": {},
   "outputs": [],
   "source": []
  },
  {
   "cell_type": "code",
   "execution_count": null,
   "metadata": {},
   "outputs": [],
   "source": []
  }
 ],
 "metadata": {
  "kernelspec": {
   "display_name": "Python 3.8.8 ('base')",
   "language": "python",
   "name": "python3"
  },
  "language_info": {
   "codemirror_mode": {
    "name": "ipython",
    "version": 3
   },
   "file_extension": ".py",
   "mimetype": "text/x-python",
   "name": "python",
   "nbconvert_exporter": "python",
   "pygments_lexer": "ipython3",
   "version": "3.8.8"
  },
  "orig_nbformat": 4,
  "vscode": {
   "interpreter": {
    "hash": "2c3fa0e868eab2096311d304aba03b24c1009ced47713f6fdb48c22da7ae2065"
   }
  }
 },
 "nbformat": 4,
 "nbformat_minor": 2
}
