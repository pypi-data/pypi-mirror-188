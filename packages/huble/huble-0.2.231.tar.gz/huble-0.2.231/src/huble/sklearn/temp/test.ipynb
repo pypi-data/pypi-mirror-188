{
 "cells": [
  {
   "cell_type": "code",
   "execution_count": 1,
   "metadata": {},
   "outputs": [
    {
     "name": "stdout",
     "output_type": "stream",
     "text": [
      "\u001b[31mERROR: Could not find a version that satisfies the requirement huble==0.2.23 (from versions: 0.1.0, 0.1.1, 0.1.2, 0.1.3, 0.1.5, 0.1.6, 0.1.21, 0.1.22, 0.1.23, 0.1.24, 0.1.25, 0.1.28, 0.1.31, 0.1.32, 0.1.33, 0.1.34, 0.1.35, 0.1.36, 0.1.37, 0.1.38, 0.1.39, 0.1.40, 0.1.41, 0.1.42, 0.1.43, 0.1.44, 0.1.45, 0.1.46, 0.1.47, 0.1.48, 0.1.49, 0.1.51, 0.1.52, 0.1.53, 0.1.54, 0.1.55, 0.1.56, 0.1.57, 0.1.58, 0.1.59, 0.1.61, 0.1.62, 0.1.63, 0.1.64, 0.1.65, 0.1.66, 0.1.67, 0.1.68, 0.1.69, 0.1.70, 0.1.71, 0.1.72, 0.1.73, 0.1.74, 0.1.75, 0.1.76, 0.1.77, 0.1.78, 0.1.79, 0.1.80, 0.1.81, 0.1.82, 0.1.83, 0.1.84, 0.1.85, 0.1.86, 0.1.87, 0.1.88, 0.1.89, 0.1.90, 0.1.91, 0.1.92, 0.1.93, 0.1.94, 0.1.95, 0.1.96, 0.1.97, 0.1.98, 0.1.99, 0.2.0, 0.2.1, 0.2.2, 0.2.21, 0.2.22)\u001b[0m\u001b[31m\n",
      "\u001b[0m\u001b[31mERROR: No matching distribution found for huble==0.2.23\u001b[0m\u001b[31m\n",
      "\u001b[0m\n",
      "\u001b[1m[\u001b[0m\u001b[34;49mnotice\u001b[0m\u001b[1;39;49m]\u001b[0m\u001b[39;49m A new release of pip available: \u001b[0m\u001b[31;49m22.2.2\u001b[0m\u001b[39;49m -> \u001b[0m\u001b[32;49m22.3.1\u001b[0m\n",
      "\u001b[1m[\u001b[0m\u001b[34;49mnotice\u001b[0m\u001b[1;39;49m]\u001b[0m\u001b[39;49m To update, run: \u001b[0m\u001b[32;49mpip install --upgrade pip\u001b[0m\n"
     ]
    }
   ],
   "source": [
    "!pip install huble==0.2.23"
   ]
  },
  {
   "cell_type": "code",
   "execution_count": 2,
   "metadata": {},
   "outputs": [
    {
     "name": "stdout",
     "output_type": "stream",
     "text": [
      "{'id': 'b9c36c0e-5a1c-4ce2-86cd-f146dd2a5e58', 'title': 'antsy-advantage', 'resultsJSON': None, 'verifiedJSON': None, 'nodeLatestID': 10, 'pipelineJSON': {'nodes': [{'id': '999', 'type': 'custom', 'position': {'x': 40, 'y': 132}, 'data': {'name': 'titanic.csv', 'value': 'QmRspeqXi9J2PVTmXYwMaBif9dYWVkNhM8EFomUAfajnT1', 'color': 'pink.400', 'isInput': True, 'parameters': {'url': 'https://ipfs.filebase.io/ipfs/QmRspeqXi9J2PVTmXYwMaBif9dYWVkNhM8EFomUAfajnT1'}, 'outputParameters': {'types': ['Dataframe'], 'isCustomizable': False}, 'node_type': 'primary_dataset'}, 'width': 240, 'height': 101, 'selected': False, 'positionAbsolute': {'x': 40, 'y': 132}, 'dragging': False, 'target': '2'}, {'id': '998', 'type': 'custom', 'position': {'x': 1253.4412542690281, 'y': 284.8689164432816}, 'data': {'name': 'Evaluate Model', 'value': 'Evaluate Model', 'color': 'green.400', 'isOutput': True, 'parameters': {}, 'inputParameters': {'types': ['Testing Dataset', 'Trained Model'], 'isCustomizable': False}, 'node_type': 'evaluate_model'}, 'width': 240, 'height': 129, 'selected': False, 'positionAbsolute': {'x': 1253.4412542690281, 'y': 284.8689164432816}, 'dragging': False, 'source': '6'}, {'id': '1', 'type': 'custom', 'position': {'x': 1035.6469874982502, 'y': 134.81677124228122}, 'data': {'name': 'Remove Outliers', 'value': 'Remove Outliers', 'parameters': {'columns': [{'value': 'Ticket', 'label': 'Ticket'}]}, 'inputParameters': {'types': ['Dataframe'], 'isCustomizable': False}, 'outputParameters': {'types': ['Dataframe'], 'isCustomizable': False}, 'node_type': 'preprocess'}, 'width': 240, 'height': 135, 'selected': False, 'positionAbsolute': {'x': 1035.6469874982502, 'y': 134.81677124228122}, 'dragging': False, 'source': '3', 'target': '5'}, {'id': '2', 'type': 'custom', 'position': {'x': 394.7547379639063, 'y': 122.830518412375}, 'data': {'name': 'Drop Duplicates', 'value': 'Drop Duplicates', 'parameters': {'subset': [], 'keep': 'first', 'inplace': False, 'ignore_index': False}, 'inputParameters': {'types': ['Dataframe'], 'isCustomizable': False}, 'outputParameters': {'types': ['Dataframe'], 'isCustomizable': False}, 'node_type': 'preprocess'}, 'width': 240, 'height': 135, 'source': '999', 'selected': False, 'positionAbsolute': {'x': 394.7547379639063, 'y': 122.830518412375}, 'dragging': False, 'target': '3'}, {'id': '3', 'type': 'custom', 'position': {'x': 720.2183411305626, 'y': 117.32364482732805}, 'data': {'name': 'Remove Mismatch Data', 'value': 'Remove Mismatch Data', 'parameters': {'exceptions': []}, 'inputParameters': {'types': ['Dataframe'], 'isCustomizable': False}, 'outputParameters': {'types': ['Dataframe'], 'isCustomizable': False}, 'node_type': 'preprocess'}, 'width': 240, 'height': 153, 'selected': False, 'positionAbsolute': {'x': 720.2183411305626, 'y': 117.32364482732805}, 'dragging': False, 'source': '2', 'target': '1'}, {'id': '4', 'type': 'custom', 'position': {'x': 380.8790057380804, 'y': 301.3345027506273}, 'data': {'name': 'Clean Dataset', 'value': 'Clean Dataset', 'parameters': {}, 'inputParameters': {'types': ['Dataframe'], 'isCustomizable': False}, 'outputParameters': {'types': ['Dataframe'], 'isCustomizable': False}, 'node_type': 'preprocess'}, 'width': 240, 'height': 135, 'selected': False, 'positionAbsolute': {'x': 380.8790057380804, 'y': 301.3345027506273}, 'dragging': False, 'source': '5', 'target': '7'}, {'id': '5', 'type': 'custom', 'position': {'x': 39.51160403525756, 'y': 286.53433029269536}, 'data': {'name': 'Dropping rows or columns', 'value': 'Dropping rows or columns', 'parameters': {'labels': [{'value': 'PassengerId', 'label': 'PassengerId'}, {'value': 'Pclass', 'label': 'Pclass'}, {'value': 'Name', 'label': 'Name'}], 'axis': 0, 'inplace': False, 'errors': 'raise'}, 'inputParameters': {'types': ['Dataframe'], 'isCustomizable': False}, 'outputParameters': {'types': ['Dataframe'], 'isCustomizable': False}, 'node_type': 'preprocess'}, 'width': 254, 'height': 154, 'selected': False, 'positionAbsolute': {'x': 39.51160403525756, 'y': 286.53433029269536}, 'dragging': False, 'source': '1', 'target': '4'}, {'id': '6', 'type': 'custom', 'position': {'x': 1002.8948773386579, 'y': 495.45335756602935}, 'data': {'name': 'Train Model', 'value': 'Train Model', 'parameters': {}, 'inputParameters': {'types': ['Training Dataset', 'Model'], 'isCustomizable': False}, 'outputParameters': {'types': ['Trained Model'], 'isCustomizable': False}, 'node_type': 'essential'}, 'width': 240, 'height': 158, 'selected': False, 'positionAbsolute': {'x': 1002.8948773386579, 'y': 495.45335756602935}, 'dragging': False, 'source': '8', 'target': '998'}, {'id': '7', 'type': 'custom', 'position': {'x': 703.2006173477529, 'y': 303.74729714129774}, 'data': {'name': 'Train-Test Split', 'value': 'Train-Test Split', 'parameters': {}, 'inputParameters': {'types': ['Dataframe'], 'isCustomizable': False}, 'outputParameters': {'types': ['Testing Dataset', 'Training Dataset'], 'isCustomizable': False}, 'node_type': 'essential'}, 'width': 240, 'height': 158, 'selected': False, 'positionAbsolute': {'x': 703.2006173477529, 'y': 303.74729714129774}, 'dragging': False, 'source': '4', 'target': '998'}, {'id': '8', 'type': 'custom', 'position': {'x': 546.4213248772855, 'y': 504.93812826990893}, 'data': {'name': 'Stochastic Gradient Descent Classifier', 'value': 'Stochastic Gradient Descent Classifier', 'parameters': {'loss': 'hinge', 'penalty': 'l2', 'fit_intercept': True, 'alpha': 0.0001, 'max_iter': 1000, 'tol': 0.001, 'shuffle': True, 'random_state': 'None', 'learning_rate': 'optimal', 'initial_learning_rate': 0, 'early_stopping': False, 'validation_fraction': 1}, 'outputParameters': {'types': ['Model'], 'isCustomizable': False}, 'node_type': 'model'}, 'width': 349, 'height': 135, 'selected': True, 'positionAbsolute': {'x': 546.4213248772855, 'y': 504.93812826990893}, 'dragging': False, 'target': '6'}], 'edges': [{'source': '999', 'sourceHandle': 'output_0_Dataframe', 'target': '2', 'targetHandle': 'input_0_Dataframe', 'type': 'custom', 'data': {'sourceColor': 'pink.400', 'targetColor': '#805AD5', 'target': '2_input_0_Dataframe', 'source': '999_output_0_Dataframe'}, 'id': 'reactflow__edge-999output_0_Dataframe-2input_0_Dataframe'}, {'source': '2', 'sourceHandle': 'output_0_Dataframe', 'target': '3', 'targetHandle': 'input_0_Dataframe', 'type': 'custom', 'data': {'sourceColor': '#805AD5', 'targetColor': '#805AD5', 'target': '3_input_0_Dataframe', 'source': '2_output_0_Dataframe'}, 'id': 'reactflow__edge-2output_0_Dataframe-3input_0_Dataframe'}, {'source': '3', 'sourceHandle': 'output_0_Dataframe', 'target': '1', 'targetHandle': 'input_0_Dataframe', 'type': 'custom', 'data': {'sourceColor': '#805AD5', 'targetColor': '#805AD5', 'target': '1_input_0_Dataframe', 'source': '3_output_0_Dataframe'}, 'id': 'reactflow__edge-3output_0_Dataframe-1input_0_Dataframe'}, {'source': '1', 'sourceHandle': 'output_0_Dataframe', 'target': '5', 'targetHandle': 'input_0_Dataframe', 'type': 'custom', 'data': {'sourceColor': '#805AD5', 'targetColor': '#805AD5', 'target': '5_input_0_Dataframe', 'source': '1_output_0_Dataframe'}, 'id': 'reactflow__edge-1output_0_Dataframe-5input_0_Dataframe'}, {'source': '5', 'sourceHandle': 'output_0_Dataframe', 'target': '4', 'targetHandle': 'input_0_Dataframe', 'type': 'custom', 'data': {'sourceColor': '#805AD5', 'targetColor': '#805AD5', 'target': '4_input_0_Dataframe', 'source': '5_output_0_Dataframe'}, 'id': 'reactflow__edge-5output_0_Dataframe-4input_0_Dataframe'}, {'source': '4', 'sourceHandle': 'output_0_Dataframe', 'target': '7', 'targetHandle': 'input_0_Dataframe', 'type': 'custom', 'data': {'sourceColor': '#805AD5', 'targetColor': '#805AD5', 'target': '7_input_0_Dataframe', 'source': '4_output_0_Dataframe'}, 'id': 'reactflow__edge-4output_0_Dataframe-7input_0_Dataframe'}, {'source': '7', 'sourceHandle': 'output_1_Training Dataset', 'target': '6', 'targetHandle': 'input_0_Training Dataset', 'type': 'custom', 'data': {'sourceColor': '#805AD5', 'targetColor': '#805AD5', 'target': '6_input_0_Training Dataset', 'source': '7_output_1_Training Dataset'}, 'id': 'reactflow__edge-7output_1_Training Dataset-6input_0_Training Dataset'}, {'source': '8', 'sourceHandle': 'output_0_Model', 'target': '6', 'targetHandle': 'input_1_Model', 'type': 'custom', 'data': {'sourceColor': '#805AD5', 'targetColor': '#805AD5', 'target': '6_input_1_Model', 'source': '8_output_0_Model'}, 'id': 'reactflow__edge-8output_0_Model-6input_1_Model'}, {'source': '7', 'sourceHandle': 'output_0_Testing Dataset', 'target': '998', 'targetHandle': 'input_0_Testing Dataset', 'type': 'custom', 'data': {'sourceColor': '#805AD5', 'targetColor': 'green.400', 'target': '998_input_0_Testing Dataset', 'source': '7_output_0_Testing Dataset'}, 'id': 'reactflow__edge-7output_0_Testing Dataset-998input_0_Testing Dataset'}, {'source': '6', 'sourceHandle': 'output_0_Trained Model', 'target': '998', 'targetHandle': 'input_1_Trained Model', 'type': 'custom', 'data': {'sourceColor': '#805AD5', 'targetColor': 'green.400', 'target': '998_input_1_Trained Model', 'source': '6_output_0_Trained Model'}, 'id': 'reactflow__edge-6output_0_Trained Model-998input_1_Trained Model'}]}, 'cid': None, 'createdAt': '2023-01-29T11:58:34.803Z', 'updatedAt': '2023-01-29T12:06:13.515Z', 'project': {'id': 'c058d237-df24-457c-a160-995f01a21242', 'title': 'test', 'description': 'test', 'createdAt': '2022-12-30T16:03:10.122Z', 'updatedAt': '2022-12-30T16:03:10.122Z', 'targetColumn': 'Survived', 'taskType': 'classification', 'usedAutoML': False, 'primaryDataset': {'id': '958516da-7a6a-409c-9493-7bc038c63223', 'title': 'titanic.csv', 'createdAt': '2022-12-30T16:02:40.417Z', 'updatedAt': '2022-12-30T16:02:40.417Z', 'filePath': 'QmRspeqXi9J2PVTmXYwMaBif9dYWVkNhM8EFomUAfajnT1', 'size': '29474', 'metadata': {'rows': 418, 'columns': [{'name': 'PassengerId', 'type': 'numeric'}, {'name': 'Survived', 'type': 'numeric'}, {'name': 'Pclass', 'type': 'numeric'}, {'name': 'Name', 'type': 'text'}, {'name': 'Sex', 'type': 'categorical'}, {'name': 'Age', 'type': 'numeric'}, {'name': 'SibSp', 'type': 'numeric'}, {'name': 'Parch', 'type': 'numeric'}, {'name': 'Ticket', 'type': 'text'}, {'name': 'Fare', 'type': 'numeric'}, {'name': 'Cabin', 'type': 'text'}, {'name': 'Embarked', 'type': 'categorical'}]}}, 'workspace': {'id': '263c9e4a-0083-43da-91ae-2059267c20ba', 'title': 'Test', 'description': '', 'color': 'yellow.600', 'createdAt': '2022-12-30T16:02:44.795Z', 'updatedAt': '2022-12-30T16:02:44.795Z'}}}\n"
     ]
    },
    {
     "ename": "KeyError",
     "evalue": "'url'",
     "output_type": "error",
     "traceback": [
      "\u001b[0;31m---------------------------------------------------------------------------\u001b[0m",
      "\u001b[0;31mKeyError\u001b[0m                                  Traceback (most recent call last)",
      "\u001b[0;32m/tmp/ipykernel_15102/3719158847.py\u001b[0m in \u001b[0;36m<cell line: 2>\u001b[0;34m()\u001b[0m\n\u001b[1;32m      1\u001b[0m \u001b[0;32mfrom\u001b[0m \u001b[0mhuble\u001b[0m\u001b[0;34m.\u001b[0m\u001b[0mmain\u001b[0m \u001b[0;32mimport\u001b[0m \u001b[0mrun_experiment\u001b[0m\u001b[0;34m\u001b[0m\u001b[0;34m\u001b[0m\u001b[0m\n\u001b[0;32m----> 2\u001b[0;31m \u001b[0mrun_experiment\u001b[0m\u001b[0;34m(\u001b[0m\u001b[0;34m'b9c36c0e-5a1c-4ce2-86cd-f146dd2a5e58'\u001b[0m\u001b[0;34m)\u001b[0m\u001b[0;34m\u001b[0m\u001b[0;34m\u001b[0m\u001b[0m\n\u001b[0m",
      "\u001b[0;32m~/Projects/huble/src/huble/main.py\u001b[0m in \u001b[0;36mrun_experiment\u001b[0;34m(experiment_id, auth_key)\u001b[0m\n\u001b[1;32m     21\u001b[0m   \u001b[0mtarget_column\u001b[0m \u001b[0;34m=\u001b[0m \u001b[0mproject\u001b[0m\u001b[0;34m[\u001b[0m\u001b[0;34m'targetColumn'\u001b[0m\u001b[0;34m]\u001b[0m\u001b[0;34m\u001b[0m\u001b[0;34m\u001b[0m\u001b[0m\n\u001b[1;32m     22\u001b[0m   \u001b[0mtask_type\u001b[0m \u001b[0;34m=\u001b[0m \u001b[0mproject\u001b[0m\u001b[0;34m[\u001b[0m\u001b[0;34m'taskType'\u001b[0m\u001b[0;34m]\u001b[0m\u001b[0;34m\u001b[0m\u001b[0;34m\u001b[0m\u001b[0m\n\u001b[0;32m---> 23\u001b[0;31m   \u001b[0mgenerate_file\u001b[0m\u001b[0;34m(\u001b[0m\u001b[0mpipeline\u001b[0m\u001b[0;34m,\u001b[0m\u001b[0mtask_type\u001b[0m\u001b[0;34m=\u001b[0m\u001b[0mtask_type\u001b[0m\u001b[0;34m,\u001b[0m\u001b[0mtarget_column\u001b[0m\u001b[0;34m=\u001b[0m\u001b[0mtarget_column\u001b[0m\u001b[0;34m)\u001b[0m\u001b[0;34m\u001b[0m\u001b[0;34m\u001b[0m\u001b[0m\n\u001b[0m",
      "\u001b[0;32m~/Projects/huble/src/huble/sklearn/generate.py\u001b[0m in \u001b[0;36mgenerate_file\u001b[0;34m(graph, target_column, task_type, colab)\u001b[0m\n\u001b[1;32m     72\u001b[0m                         \u001b[0mf\u001b[0m\u001b[0;34m.\u001b[0m\u001b[0mwrite\u001b[0m\u001b[0;34m(\u001b[0m\u001b[0;34m\"\\n\"\u001b[0m\u001b[0;34m)\u001b[0m\u001b[0;34m\u001b[0m\u001b[0;34m\u001b[0m\u001b[0m\n\u001b[1;32m     73\u001b[0m                     \u001b[0;32melif\u001b[0m \u001b[0msteps_list\u001b[0m\u001b[0;34m[\u001b[0m\u001b[0mi\u001b[0m\u001b[0;34m]\u001b[0m \u001b[0;34m==\u001b[0m \u001b[0;34m'primary_dataset'\u001b[0m\u001b[0;34m:\u001b[0m\u001b[0;34m\u001b[0m\u001b[0;34m\u001b[0m\u001b[0m\n\u001b[0;32m---> 74\u001b[0;31m                         \u001b[0mf\u001b[0m\u001b[0;34m.\u001b[0m\u001b[0mwrite\u001b[0m\u001b[0;34m(\u001b[0m\u001b[0;34mf\"data=huble.util.load_dataset('{node['data']['url']}')\"\u001b[0m\u001b[0;34m)\u001b[0m\u001b[0;34m\u001b[0m\u001b[0;34m\u001b[0m\u001b[0m\n\u001b[0m\u001b[1;32m     75\u001b[0m                         \u001b[0mf\u001b[0m\u001b[0;34m.\u001b[0m\u001b[0mwrite\u001b[0m\u001b[0;34m(\u001b[0m\u001b[0;34m\"\\n\"\u001b[0m\u001b[0;34m)\u001b[0m\u001b[0;34m\u001b[0m\u001b[0;34m\u001b[0m\u001b[0m\n\u001b[1;32m     76\u001b[0m \u001b[0;34m\u001b[0m\u001b[0m\n",
      "\u001b[0;31mKeyError\u001b[0m: 'url'"
     ]
    }
   ],
   "source": [
    "from huble.main import run_experiment\n",
    "run_experiment('b9c36c0e-5a1c-4ce2-86cd-f146dd2a5e58')"
   ]
  },
  {
   "cell_type": "code",
   "execution_count": null,
   "metadata": {},
   "outputs": [],
   "source": []
  },
  {
   "cell_type": "code",
   "execution_count": null,
   "metadata": {},
   "outputs": [],
   "source": []
  }
 ],
 "metadata": {
  "kernelspec": {
   "display_name": "Python 3.8.8 ('huble-jmRcOqbb-py3.8')",
   "language": "python",
   "name": "python3"
  },
  "language_info": {
   "codemirror_mode": {
    "name": "ipython",
    "version": 3
   },
   "file_extension": ".py",
   "mimetype": "text/x-python",
   "name": "python",
   "nbconvert_exporter": "python",
   "pygments_lexer": "ipython3",
   "version": "3.8.8"
  },
  "orig_nbformat": 4,
  "vscode": {
   "interpreter": {
    "hash": "2bd4402ae2af66a9b9715c78fa165f8547e33a1d62e8b49e18e8b2170d5f09d4"
   }
  }
 },
 "nbformat": 4,
 "nbformat_minor": 2
}
