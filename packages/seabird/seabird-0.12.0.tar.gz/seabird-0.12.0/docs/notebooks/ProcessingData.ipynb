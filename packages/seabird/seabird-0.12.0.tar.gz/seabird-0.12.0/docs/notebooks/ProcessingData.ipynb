{
 "cells": [
  {
   "cell_type": "markdown",
   "metadata": {},
   "source": [
    "# Reading CTD data with PySeabird"
   ]
  },
  {
   "cell_type": "markdown",
   "metadata": {},
   "source": [
    "## Author: Guilherme Castelão"
   ]
  },
  {
   "cell_type": "markdown",
   "metadata": {},
   "source": [
    "pySeabird is a package to parse/load CTD data files. It should be an easy task but the problem is that the format have been changing along the time. Work with multiple ships/cruises data requires first to understand each file, to normalize it into a common format for only than start your analysis. That can still be done with few general regular expression rules, but I would rather use strict rules. If I'm loading hundreds or thousands of profiles, I want to be sure that no mistake passed by. I rather ignore a file in doubt and warn it, than belive that it was loaded right and be part of my analysis.\n",
    "\n",
    "With that in mind, I wrote this package with the ability to load multiple rules, so new rules can be added without change the main engine.\n",
    "\n",
    "For more information, check the documentatio"
   ]
  },
  {
   "cell_type": "code",
   "execution_count": 1,
   "metadata": {
    "collapsed": false
   },
   "outputs": [],
   "source": [
    "%matplotlib inline\n",
    "\n",
    "from seabird.cnv import fCNV\n",
    "from gsw import z_from_p"
   ]
  },
  {
   "cell_type": "markdown",
   "metadata": {},
   "source": [
    "Let's first download an example file with some CTD data"
   ]
  },
  {
   "cell_type": "code",
   "execution_count": 2,
   "metadata": {
    "collapsed": false
   },
   "outputs": [
    {
     "name": "stdout",
     "output_type": "stream",
     "text": [
      "--2016-09-04 21:50:24--  https://raw.githubusercontent.com/castelao/seabird/master/tests/data/CTD/dPIRX003.cnv\n",
      "Resolving raw.githubusercontent.com... 151.101.24.133\n",
      "Connecting to raw.githubusercontent.com|151.101.24.133|:443... connected.\n",
      "HTTP request sent, awaiting response... 200 OK\n",
      "Length: 47291 (46K) [text/plain]\n",
      "Saving to: ‘dPIRX003.cnv’\n",
      "\n",
      "dPIRX003.cnv        100%[===================>]  46.18K  --.-KB/s    in 0.05s   \n",
      "\n",
      "2016-09-04 21:50:25 (849 KB/s) - ‘dPIRX003.cnv’ saved [47291/47291]\n",
      "\n"
     ]
    }
   ],
   "source": [
    "!wget https://raw.githubusercontent.com/castelao/seabird/master/sampledata/CTD/dPIRX003.cnv"
   ]
  },
  {
   "cell_type": "code",
   "execution_count": 3,
   "metadata": {
    "collapsed": false
   },
   "outputs": [
    {
     "name": "stderr",
     "output_type": "stream",
     "text": [
      "DEBUG:root:Openning file: dPIRX003.cnv\n"
     ]
    }
   ],
   "source": [
    "profile = fCNV('dPIRX003.cnv')"
   ]
  },
  {
   "cell_type": "markdown",
   "metadata": {},
   "source": [
    "The profile dPIRX003.cnv.OK was loaded with the default rule cnv.yaml"
   ]
  },
  {
   "cell_type": "code",
   "execution_count": 4,
   "metadata": {
    "collapsed": false
   },
   "outputs": [
    {
     "name": "stdout",
     "output_type": "stream",
     "text": [
      "Header: ['instrument_type', u'sbe_model', u'file_type', u'seasave', u'start_time', u'nquan', 'LONGITUDE', 'datetime', u'bad_flag', u'nvalues', 'LATITUDE', 'filename', 'md5']\n",
      "Data: [u'timeS', u'PRES', u'TEMP', u'TEMP2', u'CNDC', u'CNDC2', u'potemperature', u'potemperature2', u'PSAL', u'PSAL2', 'flag']\n"
     ]
    }
   ],
   "source": [
    "print(\"Header: %s\" % profile.attributes.keys())\n",
    "print(\"Data: %s\" % profile.keys())"
   ]
  },
  {
   "cell_type": "markdown",
   "metadata": {},
   "source": [
    "We have latitude in the header, and pressure in the data."
   ]
  },
  {
   "cell_type": "code",
   "execution_count": 5,
   "metadata": {
    "collapsed": false
   },
   "outputs": [],
   "source": [
    "z = z_from_p(profile['PRES'], profile.attributes['LATITUDE'])"
   ]
  },
  {
   "cell_type": "code",
   "execution_count": 6,
   "metadata": {
    "collapsed": false
   },
   "outputs": [
    {
     "data": {
      "text/plain": [
       "<matplotlib.text.Text at 0x10c40bf90>"
      ]
     },
     "execution_count": 6,
     "metadata": {},
     "output_type": "execute_result"
    },
    {
     "data": {
      "image/png": "[encoded data removed]",
      "text/plain": [
       "<matplotlib.figure.Figure at 0x10bedb850>"
      ]
     },
     "metadata": {},
     "output_type": "display_data"
    }
   ],
   "source": [
    "from matplotlib import pyplot as plt\n",
    "\n",
    "plt.plot(profile['TEMP'], z,'b')\n",
    "plt.plot(profile['TEMP2'], z,'g')\n",
    "plt.xlabel('temperature')\n",
    "plt.ylabel('depth')\n",
    "plt.title(profile.attributes['filename'])"
   ]
  },
  {
   "cell_type": "code",
   "execution_count": null,
   "metadata": {
    "collapsed": true
   },
   "outputs": [],
   "source": []
  }
 ],
 "metadata": {
  "kernelspec": {
   "display_name": "Python 3",
   "language": "python",
   "name": "python3"
  },
  "language_info": {
   "codemirror_mode": {
    "name": "ipython",
    "version": 3
   },
   "file_extension": ".py",
   "mimetype": "text/x-python",
   "name": "python",
   "nbconvert_exporter": "python",
   "pygments_lexer": "ipython3",
   "version": "3.6.6"
  }
 },
 "nbformat": 4,
 "nbformat_minor": 2
}
