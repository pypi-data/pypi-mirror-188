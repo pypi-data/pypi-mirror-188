{
 "cells": [
  {
   "cell_type": "markdown",
   "id": "6f88ba99",
   "metadata": {},
   "source": [
    "# Deploying a model with live microphone input\n",
    "\n",
    "In this example we will walk through loading a model exported from NengoEdge,\n",
    "and deploying that model in a simple application that detects\n",
    "keywords from live microphone input.\n",
    "\n",
    "In order to run this example, the first step is to train a model in NengoEdge.\n",
    "See [this blog post](TODO) for a detailed walkthrough on how to train such a model.\n",
    "You can use whatever dataset you like, but make sure to match the parameters below\n",
    "to your training data."
   ]
  },
  {
   "cell_type": "code",
   "execution_count": null,
   "id": "f610235f",
   "metadata": {},
   "outputs": [],
   "source": [
    "import numpy as np\n",
    "import sounddevice as sd\n",
    "\n",
    "# Keyword labels for model outputs\n",
    "labels = [\n",
    "    \"<silence>\",\n",
    "    \"<unknown>\",\n",
    "    \"yes\",\n",
    "    \"no\",\n",
    "    \"up\",\n",
    "    \"down\",\n",
    "    \"left\",\n",
    "    \"right\",\n",
    "    \"on\",\n",
    "    \"off\",\n",
    "    \"stop\",\n",
    "    \"go\",\n",
    "]\n",
    "\n",
    "# Sample rate of audio files in the dataset\n",
    "sample_rate = 16000"
   ]
  },
  {
   "cell_type": "markdown",
   "id": "f0cb2499",
   "metadata": {},
   "source": [
    "After training completes successfully, go to the \"Deployment\" tab for that run, and\n",
    "select the \"SavedModel\" or \"TFLite\" download option (the available export formats will\n",
    "depend on which hardware device you selected for the run in NengoEdge). Extract the\n",
    "downloaded archive, which contains\n",
    "the data files for the model in the selected format. Set the path below to the directory\n",
    "containing the extracted files.\n",
    "\n",
    "In the example below we are running a model in SavedModel format, but if you downloaded\n",
    "a model in TFLite format then simply switch the import below to `tflite_runner`."
   ]
  },
  {
   "cell_type": "code",
   "execution_count": null,
   "id": "879ba6a2",
   "metadata": {},
   "outputs": [],
   "source": [
    "from nengo_edge.saved_model_runner import Runner\n",
    "\n",
    "# from nengo_edge.tflite_runner import Runner\n",
    "\n",
    "runner = Runner(\".\")"
   ]
  },
  {
   "cell_type": "markdown",
   "id": "3b77fde9",
   "metadata": {},
   "source": [
    "Next we need to select the microphone input device:"
   ]
  },
  {
   "cell_type": "code",
   "execution_count": null,
   "id": "10a42836",
   "metadata": {},
   "outputs": [],
   "source": [
    "print(f\"Available devices:\\n{sd.query_devices()}\")\n",
    "mic_device_ix = int(input(\"Index of input device to listen to: \"))"
   ]
  },
  {
   "cell_type": "markdown",
   "id": "f131ede6",
   "metadata": {},
   "source": [
    "And finally we can run the model using that device. As you speak into your microphone,\n",
    "it will print out the keywords detected by the model.\n",
    "\n",
    "Note that the particular input method below is not a requirement. The important part is\n",
    "that we call `runner.run` in a loop, feeding it the new audio samples each time. This\n",
    "can be adapted to whatever approach makes the most sense for your application."
   ]
  },
  {
   "cell_type": "code",
   "execution_count": null,
   "id": "19a21676",
   "metadata": {},
   "outputs": [],
   "source": [
    "inference_rate = 0.2  # How often to do a classification, in seconds\n",
    "block_size = int(sample_rate * inference_rate)\n",
    "\n",
    "\n",
    "def callback(data, frames, time, status):\n",
    "    # Call model periodically as new data comes in (taking advantage of internal\n",
    "    # state for streaming)\n",
    "    outputs = runner.run(data.T)\n",
    "    label = labels[np.argmax(outputs)]\n",
    "    if label != \"<silence>\":\n",
    "        print(label)\n",
    "\n",
    "\n",
    "try:\n",
    "    with sd.InputStream(\n",
    "        device=mic_device_ix,\n",
    "        samplerate=sample_rate,\n",
    "        blocksize=block_size,\n",
    "        latency=\"low\",\n",
    "        channels=1,\n",
    "        dtype=np.float32,\n",
    "        callback=callback,\n",
    "    ):\n",
    "        print(\"Press Enter to quit\")\n",
    "        input()\n",
    "    print(\"Exiting\")\n",
    "except KeyboardInterrupt:\n",
    "    print(\"Exiting\")"
   ]
  }
 ],
 "metadata": {
  "language_info": {
   "name": "python",
   "pygments_lexer": "ipython3"
  }
 },
 "nbformat": 4,
 "nbformat_minor": 5
}
