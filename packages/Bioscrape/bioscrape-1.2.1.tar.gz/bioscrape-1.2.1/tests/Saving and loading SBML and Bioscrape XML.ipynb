{
 "cells": [
  {
   "cell_type": "markdown",
   "metadata": {},
   "source": [
    "First, generate a random model"
   ]
  },
  {
   "cell_type": "code",
   "execution_count": 12,
   "metadata": {},
   "outputs": [
    {
     "name": "stdout",
     "output_type": "stream",
     "text": [
      "Bioscrape model #rxns= 1 \n",
      "rxns= [(['E', 'C'], [], 'hillnegative', {'k': 2.385, 'K': 0.951, 'n': 0.953, 's1': 'B'})]\n"
     ]
    }
   ],
   "source": [
    "import numpy as np\n",
    "import pylab as plt\n",
    "from bioscrape.simulator import *\n",
    "from bioscrape.types import *\n",
    "import warnings\n",
    "\n",
    "\n",
    "#Parameter ranges to randomly choose parameters (on a log scale)\n",
    "param_min = -2\n",
    "param_max = 2\n",
    "\n",
    "#Names of different supported propensities\n",
    "propensity_types = ['massaction', 'hillpositive', 'proportionalhillpositive', 'hillnegative', 'proportionalhillnegative', 'massaction']#, 'general']\n",
    "\n",
    "#parameter names required for each propensity (general will be treated by itself)\n",
    "propensity_param_requirements = {\n",
    "\t'massaction':['k'], 'hillpositive':['k', 'K', 'n'], 'hillnegative':['k', 'K', 'n'],\n",
    "\t'proportionalhillpositive':[\"k\", \"K\", \"n\"], 'proportionalhillnegative':[\"k\", \"K\", \"n\"]\n",
    "}\n",
    "#species (passed in as parameters) requires for each propensity (general will be treated by itself)\n",
    "propensity_specie_requirements = {\n",
    "\t'hillpositive':['s1'], 'hillnegative':['s1'], 'proportionalhillpositive':['s1', 'd'], 'proportionalhillnegative':['s1', 'd'], \"massaction\":[]\n",
    "}\n",
    "\n",
    "\n",
    "species = ['A', 'B', 'C', 'D', 'E', 'F', 'G']\n",
    "n_species = len(species)\n",
    "n_reactions = np.random.randint(1, 3)\n",
    "\n",
    "reactions = []\n",
    "for r in range(n_reactions):\n",
    "\n",
    "    try_again = True\n",
    "    while try_again:#Loop ensures no positive feedback which leads to long simulations\n",
    "        inputs = []\n",
    "        outputs = []\n",
    "        while(len(inputs) == 0 and len(outputs) == 0):\n",
    "\n",
    "            n_inputs = np.random.randint(0, 5)\n",
    "            for i in range(n_inputs):\n",
    "                inputs.append(species[np.random.randint(0, len(species))])\n",
    "\n",
    "            n_outputs = np.random.randint(0, 5)\n",
    "            for i in range(n_outputs):\n",
    "                outputs.append(species[np.random.randint(0, len(species))])\n",
    "\n",
    "        inputs_in_outputs = len([i for i in inputs if i in outputs])\n",
    "        if inputs_in_outputs >= len(inputs):\n",
    "            try_again = True\n",
    "        else:\n",
    "            try_again = False\n",
    "\n",
    "    prop_type = propensity_types[np.random.randint(0, len(propensity_types))]\n",
    "    param_dict = {}\n",
    "    if prop_type != 'general':\n",
    "        required_params = propensity_param_requirements[prop_type]\n",
    "        required_species = propensity_specie_requirements[prop_type]\n",
    "        param_dict = {}\n",
    "        for p in required_params:\n",
    "            param_dict[p] = round(np.exp(np.random.uniform(low = param_min, high = param_max)), 3)\n",
    "        for i in range(len(required_species)):\n",
    "            k = required_species[i]\n",
    "            param_dict[k] = species[np.random.randint(0, len(species))]\n",
    "\n",
    "    elif prop_type == 'general': #Here we will use a random(ish) rational function\n",
    "        rate_str = \"(1+\"\n",
    "        numerator_terms = np.random.randint(0, 5)\n",
    "        denominator_terms = np.random.randint(0, 5)\n",
    "        for i in range(numerator_terms):\n",
    "            coef = str(round(np.exp(np.random.uniform(low = param_min, high = param_max)), 3))\n",
    "            exp = str(round(np.random.uniform(low = 0, high = param_max), 3))\n",
    "            specie = species[np.random.randint(0, len(species))]\n",
    "            rate_str += coef+\"*\"+specie+\"^\"+exp+\"+\"\n",
    "        rate_str =  rate_str[:-1] + \")\"\n",
    "        rate_str += \"/(1+\"\n",
    "        for i in range(denominator_terms):\n",
    "            coef =str(round(np.exp(np.random.uniform(low = param_min, high = param_max)), 3))\n",
    "            exp = str(round(np.random.uniform(low = 0, high = param_max), 3))\n",
    "            specie = species[np.random.randint(0, len(species))]\n",
    "            rate_str += coef+\"*\"+specie+\"^\"+exp+\"+\"\n",
    "        rate_str =  rate_str[:-1] + \")\"\n",
    "        param_dict['rate'] = rate_str\n",
    "\n",
    "    rxn = (inputs, outputs, prop_type, param_dict)\n",
    "    reactions.append(rxn)\n",
    "\n",
    "\n",
    "print(\"Bioscrape model #rxns=\", len(reactions), \"\\nrxns=\", reactions)\n",
    "M = Model(species = species, reactions = reactions, initial_condition_dict = {s:np.random.randint(10, 100) for s in species})\n",
    "M.write_sbml_model('random_model_sbml.xml')\n",
    "M3 = Model(sbml_filename = 'random_model_sbml.xml')\n"
   ]
  },
  {
   "cell_type": "code",
   "execution_count": null,
   "metadata": {},
   "outputs": [],
   "source": [
    "timepoints = np.arange(0, 1., .02)\n",
    "results_1 = py_simulate_model(timepoints, Model = M, stochastic = False, safe = False)\n",
    "print(\"first simulation successful\")\n",
    "\n",
    "results_2 = py_simulate_model(timepoints, Model = M2, stochastic = False, safe = False)\n",
    "print(\"second simulation successful\")\n",
    "\n",
    "results_3 = py_simulate_model(timepoints, Model = M2, stochastic = False, safe = False)\n",
    "print(\"third simulation successful\")\n",
    "\n",
    "plt.figure(figsize = (16, 6))\n",
    "for s in species:\n",
    "    plt.plot(timepoints, results_1[s], \"-\", label = \"Model 1: \"+s)\n",
    "    plt.plot(timepoints, results_2[s], \"o\", label = \"Model 2: \"+s)\n",
    "    plt.plot(timepoints, results_3[s], 'x', ms = 10, label = \"Model 3: \"+s)\n",
    "plt.legend()\n",
    "plt.show()\n",
    "    "
   ]
  },
  {
   "cell_type": "markdown",
   "metadata": {},
   "source": [
    "### Load an advanced SBML model (with local parameters, assignment and rate rules, and function definitions?)\n",
    "Note that this is a model generated by MATLAB Simbiology and hence has weird species and parameter identifiers."
   ]
  },
  {
   "cell_type": "code",
   "execution_count": 5,
   "metadata": {},
   "outputs": [],
   "source": [
    "from bioscrape.types import *\n",
    "from bioscrape.sbmlutil import import_sbml"
   ]
  },
  {
   "cell_type": "code",
   "execution_count": 6,
   "metadata": {},
   "outputs": [
    {
     "name": "stderr",
     "output_type": "stream",
     "text": [
      "C:\\Users\\apand\\Anaconda3\\lib\\site-packages\\bioscrape\\sbmlutil.py:90: UserWarning: SBML model contains reversible reaction!\n",
      "Please check rate expressions and ensure they are non-negative before doing stochastic simulations.\n",
      "  'Please check rate expressions and ensure they are non-negative before doing '+\n"
     ]
    }
   ],
   "source": [
    "M = import_sbml('models/GFP.xml')"
   ]
  },
  {
   "cell_type": "code",
   "execution_count": 7,
   "metadata": {},
   "outputs": [
    {
     "name": "stderr",
     "output_type": "stream",
     "text": [
      "C:\\Users\\apand\\Anaconda3\\lib\\site-packages\\scipy\\integrate\\odepack.py:247: ODEintWarning: Excess work done on this call (perhaps wrong Dfun type). Run with full_output = 1 to get quantitative information.\n",
      "  warnings.warn(warning_msg, ODEintWarning)\n",
      "odeint failed with mxstep=500..."
     ]
    }
   ],
   "source": [
    "from bioscrape.simulator import py_simulate_model\n",
    "timepoints = np.linspace(0,10000,100)\n",
    "\n",
    "results = py_simulate_model(timepoints, Model = M)"
   ]
  },
  {
   "cell_type": "code",
   "execution_count": 8,
   "metadata": {},
   "outputs": [
    {
     "data": {
      "text/plain": [
       "[<matplotlib.lines.Line2D at 0x1f6dd52d8c8>]"
      ]
     },
     "execution_count": 8,
     "metadata": {},
     "output_type": "execute_result"
    },
    {
     "data": {
      "image/png": "[encoded data removed]",
      "text/plain": [
       "<Figure size 432x288 with 1 Axes>"
      ]
     },
     "metadata": {
      "needs_background": "light"
     },
     "output_type": "display_data"
    }
   ],
   "source": [
    "%matplotlib inline \n",
    "import matplotlib.pyplot as plt\n",
    "plt.plot(timepoints, results[\"mw6600ba7f_5b6d_4e5d_89a2_4d798f44476d\"])"
   ]
  },
  {
   "cell_type": "code",
   "execution_count": 8,
   "metadata": {},
   "outputs": [],
   "source": []
  },
  {
   "cell_type": "code",
   "execution_count": null,
   "metadata": {},
   "outputs": [],
   "source": []
  }
 ],
 "metadata": {
  "kernelspec": {
   "display_name": "Python 3",
   "language": "python",
   "name": "python3"
  }
 },
 "nbformat": 4,
 "nbformat_minor": 2
}
