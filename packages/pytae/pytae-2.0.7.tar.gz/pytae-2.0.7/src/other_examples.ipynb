{
 "cells": [
  {
   "cell_type": "code",
   "execution_count": null,
   "id": "ca39d441-5dd5-41ef-8ada-df36867a21da",
   "metadata": {},
   "outputs": [],
   "source": [
    "import pytae as pt\n",
    "import pandas as pd"
   ]
  },
  {
   "cell_type": "code",
   "execution_count": null,
   "id": "0ed4c004-6870-462f-8686-46bd44f9b92a",
   "metadata": {},
   "outputs": [
    {
     "data": {
      "text/plain": [
       "'select a, b, c, sum(x) as x, sum(y) as y, sum(z) as z from data.tbl group by a, b, c;'"
      ]
     },
     "execution_count": null,
     "metadata": {},
     "output_type": "execute_result"
    }
   ],
   "source": [
    "nums=['x','y','z']\n",
    "non_nums=['a','b','c']\n",
    "pt.create_qry('data','tbl',nums,non_nums)\n"
   ]
  },
  {
   "cell_type": "code",
   "execution_count": null,
   "id": "2bd7acbe-f660-496b-80c8-600179c0b417",
   "metadata": {},
   "outputs": [
    {
     "data": {
      "text/plain": [
       "'select a, b, c, sum(x) as x1, sum(y) as y1, sum(z) as z1 from data.tbl group by a, b, c;'"
      ]
     },
     "execution_count": null,
     "metadata": {},
     "output_type": "execute_result"
    }
   ],
   "source": [
    "nums={'x':['sum','x1'],'y':['sum','y1'],'z':['sum','z1']}\n",
    "non_nums=['a','b','c']\n",
    "\n",
    "pt.create_qry('data','tbl',nums,non_nums)"
   ]
  },
  {
   "cell_type": "code",
   "execution_count": null,
   "id": "ed4479f5-a2ac-49a7-b23b-4cde3cb782e8",
   "metadata": {},
   "outputs": [
    {
     "data": {
      "text/plain": [
       "'select a, b, c, sum(x) as x1, sum(y) as y1, sum(z) as z1 from data.tbl where c=18 group by a, b, c;'"
      ]
     },
     "execution_count": null,
     "metadata": {},
     "output_type": "execute_result"
    }
   ],
   "source": [
    "pt.create_qry('data','tbl',nums,non_nums,'where c=18')"
   ]
  },
  {
   "cell_type": "code",
   "execution_count": null,
   "id": "daaddf1b-bb3d-4b0f-9548-543e7208c7ed",
   "metadata": {},
   "outputs": [
    {
     "data": {
      "text/html": [
       "<div>\n",
       "<style scoped>\n",
       "    .dataframe tbody tr th:only-of-type {\n",
       "        vertical-align: middle;\n",
       "    }\n",
       "\n",
       "    .dataframe tbody tr th {\n",
       "        vertical-align: top;\n",
       "    }\n",
       "\n",
       "    .dataframe thead th {\n",
       "        text-align: right;\n",
       "    }\n",
       "</style>\n",
       "<table border=\"1\" class=\"dataframe\">\n",
       "  <thead>\n",
       "    <tr style=\"text-align: right;\">\n",
       "      <th></th>\n",
       "      <th>id</th>\n",
       "      <th>balance</th>\n",
       "      <th>country</th>\n",
       "    </tr>\n",
       "  </thead>\n",
       "  <tbody>\n",
       "    <tr>\n",
       "      <th>0</th>\n",
       "      <td>a</td>\n",
       "      <td>10</td>\n",
       "      <td>sg</td>\n",
       "    </tr>\n",
       "    <tr>\n",
       "      <th>1</th>\n",
       "      <td>b</td>\n",
       "      <td>20</td>\n",
       "      <td>cn</td>\n",
       "    </tr>\n",
       "    <tr>\n",
       "      <th>2</th>\n",
       "      <td>c</td>\n",
       "      <td>0</td>\n",
       "      <td>ca</td>\n",
       "    </tr>\n",
       "    <tr>\n",
       "      <th>3</th>\n",
       "      <td>d</td>\n",
       "      <td>21</td>\n",
       "      <td>np</td>\n",
       "    </tr>\n",
       "    <tr>\n",
       "      <th>4</th>\n",
       "      <td>e</td>\n",
       "      <td>15</td>\n",
       "      <td>in</td>\n",
       "    </tr>\n",
       "    <tr>\n",
       "      <th>5</th>\n",
       "      <td></td>\n",
       "      <td>10</td>\n",
       "      <td>in</td>\n",
       "    </tr>\n",
       "    <tr>\n",
       "      <th>6</th>\n",
       "      <td>f</td>\n",
       "      <td>20</td>\n",
       "      <td>np</td>\n",
       "    </tr>\n",
       "    <tr>\n",
       "      <th>7</th>\n",
       "      <td>f</td>\n",
       "      <td>25</td>\n",
       "      <td>in</td>\n",
       "    </tr>\n",
       "  </tbody>\n",
       "</table>\n",
       "</div>"
      ],
      "text/plain": [
       "  id  balance country\n",
       "0  a       10      sg\n",
       "1  b       20      cn\n",
       "2  c        0      ca\n",
       "3  d       21      np\n",
       "4  e       15      in\n",
       "5          10      in\n",
       "6  f       20      np\n",
       "7  f       25      in"
      ]
     },
     "execution_count": null,
     "metadata": {},
     "output_type": "execute_result"
    }
   ],
   "source": [
    "\n",
    "df=pd.DataFrame({'id':['a','b','c','d','e','','f','f'],\n",
    "                  'balance':[10,20,0,21,15,10,20,25],\n",
    "                  'country':['sg','cn','ca','np','in','in','np','in']})\n",
    "\n",
    "df\n"
   ]
  },
  {
   "cell_type": "code",
   "execution_count": null,
   "id": "e6515b39-8c70-4883-a71f-84816d6f56a4",
   "metadata": {},
   "outputs": [
    {
     "data": {
      "text/html": [
       "<div>\n",
       "<style scoped>\n",
       "    .dataframe tbody tr th:only-of-type {\n",
       "        vertical-align: middle;\n",
       "    }\n",
       "\n",
       "    .dataframe tbody tr th {\n",
       "        vertical-align: top;\n",
       "    }\n",
       "\n",
       "    .dataframe thead th {\n",
       "        text-align: right;\n",
       "    }\n",
       "</style>\n",
       "<table border=\"1\" class=\"dataframe\">\n",
       "  <thead>\n",
       "    <tr style=\"text-align: right;\">\n",
       "      <th></th>\n",
       "      <th>id</th>\n",
       "      <th>balance</th>\n",
       "    </tr>\n",
       "  </thead>\n",
       "  <tbody>\n",
       "    <tr>\n",
       "      <th>0</th>\n",
       "      <td></td>\n",
       "      <td>10</td>\n",
       "    </tr>\n",
       "    <tr>\n",
       "      <th>1</th>\n",
       "      <td>a</td>\n",
       "      <td>10</td>\n",
       "    </tr>\n",
       "    <tr>\n",
       "      <th>2</th>\n",
       "      <td>b</td>\n",
       "      <td>20</td>\n",
       "    </tr>\n",
       "    <tr>\n",
       "      <th>3</th>\n",
       "      <td>c</td>\n",
       "      <td>0</td>\n",
       "    </tr>\n",
       "    <tr>\n",
       "      <th>4</th>\n",
       "      <td>d</td>\n",
       "      <td>21</td>\n",
       "    </tr>\n",
       "    <tr>\n",
       "      <th>5</th>\n",
       "      <td>e</td>\n",
       "      <td>15</td>\n",
       "    </tr>\n",
       "    <tr>\n",
       "      <th>6</th>\n",
       "      <td>f</td>\n",
       "      <td>45</td>\n",
       "    </tr>\n",
       "  </tbody>\n",
       "</table>\n",
       "</div>"
      ],
      "text/plain": [
       "  id  balance\n",
       "0          10\n",
       "1  a       10\n",
       "2  b       20\n",
       "3  c        0\n",
       "4  d       21\n",
       "5  e       15\n",
       "6  f       45"
      ]
     },
     "execution_count": null,
     "metadata": {},
     "output_type": "execute_result"
    }
   ],
   "source": [
    "df[['id','balance']].agg_df()"
   ]
  },
  {
   "cell_type": "code",
   "execution_count": null,
   "id": "e29523e5-e882-4b48-8257-12250db36800",
   "metadata": {},
   "outputs": [],
   "source": []
  }
 ],
 "metadata": {
  "kernelspec": {
   "display_name": "py_env",
   "language": "python",
   "name": "py_env"
  }
 },
 "nbformat": 4,
 "nbformat_minor": 5
}
