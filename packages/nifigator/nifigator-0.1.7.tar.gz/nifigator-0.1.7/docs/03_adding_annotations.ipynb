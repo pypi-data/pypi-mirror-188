{
 "cells": [
  {
   "cell_type": "markdown",
   "id": "672e317a",
   "metadata": {},
   "source": [
    "# Adding entity occurrence"
   ]
  },
  {
   "cell_type": "code",
   "execution_count": null,
   "id": "c2d79833",
   "metadata": {},
   "outputs": [],
   "source": [
    "# Create a collection with one context\n",
    "from nifigator import NifContext, OffsetBasedString, NifContextCollection\n",
    "context = NifContext(\n",
    "  uri=\"https://mangosaurus.eu/rdf-data/doc_1\",\n",
    "  URIScheme=OffsetBasedString,\n",
    "  isString=\"The cat sat on the mat. Felix was his name.\"\n",
    ")\n",
    "collection = NifContextCollection(uri=\"https://mangosaurus.eu/rdf-data\")\n",
    "collection.add_context(context)"
   ]
  },
  {
   "cell_type": "code",
   "execution_count": null,
   "id": "92c47ccf",
   "metadata": {},
   "outputs": [],
   "source": [
    "# a NifPhrase can be an EntityOccurrence or a TermOccurrence\n",
    "from nifigator import NifPhrase, EntityOccurrence\n",
    "\n",
    "# Create the EntityOccurrence\n",
    "entity = NifPhrase(\n",
    "    uri=\"https://mangosaurus.eu/rdf-data/doc_1\",\n",
    "    URIScheme=OffsetBasedString,\n",
    "    referenceContext=context,\n",
    "    beginIndex=24,\n",
    "    endIndex=29,\n",
    "    taIdentRef=\"https://mangosaurus.eu/rdf-data/entity_1\",\n",
    "    taClassRef=\"https://mangosaurus.eu/rdf-data/class_1\",\n",
    "    taConfidence=1.0,\n",
    "    PhraseType=EntityOccurrence,\n",
    ")\n",
    "# set the phrases as a list with one element\n",
    "context.set_Phrases([entity])"
   ]
  },
  {
   "cell_type": "code",
   "execution_count": null,
   "id": "17d3a28e",
   "metadata": {},
   "outputs": [],
   "source": [
    "# the string representation of the phrases in the context then looks like this\n",
    "print(context.phrases)"
   ]
  },
  {
   "cell_type": "code",
   "execution_count": null,
   "id": "0ac6e3b5",
   "metadata": {
    "scrolled": false
   },
   "outputs": [],
   "source": [
    "from nifigator import NifGraph\n",
    "\n",
    "g = NifGraph(collection=collection)"
   ]
  },
  {
   "cell_type": "code",
   "execution_count": null,
   "id": "9c81c156",
   "metadata": {},
   "outputs": [],
   "source": [
    "g.collection.contexts[0].phrases[0]"
   ]
  },
  {
   "cell_type": "code",
   "execution_count": null,
   "id": "6507f542",
   "metadata": {},
   "outputs": [],
   "source": [
    "from rdflib import Graph\n",
    "g1 = Graph().parse(data=g.serialize(format=\"ttl\"))\n",
    "print(g1.isomorphic(g))"
   ]
  },
  {
   "cell_type": "code",
   "execution_count": null,
   "id": "bcdfc2f8",
   "metadata": {},
   "outputs": [],
   "source": []
  },
  {
   "cell_type": "code",
   "execution_count": null,
   "id": "4b611790",
   "metadata": {},
   "outputs": [],
   "source": []
  }
 ],
 "metadata": {
  "kernelspec": {
   "display_name": "Python 3 (ipykernel)",
   "language": "python",
   "name": "python3"
  },
  "language_info": {
   "codemirror_mode": {
    "name": "ipython",
    "version": 3
   },
   "file_extension": ".py",
   "mimetype": "text/x-python",
   "name": "python",
   "nbconvert_exporter": "python",
   "pygments_lexer": "ipython3",
   "version": "3.9.0"
  }
 },
 "nbformat": 4,
 "nbformat_minor": 5
}
