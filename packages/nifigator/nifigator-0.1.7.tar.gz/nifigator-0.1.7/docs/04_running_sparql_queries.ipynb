{
 "cells": [
  {
   "cell_type": "markdown",
   "id": "c82c6a24",
   "metadata": {},
   "source": [
    "# Running SPARQL queries\n",
    "\n",
    "To analyze the complete Nif data set SPARQL queries are useful.\n",
    "\n",
    "## \n",
    "\n",
    "First we create a collection with one context (created earlier)."
   ]
  },
  {
   "cell_type": "code",
   "execution_count": null,
   "id": "1108ee07",
   "metadata": {},
   "outputs": [],
   "source": [
    "from nifigator import NifGraph\n",
    "\n",
    "g = NifGraph().open(file=\"..//data//nif-5282967702ae37d486ad338b9771ca8f.hext\")"
   ]
  },
  {
   "cell_type": "markdown",
   "id": "6e955fd2",
   "metadata": {},
   "source": [
    "The total number of words per context"
   ]
  },
  {
   "cell_type": "code",
   "execution_count": null,
   "id": "5ab61ec2",
   "metadata": {},
   "outputs": [],
   "source": [
    "# words per context\n",
    "q = \"\"\"\n",
    "SELECT ?c (count(?w) as ?num) WHERE {\n",
    "    ?s rdf:type nif:Word . \n",
    "    ?s nif:anchorOf ?w .\n",
    "    ?s nif:referenceContext ?c .\n",
    "}\n",
    "GROUP BY ?c ORDER BY DESC(?num)\"\"\"\n",
    "results = g.query(q)\n",
    "for result in results:\n",
    "    print((result[0], result[1].value))"
   ]
  },
  {
   "cell_type": "code",
   "execution_count": null,
   "id": "997b7363",
   "metadata": {},
   "outputs": [],
   "source": [
    "# word count\n",
    "q = \"\"\"\n",
    "SELECT ?t (count(?s) as ?num) WHERE {\n",
    "    ?s rdf:type nif:Word . \n",
    "    ?s nif:anchorOf ?t .\n",
    "}\n",
    "GROUP BY ?t \n",
    "ORDER BY DESC(?num)\n",
    "LIMIT 10\n",
    "\"\"\"\n",
    "results = g.query(q)\n",
    "for result in results:\n",
    "    print((result[0].value, result[1].value))"
   ]
  },
  {
   "cell_type": "code",
   "execution_count": null,
   "id": "07c0ee92",
   "metadata": {},
   "outputs": [],
   "source": [
    "# distribution of part-of-speech\n",
    "q = \"\"\"\n",
    "SELECT ?p (count(?p) as ?num) WHERE {\n",
    "    ?s rdf:type nif:Word . \n",
    "    ?s nif:pos ?p .\n",
    "}\n",
    "GROUP BY ?p\n",
    "LIMIT 10\n",
    "\"\"\"\n",
    "results = g.query(q)\n",
    "for result in results:\n",
    "    print((result[0], result[1].value))"
   ]
  },
  {
   "cell_type": "code",
   "execution_count": null,
   "id": "bac8f62b",
   "metadata": {
    "scrolled": true
   },
   "outputs": [],
   "source": [
    "# distribution of part-of-speech\n",
    "q = \"\"\"\n",
    "SELECT DISTINCT ?a0 ?a1 ?a2 (count(?a1) as ?num) WHERE {\n",
    "    ?s nif:previousWord [ \n",
    "        nif:anchorOf ?a0 ;\n",
    "    ] .\n",
    "    ?s nif:nextWord ?ss .\n",
    "    ?ss nif:pos ?a2 .\n",
    "    ?s rdf:type nif:Word .\n",
    "    ?s nif:anchorOf ?a1 .\n",
    "    }\n",
    "GROUP BY ?a0  ?a1  ?a2\n",
    "ORDER BY DESC(?num)\n",
    "\"\"\"\n",
    "results = g.query(q)\n",
    "for result in results[0:10]:\n",
    "    print((result[0].value, result[1].value, result[2], result[3].value))"
   ]
  },
  {
   "cell_type": "code",
   "execution_count": null,
   "id": "367915f5",
   "metadata": {},
   "outputs": [],
   "source": []
  },
  {
   "cell_type": "code",
   "execution_count": null,
   "id": "d9065cf3",
   "metadata": {},
   "outputs": [],
   "source": []
  },
  {
   "cell_type": "code",
   "execution_count": null,
   "id": "bc0ef915",
   "metadata": {},
   "outputs": [],
   "source": []
  }
 ],
 "metadata": {
  "kernelspec": {
   "display_name": "Python 3 (ipykernel)",
   "language": "python",
   "name": "python3"
  },
  "language_info": {
   "codemirror_mode": {
    "name": "ipython",
    "version": 3
   },
   "file_extension": ".py",
   "mimetype": "text/x-python",
   "name": "python",
   "nbconvert_exporter": "python",
   "pygments_lexer": "ipython3",
   "version": "3.9.0"
  }
 },
 "nbformat": 4,
 "nbformat_minor": 5
}
