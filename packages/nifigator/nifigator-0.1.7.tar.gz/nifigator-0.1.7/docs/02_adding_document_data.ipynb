{
 "cells": [
  {
   "cell_type": "markdown",
   "id": "194ad595",
   "metadata": {},
   "source": [
    "# Adding document data\n",
    "\n",
    "Nifigator contains a PDFDocument object to extract text and paragraph and page offsets from a PDF document. It uses the Python package PDFMiner.six for this.\n",
    "\n",
    "## Creating a NifContext from extracted text"
   ]
  },
  {
   "cell_type": "code",
   "execution_count": null,
   "id": "70dd6887",
   "metadata": {},
   "outputs": [],
   "source": [
    "from nifigator import PDFDocument\n",
    "\n",
    "# Extract text from a pdf\n",
    "filename = \"..//data//dnb-annual-report-2021.pdf\"\n",
    "with open(filename, mode=\"rb\") as f:\n",
    "    pdf = PDFDocument(file=f.read())"
   ]
  },
  {
   "cell_type": "markdown",
   "id": "d31c0f68",
   "metadata": {},
   "source": [
    "It is often useful to transform the original url or location of a document to a Universally Unique Identifier (UUID) when storing it."
   ]
  },
  {
   "cell_type": "code",
   "execution_count": null,
   "id": "512fa34b",
   "metadata": {},
   "outputs": [],
   "source": [
    "from nifigator import generate_uuid\n",
    "\n",
    "original_uri = \"https://www.dnb.nl/media/4kobi4vf/dnb-annual-report-2021.pdf\"\n",
    "uri = \"https://dnb.nl/rdf-data/\"+generate_uuid(uri=original_uri)"
   ]
  },
  {
   "cell_type": "markdown",
   "id": "2a939f80",
   "metadata": {},
   "source": [
    "Then we construct the context"
   ]
  },
  {
   "cell_type": "code",
   "execution_count": null,
   "id": "e3d86980",
   "metadata": {
    "scrolled": true
   },
   "outputs": [],
   "source": [
    "from nifigator import NifContext, OffsetBasedString\n",
    "\n",
    "# Make a context by passing uri, uri scheme and string\n",
    "context = NifContext(\n",
    "    uri=uri,\n",
    "    URIScheme=OffsetBasedString,\n",
    "    isString=pdf.text,\n",
    ")\n",
    "print(context)"
   ]
  },
  {
   "cell_type": "markdown",
   "id": "0373f46c",
   "metadata": {},
   "source": [
    "```console\n",
    "(nif:Context) uri = <https://dnb.nl/rdf-data/nif-5282967702ae37d486ad338b9771ca8f>\n",
    "  isString : 'DNB Annual Report 2021\\nStriking a \\nnew balance\\n\\nDe Nederlandsche Bank N.V.\\n2021\n",
    "Annual Report\\n\\nStriking a new balance\\n\\nPresented to the General Meeting on 16 March\n",
    "2022.\\n\\n1\\n\\nDNB Annual Report 2021The cut-off date for this report is 10 March\n",
    "2022.\\n\\nNotes\\n\\nThe original Annual Report, including the financial statements, was prepared\n",
    "in Dutch. In the event \\n\\nof discrepancies between the Dutch version and this English\n",
    "translation, the Dutch version prevails. ... '\n",
    "```\n",
    "\n",
    "## Page offsets\n",
    "\n",
    "In some situations it is necessary to know the specific page number that contains a certain part of the text."
   ]
  },
  {
   "cell_type": "code",
   "execution_count": null,
   "id": "f6596d09",
   "metadata": {},
   "outputs": [],
   "source": [
    "from nifigator import NifPage\n",
    "\n",
    "# A list of NifPages is created using the page offsets from the pdf\n",
    "pages = [\n",
    "    NifPage(\n",
    "        URIScheme=OffsetBasedString,\n",
    "        uri=uri,\n",
    "        beginIndex=page.beginIndex,\n",
    "        endIndex=page.endIndex,\n",
    "        referenceContext=context\n",
    "    )\n",
    "    for page in pdf.page_offsets]\n",
    "\n",
    "# The list of pages are added to the context\n",
    "context.set_Pages(pages)"
   ]
  },
  {
   "cell_type": "code",
   "execution_count": null,
   "id": "1c5e6835",
   "metadata": {},
   "outputs": [],
   "source": [
    "# The individual pages can be retrieved in the following way\n",
    "context.pages[45]"
   ]
  },
  {
   "cell_type": "markdown",
   "id": "b14475de",
   "metadata": {},
   "source": [
    "The page offsets are aligned with the context string. "
   ]
  },
  {
   "cell_type": "code",
   "execution_count": null,
   "id": "73402eb4",
   "metadata": {},
   "outputs": [],
   "source": [
    "# The page offsets are aligned with the context string\n",
    "for page in pdf.page_offsets[1:2]:\n",
    "    print(repr(context.isString[page.beginIndex:page.endIndex]))"
   ]
  },
  {
   "cell_type": "markdown",
   "id": "913eb8d3",
   "metadata": {},
   "source": [
    "By adding the linguistic data we can generate a complete graph:"
   ]
  },
  {
   "cell_type": "code",
   "execution_count": null,
   "id": "1074470c",
   "metadata": {},
   "outputs": [],
   "source": [
    "import stanza\n",
    "nlp = stanza.Pipeline(\"en\", verbose=False)\n",
    "stanza_dict = nlp(context.isString).to_dict()\n",
    "context.load_from_dict(stanza_dict)\n",
    "\n",
    "from nifigator import NifContextCollection\n",
    "collection = NifContextCollection(uri=\"https://dnb.nl/rdf-data/\")\n",
    "collection.add_context(context)\n",
    "\n",
    "from nifigator import NifGraph\n",
    "g = NifGraph(collection=collection)"
   ]
  },
  {
   "cell_type": "markdown",
   "id": "e42a06a2",
   "metadata": {},
   "source": [
    "and serialize the graph to a file in hext-format:"
   ]
  },
  {
   "cell_type": "code",
   "execution_count": null,
   "id": "a6b64e31",
   "metadata": {},
   "outputs": [],
   "source": [
    "g.serialize(\"..//data//\"+generate_uuid(uri=original_uri)+\".hext\", format=\"hext\")"
   ]
  }
 ],
 "metadata": {
  "jupytext": {
   "formats": "ipynb,md"
  },
  "kernelspec": {
   "display_name": "Python 3 (ipykernel)",
   "language": "python",
   "name": "python3"
  },
  "language_info": {
   "codemirror_mode": {
    "name": "ipython",
    "version": 3
   },
   "file_extension": ".py",
   "mimetype": "text/x-python",
   "name": "python",
   "nbconvert_exporter": "python",
   "pygments_lexer": "ipython3",
   "version": "3.9.0"
  }
 },
 "nbformat": 4,
 "nbformat_minor": 5
}
