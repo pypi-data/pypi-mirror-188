{
 "cells": [
  {
   "attachments": {},
   "cell_type": "markdown",
   "metadata": {},
   "source": [
    "*The structure of this notebook was generated using https://github.com/smv7/templates.*"
   ]
  },
  {
   "attachments": {},
   "cell_type": "markdown",
   "metadata": {},
   "source": [
    "## Data Science Notebook Template\n",
    "*This markdown cell is only to introduce the template structure of the notebook to you. Feel free to remove it after understanding it or using it to guide readers.*\n",
    "\n",
    "---\n",
    "\n",
    "This data notebook follows a data science workflow structure of 6 well defined stages:\n",
    "<details>\n",
    "<summary>1. Question Definition</summary>\n",
    "\n",
    "The purpose and questions to be answered by the study are defined here.\n",
    "</details>\n",
    "\n",
    "<details>\n",
    "<summary>2. Data Collection</summary>\n",
    "\n",
    "All the data sources, the required library imports and loading of the data sets are defined here.\n",
    "</details>\n",
    "\n",
    "<details>\n",
    "<summary>3. Data Diagnosis</summary>\n",
    "\n",
    "The first exploration of the data and a report with all identified data issues are made here.\n",
    "</details>\n",
    "\n",
    "<details>\n",
    "<summary>4. Data Preparation</summary>\n",
    "\n",
    "The resolution of all identified issues by the previous stage report (*RDS Diagnosis*) are made here.\n",
    "</details>\n",
    "\n",
    "<details>\n",
    "<summary>5. Data Analysis</summary>\n",
    "\n",
    "The data exploration via *EDA* searching for statistical metrics, variable relationships, data visualizations are made here.\n",
    "</details>\n",
    "\n",
    "<details>\n",
    "<summary>6. Data Reporting</summary>\n",
    "\n",
    "The final results of analysis presented with more sophisticated visualizations and concise *jargon-free* statements are made here.\n",
    "</details>\n",
    "\n",
    "Each section have its own number identifier and each subsection expands the identifier of its parent using dot notation.\n",
    "\n",
    "I recommend you to read the purpose of each section before changing it if seems undesirable or unnecessary.\n",
    "\n",
    "If you have thoughts or ideas to improve this template please share them. You can contribute to its repository at []()."
   ]
  },
  {
   "attachments": {},
   "cell_type": "markdown",
   "metadata": {},
   "source": [
    "# Notebook Title\n",
    "Define the title of your notebook here."
   ]
  },
  {
   "attachments": {},
   "cell_type": "markdown",
   "metadata": {},
   "source": [
    "## 1. Question Definition"
   ]
  },
  {
   "attachments": {},
   "cell_type": "markdown",
   "metadata": {},
   "source": [
    "Define the questions you want to answer with your data here."
   ]
  },
  {
   "attachments": {},
   "cell_type": "markdown",
   "metadata": {},
   "source": [
    "## 2. Data Collection"
   ]
  },
  {
   "attachments": {},
   "cell_type": "markdown",
   "metadata": {},
   "source": [
    "Import your libraries, load your data and write your additional notes about its collection here."
   ]
  },
  {
   "attachments": {},
   "cell_type": "markdown",
   "metadata": {},
   "source": [
    "## 3. Data Diagnosis"
   ]
  },
  {
   "attachments": {},
   "cell_type": "markdown",
   "metadata": {},
   "source": [
    "Diagnose your data on different states and prepare a \"cleaning\" report here."
   ]
  },
  {
   "attachments": {},
   "cell_type": "markdown",
   "metadata": {},
   "source": [
    "### 3.1 Getting the *data features* status by searching **fertile features**."
   ]
  },
  {
   "attachments": {},
   "cell_type": "markdown",
   "metadata": {},
   "source": [
    "### 3.2 Getting the *data doubling* status by searching **duplicate values**."
   ]
  },
  {
   "attachments": {},
   "cell_type": "markdown",
   "metadata": {},
   "source": [
    "### 3.3 Getting the *data completeness* status by searching **missing values**."
   ]
  },
  {
   "attachments": {},
   "cell_type": "markdown",
   "metadata": {},
   "source": [
    "### 3.4 Getting the *data encoding* status by searching **incorrect data types**."
   ]
  },
  {
   "attachments": {},
   "cell_type": "markdown",
   "metadata": {},
   "source": [
    "### 3.5 Getting the *data formatting* status by searching **incorrectly formated values**."
   ]
  },
  {
   "attachments": {},
   "cell_type": "markdown",
   "metadata": {},
   "source": [
    "### 3.6 Getting the *data coherence* status by searching **incoherent values**."
   ]
  },
  {
   "attachments": {},
   "cell_type": "markdown",
   "metadata": {},
   "source": [
    "### 3.7 Getting the *data cardinality* status by searching **number of unique values**."
   ]
  },
  {
   "attachments": {},
   "cell_type": "markdown",
   "metadata": {},
   "source": [
    "### 3.8 Getting the *data distribution* status by searching **extreme values**.\n",
    "NOTE: \"data distribution\" name is associated with *outliers* because in the visual representation of data we can see\n",
    "them. Although another name can be more appropiate for the task of searching outliers. If found it, consider making a\n",
    "contribution to https://github.com/smv7/templates.\n"
   ]
  },
  {
   "attachments": {},
   "cell_type": "markdown",
   "metadata": {},
   "source": [
    "### 3.9 Diagnosis"
   ]
  },
  {
   "attachments": {},
   "cell_type": "markdown",
   "metadata": {},
   "source": [
    "Document the diagnosis you made of your data here.\n",
    "\n",
    "- 3.1 *data features* status:\n",
    "- 3.2 *data doubling* status:\n",
    "- 3.3 *data completeness* status:\n",
    "- 3.4 *data encoding* status:\n",
    "- 3.5 *data formatting* status:\n",
    "- 3.6 *data coherence* status:\n",
    "- 3.7 *data cardinality* status:\n",
    "- 3.8 *data distribution* status:"
   ]
  },
  {
   "attachments": {},
   "cell_type": "markdown",
   "metadata": {},
   "source": [
    "## 4. Data Preparation"
   ]
  },
  {
   "attachments": {},
   "cell_type": "markdown",
   "metadata": {},
   "source": [
    "Document your data preparation procedures here with the format of the sample cell below.\n",
    "\n",
    "Aclarations about the sample cell title format:\n",
    "- `x` is one of the status of the previous diagnosis, e.g. \"4.1 Solving *data doubling* issues (3.1)\" or \"4.1 Solving *data encoding\" issues (3.3).\n",
    "- It's recommended that the status type in the title is followed by its section number for better orientation.\n",
    "- Data preparation cell number don't always match with the data diagnosis cell number (\"4.1 ... (3.3)\" instead of \"4.1 ... (3.1)\") because if a data status is OK it will not have a data preparation section, thus skipping some data status from data preparation."
   ]
  },
  {
   "attachments": {},
   "cell_type": "markdown",
   "metadata": {},
   "source": [
    "### 4.1 Solving `x` issues (0.0)"
   ]
  },
  {
   "attachments": {},
   "cell_type": "markdown",
   "metadata": {},
   "source": [
    "## 5. Data Analysis"
   ]
  },
  {
   "attachments": {},
   "cell_type": "markdown",
   "metadata": {},
   "source": [
    "Document your *Data Analysis* procedures here by following the format of the cells below.\n",
    "\n",
    "NOTE: The structure of the *Data Analysis* section was inspired by the book [Think Stats: Exploratory Data Analysis](https://www.amazon.com/Think-Stats-Exploratory-Data-Analysis/dp/1491907339/ref=d_pd_sbs_vft_none_sccl_1_1/137-6246750-0586746?pd_rd_w=08vO3&content-id=amzn1.sym.3676f086-9496-4fd7-8490-77cf7f43f846&pf_rd_p=3676f086-9496-4fd7-8490-77cf7f43f846&pf_rd_r=0WE3NGJWW57T331RWJBH&pd_rd_wg=4ROZ8&pd_rd_r=eb170bbd-a9b2-431f-8934-ed9d7b2f1623&pd_rd_i=1491907339&psc=1) written by [Allen B. Downey](https://en.wikipedia.org/wiki/Allen_B._Downey)."
   ]
  },
  {
   "attachments": {},
   "cell_type": "markdown",
   "metadata": {},
   "source": [
    "### 5.1 Univariate analysis"
   ]
  },
  {
   "attachments": {},
   "cell_type": "markdown",
   "metadata": {},
   "source": [
    "Document your analysis of individual variables here by following the format of the cell below."
   ]
  },
  {
   "attachments": {},
   "cell_type": "markdown",
   "metadata": {},
   "source": [
    "#### 5.1.1 Exploring `dataframe.a`"
   ]
  },
  {
   "attachments": {},
   "cell_type": "markdown",
   "metadata": {},
   "source": [
    "### 5.2 Bivariate analysis"
   ]
  },
  {
   "attachments": {},
   "cell_type": "markdown",
   "metadata": {},
   "source": [
    "Document your analysis of variables' pairs here by following the format of the cell below."
   ]
  },
  {
   "attachments": {},
   "cell_type": "markdown",
   "metadata": {},
   "source": [
    "#### 5.2.1 Exploring `dataframe.a`/`dataframe.b` relationship"
   ]
  },
  {
   "attachments": {},
   "cell_type": "markdown",
   "metadata": {},
   "source": [
    "### 5.3 Multivariate analysis"
   ]
  },
  {
   "attachments": {},
   "cell_type": "markdown",
   "metadata": {},
   "source": [
    "Document your analysis of `n` variable sets here, where `n > 2` by following the previously showed formats."
   ]
  },
  {
   "attachments": {},
   "cell_type": "markdown",
   "metadata": {},
   "source": [
    "### 5.4 Hypothesis testing"
   ]
  },
  {
   "attachments": {},
   "cell_type": "markdown",
   "metadata": {},
   "source": [
    "Document your hypotheses based on your previous analyzes here."
   ]
  },
  {
   "attachments": {},
   "cell_type": "markdown",
   "metadata": {},
   "source": [
    "You can try to apply these three questions for your hypotheses as a starting point:\n",
    "- How big is the effect(s)?\n",
    "- How much variability should we expect if we run the same measurement(s) again?\n",
    "- Is it possible that the apparent effect(s) is(are) due to chance? "
   ]
  },
  {
   "attachments": {},
   "cell_type": "markdown",
   "metadata": {},
   "source": [
    "## 6. Data Reporting"
   ]
  },
  {
   "attachments": {},
   "cell_type": "markdown",
   "metadata": {},
   "source": [
    "Answer your questions defined in the *Question Definition* section by writing your conclusions along with user-friendly visualizations here."
   ]
  }
 ],
 "metadata": {
  "kernelspec": {
   "display_name": ".venv",
   "language": "python",
   "name": "python3"
  },
  "language_info": {
   "codemirror_mode": {
    "name": "ipython",
    "version": 3
   },
   "file_extension": ".py",
   "mimetype": "text/x-python",
   "name": "python",
   "nbconvert_exporter": "python",
   "pygments_lexer": "ipython3",
   "version": "3.10.8 | packaged by conda-forge | (main, Nov 24 2022, 14:07:00) [MSC v.1916 64 bit (AMD64)]"
  },
  "orig_nbformat": 4,
  "vscode": {
   "interpreter": {
    "hash": "b75daaa6efbe4d2330d35377d41f7b0117253210d107eb018ea1380ea655274d"
   }
  }
 },
 "nbformat": 4,
 "nbformat_minor": 2
}
