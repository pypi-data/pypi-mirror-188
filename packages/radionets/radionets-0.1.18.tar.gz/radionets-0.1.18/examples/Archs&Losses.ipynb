{
 "cells": [
  {
   "cell_type": "markdown",
   "metadata": {},
   "source": [
    "# List of Available Architectures:\n",
    "\n",
    "All architectures are defined in the `radionets/dl_framework/architectures/` section:\n",
    "* test\n",
    "* cnn\n",
    "* small\n",
    "* autoencoder\n",
    "* autoencoder_two_channel\n",
    "* small_fourier\n",
    "* convs\n",
    "* conv_filter\n",
    "* depthwise_seperable_conv\n",
    "* filter\n",
    "* UNet\n",
    "* UNet_fft\n",
    "* UNet_denoise\n",
    "* UNet_fourier\n",
    "* UNet_denoise_64\n",
    "* filter_deep\n",
    "* filter_deep_amp\n",
    "* filter_deep_phase\n",
    "* filter_deep_amp_unc\n",
    "* filter_deep_phase_unc"
   ]
  },
  {
   "cell_type": "markdown",
   "metadata": {},
   "source": [
    "# List of Available Loss Functions:\n",
    "\n",
    "All loss functions are defined in `radionets/dl_framework/loss_functions.py/`:\n",
    "* mse\n",
    "* splitted_mse\n",
    "* FeatureLoss\n",
    "* loss_amp\n",
    "* loss_phase\n",
    "* likelihood (for amp)\n",
    "* likelihood_phase\n",
    "* loss_msssim\n",
    "* loss_msssim_diff\n",
    "* loss_msssim_amp\n",
    "* loss_mse_msssim_phase\n",
    "* loss_mse_msssim_amp\n",
    "* loss_mse_msssim\n",
    "* spe\n",
    "* spe_square\n",
    "* spe_\n",
    "* regularization\n",
    "* my_loss (mse + regularization, used for testing)"
   ]
  }
 ],
 "metadata": {
  "kernelspec": {
   "display_name": "Python 3",
   "language": "python",
   "name": "python3"
  },
  "language_info": {
   "codemirror_mode": {
    "name": "ipython",
    "version": 3
   },
   "file_extension": ".py",
   "mimetype": "text/x-python",
   "name": "python",
   "nbconvert_exporter": "python",
   "pygments_lexer": "ipython3",
   "version": "3.8.5"
  }
 },
 "nbformat": 4,
 "nbformat_minor": 4
}
