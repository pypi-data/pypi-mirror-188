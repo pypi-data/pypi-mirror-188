{
 "cells": [
  {
   "cell_type": "markdown",
   "id": "09792fa3",
   "metadata": {
    "tags": [
     "papermill-error-cell-tag"
    ]
   },
   "source": [
    "<span style=\"color:red; font-family:Helvetica Neue, Helvetica, Arial, sans-serif; font-size:2em;\">An Exception was encountered at '<a href=\"#papermill-error-cell\">In [7]</a>'.</span>"
   ]
  },
  {
   "cell_type": "code",
   "execution_count": 1,
   "id": "84a8a157-b96e-4e0f-bcce-7d438c968ed8",
   "metadata": {
    "execution": {
     "iopub.execute_input": "2022-08-29T14:07:49.576246Z",
     "iopub.status.busy": "2022-08-29T14:07:49.575763Z",
     "iopub.status.idle": "2022-08-29T14:07:51.559763Z",
     "shell.execute_reply": "2022-08-29T14:07:51.558900Z"
    },
    "papermill": {
     "duration": 1.99002,
     "end_time": "2022-08-29T14:07:51.561892",
     "exception": false,
     "start_time": "2022-08-29T14:07:49.571872",
     "status": "completed"
    },
    "tags": []
   },
   "outputs": [
    {
     "name": "stdout",
     "output_type": "stream",
     "text": [
      "Collecting zeno_etl_libs==1.0.69\r\n"
     ]
    },
    {
     "name": "stdout",
     "output_type": "stream",
     "text": [
      "  Downloading zeno_etl_libs-1.0.69-py3-none-any.whl (493 kB)\r\n",
      "\u001b[?25l     \u001b[90m━━━━━━━━━━━━━━━━━━━━━━━━━━━━━━━━━━━━━━━━\u001b[0m \u001b[32m0.0/493.1 kB\u001b[0m \u001b[31m?\u001b[0m eta \u001b[36m-:--:--\u001b[0m\r",
      "\u001b[2K     \u001b[90m━━━━━━━━━━━━━━━━━━━━━━━━━━━━━━━━━━━━━━\u001b[0m \u001b[32m493.1/493.1 kB\u001b[0m \u001b[31m35.5 MB/s\u001b[0m eta \u001b[36m0:00:00\u001b[0m\r\n",
      "\u001b[?25h"
     ]
    },
    {
     "name": "stdout",
     "output_type": "stream",
     "text": [
      "Installing collected packages: zeno_etl_libs\r\n"
     ]
    },
    {
     "name": "stdout",
     "output_type": "stream",
     "text": [
      "Successfully installed zeno_etl_libs-1.0.69\r\n",
      "\u001b[33mWARNING: Running pip as the 'root' user can result in broken permissions and conflicting behaviour with the system package manager. It is recommended to use a virtual environment instead: https://pip.pypa.io/warnings/venv\u001b[0m\u001b[33m\r\n",
      "\u001b[0m"
     ]
    },
    {
     "name": "stdout",
     "output_type": "stream",
     "text": [
      "\r\n",
      "\u001b[1m[\u001b[0m\u001b[34;49mnotice\u001b[0m\u001b[1;39;49m]\u001b[0m\u001b[39;49m A new release of pip available: \u001b[0m\u001b[31;49m22.1.2\u001b[0m\u001b[39;49m -> \u001b[0m\u001b[32;49m22.2.2\u001b[0m\r\n",
      "\u001b[1m[\u001b[0m\u001b[34;49mnotice\u001b[0m\u001b[1;39;49m]\u001b[0m\u001b[39;49m To update, run: \u001b[0m\u001b[32;49mpip install --upgrade pip\u001b[0m\r\n"
     ]
    }
   ],
   "source": [
    "!pip install zeno_etl_libs==1.0.69"
   ]
  },
  {
   "cell_type": "code",
   "execution_count": 2,
   "id": "6c6b3fc5-710a-42d9-ba96-bb98a09425bf",
   "metadata": {
    "execution": {
     "iopub.execute_input": "2022-08-29T14:07:51.567702Z",
     "iopub.status.busy": "2022-08-29T14:07:51.567354Z",
     "iopub.status.idle": "2022-08-29T14:07:52.869005Z",
     "shell.execute_reply": "2022-08-29T14:07:52.867928Z"
    },
    "papermill": {
     "duration": 1.306498,
     "end_time": "2022-08-29T14:07:52.870821",
     "exception": false,
     "start_time": "2022-08-29T14:07:51.564323",
     "status": "completed"
    },
    "tags": []
   },
   "outputs": [],
   "source": [
    "# -*- coding: utf-8 -*-\n",
    "\"\"\"\n",
    "Created on Mon Apr 21 21:45:59 2022\n",
    "\n",
    "@author: vivek.sidagam@zeno.health\n",
    "\n",
    "@Purpose: To generate forecast and replenishment figures for Warehouse\n",
    "\"\"\"\n",
    "\n",
    "import os\n",
    "import sys\n",
    "import pandas as pd\n",
    "from datetime import datetime, timedelta\n",
    "from scipy.stats import norm\n",
    "from dateutil.tz import gettz\n",
    "\n",
    "sys.path.append('../../../..')\n",
    "\n",
    "from zeno_etl_libs.db.db import DB\n",
    "from zeno_etl_libs.helper.aws.s3 import S3\n",
    "from zeno_etl_libs.logger import get_logger\n",
    "from zeno_etl_libs.helper.email.email import Email\n",
    "\n",
    "from zeno_etl_libs.utils.warehouse.data_prep.wh_data_prep import wh_data_prep\n",
    "from zeno_etl_libs.utils.warehouse.forecast.forecast_main import wh_forecast\n",
    "from zeno_etl_libs.utils.warehouse.safety_stock.wh_safety_stock import \\\n",
    "    wh_safety_stock_calc\n",
    "from zeno_etl_libs.utils.ipc.doid_update_ss import doid_update\n",
    "from zeno_etl_libs.helper.parameter.job_parameter import parameter"
   ]
  },
  {
   "cell_type": "code",
   "execution_count": 3,
   "id": "9099121c-070f-4151-8819-9b99195b7493",
   "metadata": {
    "execution": {
     "iopub.execute_input": "2022-08-29T14:07:52.876367Z",
     "iopub.status.busy": "2022-08-29T14:07:52.875981Z",
     "iopub.status.idle": "2022-08-29T14:07:52.878968Z",
     "shell.execute_reply": "2022-08-29T14:07:52.878440Z"
    },
    "papermill": {
     "duration": 0.007296,
     "end_time": "2022-08-29T14:07:52.880272",
     "exception": false,
     "start_time": "2022-08-29T14:07:52.872976",
     "status": "completed"
    },
    "tags": [
     "parameters"
    ]
   },
   "outputs": [],
   "source": [
    "#tag = parameters\n",
    "env = \"dev\""
   ]
  },
  {
   "cell_type": "code",
   "execution_count": 4,
   "id": "76797fd9",
   "metadata": {
    "execution": {
     "iopub.execute_input": "2022-08-29T14:07:52.884949Z",
     "iopub.status.busy": "2022-08-29T14:07:52.884697Z",
     "iopub.status.idle": "2022-08-29T14:07:52.887312Z",
     "shell.execute_reply": "2022-08-29T14:07:52.886803Z"
    },
    "papermill": {
     "duration": 0.006434,
     "end_time": "2022-08-29T14:07:52.888583",
     "exception": false,
     "start_time": "2022-08-29T14:07:52.882149",
     "status": "completed"
    },
    "tags": [
     "injected-parameters"
    ]
   },
   "outputs": [],
   "source": [
    "# Parameters\n",
    "env = \"prod\"\n"
   ]
  },
  {
   "cell_type": "code",
   "execution_count": 5,
   "id": "c5fcc56d-b3f1-49bd-bec2-2004cb503fde",
   "metadata": {
    "execution": {
     "iopub.execute_input": "2022-08-29T14:07:52.893295Z",
     "iopub.status.busy": "2022-08-29T14:07:52.893047Z",
     "iopub.status.idle": "2022-08-29T14:07:58.279754Z",
     "shell.execute_reply": "2022-08-29T14:07:58.279077Z"
    },
    "papermill": {
     "duration": 5.390864,
     "end_time": "2022-08-29T14:07:58.281337",
     "exception": false,
     "start_time": "2022-08-29T14:07:52.890473",
     "status": "completed"
    },
    "tags": []
   },
   "outputs": [
    {
     "name": "stdout",
     "output_type": "stream",
     "text": [
      "connecting with secrets manager for getting secrets\n"
     ]
    },
    {
     "name": "stdout",
     "output_type": "stream",
     "text": [
      "Redshift DB connection closed successfully.\n"
     ]
    }
   ],
   "source": [
    "os.environ['env'] = env\n",
    "# runtime variables\n",
    "job_params = parameter.get_params(job_id=117)\n",
    "ss_runtime_var = {'lead_time_mean': job_params['lead_time_mean'],\n",
    "                  'lead_time_std': job_params['lead_time_std'],\n",
    "                  'service_level': job_params['service_level'],\n",
    "                  'ordering_freq': job_params['ordering_freq'],\n",
    "                  'max_review_period': job_params['max_review_period'],\n",
    "                  'z': round(norm.ppf(job_params['service_level']), 2),\n",
    "                  'for_next_month': job_params['for_next_month'],\n",
    "                  'cap_ss_days': job_params['cap_ss_days'],\n",
    "                  'use_fcst_error': job_params['use_fcst_error'],\n",
    "                  'fcst_hist_to_use': job_params['fcst_hist_to_use'],\n",
    "                  'debug_mode': job_params['debug_mode'],\n",
    "                  'simulate_for': job_params['simulate_for']}\n",
    "email_to = job_params['email_to']\n",
    "debug_mode = job_params['debug_mode']\n",
    "simulate_for = job_params['simulate_for']\n",
    "err_msg = ''\n",
    "df_uri = ''\n",
    "schema = job_params['schema']\n",
    "reset = job_params['reset']\n",
    "wh_id = job_params['wh_id']\n",
    "nso_history_days = job_params['nso_history_days']\n",
    "status = False"
   ]
  },
  {
   "cell_type": "code",
   "execution_count": 6,
   "id": "af9d65ed-4a8d-444d-8007-49c4c4ab67e0",
   "metadata": {
    "execution": {
     "iopub.execute_input": "2022-08-29T14:07:58.287418Z",
     "iopub.status.busy": "2022-08-29T14:07:58.287102Z",
     "iopub.status.idle": "2022-08-29T14:07:58.295385Z",
     "shell.execute_reply": "2022-08-29T14:07:58.294815Z"
    },
    "papermill": {
     "duration": 0.013001,
     "end_time": "2022-08-29T14:07:58.296784",
     "exception": false,
     "start_time": "2022-08-29T14:07:58.283783",
     "status": "completed"
    },
    "tags": []
   },
   "outputs": [
    {
     "name": "stdout",
     "output_type": "stream",
     "text": [
      "2022-08-29 14:07:58,291 - root - INFO - Scripts begins\n"
     ]
    },
    {
     "name": "stdout",
     "output_type": "stream",
     "text": [
      "2022-08-29 14:07:58,292 - root - INFO - Run time variables --> {'lead_time_mean': 4, 'lead_time_std': 2, 'service_level': 0.95, 'ordering_freq': 1, 'max_review_period': 4, 'z': 1.64, 'for_next_month': 'Y', 'cap_ss_days': 15, 'use_fcst_error': 'N', 'fcst_hist_to_use': 6, 'debug_mode': 'Y', 'simulate_for': ''}\n"
     ]
    },
    {
     "name": "stdout",
     "output_type": "stream",
     "text": [
      "2022-08-29 14:07:58,293 - root - INFO - \n",
      "debug_mode --> Y\n",
      "reset_date --> 2022-08-29, \n",
      "current_month_date --> 2022-08-01, \n",
      "forecast_date --> 2022-09-01\n",
      "\n"
     ]
    }
   ],
   "source": [
    "logger = get_logger()\n",
    "logger.info(\"Scripts begins\")\n",
    "logger.info(\"Run time variables --> \" + str(ss_runtime_var))\n",
    "\n",
    "# getting run date for the script\n",
    "if debug_mode == 'Y' and simulate_for != '':\n",
    "    reset_date = simulate_for\n",
    "    current_month_date = (pd.to_datetime(simulate_for).date() - timedelta(days=pd.to_datetime(simulate_for).day - 1))\n",
    "else:\n",
    "    reset_date = str(datetime.now(tz=gettz('Asia/Kolkata')).date())\n",
    "    current_month_date = (datetime.now(tz=gettz('Asia/Kolkata')).date() -\n",
    "                          timedelta(days=datetime.now(tz=gettz('Asia/Kolkata')).day - 1))\n",
    "\n",
    "if ss_runtime_var['for_next_month'] == 'Y':\n",
    "    forecast_date = str(\n",
    "        datetime(current_month_date.year +\n",
    "                 int(current_month_date.month / 12),\n",
    "                 ((current_month_date.month % 12) + 1), 1).date())\n",
    "else:\n",
    "    forecast_date = str(current_month_date)\n",
    "\n",
    "logger.info(f\"\"\"\n",
    "debug_mode --> {debug_mode}\n",
    "reset_date --> {reset_date}, \n",
    "current_month_date --> {current_month_date}, \n",
    "forecast_date --> {forecast_date}\n",
    "\"\"\")"
   ]
  },
  {
   "cell_type": "markdown",
   "id": "51a19e1f",
   "metadata": {
    "tags": [
     "papermill-error-cell-tag"
    ]
   },
   "source": [
    "<span id=\"papermill-error-cell\" style=\"color:red; font-family:Helvetica Neue, Helvetica, Arial, sans-serif; font-size:2em;\">Execution using papermill encountered an exception here and stopped:</span>"
   ]
  },
  {
   "cell_type": "code",
   "execution_count": 7,
   "id": "2eaca412-1551-4464-9377-673e8ac6f994",
   "metadata": {
    "execution": {
     "iopub.execute_input": "2022-08-29T14:07:58.302682Z",
     "iopub.status.busy": "2022-08-29T14:07:58.302283Z",
     "iopub.status.idle": "2022-08-29T14:13:48.717656Z",
     "shell.execute_reply": "2022-08-29T14:13:48.716690Z"
    },
    "papermill": {
     "duration": 350.419661,
     "end_time": "2022-08-29T14:13:48.718717",
     "exception": true,
     "start_time": "2022-08-29T14:07:58.299056",
     "status": "failed"
    },
    "tags": []
   },
   "outputs": [
    {
     "name": "stdout",
     "output_type": "stream",
     "text": [
      "2022-08-29 14:07:58,565 - root - INFO - reading input file to get expected_nso\n"
     ]
    },
    {
     "name": "stdout",
     "output_type": "stream",
     "text": [
      "2022-08-29 14:08:03,655 - root - INFO - expected_nso parameter read\n"
     ]
    },
    {
     "name": "stdout",
     "output_type": "stream",
     "text": [
      "2022-08-29 14:08:03,658 - root - INFO - expected_nso --> 0\n"
     ]
    },
    {
     "name": "stdout",
     "output_type": "stream",
     "text": [
      "Date range 2019-04-01 2022-08-29\n"
     ]
    },
    {
     "name": "stdout",
     "output_type": "stream",
     "text": [
      "2022-08-28\n",
      "2022-08-28\n"
     ]
    },
    {
     "name": "stdout",
     "output_type": "stream",
     "text": [
      "44056\n"
     ]
    },
    {
     "name": "stdout",
     "output_type": "stream",
     "text": [
      "Distinct drug count 44056\n",
      "No of days 1246\n"
     ]
    },
    {
     "name": "stderr",
     "output_type": "stream",
     "text": [
      "/usr/local/lib/python3.7/site-packages/zeno_etl_libs/utils/ipc/data_prep.py:135: SettingWithCopyWarning: \n",
      "A value is trying to be set on a copy of a slice from a DataFrame.\n",
      "Try using .loc[row_indexer,col_indexer] = value instead\n",
      "\n",
      "See the caveats in the documentation: https://pandas.pydata.org/pandas-docs/stable/user_guide/indexing.html#returning-a-view-versus-a-copy\n",
      "  lambda x: x['date'] - datetime.timedelta(x['day_of_week']), axis=1)\n",
      "/usr/local/lib/python3.7/site-packages/zeno_etl_libs/utils/ipc/data_prep.py:137: SettingWithCopyWarning: \n",
      "A value is trying to be set on a copy of a slice from a DataFrame.\n",
      "Try using .loc[row_indexer,col_indexer] = value instead\n",
      "\n",
      "See the caveats in the documentation: https://pandas.pydata.org/pandas-docs/stable/user_guide/indexing.html#returning-a-view-versus-a-copy\n",
      "  lambda x: x['date'] - datetime.timedelta(x['date'].day - 1), axis=1)\n",
      "/usr/local/lib/python3.7/site-packages/zeno_etl_libs/utils/ipc/data_prep.py:139: SettingWithCopyWarning: \n",
      "A value is trying to be set on a copy of a slice from a DataFrame.\n",
      "Try using .loc[row_indexer,col_indexer] = value instead\n",
      "\n",
      "See the caveats in the documentation: https://pandas.pydata.org/pandas-docs/stable/user_guide/indexing.html#returning-a-view-versus-a-copy\n",
      "  lambda x: x['date'] - datetime.timedelta(x['day_of_week']), axis=1)\n",
      "/usr/local/lib/python3.7/site-packages/zeno_etl_libs/utils/ipc/data_prep.py:141: SettingWithCopyWarning: \n",
      "A value is trying to be set on a copy of a slice from a DataFrame.\n",
      "Try using .loc[row_indexer,col_indexer] = value instead\n",
      "\n",
      "See the caveats in the documentation: https://pandas.pydata.org/pandas-docs/stable/user_guide/indexing.html#returning-a-view-versus-a-copy\n",
      "  lambda x: x['date'] - datetime.timedelta(x['date'].day - 1), axis=1)\n"
     ]
    },
    {
     "name": "stderr",
     "output_type": "stream",
     "text": [
      "/usr/local/lib/python3.7/site-packages/zeno_etl_libs/utils/ipc/data_prep.py:146: SettingWithCopyWarning: \n",
      "A value is trying to be set on a copy of a slice from a DataFrame.\n",
      "Try using .loc[row_indexer,col_indexer] = value instead\n",
      "\n",
      "See the caveats in the documentation: https://pandas.pydata.org/pandas-docs/stable/user_guide/indexing.html#returning-a-view-versus-a-copy\n",
      "  cal_sales_weekly['key'] = 1\n"
     ]
    },
    {
     "name": "stderr",
     "output_type": "stream",
     "text": [
      "/usr/local/lib/python3.7/site-packages/zeno_etl_libs/utils/ipc/data_prep.py:156: SettingWithCopyWarning: \n",
      "A value is trying to be set on a copy of a slice from a DataFrame.\n",
      "Try using .loc[row_indexer,col_indexer] = value instead\n",
      "\n",
      "See the caveats in the documentation: https://pandas.pydata.org/pandas-docs/stable/user_guide/indexing.html#returning-a-view-versus-a-copy\n",
      "  cal_sales_monthly['key'] = 1\n"
     ]
    },
    {
     "name": "stdout",
     "output_type": "stream",
     "text": [
      "Distinct no of drugs 44056\n",
      "Distinct dates 1246\n",
      "DF shape 54893776\n"
     ]
    },
    {
     "name": "stdout",
     "output_type": "stream",
     "text": [
      "2017-05-13\n"
     ]
    },
    {
     "name": "stdout",
     "output_type": "stream",
     "text": [
      "44056\n"
     ]
    },
    {
     "name": "stdout",
     "output_type": "stream",
     "text": [
      "34292\n",
      "177   2022-08-22\n",
      "176   2022-08-15\n",
      "175   2022-08-08\n",
      "174   2022-08-01\n",
      "Name: date, dtype: datetime64[ns]\n"
     ]
    },
    {
     "name": "stdout",
     "output_type": "stream",
     "text": [
      "44056\n",
      "33523\n"
     ]
    },
    {
     "name": "stdout",
     "output_type": "stream",
     "text": [
      "2022-08-29 14:13:48,557 - root - INFO - # of Drugs in WH list3383\n"
     ]
    },
    {
     "name": "stdout",
     "output_type": "stream",
     "text": [
      "2022-08-29 14:13:48,581 - root - INFO - 338341\n"
     ]
    },
    {
     "name": "stdout",
     "output_type": "stream",
     "text": [
      "2022-08-29 14:13:48,584 - root - INFO - 138703\n"
     ]
    },
    {
     "name": "stdout",
     "output_type": "stream",
     "text": [
      "e: {'S': 'ERROR', 'C': '42601', 'M': 'syntax error at or near \")\"', 'P': '265', 'F': '/home/ec2-user/padb/src/pg/src/backend/parser/parser_scan.l', 'L': '714', 'R': 'yyerror'}\n",
      "2022-08-29 14:13:48,599 - root - INFO - {'S': 'ERROR', 'C': '42601', 'M': 'syntax error at or near \")\"', 'P': '265', 'F': '/home/ec2-user/padb/src/pg/src/backend/parser/parser_scan.l', 'L': '714', 'R': 'yyerror'}\n"
     ]
    },
    {
     "ename": "Exception",
     "evalue": "{'S': 'ERROR', 'C': '42601', 'M': 'syntax error at or near \")\"', 'P': '265', 'F': '/home/ec2-user/padb/src/pg/src/backend/parser/parser_scan.l', 'L': '714', 'R': 'yyerror'}",
     "output_type": "error",
     "traceback": [
      "\u001b[0;31m---------------------------------------------------------------------------\u001b[0m",
      "\u001b[0;31mKeyError\u001b[0m                                  Traceback (most recent call last)",
      "\u001b[0;32m/usr/local/lib/python3.7/site-packages/redshift_connector/core.py\u001b[0m in \u001b[0;36mexecute\u001b[0;34m(self, cursor, operation, vals)\u001b[0m\n\u001b[1;32m   1126\u001b[0m         \u001b[0;32mtry\u001b[0m\u001b[0;34m:\u001b[0m\u001b[0;34m\u001b[0m\u001b[0;34m\u001b[0m\u001b[0m\n\u001b[0;32m-> 1127\u001b[0;31m             \u001b[0mps\u001b[0m \u001b[0;34m=\u001b[0m \u001b[0mcache\u001b[0m\u001b[0;34m[\u001b[0m\u001b[0;34m\"ps\"\u001b[0m\u001b[0;34m]\u001b[0m\u001b[0;34m[\u001b[0m\u001b[0mkey\u001b[0m\u001b[0;34m]\u001b[0m\u001b[0;34m\u001b[0m\u001b[0;34m\u001b[0m\u001b[0m\n\u001b[0m\u001b[1;32m   1128\u001b[0m             \u001b[0mcursor\u001b[0m\u001b[0;34m.\u001b[0m\u001b[0mps\u001b[0m \u001b[0;34m=\u001b[0m \u001b[0mps\u001b[0m\u001b[0;34m\u001b[0m\u001b[0;34m\u001b[0m\u001b[0m\n",
      "\u001b[0;31mKeyError\u001b[0m: ('\\n            select\\n                id as drug_id,\\n                \"drug-name\" as drug_name,\\n                type,\\n                date(\"created-at\") as creation_date\\n            from\\n                \"prod2-generico\".drugs\\n            where\\n                id in ()\\n        ', ())",
      "\nDuring handling of the above exception, another exception occurred:\n",
      "\u001b[0;31mProgrammingError\u001b[0m                          Traceback (most recent call last)",
      "\u001b[0;32m/usr/local/lib/python3.7/site-packages/zeno_etl_libs/db/db.py\u001b[0m in \u001b[0;36mexecute\u001b[0;34m(self, query, params)\u001b[0m\n\u001b[1;32m     51\u001b[0m         \u001b[0;32mtry\u001b[0m\u001b[0;34m:\u001b[0m\u001b[0;34m\u001b[0m\u001b[0;34m\u001b[0m\u001b[0m\n\u001b[0;32m---> 52\u001b[0;31m             \u001b[0mself\u001b[0m\u001b[0;34m.\u001b[0m\u001b[0mcursor\u001b[0m\u001b[0;34m.\u001b[0m\u001b[0mexecute\u001b[0m\u001b[0;34m(\u001b[0m\u001b[0mquery\u001b[0m\u001b[0;34m,\u001b[0m \u001b[0mparams\u001b[0m\u001b[0;34m)\u001b[0m\u001b[0;34m\u001b[0m\u001b[0;34m\u001b[0m\u001b[0m\n\u001b[0m\u001b[1;32m     53\u001b[0m         \u001b[0;32mexcept\u001b[0m \u001b[0mException\u001b[0m \u001b[0;32mas\u001b[0m \u001b[0me\u001b[0m\u001b[0;34m:\u001b[0m\u001b[0;34m\u001b[0m\u001b[0;34m\u001b[0m\u001b[0m\n",
      "\u001b[0;32m/usr/local/lib/python3.7/site-packages/redshift_connector/cursor.py\u001b[0m in \u001b[0;36mexecute\u001b[0;34m(self, operation, args, stream, merge_socket_read)\u001b[0m\n\u001b[1;32m    210\u001b[0m             \u001b[0mself\u001b[0m\u001b[0;34m.\u001b[0m\u001b[0m_c\u001b[0m\u001b[0;34m.\u001b[0m\u001b[0mmerge_socket_read\u001b[0m \u001b[0;34m=\u001b[0m \u001b[0mmerge_socket_read\u001b[0m\u001b[0;34m\u001b[0m\u001b[0;34m\u001b[0m\u001b[0m\n\u001b[0;32m--> 211\u001b[0;31m             \u001b[0mself\u001b[0m\u001b[0;34m.\u001b[0m\u001b[0m_c\u001b[0m\u001b[0;34m.\u001b[0m\u001b[0mexecute\u001b[0m\u001b[0;34m(\u001b[0m\u001b[0mself\u001b[0m\u001b[0;34m,\u001b[0m \u001b[0moperation\u001b[0m\u001b[0;34m,\u001b[0m \u001b[0margs\u001b[0m\u001b[0;34m)\u001b[0m\u001b[0;34m\u001b[0m\u001b[0;34m\u001b[0m\u001b[0m\n\u001b[0m\u001b[1;32m    212\u001b[0m         \u001b[0;32mexcept\u001b[0m \u001b[0mAttributeError\u001b[0m \u001b[0;32mas\u001b[0m \u001b[0me\u001b[0m\u001b[0;34m:\u001b[0m\u001b[0;34m\u001b[0m\u001b[0;34m\u001b[0m\u001b[0m\n",
      "\u001b[0;32m/usr/local/lib/python3.7/site-packages/redshift_connector/core.py\u001b[0m in \u001b[0;36mexecute\u001b[0;34m(self, cursor, operation, vals)\u001b[0m\n\u001b[1;32m   1196\u001b[0m \u001b[0;34m\u001b[0m\u001b[0m\n\u001b[0;32m-> 1197\u001b[0;31m             \u001b[0mself\u001b[0m\u001b[0;34m.\u001b[0m\u001b[0mhandle_messages\u001b[0m\u001b[0;34m(\u001b[0m\u001b[0mcursor\u001b[0m\u001b[0;34m)\u001b[0m\u001b[0;34m\u001b[0m\u001b[0;34m\u001b[0m\u001b[0m\n\u001b[0m\u001b[1;32m   1198\u001b[0m \u001b[0;34m\u001b[0m\u001b[0m\n",
      "\u001b[0;32m/usr/local/lib/python3.7/site-packages/redshift_connector/core.py\u001b[0m in \u001b[0;36mhandle_messages\u001b[0;34m(self, cursor)\u001b[0m\n\u001b[1;32m   1360\u001b[0m         \u001b[0;32mif\u001b[0m \u001b[0mself\u001b[0m\u001b[0;34m.\u001b[0m\u001b[0merror\u001b[0m \u001b[0;32mis\u001b[0m \u001b[0;32mnot\u001b[0m \u001b[0;32mNone\u001b[0m\u001b[0;34m:\u001b[0m\u001b[0;34m\u001b[0m\u001b[0;34m\u001b[0m\u001b[0m\n\u001b[0;32m-> 1361\u001b[0;31m             \u001b[0;32mraise\u001b[0m \u001b[0mself\u001b[0m\u001b[0;34m.\u001b[0m\u001b[0merror\u001b[0m\u001b[0;34m\u001b[0m\u001b[0;34m\u001b[0m\u001b[0m\n\u001b[0m\u001b[1;32m   1362\u001b[0m \u001b[0;34m\u001b[0m\u001b[0m\n",
      "\u001b[0;31mProgrammingError\u001b[0m: {'S': 'ERROR', 'C': '42601', 'M': 'syntax error at or near \")\"', 'P': '265', 'F': '/home/ec2-user/padb/src/pg/src/backend/parser/parser_scan.l', 'L': '714', 'R': 'yyerror'}",
      "\nDuring handling of the above exception, another exception occurred:\n",
      "\u001b[0;31mException\u001b[0m                                 Traceback (most recent call last)",
      "\u001b[0;32m/tmp/ipykernel_51/4215385056.py\u001b[0m in \u001b[0;36m<module>\u001b[0;34m\u001b[0m\n\u001b[1;32m    217\u001b[0m     \u001b[0merr_msg\u001b[0m \u001b[0;34m=\u001b[0m \u001b[0mstr\u001b[0m\u001b[0;34m(\u001b[0m\u001b[0merror\u001b[0m\u001b[0;34m)\u001b[0m\u001b[0;34m\u001b[0m\u001b[0;34m\u001b[0m\u001b[0m\n\u001b[1;32m    218\u001b[0m     \u001b[0mlogger\u001b[0m\u001b[0;34m.\u001b[0m\u001b[0minfo\u001b[0m\u001b[0;34m(\u001b[0m\u001b[0mstr\u001b[0m\u001b[0;34m(\u001b[0m\u001b[0merror\u001b[0m\u001b[0;34m)\u001b[0m\u001b[0;34m)\u001b[0m\u001b[0;34m\u001b[0m\u001b[0;34m\u001b[0m\u001b[0m\n\u001b[0;32m--> 219\u001b[0;31m     \u001b[0;32mraise\u001b[0m \u001b[0merror\u001b[0m\u001b[0;34m\u001b[0m\u001b[0;34m\u001b[0m\u001b[0m\n\u001b[0m",
      "\u001b[0;32m/tmp/ipykernel_51/4215385056.py\u001b[0m in \u001b[0;36m<module>\u001b[0;34m\u001b[0m\n\u001b[1;32m     57\u001b[0m     drug_sales_monthly, wh_drug_list, drug_history, demand_daily_deviation = wh_data_prep(\n\u001b[1;32m     58\u001b[0m         \u001b[0mstore_id_list\u001b[0m\u001b[0;34m,\u001b[0m \u001b[0mcurrent_month_date\u001b[0m\u001b[0;34m,\u001b[0m \u001b[0mreset_date\u001b[0m\u001b[0;34m,\u001b[0m \u001b[0mtype_list\u001b[0m\u001b[0;34m,\u001b[0m \u001b[0mrs_db\u001b[0m\u001b[0;34m,\u001b[0m \u001b[0mlogger\u001b[0m\u001b[0;34m,\u001b[0m\u001b[0;34m\u001b[0m\u001b[0;34m\u001b[0m\u001b[0m\n\u001b[0;32m---> 59\u001b[0;31m         ss_runtime_var, schema)\n\u001b[0m\u001b[1;32m     60\u001b[0m     \u001b[0mdrug_sales_monthly\u001b[0m\u001b[0;34m[\u001b[0m\u001b[0;34m'drug_id'\u001b[0m\u001b[0;34m]\u001b[0m \u001b[0;34m=\u001b[0m \u001b[0mdrug_sales_monthly\u001b[0m\u001b[0;34m[\u001b[0m\u001b[0;34m'drug_id'\u001b[0m\u001b[0;34m]\u001b[0m\u001b[0;34m.\u001b[0m\u001b[0mastype\u001b[0m\u001b[0;34m(\u001b[0m\u001b[0mint\u001b[0m\u001b[0;34m,\u001b[0m \u001b[0merrors\u001b[0m\u001b[0;34m=\u001b[0m\u001b[0;34m'ignore'\u001b[0m\u001b[0;34m)\u001b[0m\u001b[0;34m\u001b[0m\u001b[0;34m\u001b[0m\u001b[0m\n\u001b[1;32m     61\u001b[0m     \u001b[0mdrug_sales_monthly\u001b[0m\u001b[0;34m[\u001b[0m\u001b[0;34m'year'\u001b[0m\u001b[0;34m]\u001b[0m \u001b[0;34m=\u001b[0m \u001b[0mdrug_sales_monthly\u001b[0m\u001b[0;34m[\u001b[0m\u001b[0;34m'year'\u001b[0m\u001b[0;34m]\u001b[0m\u001b[0;34m.\u001b[0m\u001b[0mastype\u001b[0m\u001b[0;34m(\u001b[0m\u001b[0mint\u001b[0m\u001b[0;34m,\u001b[0m \u001b[0merrors\u001b[0m\u001b[0;34m=\u001b[0m\u001b[0;34m'ignore'\u001b[0m\u001b[0;34m)\u001b[0m\u001b[0;34m\u001b[0m\u001b[0;34m\u001b[0m\u001b[0m\n",
      "\u001b[0;32m/usr/local/lib/python3.7/site-packages/zeno_etl_libs/utils/warehouse/data_prep/wh_data_prep.py\u001b[0m in \u001b[0;36mwh_data_prep\u001b[0;34m(store_id_list, current_month_date, reset_date, type_list, rs_db, logger, ss_runtime_var, schema)\u001b[0m\n\u001b[1;32m    156\u001b[0m     \u001b[0;31m# DATA CHECKS\u001b[0m\u001b[0;34m\u001b[0m\u001b[0;34m\u001b[0m\u001b[0;34m\u001b[0m\u001b[0m\n\u001b[1;32m    157\u001b[0m     _ = data_checks(\n\u001b[0;32m--> 158\u001b[0;31m         drug_sales_monthly, wh_drug_list, current_month_date, logger, rs_db)\n\u001b[0m\u001b[1;32m    159\u001b[0m \u001b[0;34m\u001b[0m\u001b[0m\n\u001b[1;32m    160\u001b[0m     \u001b[0;31m# FILTERING OUT LENGTH OF TIME SERIES BASED ON FIRST BILL DATE\u001b[0m\u001b[0;34m\u001b[0m\u001b[0;34m\u001b[0m\u001b[0;34m\u001b[0m\u001b[0m\n",
      "\u001b[0;32m/usr/local/lib/python3.7/site-packages/zeno_etl_libs/utils/warehouse/data_prep/wh_data_prep.py\u001b[0m in \u001b[0;36mdata_checks\u001b[0;34m(drug_sales_monthly, wh_drug_list, reset_date, logger, rs_db)\u001b[0m\n\u001b[1;32m     42\u001b[0m             \u001b[0mwhere\u001b[0m\u001b[0;34m\u001b[0m\u001b[0;34m\u001b[0m\u001b[0m\n\u001b[1;32m     43\u001b[0m                 \u001b[0mid\u001b[0m \u001b[0;32min\u001b[0m \u001b[0;34m{\u001b[0m\u001b[0;34m}\u001b[0m\u001b[0;34m\u001b[0m\u001b[0;34m\u001b[0m\u001b[0m\n\u001b[0;32m---> 44\u001b[0;31m         '''.format(drug_missed_fcst))\n\u001b[0m\u001b[1;32m     45\u001b[0m         drug_missed_sale_history = rs_db.get_df('''\n\u001b[1;32m     46\u001b[0m             \u001b[0mselect\u001b[0m\u001b[0;34m\u001b[0m\u001b[0;34m\u001b[0m\u001b[0m\n",
      "\u001b[0;32m/usr/local/lib/python3.7/site-packages/zeno_etl_libs/db/db.py\u001b[0m in \u001b[0;36mget_df\u001b[0;34m(self, query)\u001b[0m\n\u001b[1;32m     58\u001b[0m \u001b[0;34m\u001b[0m\u001b[0m\n\u001b[1;32m     59\u001b[0m     \u001b[0;32mdef\u001b[0m \u001b[0mget_df\u001b[0m\u001b[0;34m(\u001b[0m\u001b[0mself\u001b[0m\u001b[0;34m,\u001b[0m \u001b[0mquery\u001b[0m\u001b[0;34m)\u001b[0m\u001b[0;34m:\u001b[0m\u001b[0;34m\u001b[0m\u001b[0;34m\u001b[0m\u001b[0m\n\u001b[0;32m---> 60\u001b[0;31m         \u001b[0mself\u001b[0m\u001b[0;34m.\u001b[0m\u001b[0mexecute\u001b[0m\u001b[0;34m(\u001b[0m\u001b[0mquery\u001b[0m\u001b[0;34m,\u001b[0m \u001b[0mparams\u001b[0m\u001b[0;34m=\u001b[0m\u001b[0;32mNone\u001b[0m\u001b[0;34m)\u001b[0m\u001b[0;34m\u001b[0m\u001b[0;34m\u001b[0m\u001b[0m\n\u001b[0m\u001b[1;32m     61\u001b[0m         \u001b[0mdf\u001b[0m\u001b[0;34m:\u001b[0m \u001b[0mpd\u001b[0m\u001b[0;34m.\u001b[0m\u001b[0mDataFrame\u001b[0m \u001b[0;34m=\u001b[0m \u001b[0mself\u001b[0m\u001b[0;34m.\u001b[0m\u001b[0mcursor\u001b[0m\u001b[0;34m.\u001b[0m\u001b[0mfetch_dataframe\u001b[0m\u001b[0;34m(\u001b[0m\u001b[0;34m)\u001b[0m\u001b[0;34m\u001b[0m\u001b[0;34m\u001b[0m\u001b[0m\n\u001b[1;32m     62\u001b[0m         \u001b[0;32mif\u001b[0m \u001b[0misinstance\u001b[0m\u001b[0;34m(\u001b[0m\u001b[0mdf\u001b[0m\u001b[0;34m,\u001b[0m \u001b[0mtype\u001b[0m\u001b[0;34m(\u001b[0m\u001b[0;32mNone\u001b[0m\u001b[0;34m)\u001b[0m\u001b[0;34m)\u001b[0m\u001b[0;34m:\u001b[0m\u001b[0;34m\u001b[0m\u001b[0;34m\u001b[0m\u001b[0m\n",
      "\u001b[0;32m/usr/local/lib/python3.7/site-packages/zeno_etl_libs/db/db.py\u001b[0m in \u001b[0;36mexecute\u001b[0;34m(self, query, params)\u001b[0m\n\u001b[1;32m     55\u001b[0m             \u001b[0;32mif\u001b[0m \u001b[0;32mnot\u001b[0m \u001b[0mself\u001b[0m\u001b[0;34m.\u001b[0m\u001b[0mconnection\u001b[0m\u001b[0;34m.\u001b[0m\u001b[0mautocommit\u001b[0m\u001b[0;34m:\u001b[0m\u001b[0;34m\u001b[0m\u001b[0;34m\u001b[0m\u001b[0m\n\u001b[1;32m     56\u001b[0m                 \u001b[0mself\u001b[0m\u001b[0;34m.\u001b[0m\u001b[0mcursor\u001b[0m\u001b[0;34m.\u001b[0m\u001b[0mexecute\u001b[0m\u001b[0;34m(\u001b[0m\u001b[0;34m\"rollback\"\u001b[0m\u001b[0;34m)\u001b[0m\u001b[0;34m\u001b[0m\u001b[0;34m\u001b[0m\u001b[0m\n\u001b[0;32m---> 57\u001b[0;31m             \u001b[0;32mraise\u001b[0m \u001b[0mException\u001b[0m\u001b[0;34m(\u001b[0m\u001b[0me\u001b[0m\u001b[0;34m)\u001b[0m\u001b[0;34m\u001b[0m\u001b[0;34m\u001b[0m\u001b[0m\n\u001b[0m\u001b[1;32m     58\u001b[0m \u001b[0;34m\u001b[0m\u001b[0m\n\u001b[1;32m     59\u001b[0m     \u001b[0;32mdef\u001b[0m \u001b[0mget_df\u001b[0m\u001b[0;34m(\u001b[0m\u001b[0mself\u001b[0m\u001b[0;34m,\u001b[0m \u001b[0mquery\u001b[0m\u001b[0;34m)\u001b[0m\u001b[0;34m:\u001b[0m\u001b[0;34m\u001b[0m\u001b[0;34m\u001b[0m\u001b[0m\n",
      "\u001b[0;31mException\u001b[0m: {'S': 'ERROR', 'C': '42601', 'M': 'syntax error at or near \")\"', 'P': '265', 'F': '/home/ec2-user/padb/src/pg/src/backend/parser/parser_scan.l', 'L': '714', 'R': 'yyerror'}"
     ]
    }
   ],
   "source": [
    "try:\n",
    "    rs_db = DB()\n",
    "    rs_db.open_connection()\n",
    "    logger.info('reading input file to get expected_nso')\n",
    "    params_table_query = \"\"\"\n",
    "            select\n",
    "                \"month-begin-dt\" as month_begin_dt,\n",
    "                value as expected_nso\n",
    "            from\n",
    "                \"prod2-generico\".\"wh-forecast-repln-input\"\n",
    "            where\n",
    "                \"param-name\" = 'expected_nso'\n",
    "        \"\"\"\n",
    "    params_table = rs_db.get_df(params_table_query)\n",
    "    logger.info('expected_nso parameter read')\n",
    "    params_table = params_table.apply(pd.to_numeric, errors='ignore')\n",
    "\n",
    "    params_table['month_begin_dt'] = params_table['month_begin_dt'].astype(str)\n",
    "\n",
    "    try:\n",
    "        expected_nso = int(params_table[\n",
    "                               params_table[\n",
    "                                   'month_begin_dt'] == forecast_date][\n",
    "                               'expected_nso'])\n",
    "    except Exception as error:\n",
    "        expected_nso = 0\n",
    "    logger.info(f\"expected_nso --> {expected_nso}\")\n",
    "\n",
    "    store_query = '''\n",
    "        select\n",
    "            \"id\",\n",
    "            name,\n",
    "            \"opened-at\" as opened_at\n",
    "        from\n",
    "            \"prod2-generico\".stores\n",
    "        where\n",
    "            \"name\" <> 'Zippin Central'\n",
    "            and \"is-active\" = 1\n",
    "            and \"opened-at\" != '0101-01-01 00:00:00'\n",
    "            and id not in (92, 52)\n",
    "    '''\n",
    "    stores = rs_db.get_df(store_query)\n",
    "    store_id_list = list(stores['id'])\n",
    "\n",
    "    new_drug_entries = pd.DataFrame()\n",
    "    missed_entries = pd.DataFrame()\n",
    "\n",
    "    # CONSIDERING DRUG TYPES FOR DATA LOAD\n",
    "    type_list = rs_db.get_df(\n",
    "        'select distinct type from \"prod2-generico\".drugs')\n",
    "    type_list = tuple(type_list[\n",
    "                          ~type_list.type.isin(\n",
    "                              ['', 'banned', 'discontinued-products'])][\n",
    "                          'type'])\n",
    "\n",
    "    # RUNNING DATA PREPARATION\n",
    "    drug_sales_monthly, wh_drug_list, drug_history, demand_daily_deviation = wh_data_prep(\n",
    "        store_id_list, current_month_date, reset_date, type_list, rs_db, logger,\n",
    "        ss_runtime_var, schema)\n",
    "    drug_sales_monthly['drug_id'] = drug_sales_monthly['drug_id'].astype(int, errors='ignore')\n",
    "    drug_sales_monthly['year'] = drug_sales_monthly['year'].astype(int, errors='ignore')\n",
    "    drug_sales_monthly['month'] = drug_sales_monthly['month'].astype(int, errors='ignore')\n",
    "    drug_sales_monthly['net_sales_quantity'] = drug_sales_monthly['net_sales_quantity'].astype(int, errors='ignore')\n",
    "    drug_history = drug_history.astype(int, errors='ignore')\n",
    "    drug_sales_monthly['reset_date'] = reset_date\n",
    "\n",
    "    # FORECASTING\n",
    "    train, train_error, predict, wh_train, wh_train_error, wh_predict = wh_forecast(\n",
    "        drug_sales_monthly, wh_drug_list, drug_history, logger)\n",
    "\n",
    "    train['wh_id'] = wh_id\n",
    "    train_error['wh_id'] = wh_id\n",
    "    predict['wh_id'] = wh_id\n",
    "    wh_train['wh_id'] = wh_id\n",
    "    wh_train_error['wh_id'] = wh_id\n",
    "    wh_predict['wh_id'] = wh_id\n",
    "    train['forecast_date'] = forecast_date\n",
    "    train_error['forecast_date'] = forecast_date\n",
    "    predict['forecast_date'] = forecast_date\n",
    "    wh_train['forecast_date'] = forecast_date\n",
    "    wh_train_error['forecast_date'] = forecast_date\n",
    "    wh_predict['forecast_date'] = forecast_date\n",
    "\n",
    "    # SAFETY STOCK CALCULATIONS\n",
    "    last_actual_month = drug_sales_monthly['month_begin_dt'].max()\n",
    "    last_month_sales = drug_sales_monthly[\n",
    "        drug_sales_monthly['month_begin_dt'] == str(last_actual_month)]\n",
    "    last_month_sales = last_month_sales[['drug_id', 'net_sales_quantity']]\n",
    "    last_month_sales.rename(\n",
    "        columns={'net_sales_quantity': 'last_month_sales'}, inplace=True)\n",
    "    wh_safety_stock_df = wh_safety_stock_calc(\n",
    "        ss_runtime_var, wh_drug_list, wh_predict, last_month_sales, demand_daily_deviation, current_month_date,\n",
    "        forecast_date, reset_date, logger, expected_nso, nso_history_days, rs_db)\n",
    "    wh_safety_stock_df['wh_id'] = wh_id\n",
    "    wh_safety_stock_df['reset_date'] = str(reset_date)\n",
    "    rs_db.close_connection()\n",
    "\n",
    "    # WRITING TO POSTGRES\n",
    "    s3 = S3()\n",
    "    rs_db_write = DB(read_only=False)\n",
    "    rs_db_write.open_connection()\n",
    "\n",
    "    created_at = datetime.now(tz=gettz('Asia/Kolkata')).strftime(\"%Y-%m-%d %H:%M:%S\")\n",
    "\n",
    "    wh_safety_stock_df['ptr'] = ''\n",
    "    wh_safety_stock_df['fcst'] = wh_safety_stock_df['fcst'].astype(int)\n",
    "    wh_safety_stock_df['safety_stock'] = wh_safety_stock_df['safety_stock'].fillna(0).astype(int)\n",
    "    wh_safety_stock_df['month'] = wh_safety_stock_df['month'].astype(int)\n",
    "    wh_safety_stock_df['year'] = wh_safety_stock_df['year'].astype(int)\n",
    "    wh_safety_stock_df['ss_wo_cap'] = wh_safety_stock_df['ss_wo_cap'].astype(int)\n",
    "    wh_safety_stock_df['reorder_point'] = wh_safety_stock_df['reorder_point'].astype(int)\n",
    "    wh_safety_stock_df['order_upto_point'] = wh_safety_stock_df['order_upto_point'].astype(int)\n",
    "    wh_safety_stock_df['shelf_min'] = wh_safety_stock_df['shelf_min'].fillna(0).astype(int)\n",
    "    wh_safety_stock_df['shelf_max'] = wh_safety_stock_df['shelf_max'].fillna(0).astype(int)\n",
    "    wh_safety_stock_df['rop_without_nso'] = wh_safety_stock_df['rop_without_nso'].astype(int)\n",
    "    wh_safety_stock_df['oup_without_nso'] = wh_safety_stock_df['oup_without_nso'].astype(int)\n",
    "    wh_safety_stock_df['created_at'] = created_at\n",
    "    wh_safety_stock_df['created_by'] = 'etl-automation'\n",
    "    wh_safety_stock_df['updated_at'] = created_at\n",
    "    wh_safety_stock_df['updated_by'] = 'etl-automation'\n",
    "    columns = [c.replace('-', '_') for c in ['drug-id', 'drug-name', 'type', 'category', 'company', 'ptr', 'bucket',\n",
    "                                             'history-bucket', 'fcst', 'final-fcst', 'forecast-type', 'model',\n",
    "                                             'month', 'month-begin-dt', 'std', 'year', 'wh-id', 'forecast-date',\n",
    "                                             'lead-time-mean', 'lead-time-std', 'max-review-period',\n",
    "                                             'ordering-freq',\n",
    "                                             'service-level', 'z-value', 'demand-daily', 'demand-daily-deviation',\n",
    "                                             'safety-stock', 'launch-stock-per-store', 'expected-nso',\n",
    "                                             'rop-without-nso', 'reorder-point', 'oup-without-nso',\n",
    "                                             'order-upto-point', 'shelf-min', 'shelf-max', 'last-month-sales',\n",
    "                                             'safety-stock-days',\n",
    "                                             'reorder-point-days', 'order-upto-days', 'reset-date', 'created-at',\n",
    "                                             'created-by', 'updated-at', 'updated-by', 'cap_ss_days', 'ss_wo_cap']]\n",
    "    wh_safety_stock_df = wh_safety_stock_df[columns]\n",
    "\n",
    "    if debug_mode == 'N':\n",
    "        # drug_sales_monthly\n",
    "        drug_sales_monthly['created-at'] = created_at\n",
    "        drug_sales_monthly['created-by'] = 'etl-automation'\n",
    "        drug_sales_monthly['updated-at'] = created_at\n",
    "        drug_sales_monthly['updated-by'] = 'etl-automation'\n",
    "        s3.write_df_to_db(df=drug_sales_monthly, table_name='wh-drug-sales-monthly', db=rs_db_write,\n",
    "                          schema='prod2-generico')\n",
    "\n",
    "        # train\n",
    "        train['type'] = 'separate'\n",
    "        train['created-at'] = created_at\n",
    "        train['created-by'] = 'etl-automation'\n",
    "        train['updated-at'] = created_at\n",
    "        train['updated-by'] = 'etl-automation'\n",
    "        s3.write_df_to_db(df=train, table_name='wh-train', db=rs_db_write, schema='prod2-generico')\n",
    "\n",
    "        # wh_train\n",
    "        wh_train['type'] = 'ensemble'\n",
    "        wh_train['created-at'] = created_at\n",
    "        wh_train['created-by'] = 'etl-automation'\n",
    "        wh_train['updated-at'] = created_at\n",
    "        wh_train['updated-by'] = 'etl-automation'\n",
    "        s3.write_df_to_db(df=wh_train, table_name='wh-train', db=rs_db_write, schema='prod2-generico')\n",
    "\n",
    "        # train_error\n",
    "        train_error['type'] = 'separate'\n",
    "        train_error['created-at'] = created_at\n",
    "        train_error['created-by'] = 'etl-automation'\n",
    "        train_error['updated-at'] = created_at\n",
    "        train_error['updated-by'] = 'etl-automation'\n",
    "        s3.write_df_to_db(df=train_error, table_name='wh-train-error', db=rs_db_write, schema='prod2-generico')\n",
    "\n",
    "        # wh_train_error\n",
    "        wh_train_error['type'] = 'ensemble'\n",
    "        wh_train_error['created-at'] = created_at\n",
    "        wh_train_error['created-by'] = 'etl-automation'\n",
    "        wh_train_error['updated-at'] = created_at\n",
    "        wh_train_error['updated-by'] = 'etl-automation'\n",
    "        s3.write_df_to_db(df=wh_train_error[train_error.columns], table_name='wh-train-error', db=rs_db_write,\n",
    "                          schema='prod2-generico')\n",
    "\n",
    "        # predict\n",
    "        predict['type'] = 'separate'\n",
    "        predict['created-at'] = created_at\n",
    "        predict['created-by'] = 'etl-automation'\n",
    "        predict['updated-at'] = created_at\n",
    "        predict['updated-by'] = 'etl-automation'\n",
    "        s3.write_df_to_db(df=predict, table_name='wh-predict', db=rs_db_write, schema='prod2-generico')\n",
    "\n",
    "        # wh_predict\n",
    "        wh_predict['type'] = 'ensemble'\n",
    "        wh_predict['created-at'] = created_at\n",
    "        wh_predict['created-by'] = 'etl-automation'\n",
    "        wh_predict['updated-at'] = created_at\n",
    "        wh_predict['updated-by'] = 'etl-automation'\n",
    "        s3.write_df_to_db(df=wh_predict, table_name='wh-predict', db=rs_db_write, schema='prod2-generico')\n",
    "\n",
    "        # wh_safety_stock_df\n",
    "        s3.write_df_to_db(df=wh_safety_stock_df, table_name='wh-safety-stock', db=rs_db_write,\n",
    "                          schema='prod2-generico')\n",
    "    if reset == 'Y':\n",
    "        # UPLOADING SAFETY STOCK NUMBERS IN DRUG-ORDER-INFO\n",
    "        ss_data_upload = wh_safety_stock_df.query('order_upto_point > 0')[\n",
    "            ['wh_id', 'drug_id', 'safety_stock', 'reorder_point',\n",
    "             'order_upto_point']]\n",
    "        ss_data_upload.columns = [\n",
    "            'store_id', 'drug_id', 'corr_min', 'corr_ss', 'corr_max']\n",
    "        new_drug_entries, missed_entries = doid_update(\n",
    "            ss_data_upload, type_list, rs_db_write, schema, logger)\n",
    "        logger.info('DOI updated as per request')\n",
    "        logger.info('missed entries --> ' + str(missed_entries))\n",
    "        logger.info('new_drug_entries entries --> ' + str(new_drug_entries))\n",
    "    else:\n",
    "        logger.info('DOID did not update as per request')\n",
    "\n",
    "    rs_db_write.close_connection()\n",
    "    df_uri = s3.save_df_to_s3(df=wh_safety_stock_df,\n",
    "                              file_name='wh_safety_stock_{date}.csv'.format(date=str(forecast_date)))\n",
    "    status = True\n",
    "\n",
    "except Exception as error:\n",
    "    err_msg = str(error)\n",
    "    logger.info(str(error))\n",
    "    raise error"
   ]
  },
  {
   "cell_type": "code",
   "execution_count": null,
   "id": "a2857cfc-3e95-4522-a3bf-0416f9e8f6f1",
   "metadata": {
    "papermill": {
     "duration": null,
     "end_time": null,
     "exception": null,
     "start_time": null,
     "status": "pending"
    },
    "tags": []
   },
   "outputs": [],
   "source": [
    "email = Email()\n",
    "if debug_mode == 'Y':\n",
    "    email_to = 'vivek.sidagam@zeno.health'\n",
    "\n",
    "if status:\n",
    "    result = 'Success'\n",
    "    email.send_email_file(subject=f\"Warehouse forecast & replenishment ({env}): {result}\",\n",
    "                          mail_body=f\"Run time: {datetime.now()} {err_msg}\",\n",
    "                          to_emails=email_to, file_uris=[df_uri])\n",
    "else:\n",
    "    result = 'Failed'\n",
    "    email.send_email_file(subject=f\"Warehouse forecast & replenishment ({env}): {result}\",\n",
    "                          mail_body=f\"Run time: {datetime.now()} {err_msg}\",\n",
    "                          to_emails=email_to, file_uris=[])"
   ]
  }
 ],
 "metadata": {
  "kernelspec": {
   "display_name": "Python 3 (ipykernel)",
   "language": "python",
   "name": "python3"
  },
  "language_info": {
   "codemirror_mode": {
    "name": "ipython",
    "version": 3
   },
   "file_extension": ".py",
   "mimetype": "text/x-python",
   "name": "python",
   "nbconvert_exporter": "python",
   "pygments_lexer": "ipython3",
   "version": "3.7.13"
  },
  "papermill": {
   "default_parameters": {},
   "duration": 360.553062,
   "end_time": "2022-08-29T14:13:49.039595",
   "environment_variables": {},
   "exception": true,
   "input_path": "notebook-2022-08-29-14-03-45.ipynb",
   "output_path": "/opt/ml/processing/output/wh_forecast_reset-2022-08-29-14-03-47.ipynb",
   "parameters": {
    "env": "prod"
   },
   "start_time": "2022-08-29T14:07:48.486533",
   "version": "2.3.4"
  }
 },
 "nbformat": 4,
 "nbformat_minor": 5
}