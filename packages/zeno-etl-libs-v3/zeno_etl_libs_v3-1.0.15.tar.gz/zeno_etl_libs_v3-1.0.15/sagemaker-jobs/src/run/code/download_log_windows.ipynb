{
 "cells": [
  {
   "cell_type": "code",
   "execution_count": 1,
   "id": "d52fc9de-0e50-4212-9b7c-46de2d3b448e",
   "metadata": {},
   "outputs": [],
   "source": [
    "\"\"\"main wrapper for IPC safety stock reset\"\"\"\n",
    "import sys\n",
    "import datetime\n",
    "import time\n",
    "import re\n",
    "import os"
   ]
  },
  {
   "cell_type": "code",
   "execution_count": 2,
   "id": "f588aaa9-b96d-47d7-8774-d6fe1aa28192",
   "metadata": {},
   "outputs": [],
   "source": [
    "#To add path so that we can improt zeno_etl_libs from local folder\n",
    "sys.path.append('../../../..')"
   ]
  },
  {
   "cell_type": "code",
   "execution_count": 3,
   "id": "a44d446e-cf41-4353-a80b-b29155597b2f",
   "metadata": {},
   "outputs": [],
   "source": [
    "from zeno_etl_libs.helper.run_notebook import run_notebook"
   ]
  },
  {
   "cell_type": "code",
   "execution_count": 5,
   "id": "139f57df-10fb-4789-a36f-9b407a59b61a",
   "metadata": {},
   "outputs": [],
   "source": [
    "#!aws s3 cp s3://sagemaker-ap-south-1-921939243643/papermill_output/prod-wh-forecast-reset-2023-01-27-04-12-11 . --recursive"
   ]
  },
  {
   "cell_type": "code",
   "execution_count": 4,
   "id": "4e73851d-0a4c-4497-8b98-d2c19fbcc5b8",
   "metadata": {},
   "outputs": [
    {
     "name": "stdout",
     "output_type": "stream",
     "text": [
      "Completed 256.0 KiB/552.0 KiB (779.6 KiB/s) with 1 file(s) remaining\n",
      "Completed 512.0 KiB/552.0 KiB (1.4 MiB/s) with 1 file(s) remaining  \n",
      "Completed 552.0 KiB/552.0 KiB (1.5 MiB/s) with 1 file(s) remaining  \n",
      "download: s3://sagemaker-ap-south-1-921939243643/papermill_output/wh_forecast_reset-2023-01-27-04-12-11.ipynb to .\\wh_forecast_reset-2023-01-27-04-12-11.ipynb\n"
     ]
    }
   ],
   "source": [
    "!aws s3 cp s3://sagemaker-ap-south-1-921939243643/papermill_output/wh_forecast_reset-2023-01-27-04-12-11.ipynb ."
   ]
  },
  {
   "cell_type": "code",
   "execution_count": null,
   "id": "bb20e715-69f8-4ff5-ac77-be0921ffb1da",
   "metadata": {},
   "outputs": [],
   "source": []
  }
 ],
 "metadata": {
  "kernelspec": {
   "display_name": "Python 3 (ipykernel)",
   "language": "python",
   "name": "python3"
  },
  "language_info": {
   "codemirror_mode": {
    "name": "ipython",
    "version": 3
   },
   "file_extension": ".py",
   "mimetype": "text/x-python",
   "name": "python",
   "nbconvert_exporter": "python",
   "pygments_lexer": "ipython3",
   "version": "3.7.5"
  }
 },
 "nbformat": 4,
 "nbformat_minor": 5
}
