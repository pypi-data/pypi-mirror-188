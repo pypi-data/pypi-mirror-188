{
 "cells": [
  {
   "cell_type": "code",
   "execution_count": 1,
   "id": "84a8a157-b96e-4e0f-bcce-7d438c968ed8",
   "metadata": {
    "execution": {
     "iopub.execute_input": "2022-05-25T08:54:45.325387Z",
     "iopub.status.busy": "2022-05-25T08:54:45.324969Z",
     "iopub.status.idle": "2022-05-25T08:54:47.107219Z",
     "shell.execute_reply": "2022-05-25T08:54:47.106339Z"
    },
    "papermill": {
     "duration": 1.787833,
     "end_time": "2022-05-25T08:54:47.109355",
     "exception": false,
     "start_time": "2022-05-25T08:54:45.321522",
     "status": "completed"
    },
    "tags": []
   },
   "outputs": [
    {
     "name": "stdout",
     "output_type": "stream",
     "text": [
      "Collecting zeno_etl_libs==1.0.31\n",
      "  Downloading zeno_etl_libs-1.0.31-py3-none-any.whl (139 kB)\n",
      "\u001b[2K     \u001b[90m━━━━━━━━━━━━━━━━━━━━━━━━━━━━━━━━━━━━━━\u001b[0m \u001b[32m140.0/140.0 kB\u001b[0m \u001b[31m18.9 MB/s\u001b[0m eta \u001b[36m0:00:00\u001b[0m\n",
      "\u001b[?25hInstalling collected packages: zeno_etl_libs\n",
      "Successfully installed zeno_etl_libs-1.0.31\n",
      "\u001b[33mWARNING: Running pip as the 'root' user can result in broken permissions and conflicting behaviour with the system package manager. It is recommended to use a virtual environment instead: https://pip.pypa.io/warnings/venv\u001b[0m\u001b[33m\n",
      "\u001b[0m"
     ]
    }
   ],
   "source": [
    "!pip install zeno_etl_libs==1.0.31"
   ]
  },
  {
   "cell_type": "code",
   "execution_count": 2,
   "id": "6c6b3fc5-710a-42d9-ba96-bb98a09425bf",
   "metadata": {
    "execution": {
     "iopub.execute_input": "2022-05-25T08:54:47.115018Z",
     "iopub.status.busy": "2022-05-25T08:54:47.114712Z",
     "iopub.status.idle": "2022-05-25T08:54:48.423971Z",
     "shell.execute_reply": "2022-05-25T08:54:48.423118Z"
    },
    "papermill": {
     "duration": 1.314071,
     "end_time": "2022-05-25T08:54:48.425829",
     "exception": false,
     "start_time": "2022-05-25T08:54:47.111758",
     "status": "completed"
    },
    "tags": []
   },
   "outputs": [],
   "source": [
    "# -*- coding: utf-8 -*-\n",
    "\"\"\"\n",
    "Created on Mon Apr 21 21:45:59 2022\n",
    "\n",
    "@author: vivek.sidagam@zeno.health\n",
    "\n",
    "@Purpose: To generate forecast and replenishment figures for Warehouse\n",
    "\"\"\"\n",
    "\n",
    "import os\n",
    "import sys\n",
    "import pandas as pd\n",
    "from datetime import datetime, timedelta\n",
    "from scipy.stats import norm\n",
    "from dateutil.tz import gettz\n",
    "\n",
    "sys.path.append('../../../..')\n",
    "\n",
    "from zeno_etl_libs.db.db import DB\n",
    "from zeno_etl_libs.helper.aws.s3 import S3\n",
    "from zeno_etl_libs.logger import get_logger\n",
    "from zeno_etl_libs.helper.email.email import Email\n",
    "\n",
    "from zeno_etl_libs.utils.warehouse.data_prep.wh_data_prep import wh_data_prep\n",
    "from zeno_etl_libs.utils.warehouse.forecast.forecast_main import wh_forecast\n",
    "from zeno_etl_libs.utils.warehouse.safety_stock.wh_safety_stock import \\\n",
    "    wh_safety_stock_calc\n",
    "from zeno_etl_libs.utils.ipc.doid_update_ss import doid_update\n",
    "from zeno_etl_libs.helper.parameter.job_parameter import parameter"
   ]
  },
  {
   "cell_type": "code",
   "execution_count": 3,
   "id": "53b21d8f-c57e-42e6-987e-6100145def82",
   "metadata": {
    "execution": {
     "iopub.execute_input": "2022-05-25T08:54:48.431265Z",
     "iopub.status.busy": "2022-05-25T08:54:48.430868Z",
     "iopub.status.idle": "2022-05-25T08:54:48.434088Z",
     "shell.execute_reply": "2022-05-25T08:54:48.433533Z"
    },
    "papermill": {
     "duration": 0.007288,
     "end_time": "2022-05-25T08:54:48.435434",
     "exception": false,
     "start_time": "2022-05-25T08:54:48.428146",
     "status": "completed"
    },
    "tags": [
     "parameters"
    ]
   },
   "outputs": [],
   "source": [
    "# params from glue\n",
    "env = 'dev'\n",
    "email_to = 'vivek.sidagam@zeno.health'\n",
    "debug_mode = 'N'"
   ]
  },
  {
   "cell_type": "code",
   "execution_count": 4,
   "id": "66fd4ca9",
   "metadata": {
    "execution": {
     "iopub.execute_input": "2022-05-25T08:54:48.440237Z",
     "iopub.status.busy": "2022-05-25T08:54:48.439965Z",
     "iopub.status.idle": "2022-05-25T08:54:48.442900Z",
     "shell.execute_reply": "2022-05-25T08:54:48.442387Z"
    },
    "papermill": {
     "duration": 0.006879,
     "end_time": "2022-05-25T08:54:48.444223",
     "exception": false,
     "start_time": "2022-05-25T08:54:48.437344",
     "status": "completed"
    },
    "tags": [
     "injected-parameters"
    ]
   },
   "outputs": [],
   "source": [
    "# Parameters\n",
    "env = \"prod\"\n",
    "email_to = \"vivek.sidagam@zeno.health\"\n",
    "debug_mode = \"Y\"\n"
   ]
  },
  {
   "cell_type": "code",
   "execution_count": 5,
   "id": "c5fcc56d-b3f1-49bd-bec2-2004cb503fde",
   "metadata": {
    "execution": {
     "iopub.execute_input": "2022-05-25T08:54:48.449203Z",
     "iopub.status.busy": "2022-05-25T08:54:48.448756Z",
     "iopub.status.idle": "2022-05-25T08:54:48.625546Z",
     "shell.execute_reply": "2022-05-25T08:54:48.624871Z"
    },
    "papermill": {
     "duration": 0.180945,
     "end_time": "2022-05-25T08:54:48.627075",
     "exception": false,
     "start_time": "2022-05-25T08:54:48.446130",
     "status": "completed"
    },
    "tags": []
   },
   "outputs": [
    {
     "name": "stdout",
     "output_type": "stream",
     "text": [
      "connecting with secrets manager for getting secrets\n"
     ]
    }
   ],
   "source": [
    "# runtime variables\n",
    "os.environ['env'] = env\n",
    "job_params = parameter.get_params(job_id=4)\n",
    "ss_runtime_var = {'lead_time_mean': job_params['lead_time_mean'],\n",
    "                  'lead_time_std': job_params['lead_time_std'],\n",
    "                  'service_level': job_params['service_level'],\n",
    "                  'ordering_freq': job_params['ordering_freq'],\n",
    "                  'max_review_period': job_params['max_review_period'],\n",
    "                  'z': round(norm.ppf(job_params['service_level']), 2),\n",
    "                  'for_next_month': job_params['for_next_month'],\n",
    "                  'cap_ss_days': job_params['cap_ss_days']}\n",
    "err_msg = ''\n",
    "df_uri = ''\n",
    "schema = job_params['schema']\n",
    "reset = job_params['reset']\n",
    "wh_id = job_params['wh_id']\n",
    "nso_history_days = job_params['nso_history_days']\n",
    "status = False"
   ]
  },
  {
   "cell_type": "code",
   "execution_count": 6,
   "id": "af9d65ed-4a8d-444d-8007-49c4c4ab67e0",
   "metadata": {
    "execution": {
     "iopub.execute_input": "2022-05-25T08:54:48.632434Z",
     "iopub.status.busy": "2022-05-25T08:54:48.632156Z",
     "iopub.status.idle": "2022-05-25T08:54:48.638633Z",
     "shell.execute_reply": "2022-05-25T08:54:48.638100Z"
    },
    "papermill": {
     "duration": 0.010751,
     "end_time": "2022-05-25T08:54:48.639950",
     "exception": false,
     "start_time": "2022-05-25T08:54:48.629199",
     "status": "completed"
    },
    "tags": []
   },
   "outputs": [
    {
     "name": "stdout",
     "output_type": "stream",
     "text": [
      "2022-05-25 08:54:48,635 - root - INFO - Scripts begins\n",
      "2022-05-25 08:54:48,636 - root - INFO - Run time variables --> {'lead_time_mean': 4, 'lead_time_std': 2, 'service_level': 0.95, 'ordering_freq': 4, 'max_review_period': 4, 'z': 1.64, 'for_next_month': 'Y', 'cap_ss_days': 15}\n"
     ]
    }
   ],
   "source": [
    "logger = get_logger()\n",
    "logger.info(\"Scripts begins\")\n",
    "logger.info(\"Run time variables --> \" + str(ss_runtime_var))\n",
    "\n",
    "# getting run date for the script\n",
    "reset_date = str(datetime.now(tz=gettz('Asia/Kolkata')).date())\n",
    "current_month_date = (\n",
    "        datetime.now(tz=gettz('Asia/Kolkata')).date() -\n",
    "        timedelta(days=datetime.now(tz=gettz('Asia/Kolkata')).day - 1))\n",
    "\n",
    "if ss_runtime_var['for_next_month'] == 'Y':\n",
    "    forecast_date = str(\n",
    "        datetime(current_month_date.year +\n",
    "                 int(current_month_date.month / 12),\n",
    "                 ((current_month_date.month % 12) + 1), 1).date())\n",
    "else:\n",
    "    forecast_date = str(current_month_date)"
   ]
  },
  {
   "cell_type": "code",
   "execution_count": 7,
   "id": "2eaca412-1551-4464-9377-673e8ac6f994",
   "metadata": {
    "execution": {
     "iopub.execute_input": "2022-05-25T08:54:48.645373Z",
     "iopub.status.busy": "2022-05-25T08:54:48.645082Z",
     "iopub.status.idle": "2022-05-25T08:55:35.027492Z",
     "shell.execute_reply": "2022-05-25T08:55:35.026902Z"
    },
    "papermill": {
     "duration": 46.386799,
     "end_time": "2022-05-25T08:55:35.028960",
     "exception": false,
     "start_time": "2022-05-25T08:54:48.642161",
     "status": "completed"
    },
    "tags": []
   },
   "outputs": [
    {
     "name": "stdout",
     "output_type": "stream",
     "text": [
      "2022-05-25 08:54:48,682 - root - INFO - reading input file to get expected_nso\n",
      "2022-05-25 08:54:48,694 - root - INFO - expected_nso parameter read\n",
      "Date range 2019-04-01 2022-05-25\n",
      "2022-05-24\n",
      "2022-05-24\n",
      "11\n",
      "Distinct drug count 11\n",
      "No of days 1150\n",
      "removing dates for 2022.0 5.0 21.0\n",
      "Distinct no of drugs 11\n",
      "Distinct dates 1148\n",
      "DF shape 12628\n"
     ]
    },
    {
     "name": "stderr",
     "output_type": "stream",
     "text": [
      "/usr/local/lib/python3.7/site-packages/zeno_etl_libs/utils/ipc/data_prep.py:136: SettingWithCopyWarning: \n",
      "A value is trying to be set on a copy of a slice from a DataFrame.\n",
      "Try using .loc[row_indexer,col_indexer] = value instead\n",
      "\n",
      "See the caveats in the documentation: https://pandas.pydata.org/pandas-docs/stable/user_guide/indexing.html#returning-a-view-versus-a-copy\n",
      "  lambda x: x['date'] - datetime.timedelta(x['day_of_week']), axis=1)\n",
      "/usr/local/lib/python3.7/site-packages/zeno_etl_libs/utils/ipc/data_prep.py:138: SettingWithCopyWarning: \n",
      "A value is trying to be set on a copy of a slice from a DataFrame.\n",
      "Try using .loc[row_indexer,col_indexer] = value instead\n",
      "\n",
      "See the caveats in the documentation: https://pandas.pydata.org/pandas-docs/stable/user_guide/indexing.html#returning-a-view-versus-a-copy\n",
      "  lambda x: x['date'] - datetime.timedelta(x['date'].day - 1), axis=1)\n",
      "/usr/local/lib/python3.7/site-packages/zeno_etl_libs/utils/ipc/data_prep.py:153: SettingWithCopyWarning: \n",
      "A value is trying to be set on a copy of a slice from a DataFrame.\n",
      "Try using .loc[row_indexer,col_indexer] = value instead\n",
      "\n",
      "See the caveats in the documentation: https://pandas.pydata.org/pandas-docs/stable/user_guide/indexing.html#returning-a-view-versus-a-copy\n",
      "  cal_sales_monthly['key'] = 1\n"
     ]
    },
    {
     "name": "stdout",
     "output_type": "stream",
     "text": [
      "2017-05-13\n",
      "11\n",
      "11\n",
      "163   2022-05-16\n",
      "162   2022-05-09\n",
      "161   2022-05-02\n",
      "160   2022-04-25\n",
      "Name: date, dtype: datetime64[ns]\n",
      "11\n",
      "11\n",
      "2022-05-25 08:55:02,392 - root - INFO - # of Drugs in WH list3407\n",
      "2022-05-25 08:55:02,394 - root - INFO - 838\n",
      "2022-05-25 08:55:02,395 - root - INFO - 304\n",
      "2022-05-25 08:55:29,226 - root - INFO - Drug in SKU list but with no historyEmpty DataFrame\n",
      "Columns: [drug_id, drug_name, type, creation_date, last_sale_date]\n",
      "Index: []\n",
      "2022-05-25 08:55:29,227 - root - INFO - Total missing sales0\n",
      "2022-05-25 08:55:29,228 - root - INFO - Removing unnecessary drug types0\n",
      "2022-05-25 08:55:29,229 - root - INFO - Removing drugs with no sales in last 6 months0\n",
      "2022-05-25 08:55:29,230 - root - INFO - Missing drug listEmpty DataFrame\n",
      "Columns: [drug_id, drug_name, type, creation_date, last_sale_date]\n",
      "Index: []\n",
      "2022-05-25 08:55:34,898 - root - INFO - Total Drugs8\n",
      "2022-05-25 08:55:34,900 - root - INFO - History >= 12 months8\n",
      "2022-05-25 08:55:34,903 - root - INFO - History 3-11 months0\n",
      "2022-05-25 08:55:34,904 - root - INFO - History < 3 months0\n",
      "2022-05-25 08:55:35,019 - root - INFO - \n",
      "    Bucket H1 12+ months history - 8,\n",
      "    Bucket H2 6-11 months history - 0,\n",
      "    Bucket H2- 3-5 months history - 0,\n",
      "    Bucket H3 <3 months history - 0\n",
      "2022-05-25 08:55:35,022 - root - INFO - Drugs for training8\n",
      "2022-05-25 08:55:35,024 - root - INFO - Can only use .dt accessor with datetimelike values\n"
     ]
    },
    {
     "name": "stderr",
     "output_type": "stream",
     "text": [
      "/usr/local/lib/python3.7/site-packages/ipykernel_launcher.py:59: FutureWarning: casting datetime64[ns] values to int64 with .astype(...) is deprecated and will raise in a future version. Use .view(...) instead.\n"
     ]
    }
   ],
   "source": [
    "try:\n",
    "    rs_db = DB()\n",
    "    rs_db.open_connection()\n",
    "    logger.info('reading input file to get expected_nso')\n",
    "    params_table_query = \"\"\"\n",
    "            select\n",
    "                \"month-begin-dt\" as month_begin_dt,\n",
    "                value as expected_nso\n",
    "            from\n",
    "                \"prod2-generico\".\"wh-forecast-repln-input\"\n",
    "            where\n",
    "                \"param-name\" = 'expected_nso'\n",
    "        \"\"\"\n",
    "    params_table = rs_db.get_df(params_table_query)\n",
    "    logger.info('expected_nso parameter read')\n",
    "    params_table = params_table.apply(pd.to_numeric, errors='ignore')\n",
    "\n",
    "    params_table['month_begin_dt'] = params_table['month_begin_dt'].astype(str)\n",
    "\n",
    "    try:\n",
    "        expected_nso = int(params_table[\n",
    "                               params_table[\n",
    "                                   'month_begin_dt'] == forecast_date][\n",
    "                               'expected_nso'])\n",
    "    except Exception as error:\n",
    "        expected_nso = 0\n",
    "\n",
    "    store_query = '''\n",
    "        select\n",
    "            \"id\",\n",
    "            name,\n",
    "            \"opened-at\" as opened_at\n",
    "        from\n",
    "            \"prod2-generico\".stores\n",
    "        where\n",
    "            \"name\" <> 'Zippin Central'\n",
    "            and \"is-active\" = 1\n",
    "            and \"opened-at\" != '0101-01-01 00:00:00'\n",
    "            and id not in (92, 52)\n",
    "    '''\n",
    "    stores = rs_db.get_df(store_query)\n",
    "    store_id_list = list(stores['id'])\n",
    "\n",
    "    new_drug_entries = pd.DataFrame()\n",
    "    missed_entries = pd.DataFrame()\n",
    "\n",
    "    # CONSIDERING DRUG TYPES FOR DATA LOAD\n",
    "    type_list = rs_db.get_df(\n",
    "        'select distinct type from \"prod2-generico\".drugs')\n",
    "    type_list = tuple(type_list[\n",
    "                          ~type_list.type.isin(\n",
    "                              ['', 'banned', 'discontinued-products'])][\n",
    "                          'type'])\n",
    "\n",
    "    # RUNNING DATA PREPARATION\n",
    "    drug_sales_monthly, wh_drug_list, drug_history = wh_data_prep(\n",
    "        store_id_list, current_month_date, reset_date, type_list, rs_db, logger,\n",
    "        ss_runtime_var, schema)\n",
    "    drug_sales_monthly = drug_sales_monthly.astype(int, errors='ignore')\n",
    "    drug_history = drug_history.astype(int, errors='ignore')\n",
    "    drug_sales_monthly['reset_date'] = reset_date\n",
    "\n",
    "    # FORECASTING\n",
    "    train, train_error, predict, wh_train, wh_train_error, wh_predict = wh_forecast(\n",
    "        drug_sales_monthly, wh_drug_list, drug_history, logger)\n",
    "\n",
    "    train['wh_id'] = wh_id\n",
    "    train_error['wh_id'] = wh_id\n",
    "    predict['wh_id'] = wh_id\n",
    "    wh_train['wh_id'] = wh_id\n",
    "    wh_train_error['wh_id'] = wh_id\n",
    "    wh_predict['wh_id'] = wh_id\n",
    "    train['forecast_date'] = forecast_date\n",
    "    train_error['forecast_date'] = forecast_date\n",
    "    predict['forecast_date'] = forecast_date\n",
    "    wh_train['forecast_date'] = forecast_date\n",
    "    wh_train_error['forecast_date'] = forecast_date\n",
    "    wh_predict['forecast_date'] = forecast_date\n",
    "\n",
    "    # SAFETY STOCK CALCULATIONS\n",
    "    last_actual_month = drug_sales_monthly['month_begin_dt'].max()\n",
    "    last_month_sales = drug_sales_monthly[\n",
    "        drug_sales_monthly['month_begin_dt'] == \\\n",
    "        str(last_actual_month.strftime(\"%Y-%m-%d %H:%M:%S\"))\n",
    "        ]\n",
    "    last_month_sales = last_month_sales[['drug_id', 'net_sales_quantity']]\n",
    "    last_month_sales.rename(\n",
    "        columns={'net_sales_quantity': 'last_month_sales'}, inplace=True)\n",
    "    wh_safety_stock_df = wh_safety_stock_calc(\n",
    "        ss_runtime_var, wh_drug_list, wh_predict, last_month_sales,\n",
    "        logger, expected_nso, nso_history_days, rs_db)\n",
    "    wh_safety_stock_df['wh_id'] = wh_id\n",
    "    wh_safety_stock_df['reset_date'] = str(reset_date)\n",
    "    rs_db.close_connection()\n",
    "\n",
    "    if debug_mode == 'N' and reset == 'Y':\n",
    "        # WRITING TO POSTGRES\n",
    "        s3 = S3()\n",
    "        rs_db_write = DB()\n",
    "        rs_db_write.open_connection()\n",
    "\n",
    "        created_at = datetime.now(tz=gettz('Asia/Kolkata')).strftime(\"%Y-%m-%d %H:%M:%S\")\n",
    "\n",
    "        # drug_sales_monthly\n",
    "        drug_sales_monthly['created-at'] = created_at\n",
    "        drug_sales_monthly['created-by'] = 'etl-automation'\n",
    "        drug_sales_monthly['updated-at'] = created_at\n",
    "        drug_sales_monthly['updated-by'] = 'etl-automation'\n",
    "        s3.write_df_to_db(df=drug_sales_monthly, table_name='wh-drug-sales-monthly', db=rs_db_write,\n",
    "                          schema='prod2-generico')\n",
    "\n",
    "        # train\n",
    "        train['type'] = 'separate'\n",
    "        train['created-at'] = created_at\n",
    "        train['created-by'] = 'etl-automation'\n",
    "        train['updated-at'] = created_at\n",
    "        train['updated-by'] = 'etl-automation'\n",
    "        s3.write_df_to_db(df=train, table_name='wh-train', db=rs_db_write, schema='prod2-generico')\n",
    "\n",
    "        # wh_train\n",
    "        wh_train['type'] = 'ensemble'\n",
    "        wh_train['created-at'] = created_at\n",
    "        wh_train['created-by'] = 'etl-automation'\n",
    "        wh_train['updated-at'] = created_at\n",
    "        wh_train['updated-by'] = 'etl-automation'\n",
    "        s3.write_df_to_db(df=wh_train, table_name='wh-train', db=rs_db_write, schema='prod2-generico')\n",
    "\n",
    "        # train_error\n",
    "        train_error['type'] = 'separate'\n",
    "        train_error['created-at'] = created_at\n",
    "        train_error['created-by'] = 'etl-automation'\n",
    "        train_error['updated-at'] = created_at\n",
    "        train_error['updated-by'] = 'etl-automation'\n",
    "        s3.write_df_to_db(df=train_error, table_name='wh-train-error', db=rs_db_write, schema='prod2-generico')\n",
    "\n",
    "        # wh_train_error\n",
    "        wh_train_error['type'] = 'ensemble'\n",
    "        wh_train_error['created-at'] = created_at\n",
    "        wh_train_error['created-by'] = 'etl-automation'\n",
    "        wh_train_error['updated-at'] = created_at\n",
    "        wh_train_error['updated-by'] = 'etl-automation'\n",
    "        s3.write_df_to_db(df=wh_train_error[train_error.columns], table_name='wh-train-error', db=rs_db_write,\n",
    "                          schema='prod2-generico')\n",
    "\n",
    "        # predict\n",
    "        predict['type'] = 'separate'\n",
    "        predict['created-at'] = created_at\n",
    "        predict['created-by'] = 'etl-automation'\n",
    "        predict['updated-at'] = created_at\n",
    "        predict['updated-by'] = 'etl-automation'\n",
    "        s3.write_df_to_db(df=predict, table_name='wh-predict', db=rs_db_write, schema='prod2-generico')\n",
    "\n",
    "        # wh_predict\n",
    "        wh_predict['type'] = 'ensemble'\n",
    "        wh_predict['created-at'] = created_at\n",
    "        wh_predict['created-by'] = 'etl-automation'\n",
    "        wh_predict['updated-at'] = created_at\n",
    "        wh_predict['updated-by'] = 'etl-automation'\n",
    "        s3.write_df_to_db(df=wh_predict, table_name='wh-predict', db=rs_db_write, schema='prod2-generico')\n",
    "\n",
    "        # wh_safety_stock_df\n",
    "        wh_safety_stock_df['ptr'] = ''\n",
    "        wh_safety_stock_df['fcst'] = wh_safety_stock_df['fcst'].astype(int)\n",
    "        wh_safety_stock_df['safety_stock'] = wh_safety_stock_df['safety_stock'].fillna(0).astype(int)\n",
    "        wh_safety_stock_df['month'] = wh_safety_stock_df['month'].astype(int)\n",
    "        wh_safety_stock_df['year'] = wh_safety_stock_df['year'].astype(int)\n",
    "        wh_safety_stock_df['ss_wo_cap'] = wh_safety_stock_df['ss_wo_cap'].astype(int)\n",
    "        wh_safety_stock_df['reorder_point'] = wh_safety_stock_df['reorder_point'].astype(int)\n",
    "        wh_safety_stock_df['order_upto_point'] = wh_safety_stock_df['order_upto_point'].astype(int)\n",
    "        wh_safety_stock_df['shelf_min'] = wh_safety_stock_df['shelf_min'].fillna(0).astype(int)\n",
    "        wh_safety_stock_df['shelf_max'] = wh_safety_stock_df['shelf_max'].fillna(0).astype(int)\n",
    "        wh_safety_stock_df['rop_without_nso'] = wh_safety_stock_df['rop_without_nso'].astype(int)\n",
    "        wh_safety_stock_df['oup_without_nso'] = wh_safety_stock_df['oup_without_nso'].astype(int)\n",
    "        wh_safety_stock_df['created_at'] = created_at\n",
    "        wh_safety_stock_df['created_by'] = 'etl-automation'\n",
    "        wh_safety_stock_df['updated_at'] = created_at\n",
    "        wh_safety_stock_df['updated_by'] = 'etl-automation'\n",
    "        columns = [c.replace('-', '_') for c in ['drug-id', 'drug-name', 'type', 'category', 'company', 'ptr', 'bucket',\n",
    "                                                 'history-bucket', 'fcst', 'final-fcst', 'forecast-type', 'model',\n",
    "                                                 'month', 'month-begin-dt', 'std', 'year', 'wh-id', 'forecast-date',\n",
    "                                                 'lead-time-mean', 'lead-time-std', 'max-review-period',\n",
    "                                                 'ordering-freq',\n",
    "                                                 'service-level', 'z-value', 'demand-daily', 'demand-daily-deviation',\n",
    "                                                 'safety-stock', 'launch-stock-per-store', 'expected-nso',\n",
    "                                                 'rop-without-nso', 'reorder-point', 'oup-without-nso',\n",
    "                                                 'order-upto-point', 'shelf-min', 'shelf-max', 'last-month-sales',\n",
    "                                                 'safety-stock-days',\n",
    "                                                 'reorder-point-days', 'order-upto-days', 'reset-date','created-at',\n",
    "                                                 'created-by', 'updated-at', 'updated-by', 'cap_ss_days', 'ss_wo_cap']]\n",
    "        wh_safety_stock_df = wh_safety_stock_df[columns]\n",
    "        s3.write_df_to_db(df=wh_safety_stock_df, table_name='wh-safety-stock', db=rs_db_write,\n",
    "                          schema='prod2-generico')\n",
    "\n",
    "        # UPLOADING SAFETY STOCK NUMBERS IN DRUG-ORDER-INFO\n",
    "        ss_data_upload = wh_safety_stock_df.query('order_upto_point > 0')[\n",
    "            ['wh_id', 'drug_id', 'safety_stock', 'reorder_point',\n",
    "             'order_upto_point']]\n",
    "        ss_data_upload.columns = [\n",
    "            'store_id', 'drug_id', 'corr_min', 'corr_ss', 'corr_max']\n",
    "        new_drug_entries, missed_entries = doid_update(\n",
    "            ss_data_upload, type_list, rs_db_write, schema, logger)\n",
    "        logger.info('DOI updated as per request')\n",
    "        logger.info('missed entries --> ' + str(missed_entries))\n",
    "        logger.info('new_drug_entries entries --> ' + str(new_drug_entries))\n",
    "    else:\n",
    "        logger.info('DOID did not update as per request')\n",
    "\n",
    "    rs_db_write.close_connection()\n",
    "    df_uri = s3.save_df_to_s3(df=wh_safety_stock_df,\n",
    "                              file_name='wh_safety_stock_{date}.csv'.format(date=str(forecast_date)))\n",
    "    status = True\n",
    "\n",
    "except Exception as error:\n",
    "    err_msg = str(error)\n",
    "    logger.info(str(error))"
   ]
  },
  {
   "cell_type": "code",
   "execution_count": 8,
   "id": "a2857cfc-3e95-4522-a3bf-0416f9e8f6f1",
   "metadata": {
    "execution": {
     "iopub.execute_input": "2022-05-25T08:55:35.036438Z",
     "iopub.status.busy": "2022-05-25T08:55:35.036155Z",
     "iopub.status.idle": "2022-05-25T08:55:35.142646Z",
     "shell.execute_reply": "2022-05-25T08:55:35.142054Z"
    },
    "papermill": {
     "duration": 0.111882,
     "end_time": "2022-05-25T08:55:35.144141",
     "exception": false,
     "start_time": "2022-05-25T08:55:35.032259",
     "status": "completed"
    },
    "tags": []
   },
   "outputs": [
    {
     "name": "stdout",
     "output_type": "stream",
     "text": [
      "2022-05-25 08:55:35,139 - root - INFO - Email sending successful: {\"status\":100,\"message\":\"Successfully called back !\",\"is_error\":false,\"data\":\"Email sending...\"}\n",
      "2022-05-25 08:55:35,139 - root - INFO - Email sending successful: {\"status\":100,\"message\":\"Successfully called back !\",\"is_error\":false,\"data\":\"Email sending...\"}\n"
     ]
    }
   ],
   "source": [
    "email = Email()\n",
    "if status:\n",
    "    result = 'Success'\n",
    "    email.send_email_file(subject=f\"Warehouse forecast & replenishment ({env}): {result}\",\n",
    "                          mail_body=f\"Run time: {datetime.now()} {err_msg}\",\n",
    "                          to_emails=email_to, file_uris=[df_uri])\n",
    "else:\n",
    "    result = 'Failed'\n",
    "    email.send_email_file(subject=f\"Warehouse forecast & replenishment ({env}): {result}\",\n",
    "                          mail_body=f\"Run time: {datetime.now()} {err_msg}\",\n",
    "                          to_emails=email_to, file_uris=[])"
   ]
  }
 ],
 "metadata": {
  "kernelspec": {
   "display_name": "Python 3 (ipykernel)",
   "language": "python",
   "name": "python3"
  },
  "language_info": {
   "codemirror_mode": {
    "name": "ipython",
    "version": 3
   },
   "file_extension": ".py",
   "mimetype": "text/x-python",
   "name": "python",
   "nbconvert_exporter": "python",
   "pygments_lexer": "ipython3",
   "version": "3.7.5"
  },
  "papermill": {
   "default_parameters": {},
   "duration": 51.124238,
   "end_time": "2022-05-25T08:55:35.565337",
   "environment_variables": {},
   "exception": null,
   "input_path": "notebook-2022-05-25-08-50-43.ipynb",
   "output_path": "/opt/ml/processing/output/wh_forecast_reset-2022-05-25-08-50-44.ipynb",
   "parameters": {
    "debug_mode": "Y",
    "email_to": "vivek.sidagam@zeno.health",
    "env": "prod"
   },
   "start_time": "2022-05-25T08:54:44.441099",
   "version": "2.3.4"
  }
 },
 "nbformat": 4,
 "nbformat_minor": 5
}
