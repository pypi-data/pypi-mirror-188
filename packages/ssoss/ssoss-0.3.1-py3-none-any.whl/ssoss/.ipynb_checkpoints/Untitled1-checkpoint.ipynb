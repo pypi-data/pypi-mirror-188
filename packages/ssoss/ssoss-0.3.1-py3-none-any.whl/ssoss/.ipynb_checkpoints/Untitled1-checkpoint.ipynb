{
 "cells": [
  {
   "cell_type": "code",
   "execution_count": 6,
   "id": "50e2c03d",
   "metadata": {},
   "outputs": [],
   "source": [
    "from ProcessRoadObjects import *\n",
    "#from DynamicRoadObject import *\n",
    "#from DynamicRoadObject import Vehicle\n",
    "#from DynamicObjectDriver import Driver\n",
    "from ProcessVideo import *"
   ]
  },
  {
   "cell_type": "code",
   "execution_count": null,
   "id": "593c0e38",
   "metadata": {},
   "outputs": [],
   "source": []
  }
 ],
 "metadata": {
  "kernelspec": {
   "display_name": "venv",
   "language": "python",
   "name": "venv"
  },
  "language_info": {
   "codemirror_mode": {
    "name": "ipython",
    "version": 3
   },
   "file_extension": ".py",
   "mimetype": "text/x-python",
   "name": "python",
   "nbconvert_exporter": "python",
   "pygments_lexer": "ipython3",
   "version": "3.8.9"
  }
 },
 "nbformat": 4,
 "nbformat_minor": 5
}
