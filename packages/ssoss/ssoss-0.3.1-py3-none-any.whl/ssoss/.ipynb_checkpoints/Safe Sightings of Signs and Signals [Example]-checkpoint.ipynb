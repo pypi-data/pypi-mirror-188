{
 "cells": [
  {
   "cell_type": "code",
   "execution_count": 1,
   "id": "ad4ed9d9",
   "metadata": {},
   "outputs": [],
   "source": [
    "import os, sys, math\n",
    "from datetime import timedelta # only needed if datetime is used, might be able to be removed\n",
    "from pathlib import Path, PurePath\n",
    "\n",
    "\n",
    "import pandas as pd\n",
    "from pandas import DataFrame\n",
    "# SOS Package imports\n",
    "from process_road_objects import * # !{sys.executable} -m pip install PACKAGE_NAME\n",
    "import dro\n",
    "import dod as Driver\n",
    "from dro import Vehicle\n",
    "#from DynamicObjectDriver import Driver\n",
    "from ProcessVideo import *\n"
   ]
  },
  {
   "cell_type": "markdown",
   "id": "d9307099",
   "metadata": {},
   "source": [
    "### File Path Setup and GPX"
   ]
  },
  {
   "cell_type": "code",
   "execution_count": 3,
   "id": "8d104e0a",
   "metadata": {
    "scrolled": false
   },
   "outputs": [
    {
     "name": "stdout",
     "output_type": "stream",
     "text": [
      "Processed 101 lines of CSV file for a total of 101 intersections.\n",
      "Using GPX file: in/gpx_video/P-CA.1_NB_run_2022-09-08_07-23-47.gpx\n",
      "Processed 21 points of GPX file.\n"
     ]
    },
    {
     "name": "stderr",
     "output_type": "stream",
     "text": [
      "100%|███████████████████████████████████████████████████████████████████| 21/21 [00:00<00:00, 74.33it/s]"
     ]
    },
    {
     "name": "stdout",
     "output_type": "stream",
     "text": [
      "59.0-SD:270/382.99831918713073-------t:1662646879.995-----t_countdown:2.8396255728704194/3.2168149882630095/2.8344373817819175---\n",
      "27.0-SD:270/470.6309700863983-------t:1662646891.842-----t_countdown:4.584122745504959/5.0581628940503425/4.730173715883785---\n",
      "26.0-SD:270/321.9407067018541-------t:1662646906.905-----t_countdown:1.128805405339733/0.8985576613220174/1.1269010518424025---\n",
      "25.0-SD:325/431.18467922453044-------t:1662646919.99-----t_countdown:2.325909135664153/3.3435294799907687/2.3551499487079273---\n",
      "24.0-SD:325/685.4330361871398-------t:1662646931.874-----t_countdown:7.832022387557923/7.1564301210963/6.775481855742178---\n",
      "23.0-SD:325/389.7006547804845-------t:1662646966.849-----t_countdown:1.3160307182598312/2.4567218076882957/1.2545206016830124---\n",
      "2.0-SD:325/396.4944096071926-------t:1662646994.982-----t_countdown:1.7558177516471156/3.29909766622554/1.7060179431085416---\n",
      "3.0-SD:270/650.3727746852209-------t:1662647004.985-----t_countdown:60.102332104470825/60.102332104470825/0---\n",
      "100.0-SD:325/652.789060309306-------t:1662647004.985-----t_countdown:51.793630548942104/51.793630548942104/0---\n",
      "1.0-SD:215/700.273464055815-------t:1662647004.985-----t_countdown:76.67758798538115/76.67758798538115/0---\n",
      "22.0-SD:325/1062.1413644038778-------t:1662647004.985-----t_countdown:116.47498990433401/116.47498990433401/0---\n"
     ]
    },
    {
     "name": "stderr",
     "output_type": "stream",
     "text": [
      "\n"
     ]
    }
   ],
   "source": [
    "# Setup base directory files\n",
    "in_directory_base = PurePath(\"./in/\")\n",
    "out_directory_base = PurePath(\"./out/\")\n",
    "\n",
    "# Setup CSV Input File paths\n",
    "intersection_csv_file_name = \"WCIntersections-2022-05-28\"  # exclude .csv\n",
    "\n",
    "# Setup GPX files\n",
    "gpx_directory = PurePath(\"gpx_video/\")\n",
    "gpx_directory_path = in_directory_base / gpx_directory\n",
    "gpx_file_path = gpx_directory_path / gpx_filename\n",
    "# \"P-CA.1_NB_run_2022-09-08_07-23-47\"  # \"K1.2022-10-05_105104_Walnut_Creek\" P-YVR.3-EB-2022-09-01_07-31-27\n",
    "# P-CA.2_SB_run_2022-09-08_07-29-25\n",
    "# P-YVR.3-EB-2022-09-01_07-31-27\n",
    "gpx_filename = \"P-CA.1_NB_run_2022-09-08_07-23-47\" \n",
    "gpx_ver = \"1.1\"\n",
    "\n",
    "\n",
    "# Initilize DataFrames for Intersection\n",
    "process_ro = ProcessRoadObjects(in_directory_base, gpx_directory_path, out_directory_base)\n",
    "all_intersections = process_ro.load_intersection_csv(intersection_csv_file_name)\n",
    "gpx_df2 = process_ro.load_gpx_to_obj_df(gpx_filename, gpx_ver, use_pickle=False)\n",
    "\n",
    "\n",
    "sd_out = process_ro.intersection_sight_distance_timestamps()"
   ]
  },
  {
   "cell_type": "markdown",
   "id": "f2c2ab33",
   "metadata": {},
   "source": [
    "Which Frame in the video best cooresponds to a gpx point in the gpx track.\n",
    "\n",
    "look for a gpx point that is well situated with the markings on the ground to find that frame.\n",
    "\n",
    "Need that frame #, and which point in gpx file it cooresponds to.\n",
    "\n",
    "\n",
    "1662646906.90500"
   ]
  },
  {
   "cell_type": "markdown",
   "id": "15dd98ec",
   "metadata": {},
   "source": [
    "### Filter GPX to Locations of interest"
   ]
  },
  {
   "cell_type": "code",
   "execution_count": 4,
   "id": "d4011de3",
   "metadata": {
    "scrolled": false
   },
   "outputs": [
    {
     "ename": "NameError",
     "evalue": "name 'video_filename' is not defined",
     "output_type": "error",
     "traceback": [
      "\u001b[0;31m---------------------------------------------------------------------------\u001b[0m",
      "\u001b[0;31mNameError\u001b[0m                                 Traceback (most recent call last)",
      "Cell \u001b[0;32mIn [4], line 7\u001b[0m\n\u001b[1;32m      1\u001b[0m \u001b[38;5;66;03m#d = dod.Driver(itrsxn_df, gpx_df)\u001b[39;00m\n\u001b[1;32m      2\u001b[0m \n\u001b[1;32m      3\u001b[0m \n\u001b[1;32m      4\u001b[0m \n\u001b[1;32m      5\u001b[0m \u001b[38;5;66;03m# Setup video files\u001b[39;00m\n\u001b[1;32m      6\u001b[0m video_directory \u001b[38;5;241m=\u001b[39m gpx_directory\n\u001b[0;32m----> 7\u001b[0m video_file_path \u001b[38;5;241m=\u001b[39m in_directory_base \u001b[38;5;241m/\u001b[39m video_directory \u001b[38;5;241m/\u001b[39m video_filename\n\u001b[1;32m      8\u001b[0m \u001b[38;5;66;03m#video_directory_date = \"\"  # Necessary?\u001b[39;00m\n\u001b[1;32m      9\u001b[0m \u001b[38;5;66;03m# K1.IMG_0062.MOV\u001b[39;00m\n\u001b[1;32m     10\u001b[0m \u001b[38;5;66;03m# P-CA.1_CAL Before AM Run 1 & 2.MP4\u001b[39;00m\n\u001b[1;32m     11\u001b[0m \u001b[38;5;66;03m# P-YVR.3-Before AM EB Run 3.MP4\u001b[39;00m\n\u001b[1;32m     12\u001b[0m video_filename \u001b[38;5;241m=\u001b[39m \u001b[38;5;124m\"\u001b[39m\u001b[38;5;124mP-CA.1_CAL Before AM Run 1 & 2.MP4\u001b[39m\u001b[38;5;124m\"\u001b[39m\n",
      "\u001b[0;31mNameError\u001b[0m: name 'video_filename' is not defined"
     ]
    }
   ],
   "source": [
    "\n",
    "#d = dod.Driver(itrsxn_df, gpx_df)\n",
    "\n",
    "\n",
    "\n",
    "# Setup video files\n",
    "video_directory = gpx_directory\n",
    "\n",
    "#video_directory_date = \"\"  # Necessary?\n",
    "# K1.IMG_0062.MOV\n",
    "# P-CA.1_CAL Before AM Run 1 & 2.MP4\n",
    "# P-YVR.3-Before AM EB Run 3.MP4\n",
    "video_filename = \"P-CA.1_CAL Before AM Run 1 & 2.MP4\"\n",
    "video_file_path = in_directory_base / video_directory / video_filename\n",
    "\n",
    "# Initilize Video File\n",
    "video = ProcessVideo(video_file_path)\n",
    "video.sync(2107, \"2022-09-08T14:21:46.905Z\")\n",
    "#video.set_start_utc(1664993098.276) # Calculate time using Video Sync Process\n",
    "#TODO: write function to for: video.sync( timestamp, video_frame) to calculate start of video in utc.\n",
    "\n",
    "\n",
    "start_gpx_timestamp = process_ro.get_start_timestamp() \n",
    "start_video_timestamp = video.get_start_timestamp()\n",
    "\n",
    "# TODO: convert to method for quick summary. Start times pretty format, difference in hh:mm:ss, and travel time and length of video and video fps etc.\n",
    "print(f'GPX Start Time:{start_gpx_timestamp}, Video Start Time:{start_video_timestamp}, difference:{start_video_timestamp-start_gpx_timestamp}')  \n",
    "\n",
    "\n",
    "#processed_gpx_df = veh.drive_gpx_stop_bar(gpx_filename) # try false if pickle file don't work\n",
    "\n",
    "#veh.drive_gpx_stop_bar(gpx_directory, gpx_filename, out_directory_base)\n",
    "#sight_distance_events_df = veh.seek_sd(processed_gpx_df)\n",
    "#print(sight_distance_events_df)\n",
    "\n",
    "frames = []\n",
    "itrsxn_desc = []\n",
    "\n",
    "filenames, frames = video.create_pic_list_from_zip(sd_out)\n",
    "print(frames)\n",
    "#video.extract_frame(frames, itrsxn_desc)\n",
    "\n",
    "video.extract_frame(frames, filenames)\n"
   ]
  },
  {
   "cell_type": "code",
   "execution_count": null,
   "id": "97b7d194",
   "metadata": {},
   "outputs": [],
   "source": [
    "video.extract_frames_between(2, 5, \"P-CA.1\") #X seconds to Y seconds, make directory of video_file_name if not made\n",
    "#TODO: convert to SS:MM:HH, SS:MM:HH for start and end times"
   ]
  },
  {
   "cell_type": "code",
   "execution_count": null,
   "id": "f60d55ec",
   "metadata": {},
   "outputs": [],
   "source": [
    "# TODO: include video FPS, Frame Count, and Duration and when video starts before or after GPX in nice summary table.\n",
    "# use python package wih RICH or something else.\n",
    "#gpx_video_offset = start_video_utc - start_utc_time # >0 when gpx starts before video. Extract frames of video to estimate this value\n",
    "#print(f'video starts: {gpx_video_offset} seconds after the GPX file')\n",
    "\n",
    "frames = []\n",
    "itrsxn_desc = []\n",
    "print(list(sd_out))\n",
    "frames , itrsxn_desc = video.create_pic_list_from_zip(sd_out)\n",
    "video.extract_frame(frames, itrsxn_desc)\n",
    "\n",
    "\n",
    "#TODO setup loading screen for this.\n",
    "\n"
   ]
  },
  {
   "cell_type": "markdown",
   "id": "281e7544",
   "metadata": {},
   "source": [
    "## TODO's\n",
    "Frames/Out/approaching intersections_stopbar.csv file needs to append not overwrite\n",
    "\n",
    "\n",
    "HH:MM:SS\n",
    "\n",
    "and loading bar should be last frame of list, not total duration of video.\n",
    "\n",
    "picture(s). -saved text\n"
   ]
  }
 ],
 "metadata": {
  "kernelspec": {
   "display_name": "venv",
   "language": "python",
   "name": "venv"
  },
  "language_info": {
   "codemirror_mode": {
    "name": "ipython",
    "version": 3
   },
   "file_extension": ".py",
   "mimetype": "text/x-python",
   "name": "python",
   "nbconvert_exporter": "python",
   "pygments_lexer": "ipython3",
   "version": "3.8.9"
  }
 },
 "nbformat": 4,
 "nbformat_minor": 5
}
