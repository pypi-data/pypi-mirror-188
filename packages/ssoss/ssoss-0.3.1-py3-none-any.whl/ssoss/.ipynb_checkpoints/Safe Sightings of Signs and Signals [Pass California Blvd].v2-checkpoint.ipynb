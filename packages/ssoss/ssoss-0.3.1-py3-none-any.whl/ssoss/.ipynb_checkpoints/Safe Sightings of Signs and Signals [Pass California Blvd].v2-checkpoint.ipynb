{
 "cells": [
  {
   "cell_type": "code",
   "execution_count": null,
   "id": "1a333308",
   "metadata": {},
   "outputs": [],
   "source": [
    "!{sys.executable} -m pip install numpy\n",
    "\n",
    "!{sys.executable} -m pip install opencv-python"
   ]
  },
  {
   "cell_type": "code",
   "execution_count": null,
   "id": "8499b63e",
   "metadata": {},
   "outputs": [],
   "source": [
    "import cv2"
   ]
  },
  {
   "cell_type": "code",
   "execution_count": 1,
   "id": "ad4ed9d9",
   "metadata": {},
   "outputs": [],
   "source": [
    "\n",
    "from sos import *\n",
    "#from IPython.display import Image, display\n",
    "# !{sys.executable} -m pip install PACKAGE_NAME OR !pip3 install PACKAGE_NAME\n",
    "\n"
   ]
  },
  {
   "cell_type": "markdown",
   "id": "d9307099",
   "metadata": {},
   "source": [
    "### File Path Setup and GPX"
   ]
  },
  {
   "cell_type": "code",
   "execution_count": 2,
   "id": "8d104e0a",
   "metadata": {
    "scrolled": false
   },
   "outputs": [
    {
     "name": "stdout",
     "output_type": "stream",
     "text": [
      "Processed 101 lines of CSV file for a total of 101 intersections.\n",
      "Using GPX file: in/gpx_video/P-CA-run_2022-09-08_07-23-47.gpx\n",
      "Processed 21 points of GPX file.\n"
     ]
    },
    {
     "name": "stderr",
     "output_type": "stream",
     "text": [
      "100%|█████████████████████████████████████████| 21/21 [00:00<00:00, 75.97it/s]"
     ]
    },
    {
     "name": "stdout",
     "output_type": "stream",
     "text": [
      "\n",
      "        ----------------------------------------------------------------------\n",
      "                                      GPX SUMMARY\n",
      "        ----------------------------------------------------------------------\n",
      "        # GPX File:: in/in/gpx_video/P-CA-run_2022-09-08_07-23-47.gpx\n",
      "        # Using GPX version: 1.1\n",
      "        # Start time: 2022-09-08 07:21:13.302000\n",
      "        # End time:   2022-09-08 07:23:24.985000\n",
      "        # Total duration: 2:11.68 (MM:SS.ss)\n",
      "        # Total distance: 4569.25 feet\n",
      "        # Number of data points: 21\n",
      "        # Avg. Time Gap between data points: 6.27 Seconds\n",
      "        ----------------------------------------------------------------------\n",
      "        \n",
      "59.0-SD:270/382.99831918713073-------t:1662646879.995-----t_countdown:2.8344373817819175---\n",
      "27.0-SD:270/470.6309700863983-------t:1662646891.842-----t_countdown:4.730173715883785---\n",
      "26.0-SD:270/321.9407067018541-------t:1662646906.905-----t_countdown:1.1269010518424025---\n",
      "25.0-SD:325/431.18467922453044-------t:1662646919.99-----t_countdown:2.3551499487079273---\n",
      "24.0-SD:325/685.4330361871398-------t:1662646931.874-----t_countdown:6.775481855742178---\n",
      "23.0-SD:325/389.7006547804845-------t:1662646966.849-----t_countdown:1.2545206016830124---\n",
      "2.0-SD:325/396.4944096071926-------t:1662646994.982-----t_countdown:1.7060179431085416---\n",
      "3.0-SD:270/650.3727746852209-------t:1662647004.985-----t_countdown:60.102332104470825---\n",
      "100.0-SD:325/652.789060309306-------t:1662647004.985-----t_countdown:51.793630548942104---\n",
      "1.0-SD:215/700.273464055815-------t:1662647004.985-----t_countdown:76.67758798538115---\n",
      "22.0-SD:325/1062.1413644038778-------t:1662647004.985-----t_countdown:116.47498990433401---\n"
     ]
    },
    {
     "name": "stderr",
     "output_type": "stream",
     "text": [
      "\n"
     ]
    }
   ],
   "source": [
    "\n",
    "# \"P-CA.1_NB_run_2022-09-08_07-23-47\"  # \"K1.2022-10-05_105104_Walnut_Creek\" P-YVR.3-EB-2022-09-01_07-31-27\n",
    "# P-CA.2_SB_run_2022-09-08_07-29-25\n",
    "# P-YVR.3-EB-2022-09-01_07-31-27\n",
    "# P-YVR-EB_run_2022-09-17_16-16-05\n",
    "# I1.2022-09-07_094806_Walnut_Creek\n",
    "# K1.2022-10-05_105104_Walnut_Creek\n",
    "# P-YVR.2-WB-2022-09-01_07-17-54    - YVR WB - Best Run\n",
    "# P-CA-run_2022-09-08_07-23-47      - California NB\n",
    "# P-CA-run_2022-09-08_07-29-25      - California SB\n",
    "\n",
    "\n",
    "# Initilize DataFrames for Intersection\n",
    "process_ro = ProcessRoadObjects()\n",
    "\n",
    "# Setup CSV Input File paths\n",
    "intersection_csv_filename = \"WCIntersections-2022-05-28\"  # exclude .csv\n",
    "all_intersections = process_ro.load_intersection_csv(intersection_csv_filename)\n",
    "\n",
    "# Setup GPX files\n",
    "gpx_filename = \"P-CA-run_2022-09-08_07-23-47\" \n",
    "gpx_df2 = process_ro.load_gpx_to_obj_df(gpx_filename, use_pickle=False)\n",
    "\n",
    "sd_out = process_ro.intersection_sight_distance_timestamps()\n",
    "\n"
   ]
  },
  {
   "cell_type": "markdown",
   "id": "f2c2ab33",
   "metadata": {},
   "source": [
    "Which Frame in the video best cooresponds to a gpx point in the gpx track.\n",
    "\n",
    "look for a gpx point that is well situated with the markings on the ground to find that frame.\n",
    "\n",
    "Need that frame #, and which point in gpx file it cooresponds to.\n",
    "\n",
    "\n",
    "1662646906.90500"
   ]
  },
  {
   "cell_type": "markdown",
   "id": "15dd98ec",
   "metadata": {},
   "source": [
    "### Filter GPX to Locations of interest"
   ]
  },
  {
   "cell_type": "code",
   "execution_count": 3,
   "id": "c1ebdc62",
   "metadata": {},
   "outputs": [
    {
     "name": "stdout",
     "output_type": "stream",
     "text": [
      "\n",
      "                ======================================================================\n",
      "                                             VIDEO SUMMARY\n",
      "                ======================================================================\n",
      "                # Video File: in/gpx_video/P-CA.1_CAL Before AM Run 1 & 2.MP4\n",
      "                # Video File Size: 1.86 GB\n",
      "                # Resolution (w x h): 1920.0 x 1080.0 (2.1MP)\n",
      "                # Frames Per Second: 29.97002997002997\n",
      "                # Total Number of Frames: 31620.0\n",
      "                # Total Duration: 17:35.05 (MM:SS.ss)\n",
      "                # Start Time: 2022-09-08 07:20:36.109200\n",
      "                # End Time:   2022-09-08 07:38:11.163200\n",
      "                ======================================================================\n",
      "                \n",
      "[1400, 1812, 2155, 2584, 3073, 3955, 4812, 6613, 6862, 7359, 8551]\n"
     ]
    },
    {
     "name": "stderr",
     "output_type": "stream",
     "text": [
      "Frame Search:  17%|██▉              | 1447/8551 [00:04<00:20, 339.48 Frames/s]"
     ]
    },
    {
     "name": "stdout",
     "output_type": "stream",
     "text": [
      "PICTURE CAPTURED AT 1400: 59.0-California Blvd+Botelho Dr-270-1662646882.829, Saved 1 picture(s) of 11\n"
     ]
    },
    {
     "name": "stderr",
     "output_type": "stream",
     "text": [
      "Frame Search:  22%|███▋             | 1880/8551 [00:05<00:19, 342.79 Frames/s]"
     ]
    },
    {
     "name": "stdout",
     "output_type": "stream",
     "text": [
      "PICTURE CAPTURED AT 1812: 27.0-California Blvd+Olympic Bl-270-1662646896.572, Saved 2 picture(s) of 11\n"
     ]
    },
    {
     "name": "stderr",
     "output_type": "stream",
     "text": [
      "Frame Search:  26%|████▍            | 2201/8551 [00:06<00:19, 330.64 Frames/s]"
     ]
    },
    {
     "name": "stdout",
     "output_type": "stream",
     "text": [
      "PICTURE CAPTURED AT 2155: 26.0-California Blvd+Mt. Diablo Bl-270-1662646908.032, Saved 3 picture(s) of 11\n"
     ]
    },
    {
     "name": "stderr",
     "output_type": "stream",
     "text": [
      "Frame Search:  31%|█████▏           | 2632/8551 [00:07<00:17, 341.08 Frames/s]"
     ]
    },
    {
     "name": "stdout",
     "output_type": "stream",
     "text": [
      "PICTURE CAPTURED AT 2584: 25.0-California Blvd+Bonanza-325-1662646922.345, Saved 4 picture(s) of 11\n"
     ]
    },
    {
     "name": "stderr",
     "output_type": "stream",
     "text": [
      "Frame Search:  37%|██████▏          | 3134/8551 [00:09<00:15, 343.26 Frames/s]"
     ]
    },
    {
     "name": "stdout",
     "output_type": "stream",
     "text": [
      "PICTURE CAPTURED AT 3073: 24.0-California Blvd+Trinity-Civic Drive-325-1662646938.649, Saved 5 picture(s) of 11\n"
     ]
    },
    {
     "name": "stderr",
     "output_type": "stream",
     "text": [
      "Frame Search:  47%|███████▉         | 3995/8551 [00:11<00:13, 337.83 Frames/s]"
     ]
    },
    {
     "name": "stdout",
     "output_type": "stream",
     "text": [
      "PICTURE CAPTURED AT 3955: 23.0-California Blvd+La Cassie-325-1662646968.104, Saved 6 picture(s) of 11\n"
     ]
    },
    {
     "name": "stderr",
     "output_type": "stream",
     "text": [
      "Frame Search:  57%|█████████▋       | 4856/8551 [00:13<00:10, 340.43 Frames/s]"
     ]
    },
    {
     "name": "stdout",
     "output_type": "stream",
     "text": [
      "PICTURE CAPTURED AT 4812: 2.0-California Blvd+Ygnacio Valley Rd-325-1662646996.688, Saved 7 picture(s) of 11\n"
     ]
    },
    {
     "name": "stderr",
     "output_type": "stream",
     "text": [
      "Frame Search:  78%|█████████████▎   | 6682/8551 [00:19<00:05, 340.48 Frames/s]"
     ]
    },
    {
     "name": "stdout",
     "output_type": "stream",
     "text": [
      "PICTURE CAPTURED AT 6613: 100.0-California Blvd+BART Ped-325-1662647056.779, Saved 8 picture(s) of 11\n"
     ]
    },
    {
     "name": "stderr",
     "output_type": "stream",
     "text": [
      "Frame Search:  81%|█████████████▊   | 6933/8551 [00:19<00:04, 341.60 Frames/s]"
     ]
    },
    {
     "name": "stdout",
     "output_type": "stream",
     "text": [
      "PICTURE CAPTURED AT 6862: 3.0-Main St+Ygnacio Valley Rd-270-1662647065.087, Saved 9 picture(s) of 11\n"
     ]
    },
    {
     "name": "stderr",
     "output_type": "stream",
     "text": [
      "Frame Search:  87%|██████████████▋  | 7401/8551 [00:21<00:03, 340.17 Frames/s]"
     ]
    },
    {
     "name": "stdout",
     "output_type": "stream",
     "text": [
      "PICTURE CAPTURED AT 7359: 1.0-Oakland Bl+Ygnacio Valley Rd-215-1662647081.663, Saved 10 picture(s) of 11\n"
     ]
    },
    {
     "name": "stderr",
     "output_type": "stream",
     "text": [
      "Frame Search: 100%|█████████████████| 8551/8551 [00:24<00:00, 347.04 Frames/s]\n",
      "Frame Search:   0%|                             | 0/8551 [00:00<?, ? Frames/s]"
     ]
    },
    {
     "name": "stdout",
     "output_type": "stream",
     "text": [
      "PICTURE CAPTURED AT 8551: 22.0-California Blvd+Pringle-325-1662647121.46, Saved 11 picture(s) of 11\n",
      "done processing images\n"
     ]
    },
    {
     "name": "stderr",
     "output_type": "stream",
     "text": [
      "\n"
     ]
    }
   ],
   "source": [
    "# Setup video files\n",
    "\n",
    "\n",
    "video_filename = \"P-CA.1_CAL Before AM Run 1 & 2.MP4\"\n",
    "# K1.IMG_0062.MOV\n",
    "# P-CA.1_CAL Before AM Run 1 & 2.MP4\n",
    "# P-YVR.3-Before AM EB Run 3.MP4\n",
    "# P-YVR WKD PM R1 and R2 EB.MOV\n",
    "# P-YVR.2-Before AM WB Run 2.MP4 - Best WB YVR Run\n",
    "# P-CA.1_CAL Before AM Run 1 & 2.MP4 - California Blvd NB and SB\n",
    "\n",
    "\n",
    "video = ProcessVideo(video_filename)\n",
    "# video.sync(video_frame, timestamp) to calculate start of video in utc.\n",
    "video.sync(2364, \"2022-09-08T14:21:54.988Z\")\n",
    "video.vid_summary()\n",
    "\n",
    "filenames, frames = video.create_pic_list_from_zip(sd_out)\n",
    "print(frames)\n",
    "\n",
    "\n",
    "video.extract_frame(frames, filenames)\n",
    "\n"
   ]
  },
  {
   "cell_type": "code",
   "execution_count": null,
   "id": "cb924e50",
   "metadata": {},
   "outputs": [],
   "source": [
    "video.img_overlay_info_box(video_filename, process_ro)"
   ]
  },
  {
   "cell_type": "code",
   "execution_count": null,
   "id": "97b7d194",
   "metadata": {},
   "outputs": [],
   "source": [
    "video.extract_frames_between(75, 83, \"PASS CA-NB-SB\") #X seconds to Y seconds, make directory of video_file_name if not made\n",
    "#TODO: convert to SS:MM:HH, SS:MM:HH for start and end times\n",
    "# Add Loader"
   ]
  },
  {
   "cell_type": "code",
   "execution_count": null,
   "id": "0ac8a014",
   "metadata": {
    "slideshow": {
     "slide_type": "-"
    }
   },
   "outputs": [],
   "source": [
    "\n",
    "#Image(filename=img_path) \n",
    "\n",
    "img_path = f'./out/frames/{video_filename}/labeled/'\n",
    "listOfImageNames = [img_file for img_file in os.listdir(img_path) if img_file.endswith(\".jpg\")]\n",
    "\n",
    "\n",
    "for imageName in listOfImageNames:\n",
    "    display(Image(filename=img_path+imageName))\n"
   ]
  },
  {
   "cell_type": "code",
   "execution_count": null,
   "id": "f60d55ec",
   "metadata": {},
   "outputs": [],
   "source": [
    "\n",
    "#gpx_video_offset = start_video_utc - start_utc_time # >0 when gpx starts before video. Extract frames of video to estimate this value\n",
    "#print(f'video starts: {gpx_video_offset} seconds after the GPX file')\n",
    "\n",
    "frames = []\n",
    "itrsxn_desc = []\n",
    "print(list(sd_out))\n",
    "frames , itrsxn_desc = video.create_pic_list_from_zip(sd_out)\n",
    "video.extract_frame(frames, itrsxn_desc)\n",
    "\n",
    "\n",
    "#TODO setup loading screen for this.\n",
    "\n"
   ]
  },
  {
   "cell_type": "markdown",
   "id": "281e7544",
   "metadata": {},
   "source": [
    "## TODO's\n",
    "Frames/Out/approaching intersections_stopbar.csv file needs to append not overwrite\n",
    "\n",
    "\n",
    "HH:MM:SS\n",
    "\n",
    "and loading bar should be last frame of list, not total duration of video.\n",
    "\n",
    "picture(s). -saved text\n"
   ]
  },
  {
   "cell_type": "code",
   "execution_count": null,
   "id": "061e6033",
   "metadata": {},
   "outputs": [],
   "source": [
    "ts=1662042271.00000\n",
    "\n",
    "date_time = datetime.fromtimestamp(ts, tz=None)  #TODO: Wed, Jan 1 2022 at 5:22PM\n",
    "\n",
    "print(date_time.strftime(\"%a, %b %-d %Y at %I:%-M %p\"))\n",
    "\n"
   ]
  },
  {
   "cell_type": "code",
   "execution_count": null,
   "id": "a4ba52d4",
   "metadata": {},
   "outputs": [],
   "source": []
  }
 ],
 "metadata": {
  "kernelspec": {
   "display_name": "sos_env",
   "language": "python",
   "name": "sos_env"
  },
  "language_info": {
   "codemirror_mode": {
    "name": "ipython",
    "version": 3
   },
   "file_extension": ".py",
   "mimetype": "text/x-python",
   "name": "python",
   "nbconvert_exporter": "python",
   "pygments_lexer": "ipython3",
   "version": "3.8.9"
  }
 },
 "nbformat": 4,
 "nbformat_minor": 5
}
