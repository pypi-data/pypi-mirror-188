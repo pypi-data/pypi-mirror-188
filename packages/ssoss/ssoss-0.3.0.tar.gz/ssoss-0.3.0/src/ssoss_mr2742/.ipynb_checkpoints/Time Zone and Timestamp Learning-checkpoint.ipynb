{
 "cells": [
  {
   "cell_type": "code",
   "execution_count": 32,
   "id": "83c17c71",
   "metadata": {},
   "outputs": [
    {
     "name": "stdout",
     "output_type": "stream",
     "text": [
      "America/Los_Angeles\n"
     ]
    }
   ],
   "source": [
    "import sys\n",
    "import dateutil\n",
    "from timezonefinder import TimezoneFinder\n",
    "#!{sys.executable} -m pip install timezonefinder\n",
    "\n",
    "lat=37.892895\n",
    "lon=-122.061185\n",
    "\n",
    "tf = TimezoneFinder()\n",
    "\n",
    "query_points = [(lon,lat)]\n",
    "for lng, lat in query_points:\n",
    "    tz = tf.timezone_at(lng=lng, lat=lat)\n",
    "\n",
    "print(tz)\n",
    "\n",
    "\n"
   ]
  },
  {
   "cell_type": "code",
   "execution_count": 43,
   "id": "f407e184",
   "metadata": {},
   "outputs": [
    {
     "name": "stdout",
     "output_type": "stream",
     "text": [
      "2022-12-09 22:16:00.906186,2022-12-10 06:16:00.906214\n",
      "8:00:00.000028\n",
      "2022-09-08 07:21:19.995000-07:00\n",
      "1662646879.995\n"
     ]
    }
   ],
   "source": [
    "from datetime import * #datetime, date, time, tzinfo, timedelta\n",
    "t = datetime.now()\n",
    "utc = datetime.utcnow()\n",
    "print(f'{t},{utc}')\n",
    "\n",
    "print(f'{utc-t}')\n",
    "\n",
    "#date.fromtimestamp(time.time())\n",
    "\n",
    "gpx_datetime = \"2022-09-08T14:21:19.995Z\"\n",
    "\n",
    "t0 = dateutil.parser.isoparse(gpx_datetime)\n",
    "\n",
    "print(t0.astimezone())\n",
    "print(t0.timestamp())\n",
    "\n",
    "\n"
   ]
  },
  {
   "cell_type": "markdown",
   "id": "c77825a9",
   "metadata": {},
   "source": [
    "GPX format:\n",
    "2022-09-08T14:21:19.995Z\n",
    "\n",
    "GPX Point Class format: \n",
    "2022-09-08 14:21:19.995000+00:00\n",
    "\n",
    "datetime.now() format:\n",
    "2022-12-09T16:46:04.467621\n",
    "\n",
    "\n",
    "\n"
   ]
  },
  {
   "cell_type": "code",
   "execution_count": null,
   "id": "63d6633e",
   "metadata": {},
   "outputs": [],
   "source": [
    "distance = (9.5, 5.5, 6.6, 7.7)\n",
    "intersection_id = (1,2,4,3)\n",
    "a = zip(distance, intersection_id)\n",
    "b = sorted(a, key=lambda x: x[1])\n",
    "print(list(b))\n"
   ]
  }
 ],
 "metadata": {
  "kernelspec": {
   "display_name": "Python 3 (ipykernel)",
   "language": "python",
   "name": "python3"
  },
  "language_info": {
   "codemirror_mode": {
    "name": "ipython",
    "version": 3
   },
   "file_extension": ".py",
   "mimetype": "text/x-python",
   "name": "python",
   "nbconvert_exporter": "python",
   "pygments_lexer": "ipython3",
   "version": "3.8.9"
  }
 },
 "nbformat": 4,
 "nbformat_minor": 5
}
