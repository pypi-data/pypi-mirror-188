{
 "cells": [
  {
   "cell_type": "code",
   "execution_count": 1,
   "id": "ad4ed9d9",
   "metadata": {},
   "outputs": [],
   "source": [
    "import os, sys, math\n",
    "from datetime import timedelta # only needed if datetime is used, might be able to be removed\n",
    "from pathlib import Path, PurePath\n",
    "\n",
    "\n",
    "import pandas as pd\n",
    "from pandas import DataFrame\n",
    "# SOS Package imports\n",
    "from process_road_objects import * # !{sys.executable} -m pip install PACKAGE_NAME OR !pip3 install transformers\n",
    "import dro\n",
    "import dod as Driver\n",
    "from dro import Vehicle\n",
    "#from DynamicObjectDriver import Driver\n",
    "from ProcessVideo import *\n"
   ]
  },
  {
   "cell_type": "markdown",
   "id": "d9307099",
   "metadata": {},
   "source": [
    "### File Path Setup and GPX"
   ]
  },
  {
   "cell_type": "code",
   "execution_count": 3,
   "id": "8d104e0a",
   "metadata": {
    "scrolled": false
   },
   "outputs": [
    {
     "name": "stdout",
     "output_type": "stream",
     "text": [
      "Processed 101 lines of CSV file for a total of 101 intersections.\n",
      "Using GPX file: in/gpx_video/P-YVR.2-WB-2022-09-01_07-17-54.gpx\n",
      "Processed 66 points of GPX file.\n"
     ]
    },
    {
     "name": "stderr",
     "output_type": "stream",
     "text": [
      "100%|█████████████████████████████████████████| 66/66 [00:00<00:00, 82.96it/s]"
     ]
    },
    {
     "name": "stdout",
     "output_type": "stream",
     "text": [
      "\n",
      "        ---------------------------------------------GPX SUMMARY---------------------------------------------\n",
      "        # GPX File:: in/in/gpx_video/P-YVR.2-WB-2022-09-01_07-17-54.gpx\n",
      "        # Using GPX version: 1.1\n",
      "        # Start time: 2022-09-01 07:08:51.106000\n",
      "        # End time:   2022-09-01 07:17:14.913000\n",
      "        # Total duration: 8:23.81 (MM:SS.ss)\n",
      "        # Total distance: 3.77 miles\n",
      "        # Number of data points: 66\n",
      "        # Avg. Time Gap between data points: 7.63 Seconds\n",
      "        -----------------------------------------------------------------------------------------------------\n",
      "        \n",
      "15.3-SD:625/766.4774203494911-------t:1662041352.9-----t_countdown:2.432551081815905---\n",
      "14.3-SD:625/919.8292265414184-------t:1662041374.981-----t_countdown:4.658155381493808---\n",
      "79.3-SD:460/835.2501185750364-------t:1662041452.921-----t_countdown:10.023286542693464---\n",
      "12.3-SD:390/521.490631010134-------t:1662041497.967-----t_countdown:2.278399123212278---\n",
      "11.3-SD:390/693.2156879598549-------t:1662041567.902-----t_countdown:4.71072879993358---\n",
      "10.3-SD:390/669.0384539842305-------t:1662041589.887-----t_countdown:4.676321101550969---\n",
      "9.3-SD:390/761.2038375917857-------t:1662041597.911-----t_countdown:5.393567506518005---\n",
      "8.3-SD:390/445.81438026563677-------t:1662041617.936-----t_countdown:0.9081059840022042---\n",
      "7.3-SD:390/525.3278381317803-------t:1662041648.882-----t_countdown:3.9844921450671924---\n",
      "6.3-SD:325/495.7532314979591-------t:1662041682.869-----t_countdown:5.585330823283097---\n",
      "5.3-SD:325/479.7511675042386-------t:1662041719.921-----t_countdown:1.505590381881883---\n",
      "4.3-SD:270/402.6828033412514-------t:1662041744.926-----t_countdown:2.7051384710575967---\n",
      "3.3-SD:270/381.84783210432636-------t:1662041762.91-----t_countdown:2.3947639845455626---\n",
      "2.3-SD:270/506.18859682339877-------t:1662041773.934-----t_countdown:4.728278600718724---\n",
      "1.3-SD:270/400.88137854754905-------t:1662041794.903-----t_countdown:7.080585499769319---\n"
     ]
    },
    {
     "name": "stderr",
     "output_type": "stream",
     "text": [
      "\n"
     ]
    }
   ],
   "source": [
    "\n",
    "# \"P-CA.1_NB_run_2022-09-08_07-23-47\"  # \"K1.2022-10-05_105104_Walnut_Creek\" P-YVR.3-EB-2022-09-01_07-31-27\n",
    "# P-CA.2_SB_run_2022-09-08_07-29-25\n",
    "# P-YVR.3-EB-2022-09-01_07-31-27\n",
    "# P-YVR-EB_run_2022-09-17_16-16-05\n",
    "# I1.2022-09-07_094806_Walnut_Creek\n",
    "# K1.2022-10-05_105104_Walnut_Creek\n",
    "# P-YVR.2-WB-2022-09-01_07-17-54.gpx - YVR WB - Best Run\n",
    "\n",
    "\n",
    "# Initilize DataFrames for Intersection\n",
    "process_ro = ProcessRoadObjects()\n",
    "\n",
    "# Setup CSV Input File paths\n",
    "intersection_csv_file_name = \"WCIntersections-2022-05-28\"  # exclude .csv\n",
    "all_intersections = process_ro.load_intersection_csv(intersection_csv_file_name)\n",
    "\n",
    "# Setup GPX files\n",
    "gpx_filename = \"P-YVR.2-WB-2022-09-01_07-17-54\" \n",
    "# TODO: Try 1.0, if error: Except 1.1 ver.\n",
    "gpx_ver = \"1.1\"\n",
    "gpx_df2 = process_ro.load_gpx_to_obj_df(gpx_filename, gpx_ver)\n",
    "\n",
    "process_ro.gpx_summary()\n",
    "\n",
    "sd_out = process_ro.intersection_sight_distance_timestamps()\n",
    "\n"
   ]
  },
  {
   "cell_type": "markdown",
   "id": "f2c2ab33",
   "metadata": {},
   "source": [
    "Which Frame in the video best cooresponds to a gpx point in the gpx track.\n",
    "\n",
    "look for a gpx point that is well situated with the markings on the ground to find that frame.\n",
    "\n",
    "Need that frame #, and which point in gpx file it cooresponds to.\n",
    "\n",
    "\n",
    "1662646906.90500"
   ]
  },
  {
   "cell_type": "markdown",
   "id": "15dd98ec",
   "metadata": {},
   "source": [
    "### Filter GPX to Locations of interest"
   ]
  },
  {
   "cell_type": "code",
   "execution_count": 7,
   "id": "c1ebdc62",
   "metadata": {},
   "outputs": [
    {
     "name": "stdout",
     "output_type": "stream",
     "text": [
      "\n",
      "                ===================================VIDEO SUMMARY===================================\n",
      "                # Video File: in/gpx_video/P-YVR.2-Before AM WB Run 2.MP4#/P-YVR.2-Before AM WB Run 2.MP4\n",
      "                # Video File Size: 1.86 GB\n",
      "                # Resolution (w x h): 1920.0 x 1080.0 (2.1MP)\n",
      "                # Frames Per Second: 29.97002997002997\n",
      "                # Total Number of Frames: 31620.0\n",
      "                # Total Duration: 17:35.05 (MM:SS.ss)\n",
      "                # Start Time: 2022-09-01 07:06:43.279867\n",
      "                # End Time:   2022-09-01 07:24:18.333867\n",
      "                ===================================================================================\n",
      "                \n",
      "[4557, 5285, 7782, 8900, 11068, 11726, 11988, 12454, 13474, 14540, 15528, 16314, 16843, 17244, 17943]\n"
     ]
    },
    {
     "name": "stderr",
     "output_type": "stream",
     "text": [
      "Frame Search:  26%|████            | 4599/17943 [00:13<00:43, 308.91 Frames/s]"
     ]
    },
    {
     "name": "stdout",
     "output_type": "stream",
     "text": [
      "PICTURE CAPTURED AT 4557: 15.3-Via Monte+Ygnacio Valley Rd-625-1662041355.333, Saved 1 picture(s) of 15\n"
     ]
    },
    {
     "name": "stderr",
     "output_type": "stream",
     "text": [
      "Frame Search:  30%|████▊           | 5345/17943 [00:15<00:36, 341.45 Frames/s]"
     ]
    },
    {
     "name": "stdout",
     "output_type": "stream",
     "text": [
      "PICTURE CAPTURED AT 5285: 14.3-Wiget Ln+Ygnacio Valley Rd-625-1662041379.639, Saved 2 picture(s) of 15\n"
     ]
    },
    {
     "name": "stderr",
     "output_type": "stream",
     "text": [
      "Frame Search:  44%|██████▉         | 7850/17943 [00:22<00:29, 341.27 Frames/s]"
     ]
    },
    {
     "name": "stdout",
     "output_type": "stream",
     "text": [
      "PICTURE CAPTURED AT 7782: 79.3-Lennon Ln+Ygnacio Valley Rd-460-1662041462.944, Saved 3 picture(s) of 15\n"
     ]
    },
    {
     "name": "stderr",
     "output_type": "stream",
     "text": [
      "Frame Search:  50%|███████▉        | 8969/17943 [00:25<00:26, 342.68 Frames/s]"
     ]
    },
    {
     "name": "stdout",
     "output_type": "stream",
     "text": [
      "PICTURE CAPTURED AT 8900: 12.3-Walnut Ave-Bancroft Rd+Ygnacio Valley Rd-390-1662041500.245, Saved 4 picture(s) of 15\n"
     ]
    },
    {
     "name": "stderr",
     "output_type": "stream",
     "text": [
      "Frame Search:  62%|█████████▎     | 11132/17943 [00:32<00:24, 280.60 Frames/s]"
     ]
    },
    {
     "name": "stdout",
     "output_type": "stream",
     "text": [
      "PICTURE CAPTURED AT 11068: 11.3-San Carlos Dr+Ygnacio Valley Rd-390-1662041572.613, Saved 5 picture(s) of 15\n"
     ]
    },
    {
     "name": "stderr",
     "output_type": "stream",
     "text": [
      "Frame Search:  66%|█████████▊     | 11775/17943 [00:34<00:18, 340.37 Frames/s]"
     ]
    },
    {
     "name": "stdout",
     "output_type": "stream",
     "text": [
      "PICTURE CAPTURED AT 11726: 10.3-John Muir Hospital+Ygnacio Valley Rd-390-1662041594.563, Saved 6 picture(s) of 15\n"
     ]
    },
    {
     "name": "stderr",
     "output_type": "stream",
     "text": [
      "Frame Search:  67%|██████████     | 12057/17943 [00:34<00:17, 329.87 Frames/s]"
     ]
    },
    {
     "name": "stdout",
     "output_type": "stream",
     "text": [
      "PICTURE CAPTURED AT 11988: 9.3-La Casa Via-Kinross+Ygnacio Valley Rd-390-1662041603.305, Saved 7 picture(s) of 15\n"
     ]
    },
    {
     "name": "stderr",
     "output_type": "stream",
     "text": [
      "Frame Search:  70%|██████████▍    | 12517/17943 [00:36<00:16, 334.68 Frames/s]"
     ]
    },
    {
     "name": "stdout",
     "output_type": "stream",
     "text": [
      "PICTURE CAPTURED AT 12454: 8.3-Tampico-Marchbanks Dr+Ygnacio Valley Rd-390-1662041618.844, Saved 8 picture(s) of 15\n"
     ]
    },
    {
     "name": "stderr",
     "output_type": "stream",
     "text": [
      "Frame Search:  75%|███████████▎   | 13523/17943 [00:39<00:13, 336.82 Frames/s]"
     ]
    },
    {
     "name": "stdout",
     "output_type": "stream",
     "text": [
      "PICTURE CAPTURED AT 13474: 7.3-Homestead Ave+Ygnacio Valley Rd-390-1662041652.866, Saved 9 picture(s) of 15\n"
     ]
    },
    {
     "name": "stderr",
     "output_type": "stream",
     "text": [
      "Frame Search:  81%|████████████▏  | 14595/17943 [00:42<00:09, 340.41 Frames/s]"
     ]
    },
    {
     "name": "stdout",
     "output_type": "stream",
     "text": [
      "PICTURE CAPTURED AT 14540: 6.3-Walnut Bl+Ygnacio Valley Rd-325-1662041688.454, Saved 10 picture(s) of 15\n"
     ]
    },
    {
     "name": "stderr",
     "output_type": "stream",
     "text": [
      "Frame Search:  87%|█████████████  | 15584/17943 [00:45<00:07, 318.28 Frames/s]"
     ]
    },
    {
     "name": "stdout",
     "output_type": "stream",
     "text": [
      "PICTURE CAPTURED AT 15528: 5.3-Civic Dr+Ygnacio Valley Rd-325-1662041721.427, Saved 11 picture(s) of 15\n"
     ]
    },
    {
     "name": "stderr",
     "output_type": "stream",
     "text": [
      "Frame Search:  91%|█████████████▋ | 16365/17943 [00:47<00:04, 332.72 Frames/s]"
     ]
    },
    {
     "name": "stdout",
     "output_type": "stream",
     "text": [
      "PICTURE CAPTURED AT 16314: 4.3-Broadway+Ygnacio Valley Rd-270-1662041747.631, Saved 12 picture(s) of 15\n"
     ]
    },
    {
     "name": "stderr",
     "output_type": "stream",
     "text": [
      "Frame Search:  94%|██████████████ | 16891/17943 [00:48<00:03, 278.50 Frames/s]"
     ]
    },
    {
     "name": "stdout",
     "output_type": "stream",
     "text": [
      "PICTURE CAPTURED AT 16843: 3.3-Main St+Ygnacio Valley Rd-270-1662041765.305, Saved 13 picture(s) of 15\n"
     ]
    },
    {
     "name": "stderr",
     "output_type": "stream",
     "text": [
      "Frame Search:  96%|██████████████▍| 17311/17943 [00:50<00:01, 339.91 Frames/s]"
     ]
    },
    {
     "name": "stdout",
     "output_type": "stream",
     "text": [
      "PICTURE CAPTURED AT 17244: 2.3-California Blvd+Ygnacio Valley Rd-270-1662041778.662, Saved 14 picture(s) of 15\n"
     ]
    },
    {
     "name": "stderr",
     "output_type": "stream",
     "text": [
      "Frame Search: 100%|███████████████| 17943/17943 [00:51<00:00, 345.16 Frames/s]\n",
      "Frame Search:   0%|                            | 0/17943 [00:00<?, ? Frames/s]"
     ]
    },
    {
     "name": "stdout",
     "output_type": "stream",
     "text": [
      "PICTURE CAPTURED AT 17943: 1.3-Oakland Bl+Ygnacio Valley Rd-270-1662041801.984, Saved 15 picture(s) of 15\n",
      "done processing images\n"
     ]
    },
    {
     "name": "stderr",
     "output_type": "stream",
     "text": [
      "\n"
     ]
    }
   ],
   "source": [
    "# Setup video files\n",
    "\n",
    "\n",
    "video_filename = \"P-YVR.2-Before AM WB Run 2.MP4\"\n",
    "# K1.IMG_0062.MOV\n",
    "# P-CA.1_CAL Before AM Run 1 & 2.MP4\n",
    "# P-YVR.3-Before AM EB Run 3.MP4\n",
    "# P-YVR WKD PM R1 and R2 EB.MOV\n",
    "# P-YVR.2-Before AM WB Run 2.MP4 - Best WB YVR Run\n",
    "\n",
    "\n",
    "video = ProcessVideo(video_filename)\n",
    "# video.sync(video_frame, timestamp) to calculate start of video in utc.\n",
    "video.sync(4814, \"2022-09-01T14:09:23.907Z\")\n",
    "video.vid_summary()\n",
    "\n",
    "filenames, frames = video.create_pic_list_from_zip(sd_out)\n",
    "print(frames)\n",
    "\n",
    "\n",
    "video.extract_frame(frames, filenames)\n",
    "\n"
   ]
  },
  {
   "cell_type": "code",
   "execution_count": 8,
   "id": "0ac8a014",
   "metadata": {},
   "outputs": [
    {
     "name": "stdout",
     "output_type": "stream",
     "text": [
      "7.3-Homestead Ave+Ygnacio Valley Rd-390-1662041652.866.jpg\n",
      "(1080, 1920, 3)\n",
      "1920x1080\n",
      "2.2/2.2\n",
      "WB approach of Homestead Ave and Ygnacio Valley Rd (#7) at ~390 ft on 2022-09-01 07:14:12.866000 -2.1-Text_x,y:1845,20\n",
      "2.3-California Blvd+Ygnacio Valley Rd-270-1662041778.662.jpg\n",
      "(1080, 1920, 3)\n",
      "1920x1080\n",
      "2.3000000000000003/2.3000000000000003\n",
      "WB approach of California Blvd and Ygnacio Valley Rd (#2) at ~270 ft on 2022-09-01 07:16:18.662000 -2.2-Text_x,y:1913,21\n",
      "9.3-La Casa Via-Kinross+Ygnacio Valley Rd-390-1662041603.305.jpg\n",
      "(1080, 1920, 3)\n",
      "1920x1080\n",
      "2.1/2.1\n",
      "WB approach of La Casa Via-Kinross and Ygnacio Valley Rd (#9) at ~390 ft on 2022-09-01 07:13:23.305000 -2.0-Text_x,y:1839,19\n",
      "15.3-Via Monte+Ygnacio Valley Rd-625-1662041355.333.jpg\n",
      "(1080, 1920, 3)\n",
      "1920x1080\n",
      "2.3000000000000003/2.3000000000000003\n",
      "WB approach of Via Monte and Ygnacio Valley Rd (#15) at ~625 ft on 2022-09-01 07:09:15.333000 -2.2-Text_x,y:1856,21\n",
      "12.3-Walnut Ave-Bancroft Rd+Ygnacio Valley Rd-390-1662041500.245.jpg\n",
      "(1080, 1920, 3)\n",
      "1920x1080\n",
      "2.0/2.0\n",
      "WB approach of Walnut Ave-Bancroft Rd and Ygnacio Valley Rd (#12) at ~390 ft on 2022-09-01 07:11:40.245000 -1.9-Text_x,y:1833,18\n",
      "8.3-Tampico-Marchbanks Dr+Ygnacio Valley Rd-390-1662041618.844.jpg\n",
      "(1080, 1920, 3)\n",
      "1920x1080\n",
      "2.1/2.1\n",
      "WB approach of Tampico-Marchbanks Dr and Ygnacio Valley Rd (#8) at ~390 ft on 2022-09-01 07:13:38.844000 -2.0-Text_x,y:1907,19\n",
      "4.3-Broadway+Ygnacio Valley Rd-270-1662041747.631.jpg\n",
      "(1080, 1920, 3)\n",
      "1920x1080\n",
      "2.4000000000000004/2.4000000000000004\n",
      "WB approach of Broadway and Ygnacio Valley Rd (#4) at ~270 ft on 2022-09-01 07:15:47.631000 -2.3000000000000003-Text_x,y:1910,22\n",
      "6.3-Walnut Bl+Ygnacio Valley Rd-325-1662041688.454.jpg\n",
      "(1080, 1920, 3)\n",
      "1920x1080\n",
      "2.4000000000000004/2.4000000000000004\n",
      "WB approach of Walnut Bl and Ygnacio Valley Rd (#6) at ~325 ft on 2022-09-01 07:14:48.454000 -2.3000000000000003-Text_x,y:1903,22\n",
      "11.3-San Carlos Dr+Ygnacio Valley Rd-390-1662041572.613.jpg\n",
      "(1080, 1920, 3)\n",
      "1920x1080\n",
      "2.2/2.2\n",
      "WB approach of San Carlos Dr and Ygnacio Valley Rd (#11) at ~390 ft on 2022-09-01 07:12:52.613000 -2.1-Text_x,y:1841,20\n",
      "14.3-Wiget Ln+Ygnacio Valley Rd-625-1662041379.639.jpg\n",
      "(1080, 1920, 3)\n",
      "1920x1080\n",
      "2.4000000000000004/2.4000000000000004\n",
      "WB approach of Wiget Ln and Ygnacio Valley Rd (#14) at ~625 ft on 2022-09-01 07:09:39.639000 -2.3000000000000003-Text_x,y:1917,22\n",
      "1.3-Oakland Bl+Ygnacio Valley Rd-270-1662041801.984.jpg\n",
      "(1080, 1920, 3)\n",
      "1920x1080\n",
      "2.3000000000000003/2.3000000000000003\n",
      "WB approach of Oakland Bl and Ygnacio Valley Rd (#1) at ~270 ft on 2022-09-01 07:16:41.984000 -2.2-Text_x,y:1840,21\n",
      "79.3-Lennon Ln+Ygnacio Valley Rd-460-1662041462.944.jpg\n",
      "(1080, 1920, 3)\n",
      "1920x1080\n",
      "2.3000000000000003/2.3000000000000003\n",
      "WB approach of Lennon Ln and Ygnacio Valley Rd (#79) at ~460 ft on 2022-09-01 07:11:02.944000 -2.2-Text_x,y:1867,21\n",
      "5.3-Civic Dr+Ygnacio Valley Rd-325-1662041721.427.jpg\n",
      "(1080, 1920, 3)\n",
      "1920x1080\n",
      "2.4000000000000004/2.4000000000000004\n",
      "WB approach of Civic Dr and Ygnacio Valley Rd (#5) at ~325 ft on 2022-09-01 07:15:21.427000 -2.3000000000000003-Text_x,y:1876,22\n",
      "3.3-Main St+Ygnacio Valley Rd-270-1662041765.305.jpg\n",
      "(1080, 1920, 3)\n",
      "1920x1080\n",
      "2.4000000000000004/2.4000000000000004\n",
      "WB approach of Main St and Ygnacio Valley Rd (#3) at ~270 ft on 2022-09-01 07:16:05.305000 -2.3000000000000003-Text_x,y:1871,22\n",
      "10.3-John Muir Hospital+Ygnacio Valley Rd-390-1662041594.563.jpg\n",
      "(1080, 1920, 3)\n",
      "1920x1080\n",
      "2.2/2.2\n",
      "WB approach of John Muir Hospital and Ygnacio Valley Rd (#10) at ~390 ft on 2022-09-01 07:13:14.563000 -2.1-Text_x,y:1918,20\n",
      "7.3-Homestead Ave+Ygnacio Valley Rd-390-1662041652.866.jpg\n",
      "(1080, 1920, 3)\n",
      "1920x1080\n",
      "2.2/2.2\n",
      "WB approach of Homestead Ave and Ygnacio Valley Rd (#7) at ~390 ft on 2022-09-01 07:14:12.866000 -2.1-Text_x,y:1845,20\n",
      "2.3-California Blvd+Ygnacio Valley Rd-270-1662041778.662.jpg\n",
      "(1080, 1920, 3)\n",
      "1920x1080\n",
      "2.3000000000000003/2.3000000000000003\n",
      "WB approach of California Blvd and Ygnacio Valley Rd (#2) at ~270 ft on 2022-09-01 07:16:18.662000 -2.2-Text_x,y:1913,21\n",
      "9.3-La Casa Via-Kinross+Ygnacio Valley Rd-390-1662041603.305.jpg\n",
      "(1080, 1920, 3)\n",
      "1920x1080\n",
      "2.1/2.1\n",
      "WB approach of La Casa Via-Kinross and Ygnacio Valley Rd (#9) at ~390 ft on 2022-09-01 07:13:23.305000 -2.0-Text_x,y:1839,19\n",
      "15.3-Via Monte+Ygnacio Valley Rd-625-1662041355.333.jpg\n",
      "(1080, 1920, 3)\n",
      "1920x1080\n",
      "2.3000000000000003/2.3000000000000003\n",
      "WB approach of Via Monte and Ygnacio Valley Rd (#15) at ~625 ft on 2022-09-01 07:09:15.333000 -2.2-Text_x,y:1856,21\n",
      "12.3-Walnut Ave-Bancroft Rd+Ygnacio Valley Rd-390-1662041500.245.jpg\n",
      "(1080, 1920, 3)\n",
      "1920x1080\n",
      "2.0/2.0\n",
      "WB approach of Walnut Ave-Bancroft Rd and Ygnacio Valley Rd (#12) at ~390 ft on 2022-09-01 07:11:40.245000 -1.9-Text_x,y:1833,18\n",
      "8.3-Tampico-Marchbanks Dr+Ygnacio Valley Rd-390-1662041618.844.jpg\n",
      "(1080, 1920, 3)\n",
      "1920x1080\n",
      "2.1/2.1\n",
      "WB approach of Tampico-Marchbanks Dr and Ygnacio Valley Rd (#8) at ~390 ft on 2022-09-01 07:13:38.844000 -2.0-Text_x,y:1907,19\n",
      "4.3-Broadway+Ygnacio Valley Rd-270-1662041747.631.jpg\n",
      "(1080, 1920, 3)\n",
      "1920x1080\n",
      "2.4000000000000004/2.4000000000000004\n",
      "WB approach of Broadway and Ygnacio Valley Rd (#4) at ~270 ft on 2022-09-01 07:15:47.631000 -2.3000000000000003-Text_x,y:1910,22\n",
      "6.3-Walnut Bl+Ygnacio Valley Rd-325-1662041688.454.jpg\n",
      "(1080, 1920, 3)\n",
      "1920x1080\n",
      "2.4000000000000004/2.4000000000000004\n",
      "WB approach of Walnut Bl and Ygnacio Valley Rd (#6) at ~325 ft on 2022-09-01 07:14:48.454000 -2.3000000000000003-Text_x,y:1903,22\n",
      "11.3-San Carlos Dr+Ygnacio Valley Rd-390-1662041572.613.jpg\n",
      "(1080, 1920, 3)\n",
      "1920x1080\n",
      "2.2/2.2\n",
      "WB approach of San Carlos Dr and Ygnacio Valley Rd (#11) at ~390 ft on 2022-09-01 07:12:52.613000 -2.1-Text_x,y:1841,20\n",
      "14.3-Wiget Ln+Ygnacio Valley Rd-625-1662041379.639.jpg\n",
      "(1080, 1920, 3)\n",
      "1920x1080\n",
      "2.4000000000000004/2.4000000000000004\n",
      "WB approach of Wiget Ln and Ygnacio Valley Rd (#14) at ~625 ft on 2022-09-01 07:09:39.639000 -2.3000000000000003-Text_x,y:1917,22\n",
      "1.3-Oakland Bl+Ygnacio Valley Rd-270-1662041801.984.jpg\n",
      "(1080, 1920, 3)\n",
      "1920x1080\n",
      "2.3000000000000003/2.3000000000000003\n",
      "WB approach of Oakland Bl and Ygnacio Valley Rd (#1) at ~270 ft on 2022-09-01 07:16:41.984000 -2.2-Text_x,y:1840,21\n",
      "79.3-Lennon Ln+Ygnacio Valley Rd-460-1662041462.944.jpg\n",
      "(1080, 1920, 3)\n",
      "1920x1080\n",
      "2.3000000000000003/2.3000000000000003\n",
      "WB approach of Lennon Ln and Ygnacio Valley Rd (#79) at ~460 ft on 2022-09-01 07:11:02.944000 -2.2-Text_x,y:1867,21\n",
      "5.3-Civic Dr+Ygnacio Valley Rd-325-1662041721.427.jpg\n",
      "(1080, 1920, 3)\n",
      "1920x1080\n",
      "2.4000000000000004/2.4000000000000004\n",
      "WB approach of Civic Dr and Ygnacio Valley Rd (#5) at ~325 ft on 2022-09-01 07:15:21.427000 -2.3000000000000003-Text_x,y:1876,22\n",
      "3.3-Main St+Ygnacio Valley Rd-270-1662041765.305.jpg\n",
      "(1080, 1920, 3)\n",
      "1920x1080\n",
      "2.4000000000000004/2.4000000000000004\n",
      "WB approach of Main St and Ygnacio Valley Rd (#3) at ~270 ft on 2022-09-01 07:16:05.305000 -2.3000000000000003-Text_x,y:1871,22\n",
      "10.3-John Muir Hospital+Ygnacio Valley Rd-390-1662041594.563.jpg\n",
      "(1080, 1920, 3)\n",
      "1920x1080\n",
      "2.2/2.2\n",
      "WB approach of John Muir Hospital and Ygnacio Valley Rd (#10) at ~390 ft on 2022-09-01 07:13:14.563000 -2.1-Text_x,y:1918,20\n"
     ]
    }
   ],
   "source": [
    "video.img_overlay_info_box(video_filename, process_ro)"
   ]
  },
  {
   "cell_type": "code",
   "execution_count": 5,
   "id": "97b7d194",
   "metadata": {},
   "outputs": [
    {
     "name": "stdout",
     "output_type": "stream",
     "text": [
      "in/gpx_video/P-YVR.2-Before AM WB Run 2.MP4\n",
      "Saved Image Frame 4645 to ./out/frames/P-YVR.2-Before AM WB Run 2.MP4/PASS YVR-WB/\n",
      "Saved Image Frame 4646 to ./out/frames/P-YVR.2-Before AM WB Run 2.MP4/PASS YVR-WB/\n",
      "Saved Image Frame 4647 to ./out/frames/P-YVR.2-Before AM WB Run 2.MP4/PASS YVR-WB/\n",
      "Saved Image Frame 4648 to ./out/frames/P-YVR.2-Before AM WB Run 2.MP4/PASS YVR-WB/\n",
      "Saved Image Frame 4649 to ./out/frames/P-YVR.2-Before AM WB Run 2.MP4/PASS YVR-WB/\n",
      "Saved Image Frame 4650 to ./out/frames/P-YVR.2-Before AM WB Run 2.MP4/PASS YVR-WB/\n",
      "Saved Image Frame 4651 to ./out/frames/P-YVR.2-Before AM WB Run 2.MP4/PASS YVR-WB/\n",
      "Saved Image Frame 4652 to ./out/frames/P-YVR.2-Before AM WB Run 2.MP4/PASS YVR-WB/\n",
      "Saved Image Frame 4653 to ./out/frames/P-YVR.2-Before AM WB Run 2.MP4/PASS YVR-WB/\n",
      "Saved Image Frame 4654 to ./out/frames/P-YVR.2-Before AM WB Run 2.MP4/PASS YVR-WB/\n",
      "Saved Image Frame 4655 to ./out/frames/P-YVR.2-Before AM WB Run 2.MP4/PASS YVR-WB/\n",
      "Saved Image Frame 4656 to ./out/frames/P-YVR.2-Before AM WB Run 2.MP4/PASS YVR-WB/\n",
      "Saved Image Frame 4657 to ./out/frames/P-YVR.2-Before AM WB Run 2.MP4/PASS YVR-WB/\n",
      "Saved Image Frame 4658 to ./out/frames/P-YVR.2-Before AM WB Run 2.MP4/PASS YVR-WB/\n",
      "Saved Image Frame 4659 to ./out/frames/P-YVR.2-Before AM WB Run 2.MP4/PASS YVR-WB/\n",
      "Saved Image Frame 4660 to ./out/frames/P-YVR.2-Before AM WB Run 2.MP4/PASS YVR-WB/\n",
      "Saved Image Frame 4661 to ./out/frames/P-YVR.2-Before AM WB Run 2.MP4/PASS YVR-WB/\n",
      "Saved Image Frame 4662 to ./out/frames/P-YVR.2-Before AM WB Run 2.MP4/PASS YVR-WB/\n",
      "Saved Image Frame 4663 to ./out/frames/P-YVR.2-Before AM WB Run 2.MP4/PASS YVR-WB/\n",
      "Saved Image Frame 4664 to ./out/frames/P-YVR.2-Before AM WB Run 2.MP4/PASS YVR-WB/\n",
      "Saved Image Frame 4665 to ./out/frames/P-YVR.2-Before AM WB Run 2.MP4/PASS YVR-WB/\n",
      "Saved Image Frame 4666 to ./out/frames/P-YVR.2-Before AM WB Run 2.MP4/PASS YVR-WB/\n",
      "Saved Image Frame 4667 to ./out/frames/P-YVR.2-Before AM WB Run 2.MP4/PASS YVR-WB/\n",
      "Saved Image Frame 4668 to ./out/frames/P-YVR.2-Before AM WB Run 2.MP4/PASS YVR-WB/\n",
      "Saved Image Frame 4669 to ./out/frames/P-YVR.2-Before AM WB Run 2.MP4/PASS YVR-WB/\n",
      "Saved Image Frame 4670 to ./out/frames/P-YVR.2-Before AM WB Run 2.MP4/PASS YVR-WB/\n",
      "Saved Image Frame 4671 to ./out/frames/P-YVR.2-Before AM WB Run 2.MP4/PASS YVR-WB/\n",
      "Saved Image Frame 4672 to ./out/frames/P-YVR.2-Before AM WB Run 2.MP4/PASS YVR-WB/\n",
      "Saved Image Frame 4673 to ./out/frames/P-YVR.2-Before AM WB Run 2.MP4/PASS YVR-WB/\n",
      "Saved Image Frame 4674 to ./out/frames/P-YVR.2-Before AM WB Run 2.MP4/PASS YVR-WB/\n",
      "Saved Image Frame 4675 to ./out/frames/P-YVR.2-Before AM WB Run 2.MP4/PASS YVR-WB/\n",
      "Saved Image Frame 4676 to ./out/frames/P-YVR.2-Before AM WB Run 2.MP4/PASS YVR-WB/\n",
      "Saved Image Frame 4677 to ./out/frames/P-YVR.2-Before AM WB Run 2.MP4/PASS YVR-WB/\n",
      "Saved Image Frame 4678 to ./out/frames/P-YVR.2-Before AM WB Run 2.MP4/PASS YVR-WB/\n",
      "Saved Image Frame 4679 to ./out/frames/P-YVR.2-Before AM WB Run 2.MP4/PASS YVR-WB/\n",
      "Saved Image Frame 4680 to ./out/frames/P-YVR.2-Before AM WB Run 2.MP4/PASS YVR-WB/\n",
      "Saved Image Frame 4681 to ./out/frames/P-YVR.2-Before AM WB Run 2.MP4/PASS YVR-WB/\n",
      "Saved Image Frame 4682 to ./out/frames/P-YVR.2-Before AM WB Run 2.MP4/PASS YVR-WB/\n",
      "Saved Image Frame 4683 to ./out/frames/P-YVR.2-Before AM WB Run 2.MP4/PASS YVR-WB/\n",
      "Saved Image Frame 4684 to ./out/frames/P-YVR.2-Before AM WB Run 2.MP4/PASS YVR-WB/\n",
      "Saved Image Frame 4685 to ./out/frames/P-YVR.2-Before AM WB Run 2.MP4/PASS YVR-WB/\n",
      "Saved Image Frame 4686 to ./out/frames/P-YVR.2-Before AM WB Run 2.MP4/PASS YVR-WB/\n",
      "Saved Image Frame 4687 to ./out/frames/P-YVR.2-Before AM WB Run 2.MP4/PASS YVR-WB/\n",
      "Saved Image Frame 4688 to ./out/frames/P-YVR.2-Before AM WB Run 2.MP4/PASS YVR-WB/\n",
      "Saved Image Frame 4689 to ./out/frames/P-YVR.2-Before AM WB Run 2.MP4/PASS YVR-WB/\n",
      "Saved Image Frame 4690 to ./out/frames/P-YVR.2-Before AM WB Run 2.MP4/PASS YVR-WB/\n",
      "Saved Image Frame 4691 to ./out/frames/P-YVR.2-Before AM WB Run 2.MP4/PASS YVR-WB/\n",
      "Saved Image Frame 4692 to ./out/frames/P-YVR.2-Before AM WB Run 2.MP4/PASS YVR-WB/\n",
      "Saved Image Frame 4693 to ./out/frames/P-YVR.2-Before AM WB Run 2.MP4/PASS YVR-WB/\n",
      "Saved Image Frame 4694 to ./out/frames/P-YVR.2-Before AM WB Run 2.MP4/PASS YVR-WB/\n",
      "Saved Image Frame 4695 to ./out/frames/P-YVR.2-Before AM WB Run 2.MP4/PASS YVR-WB/\n",
      "Saved Image Frame 4696 to ./out/frames/P-YVR.2-Before AM WB Run 2.MP4/PASS YVR-WB/\n",
      "Saved Image Frame 4697 to ./out/frames/P-YVR.2-Before AM WB Run 2.MP4/PASS YVR-WB/\n",
      "Saved Image Frame 4698 to ./out/frames/P-YVR.2-Before AM WB Run 2.MP4/PASS YVR-WB/\n",
      "Saved Image Frame 4699 to ./out/frames/P-YVR.2-Before AM WB Run 2.MP4/PASS YVR-WB/\n",
      "Saved Image Frame 4700 to ./out/frames/P-YVR.2-Before AM WB Run 2.MP4/PASS YVR-WB/\n",
      "Saved Image Frame 4701 to ./out/frames/P-YVR.2-Before AM WB Run 2.MP4/PASS YVR-WB/\n",
      "Saved Image Frame 4702 to ./out/frames/P-YVR.2-Before AM WB Run 2.MP4/PASS YVR-WB/\n",
      "Saved Image Frame 4703 to ./out/frames/P-YVR.2-Before AM WB Run 2.MP4/PASS YVR-WB/\n",
      "Saved Image Frame 4704 to ./out/frames/P-YVR.2-Before AM WB Run 2.MP4/PASS YVR-WB/\n",
      "Saved Image Frame 4705 to ./out/frames/P-YVR.2-Before AM WB Run 2.MP4/PASS YVR-WB/\n",
      "Saved Image Frame 4706 to ./out/frames/P-YVR.2-Before AM WB Run 2.MP4/PASS YVR-WB/\n",
      "Saved Image Frame 4707 to ./out/frames/P-YVR.2-Before AM WB Run 2.MP4/PASS YVR-WB/\n",
      "Saved Image Frame 4708 to ./out/frames/P-YVR.2-Before AM WB Run 2.MP4/PASS YVR-WB/\n",
      "Saved Image Frame 4709 to ./out/frames/P-YVR.2-Before AM WB Run 2.MP4/PASS YVR-WB/\n",
      "Saved Image Frame 4710 to ./out/frames/P-YVR.2-Before AM WB Run 2.MP4/PASS YVR-WB/\n",
      "Saved Image Frame 4711 to ./out/frames/P-YVR.2-Before AM WB Run 2.MP4/PASS YVR-WB/\n",
      "Saved Image Frame 4712 to ./out/frames/P-YVR.2-Before AM WB Run 2.MP4/PASS YVR-WB/\n",
      "Saved Image Frame 4713 to ./out/frames/P-YVR.2-Before AM WB Run 2.MP4/PASS YVR-WB/\n",
      "Saved Image Frame 4714 to ./out/frames/P-YVR.2-Before AM WB Run 2.MP4/PASS YVR-WB/\n",
      "Saved Image Frame 4715 to ./out/frames/P-YVR.2-Before AM WB Run 2.MP4/PASS YVR-WB/\n",
      "Saved Image Frame 4716 to ./out/frames/P-YVR.2-Before AM WB Run 2.MP4/PASS YVR-WB/\n",
      "Saved Image Frame 4717 to ./out/frames/P-YVR.2-Before AM WB Run 2.MP4/PASS YVR-WB/\n",
      "Saved Image Frame 4718 to ./out/frames/P-YVR.2-Before AM WB Run 2.MP4/PASS YVR-WB/\n",
      "Saved Image Frame 4719 to ./out/frames/P-YVR.2-Before AM WB Run 2.MP4/PASS YVR-WB/\n",
      "Saved Image Frame 4720 to ./out/frames/P-YVR.2-Before AM WB Run 2.MP4/PASS YVR-WB/\n",
      "Saved Image Frame 4721 to ./out/frames/P-YVR.2-Before AM WB Run 2.MP4/PASS YVR-WB/\n",
      "Saved Image Frame 4722 to ./out/frames/P-YVR.2-Before AM WB Run 2.MP4/PASS YVR-WB/\n",
      "Saved Image Frame 4723 to ./out/frames/P-YVR.2-Before AM WB Run 2.MP4/PASS YVR-WB/\n",
      "Saved Image Frame 4724 to ./out/frames/P-YVR.2-Before AM WB Run 2.MP4/PASS YVR-WB/\n",
      "Saved Image Frame 4725 to ./out/frames/P-YVR.2-Before AM WB Run 2.MP4/PASS YVR-WB/\n",
      "Saved Image Frame 4726 to ./out/frames/P-YVR.2-Before AM WB Run 2.MP4/PASS YVR-WB/\n",
      "Saved Image Frame 4727 to ./out/frames/P-YVR.2-Before AM WB Run 2.MP4/PASS YVR-WB/\n",
      "Saved Image Frame 4728 to ./out/frames/P-YVR.2-Before AM WB Run 2.MP4/PASS YVR-WB/\n",
      "Saved Image Frame 4729 to ./out/frames/P-YVR.2-Before AM WB Run 2.MP4/PASS YVR-WB/\n",
      "Saved Image Frame 4730 to ./out/frames/P-YVR.2-Before AM WB Run 2.MP4/PASS YVR-WB/\n",
      "Saved Image Frame 4731 to ./out/frames/P-YVR.2-Before AM WB Run 2.MP4/PASS YVR-WB/\n",
      "Saved Image Frame 4732 to ./out/frames/P-YVR.2-Before AM WB Run 2.MP4/PASS YVR-WB/\n",
      "Saved Image Frame 4733 to ./out/frames/P-YVR.2-Before AM WB Run 2.MP4/PASS YVR-WB/\n",
      "Saved Image Frame 4734 to ./out/frames/P-YVR.2-Before AM WB Run 2.MP4/PASS YVR-WB/\n",
      "Saved Image Frame 4735 to ./out/frames/P-YVR.2-Before AM WB Run 2.MP4/PASS YVR-WB/\n",
      "Saved Image Frame 4736 to ./out/frames/P-YVR.2-Before AM WB Run 2.MP4/PASS YVR-WB/\n",
      "Saved Image Frame 4737 to ./out/frames/P-YVR.2-Before AM WB Run 2.MP4/PASS YVR-WB/\n",
      "Saved Image Frame 4738 to ./out/frames/P-YVR.2-Before AM WB Run 2.MP4/PASS YVR-WB/\n",
      "Saved Image Frame 4739 to ./out/frames/P-YVR.2-Before AM WB Run 2.MP4/PASS YVR-WB/\n",
      "Saved Image Frame 4740 to ./out/frames/P-YVR.2-Before AM WB Run 2.MP4/PASS YVR-WB/\n",
      "Saved Image Frame 4741 to ./out/frames/P-YVR.2-Before AM WB Run 2.MP4/PASS YVR-WB/\n",
      "Saved Image Frame 4742 to ./out/frames/P-YVR.2-Before AM WB Run 2.MP4/PASS YVR-WB/\n",
      "Saved Image Frame 4743 to ./out/frames/P-YVR.2-Before AM WB Run 2.MP4/PASS YVR-WB/\n"
     ]
    },
    {
     "name": "stdout",
     "output_type": "stream",
     "text": [
      "Saved Image Frame 4744 to ./out/frames/P-YVR.2-Before AM WB Run 2.MP4/PASS YVR-WB/\n",
      "Saved Image Frame 4745 to ./out/frames/P-YVR.2-Before AM WB Run 2.MP4/PASS YVR-WB/\n",
      "Saved Image Frame 4746 to ./out/frames/P-YVR.2-Before AM WB Run 2.MP4/PASS YVR-WB/\n",
      "Saved Image Frame 4747 to ./out/frames/P-YVR.2-Before AM WB Run 2.MP4/PASS YVR-WB/\n",
      "Saved Image Frame 4748 to ./out/frames/P-YVR.2-Before AM WB Run 2.MP4/PASS YVR-WB/\n",
      "Saved Image Frame 4749 to ./out/frames/P-YVR.2-Before AM WB Run 2.MP4/PASS YVR-WB/\n",
      "Saved Image Frame 4750 to ./out/frames/P-YVR.2-Before AM WB Run 2.MP4/PASS YVR-WB/\n",
      "Saved Image Frame 4751 to ./out/frames/P-YVR.2-Before AM WB Run 2.MP4/PASS YVR-WB/\n",
      "Saved Image Frame 4752 to ./out/frames/P-YVR.2-Before AM WB Run 2.MP4/PASS YVR-WB/\n",
      "Saved Image Frame 4753 to ./out/frames/P-YVR.2-Before AM WB Run 2.MP4/PASS YVR-WB/\n",
      "Saved Image Frame 4754 to ./out/frames/P-YVR.2-Before AM WB Run 2.MP4/PASS YVR-WB/\n",
      "Saved Image Frame 4755 to ./out/frames/P-YVR.2-Before AM WB Run 2.MP4/PASS YVR-WB/\n",
      "Saved Image Frame 4756 to ./out/frames/P-YVR.2-Before AM WB Run 2.MP4/PASS YVR-WB/\n",
      "Saved Image Frame 4757 to ./out/frames/P-YVR.2-Before AM WB Run 2.MP4/PASS YVR-WB/\n",
      "Saved Image Frame 4758 to ./out/frames/P-YVR.2-Before AM WB Run 2.MP4/PASS YVR-WB/\n",
      "Saved Image Frame 4759 to ./out/frames/P-YVR.2-Before AM WB Run 2.MP4/PASS YVR-WB/\n",
      "Saved Image Frame 4760 to ./out/frames/P-YVR.2-Before AM WB Run 2.MP4/PASS YVR-WB/\n",
      "Saved Image Frame 4761 to ./out/frames/P-YVR.2-Before AM WB Run 2.MP4/PASS YVR-WB/\n",
      "Saved Image Frame 4762 to ./out/frames/P-YVR.2-Before AM WB Run 2.MP4/PASS YVR-WB/\n",
      "Saved Image Frame 4763 to ./out/frames/P-YVR.2-Before AM WB Run 2.MP4/PASS YVR-WB/\n",
      "Saved Image Frame 4764 to ./out/frames/P-YVR.2-Before AM WB Run 2.MP4/PASS YVR-WB/\n",
      "Saved Image Frame 4765 to ./out/frames/P-YVR.2-Before AM WB Run 2.MP4/PASS YVR-WB/\n",
      "Saved Image Frame 4766 to ./out/frames/P-YVR.2-Before AM WB Run 2.MP4/PASS YVR-WB/\n",
      "Saved Image Frame 4767 to ./out/frames/P-YVR.2-Before AM WB Run 2.MP4/PASS YVR-WB/\n",
      "Saved Image Frame 4768 to ./out/frames/P-YVR.2-Before AM WB Run 2.MP4/PASS YVR-WB/\n",
      "Saved Image Frame 4769 to ./out/frames/P-YVR.2-Before AM WB Run 2.MP4/PASS YVR-WB/\n",
      "Saved Image Frame 4770 to ./out/frames/P-YVR.2-Before AM WB Run 2.MP4/PASS YVR-WB/\n",
      "Saved Image Frame 4771 to ./out/frames/P-YVR.2-Before AM WB Run 2.MP4/PASS YVR-WB/\n",
      "Saved Image Frame 4772 to ./out/frames/P-YVR.2-Before AM WB Run 2.MP4/PASS YVR-WB/\n",
      "Saved Image Frame 4773 to ./out/frames/P-YVR.2-Before AM WB Run 2.MP4/PASS YVR-WB/\n",
      "Saved Image Frame 4774 to ./out/frames/P-YVR.2-Before AM WB Run 2.MP4/PASS YVR-WB/\n",
      "Saved Image Frame 4775 to ./out/frames/P-YVR.2-Before AM WB Run 2.MP4/PASS YVR-WB/\n",
      "Saved Image Frame 4776 to ./out/frames/P-YVR.2-Before AM WB Run 2.MP4/PASS YVR-WB/\n",
      "Saved Image Frame 4777 to ./out/frames/P-YVR.2-Before AM WB Run 2.MP4/PASS YVR-WB/\n",
      "Saved Image Frame 4778 to ./out/frames/P-YVR.2-Before AM WB Run 2.MP4/PASS YVR-WB/\n",
      "Saved Image Frame 4779 to ./out/frames/P-YVR.2-Before AM WB Run 2.MP4/PASS YVR-WB/\n",
      "Saved Image Frame 4780 to ./out/frames/P-YVR.2-Before AM WB Run 2.MP4/PASS YVR-WB/\n",
      "Saved Image Frame 4781 to ./out/frames/P-YVR.2-Before AM WB Run 2.MP4/PASS YVR-WB/\n",
      "Saved Image Frame 4782 to ./out/frames/P-YVR.2-Before AM WB Run 2.MP4/PASS YVR-WB/\n",
      "Saved Image Frame 4783 to ./out/frames/P-YVR.2-Before AM WB Run 2.MP4/PASS YVR-WB/\n",
      "Saved Image Frame 4784 to ./out/frames/P-YVR.2-Before AM WB Run 2.MP4/PASS YVR-WB/\n",
      "Saved Image Frame 4785 to ./out/frames/P-YVR.2-Before AM WB Run 2.MP4/PASS YVR-WB/\n",
      "Saved Image Frame 4786 to ./out/frames/P-YVR.2-Before AM WB Run 2.MP4/PASS YVR-WB/\n",
      "Saved Image Frame 4787 to ./out/frames/P-YVR.2-Before AM WB Run 2.MP4/PASS YVR-WB/\n",
      "Saved Image Frame 4788 to ./out/frames/P-YVR.2-Before AM WB Run 2.MP4/PASS YVR-WB/\n",
      "Saved Image Frame 4789 to ./out/frames/P-YVR.2-Before AM WB Run 2.MP4/PASS YVR-WB/\n",
      "Saved Image Frame 4790 to ./out/frames/P-YVR.2-Before AM WB Run 2.MP4/PASS YVR-WB/\n",
      "Saved Image Frame 4791 to ./out/frames/P-YVR.2-Before AM WB Run 2.MP4/PASS YVR-WB/\n",
      "Saved Image Frame 4792 to ./out/frames/P-YVR.2-Before AM WB Run 2.MP4/PASS YVR-WB/\n",
      "Saved Image Frame 4793 to ./out/frames/P-YVR.2-Before AM WB Run 2.MP4/PASS YVR-WB/\n",
      "Saved Image Frame 4794 to ./out/frames/P-YVR.2-Before AM WB Run 2.MP4/PASS YVR-WB/\n",
      "Saved Image Frame 4795 to ./out/frames/P-YVR.2-Before AM WB Run 2.MP4/PASS YVR-WB/\n",
      "Saved Image Frame 4796 to ./out/frames/P-YVR.2-Before AM WB Run 2.MP4/PASS YVR-WB/\n",
      "Saved Image Frame 4797 to ./out/frames/P-YVR.2-Before AM WB Run 2.MP4/PASS YVR-WB/\n",
      "Saved Image Frame 4798 to ./out/frames/P-YVR.2-Before AM WB Run 2.MP4/PASS YVR-WB/\n",
      "Saved Image Frame 4799 to ./out/frames/P-YVR.2-Before AM WB Run 2.MP4/PASS YVR-WB/\n",
      "Saved Image Frame 4800 to ./out/frames/P-YVR.2-Before AM WB Run 2.MP4/PASS YVR-WB/\n",
      "Saved Image Frame 4801 to ./out/frames/P-YVR.2-Before AM WB Run 2.MP4/PASS YVR-WB/\n",
      "Saved Image Frame 4802 to ./out/frames/P-YVR.2-Before AM WB Run 2.MP4/PASS YVR-WB/\n",
      "Saved Image Frame 4803 to ./out/frames/P-YVR.2-Before AM WB Run 2.MP4/PASS YVR-WB/\n",
      "Saved Image Frame 4804 to ./out/frames/P-YVR.2-Before AM WB Run 2.MP4/PASS YVR-WB/\n",
      "Saved Image Frame 4805 to ./out/frames/P-YVR.2-Before AM WB Run 2.MP4/PASS YVR-WB/\n",
      "Saved Image Frame 4806 to ./out/frames/P-YVR.2-Before AM WB Run 2.MP4/PASS YVR-WB/\n",
      "Saved Image Frame 4807 to ./out/frames/P-YVR.2-Before AM WB Run 2.MP4/PASS YVR-WB/\n",
      "Saved Image Frame 4808 to ./out/frames/P-YVR.2-Before AM WB Run 2.MP4/PASS YVR-WB/\n",
      "Saved Image Frame 4809 to ./out/frames/P-YVR.2-Before AM WB Run 2.MP4/PASS YVR-WB/\n",
      "Saved Image Frame 4810 to ./out/frames/P-YVR.2-Before AM WB Run 2.MP4/PASS YVR-WB/\n",
      "Saved Image Frame 4811 to ./out/frames/P-YVR.2-Before AM WB Run 2.MP4/PASS YVR-WB/\n",
      "Saved Image Frame 4812 to ./out/frames/P-YVR.2-Before AM WB Run 2.MP4/PASS YVR-WB/\n",
      "Saved Image Frame 4813 to ./out/frames/P-YVR.2-Before AM WB Run 2.MP4/PASS YVR-WB/\n",
      "Saved Image Frame 4814 to ./out/frames/P-YVR.2-Before AM WB Run 2.MP4/PASS YVR-WB/\n",
      "Saved Image Frame 4815 to ./out/frames/P-YVR.2-Before AM WB Run 2.MP4/PASS YVR-WB/\n",
      "Saved Image Frame 4816 to ./out/frames/P-YVR.2-Before AM WB Run 2.MP4/PASS YVR-WB/\n",
      "Saved Image Frame 4817 to ./out/frames/P-YVR.2-Before AM WB Run 2.MP4/PASS YVR-WB/\n",
      "Saved Image Frame 4818 to ./out/frames/P-YVR.2-Before AM WB Run 2.MP4/PASS YVR-WB/\n",
      "Saved Image Frame 4819 to ./out/frames/P-YVR.2-Before AM WB Run 2.MP4/PASS YVR-WB/\n",
      "Saved Image Frame 4820 to ./out/frames/P-YVR.2-Before AM WB Run 2.MP4/PASS YVR-WB/\n",
      "Saved Image Frame 4821 to ./out/frames/P-YVR.2-Before AM WB Run 2.MP4/PASS YVR-WB/\n",
      "Saved Image Frame 4822 to ./out/frames/P-YVR.2-Before AM WB Run 2.MP4/PASS YVR-WB/\n",
      "Saved Image Frame 4823 to ./out/frames/P-YVR.2-Before AM WB Run 2.MP4/PASS YVR-WB/\n",
      "Saved Image Frame 4824 to ./out/frames/P-YVR.2-Before AM WB Run 2.MP4/PASS YVR-WB/\n",
      "Saved Image Frame 4825 to ./out/frames/P-YVR.2-Before AM WB Run 2.MP4/PASS YVR-WB/\n",
      "Saved Image Frame 4826 to ./out/frames/P-YVR.2-Before AM WB Run 2.MP4/PASS YVR-WB/\n",
      "Saved Image Frame 4827 to ./out/frames/P-YVR.2-Before AM WB Run 2.MP4/PASS YVR-WB/\n",
      "Saved Image Frame 4828 to ./out/frames/P-YVR.2-Before AM WB Run 2.MP4/PASS YVR-WB/\n",
      "Saved Image Frame 4829 to ./out/frames/P-YVR.2-Before AM WB Run 2.MP4/PASS YVR-WB/\n",
      "Saved Image Frame 4830 to ./out/frames/P-YVR.2-Before AM WB Run 2.MP4/PASS YVR-WB/\n",
      "Saved Image Frame 4831 to ./out/frames/P-YVR.2-Before AM WB Run 2.MP4/PASS YVR-WB/\n",
      "Saved Image Frame 4832 to ./out/frames/P-YVR.2-Before AM WB Run 2.MP4/PASS YVR-WB/\n",
      "Saved Image Frame 4833 to ./out/frames/P-YVR.2-Before AM WB Run 2.MP4/PASS YVR-WB/\n",
      "Saved Image Frame 4834 to ./out/frames/P-YVR.2-Before AM WB Run 2.MP4/PASS YVR-WB/\n",
      "Saved Image Frame 4835 to ./out/frames/P-YVR.2-Before AM WB Run 2.MP4/PASS YVR-WB/\n",
      "Saved Image Frame 4836 to ./out/frames/P-YVR.2-Before AM WB Run 2.MP4/PASS YVR-WB/\n",
      "Saved Image Frame 4837 to ./out/frames/P-YVR.2-Before AM WB Run 2.MP4/PASS YVR-WB/\n",
      "Saved Image Frame 4838 to ./out/frames/P-YVR.2-Before AM WB Run 2.MP4/PASS YVR-WB/\n",
      "Saved Image Frame 4839 to ./out/frames/P-YVR.2-Before AM WB Run 2.MP4/PASS YVR-WB/\n",
      "Saved Image Frame 4840 to ./out/frames/P-YVR.2-Before AM WB Run 2.MP4/PASS YVR-WB/\n",
      "Saved Image Frame 4841 to ./out/frames/P-YVR.2-Before AM WB Run 2.MP4/PASS YVR-WB/\n",
      "Saved Image Frame 4842 to ./out/frames/P-YVR.2-Before AM WB Run 2.MP4/PASS YVR-WB/\n",
      "Saved Image Frame 4843 to ./out/frames/P-YVR.2-Before AM WB Run 2.MP4/PASS YVR-WB/\n",
      "Saved Image Frame 4844 to ./out/frames/P-YVR.2-Before AM WB Run 2.MP4/PASS YVR-WB/\n",
      "Saved Image Frame 4845 to ./out/frames/P-YVR.2-Before AM WB Run 2.MP4/PASS YVR-WB/\n",
      "Saved Image Frame 4846 to ./out/frames/P-YVR.2-Before AM WB Run 2.MP4/PASS YVR-WB/\n",
      "Saved Image Frame 4847 to ./out/frames/P-YVR.2-Before AM WB Run 2.MP4/PASS YVR-WB/\n",
      "Saved Image Frame 4848 to ./out/frames/P-YVR.2-Before AM WB Run 2.MP4/PASS YVR-WB/\n",
      "Saved Image Frame 4849 to ./out/frames/P-YVR.2-Before AM WB Run 2.MP4/PASS YVR-WB/\n",
      "Saved Image Frame 4850 to ./out/frames/P-YVR.2-Before AM WB Run 2.MP4/PASS YVR-WB/\n",
      "Saved Image Frame 4851 to ./out/frames/P-YVR.2-Before AM WB Run 2.MP4/PASS YVR-WB/\n",
      "Saved Image Frame 4852 to ./out/frames/P-YVR.2-Before AM WB Run 2.MP4/PASS YVR-WB/\n"
     ]
    },
    {
     "name": "stdout",
     "output_type": "stream",
     "text": [
      "Saved Image Frame 4853 to ./out/frames/P-YVR.2-Before AM WB Run 2.MP4/PASS YVR-WB/\n",
      "Saved Image Frame 4854 to ./out/frames/P-YVR.2-Before AM WB Run 2.MP4/PASS YVR-WB/\n",
      "Saved Image Frame 4855 to ./out/frames/P-YVR.2-Before AM WB Run 2.MP4/PASS YVR-WB/\n",
      "Saved Image Frame 4856 to ./out/frames/P-YVR.2-Before AM WB Run 2.MP4/PASS YVR-WB/\n",
      "Saved Image Frame 4857 to ./out/frames/P-YVR.2-Before AM WB Run 2.MP4/PASS YVR-WB/\n",
      "Saved Image Frame 4858 to ./out/frames/P-YVR.2-Before AM WB Run 2.MP4/PASS YVR-WB/\n",
      "Saved Image Frame 4859 to ./out/frames/P-YVR.2-Before AM WB Run 2.MP4/PASS YVR-WB/\n",
      "Saved Image Frame 4860 to ./out/frames/P-YVR.2-Before AM WB Run 2.MP4/PASS YVR-WB/\n",
      "Saved Image Frame 4861 to ./out/frames/P-YVR.2-Before AM WB Run 2.MP4/PASS YVR-WB/\n",
      "Saved Image Frame 4862 to ./out/frames/P-YVR.2-Before AM WB Run 2.MP4/PASS YVR-WB/\n",
      "Saved Image Frame 4863 to ./out/frames/P-YVR.2-Before AM WB Run 2.MP4/PASS YVR-WB/\n",
      "Saved Image Frame 4864 to ./out/frames/P-YVR.2-Before AM WB Run 2.MP4/PASS YVR-WB/\n",
      "Saved Image Frame 4865 to ./out/frames/P-YVR.2-Before AM WB Run 2.MP4/PASS YVR-WB/\n",
      "Saved Image Frame 4866 to ./out/frames/P-YVR.2-Before AM WB Run 2.MP4/PASS YVR-WB/\n",
      "Saved Image Frame 4867 to ./out/frames/P-YVR.2-Before AM WB Run 2.MP4/PASS YVR-WB/\n",
      "Saved Image Frame 4868 to ./out/frames/P-YVR.2-Before AM WB Run 2.MP4/PASS YVR-WB/\n",
      "Saved Image Frame 4869 to ./out/frames/P-YVR.2-Before AM WB Run 2.MP4/PASS YVR-WB/\n",
      "Saved Image Frame 4870 to ./out/frames/P-YVR.2-Before AM WB Run 2.MP4/PASS YVR-WB/\n",
      "Saved Image Frame 4871 to ./out/frames/P-YVR.2-Before AM WB Run 2.MP4/PASS YVR-WB/\n",
      "Saved Image Frame 4872 to ./out/frames/P-YVR.2-Before AM WB Run 2.MP4/PASS YVR-WB/\n",
      "Saved Image Frame 4873 to ./out/frames/P-YVR.2-Before AM WB Run 2.MP4/PASS YVR-WB/\n",
      "Saved Image Frame 4874 to ./out/frames/P-YVR.2-Before AM WB Run 2.MP4/PASS YVR-WB/\n",
      "Saved Image Frame 4875 to ./out/frames/P-YVR.2-Before AM WB Run 2.MP4/PASS YVR-WB/\n",
      "Saved Image Frame 4876 to ./out/frames/P-YVR.2-Before AM WB Run 2.MP4/PASS YVR-WB/\n",
      "Saved Image Frame 4877 to ./out/frames/P-YVR.2-Before AM WB Run 2.MP4/PASS YVR-WB/\n",
      "Saved Image Frame 4878 to ./out/frames/P-YVR.2-Before AM WB Run 2.MP4/PASS YVR-WB/\n",
      "Saved Image Frame 4879 to ./out/frames/P-YVR.2-Before AM WB Run 2.MP4/PASS YVR-WB/\n",
      "Saved Image Frame 4880 to ./out/frames/P-YVR.2-Before AM WB Run 2.MP4/PASS YVR-WB/\n",
      "Saved Image Frame 4881 to ./out/frames/P-YVR.2-Before AM WB Run 2.MP4/PASS YVR-WB/\n",
      "Saved Image Frame 4882 to ./out/frames/P-YVR.2-Before AM WB Run 2.MP4/PASS YVR-WB/\n",
      "Saved Image Frame 4883 to ./out/frames/P-YVR.2-Before AM WB Run 2.MP4/PASS YVR-WB/\n",
      "Saved Image Frame 4884 to ./out/frames/P-YVR.2-Before AM WB Run 2.MP4/PASS YVR-WB/\n",
      "Saved Image Frame 4885 to ./out/frames/P-YVR.2-Before AM WB Run 2.MP4/PASS YVR-WB/\n",
      "Saved Image Frame 4886 to ./out/frames/P-YVR.2-Before AM WB Run 2.MP4/PASS YVR-WB/\n",
      "Saved Image Frame 4887 to ./out/frames/P-YVR.2-Before AM WB Run 2.MP4/PASS YVR-WB/\n",
      "Saved Image Frame 4888 to ./out/frames/P-YVR.2-Before AM WB Run 2.MP4/PASS YVR-WB/\n",
      "Saved Image Frame 4889 to ./out/frames/P-YVR.2-Before AM WB Run 2.MP4/PASS YVR-WB/\n",
      "Saved Image Frame 4890 to ./out/frames/P-YVR.2-Before AM WB Run 2.MP4/PASS YVR-WB/\n",
      "Saved Image Frame 4891 to ./out/frames/P-YVR.2-Before AM WB Run 2.MP4/PASS YVR-WB/\n",
      "Saved Image Frame 4892 to ./out/frames/P-YVR.2-Before AM WB Run 2.MP4/PASS YVR-WB/\n",
      "Saved Image Frame 4893 to ./out/frames/P-YVR.2-Before AM WB Run 2.MP4/PASS YVR-WB/\n",
      "Saved Image Frame 4894 to ./out/frames/P-YVR.2-Before AM WB Run 2.MP4/PASS YVR-WB/\n",
      "Saved Image Frame 4895 to ./out/frames/P-YVR.2-Before AM WB Run 2.MP4/PASS YVR-WB/\n",
      "Saved Image Frame 4896 to ./out/frames/P-YVR.2-Before AM WB Run 2.MP4/PASS YVR-WB/\n",
      "Saved Image Frame 4897 to ./out/frames/P-YVR.2-Before AM WB Run 2.MP4/PASS YVR-WB/\n",
      "Saved Image Frame 4898 to ./out/frames/P-YVR.2-Before AM WB Run 2.MP4/PASS YVR-WB/\n",
      "Saved Image Frame 4899 to ./out/frames/P-YVR.2-Before AM WB Run 2.MP4/PASS YVR-WB/\n",
      "Saved Image Frame 4900 to ./out/frames/P-YVR.2-Before AM WB Run 2.MP4/PASS YVR-WB/\n",
      "Saved Image Frame 4901 to ./out/frames/P-YVR.2-Before AM WB Run 2.MP4/PASS YVR-WB/\n",
      "Saved Image Frame 4902 to ./out/frames/P-YVR.2-Before AM WB Run 2.MP4/PASS YVR-WB/\n",
      "Saved Image Frame 4903 to ./out/frames/P-YVR.2-Before AM WB Run 2.MP4/PASS YVR-WB/\n",
      "Saved Image Frame 4904 to ./out/frames/P-YVR.2-Before AM WB Run 2.MP4/PASS YVR-WB/\n",
      "Saved Image Frame 4905 to ./out/frames/P-YVR.2-Before AM WB Run 2.MP4/PASS YVR-WB/\n",
      "Saved Image Frame 4906 to ./out/frames/P-YVR.2-Before AM WB Run 2.MP4/PASS YVR-WB/\n",
      "Saved Image Frame 4907 to ./out/frames/P-YVR.2-Before AM WB Run 2.MP4/PASS YVR-WB/\n",
      "Saved Image Frame 4908 to ./out/frames/P-YVR.2-Before AM WB Run 2.MP4/PASS YVR-WB/\n",
      "Saved Image Frame 4909 to ./out/frames/P-YVR.2-Before AM WB Run 2.MP4/PASS YVR-WB/\n",
      "Saved Image Frame 4910 to ./out/frames/P-YVR.2-Before AM WB Run 2.MP4/PASS YVR-WB/\n",
      "Saved Image Frame 4911 to ./out/frames/P-YVR.2-Before AM WB Run 2.MP4/PASS YVR-WB/\n",
      "Saved Image Frame 4912 to ./out/frames/P-YVR.2-Before AM WB Run 2.MP4/PASS YVR-WB/\n",
      "Saved Image Frame 4913 to ./out/frames/P-YVR.2-Before AM WB Run 2.MP4/PASS YVR-WB/\n",
      "Saved Image Frame 4914 to ./out/frames/P-YVR.2-Before AM WB Run 2.MP4/PASS YVR-WB/\n",
      "Saved Image Frame 4915 to ./out/frames/P-YVR.2-Before AM WB Run 2.MP4/PASS YVR-WB/\n",
      "Saved Image Frame 4916 to ./out/frames/P-YVR.2-Before AM WB Run 2.MP4/PASS YVR-WB/\n",
      "Saved Image Frame 4917 to ./out/frames/P-YVR.2-Before AM WB Run 2.MP4/PASS YVR-WB/\n",
      "Saved Image Frame 4918 to ./out/frames/P-YVR.2-Before AM WB Run 2.MP4/PASS YVR-WB/\n",
      "Saved Image Frame 4919 to ./out/frames/P-YVR.2-Before AM WB Run 2.MP4/PASS YVR-WB/\n",
      "Saved Image Frame 4920 to ./out/frames/P-YVR.2-Before AM WB Run 2.MP4/PASS YVR-WB/\n",
      "Saved Image Frame 4921 to ./out/frames/P-YVR.2-Before AM WB Run 2.MP4/PASS YVR-WB/\n",
      "Saved Image Frame 4922 to ./out/frames/P-YVR.2-Before AM WB Run 2.MP4/PASS YVR-WB/\n",
      "Saved Image Frame 4923 to ./out/frames/P-YVR.2-Before AM WB Run 2.MP4/PASS YVR-WB/\n",
      "Saved Image Frame 4924 to ./out/frames/P-YVR.2-Before AM WB Run 2.MP4/PASS YVR-WB/\n",
      "Saved Image Frame 4925 to ./out/frames/P-YVR.2-Before AM WB Run 2.MP4/PASS YVR-WB/\n",
      "Saved Image Frame 4926 to ./out/frames/P-YVR.2-Before AM WB Run 2.MP4/PASS YVR-WB/\n",
      "Saved Image Frame 4927 to ./out/frames/P-YVR.2-Before AM WB Run 2.MP4/PASS YVR-WB/\n",
      "Saved Image Frame 4928 to ./out/frames/P-YVR.2-Before AM WB Run 2.MP4/PASS YVR-WB/\n",
      "Saved Image Frame 4929 to ./out/frames/P-YVR.2-Before AM WB Run 2.MP4/PASS YVR-WB/\n",
      "Saved Image Frame 4930 to ./out/frames/P-YVR.2-Before AM WB Run 2.MP4/PASS YVR-WB/\n",
      "Saved Image Frame 4931 to ./out/frames/P-YVR.2-Before AM WB Run 2.MP4/PASS YVR-WB/\n",
      "Saved Image Frame 4932 to ./out/frames/P-YVR.2-Before AM WB Run 2.MP4/PASS YVR-WB/\n",
      "Saved Image Frame 4933 to ./out/frames/P-YVR.2-Before AM WB Run 2.MP4/PASS YVR-WB/\n",
      "Saved Image Frame 4934 to ./out/frames/P-YVR.2-Before AM WB Run 2.MP4/PASS YVR-WB/\n",
      "Saved Image Frame 4935 to ./out/frames/P-YVR.2-Before AM WB Run 2.MP4/PASS YVR-WB/\n",
      "Saved Image Frame 4936 to ./out/frames/P-YVR.2-Before AM WB Run 2.MP4/PASS YVR-WB/\n",
      "Saved Image Frame 4937 to ./out/frames/P-YVR.2-Before AM WB Run 2.MP4/PASS YVR-WB/\n",
      "Saved Image Frame 4938 to ./out/frames/P-YVR.2-Before AM WB Run 2.MP4/PASS YVR-WB/\n",
      "Saved Image Frame 4939 to ./out/frames/P-YVR.2-Before AM WB Run 2.MP4/PASS YVR-WB/\n",
      "Saved Image Frame 4940 to ./out/frames/P-YVR.2-Before AM WB Run 2.MP4/PASS YVR-WB/\n",
      "Saved Image Frame 4941 to ./out/frames/P-YVR.2-Before AM WB Run 2.MP4/PASS YVR-WB/\n",
      "Saved Image Frame 4942 to ./out/frames/P-YVR.2-Before AM WB Run 2.MP4/PASS YVR-WB/\n",
      "Saved Image Frame 4943 to ./out/frames/P-YVR.2-Before AM WB Run 2.MP4/PASS YVR-WB/\n",
      "Saved Image Frame 4944 to ./out/frames/P-YVR.2-Before AM WB Run 2.MP4/PASS YVR-WB/\n",
      "Saved Image Frame 4945 to ./out/frames/P-YVR.2-Before AM WB Run 2.MP4/PASS YVR-WB/\n",
      "Saved Image Frame 4946 to ./out/frames/P-YVR.2-Before AM WB Run 2.MP4/PASS YVR-WB/\n",
      "Saved Image Frame 4947 to ./out/frames/P-YVR.2-Before AM WB Run 2.MP4/PASS YVR-WB/\n",
      "Saved Image Frame 4948 to ./out/frames/P-YVR.2-Before AM WB Run 2.MP4/PASS YVR-WB/\n",
      "Saved Image Frame 4949 to ./out/frames/P-YVR.2-Before AM WB Run 2.MP4/PASS YVR-WB/\n",
      "Saved Image Frame 4950 to ./out/frames/P-YVR.2-Before AM WB Run 2.MP4/PASS YVR-WB/\n",
      "Saved Image Frame 4951 to ./out/frames/P-YVR.2-Before AM WB Run 2.MP4/PASS YVR-WB/\n",
      "Saved Image Frame 4952 to ./out/frames/P-YVR.2-Before AM WB Run 2.MP4/PASS YVR-WB/\n",
      "Saved Image Frame 4953 to ./out/frames/P-YVR.2-Before AM WB Run 2.MP4/PASS YVR-WB/\n",
      "Saved Image Frame 4954 to ./out/frames/P-YVR.2-Before AM WB Run 2.MP4/PASS YVR-WB/\n",
      "Saved Image Frame 4955 to ./out/frames/P-YVR.2-Before AM WB Run 2.MP4/PASS YVR-WB/\n",
      "Saved Image Frame 4956 to ./out/frames/P-YVR.2-Before AM WB Run 2.MP4/PASS YVR-WB/\n"
     ]
    },
    {
     "name": "stdout",
     "output_type": "stream",
     "text": [
      "Saved Image Frame 4957 to ./out/frames/P-YVR.2-Before AM WB Run 2.MP4/PASS YVR-WB/\n",
      "Saved Image Frame 4958 to ./out/frames/P-YVR.2-Before AM WB Run 2.MP4/PASS YVR-WB/\n",
      "Saved Image Frame 4959 to ./out/frames/P-YVR.2-Before AM WB Run 2.MP4/PASS YVR-WB/\n",
      "Saved Image Frame 4960 to ./out/frames/P-YVR.2-Before AM WB Run 2.MP4/PASS YVR-WB/\n",
      "Saved Image Frame 4961 to ./out/frames/P-YVR.2-Before AM WB Run 2.MP4/PASS YVR-WB/\n",
      "Saved Image Frame 4962 to ./out/frames/P-YVR.2-Before AM WB Run 2.MP4/PASS YVR-WB/\n",
      "Saved Image Frame 4963 to ./out/frames/P-YVR.2-Before AM WB Run 2.MP4/PASS YVR-WB/\n",
      "Saved Image Frame 4964 to ./out/frames/P-YVR.2-Before AM WB Run 2.MP4/PASS YVR-WB/\n",
      "Saved Image Frame 4965 to ./out/frames/P-YVR.2-Before AM WB Run 2.MP4/PASS YVR-WB/\n",
      "Saved Image Frame 4966 to ./out/frames/P-YVR.2-Before AM WB Run 2.MP4/PASS YVR-WB/\n",
      "Saved Image Frame 4967 to ./out/frames/P-YVR.2-Before AM WB Run 2.MP4/PASS YVR-WB/\n",
      "Saved Image Frame 4968 to ./out/frames/P-YVR.2-Before AM WB Run 2.MP4/PASS YVR-WB/\n",
      "Saved Image Frame 4969 to ./out/frames/P-YVR.2-Before AM WB Run 2.MP4/PASS YVR-WB/\n",
      "Saved Image Frame 4970 to ./out/frames/P-YVR.2-Before AM WB Run 2.MP4/PASS YVR-WB/\n",
      "Saved Image Frame 4971 to ./out/frames/P-YVR.2-Before AM WB Run 2.MP4/PASS YVR-WB/\n",
      "Saved Image Frame 4972 to ./out/frames/P-YVR.2-Before AM WB Run 2.MP4/PASS YVR-WB/\n",
      "Saved Image Frame 4973 to ./out/frames/P-YVR.2-Before AM WB Run 2.MP4/PASS YVR-WB/\n",
      "Saved Image Frame 4974 to ./out/frames/P-YVR.2-Before AM WB Run 2.MP4/PASS YVR-WB/\n",
      "Saved Image Frame 4975 to ./out/frames/P-YVR.2-Before AM WB Run 2.MP4/PASS YVR-WB/\n",
      "Saved Image Frame 4976 to ./out/frames/P-YVR.2-Before AM WB Run 2.MP4/PASS YVR-WB/\n",
      "Saved Image Frame 4977 to ./out/frames/P-YVR.2-Before AM WB Run 2.MP4/PASS YVR-WB/\n",
      "Saved Image Frame 4978 to ./out/frames/P-YVR.2-Before AM WB Run 2.MP4/PASS YVR-WB/\n",
      "Saved Image Frame 4979 to ./out/frames/P-YVR.2-Before AM WB Run 2.MP4/PASS YVR-WB/\n",
      "Saved Image Frame 4980 to ./out/frames/P-YVR.2-Before AM WB Run 2.MP4/PASS YVR-WB/\n",
      "Saved Image Frame 4981 to ./out/frames/P-YVR.2-Before AM WB Run 2.MP4/PASS YVR-WB/\n",
      "Saved Image Frame 4982 to ./out/frames/P-YVR.2-Before AM WB Run 2.MP4/PASS YVR-WB/\n",
      "Saved Image Frame 4983 to ./out/frames/P-YVR.2-Before AM WB Run 2.MP4/PASS YVR-WB/\n",
      "Saved Image Frame 4984 to ./out/frames/P-YVR.2-Before AM WB Run 2.MP4/PASS YVR-WB/\n",
      "Saved Image Frame 4985 to ./out/frames/P-YVR.2-Before AM WB Run 2.MP4/PASS YVR-WB/\n",
      "Saved Image Frame 4986 to ./out/frames/P-YVR.2-Before AM WB Run 2.MP4/PASS YVR-WB/\n",
      "Saved Image Frame 4987 to ./out/frames/P-YVR.2-Before AM WB Run 2.MP4/PASS YVR-WB/\n",
      "Saved Image Frame 4988 to ./out/frames/P-YVR.2-Before AM WB Run 2.MP4/PASS YVR-WB/\n",
      "Saved Image Frame 4989 to ./out/frames/P-YVR.2-Before AM WB Run 2.MP4/PASS YVR-WB/\n",
      "Saved Image Frame 4990 to ./out/frames/P-YVR.2-Before AM WB Run 2.MP4/PASS YVR-WB/\n",
      "Saved Image Frame 4991 to ./out/frames/P-YVR.2-Before AM WB Run 2.MP4/PASS YVR-WB/\n",
      "Saved Image Frame 4992 to ./out/frames/P-YVR.2-Before AM WB Run 2.MP4/PASS YVR-WB/\n",
      "Saved Image Frame 4993 to ./out/frames/P-YVR.2-Before AM WB Run 2.MP4/PASS YVR-WB/\n",
      "Saved Image Frame 4994 to ./out/frames/P-YVR.2-Before AM WB Run 2.MP4/PASS YVR-WB/\n",
      "Saved Image Frame 4995 to ./out/frames/P-YVR.2-Before AM WB Run 2.MP4/PASS YVR-WB/\n",
      "Saved Image Frame 4996 to ./out/frames/P-YVR.2-Before AM WB Run 2.MP4/PASS YVR-WB/\n",
      "Saved Image Frame 4997 to ./out/frames/P-YVR.2-Before AM WB Run 2.MP4/PASS YVR-WB/\n",
      "Saved Image Frame 4998 to ./out/frames/P-YVR.2-Before AM WB Run 2.MP4/PASS YVR-WB/\n",
      "Saved Image Frame 4999 to ./out/frames/P-YVR.2-Before AM WB Run 2.MP4/PASS YVR-WB/\n",
      "Saved Image Frame 5000 to ./out/frames/P-YVR.2-Before AM WB Run 2.MP4/PASS YVR-WB/\n",
      "Saved Image Frame 5001 to ./out/frames/P-YVR.2-Before AM WB Run 2.MP4/PASS YVR-WB/\n",
      "Saved Image Frame 5002 to ./out/frames/P-YVR.2-Before AM WB Run 2.MP4/PASS YVR-WB/\n",
      "Saved Image Frame 5003 to ./out/frames/P-YVR.2-Before AM WB Run 2.MP4/PASS YVR-WB/\n",
      "Saved Image Frame 5004 to ./out/frames/P-YVR.2-Before AM WB Run 2.MP4/PASS YVR-WB/\n",
      "Saved Image Frame 5005 to ./out/frames/P-YVR.2-Before AM WB Run 2.MP4/PASS YVR-WB/\n",
      "Saved Image Frame 5006 to ./out/frames/P-YVR.2-Before AM WB Run 2.MP4/PASS YVR-WB/\n",
      "Saved Image Frame 5007 to ./out/frames/P-YVR.2-Before AM WB Run 2.MP4/PASS YVR-WB/\n",
      "Saved Image Frame 5008 to ./out/frames/P-YVR.2-Before AM WB Run 2.MP4/PASS YVR-WB/\n",
      "Saved Image Frame 5009 to ./out/frames/P-YVR.2-Before AM WB Run 2.MP4/PASS YVR-WB/\n",
      "Saved Image Frame 5010 to ./out/frames/P-YVR.2-Before AM WB Run 2.MP4/PASS YVR-WB/\n",
      "Saved Image Frame 5011 to ./out/frames/P-YVR.2-Before AM WB Run 2.MP4/PASS YVR-WB/\n",
      "Saved Image Frame 5012 to ./out/frames/P-YVR.2-Before AM WB Run 2.MP4/PASS YVR-WB/\n",
      "Saved Image Frame 5013 to ./out/frames/P-YVR.2-Before AM WB Run 2.MP4/PASS YVR-WB/\n",
      "Saved Image Frame 5014 to ./out/frames/P-YVR.2-Before AM WB Run 2.MP4/PASS YVR-WB/\n",
      "Saved Image Frame 5015 to ./out/frames/P-YVR.2-Before AM WB Run 2.MP4/PASS YVR-WB/\n",
      "Saved Image Frame 5016 to ./out/frames/P-YVR.2-Before AM WB Run 2.MP4/PASS YVR-WB/\n",
      "Saved Image Frame 5017 to ./out/frames/P-YVR.2-Before AM WB Run 2.MP4/PASS YVR-WB/\n",
      "Saved Image Frame 5018 to ./out/frames/P-YVR.2-Before AM WB Run 2.MP4/PASS YVR-WB/\n",
      "Saved Image Frame 5019 to ./out/frames/P-YVR.2-Before AM WB Run 2.MP4/PASS YVR-WB/\n",
      "Saved Image Frame 5020 to ./out/frames/P-YVR.2-Before AM WB Run 2.MP4/PASS YVR-WB/\n",
      "Saved Image Frame 5021 to ./out/frames/P-YVR.2-Before AM WB Run 2.MP4/PASS YVR-WB/\n",
      "Saved Image Frame 5022 to ./out/frames/P-YVR.2-Before AM WB Run 2.MP4/PASS YVR-WB/\n",
      "Saved Image Frame 5023 to ./out/frames/P-YVR.2-Before AM WB Run 2.MP4/PASS YVR-WB/\n",
      "Saved Image Frame 5024 to ./out/frames/P-YVR.2-Before AM WB Run 2.MP4/PASS YVR-WB/\n",
      "Saved Image Frame 5025 to ./out/frames/P-YVR.2-Before AM WB Run 2.MP4/PASS YVR-WB/\n",
      "Saved Image Frame 5026 to ./out/frames/P-YVR.2-Before AM WB Run 2.MP4/PASS YVR-WB/\n",
      "Saved Image Frame 5027 to ./out/frames/P-YVR.2-Before AM WB Run 2.MP4/PASS YVR-WB/\n",
      "Saved Image Frame 5028 to ./out/frames/P-YVR.2-Before AM WB Run 2.MP4/PASS YVR-WB/\n",
      "Saved Image Frame 5029 to ./out/frames/P-YVR.2-Before AM WB Run 2.MP4/PASS YVR-WB/\n",
      "Saved Image Frame 5030 to ./out/frames/P-YVR.2-Before AM WB Run 2.MP4/PASS YVR-WB/\n",
      "Saved Image Frame 5031 to ./out/frames/P-YVR.2-Before AM WB Run 2.MP4/PASS YVR-WB/\n",
      "Saved Image Frame 5032 to ./out/frames/P-YVR.2-Before AM WB Run 2.MP4/PASS YVR-WB/\n",
      "Saved Image Frame 5033 to ./out/frames/P-YVR.2-Before AM WB Run 2.MP4/PASS YVR-WB/\n",
      "Saved Image Frame 5034 to ./out/frames/P-YVR.2-Before AM WB Run 2.MP4/PASS YVR-WB/\n",
      "Saved Image Frame 5035 to ./out/frames/P-YVR.2-Before AM WB Run 2.MP4/PASS YVR-WB/\n",
      "Saved Image Frame 5036 to ./out/frames/P-YVR.2-Before AM WB Run 2.MP4/PASS YVR-WB/\n",
      "Saved Image Frame 5037 to ./out/frames/P-YVR.2-Before AM WB Run 2.MP4/PASS YVR-WB/\n",
      "Saved Image Frame 5038 to ./out/frames/P-YVR.2-Before AM WB Run 2.MP4/PASS YVR-WB/\n",
      "Saved Image Frame 5039 to ./out/frames/P-YVR.2-Before AM WB Run 2.MP4/PASS YVR-WB/\n",
      "Saved Image Frame 5040 to ./out/frames/P-YVR.2-Before AM WB Run 2.MP4/PASS YVR-WB/\n",
      "Saved Image Frame 5041 to ./out/frames/P-YVR.2-Before AM WB Run 2.MP4/PASS YVR-WB/\n",
      "Saved Image Frame 5042 to ./out/frames/P-YVR.2-Before AM WB Run 2.MP4/PASS YVR-WB/\n",
      "Saved Image Frame 5043 to ./out/frames/P-YVR.2-Before AM WB Run 2.MP4/PASS YVR-WB/\n",
      "Saved Image Frame 5044 to ./out/frames/P-YVR.2-Before AM WB Run 2.MP4/PASS YVR-WB/\n",
      "Saved Image Frame 5045 to ./out/frames/P-YVR.2-Before AM WB Run 2.MP4/PASS YVR-WB/\n",
      "Saved Image Frame 5046 to ./out/frames/P-YVR.2-Before AM WB Run 2.MP4/PASS YVR-WB/\n",
      "Saved Image Frame 5047 to ./out/frames/P-YVR.2-Before AM WB Run 2.MP4/PASS YVR-WB/\n",
      "Saved Image Frame 5048 to ./out/frames/P-YVR.2-Before AM WB Run 2.MP4/PASS YVR-WB/\n",
      "Saved Image Frame 5049 to ./out/frames/P-YVR.2-Before AM WB Run 2.MP4/PASS YVR-WB/\n",
      "Saved Image Frame 5050 to ./out/frames/P-YVR.2-Before AM WB Run 2.MP4/PASS YVR-WB/\n",
      "Saved Image Frame 5051 to ./out/frames/P-YVR.2-Before AM WB Run 2.MP4/PASS YVR-WB/\n",
      "Saved Image Frame 5052 to ./out/frames/P-YVR.2-Before AM WB Run 2.MP4/PASS YVR-WB/\n",
      "Saved Image Frame 5053 to ./out/frames/P-YVR.2-Before AM WB Run 2.MP4/PASS YVR-WB/\n",
      "Saved Image Frame 5054 to ./out/frames/P-YVR.2-Before AM WB Run 2.MP4/PASS YVR-WB/\n",
      "Saved Image Frame 5055 to ./out/frames/P-YVR.2-Before AM WB Run 2.MP4/PASS YVR-WB/\n",
      "Saved Image Frame 5056 to ./out/frames/P-YVR.2-Before AM WB Run 2.MP4/PASS YVR-WB/\n",
      "Saved Image Frame 5057 to ./out/frames/P-YVR.2-Before AM WB Run 2.MP4/PASS YVR-WB/\n",
      "Saved Image Frame 5058 to ./out/frames/P-YVR.2-Before AM WB Run 2.MP4/PASS YVR-WB/\n",
      "Saved Image Frame 5059 to ./out/frames/P-YVR.2-Before AM WB Run 2.MP4/PASS YVR-WB/\n",
      "Saved Image Frame 5060 to ./out/frames/P-YVR.2-Before AM WB Run 2.MP4/PASS YVR-WB/\n",
      "Saved Image Frame 5061 to ./out/frames/P-YVR.2-Before AM WB Run 2.MP4/PASS YVR-WB/\n",
      "Saved Image Frame 5062 to ./out/frames/P-YVR.2-Before AM WB Run 2.MP4/PASS YVR-WB/\n",
      "Saved Image Frame 5063 to ./out/frames/P-YVR.2-Before AM WB Run 2.MP4/PASS YVR-WB/\n",
      "Saved Image Frame 5064 to ./out/frames/P-YVR.2-Before AM WB Run 2.MP4/PASS YVR-WB/\n",
      "Saved Image Frame 5065 to ./out/frames/P-YVR.2-Before AM WB Run 2.MP4/PASS YVR-WB/\n"
     ]
    },
    {
     "name": "stdout",
     "output_type": "stream",
     "text": [
      "Saved Image Frame 5066 to ./out/frames/P-YVR.2-Before AM WB Run 2.MP4/PASS YVR-WB/\n",
      "Saved Image Frame 5067 to ./out/frames/P-YVR.2-Before AM WB Run 2.MP4/PASS YVR-WB/\n",
      "Saved Image Frame 5068 to ./out/frames/P-YVR.2-Before AM WB Run 2.MP4/PASS YVR-WB/\n",
      "Saved Image Frame 5069 to ./out/frames/P-YVR.2-Before AM WB Run 2.MP4/PASS YVR-WB/\n",
      "Saved Image Frame 5070 to ./out/frames/P-YVR.2-Before AM WB Run 2.MP4/PASS YVR-WB/\n",
      "Saved Image Frame 5071 to ./out/frames/P-YVR.2-Before AM WB Run 2.MP4/PASS YVR-WB/\n",
      "Saved Image Frame 5072 to ./out/frames/P-YVR.2-Before AM WB Run 2.MP4/PASS YVR-WB/\n",
      "Saved Image Frame 5073 to ./out/frames/P-YVR.2-Before AM WB Run 2.MP4/PASS YVR-WB/\n",
      "Saved Image Frame 5074 to ./out/frames/P-YVR.2-Before AM WB Run 2.MP4/PASS YVR-WB/\n",
      "Saved Image Frame 5075 to ./out/frames/P-YVR.2-Before AM WB Run 2.MP4/PASS YVR-WB/\n",
      "Saved Image Frame 5076 to ./out/frames/P-YVR.2-Before AM WB Run 2.MP4/PASS YVR-WB/\n",
      "Saved Image Frame 5077 to ./out/frames/P-YVR.2-Before AM WB Run 2.MP4/PASS YVR-WB/\n",
      "Saved Image Frame 5078 to ./out/frames/P-YVR.2-Before AM WB Run 2.MP4/PASS YVR-WB/\n",
      "Saved Image Frame 5079 to ./out/frames/P-YVR.2-Before AM WB Run 2.MP4/PASS YVR-WB/\n",
      "Saved Image Frame 5080 to ./out/frames/P-YVR.2-Before AM WB Run 2.MP4/PASS YVR-WB/\n",
      "Saved Image Frame 5081 to ./out/frames/P-YVR.2-Before AM WB Run 2.MP4/PASS YVR-WB/\n",
      "Saved Image Frame 5082 to ./out/frames/P-YVR.2-Before AM WB Run 2.MP4/PASS YVR-WB/\n",
      "Saved Image Frame 5083 to ./out/frames/P-YVR.2-Before AM WB Run 2.MP4/PASS YVR-WB/\n",
      "Saved Image Frame 5084 to ./out/frames/P-YVR.2-Before AM WB Run 2.MP4/PASS YVR-WB/\n",
      "Saved Image Frame 5085 to ./out/frames/P-YVR.2-Before AM WB Run 2.MP4/PASS YVR-WB/\n",
      "Saved Image Frame 5086 to ./out/frames/P-YVR.2-Before AM WB Run 2.MP4/PASS YVR-WB/\n",
      "Saved Image Frame 5087 to ./out/frames/P-YVR.2-Before AM WB Run 2.MP4/PASS YVR-WB/\n",
      "Saved Image Frame 5088 to ./out/frames/P-YVR.2-Before AM WB Run 2.MP4/PASS YVR-WB/\n",
      "Saved Image Frame 5089 to ./out/frames/P-YVR.2-Before AM WB Run 2.MP4/PASS YVR-WB/\n",
      "Saved Image Frame 5090 to ./out/frames/P-YVR.2-Before AM WB Run 2.MP4/PASS YVR-WB/\n",
      "Saved Image Frame 5091 to ./out/frames/P-YVR.2-Before AM WB Run 2.MP4/PASS YVR-WB/\n",
      "Saved Image Frame 5092 to ./out/frames/P-YVR.2-Before AM WB Run 2.MP4/PASS YVR-WB/\n",
      "Saved Image Frame 5093 to ./out/frames/P-YVR.2-Before AM WB Run 2.MP4/PASS YVR-WB/\n",
      "Saved Image Frame 5094 to ./out/frames/P-YVR.2-Before AM WB Run 2.MP4/PASS YVR-WB/\n"
     ]
    }
   ],
   "source": [
    "video.extract_frames_between(155, 170, \"PASS YVR-WB\") #X seconds to Y seconds, make directory of video_file_name if not made\n",
    "#TODO: convert to SS:MM:HH, SS:MM:HH for start and end times\n",
    "# Add Loader"
   ]
  },
  {
   "cell_type": "code",
   "execution_count": null,
   "id": "d4011de3",
   "metadata": {
    "scrolled": false
   },
   "outputs": [],
   "source": [
    "\n",
    "start_gpx_timestamp = process_ro.get_start_timestamp() \n",
    "start_video_timestamp = video.get_start_timestamp()\n",
    "\n",
    "# TODO: convert to method for quick summary. Start times pretty format, difference in hh:mm:ss, and travel time and length of video and video fps etc.\n",
    "print(f'GPX Start Time:{start_gpx_timestamp}, Video Start Time:{start_video_timestamp}, difference:{start_video_timestamp-start_gpx_timestamp}')  \n",
    "\n",
    "# Necessary for both of these?\n",
    "frames = []\n",
    "itrsxn_desc = []\n",
    "\n",
    "filenames, frames = video.create_pic_list_from_zip(sd_out)\n",
    "print(frames)\n",
    "#video.extract_frame(frames, itrsxn_desc)\n",
    "\n",
    "video.extract_frame(frames, filenames)\n"
   ]
  },
  {
   "cell_type": "code",
   "execution_count": null,
   "id": "f60d55ec",
   "metadata": {},
   "outputs": [],
   "source": [
    "\n",
    "#gpx_video_offset = start_video_utc - start_utc_time # >0 when gpx starts before video. Extract frames of video to estimate this value\n",
    "#print(f'video starts: {gpx_video_offset} seconds after the GPX file')\n",
    "\n",
    "frames = []\n",
    "itrsxn_desc = []\n",
    "print(list(sd_out))\n",
    "frames , itrsxn_desc = video.create_pic_list_from_zip(sd_out)\n",
    "video.extract_frame(frames, itrsxn_desc)\n",
    "\n",
    "\n",
    "#TODO setup loading screen for this.\n",
    "\n"
   ]
  },
  {
   "cell_type": "markdown",
   "id": "281e7544",
   "metadata": {},
   "source": [
    "## TODO's\n",
    "Frames/Out/approaching intersections_stopbar.csv file needs to append not overwrite\n",
    "\n",
    "\n",
    "HH:MM:SS\n",
    "\n",
    "and loading bar should be last frame of list, not total duration of video.\n",
    "\n",
    "picture(s). -saved text\n"
   ]
  }
 ],
 "metadata": {
  "kernelspec": {
   "display_name": "venv",
   "language": "python",
   "name": "venv"
  },
  "language_info": {
   "codemirror_mode": {
    "name": "ipython",
    "version": 3
   },
   "file_extension": ".py",
   "mimetype": "text/x-python",
   "name": "python",
   "nbconvert_exporter": "python",
   "pygments_lexer": "ipython3",
   "version": "3.8.9"
  }
 },
 "nbformat": 4,
 "nbformat_minor": 5
}
