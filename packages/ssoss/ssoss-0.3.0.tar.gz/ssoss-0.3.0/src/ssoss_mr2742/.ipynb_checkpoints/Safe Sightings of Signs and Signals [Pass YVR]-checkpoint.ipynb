{
 "cells": [
  {
   "cell_type": "code",
   "execution_count": null,
   "id": "ad4ed9d9",
   "metadata": {},
   "outputs": [],
   "source": [
    "import os, sys, math\n",
    "from datetime import timedelta # only needed if datetime is used, might be able to be removed\n",
    "from pathlib import Path, PurePath\n",
    "\n",
    "\n",
    "import pandas as pd\n",
    "from pandas import DataFrame\n",
    "# SOS Package imports\n",
    "from process_road_objects import * # !{sys.executable} -m pip install PACKAGE_NAME OR !pip3 install transformers\n",
    "import dro\n",
    "import dod as Driver\n",
    "from dro import Vehicle\n",
    "#from DynamicObjectDriver import Driver\n",
    "from ProcessVideo import *\n"
   ]
  },
  {
   "cell_type": "markdown",
   "id": "d9307099",
   "metadata": {},
   "source": [
    "### File Path Setup and GPX"
   ]
  },
  {
   "cell_type": "code",
   "execution_count": 2,
   "id": "8d104e0a",
   "metadata": {
    "scrolled": false
   },
   "outputs": [
    {
     "name": "stdout",
     "output_type": "stream",
     "text": [
      "Processed 101 lines of CSV file for a total of 101 intersections.\n",
      "Loaded Pickle file out/P-YVR-EB_run_2022-09-17_16-16-05.pkl into Dataframe with 73 rows\n",
      "Processed 74 points of GPX file.\n"
     ]
    },
    {
     "name": "stderr",
     "output_type": "stream",
     "text": [
      "100%|███████████████████████████████████████████████████████████████████| 74/74 [00:00<00:00, 83.40it/s]"
     ]
    },
    {
     "name": "stdout",
     "output_type": "stream",
     "text": [
      "\n",
      "        ---------------------------------------------GPX SUMMARY---------------------------------------------\n",
      "        # GPX File:: in/in/gpx_video/P-YVR-EB_run_2022-09-17_16-16-05.gpx\n",
      "        # Using GPX version: 1.0\n",
      "        # Start time: 2022-09-17 16:04:42.316000\n",
      "        # End time:   2022-09-17 16:15:36.096000\n",
      "        # Total duration: 10:53.78 (MM:SS.ss)\n",
      "        # Total distance: 3.74 miles\n",
      "        # Number of data points: 74\n",
      "        # Avg. Time Gap between data points: 8.83 Seconds\n",
      "        -----------------------------------------------------------------------------------------------------\n",
      "        \n",
      "1.1-SD:270/578.756400647161-------t:1663455911.088-----t_countdown:6.9861359708068695---\n",
      "2.1-SD:270/431.35635466391363-------t:1663455971.168-----t_countdown:4.445717038173284---\n",
      "3.1-SD:270/503.736010875569-------t:1663456073.124-----t_countdown:8.237527514782892---\n",
      "4.1-SD:270/324.8500498459272-------t:1663456146.133-----t_countdown:1.3770855824718597---\n",
      "5.1-SD:270/446.27005902121266-------t:1663456219.105-----t_countdown:3.586209583018055---\n",
      "6.1-SD:325/378.4370429132744-------t:1663456256.1-----t_countdown:1.6114492172475845---\n",
      "7.1-SD:325/671.1012811442287-------t:1663456269.14-----t_countdown:7.059808421268509---\n",
      "8.1-SD:390/844.3534238717839-------t:1663456299.118-----t_countdown:8.250287598218002---\n",
      "9.1-SD:390/502.8584826513984-------t:1663456319.091-----t_countdown:1.6502475497879012---\n",
      "10.1-SD:390/547.6053080217378-------t:1663456336.102-----t_countdown:7.09113586641236---\n",
      "11.1-SD:390/548.7772854586672-------t:1663456361.076-----t_countdown:2.8152798443357585---\n",
      "12.1-SD:390/514.7379764468911-------t:1663456396.087-----t_countdown:2.344209503983491---\n",
      "13.1-SD:625/706.1836860771917-------t:1663456424.097-----t_countdown:1.3841807523476777---\n",
      "79.1-SD:460/814.345549002482-------t:1663456436.09-----t_countdown:5.7949088694184425---\n",
      "14.1-SD:625/829.3008308497266-------t:1663456449.123-----t_countdown:3.042323614635196---\n",
      "15.1-SD:625/705.2325248513966-------t:1663456481.099-----t_countdown:2.584822189660569---\n",
      "16.1-SD:625/659.7520387138397-------t:1663456521.09-----t_countdown:2.671318685853522---\n",
      "17.1-SD:0/726.6671922411464-------t:1663456536.096-----t_countdown:30.314211979820023---\n"
     ]
    },
    {
     "name": "stderr",
     "output_type": "stream",
     "text": [
      "\n"
     ]
    }
   ],
   "source": [
    "\n",
    "# \"P-CA.1_NB_run_2022-09-08_07-23-47\"  # \"K1.2022-10-05_105104_Walnut_Creek\" P-YVR.3-EB-2022-09-01_07-31-27\n",
    "# P-CA.2_SB_run_2022-09-08_07-29-25\n",
    "# P-YVR.3-EB-2022-09-01_07-31-27\n",
    "# P-YVR-EB_run_2022-09-17_16-16-05\n",
    "# I1.2022-09-07_094806_Walnut_Creek\n",
    "# K1.2022-10-05_105104_Walnut_Creek\n",
    "\n",
    "\n",
    "\n",
    "# Initilize DataFrames for Intersection\n",
    "process_ro = ProcessRoadObjects()\n",
    "\n",
    "# Setup CSV Input File paths\n",
    "intersection_csv_file_name = \"WCIntersections-2022-05-28\"  # exclude .csv\n",
    "all_intersections = process_ro.load_intersection_csv(intersection_csv_file_name)\n",
    "\n",
    "# Setup GPX files\n",
    "gpx_filename = \"P-YVR-EB_run_2022-09-17_16-16-05\" \n",
    "# TODO: Try 1.0, if error: Except 1.1 ver.\n",
    "gpx_ver = \"1.0\"\n",
    "gpx_df2 = process_ro.load_gpx_to_obj_df(gpx_filename, gpx_ver)\n",
    "\n",
    "process_ro.gpx_summary()\n",
    "\n",
    "sd_out = process_ro.intersection_sight_distance_timestamps()\n",
    "\n"
   ]
  },
  {
   "cell_type": "markdown",
   "id": "f2c2ab33",
   "metadata": {},
   "source": [
    "Which Frame in the video best cooresponds to a gpx point in the gpx track.\n",
    "\n",
    "look for a gpx point that is well situated with the markings on the ground to find that frame.\n",
    "\n",
    "Need that frame #, and which point in gpx file it cooresponds to.\n",
    "\n",
    "\n",
    "1662646906.90500"
   ]
  },
  {
   "cell_type": "markdown",
   "id": "15dd98ec",
   "metadata": {},
   "source": [
    "### Filter GPX to Locations of interest"
   ]
  },
  {
   "cell_type": "code",
   "execution_count": null,
   "id": "c1ebdc62",
   "metadata": {},
   "outputs": [],
   "source": [
    "# Setup video files\n",
    "\n",
    "\n",
    "video_filename = \"P-YVR WKD PM R1 and R2 EB.MOV\"\n",
    "# K1.IMG_0062.MOV\n",
    "# P-CA.1_CAL Before AM Run 1 & 2.MP4\n",
    "# P-YVR.3-Before AM EB Run 3.MP4\n",
    "# P-YVR WKD PM R1 and R2 EB.MOV\n",
    "\n",
    "\n",
    "video = ProcessVideo(video_filename)\n",
    "# video.sync(video_frame, timestamp) to calculate start of video in utc.\n",
    "video.sync(27045, \"2022-10-05T18:12:29.072Z\")\n",
    "video.vid_summary()\n",
    "\n",
    "#filenames, frames = video.create_pic_list_from_zip(sd_out)\n",
    "#print(frames)\n",
    "\n",
    "#video.extract_frame(frames, itrsxn_desc)\n",
    "#video.extract_frame(frames, filenames)\n",
    "\n"
   ]
  },
  {
   "cell_type": "code",
   "execution_count": null,
   "id": "ead7516c",
   "metadata": {},
   "outputs": [],
   "source": [
    "video.img_overlay_info_box(video_filename, process_ro)"
   ]
  },
  {
   "cell_type": "code",
   "execution_count": null,
   "id": "97b7d194",
   "metadata": {},
   "outputs": [],
   "source": [
    "video.extract_frames_between(460, 480, \"P-YVR WKD\") #X seconds to Y seconds, make directory of video_file_name if not made\n",
    "#TODO: convert to SS:MM:HH, SS:MM:HH for start and end times"
   ]
  },
  {
   "cell_type": "code",
   "execution_count": null,
   "id": "d4011de3",
   "metadata": {
    "scrolled": false
   },
   "outputs": [],
   "source": [
    "\n",
    "start_gpx_timestamp = process_ro.get_start_timestamp() \n",
    "start_video_timestamp = video.get_start_timestamp()\n",
    "\n",
    "# TODO: convert to method for quick summary. Start times pretty format, difference in hh:mm:ss, and travel time and length of video and video fps etc.\n",
    "print(f'GPX Start Time:{start_gpx_timestamp}, Video Start Time:{start_video_timestamp}, difference:{start_video_timestamp-start_gpx_timestamp}')  \n",
    "\n",
    "# Necessary for both of these?\n",
    "frames = []\n",
    "itrsxn_desc = []\n",
    "\n",
    "filenames, frames = video.create_pic_list_from_zip(sd_out)\n",
    "print(frames)\n",
    "#video.extract_frame(frames, itrsxn_desc)\n",
    "\n",
    "video.extract_frame(frames, filenames)\n"
   ]
  },
  {
   "cell_type": "code",
   "execution_count": null,
   "id": "f60d55ec",
   "metadata": {},
   "outputs": [],
   "source": [
    "\n",
    "#gpx_video_offset = start_video_utc - start_utc_time # >0 when gpx starts before video. Extract frames of video to estimate this value\n",
    "#print(f'video starts: {gpx_video_offset} seconds after the GPX file')\n",
    "\n",
    "frames = []\n",
    "itrsxn_desc = []\n",
    "print(list(sd_out))\n",
    "frames , itrsxn_desc = video.create_pic_list_from_zip(sd_out)\n",
    "video.extract_frame(frames, itrsxn_desc)\n",
    "\n",
    "\n",
    "#TODO setup loading screen for this.\n",
    "\n"
   ]
  },
  {
   "cell_type": "markdown",
   "id": "281e7544",
   "metadata": {},
   "source": [
    "## TODO's\n",
    "Frames/Out/approaching intersections_stopbar.csv file needs to append not overwrite\n",
    "\n",
    "\n",
    "HH:MM:SS\n",
    "\n",
    "and loading bar should be last frame of list, not total duration of video.\n",
    "\n",
    "picture(s). -saved text\n"
   ]
  }
 ],
 "metadata": {
  "kernelspec": {
   "display_name": "venv",
   "language": "python",
   "name": "venv"
  },
  "language_info": {
   "codemirror_mode": {
    "name": "ipython",
    "version": 3
   },
   "file_extension": ".py",
   "mimetype": "text/x-python",
   "name": "python",
   "nbconvert_exporter": "python",
   "pygments_lexer": "ipython3",
   "version": "3.8.9"
  }
 },
 "nbformat": 4,
 "nbformat_minor": 5
}
