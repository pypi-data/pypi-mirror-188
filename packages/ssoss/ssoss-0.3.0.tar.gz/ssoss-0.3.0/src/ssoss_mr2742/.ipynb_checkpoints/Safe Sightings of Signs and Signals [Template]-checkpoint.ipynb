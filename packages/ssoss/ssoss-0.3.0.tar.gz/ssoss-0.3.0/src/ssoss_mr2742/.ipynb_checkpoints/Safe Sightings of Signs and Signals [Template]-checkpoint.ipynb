{
 "cells": [
  {
   "cell_type": "code",
   "execution_count": 4,
   "id": "ad4ed9d9",
   "metadata": {},
   "outputs": [],
   "source": [
    "from sos import *\n"
   ]
  },
  {
   "cell_type": "markdown",
   "id": "d9307099",
   "metadata": {},
   "source": [
    "### Input Files and GPX Processing"
   ]
  },
  {
   "cell_type": "code",
   "execution_count": 9,
   "id": "8d104e0a",
   "metadata": {
    "scrolled": false
   },
   "outputs": [
    {
     "name": "stdout",
     "output_type": "stream",
     "text": [
      "Processed 101 lines of CSV file for a total of 101 intersections.\n",
      "Using GPX file: in/gpx_video/P-CA-run_2022-09-08_07-23-47.gpx\n",
      "Processed 21 points of GPX file.\n"
     ]
    },
    {
     "name": "stderr",
     "output_type": "stream",
     "text": [
      "100%|█████████████████████████████████████████| 21/21 [00:00<00:00, 74.49it/s]"
     ]
    },
    {
     "name": "stdout",
     "output_type": "stream",
     "text": [
      "\n",
      "        ----------------------------------------------------------------------\n",
      "                                      GPX SUMMARY\n",
      "        ----------------------------------------------------------------------\n",
      "        # GPX File:: in/in/gpx_video/P-CA-run_2022-09-08_07-23-47.gpx\n",
      "        # Using GPX version: 1.1\n",
      "        # Start time: 2022-09-08 07:21:13.302000\n",
      "        # End time:   2022-09-08 07:23:24.985000\n",
      "        # Total duration: 2:11.68 (MM:SS.ss)\n",
      "        # Total distance: 4569.25 feet\n",
      "        # Number of data points: 21\n",
      "        # Avg. Time Gap between data points: 6.27 Seconds\n",
      "        ----------------------------------------------------------------------\n",
      "        \n",
      "59.0-SD:270/382.99831918713073-------t:1662646879.995-----t_countdown:2.8344373817819175---\n",
      "27.0-SD:270/470.6309700863983-------t:1662646891.842-----t_countdown:4.730173715883785---\n",
      "26.0-SD:270/321.9407067018541-------t:1662646906.905-----t_countdown:1.1269010518424025---\n",
      "25.0-SD:325/431.18467922453044-------t:1662646919.99-----t_countdown:2.3551499487079273---\n",
      "24.0-SD:325/685.4330361871398-------t:1662646931.874-----t_countdown:6.775481855742178---\n",
      "23.0-SD:325/389.7006547804845-------t:1662646966.849-----t_countdown:1.2545206016830124---\n",
      "2.0-SD:325/396.4944096071926-------t:1662646994.982-----t_countdown:1.7060179431085416---\n",
      "3.0-SD:270/650.3727746852209-------t:1662647004.985-----t_countdown:60.102332104470825---\n",
      "100.0-SD:325/652.789060309306-------t:1662647004.985-----t_countdown:51.793630548942104---\n",
      "1.0-SD:215/700.273464055815-------t:1662647004.985-----t_countdown:76.67758798538115---\n",
      "22.0-SD:325/1062.1413644038778-------t:1662647004.985-----t_countdown:116.47498990433401---\n"
     ]
    },
    {
     "name": "stderr",
     "output_type": "stream",
     "text": [
      "\n"
     ]
    }
   ],
   "source": [
    "#  Initilize DataFrames for Intersections\n",
    "RO = ProcessRoadObjects()\n",
    "\n",
    "#  Setup CSV Input file paths\n",
    "intersection_csv_filename = \"WCIntersections-2022-05-28\"  #  Exclude .csv\n",
    "all_intersections = RO.load_intersection_csv(intersection_csv_filename)\n",
    "\n",
    "#  Setup GPX files\n",
    "gpx_filename = \"P-CA-run_2022-09-08_07-23-47\"  #  Exclude .gpx\n",
    "gpx_df = RO.load_gpx_to_obj_df(gpx_filename, use_pickle=False)\n",
    "\n",
    "sd_out = RO.intersection_sight_distance_timestamps()\n"
   ]
  },
  {
   "cell_type": "markdown",
   "id": "f2c2ab33",
   "metadata": {},
   "source": [
    "Which Frame in the video best cooresponds to a gpx point in the gpx track.\n",
    "\n",
    "look for a gpx point that is well situated with the markings on the ground to find that frame.\n",
    "\n",
    "Need that frame #, and which point in gpx file it cooresponds to.\n",
    "\n",
    "\n",
    "1662646906.90500"
   ]
  },
  {
   "cell_type": "markdown",
   "id": "15dd98ec",
   "metadata": {},
   "source": [
    "### Filter GPX to Locations of interest"
   ]
  },
  {
   "cell_type": "code",
   "execution_count": 11,
   "id": "d4011de3",
   "metadata": {
    "scrolled": false
   },
   "outputs": [
    {
     "name": "stdout",
     "output_type": "stream",
     "text": [
      "\n",
      "                ======================================================================\n",
      "                                             VIDEO SUMMARY\n",
      "                ======================================================================\n",
      "                # Video File: in/gpx_video/P-CA.1_CAL Before AM Run 1 & 2.MP4\n",
      "                # Video File Size: 1.86 GB\n",
      "                # Resolution (w x h): 1920.0 x 1080.0 (2.1MP)\n",
      "                # Frames Per Second: 29.97002997002997\n",
      "                # Total Number of Frames: 31620.0\n",
      "                # Total Duration: 17:35.05 (MM:SS.ss)\n",
      "                # Start Time: 2022-09-08 07:20:36.109200\n",
      "                # End Time:   2022-09-08 07:38:11.163200\n",
      "                ======================================================================\n",
      "                \n",
      "[1400, 1812, 2155, 2584, 3073, 3955, 4812, 6613, 6862, 7359, 8551]\n"
     ]
    },
    {
     "name": "stderr",
     "output_type": "stream",
     "text": [
      "Frame Search:  17%|██▊              | 1443/8551 [00:03<00:19, 370.48 Frames/s]"
     ]
    },
    {
     "name": "stdout",
     "output_type": "stream",
     "text": [
      "PICTURE CAPTURED AT 1400: 59.0-California Blvd+Botelho Dr-270-1662646882.829, Saved 1 picture(s) of 11\n"
     ]
    },
    {
     "name": "stderr",
     "output_type": "stream",
     "text": [
      "Frame Search:  22%|███▋             | 1875/8551 [00:05<00:18, 367.44 Frames/s]"
     ]
    },
    {
     "name": "stdout",
     "output_type": "stream",
     "text": [
      "PICTURE CAPTURED AT 1812: 27.0-California Blvd+Olympic Bl-270-1662646896.572, Saved 2 picture(s) of 11\n"
     ]
    },
    {
     "name": "stderr",
     "output_type": "stream",
     "text": [
      "Frame Search:  26%|████▍            | 2219/8551 [00:05<00:17, 354.53 Frames/s]"
     ]
    },
    {
     "name": "stdout",
     "output_type": "stream",
     "text": [
      "PICTURE CAPTURED AT 2155: 26.0-California Blvd+Mt. Diablo Bl-270-1662646908.032, Saved 3 picture(s) of 11\n"
     ]
    },
    {
     "name": "stderr",
     "output_type": "stream",
     "text": [
      "Frame Search:  31%|█████▏           | 2627/8551 [00:07<00:16, 359.24 Frames/s]"
     ]
    },
    {
     "name": "stdout",
     "output_type": "stream",
     "text": [
      "PICTURE CAPTURED AT 2584: 25.0-California Blvd+Bonanza-325-1662646922.345, Saved 4 picture(s) of 11\n"
     ]
    },
    {
     "name": "stderr",
     "output_type": "stream",
     "text": [
      "Frame Search:  37%|██████▏          | 3132/8551 [00:08<00:14, 377.50 Frames/s]"
     ]
    },
    {
     "name": "stdout",
     "output_type": "stream",
     "text": [
      "PICTURE CAPTURED AT 3073: 24.0-California Blvd+Trinity-Civic Drive-325-1662646938.649, Saved 5 picture(s) of 11\n"
     ]
    },
    {
     "name": "stderr",
     "output_type": "stream",
     "text": [
      "Frame Search:  47%|███████▉         | 4007/8551 [00:10<00:12, 368.44 Frames/s]"
     ]
    },
    {
     "name": "stdout",
     "output_type": "stream",
     "text": [
      "PICTURE CAPTURED AT 3955: 23.0-California Blvd+La Cassie-325-1662646968.104, Saved 6 picture(s) of 11\n"
     ]
    },
    {
     "name": "stderr",
     "output_type": "stream",
     "text": [
      "Frame Search:  57%|█████████▋       | 4887/8551 [00:13<00:10, 362.73 Frames/s]"
     ]
    },
    {
     "name": "stdout",
     "output_type": "stream",
     "text": [
      "PICTURE CAPTURED AT 4812: 2.0-California Blvd+Ygnacio Valley Rd-325-1662646996.688, Saved 7 picture(s) of 11\n"
     ]
    },
    {
     "name": "stderr",
     "output_type": "stream",
     "text": [
      "Frame Search:  78%|█████████████▏   | 6654/8551 [00:18<00:05, 360.83 Frames/s]"
     ]
    },
    {
     "name": "stdout",
     "output_type": "stream",
     "text": [
      "PICTURE CAPTURED AT 6613: 100.0-California Blvd+BART Ped-325-1662647056.779, Saved 8 picture(s) of 11\n"
     ]
    },
    {
     "name": "stderr",
     "output_type": "stream",
     "text": [
      "Frame Search:  81%|█████████████▋   | 6916/8551 [00:18<00:04, 352.37 Frames/s]"
     ]
    },
    {
     "name": "stdout",
     "output_type": "stream",
     "text": [
      "PICTURE CAPTURED AT 6862: 3.0-Main St+Ygnacio Valley Rd-270-1662647065.087, Saved 9 picture(s) of 11\n"
     ]
    },
    {
     "name": "stderr",
     "output_type": "stream",
     "text": [
      "Frame Search:  87%|██████████████▋  | 7402/8551 [00:20<00:03, 358.16 Frames/s]"
     ]
    },
    {
     "name": "stdout",
     "output_type": "stream",
     "text": [
      "PICTURE CAPTURED AT 7359: 1.0-Oakland Bl+Ygnacio Valley Rd-215-1662647081.663, Saved 10 picture(s) of 11\n"
     ]
    },
    {
     "name": "stderr",
     "output_type": "stream",
     "text": [
      "Frame Search: 100%|█████████████████| 8551/8551 [00:23<00:00, 367.43 Frames/s]\n",
      "Frame Search:   0%|                             | 0/8551 [00:00<?, ? Frames/s]\n"
     ]
    },
    {
     "name": "stdout",
     "output_type": "stream",
     "text": [
      "PICTURE CAPTURED AT 8551: 22.0-California Blvd+Pringle-325-1662647121.46, Saved 11 picture(s) of 11\n",
      "done processing images\n"
     ]
    }
   ],
   "source": [
    "#  Setup video files\n",
    "video_filename = \"P-CA.1_CAL Before AM Run 1 & 2.MP4\"\n",
    "\n",
    "#  Initilize video file\n",
    "video = ProcessVideo(video_filename)\n",
    "\n",
    "#  Sync Video: video.sync( video_frame, timestamp) \n",
    "video.sync(2364, \"2022-09-08T14:21:54.988Z\")\n",
    "video.vid_summary()\n",
    "\n",
    "filenames, frames = video.create_pic_list_from_zip(sd_out)\n",
    "print(frames)\n",
    "\n",
    "video.extract_frame(frames, filenames)\n",
    "video.img_overlay_info_box(video_filename, RO)\n"
   ]
  },
  {
   "cell_type": "code",
   "execution_count": null,
   "id": "97b7d194",
   "metadata": {},
   "outputs": [],
   "source": [
    "video.extract_frames_between(2, 5, \"P-CA.1\") #X seconds to Y seconds, make directory of video_file_name if not made\n",
    "#TODO: convert to SS:MM:HH, SS:MM:HH for start and end times"
   ]
  }
 ],
 "metadata": {
  "kernelspec": {
   "display_name": "sos_env2",
   "language": "python",
   "name": "sos_env2"
  },
  "language_info": {
   "codemirror_mode": {
    "name": "ipython",
    "version": 3
   },
   "file_extension": ".py",
   "mimetype": "text/x-python",
   "name": "python",
   "nbconvert_exporter": "python",
   "pygments_lexer": "ipython3",
   "version": "3.8.9"
  }
 },
 "nbformat": 4,
 "nbformat_minor": 5
}
