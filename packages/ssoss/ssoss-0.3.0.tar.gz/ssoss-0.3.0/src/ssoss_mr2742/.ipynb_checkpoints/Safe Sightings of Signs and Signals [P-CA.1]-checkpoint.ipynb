{
 "cells": [
  {
   "cell_type": "code",
   "execution_count": 1,
   "id": "ad4ed9d9",
   "metadata": {},
   "outputs": [],
   "source": [
    "import os\n",
    "from pathlib import Path, PurePath\n",
    "import pandas as pd\n",
    "from pandas import DataFrame\n",
    "# SOS Package imports\n",
    "from process_road_objects import * # !{sys.executable} -m pip install PACKAGE_NAME\n",
    "import dro\n",
    "import dod as Driver\n",
    "from dro import Vehicle\n",
    "#from DynamicObjectDriver import Driver\n",
    "from ProcessVideo import *"
   ]
  },
  {
   "cell_type": "markdown",
   "id": "b01c91bb",
   "metadata": {},
   "source": [
    "### File Path Setup and GPX and Video Initilization"
   ]
  },
  {
   "cell_type": "code",
   "execution_count": 2,
   "id": "8d104e0a",
   "metadata": {},
   "outputs": [
    {
     "name": "stdout",
     "output_type": "stream",
     "text": [
      "Processed 101 lines of CSV file for a total of 101 intersections.\n",
      "in/gpx_video/P-CA.1_run_2022-09-08_07-23-47\n",
      "Using GPX file: in/gpx_video/P-CA.1_run_2022-09-08_07-23-47.gpx\n",
      "Loaded 21 rows of GPX file (in/gpx_video/P-CA.1_run_2022-09-08_07-23-47.gpx) into Dataframe\n"
     ]
    }
   ],
   "source": [
    "# Setup base directory files\n",
    "in_directory_base = PurePath(\"./in/\")\n",
    "out_directory_base = PurePath(\"./out/\")\n",
    "\n",
    "# Setup CSV Input File paths\n",
    "intersection_csv_file_name = \"WCIntersections-2022-05-28\"  # exclude .csv\n",
    "# Initilize DataFrames for Intersection\n",
    "itrsxns = ProcessRoadObjects(in_directory_base, out_directory_base)\n",
    "itrsxn_df = itrsxns.load_intersection_csv(intersection_csv_file_name)\n",
    "\n",
    "#out_file_open_path = os.path.join(in_directory_base, directory_date + \"\")   #is this necessary?\n",
    "\n",
    "\n",
    "# Setup GPX files\n",
    "gpx_directory = PurePath(\"gpx_video/\")\n",
    "gpx_filename = \"P-CA.1_run_2022-09-08_07-23-47\"\n",
    "gpx_directory_path = in_directory_base / gpx_directory\n",
    "gpx_file_path = gpx_directory_path / gpx_filename\n",
    "print(gpx_file_path)\n",
    "\n",
    "# Initilize DataFrames for GPX file\n",
    "gpx_run = ProcessRoadObjects(gpx_directory_path, out_directory_base)\n",
    "gpx_df = gpx_run.load_gpx_to_df(gpx_filename, use_pickle=False)\n",
    "\n",
    "\n",
    "#TODO: show loading frame for pickle or gpx file.\n"
   ]
  },
  {
   "cell_type": "markdown",
   "id": "7388f38d",
   "metadata": {},
   "source": [
    "### Filter GPX to Locations of interest"
   ]
  },
  {
   "cell_type": "code",
   "execution_count": 3,
   "id": "d4011de3",
   "metadata": {},
   "outputs": [
    {
     "name": "stdout",
     "output_type": "stream",
     "text": [
      "GPX TT:0:02:11\n"
     ]
    },
    {
     "name": "stderr",
     "output_type": "stream",
     "text": [
      "Loading GPX:: 100%|█████████████████████████████████████████████| 18/18 [00:02<00:00,  8.49GPX Points/s]"
     ]
    },
    {
     "name": "stdout",
     "output_type": "stream",
     "text": [
      "WRITING DICT TO DATAFRAME\n",
      "Exported data frame to CSV (out/P-CA.1_run_2022-09-08_07-23-47.csv) and Pickle (out/P-CA.1_run_2022-09-08_07-23-47.p)\n",
      "ApproachSB_DF:    id  appr_dir     timestamp  time_delta                location        spd  \\\n",
      "0   59         2  1.662647e+09      10.000  37.894243, -122.061644  27.854353   \n",
      "1   59         0  1.662647e+09       5.974  37.894874, -122.062027  29.101295   \n",
      "2   27         0  1.662647e+09       5.030   37.89543, -122.062385  30.811171   \n",
      "3   78         0  1.662647e+09       5.007  37.895994, -122.062735  31.166544   \n",
      "4   26         0  1.662647e+09       5.026    37.89653, -122.06311  30.275923   \n",
      "5   42         0  1.662647e+09       8.083  37.897512, -122.063324  30.610873   \n",
      "6   25         0  1.662647e+09       5.002  37.898139, -122.063146  31.900689   \n",
      "7   25         0  1.662647e+09       5.003  37.898759, -122.063199  30.839782   \n",
      "8   25         0  1.662647e+09       6.881  37.899588, -122.063578  31.815315   \n",
      "9   24         0  1.662647e+09       9.011   37.900605, -122.06404  29.782547   \n",
      "10  24         0  1.662647e+09       6.005  37.900982, -122.064188  16.324548   \n",
      "11  34         0  1.662647e+09       8.081  37.901237, -122.064296   8.264296   \n",
      "12  23         0  1.662647e+09       5.017    37.901753, -122.0645  26.760230   \n",
      "13  23         0  1.662647e+09       6.861   37.90261, -122.064722  31.659996   \n",
      "14  23         0  1.662647e+09       5.008  37.903236, -122.064977  32.612653   \n",
      "15   2         0  1.662647e+09      16.042  37.903481, -122.065085   4.016616   \n",
      "16   2         0  1.662647e+09       7.083  37.903952, -122.065284  17.411126   \n",
      "17   2         0  1.662647e+09       5.001  37.904492, -122.065547  28.736809   \n",
      "\n",
      "      distance     bearing  approaching  \n",
      "0  -122.908625  163.216785        False  \n",
      "1  -158.965811  334.406130        False  \n",
      "2   -26.354550  333.064294        False  \n",
      "3   163.387290  333.908622         True  \n",
      "4    51.940707  331.097242         True  \n",
      "5   332.379053  350.242499         True  \n",
      "6   106.184679   12.626978         True  \n",
      "7  -112.569252  356.140937        False  \n",
      "8  -213.747011  340.162817        False  \n",
      "9   -33.166277  340.279147        False  \n",
      "10 -176.514603  342.788602        False  \n",
      "11  487.008333  341.520615         True  \n",
      "12  381.638384  342.674316         True  \n",
      "13   64.700655  348.447825         True  \n",
      "14 -174.606664  342.181595        False  \n",
      "15  252.332962  340.821034         True  \n",
      "16   71.494410  341.562883         True  \n",
      "17 -139.179592  338.978675        False  \n",
      "    id  appr_dir     timestamp  time_delta                location        spd  \\\n",
      "0   59         2  1.662647e+09      10.000  37.894243, -122.061644  27.854353   \n",
      "1   59         0  1.662647e+09       5.974  37.894874, -122.062027  29.101295   \n",
      "2   27         0  1.662647e+09       5.030   37.89543, -122.062385  30.811171   \n",
      "3   78         0  1.662647e+09       5.007  37.895994, -122.062735  31.166544   \n",
      "4   26         0  1.662647e+09       5.026    37.89653, -122.06311  30.275923   \n",
      "5   42         0  1.662647e+09       8.083  37.897512, -122.063324  30.610873   \n",
      "6   25         0  1.662647e+09       5.002  37.898139, -122.063146  31.900689   \n",
      "7   25         0  1.662647e+09       5.003  37.898759, -122.063199  30.839782   \n",
      "8   25         0  1.662647e+09       6.881  37.899588, -122.063578  31.815315   \n",
      "9   24         0  1.662647e+09       9.011   37.900605, -122.06404  29.782547   \n",
      "10  24         0  1.662647e+09       6.005  37.900982, -122.064188  16.324548   \n",
      "11  34         0  1.662647e+09       8.081  37.901237, -122.064296   8.264296   \n",
      "12  23         0  1.662647e+09       5.017    37.901753, -122.0645  26.760230   \n",
      "13  23         0  1.662647e+09       6.861   37.90261, -122.064722  31.659996   \n",
      "14  23         0  1.662647e+09       5.008  37.903236, -122.064977  32.612653   \n",
      "15   2         0  1.662647e+09      16.042  37.903481, -122.065085   4.016616   \n",
      "16   2         0  1.662647e+09       7.083  37.903952, -122.065284  17.411126   \n",
      "17   2         0  1.662647e+09       5.001  37.904492, -122.065547  28.736809   \n",
      "\n",
      "      distance     bearing  approaching  \n",
      "0  -122.908625  163.216785        False  \n",
      "1  -158.965811  334.406130        False  \n",
      "2   -26.354550  333.064294        False  \n",
      "3   163.387290  333.908622         True  \n",
      "4    51.940707  331.097242         True  \n",
      "5   332.379053  350.242499         True  \n",
      "6   106.184679   12.626978         True  \n",
      "7  -112.569252  356.140937        False  \n",
      "8  -213.747011  340.162817        False  \n",
      "9   -33.166277  340.279147        False  \n",
      "10 -176.514603  342.788602        False  \n",
      "11  487.008333  341.520615         True  \n",
      "12  381.638384  342.674316         True  \n",
      "13   64.700655  348.447825         True  \n",
      "14 -174.606664  342.181595        False  \n",
      "15  252.332962  340.821034         True  \n",
      "16   71.494410  341.562883         True  \n",
      "17 -139.179592  338.978675        False  \n",
      "heuristic filter\n",
      "heuristic filter\n",
      "heuristic filter\n",
      "heuristic filter\n",
      "heuristic filter\n",
      "heuristic filter\n",
      "approach filter\n",
      "t-adjust filter\n",
      "seek_sd_Info:25.0-California Blvd+Bonanza-325ft, time adjust:0.1313029445001166\n",
      "heuristic filter\n",
      "heuristic filter\n",
      "heuristic filter\n",
      "heuristic filter\n",
      "heuristic filter\n",
      "events:   id  appr_dir     timestamp                location        spd    distance  \\\n",
      "0  25         0  1.662647e+09  37.898139, -122.063146  31.900689  106.184679   \n",
      "\n",
      "   t_adjust                         string_desc  \n",
      "0  0.131303  25.0-California Blvd+Bonanza-325ft  \n"
     ]
    },
    {
     "name": "stderr",
     "output_type": "stream",
     "text": [
      "\n"
     ]
    }
   ],
   "source": [
    "d = dod.Driver(itrsxn_df, gpx_df)\n",
    "start_utc_time = d.get_start_utc() \n",
    "\n",
    "# TODO: convert to method for quick summary. Start times pretty format, difference in hh:mm:ss, and travel time and length of video and video fps etc.\n",
    "#print(f'GPX Start Time:{\"fix\"}, Video Start Time:{start_video_utc}')  \n",
    "print(f'GPX TT:{d.get_travel_time()}')\n",
    "\n",
    "veh = d.get_vehicle()\n",
    "processed_gpx_df = veh.drive_gpx_stop_bar(gpx_filename, False) # try false if pickle file don't work\n",
    "\n",
    "print(processed_gpx_df)\n",
    "\n",
    "#veh.drive_gpx_stop_bar(gpx_directory, gpx_filename, out_directory_base)\n",
    "sight_distance_events_df = veh.seek_sd(processed_gpx_df)\n",
    "print(f'events:{sight_distance_events_df}')\n"
   ]
  },
  {
   "cell_type": "code",
   "execution_count": null,
   "id": "9bfc7b1c",
   "metadata": {},
   "outputs": [],
   "source": [
    "# Setup video files\n",
    "video_directory = gpx_directory\n",
    "video_filename = \"P-CA.1_CAL Before AM Run 1 & 2.MP4\"\n",
    "video_file_path = in_directory_base / video_directory / video_filename\n",
    "# Initilize Video File\n",
    "video = ProcessVideo(video_file_path)\n",
    "video.set_start_utc(1662646836.601) # Calculate time using Video Sync Process\n",
    "\n",
    "video.get_info()"
   ]
  },
  {
   "cell_type": "code",
   "execution_count": null,
   "id": "ddb04cfa",
   "metadata": {},
   "outputs": [],
   "source": [
    "video.extract_frames_between(60, 90, \"P-CA.1\") #X seconds to Y seconds, make directory of video_file_name if not made\n",
    "#TODO: add loading frame and remove for loop print stantments\n",
    "# TODO: fix folders, add's one too many folders."
   ]
  },
  {
   "cell_type": "code",
   "execution_count": null,
   "id": "f60d55ec",
   "metadata": {},
   "outputs": [],
   "source": [
    "# TODO: include video FPS, Frame Count, and Duration and when video starts before or after GPX in nice summary table.\n",
    "# use python package wih RICH or something else.\n",
    "#gpx_video_offset = start_video_utc - start_utc_time # >0 when gpx starts before video. Extract frames of video to estimate this value\n",
    "#print(f'video starts: {gpx_video_offset} seconds after the GPX file')\n",
    "\n",
    "frames = []\n",
    "itrsxn_desc = []\n",
    "frames , itrsxn_desc = video.create_pic_list(sight_distance_events_df)\n",
    "print(frames)\n",
    "video.extract_frame(frames, itrsxn_desc)\n",
    "\n",
    "\n",
    "#TODO setup loading screen for this.\n",
    "\n"
   ]
  },
  {
   "cell_type": "code",
   "execution_count": null,
   "id": "e72d936f",
   "metadata": {},
   "outputs": [],
   "source": []
  },
  {
   "cell_type": "markdown",
   "id": "e14c0c5d",
   "metadata": {},
   "source": [
    "## TODO's\n",
    "Frames/Out/approaching intersections_stopbar.csv file needs to append not overwrite\n"
   ]
  }
 ],
 "metadata": {
  "kernelspec": {
   "display_name": "venv",
   "language": "python",
   "name": "venv"
  },
  "language_info": {
   "codemirror_mode": {
    "name": "ipython",
    "version": 3
   },
   "file_extension": ".py",
   "mimetype": "text/x-python",
   "name": "python",
   "nbconvert_exporter": "python",
   "pygments_lexer": "ipython3",
   "version": "3.8.9"
  }
 },
 "nbformat": 4,
 "nbformat_minor": 5
}
